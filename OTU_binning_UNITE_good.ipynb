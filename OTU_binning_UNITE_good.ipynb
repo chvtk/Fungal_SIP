{
 "cells": [
  {
   "cell_type": "code",
   "execution_count": 1,
   "metadata": {
    "collapsed": false
   },
   "outputs": [],
   "source": [
    "# Imports a parser from cogent\n",
    "from cogent.parse.fasta import MinimalFastaParser as parse"
   ]
  },
  {
   "cell_type": "code",
   "execution_count": 2,
   "metadata": {
    "collapsed": false
   },
   "outputs": [],
   "source": [
    "# applies for the whole segment\n",
    "nprocs = 10"
   ]
  },
  {
   "cell_type": "code",
   "execution_count": 3,
   "metadata": {
    "collapsed": false
   },
   "outputs": [
    {
     "name": "stdout",
     "output_type": "stream",
     "text": [
      ">D3013.24_0\r\n",
      "TTCATAATCAAAGTGTTTTTATGGCACTTTTAAAAAAATCCATATCCACCTTGTGTGCAATGTCATCTCACTGGAGGCCAGCTGGCTGTCAAAAGCCCGTTTGGTCACCTTTGGGATTTATATCTACTCAGAACTTTAGTGATTTTGTCTGAAAAATATTATGAATAACTTAATTCAAAATACAACTTTCAACAACGGATCTCTTGGCTCTCGC\r\n",
      ">D1412.20_1\r\n",
      "TTAACACTAATCCACACACTACTCAACCTAGCCTTTAGTTGCAGCCGAGGTGTTCGCCGTCAGGCAGCGCCGCAGCAGCAACCACAACAAACCTAATCTCAAAGGACTTTAACTAAGCCTTACCACAAAACCAAATTCTCAACGATGGATATCTTGGTTCCCAT\r\n",
      ">D1412.18_2\r\n",
      "TTACCGAGTTTACACCTCCCAAACCCCTGTGAACATACCTTAATGTTGCCTCGGCGGATCAGCCCGCGCCCCGTAAAACGGGACGGCCCGCCAGAGGACCCAAACTCTAATGTTTCTTATTGTAACTTCTGAGTAAAACAAACAAATAAATCAAAACTTTCAACAACGGATCTCTTGGTTCTGGC\r\n",
      ">D3012.10_3\r\n",
      "TTACAGAGTTGCAAAACTCCCTAAACCATTGTGAACGTTACCTAAACCGTTGCTTCGGCGGGCGGCCCCGGGGTTCTCCCCGGGAGCCCCCGGGCCCCATCCCGGGCGCCCGCCGGAGTTCACCAAACTATTGATAATTTAGGGCCTCTCTGAGTCTTCTGTACCGAATAAGTCAAAACTTTCAACAACGGATCTCTTGGTTCTGGC\r\n",
      ">D713.15_4\r\n",
      "TTACAGAGTTGCAAAACTCCCTAAACCATTGTGAACGTTACCTAAACCGTTGCTTCGGCGGGCGGCCCCGGGGTTTACCCCCCGGGCGCCCCTGGGCCCCACCGCGGGCGCCCGCCGGAGGTCACCAAACTCTTGATAATTTATGGCCTCTCTGAGTCTTCTGTACTGAATAAGTCAAAACTTTCAACAACGGATCTCTTGGTTCTGGC\r\n"
     ]
    }
   ],
   "source": [
    "# Checking out data file.\n",
    "# This file was created using the QC_basic notebook.\n",
    "!head data/finalQC.fasta"
   ]
  },
  {
   "cell_type": "code",
   "execution_count": 4,
   "metadata": {
    "collapsed": false
   },
   "outputs": [],
   "source": [
    "%%bash\n",
    "# Running the seq separation on mothur instead\n",
    "\n",
    "mothur \"#unique.seqs(fasta=data/finalQC.fasta)\" > /dev/null"
   ]
  },
  {
   "cell_type": "code",
   "execution_count": 5,
   "metadata": {
    "collapsed": false
   },
   "outputs": [],
   "source": [
    "# Making a dictionary of the names files, splitting it into the first (ID) and second (commas list of all seqs in it)\n",
    "# Then it counts their lengths and saves it in the dictionary\n",
    "\n",
    "counts = {}\n",
    "\n",
    "with open(\"data/finalQC.names\") as f:\n",
    "    for line in f:\n",
    "        seedID, seqIDs = line.split(\"\\t\")\n",
    "        count = len(seqIDs.split(\",\"))\n",
    "        counts[seedID] = count        "
   ]
  },
  {
   "cell_type": "code",
   "execution_count": 6,
   "metadata": {
    "collapsed": false
   },
   "outputs": [],
   "source": [
    "# Adds the counts from this dictionary to our finalQC.unique file so it looks like a usearch file with \"size=XXX\"\n",
    "\n",
    "with open(\"data/finalQC.unique.usearch_names.fasta\", \"w\") as f:\n",
    "    for n, s in parse(open(\"data/finalQC.unique.fasta\")):\n",
    "        f.write(\">%s;size=%s;\\n%s\\n\"%(n,counts[n],s))  "
   ]
  },
  {
   "cell_type": "code",
   "execution_count": 7,
   "metadata": {
    "collapsed": false
   },
   "outputs": [
    {
     "name": "stdout",
     "output_type": "stream",
     "text": [
      ">D3013.24_0;size=24757;\r\n",
      "TTCATAATCAAAGTGTTTTTATGGCACTTTTAAAAAAATCCATATCCACCTTGTGTGCAATGTCATCTCACTGGAGGCCAGCTGGCTGTCAAAAGCCCGTTTGGTCACCTTTGGGATTTATATCTACTCAGAACTTTAGTGATTTTGTCTGAAAAATATTATGAATAACTTAATTCAAAATACAACTTTCAACAACGGATCTCTTGGCTCTCGC\r\n",
      ">D1412.20_1;size=11899;\r\n",
      "TTAACACTAATCCACACACTACTCAACCTAGCCTTTAGTTGCAGCCGAGGTGTTCGCCGTCAGGCAGCGCCGCAGCAGCAACCACAACAAACCTAATCTCAAAGGACTTTAACTAAGCCTTACCACAAAACCAAATTCTCAACGATGGATATCTTGGTTCCCAT\r\n",
      ">D1412.18_2;size=19;\r\n",
      "TTACCGAGTTTACACCTCCCAAACCCCTGTGAACATACCTTAATGTTGCCTCGGCGGATCAGCCCGCGCCCCGTAAAACGGGACGGCCCGCCAGAGGACCCAAACTCTAATGTTTCTTATTGTAACTTCTGAGTAAAACAAACAAATAAATCAAAACTTTCAACAACGGATCTCTTGGTTCTGGC\r\n",
      ">D3012.10_3;size=1;\r\n",
      "TTACAGAGTTGCAAAACTCCCTAAACCATTGTGAACGTTACCTAAACCGTTGCTTCGGCGGGCGGCCCCGGGGTTCTCCCCGGGAGCCCCCGGGCCCCATCCCGGGCGCCCGCCGGAGTTCACCAAACTATTGATAATTTAGGGCCTCTCTGAGTCTTCTGTACCGAATAAGTCAAAACTTTCAACAACGGATCTCTTGGTTCTGGC\r\n",
      ">D713.15_4;size=33618;\r\n",
      "TTACAGAGTTGCAAAACTCCCTAAACCATTGTGAACGTTACCTAAACCGTTGCTTCGGCGGGCGGCCCCGGGGTTTACCCCCCGGGCGCCCCTGGGCCCCACCGCGGGCGCCCGCCGGAGGTCACCAAACTCTTGATAATTTATGGCCTCTCTGAGTCTTCTGTACTGAATAAGTCAAAACTTTCAACAACGGATCTCTTGGTTCTGGC\r\n"
     ]
    }
   ],
   "source": [
    "!head data/finalQC.unique.usearch_names.fasta"
   ]
  },
  {
   "cell_type": "code",
   "execution_count": 8,
   "metadata": {
    "collapsed": false
   },
   "outputs": [
    {
     "name": "stdout",
     "output_type": "stream",
     "text": [
      "2.1G\tdata/finalQC.fasta\r\n"
     ]
    }
   ],
   "source": [
    "# Chuck looking to see how many Gb this file is.\n",
    "!du -h data/finalQC.fasta"
   ]
  },
  {
   "cell_type": "code",
   "execution_count": 9,
   "metadata": {
    "collapsed": false
   },
   "outputs": [
    {
     "name": "stdout",
     "output_type": "stream",
     "text": [
      "usearch v7.0.1090_i86linux32, 4.0Gb RAM (132Gb total), 40 cores\n",
      "(C) Copyright 2013 Robert C. Edgar, all rights reserved.\n",
      "http://drive5.com/usearch\n",
      "\n",
      "Licensed to: chuck.peperanney@gmail.com\n",
      "\n",
      "00:00 2.1Mb Reading data/finalQC.unique.usearch_names.fasta, 223Mb\n",
      "00:00 225Mb 919410 (919.4k) seqs, min 50, avg 216, max 541nt\n",
      "00:00 236Mb Getting sizes\n",
      "00:01 243Mb Sorting 175798 sequences\n",
      "00:02 244Mb  100.0% Writing data/finalQC.unique_sorted.fasta\n"
     ]
    }
   ],
   "source": [
    "# Sequences are sorted by size\n",
    "# Here the size of clusters - we are excluding the singletons here\n",
    "# You would change minsize to 1 if you wanted to include singletons\n",
    "# Or, you know, just not do this step.\n",
    "# But you should just get rid of them.\n",
    "!usearch -sortbysize data/finalQC.unique.usearch_names.fasta -output data/finalQC.unique_sorted.fasta -minsize 2"
   ]
  },
  {
   "cell_type": "code",
   "execution_count": 10,
   "metadata": {
    "collapsed": false
   },
   "outputs": [
    {
     "name": "stdout",
     "output_type": "stream",
     "text": [
      ">D3012.6_28;size=690611;\r\n",
      "TTACAGAGTCGCAATACTCCGTAAACCATTGTGAACGTTACCTAACCGTTGCTTCGGCGGGCGGCGCCCGGGCCCTCGCG\r\n",
      "GCCCGCGGCGCCCCCCGGCCCCTGCGGGCGCCCGCCGGAGGTAGACCAAACTCTTGAATTACATGGCCTCTCTGAGTCTT\r\n",
      "CTGTACTGAATAAGTCAAAACTTTCAACAACGGATCTCTTGGTTCTGGC\r\n",
      ">D3013.8_50;size=590148;\r\n",
      "TTACAGAGTTGCAAAACTCCCTAAACCATTGTGAACGTTACCTTCAAACCGTTGCTTCGGCGGGCGGCCCGGGTCCGCCC\r\n",
      "GGTGCCCCCTGGCCCCCTAGCGGGGCGCCCGCCGGAGGAAACCCAACTCTTGATTATTATGGCCTCTCTGAGTCTTCTGT\r\n",
      "ACTGAATAAGTCAAAACTTTCAACAACGGATCTCTTGGTTCTGGC\r\n",
      ">D3013.6_37;size=320432;\r\n",
      "TTACTGAGTACTACACTCTCTACCCTTTGTGAACTATTATACCTGTTGCTTCGGCGGCGCCCGCGAGGGTGCCCGCCGGT\r\n"
     ]
    }
   ],
   "source": [
    "# Checking data\n",
    "# You can see here, the first two sequences we saw above are now gone.\n",
    "!head data/finalQC.unique_sorted.fasta"
   ]
  },
  {
   "cell_type": "code",
   "execution_count": 11,
   "metadata": {
    "collapsed": false
   },
   "outputs": [
    {
     "name": "stdout",
     "output_type": "stream",
     "text": [
      "usearch v7.0.1090_i86linux32, 4.0Gb RAM (132Gb total), 40 cores\n",
      "(C) Copyright 2013 Robert C. Edgar, all rights reserved.\n",
      "http://drive5.com/usearch\n",
      "\n",
      "Licensed to: chuck.peperanney@gmail.com\n",
      "\n",
      "02:59 331Mb  100.0% 38880 OTUs\n",
      "                              \n",
      "Input seqs  175798 (175.8k)\n",
      "      OTUs  38880 (38.9k)\n",
      "   Members  134029 (134.0k)\n",
      "  Chimeras  2889\n",
      "   Max mem  331Mb\n",
      "      Time  02:59\n",
      "Throughput  982.1 seqs/sec.\n",
      "\n"
     ]
    }
   ],
   "source": [
    "# This is the clustering command.\n",
    "# Default is 97% minimum ID.\n",
    "# Not recommended to use more than 97%.\n",
    "# Creates the centroids, or \"seeds\"\n",
    "# Then you can take them out\n",
    "!usearch -cluster_otus data/finalQC.unique_sorted.fasta -otus data/otus.fasta"
   ]
  },
  {
   "cell_type": "code",
   "execution_count": 12,
   "metadata": {
    "collapsed": false
   },
   "outputs": [],
   "source": [
    "# Making another file\n",
    "# Figure this out (what is this?)\n",
    "# This is a script (fasta_number.py) that replaces fasta names with XXX1, XXX2, etc.\n",
    "# In our case, it is replacing the names with OTU.1, OTU.2, etc., and outputs it into a file called otusn.fasta\n",
    "!/opt/bioinfo/edgar_python_scripts/fasta_number.py data/otus.fasta OTU. > data/otusn.fasta"
   ]
  },
  {
   "cell_type": "code",
   "execution_count": 13,
   "metadata": {
    "collapsed": false
   },
   "outputs": [
    {
     "name": "stdout",
     "output_type": "stream",
     "text": [
      ">OTU.1\r\n",
      "TTACAGAGTCGCAATACTCCGTAAACCATTGTGAACGTTACCTAACCGTTGCTTCGGCGGGCGGCGCCCGGGCCCTCGCG\r\n",
      "GCCCGCGGCGCCccccGGCCCCTGCGGGCGCCCGCCGGAGGTAGACCAAACTCTTGAATTACATGGCCTctctGAGTCTT\r\n",
      "CTGTACTGAATAAGTCAAAACTTTCAACAACGGATCTCTTGGTTCTGGC\r\n",
      ">OTU.2\r\n",
      "TTACAGAGTTGCAAAACTCCCTAAACCATTGTGAACGTTACCTTCAAACCGTTGCTTCGGCGGGCGGCCCGGGTCCGCCC\r\n",
      "GGTGCCcccTGGCCcccTAGCGGGGCGCCCGCCGGAGGAAACCCAACTCTTGATTATTATGGCCTctctGAGTCTTCTGT\r\n",
      "ACTGAATAAGTCAAAACTTTCAACAACGGATCTCTTGGTTCTGGC\r\n",
      ">OTU.3\r\n",
      "TTACTGAGTACTACACTctctACCCTTTGTGAACTATTATACCTGTTGCTTCGGCGGCGCCCGCGAGGGTGCCCGCCGGT\r\n"
     ]
    }
   ],
   "source": [
    "!head data/otusn.fasta"
   ]
  },
  {
   "cell_type": "markdown",
   "metadata": {},
   "source": [
    "### Removing Chloroplast, Bacterial, and Archaeal sequences"
   ]
  },
  {
   "cell_type": "code",
   "execution_count": 14,
   "metadata": {
    "collapsed": false
   },
   "outputs": [],
   "source": [
    "# You do need to assign taxonomy in order to pull out the Euks., etc.\n",
    "# I could cp these files from the server to wherever I need them.\n",
    "# Input is your fasta file\n",
    "# Output is a fasta with taxonomy assinged (still working with unique seqs)\n",
    "# This didn't work first, because Chuck had to delete a \"jobs\" folder in the tmp directory.\n",
    "\n",
    "!parallel_assign_taxonomy_uclust.py \\\n",
    "-r data/tmp/db/its_12_11_otus/rep_set/97_otus.fasta \\\n",
    "-t data/tmp/db/its_12_11_otus/taxonomy/otu_taxonomy.txt \\\n",
    "-O 10 \\\n",
    "-i data/otusn.fasta \\\n",
    "-o data/otusn_tax"
   ]
  },
  {
   "cell_type": "code",
   "execution_count": 15,
   "metadata": {
    "collapsed": false
   },
   "outputs": [],
   "source": [
    "# This makes a file of what we want to remove\n",
    "# Could change this to pull out different groups.\n",
    "# These primers actually had good Archaeal targets - so, it would be okay to include them.\n",
    "!egrep \"Chloroplast|Bacteria|Archaea\" \\\n",
    "data/otusn_tax/otusn_tax_assignments.txt \\\n",
    "| awk '{print $1}' > data/to_remove_tax.accnos"
   ]
  },
  {
   "cell_type": "code",
   "execution_count": 16,
   "metadata": {
    "collapsed": false
   },
   "outputs": [
    {
     "name": "stdout",
     "output_type": "stream",
     "text": [
      "0 data/to_remove_tax.accnos\r\n"
     ]
    }
   ],
   "source": [
    "# wc is number of lines of the taxa that will be removed\n",
    "!wc -l data/to_remove_tax.accnos"
   ]
  },
  {
   "cell_type": "code",
   "execution_count": 17,
   "metadata": {
    "collapsed": false
   },
   "outputs": [],
   "source": [
    "# Looking at what you're removing\n",
    "!head data/to_remove_tax.accnos"
   ]
  },
  {
   "cell_type": "code",
   "execution_count": 18,
   "metadata": {
    "collapsed": false
   },
   "outputs": [
    {
     "name": "stdout",
     "output_type": "stream",
     "text": [
      "\u001b[H\u001b[2J\n",
      "\n",
      "\n",
      "\n",
      "\n",
      "\n",
      "mothur v.1.35.1\n",
      "Last updated: 03/31/2015\n",
      "\n",
      "by\n",
      "Patrick D. Schloss\n",
      "\n",
      "Department of Microbiology & Immunology\n",
      "University of Michigan\n",
      "pschloss@umich.edu\n",
      "http://www.mothur.org\n",
      "\n",
      "When using, please cite:\n",
      "Schloss, P.D., et al., Introducing mothur: Open-source, platform-independent, community-supported software for describing and comparing microbial communities. Appl Environ Microbiol, 2009. 75(23):7537-41.\n",
      "\n",
      "Distributed under the GNU General Public License\n",
      "\n",
      "Type 'help()' for information on the commands that are available\n",
      "\n",
      "Type 'quit()' to exit program\n",
      "\n",
      "\n",
      "\n",
      "mothur > remove.seqs(fasta=data/otusn.fasta, accnos=data/to_remove_tax.accnos)\n",
      "[ERROR]: data/to_remove_tax.accnos is blank, aborting.\n",
      "You have no valid accnos file and accnos is required.\n",
      "[ERROR]: did not complete remove.seqs.\n",
      "\n",
      "mothur > quit()\n"
     ]
    }
   ],
   "source": [
    "%%bash\n",
    "# Remove.seqs command will actually remove these taxa\n",
    "mothur \"#remove.seqs(fasta=data/otusn.fasta, \\\n",
    "accnos=data/to_remove_tax.accnos)\" #> /dev/null"
   ]
  },
  {
   "cell_type": "markdown",
   "metadata": {},
   "source": [
    "### Mapping Reads"
   ]
  },
  {
   "cell_type": "code",
   "execution_count": 19,
   "metadata": {
    "collapsed": false
   },
   "outputs": [],
   "source": [
    "# Pulling out the sample identifier.\n",
    "# It is adding a portion to the finalQC file that has the barcode label.\n",
    "# Then we can use this later\n",
    "# Now we will see how these reads map to the defined centroids (after removing EuK, etc.)\n",
    "# Basically, we cut, cut, refined our fasta to make our OTU centroids.\n",
    "# THEN, we went back to our original QC'd total fasta file and will throw it all against these nicely defined seeds.\n",
    "# Anything that doesn't match, we won't keep.\n",
    "!awk -F\"_\" \\\n",
    "'BEGIN{OFS=\";\"}{ if ( substr($1,0,1) == \">\"){ print $0,\"barcodelabel=\",$1 } else { print $0 } }' \\\n",
    "data/finalQC.fasta | \\\n",
    "sed 's/;>//' > data/finalQC_usearchfmt.fasta"
   ]
  },
  {
   "cell_type": "code",
   "execution_count": 20,
   "metadata": {
    "collapsed": false
   },
   "outputs": [
    {
     "name": "stdout",
     "output_type": "stream",
     "text": [
      ">D3013.24_0;barcodelabel=D3013.24\r\n",
      "TTCATAATCAAAGTGTTTTTATGGCACTTTTAAAAAAATCCATATCCACCTTGTGTGCAATGTCATCTCACTGGAGGCCAGCTGGCTGTCAAAAGCCCGTTTGGTCACCTTTGGGATTTATATCTACTCAGAACTTTAGTGATTTTGTCTGAAAAATATTATGAATAACTTAATTCAAAATACAACTTTCAACAACGGATCTCTTGGCTCTCGC\r\n",
      ">D1412.20_1;barcodelabel=D1412.20\r\n",
      "TTAACACTAATCCACACACTACTCAACCTAGCCTTTAGTTGCAGCCGAGGTGTTCGCCGTCAGGCAGCGCCGCAGCAGCAACCACAACAAACCTAATCTCAAAGGACTTTAACTAAGCCTTACCACAAAACCAAATTCTCAACGATGGATATCTTGGTTCCCAT\r\n",
      ">D1412.18_2;barcodelabel=D1412.18\r\n",
      "TTACCGAGTTTACACCTCCCAAACCCCTGTGAACATACCTTAATGTTGCCTCGGCGGATCAGCCCGCGCCCCGTAAAACGGGACGGCCCGCCAGAGGACCCAAACTCTAATGTTTCTTATTGTAACTTCTGAGTAAAACAAACAAATAAATCAAAACTTTCAACAACGGATCTCTTGGTTCTGGC\r\n",
      ">D3012.10_3;barcodelabel=D3012.10\r\n",
      "TTACAGAGTTGCAAAACTCCCTAAACCATTGTGAACGTTACCTAAACCGTTGCTTCGGCGGGCGGCCCCGGGGTTCTCCCCGGGAGCCCCCGGGCCCCATCCCGGGCGCCCGCCGGAGTTCACCAAACTATTGATAATTTAGGGCCTCTCTGAGTCTTCTGTACCGAATAAGTCAAAACTTTCAACAACGGATCTCTTGGTTCTGGC\r\n",
      ">D713.15_4;barcodelabel=D713.15\r\n",
      "TTACAGAGTTGCAAAACTCCCTAAACCATTGTGAACGTTACCTAAACCGTTGCTTCGGCGGGCGGCCCCGGGGTTTACCCCCCGGGCGCCCCTGGGCCCCACCGCGGGCGCCCGCCGGAGGTCACCAAACTCTTGATAATTTATGGCCTCTCTGAGTCTTCTGTACTGAATAAGTCAAAACTTTCAACAACGGATCTCTTGGTTCTGGC\r\n"
     ]
    }
   ],
   "source": [
    "!head data/finalQC_usearchfmt.fasta"
   ]
  },
  {
   "cell_type": "code",
   "execution_count": 21,
   "metadata": {
    "collapsed": false
   },
   "outputs": [
    {
     "name": "stdout",
     "output_type": "stream",
     "text": [
      "usearch v7.0.1090_i86linux32, 4.0Gb RAM (132Gb total), 40 cores\n",
      "(C) Copyright 2013 Robert C. Edgar, all rights reserved.\n",
      "http://drive5.com/usearch\n",
      "\n",
      "Licensed to: chuck.peperanney@gmail.com\n",
      "\n",
      "00:00  19Mb Reading data/otusn.fasta, 7.0Mb\n",
      "00:00  26Mb 38880 (38.9k) seqs, min 50, avg 167, max 509nt\n",
      "00:00  26Mb  100.0% Masking\n",
      "00:01  27Mb  100.0% Word stats\n",
      "00:01  51Mb  100.0% Building slots\n",
      "00:01  51Mb  100.0% Build index\n",
      "01:16 219Mb  100.0% Searching, 98.1% matched\n"
     ]
    }
   ],
   "source": [
    "# This is where the actual OTUs are being assigned. We choose 97% sequence ID threshold here.\n",
    "# This might take a while - like 5 minutes\n",
    "# Depending ont he clustering algorithm, like pairwise... it would take, like, days on the same number of processors.\n",
    "# This is why usearch (centroid-based) is so much better\n",
    "# But is it more biologically relevant? ... maybe, maybe not.\n",
    "# Edgar is showing it's not that bad.\n",
    "\n",
    "# We take our total QC data (modified above to have the sample ID extracted)\n",
    "# We compare it to the otusn.pick.fasta database we made above\n",
    "# We produce a readmap.uc file which tells us how the reads from our finalQC file map to the otusn seed database.\n",
    "\n",
    "!usearch -usearch_global data/finalQC_usearchfmt.fasta \\\n",
    "-db data/otusn.fasta \\\n",
    "-strand plus -id 0.97 \\\n",
    "-uc data/readmap.uc \\\n",
    "-threads 15"
   ]
  },
  {
   "cell_type": "code",
   "execution_count": 22,
   "metadata": {
    "collapsed": false
   },
   "outputs": [
    {
     "name": "stdout",
     "output_type": "stream",
     "text": [
      "data/readmap.uc 100.0%   \n"
     ]
    }
   ],
   "source": [
    "# Makes an OTU table\n",
    "# It will tell me the OTU ID, and then for all the samples, which OTUs it has sequences from.\n",
    "!python /opt/bioinfo/edgar_python_scripts/uc2otutab.py data/readmap.uc > data/otu_table.txt"
   ]
  },
  {
   "cell_type": "code",
   "execution_count": 23,
   "metadata": {
    "collapsed": false
   },
   "outputs": [],
   "source": [
    "# Issues with biom table formatting\n",
    "!if [ -f data/otu_table.biom ]; then rm data/otu_table.biom; fi #This is to mitigate a biom bug\n",
    "!biom convert -i data/otu_table.txt -o data/otu_table.biom --table-type \"otu table\""
   ]
  },
  {
   "cell_type": "code",
   "execution_count": 24,
   "metadata": {
    "collapsed": false
   },
   "outputs": [],
   "source": [
    "# Issues with biom table formatting\n",
    "!if [ -f data/otu_table_summary.txt ]; then rm data/otu_table_summary.txt; fi #This is to mitigate a biom bug\n",
    "!biom summarize-table -i data/otu_table.biom -o data/otu_table_summary.txt"
   ]
  },
  {
   "cell_type": "code",
   "execution_count": 25,
   "metadata": {
    "collapsed": false
   },
   "outputs": [
    {
     "name": "stdout",
     "output_type": "stream",
     "text": [
      "Num samples: 173\r\n",
      "Num observations: 38870\r\n",
      "Total count: 9776899\r\n",
      "Table density (fraction of non-zero values): 0.071\r\n",
      "Table md5 (unzipped): 93cef246bfadc65bb960e5f8d5c1de58\r\n",
      "\r\n",
      "Counts/sample summary:\r\n",
      " Min: 7856.0\r\n",
      " Max: 139104.0\r\n",
      " Median: 60201.000\r\n",
      " Mean: 56513.867\r\n",
      " Std. dev.: 24134.407\r\n",
      " Sample Metadata Categories: None provided\r\n",
      " Observation Metadata Categories: None provided\r\n",
      "\r\n",
      "Counts/sample detail:\r\n",
      " D312.11: 7856.0\r\n",
      " D312.9: 9102.0\r\n",
      " D1412.12: 9737.0\r\n",
      " D312.12: 12364.0\r\n",
      " D312.10: 12595.0\r\n",
      " D3013.15: 14545.0\r\n",
      " D312.13: 14892.0\r\n",
      " D1413.15: 14964.0\r\n",
      " D1412.13: 15541.0\r\n",
      " D3013.14: 16635.0\r\n",
      " D713.17: 17611.0\r\n",
      " D312.8: 18293.0\r\n",
      " D3012.16: 18464.0\r\n",
      " D1413.16: 18552.0\r\n",
      " D312.6: 18563.0\r\n",
      " D713.16: 18593.0\r\n",
      " D312.14: 19000.0\r\n",
      " D312.23: 19779.0\r\n",
      " D312.17: 20287.0\r\n",
      " D312.24: 20772.0\r\n",
      " D3013.16: 21924.0\r\n",
      " D712.16: 22078.0\r\n",
      " D312.15: 22794.0\r\n",
      " D3013.13: 25037.0\r\n",
      " D3012.13: 27186.0\r\n",
      " D1412.14: 28012.0\r\n",
      " D3012.14: 29363.0\r\n",
      " D1412.30: 30214.0\r\n",
      " D313.23: 30524.0\r\n",
      " D713.18: 30630.0\r\n",
      " D313.21: 30781.0\r\n",
      " D1412.25: 31026.0\r\n",
      " D313.22: 31512.0\r\n",
      " D1412.29: 31754.0\r\n",
      " D712.29: 32616.0\r\n",
      " D313.20: 33162.0\r\n",
      " D3012.15: 34102.0\r\n",
      " D3012.17: 34484.0\r\n",
      " D1413.17: 34959.0\r\n",
      " D1412.2: 35643.0\r\n",
      " D1412.10: 36748.0\r\n",
      " D312.22: 38356.0\r\n",
      " D313.19: 39171.0\r\n",
      " D3012.18: 39972.0\r\n",
      " D312.5: 39980.0\r\n",
      " D1412.8: 40578.0\r\n",
      " D1412.15: 40766.0\r\n",
      " D1412.7: 41386.0\r\n",
      " D313.24: 41620.0\r\n",
      " D712.14: 43169.0\r\n",
      " D1412.3: 43731.0\r\n",
      " D1412.16: 44002.0\r\n",
      " D1412.26: 45044.0\r\n",
      " D3013.12: 46235.0\r\n",
      " D3012.24: 46538.0\r\n",
      " D1412.6: 46935.0\r\n",
      " D1412.21: 47168.0\r\n",
      " D312.21: 48666.0\r\n",
      " D712.13: 48714.0\r\n",
      " D713.14: 49243.0\r\n",
      " D3012.21: 50047.0\r\n",
      " D3012.8: 50220.0\r\n",
      " D1413.14: 50460.0\r\n",
      " D1412.24: 50747.0\r\n",
      " D1412.28: 50896.0\r\n",
      " D713.15: 51152.0\r\n",
      " D313.26: 51386.0\r\n",
      " D3012.25: 51465.0\r\n",
      " D1412.17: 51772.0\r\n",
      " D313.25: 52547.0\r\n",
      " D713.20: 52998.0\r\n",
      " D1413.13: 53566.0\r\n",
      " D713.19: 53637.0\r\n",
      " D1413.20: 54183.0\r\n",
      " D1412.23: 54445.0\r\n",
      " D712.27: 55479.0\r\n",
      " D1412.5: 55610.0\r\n",
      " D3012.12: 56339.0\r\n",
      " D3012.10: 56412.0\r\n",
      " D713.30: 56728.0\r\n",
      " D1413.24: 56953.0\r\n",
      " D713.26: 57644.0\r\n",
      " D713.8: 58382.0\r\n",
      " D313.27: 58585.0\r\n",
      " D1413.7: 58592.0\r\n",
      " D713.7: 60155.0\r\n",
      " D313.16: 60201.0\r\n",
      " D712.24: 60660.0\r\n",
      " D713.25: 60788.0\r\n",
      " D1413.23: 61185.0\r\n",
      " D712.18: 61276.0\r\n",
      " D313.17: 61749.0\r\n",
      " D712.9: 62097.0\r\n",
      " D713.27: 62308.0\r\n",
      " D1412.20: 63108.0\r\n",
      " D713.21: 63221.0\r\n",
      " D1413.19: 63251.0\r\n",
      " D712.31: 63765.0\r\n",
      " D3013.5: 63843.0\r\n",
      " D1413.6: 64630.0\r\n",
      " D3012.22: 64715.0\r\n",
      " D713.28: 64905.0\r\n",
      " D713.31: 65430.0\r\n",
      " D1413.18: 65645.0\r\n",
      " D1412.22: 65886.0\r\n",
      " D713.29: 65960.0\r\n",
      " D712.12: 66029.0\r\n",
      " D1413.22: 66736.0\r\n",
      " D712.25: 66912.0\r\n",
      " D713.22: 66914.0\r\n",
      " D1412.19: 67067.0\r\n",
      " D3013.24: 67261.0\r\n",
      " D1413.12: 67450.0\r\n",
      " D313.13: 67570.0\r\n",
      " D3013.11: 67610.0\r\n",
      " D313.29: 67674.0\r\n",
      " D712.26: 67872.0\r\n",
      " D712.8: 68057.0\r\n",
      " D312.20: 68191.0\r\n",
      " D713.24: 68265.0\r\n",
      " D312.19: 68787.0\r\n",
      " D313.15: 69221.0\r\n",
      " D3013.6: 69507.0\r\n",
      " D3012.9: 69540.0\r\n",
      " D712.21: 69696.0\r\n",
      " D313.14: 70105.0\r\n",
      " D1412.4: 70553.0\r\n",
      " D712.20: 71040.0\r\n",
      " D313.34: 71135.0\r\n",
      " D712.30: 72255.0\r\n",
      " D713.23: 72834.0\r\n",
      " D712.7: 73515.0\r\n",
      " D1413.8: 73637.0\r\n",
      " D3013.23: 74006.0\r\n",
      " D713.10: 74028.0\r\n",
      " D313.28: 74175.0\r\n",
      " D3013.20: 74323.0\r\n",
      " D1413.5: 75388.0\r\n",
      " D713.13: 76257.0\r\n",
      " D1412.18: 76747.0\r\n",
      " D3012.20: 76818.0\r\n",
      " D313.31: 76883.0\r\n",
      " D3013.17: 77015.0\r\n",
      " D3013.22: 77236.0\r\n",
      " D3012.6: 77340.0\r\n",
      " D312.25: 77994.0\r\n",
      " D3013.19: 78294.0\r\n",
      " D312.18: 78682.0\r\n",
      " D3012.11: 79067.0\r\n",
      " D712.22: 79067.0\r\n",
      " D712.23: 79728.0\r\n",
      " D712.19: 79793.0\r\n",
      " D3013.8: 79991.0\r\n",
      " D712.11: 80143.0\r\n",
      " D713.12: 80321.0\r\n",
      " D1413.21: 80592.0\r\n",
      " D3012.23: 81353.0\r\n",
      " D3013.9: 82177.0\r\n",
      " D3013.21: 83197.0\r\n",
      " D313.33: 91149.0\r\n",
      " D313.12: 91613.0\r\n",
      " D3013.18: 91784.0\r\n",
      " D3012.7: 91819.0\r\n",
      " D713.9: 93283.0\r\n",
      " D1413.11: 93748.0\r\n",
      " D313.32: 93976.0\r\n",
      " D3012.19: 94445.0\r\n",
      " D3013.7: 95327.0\r\n",
      " D713.11: 99308.0\r\n",
      " D1413.9: 108936.0\r\n",
      " D1413.10: 110310.0\r\n",
      " D3013.10: 127058.0\r\n",
      " Mock.Comm: 139104.0\r\n"
     ]
    }
   ],
   "source": [
    "# This tells us the overall data info\n",
    "# Num obs = OTUs\n",
    "# total count = total seqs\n",
    "# Chantal had 50% reduction after QC.\n",
    "\n",
    "!cat data/otu_table_summary.txt\n",
    "\n",
    "# Sample 211 was just bad 8 sequesce. Final day, plot 11, \n",
    "# Other samples have 8,000 while biggest one has 194,000 sequences.\n",
    "# 8M total sequences"
   ]
  }
 ],
 "metadata": {
  "kernelspec": {
   "display_name": "Python 2",
   "language": "python",
   "name": "python2"
  },
  "language_info": {
   "codemirror_mode": {
    "name": "ipython",
    "version": 2
   },
   "file_extension": ".py",
   "mimetype": "text/x-python",
   "name": "python",
   "nbconvert_exporter": "python",
   "pygments_lexer": "ipython2",
   "version": "2.7.10"
  }
 },
 "nbformat": 4,
 "nbformat_minor": 0
}
