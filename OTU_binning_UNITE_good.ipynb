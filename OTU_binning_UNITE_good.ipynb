{
 "cells": [
  {
   "cell_type": "code",
   "execution_count": 1,
   "metadata": {
    "collapsed": false
   },
   "outputs": [],
   "source": [
    "# Imports a parser from cogent\n",
    "from cogent.parse.fasta import MinimalFastaParser as parse"
   ]
  },
  {
   "cell_type": "code",
   "execution_count": 2,
   "metadata": {
    "collapsed": false
   },
   "outputs": [],
   "source": [
    "# applies for the whole segment\n",
    "nprocs = 10"
   ]
  },
  {
   "cell_type": "code",
   "execution_count": 3,
   "metadata": {
    "collapsed": false
   },
   "outputs": [
    {
     "name": "stdout",
     "output_type": "stream",
     "text": [
      ">D3013.24_0\r\n",
      "TTCATAATCAAAGTGTTTTTATGGCACTTTTAAAAAAATCCATATCCACCTTGTGTGCAATGTCATCTCACTGGAGGCCAGCTGGCTGTCAAAAGCCCGTTTGGTCACCTTTGGGATTTATATCTACTCAGAACTTTAGTGATTTTGTCTGAAAAATATTATGAATAACTTAATTCAAAATACAACTTTCAACAACGGATCTCTTGGCTCTCGC\r\n",
      ">D1412.20_1\r\n",
      "TTAACACTAATCCACACACTACTCAACCTAGCCTTTAGTTGCAGCCGAGGTGTTCGCCGTCAGGCAGCGCCGCAGCAGCAACCACAACAAACCTAATCTCAAAGGACTTTAACTAAGCCTTACCACAAAACCAAATTCTCAACGATGGATATCTTGGTTCCCAT\r\n",
      ">D1412.18_2\r\n",
      "TTACCGAGTTTACACCTCCCAAACCCCTGTGAACATACCTTAATGTTGCCTCGGCGGATCAGCCCGCGCCCCGTAAAACGGGACGGCCCGCCAGAGGACCCAAACTCTAATGTTTCTTATTGTAACTTCTGAGTAAAACAAACAAATAAATCAAAACTTTCAACAACGGATCTCTTGGTTCTGGC\r\n",
      ">D3012.10_3\r\n",
      "TTACAGAGTTGCAAAACTCCCTAAACCATTGTGAACGTTACCTAAACCGTTGCTTCGGCGGGCGGCCCCGGGGTTCTCCCCGGGAGCCCCCGGGCCCCATCCCGGGCGCCCGCCGGAGTTCACCAAACTATTGATAATTTAGGGCCTCTCTGAGTCTTCTGTACCGAATAAGTCAAAACTTTCAACAACGGATCTCTTGGTTCTGGC\r\n",
      ">D713.15_4\r\n",
      "TTACAGAGTTGCAAAACTCCCTAAACCATTGTGAACGTTACCTAAACCGTTGCTTCGGCGGGCGGCCCCGGGGTTTACCCCCCGGGCGCCCCTGGGCCCCACCGCGGGCGCCCGCCGGAGGTCACCAAACTCTTGATAATTTATGGCCTCTCTGAGTCTTCTGTACTGAATAAGTCAAAACTTTCAACAACGGATCTCTTGGTTCTGGC\r\n"
     ]
    }
   ],
   "source": [
    "# Checking out data file.\n",
    "# This file was created using the QC_basic notebook.\n",
    "!head data/finalQC.fasta"
   ]
  },
  {
   "cell_type": "code",
   "execution_count": 4,
   "metadata": {
    "collapsed": false
   },
   "outputs": [],
   "source": [
    "%%bash\n",
    "# Running the seq separation on mothur instead\n",
    "\n",
    "mothur \"#unique.seqs(fasta=data/finalQC.fasta)\" > /dev/null"
   ]
  },
  {
   "cell_type": "code",
   "execution_count": 5,
   "metadata": {
    "collapsed": false
   },
   "outputs": [],
   "source": [
    "# Making a dictionary of the names files, splitting it into the first (ID) and second (commas list of all seqs in it)\n",
    "# Then it counts their lengths and saves it in the dictionary\n",
    "\n",
    "counts = {}\n",
    "\n",
    "with open(\"data/finalQC.names\") as f:\n",
    "    for line in f:\n",
    "        seedID, seqIDs = line.split(\"\\t\")\n",
    "        count = len(seqIDs.split(\",\"))\n",
    "        counts[seedID] = count        "
   ]
  },
  {
   "cell_type": "code",
   "execution_count": 6,
   "metadata": {
    "collapsed": false
   },
   "outputs": [],
   "source": [
    "# Adds the counts from this dictionary to our finalQC.unique file so it looks like a usearch file with \"size=XXX\"\n",
    "\n",
    "with open(\"data/finalQC.unique.usearch_names.fasta\", \"w\") as f:\n",
    "    for n, s in parse(open(\"data/finalQC.unique.fasta\")):\n",
    "        f.write(\">%s;size=%s;\\n%s\\n\"%(n,counts[n],s))  "
   ]
  },
  {
   "cell_type": "code",
   "execution_count": 7,
   "metadata": {
    "collapsed": false
   },
   "outputs": [
    {
     "name": "stdout",
     "output_type": "stream",
     "text": [
      ">D3013.24_0;size=24757;\r\n",
      "TTCATAATCAAAGTGTTTTTATGGCACTTTTAAAAAAATCCATATCCACCTTGTGTGCAATGTCATCTCACTGGAGGCCAGCTGGCTGTCAAAAGCCCGTTTGGTCACCTTTGGGATTTATATCTACTCAGAACTTTAGTGATTTTGTCTGAAAAATATTATGAATAACTTAATTCAAAATACAACTTTCAACAACGGATCTCTTGGCTCTCGC\r\n",
      ">D1412.20_1;size=11899;\r\n",
      "TTAACACTAATCCACACACTACTCAACCTAGCCTTTAGTTGCAGCCGAGGTGTTCGCCGTCAGGCAGCGCCGCAGCAGCAACCACAACAAACCTAATCTCAAAGGACTTTAACTAAGCCTTACCACAAAACCAAATTCTCAACGATGGATATCTTGGTTCCCAT\r\n",
      ">D1412.18_2;size=19;\r\n",
      "TTACCGAGTTTACACCTCCCAAACCCCTGTGAACATACCTTAATGTTGCCTCGGCGGATCAGCCCGCGCCCCGTAAAACGGGACGGCCCGCCAGAGGACCCAAACTCTAATGTTTCTTATTGTAACTTCTGAGTAAAACAAACAAATAAATCAAAACTTTCAACAACGGATCTCTTGGTTCTGGC\r\n",
      ">D3012.10_3;size=1;\r\n",
      "TTACAGAGTTGCAAAACTCCCTAAACCATTGTGAACGTTACCTAAACCGTTGCTTCGGCGGGCGGCCCCGGGGTTCTCCCCGGGAGCCCCCGGGCCCCATCCCGGGCGCCCGCCGGAGTTCACCAAACTATTGATAATTTAGGGCCTCTCTGAGTCTTCTGTACCGAATAAGTCAAAACTTTCAACAACGGATCTCTTGGTTCTGGC\r\n",
      ">D713.15_4;size=33618;\r\n",
      "TTACAGAGTTGCAAAACTCCCTAAACCATTGTGAACGTTACCTAAACCGTTGCTTCGGCGGGCGGCCCCGGGGTTTACCCCCCGGGCGCCCCTGGGCCCCACCGCGGGCGCCCGCCGGAGGTCACCAAACTCTTGATAATTTATGGCCTCTCTGAGTCTTCTGTACTGAATAAGTCAAAACTTTCAACAACGGATCTCTTGGTTCTGGC\r\n"
     ]
    }
   ],
   "source": [
    "!head data/finalQC.unique.usearch_names.fasta"
   ]
  },
  {
   "cell_type": "code",
   "execution_count": 8,
   "metadata": {
    "collapsed": false
   },
   "outputs": [
    {
     "name": "stdout",
     "output_type": "stream",
     "text": [
      "2.1G\tdata/finalQC.fasta\r\n"
     ]
    }
   ],
   "source": [
    "# Chuck looking to see how many Gb this file is.\n",
    "!du -h data/finalQC.fasta"
   ]
  },
  {
   "cell_type": "code",
   "execution_count": 9,
   "metadata": {
    "collapsed": false
   },
   "outputs": [
    {
     "name": "stdout",
     "output_type": "stream",
     "text": [
      "usearch v7.0.1090_i86linux32, 4.0Gb RAM (132Gb total), 40 cores\n",
      "(C) Copyright 2013 Robert C. Edgar, all rights reserved.\n",
      "http://drive5.com/usearch\n",
      "\n",
      "Licensed to: chuck.peperanney@gmail.com\n",
      "\n",
      "00:00 2.1Mb Reading data/finalQC.unique.usearch_names.fasta, 223Mb\n",
      "00:00 225Mb 919410 (919.4k) seqs, min 50, avg 216, max 541nt\n",
      "00:00 236Mb Getting sizes\n",
      "00:01 243Mb Sorting 175798 sequences\n",
      "00:02 244Mb  100.0% Writing data/finalQC.unique_sorted.fasta\n"
     ]
    }
   ],
   "source": [
    "# Sequences are sorted by size\n",
    "# Here the size of clusters - we are excluding the singletons here\n",
    "# You would change minsize to 1 if you wanted to include singletons\n",
    "# Or, you know, just not do this step.\n",
    "# But you should just get rid of them.\n",
    "!usearch -sortbysize data/finalQC.unique.usearch_names.fasta -output data/finalQC.unique_sorted.fasta -minsize 2"
   ]
  },
  {
   "cell_type": "code",
   "execution_count": 10,
   "metadata": {
    "collapsed": false
   },
   "outputs": [
    {
     "name": "stdout",
     "output_type": "stream",
     "text": [
      ">D3012.6_28;size=690611;\r\n",
      "TTACAGAGTCGCAATACTCCGTAAACCATTGTGAACGTTACCTAACCGTTGCTTCGGCGGGCGGCGCCCGGGCCCTCGCG\r\n",
      "GCCCGCGGCGCCCCCCGGCCCCTGCGGGCGCCCGCCGGAGGTAGACCAAACTCTTGAATTACATGGCCTCTCTGAGTCTT\r\n",
      "CTGTACTGAATAAGTCAAAACTTTCAACAACGGATCTCTTGGTTCTGGC\r\n",
      ">D3013.8_50;size=590148;\r\n",
      "TTACAGAGTTGCAAAACTCCCTAAACCATTGTGAACGTTACCTTCAAACCGTTGCTTCGGCGGGCGGCCCGGGTCCGCCC\r\n",
      "GGTGCCCCCTGGCCCCCTAGCGGGGCGCCCGCCGGAGGAAACCCAACTCTTGATTATTATGGCCTCTCTGAGTCTTCTGT\r\n",
      "ACTGAATAAGTCAAAACTTTCAACAACGGATCTCTTGGTTCTGGC\r\n",
      ">D3013.6_37;size=320432;\r\n",
      "TTACTGAGTACTACACTCTCTACCCTTTGTGAACTATTATACCTGTTGCTTCGGCGGCGCCCGCGAGGGTGCCCGCCGGT\r\n"
     ]
    }
   ],
   "source": [
    "# Checking data\n",
    "# You can see here, the first two sequences we saw above are now gone.\n",
    "!head data/finalQC.unique_sorted.fasta"
   ]
  },
  {
   "cell_type": "code",
   "execution_count": 11,
   "metadata": {
    "collapsed": false
   },
   "outputs": [
    {
     "name": "stdout",
     "output_type": "stream",
     "text": [
      "usearch v7.0.1090_i86linux32, 4.0Gb RAM (132Gb total), 40 cores\n",
      "(C) Copyright 2013 Robert C. Edgar, all rights reserved.\n",
      "http://drive5.com/usearch\n",
      "\n",
      "Licensed to: chuck.peperanney@gmail.com\n",
      "\n",
      "02:59 331Mb  100.0% 38880 OTUs\n",
      "                              \n",
      "Input seqs  175798 (175.8k)\n",
      "      OTUs  38880 (38.9k)\n",
      "   Members  134029 (134.0k)\n",
      "  Chimeras  2889\n",
      "   Max mem  331Mb\n",
      "      Time  02:59\n",
      "Throughput  982.1 seqs/sec.\n",
      "\n"
     ]
    }
   ],
   "source": [
    "# This is the clustering command.\n",
    "# Default is 97% minimum ID.\n",
    "# Not recommended to use more than 97%.\n",
    "# Creates the centroids, or \"seeds\"\n",
    "# Then you can take them out\n",
    "!usearch -cluster_otus data/finalQC.unique_sorted.fasta -otus data/otus.fasta"
   ]
  },
  {
   "cell_type": "code",
   "execution_count": 12,
   "metadata": {
    "collapsed": false
   },
   "outputs": [],
   "source": [
    "# Making another file\n",
    "# Figure this out (what is this?)\n",
    "# This is a script (fasta_number.py) that replaces fasta names with XXX1, XXX2, etc.\n",
    "# In our case, it is replacing the names with OTU.1, OTU.2, etc., and outputs it into a file called otusn.fasta\n",
    "!/opt/bioinfo/edgar_python_scripts/fasta_number.py data/otus.fasta OTU. > data/otusn.fasta"
   ]
  },
  {
   "cell_type": "code",
   "execution_count": 1,
   "metadata": {
    "collapsed": false
   },
   "outputs": [
    {
     "name": "stdout",
     "output_type": "stream",
     "text": [
      ">OTU.1\r\n",
      "TTACAGAGTCGCAATACTCCGTAAACCATTGTGAACGTTACCTAACCGTTGCTTCGGCGGGCGGCGCCCGGGCCCTCGCG\r\n",
      "GCCCGCGGCGCCccccGGCCCCTGCGGGCGCCCGCCGGAGGTAGACCAAACTCTTGAATTACATGGCCTctctGAGTCTT\r\n",
      "CTGTACTGAATAAGTCAAAACTTTCAACAACGGATCTCTTGGTTCTGGC\r\n",
      ">OTU.2\r\n",
      "TTACAGAGTTGCAAAACTCCCTAAACCATTGTGAACGTTACCTTCAAACCGTTGCTTCGGCGGGCGGCCCGGGTCCGCCC\r\n",
      "GGTGCCcccTGGCCcccTAGCGGGGCGCCCGCCGGAGGAAACCCAACTCTTGATTATTATGGCCTctctGAGTCTTCTGT\r\n",
      "ACTGAATAAGTCAAAACTTTCAACAACGGATCTCTTGGTTCTGGC\r\n",
      ">OTU.3\r\n",
      "TTACTGAGTACTACACTctctACCCTTTGTGAACTATTATACCTGTTGCTTCGGCGGCGCCCGCGAGGGTGCCCGCCGGT\r\n"
     ]
    }
   ],
   "source": [
    "!head data/otusn.fasta"
   ]
  },
  {
   "cell_type": "markdown",
   "metadata": {},
   "source": [
    "### Removing Chloroplast, Bacterial, and Archaeal sequences"
   ]
  },
  {
   "cell_type": "code",
   "execution_count": 2,
   "metadata": {
    "collapsed": false
   },
   "outputs": [],
   "source": [
    "# You do need to assign taxonomy in order to pull out the Euks., etc.\n",
    "# I could cp these files from the server to wherever I need them.\n",
    "# Input is your fasta file\n",
    "# Output is a fasta with taxonomy assinged (still working with unique seqs)\n",
    "# This didn't work first, because Chuck had to delete a \"jobs\" folder in the tmp directory.\n",
    "\n",
    "!parallel_assign_taxonomy_uclust.py \\\n",
    "-r /var/seq_data/UNITE/31_01_16_s/sh_refs_qiime_ver7_97_s_31.01.2016.fasta \\\n",
    "-t /var/seq_data/UNITE/31_01_16_s/sh_taxonomy_qiime_ver7_97_s_31.01.2016.txt \\\n",
    "-O 10 \\\n",
    "-i data/otusn.fasta \\\n",
    "-o data/otusn_tax"
   ]
  },
  {
   "cell_type": "code",
   "execution_count": 3,
   "metadata": {
    "collapsed": false
   },
   "outputs": [],
   "source": [
    "# This makes a file of what we want to remove\n",
    "# Could change this to pull out different groups.\n",
    "# These primers actually had good Archaeal targets - so, it would be okay to include them.\n",
    "!egrep \"Chloroplast|Bacteria|Archaea|Unassigned|Mitochondria\" \\\n",
    "data/otusn_tax/otusn_tax_assignments.txt \\\n",
    "| awk '{print $1}' > data/to_remove_tax.accnos"
   ]
  },
  {
   "cell_type": "code",
   "execution_count": 14,
   "metadata": {
    "collapsed": false
   },
   "outputs": [
    {
     "name": "stdout",
     "output_type": "stream",
     "text": [
      "37314 data/to_remove_tax.accnos\r\n"
     ]
    }
   ],
   "source": [
    "# wc is number of lines of the taxa that will be removed\n",
    "!wc -l data/to_remove_tax.accnos"
   ]
  },
  {
   "cell_type": "code",
   "execution_count": 5,
   "metadata": {
    "collapsed": false
   },
   "outputs": [
    {
     "name": "stdout",
     "output_type": "stream",
     "text": [
      "OTU.759\r\n",
      "OTU.753\r\n",
      "OTU.751\r\n",
      "OTU.750\r\n",
      "OTU.755\r\n",
      "OTU.754\r\n",
      "OTU.2323\r\n",
      "OTU.2322\r\n",
      "OTU.2321\r\n",
      "OTU.2320\r\n"
     ]
    }
   ],
   "source": [
    "# Looking at what you're removing\n",
    "!head data/to_remove_tax.accnos"
   ]
  },
  {
   "cell_type": "code",
   "execution_count": 6,
   "metadata": {
    "collapsed": false
   },
   "outputs": [
    {
     "name": "stdout",
     "output_type": "stream",
     "text": [
      "\u001b[H\u001b[2J\n",
      "\n",
      "\n",
      "\n",
      "\n",
      "\n",
      "mothur v.1.35.1\n",
      "Last updated: 03/31/2015\n",
      "\n",
      "by\n",
      "Patrick D. Schloss\n",
      "\n",
      "Department of Microbiology & Immunology\n",
      "University of Michigan\n",
      "pschloss@umich.edu\n",
      "http://www.mothur.org\n",
      "\n",
      "When using, please cite:\n",
      "Schloss, P.D., et al., Introducing mothur: Open-source, platform-independent, community-supported software for describing and comparing microbial communities. Appl Environ Microbiol, 2009. 75(23):7537-41.\n",
      "\n",
      "Distributed under the GNU General Public License\n",
      "\n",
      "Type 'help()' for information on the commands that are available\n",
      "\n",
      "Type 'quit()' to exit program\n",
      "\n",
      "\n",
      "\n",
      "mothur > remove.seqs(fasta=data/otusn.fasta, accnos=data/to_remove_tax.accnos)\n",
      "Removed 36980 sequences from your fasta file.\n",
      "\n",
      "Output File Names: \n",
      "data/otusn.pick.fasta\n",
      "\n",
      "\n",
      "mothur > quit()\n"
     ]
    }
   ],
   "source": [
    "%%bash\n",
    "# Remove.seqs command will actually remove these taxa\n",
    "mothur \"#remove.seqs(fasta=data/otusn.fasta, \\\n",
    "accnos=data/to_remove_tax.accnos)\" #> /dev/null"
   ]
  },
  {
   "cell_type": "code",
   "execution_count": 2,
   "metadata": {
    "collapsed": false
   },
   "outputs": [
    {
     "name": "stdout",
     "output_type": "stream",
     "text": [
      "1900\r\n"
     ]
    }
   ],
   "source": [
    "! grep -c \"OTU\" data/otusn.pick.fasta"
   ]
  },
  {
   "cell_type": "markdown",
   "metadata": {},
   "source": [
    "### Mapping Reads"
   ]
  },
  {
   "cell_type": "code",
   "execution_count": 7,
   "metadata": {
    "collapsed": false
   },
   "outputs": [],
   "source": [
    "# Pulling out the sample identifier.\n",
    "# It is adding a portion to the finalQC file that has the barcode label.\n",
    "# Then we can use this later\n",
    "# Now we will see how these reads map to the defined centroids (after removing EuK, etc.)\n",
    "# Basically, we cut, cut, refined our fasta to make our OTU centroids.\n",
    "# THEN, we went back to our original QC'd total fasta file and will throw it all against these nicely defined seeds.\n",
    "# Anything that doesn't match, we won't keep.\n",
    "!awk -F\"_\" \\\n",
    "'BEGIN{OFS=\";\"}{ if ( substr($1,0,1) == \">\"){ print $0,\"barcodelabel=\",$1 } else { print $0 } }' \\\n",
    "data/finalQC.fasta | \\\n",
    "sed 's/;>//' > data/finalQC_usearchfmt.fasta"
   ]
  },
  {
   "cell_type": "code",
   "execution_count": 8,
   "metadata": {
    "collapsed": false
   },
   "outputs": [
    {
     "name": "stdout",
     "output_type": "stream",
     "text": [
      ">D3013.24_0;barcodelabel=D3013.24\r\n",
      "TTCATAATCAAAGTGTTTTTATGGCACTTTTAAAAAAATCCATATCCACCTTGTGTGCAATGTCATCTCACTGGAGGCCAGCTGGCTGTCAAAAGCCCGTTTGGTCACCTTTGGGATTTATATCTACTCAGAACTTTAGTGATTTTGTCTGAAAAATATTATGAATAACTTAATTCAAAATACAACTTTCAACAACGGATCTCTTGGCTCTCGC\r\n",
      ">D1412.20_1;barcodelabel=D1412.20\r\n",
      "TTAACACTAATCCACACACTACTCAACCTAGCCTTTAGTTGCAGCCGAGGTGTTCGCCGTCAGGCAGCGCCGCAGCAGCAACCACAACAAACCTAATCTCAAAGGACTTTAACTAAGCCTTACCACAAAACCAAATTCTCAACGATGGATATCTTGGTTCCCAT\r\n",
      ">D1412.18_2;barcodelabel=D1412.18\r\n",
      "TTACCGAGTTTACACCTCCCAAACCCCTGTGAACATACCTTAATGTTGCCTCGGCGGATCAGCCCGCGCCCCGTAAAACGGGACGGCCCGCCAGAGGACCCAAACTCTAATGTTTCTTATTGTAACTTCTGAGTAAAACAAACAAATAAATCAAAACTTTCAACAACGGATCTCTTGGTTCTGGC\r\n",
      ">D3012.10_3;barcodelabel=D3012.10\r\n",
      "TTACAGAGTTGCAAAACTCCCTAAACCATTGTGAACGTTACCTAAACCGTTGCTTCGGCGGGCGGCCCCGGGGTTCTCCCCGGGAGCCCCCGGGCCCCATCCCGGGCGCCCGCCGGAGTTCACCAAACTATTGATAATTTAGGGCCTCTCTGAGTCTTCTGTACCGAATAAGTCAAAACTTTCAACAACGGATCTCTTGGTTCTGGC\r\n",
      ">D713.15_4;barcodelabel=D713.15\r\n",
      "TTACAGAGTTGCAAAACTCCCTAAACCATTGTGAACGTTACCTAAACCGTTGCTTCGGCGGGCGGCCCCGGGGTTTACCCCCCGGGCGCCCCTGGGCCCCACCGCGGGCGCCCGCCGGAGGTCACCAAACTCTTGATAATTTATGGCCTCTCTGAGTCTTCTGTACTGAATAAGTCAAAACTTTCAACAACGGATCTCTTGGTTCTGGC\r\n"
     ]
    }
   ],
   "source": [
    "!head data/finalQC_usearchfmt.fasta"
   ]
  },
  {
   "cell_type": "code",
   "execution_count": 9,
   "metadata": {
    "collapsed": false
   },
   "outputs": [
    {
     "name": "stdout",
     "output_type": "stream",
     "text": [
      "usearch v7.0.1090_i86linux32, 4.0Gb RAM (132Gb total), 40 cores\n",
      "(C) Copyright 2013 Robert C. Edgar, all rights reserved.\n",
      "http://drive5.com/usearch\n",
      "\n",
      "Licensed to: chuck.peperanney@gmail.com\n",
      "\n",
      "00:00  19Mb Reading data/otusn.pick.fasta, 418.0kb\n",
      "00:00  19Mb 1900 seqs, min 50, avg 209, max 437nt\n",
      "00:00  19Mb  100.0% Masking\n",
      "00:00  20Mb  100.0% Word stats\n",
      "00:00  22Mb  100.0% Building slots\n",
      "00:00  22Mb  100.0% Build index\n",
      "02:08 172Mb  100.0% Searching, 65.0% matched\n"
     ]
    }
   ],
   "source": [
    "# This is where the actual OTUs are being assigned. We choose 97% sequence ID threshold here.\n",
    "# This might take a while - like 5 minutes\n",
    "# Depending ont he clustering algorithm, like pairwise... it would take, like, days on the same number of processors.\n",
    "# This is why usearch (centroid-based) is so much better\n",
    "# But is it more biologically relevant? ... maybe, maybe not.\n",
    "# Edgar is showing it's not that bad.\n",
    "\n",
    "# We take our total QC data (modified above to have the sample ID extracted)\n",
    "# We compare it to the otusn.pick.fasta database we made above\n",
    "# We produce a readmap.uc file which tells us how the reads from our finalQC file map to the otusn seed database.\n",
    "\n",
    "!usearch -usearch_global data/finalQC_usearchfmt.fasta \\\n",
    "-db data/otusn.pick.fasta \\\n",
    "-strand plus -id 0.97 \\\n",
    "-uc data/readmap.uc \\\n",
    "-threads 15"
   ]
  },
  {
   "cell_type": "code",
   "execution_count": 10,
   "metadata": {
    "collapsed": false
   },
   "outputs": [
    {
     "name": "stdout",
     "output_type": "stream",
     "text": [
      "data/readmap.uc 100.0%   \n"
     ]
    }
   ],
   "source": [
    "# Makes an OTU table\n",
    "# It will tell me the OTU ID, and then for all the samples, which OTUs it has sequences from.\n",
    "!python /opt/bioinfo/edgar_python_scripts/uc2otutab.py data/readmap.uc > data/otu_table.txt"
   ]
  },
  {
   "cell_type": "code",
   "execution_count": 11,
   "metadata": {
    "collapsed": false
   },
   "outputs": [],
   "source": [
    "# Issues with biom table formatting\n",
    "!if [ -f data/otu_table.biom ]; then rm data/otu_table.biom; fi #This is to mitigate a biom bug\n",
    "!biom convert -i data/otu_table.txt -o data/otu_table.biom --table-type \"otu table\""
   ]
  },
  {
   "cell_type": "code",
   "execution_count": 12,
   "metadata": {
    "collapsed": false
   },
   "outputs": [],
   "source": [
    "# Issues with biom table formatting\n",
    "!if [ -f data/otu_table_summary.txt ]; then rm data/otu_table_summary.txt; fi #This is to mitigate a biom bug\n",
    "!biom summarize-table -i data/otu_table.biom -o data/otu_table_summary.txt"
   ]
  },
  {
   "cell_type": "code",
   "execution_count": 13,
   "metadata": {
    "collapsed": false
   },
   "outputs": [
    {
     "name": "stdout",
     "output_type": "stream",
     "text": [
      "Num samples: 173\r\n",
      "Num observations: 1900\r\n",
      "Total count: 6476467\r\n",
      "Table density (fraction of non-zero values): 0.221\r\n",
      "Table md5 (unzipped): d4f9b15895cb062ce6db29ea4d76b602\r\n",
      "\r\n",
      "Counts/sample summary:\r\n",
      " Min: 2183.0\r\n",
      " Max: 111388.0\r\n",
      " Median: 39314.000\r\n",
      " Mean: 37436.225\r\n",
      " Std. dev.: 20434.120\r\n",
      " Sample Metadata Categories: None provided\r\n",
      " Observation Metadata Categories: None provided\r\n",
      "\r\n",
      "Counts/sample detail:\r\n",
      " D312.14: 2183.0\r\n",
      " D3013.14: 3591.0\r\n",
      " D1412.13: 3735.0\r\n",
      " D312.11: 4120.0\r\n",
      " D312.9: 4131.0\r\n",
      " D312.15: 4413.0\r\n",
      " D3013.15: 4528.0\r\n",
      " D1412.12: 4970.0\r\n",
      " D3013.13: 5129.0\r\n",
      " D1412.14: 5416.0\r\n",
      " D1413.15: 6712.0\r\n",
      " D312.10: 6907.0\r\n",
      " D713.17: 6908.0\r\n",
      " D312.12: 7058.0\r\n",
      " D312.13: 7341.0\r\n",
      " D712.16: 8097.0\r\n",
      " D713.16: 8704.0\r\n",
      " D312.23: 8749.0\r\n",
      " D3012.16: 8831.0\r\n",
      " D3013.16: 8933.0\r\n",
      " D312.24: 8952.0\r\n",
      " D1413.16: 9794.0\r\n",
      " D313.22: 11460.0\r\n",
      " D313.23: 11612.0\r\n",
      " D312.17: 12014.0\r\n",
      " D312.8: 12213.0\r\n",
      " D3013.12: 14053.0\r\n",
      " D3012.15: 14108.0\r\n",
      " D313.21: 14536.0\r\n",
      " D3012.13: 15318.0\r\n",
      " D3012.14: 15543.0\r\n",
      " D312.6: 15895.0\r\n",
      " D313.24: 17652.0\r\n",
      " D313.20: 17972.0\r\n",
      " D713.18: 20383.0\r\n",
      " D312.22: 20699.0\r\n",
      " D712.29: 20908.0\r\n",
      " D3012.24: 20944.0\r\n",
      " D1412.25: 21208.0\r\n",
      " D1412.15: 21227.0\r\n",
      " D3012.17: 21327.0\r\n",
      " D1412.30: 21468.0\r\n",
      " D1413.17: 21542.0\r\n",
      " D1413.14: 21587.0\r\n",
      " D1412.21: 22380.0\r\n",
      " D313.19: 22420.0\r\n",
      " D1412.29: 23182.0\r\n",
      " D1412.10: 23514.0\r\n",
      " D3012.25: 25019.0\r\n",
      " D712.14: 26452.0\r\n",
      " D312.5: 26971.0\r\n",
      " D1412.2: 27068.0\r\n",
      " D1412.8: 27499.0\r\n",
      " D1412.7: 27642.0\r\n",
      " D1412.3: 27747.0\r\n",
      " D312.21: 29244.0\r\n",
      " D1413.13: 29480.0\r\n",
      " D1412.26: 30645.0\r\n",
      " D3012.21: 30690.0\r\n",
      " D3012.18: 30805.0\r\n",
      " D1412.6: 31530.0\r\n",
      " D1412.22: 31832.0\r\n",
      " D313.26: 32273.0\r\n",
      " D1412.23: 32443.0\r\n",
      " D3012.22: 32676.0\r\n",
      " D1412.16: 33272.0\r\n",
      " D1412.24: 33310.0\r\n",
      " D712.13: 33525.0\r\n",
      " D712.24: 33570.0\r\n",
      " D1413.20: 33928.0\r\n",
      " D713.25: 34730.0\r\n",
      " D3012.23: 35275.0\r\n",
      " D1412.28: 36084.0\r\n",
      " D712.27: 36110.0\r\n",
      " D1412.20: 36330.0\r\n",
      " D1412.5: 36436.0\r\n",
      " D3013.22: 36439.0\r\n",
      " D713.26: 36621.0\r\n",
      " D712.25: 37357.0\r\n",
      " D1413.23: 37477.0\r\n",
      " D3013.23: 37856.0\r\n",
      " D1413.24: 37943.0\r\n",
      " D313.25: 38243.0\r\n",
      " D3012.8: 38317.0\r\n",
      " D713.15: 38725.0\r\n",
      " D3013.20: 38797.0\r\n",
      " D713.20: 39314.0\r\n",
      " D713.14: 39455.0\r\n",
      " D1413.22: 39484.0\r\n",
      " D313.27: 39583.0\r\n",
      " D713.30: 39991.0\r\n",
      " D712.18: 40398.0\r\n",
      " D3013.24: 40562.0\r\n",
      " D3013.21: 40707.0\r\n",
      " D3012.12: 40767.0\r\n",
      " D713.27: 40843.0\r\n",
      " D713.19: 40904.0\r\n",
      " D713.24: 41227.0\r\n",
      " D1412.17: 41358.0\r\n",
      " D712.23: 41745.0\r\n",
      " D713.22: 41890.0\r\n",
      " D712.26: 41911.0\r\n",
      " D3013.11: 42124.0\r\n",
      " D1412.19: 42527.0\r\n",
      " D713.21: 42726.0\r\n",
      " D712.21: 42767.0\r\n",
      " D3013.5: 42849.0\r\n",
      " D712.22: 42873.0\r\n",
      " D713.8: 42958.0\r\n",
      " D1413.18: 43334.0\r\n",
      " D1413.19: 43548.0\r\n",
      " D313.29: 43733.0\r\n",
      " D713.23: 44248.0\r\n",
      " D313.16: 44355.0\r\n",
      " D712.31: 44422.0\r\n",
      " D1413.12: 44487.0\r\n",
      " D313.17: 44501.0\r\n",
      " D313.34: 44576.0\r\n",
      " D313.14: 44701.0\r\n",
      " D313.31: 44896.0\r\n",
      " D713.28: 45037.0\r\n",
      " D312.20: 45217.0\r\n",
      " D313.13: 45409.0\r\n",
      " D3012.10: 45574.0\r\n",
      " D712.9: 46613.0\r\n",
      " D1412.4: 46632.0\r\n",
      " D312.25: 46772.0\r\n",
      " D713.31: 46800.0\r\n",
      " D1413.21: 46938.0\r\n",
      " D713.29: 47174.0\r\n",
      " D3013.19: 47216.0\r\n",
      " D712.8: 47396.0\r\n",
      " D712.12: 48417.0\r\n",
      " D313.15: 48676.0\r\n",
      " D312.19: 48751.0\r\n",
      " D713.7: 49165.0\r\n",
      " D313.28: 49364.0\r\n",
      " D3013.6: 49405.0\r\n",
      " D1413.7: 49889.0\r\n",
      " D3013.17: 49893.0\r\n",
      " D3012.6: 50217.0\r\n",
      " D712.30: 50845.0\r\n",
      " D712.20: 51773.0\r\n",
      " D712.7: 52960.0\r\n",
      " D313.33: 54389.0\r\n",
      " D1412.18: 54829.0\r\n",
      " D3012.9: 55291.0\r\n",
      " D313.32: 55323.0\r\n",
      " D1413.6: 56847.0\r\n",
      " D312.18: 58231.0\r\n",
      " D1413.5: 59718.0\r\n",
      " D3012.20: 60062.0\r\n",
      " D712.11: 60199.0\r\n",
      " D3012.11: 60812.0\r\n",
      " D3013.8: 61152.0\r\n",
      " D712.19: 61244.0\r\n",
      " D313.12: 61623.0\r\n",
      " D713.10: 62188.0\r\n",
      " D1413.8: 62350.0\r\n",
      " D3013.18: 62862.0\r\n",
      " D3012.7: 65709.0\r\n",
      " D3013.9: 67255.0\r\n",
      " D3013.7: 68694.0\r\n",
      " D713.13: 68760.0\r\n",
      " D1413.11: 71345.0\r\n",
      " D713.12: 72116.0\r\n",
      " D3012.19: 79530.0\r\n",
      " D713.9: 80026.0\r\n",
      " D713.11: 90490.0\r\n",
      " D1413.10: 92271.0\r\n",
      " D1413.9: 93117.0\r\n",
      " D3013.10: 102021.0\r\n",
      " Mock.Comm: 111388.0\r\n"
     ]
    }
   ],
   "source": [
    "# This tells us the overall data info\n",
    "# Num obs = OTUs\n",
    "# total count = total seqs\n",
    "# Chantal had 50% reduction after QC.\n",
    "\n",
    "!cat data/otu_table_summary.txt"
   ]
  }
 ],
 "metadata": {
  "kernelspec": {
   "display_name": "Python 2",
   "language": "python",
   "name": "python2"
  },
  "language_info": {
   "codemirror_mode": {
    "name": "ipython",
    "version": 2
   },
   "file_extension": ".py",
   "mimetype": "text/x-python",
   "name": "python",
   "nbconvert_exporter": "python",
   "pygments_lexer": "ipython2",
   "version": "2.7.13"
  }
 },
 "nbformat": 4,
 "nbformat_minor": 0
}
