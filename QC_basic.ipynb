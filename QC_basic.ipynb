{
 "metadata": {
  "name": "",
  "signature": "sha256:cfd132140278cae05362cf6e84750f02360b818411c0f1835780927592ed25d8"
 },
 "nbformat": 3,
 "nbformat_minor": 0,
 "worksheets": [
  {
   "cells": [
    {
     "cell_type": "markdown",
     "metadata": {},
     "source": [
      "##Discard sequences that exceed the max expected error threshold."
     ]
    },
    {
     "cell_type": "code",
     "collapsed": false,
     "input": [
      "%%bash\n",
      "\n",
      "nprocs=20\n",
      "maxee=1\n",
      "\n",
      "tmpdir1=`mktemp -d`\n",
      "trap \"rm -r $tmpdir1\" 1 2 3 15\n",
      "split -d -l 2000000 /var/seq_data/FungalSIP/pear_merged_raw-2014-04-24.assembled.dmult.fastq $tmpdir1/Block\n",
      "\n",
      "tmpdir2=`mktemp -d`\n",
      "trap \"rm -r $tmpdir2\" 1 2 3 15\n",
      "ls $tmpdir1/Block?? | parallel --gnu -j $nprocs -k \"usearch -fastq_filter {} \\\n",
      "-fastq_maxee $maxee \\\n",
      "-fastaout $tmpdir2/{#}.fasta >/dev/null 2>&1 && cat $tmpdir2/{#}.fasta\" > data/tmp/maxee$maxee.fasta\n",
      "rm -r $tmpdir2 $tmpdir1\n",
      "\n",
      "grep -c \">\" data/tmp/maxee$maxee.fasta\n",
      "head -n 8 data/tmp/maxee$maxee.fasta"
     ],
     "language": "python",
     "metadata": {},
     "outputs": [
      {
       "output_type": "stream",
       "stream": "stdout",
       "text": [
        "10097056\n",
        ">D3013.24_0 orig_name=M02465:27:000000000-A63NN:1:1101:8970:1115\n",
        "TTCATAATCAAAGTGTTTTTATGGCACTTTTAAAAAAATCCATATCCACCTTGTGTGCAATGTCATCTCACTGGAGGCCAGCTGGCTGTCAAAAGCCCGTTTGGTCACCTTTGGGATTTATATCTACTCAGAACTTTAGTGATTTTGTCTGAAAAATATTATGAATAACTTAATTCAAAATACAACTTTCAACAACGGATCTCTTGGCTCTCGC\n",
        ">D1412.20_1 orig_name=M02465:27:000000000-A63NN:1:1101:8942:1117\n",
        "TTAACACTAATCCACACACTACTCAACCTAGCCTTTAGTTGCAGCCGAGGTGTTCGCCGTCAGGCAGCGCCGCAGCAGCAACCACAACAAACCTAATCTCAAAGGACTTTAACTAAGCCTTACCACAAAACCAAATTCTCAACGATGGATATCTTGGTTCCCAT\n",
        ">D1412.18_2 orig_name=M02465:27:000000000-A63NN:1:1101:10057:1119\n",
        "TTACCGAGTTTACACCTCCCAAACCCCTGTGAACATACCTTAATGTTGCCTCGGCGGATCAGCCCGCGCCCCGTAAAACGGGACGGCCCGCCAGAGGACCCAAACTCTAATGTTTCTTATTGTAACTTCTGAGTAAAACAAACAAATAAATCAAAACTTTCAACAACGGATCTCTTGGTTCTGGC\n",
        ">D3012.10_3 orig_name=M02465:27:000000000-A63NN:1:1101:11149:1123\n",
        "TTACAGAGTTGCAAAACTCCCTAAACCATTGTGAACGTTACCTAAACCGTTGCTTCGGCGGGCGGCCCCGGGGTTCTCCCCGGGAGCCCCCGGGCCCCATCCCGGGCGCCCGCCGGAGTTCACCAAACTATTGATAATTTAGGGCCTCTCTGAGTCTTCTGTACCGAATAAGTCAAAACTTTCAACAACGGATCTCTTGGTTCTGGC\n"
       ]
      }
     ],
     "prompt_number": 1
    },
    {
     "cell_type": "markdown",
     "metadata": {},
     "source": [
      "##Remove seqs with N characters."
     ]
    },
    {
     "cell_type": "code",
     "collapsed": false,
     "input": [
      "%%bash\n",
      "\n",
      "bioawk -c fastx '{if ($seq !~ /N/){print \">\" $name \" \" $4 \"\\n\" $seq}}' data/tmp/maxee1.fasta > \\\n",
      "data/tmp/maxee1.0.noN.fasta\n",
      "grep -c \">\" data/tmp/maxee1.fasta\n",
      "grep -c \">\" data/tmp/maxee1.0.noN.fasta"
     ],
     "language": "python",
     "metadata": {},
     "outputs": [
      {
       "output_type": "stream",
       "stream": "stdout",
       "text": [
        "10097056\n",
        "10097048\n"
       ]
      }
     ],
     "prompt_number": 2
    },
    {
     "cell_type": "heading",
     "level": 3,
     "metadata": {},
     "source": [
      "Removing homopolymers (larger than 8) and screen out sequences that don't align to amplicon region"
     ]
    },
    {
     "cell_type": "code",
     "collapsed": false,
     "input": [
      "!mothur \"#unique.seqs(fasta=data/tmp/maxee1.0.noN.fasta)\" "
     ],
     "language": "python",
     "metadata": {},
     "outputs": [
      {
       "output_type": "stream",
       "stream": "stdout",
       "text": [
        "\u001b[H\u001b[2J\r\n",
        "\r\n",
        "\r\n",
        "\r\n",
        "\r\n",
        "\r\n",
        "mothur v.1.32.1\r\n",
        "Last updated: 10/16/2013\r\n",
        "\r\n",
        "by\r\n",
        "Patrick D. Schloss\r\n",
        "\r\n",
        "Department of Microbiology & Immunology\r\n",
        "University of Michigan\r\n",
        "pschloss@umich.edu\r\n",
        "http://www.mothur.org\r\n",
        "\r\n",
        "When using, please cite:\r\n",
        "Schloss, P.D., et al., Introducing mothur: Open-source, platform-independent, community-supported software for describing and comparing microbial communities. Appl Environ Microbiol, 2009. 75(23):7537-41.\r\n",
        "\r\n",
        "Distributed under the GNU General Public License\r\n",
        "\r\n",
        "Type 'help()' for information on the commands that are available\r\n",
        "\r\n",
        "Type 'quit()' to exit program\r\n",
        "\r\n",
        "\r\n",
        "\r\n",
        "mothur > unique.seqs(fasta=data/tmp/maxee1.0.noN.fasta)\r\n",
        "1000\t535\r\n",
        "2000\t940\r\n"
       ]
      },
      {
       "output_type": "stream",
       "stream": "stdout",
       "text": [
        "3000\t1313\r\n",
        "4000\t1648\r\n",
        "5000\t1974\r\n",
        "6000\t2313\r\n"
       ]
      },
      {
       "output_type": "stream",
       "stream": "stdout",
       "text": [
        "7000\t2645\r\n",
        "8000\t2949\r\n",
        "9000\t3271\r\n"
       ]
      },
      {
       "output_type": "stream",
       "stream": "stdout",
       "text": [
        "10000\t3540\r\n",
        "11000\t3810\r\n",
        "12000\t4093\r\n",
        "13000\t4387\r\n"
       ]
      },
      {
       "output_type": "stream",
       "stream": "stdout",
       "text": [
        "14000\t4671\r\n",
        "15000\t4911\r\n",
        "16000\t5171\r\n",
        "17000\t5453\r\n"
       ]
      },
      {
       "output_type": "stream",
       "stream": "stdout",
       "text": [
        "18000\t5712\r\n",
        "19000\t5948\r\n",
        "20000\t6197\r\n",
        "21000\t6425\r\n"
       ]
      },
      {
       "output_type": "stream",
       "stream": "stdout",
       "text": [
        "22000\t6664\r\n",
        "23000\t6902\r\n",
        "24000\t7146\r\n"
       ]
      },
      {
       "output_type": "stream",
       "stream": "stdout",
       "text": [
        "25000\t7399\r\n",
        "26000\t7649\r\n",
        "27000\t7875\r\n",
        "28000\t8114\r\n"
       ]
      },
      {
       "output_type": "stream",
       "stream": "stdout",
       "text": [
        "29000\t8356\r\n",
        "30000\t8576\r\n",
        "31000\t8817\r\n",
        "32000\t9055\r\n"
       ]
      },
      {
       "output_type": "stream",
       "stream": "stdout",
       "text": [
        "33000\t9276\r\n",
        "34000\t9499\r\n",
        "35000\t9733\r\n"
       ]
      },
      {
       "output_type": "stream",
       "stream": "stdout",
       "text": [
        "36000\t9948\r\n",
        "37000\t10155\r\n",
        "38000\t10389\r\n",
        "39000\t10595\r\n"
       ]
      },
      {
       "output_type": "stream",
       "stream": "stdout",
       "text": [
        "40000\t10799\r\n",
        "41000\t11048\r\n",
        "42000\t11274\r\n",
        "43000\t11511\r\n"
       ]
      },
      {
       "output_type": "stream",
       "stream": "stdout",
       "text": [
        "44000\t11743\r\n",
        "45000\t11978\r\n",
        "46000\t12199\r\n"
       ]
      },
      {
       "output_type": "stream",
       "stream": "stdout",
       "text": [
        "47000\t12431\r\n",
        "48000\t12626\r\n",
        "49000\t12809\r\n",
        "50000\t13010\r\n"
       ]
      },
      {
       "output_type": "stream",
       "stream": "stdout",
       "text": [
        "51000\t13220\r\n",
        "52000\t13399\r\n",
        "53000\t13614\r\n",
        "54000\t13836\r\n"
       ]
      },
      {
       "output_type": "stream",
       "stream": "stdout",
       "text": [
        "55000\t14044\r\n",
        "56000\t14257\r\n",
        "57000\t14454\r\n"
       ]
      },
      {
       "output_type": "stream",
       "stream": "stdout",
       "text": [
        "58000\t14645\r\n",
        "59000\t14854\r\n",
        "60000\t15050\r\n",
        "61000\t15252\r\n"
       ]
      },
      {
       "output_type": "stream",
       "stream": "stdout",
       "text": [
        "62000\t15448\r\n",
        "63000\t15666\r\n",
        "64000\t15847\r\n",
        "65000\t16048\r\n"
       ]
      },
      {
       "output_type": "stream",
       "stream": "stdout",
       "text": [
        "66000\t16260\r\n",
        "67000\t16461\r\n",
        "68000\t16646\r\n"
       ]
      },
      {
       "output_type": "stream",
       "stream": "stdout",
       "text": [
        "69000\t16849\r\n",
        "70000\t17037\r\n",
        "71000\t17230\r\n",
        "72000\t17416\r\n"
       ]
      },
      {
       "output_type": "stream",
       "stream": "stdout",
       "text": [
        "73000\t17607\r\n",
        "74000\t17811\r\n",
        "75000\t18029\r\n"
       ]
      },
      {
       "output_type": "stream",
       "stream": "stdout",
       "text": [
        "76000\t18219\r\n",
        "77000\t18410\r\n",
        "78000\t18610\r\n",
        "79000\t18795\r\n"
       ]
      },
      {
       "output_type": "stream",
       "stream": "stdout",
       "text": [
        "80000\t18984\r\n",
        "81000\t19177\r\n",
        "82000\t19387\r\n",
        "83000\t19555\r\n"
       ]
      },
      {
       "output_type": "stream",
       "stream": "stdout",
       "text": [
        "84000\t19711\r\n",
        "85000\t19893\r\n",
        "86000\t20075\r\n"
       ]
      },
      {
       "output_type": "stream",
       "stream": "stdout",
       "text": [
        "87000\t20273\r\n",
        "88000\t20459\r\n",
        "89000\t20622\r\n",
        "90000\t20796\r\n"
       ]
      },
      {
       "output_type": "stream",
       "stream": "stdout",
       "text": [
        "91000\t20973\r\n",
        "92000\t21176\r\n",
        "93000\t21348\r\n"
       ]
      },
      {
       "output_type": "stream",
       "stream": "stdout",
       "text": [
        "94000\t21525\r\n",
        "95000\t21700\r\n",
        "96000\t21887\r\n",
        "97000\t22067\r\n"
       ]
      },
      {
       "output_type": "stream",
       "stream": "stdout",
       "text": [
        "98000\t22248\r\n",
        "99000\t22418\r\n",
        "100000\t22587\r\n",
        "101000\t22759\r\n"
       ]
      },
      {
       "output_type": "stream",
       "stream": "stdout",
       "text": [
        "102000\t22947\r\n",
        "103000\t23146\r\n",
        "104000\t23326\r\n"
       ]
      },
      {
       "output_type": "stream",
       "stream": "stdout",
       "text": [
        "105000\t23508\r\n",
        "106000\t23686\r\n",
        "107000\t23857\r\n",
        "108000\t24027\r\n"
       ]
      },
      {
       "output_type": "stream",
       "stream": "stdout",
       "text": [
        "109000\t24203\r\n",
        "110000\t24394\r\n",
        "111000\t24571\r\n"
       ]
      },
      {
       "output_type": "stream",
       "stream": "stdout",
       "text": [
        "112000\t24745\r\n",
        "113000\t24924\r\n",
        "114000\t25090\r\n",
        "115000\t25268\r\n"
       ]
      },
      {
       "output_type": "stream",
       "stream": "stdout",
       "text": [
        "116000\t25465\r\n",
        "117000\t25662\r\n",
        "118000\t25826\r\n"
       ]
      },
      {
       "output_type": "stream",
       "stream": "stdout",
       "text": [
        "119000\t25998\r\n",
        "120000\t26159\r\n",
        "121000\t26336\r\n",
        "122000\t26498\r\n"
       ]
      },
      {
       "output_type": "stream",
       "stream": "stdout",
       "text": [
        "123000\t26699\r\n",
        "124000\t26881\r\n",
        "125000\t27037\r\n",
        "126000\t27217\r\n"
       ]
      },
      {
       "output_type": "stream",
       "stream": "stdout",
       "text": [
        "127000\t27417\r\n",
        "128000\t27607\r\n",
        "129000\t27751\r\n",
        "130000\t27920\r\n"
       ]
      },
      {
       "output_type": "stream",
       "stream": "stdout",
       "text": [
        "131000\t28068\r\n",
        "132000\t28258\r\n",
        "133000\t28437\r\n",
        "134000\t28612\r\n"
       ]
      },
      {
       "output_type": "stream",
       "stream": "stdout",
       "text": [
        "135000\t28777\r\n",
        "136000\t28939\r\n",
        "137000\t29124\r\n",
        "138000\t29281\r\n",
        "139000\t29446\r\n"
       ]
      },
      {
       "output_type": "stream",
       "stream": "stdout",
       "text": [
        "140000\t29598\r\n",
        "141000\t29769\r\n",
        "142000\t29929\r\n",
        "143000\t30111\r\n"
       ]
      },
      {
       "output_type": "stream",
       "stream": "stdout",
       "text": [
        "144000\t30274\r\n",
        "145000\t30432\r\n",
        "146000\t30607\r\n",
        "147000\t30762\r\n"
       ]
      },
      {
       "output_type": "stream",
       "stream": "stdout",
       "text": [
        "148000\t30931\r\n",
        "149000\t31102\r\n",
        "150000\t31270\r\n",
        "151000\t31449\r\n"
       ]
      },
      {
       "output_type": "stream",
       "stream": "stdout",
       "text": [
        "152000\t31597\r\n",
        "153000\t31770\r\n",
        "154000\t31919\r\n",
        "155000\t32091\r\n"
       ]
      },
      {
       "output_type": "stream",
       "stream": "stdout",
       "text": [
        "156000\t32279\r\n",
        "157000\t32450\r\n",
        "158000\t32607\r\n",
        "159000\t32774\r\n",
        "160000\t32937\r\n"
       ]
      },
      {
       "output_type": "stream",
       "stream": "stdout",
       "text": [
        "161000\t33114\r\n",
        "162000\t33264\r\n",
        "163000\t33430\r\n",
        "164000\t33588\r\n"
       ]
      },
      {
       "output_type": "stream",
       "stream": "stdout",
       "text": [
        "165000\t33761\r\n",
        "166000\t33933\r\n",
        "167000\t34098\r\n",
        "168000\t34265\r\n"
       ]
      },
      {
       "output_type": "stream",
       "stream": "stdout",
       "text": [
        "169000\t34426\r\n",
        "170000\t34560\r\n",
        "171000\t34719\r\n",
        "172000\t34900\r\n"
       ]
      },
      {
       "output_type": "stream",
       "stream": "stdout",
       "text": [
        "173000\t35053\r\n",
        "174000\t35244\r\n",
        "175000\t35419\r\n",
        "176000\t35598\r\n"
       ]
      },
      {
       "output_type": "stream",
       "stream": "stdout",
       "text": [
        "177000\t35753\r\n",
        "178000\t35916\r\n",
        "179000\t36062\r\n",
        "180000\t36213\r\n"
       ]
      },
      {
       "output_type": "stream",
       "stream": "stdout",
       "text": [
        "181000\t36361\r\n",
        "182000\t36524\r\n",
        "183000\t36699\r\n",
        "184000\t36863\r\n"
       ]
      },
      {
       "output_type": "stream",
       "stream": "stdout",
       "text": [
        "185000\t37030\r\n",
        "186000\t37195\r\n",
        "187000\t37316\r\n",
        "188000\t37467\r\n",
        "189000\t37640\r\n"
       ]
      },
      {
       "output_type": "stream",
       "stream": "stdout",
       "text": [
        "190000\t37799\r\n",
        "191000\t37968\r\n",
        "192000\t38144\r\n",
        "193000\t38285\r\n"
       ]
      },
      {
       "output_type": "stream",
       "stream": "stdout",
       "text": [
        "194000\t38439\r\n",
        "195000\t38596\r\n",
        "196000\t38755\r\n",
        "197000\t38895\r\n"
       ]
      },
      {
       "output_type": "stream",
       "stream": "stdout",
       "text": [
        "198000\t39038\r\n",
        "199000\t39217\r\n",
        "200000\t39395\r\n",
        "201000\t39545\r\n"
       ]
      },
      {
       "output_type": "stream",
       "stream": "stdout",
       "text": [
        "202000\t39716\r\n",
        "203000\t39863\r\n",
        "204000\t40016\r\n",
        "205000\t40169\r\n"
       ]
      },
      {
       "output_type": "stream",
       "stream": "stdout",
       "text": [
        "206000\t40319\r\n",
        "207000\t40470\r\n",
        "208000\t40634\r\n",
        "209000\t40795\r\n"
       ]
      },
      {
       "output_type": "stream",
       "stream": "stdout",
       "text": [
        "210000\t40955\r\n",
        "211000\t41127\r\n",
        "212000\t41277\r\n",
        "213000\t41444\r\n"
       ]
      },
      {
       "output_type": "stream",
       "stream": "stdout",
       "text": [
        "214000\t41608\r\n",
        "215000\t41749\r\n",
        "216000\t41895\r\n",
        "217000\t42047\r\n"
       ]
      },
      {
       "output_type": "stream",
       "stream": "stdout",
       "text": [
        "218000\t42203\r\n",
        "219000\t42352\r\n",
        "220000\t42520\r\n",
        "221000\t42701\r\n"
       ]
      },
      {
       "output_type": "stream",
       "stream": "stdout",
       "text": [
        "222000\t42841\r\n",
        "223000\t42981\r\n",
        "224000\t43144\r\n",
        "225000\t43282\r\n",
        "226000\t43440\r\n"
       ]
      },
      {
       "output_type": "stream",
       "stream": "stdout",
       "text": [
        "227000\t43576\r\n",
        "228000\t43720\r\n",
        "229000\t43871\r\n",
        "230000\t44018\r\n"
       ]
      },
      {
       "output_type": "stream",
       "stream": "stdout",
       "text": [
        "231000\t44173\r\n",
        "232000\t44322\r\n",
        "233000\t44467\r\n",
        "234000\t44620\r\n"
       ]
      },
      {
       "output_type": "stream",
       "stream": "stdout",
       "text": [
        "235000\t44763\r\n",
        "236000\t44924\r\n",
        "237000\t45061\r\n",
        "238000\t45243\r\n"
       ]
      },
      {
       "output_type": "stream",
       "stream": "stdout",
       "text": [
        "239000\t45373\r\n",
        "240000\t45521\r\n",
        "241000\t45698\r\n",
        "242000\t45871\r\n"
       ]
      },
      {
       "output_type": "stream",
       "stream": "stdout",
       "text": [
        "243000\t46009\r\n",
        "244000\t46197\r\n",
        "245000\t46362\r\n",
        "246000\t46527\r\n"
       ]
      },
      {
       "output_type": "stream",
       "stream": "stdout",
       "text": [
        "247000\t46662\r\n",
        "248000\t46830\r\n",
        "249000\t46983\r\n",
        "250000\t47158\r\n"
       ]
      },
      {
       "output_type": "stream",
       "stream": "stdout",
       "text": [
        "251000\t47320\r\n",
        "252000\t47489\r\n",
        "253000\t47659\r\n",
        "254000\t47830\r\n"
       ]
      },
      {
       "output_type": "stream",
       "stream": "stdout",
       "text": [
        "255000\t47999\r\n",
        "256000\t48181\r\n",
        "257000\t48352\r\n",
        "258000\t48529\r\n"
       ]
      },
      {
       "output_type": "stream",
       "stream": "stdout",
       "text": [
        "259000\t48696\r\n",
        "260000\t48875\r\n",
        "261000\t49033\r\n",
        "262000\t49200\r\n"
       ]
      },
      {
       "output_type": "stream",
       "stream": "stdout",
       "text": [
        "263000\t49391\r\n",
        "264000\t49541\r\n",
        "265000\t49704\r\n",
        "266000\t49879\r\n"
       ]
      },
      {
       "output_type": "stream",
       "stream": "stdout",
       "text": [
        "267000\t50065\r\n",
        "268000\t50247\r\n",
        "269000\t50420\r\n",
        "270000\t50601\r\n"
       ]
      },
      {
       "output_type": "stream",
       "stream": "stdout",
       "text": [
        "271000\t50775\r\n",
        "272000\t50959\r\n",
        "273000\t51153\r\n",
        "274000\t51375\r\n"
       ]
      },
      {
       "output_type": "stream",
       "stream": "stdout",
       "text": [
        "275000\t51559\r\n",
        "276000\t51769\r\n",
        "277000\t51960\r\n",
        "278000\t52164\r\n"
       ]
      },
      {
       "output_type": "stream",
       "stream": "stdout",
       "text": [
        "279000\t52345\r\n",
        "280000\t52549\r\n",
        "281000\t52722\r\n",
        "282000\t52886\r\n",
        "283000\t53041\r\n"
       ]
      },
      {
       "output_type": "stream",
       "stream": "stdout",
       "text": [
        "284000\t53217\r\n",
        "285000\t53379\r\n",
        "286000\t53533\r\n",
        "287000\t53701\r\n"
       ]
      },
      {
       "output_type": "stream",
       "stream": "stdout",
       "text": [
        "288000\t53872\r\n",
        "289000\t54024\r\n",
        "290000\t54161\r\n",
        "291000\t54294\r\n"
       ]
      },
      {
       "output_type": "stream",
       "stream": "stdout",
       "text": [
        "292000\t54441\r\n",
        "293000\t54588\r\n",
        "294000\t54738\r\n",
        "295000\t54892\r\n"
       ]
      },
      {
       "output_type": "stream",
       "stream": "stdout",
       "text": [
        "296000\t55055\r\n",
        "297000\t55208\r\n",
        "298000\t55357\r\n",
        "299000\t55489\r\n"
       ]
      },
      {
       "output_type": "stream",
       "stream": "stdout",
       "text": [
        "300000\t55642\r\n",
        "301000\t55800\r\n",
        "302000\t55954\r\n",
        "303000\t56110\r\n"
       ]
      },
      {
       "output_type": "stream",
       "stream": "stdout",
       "text": [
        "304000\t56262\r\n",
        "305000\t56418\r\n",
        "306000\t56573\r\n",
        "307000\t56733\r\n"
       ]
      },
      {
       "output_type": "stream",
       "stream": "stdout",
       "text": [
        "308000\t56881\r\n",
        "309000\t57015\r\n",
        "310000\t57186\r\n",
        "311000\t57336\r\n"
       ]
      },
      {
       "output_type": "stream",
       "stream": "stdout",
       "text": [
        "312000\t57475\r\n",
        "313000\t57618\r\n",
        "314000\t57773\r\n",
        "315000\t57907\r\n"
       ]
      },
      {
       "output_type": "stream",
       "stream": "stdout",
       "text": [
        "316000\t58065\r\n",
        "317000\t58227\r\n",
        "318000\t58366\r\n",
        "319000\t58519\r\n"
       ]
      },
      {
       "output_type": "stream",
       "stream": "stdout",
       "text": [
        "320000\t58652\r\n",
        "321000\t58803\r\n",
        "322000\t58939\r\n",
        "323000\t59073\r\n"
       ]
      },
      {
       "output_type": "stream",
       "stream": "stdout",
       "text": [
        "324000\t59227\r\n",
        "325000\t59388\r\n",
        "326000\t59532\r\n",
        "327000\t59671\r\n"
       ]
      },
      {
       "output_type": "stream",
       "stream": "stdout",
       "text": [
        "328000\t59837\r\n",
        "329000\t59969\r\n",
        "330000\t60109\r\n",
        "331000\t60233\r\n"
       ]
      },
      {
       "output_type": "stream",
       "stream": "stdout",
       "text": [
        "332000\t60352\r\n",
        "333000\t60481\r\n",
        "334000\t60612\r\n",
        "335000\t60759\r\n"
       ]
      },
      {
       "output_type": "stream",
       "stream": "stdout",
       "text": [
        "336000\t60900\r\n",
        "337000\t61025\r\n",
        "338000\t61186\r\n",
        "339000\t61323\r\n"
       ]
      },
      {
       "output_type": "stream",
       "stream": "stdout",
       "text": [
        "340000\t61466\r\n",
        "341000\t61594\r\n",
        "342000\t61735\r\n",
        "343000\t61877\r\n"
       ]
      },
      {
       "output_type": "stream",
       "stream": "stdout",
       "text": [
        "344000\t62039\r\n",
        "345000\t62183\r\n",
        "346000\t62305\r\n",
        "347000\t62433\r\n"
       ]
      },
      {
       "output_type": "stream",
       "stream": "stdout",
       "text": [
        "348000\t62564\r\n",
        "349000\t62718\r\n",
        "350000\t62871\r\n",
        "351000\t63011\r\n"
       ]
      },
      {
       "output_type": "stream",
       "stream": "stdout",
       "text": [
        "352000\t63159\r\n",
        "353000\t63295\r\n",
        "354000\t63442\r\n",
        "355000\t63573\r\n"
       ]
      },
      {
       "output_type": "stream",
       "stream": "stdout",
       "text": [
        "356000\t63721\r\n",
        "357000\t63864\r\n",
        "358000\t63995\r\n",
        "359000\t64138\r\n"
       ]
      },
      {
       "output_type": "stream",
       "stream": "stdout",
       "text": [
        "360000\t64270\r\n",
        "361000\t64409\r\n",
        "362000\t64534\r\n",
        "363000\t64669\r\n"
       ]
      },
      {
       "output_type": "stream",
       "stream": "stdout",
       "text": [
        "364000\t64797\r\n",
        "365000\t64946\r\n",
        "366000\t65072\r\n",
        "367000\t65215\r\n"
       ]
      },
      {
       "output_type": "stream",
       "stream": "stdout",
       "text": [
        "368000\t65333\r\n",
        "369000\t65468\r\n",
        "370000\t65615\r\n",
        "371000\t65750\r\n"
       ]
      },
      {
       "output_type": "stream",
       "stream": "stdout",
       "text": [
        "372000\t65881\r\n",
        "373000\t66032\r\n",
        "374000\t66176\r\n",
        "375000\t66297\r\n"
       ]
      },
      {
       "output_type": "stream",
       "stream": "stdout",
       "text": [
        "376000\t66427\r\n",
        "377000\t66559\r\n",
        "378000\t66697\r\n",
        "379000\t66813\r\n"
       ]
      },
      {
       "output_type": "stream",
       "stream": "stdout",
       "text": [
        "380000\t66944\r\n",
        "381000\t67079\r\n",
        "382000\t67227\r\n",
        "383000\t67380\r\n"
       ]
      },
      {
       "output_type": "stream",
       "stream": "stdout",
       "text": [
        "384000\t67517\r\n",
        "385000\t67644\r\n",
        "386000\t67770\r\n",
        "387000\t67899\r\n"
       ]
      },
      {
       "output_type": "stream",
       "stream": "stdout",
       "text": [
        "388000\t68041\r\n",
        "389000\t68167\r\n",
        "390000\t68295\r\n",
        "391000\t68426\r\n"
       ]
      },
      {
       "output_type": "stream",
       "stream": "stdout",
       "text": [
        "392000\t68557\r\n",
        "393000\t68699\r\n",
        "394000\t68836\r\n",
        "395000\t68978\r\n"
       ]
      },
      {
       "output_type": "stream",
       "stream": "stdout",
       "text": [
        "396000\t69112\r\n",
        "397000\t69232\r\n",
        "398000\t69371\r\n",
        "399000\t69511\r\n"
       ]
      },
      {
       "output_type": "stream",
       "stream": "stdout",
       "text": [
        "400000\t69619\r\n",
        "401000\t69751\r\n",
        "402000\t69884\r\n",
        "403000\t70036\r\n"
       ]
      },
      {
       "output_type": "stream",
       "stream": "stdout",
       "text": [
        "404000\t70179\r\n",
        "405000\t70306\r\n",
        "406000\t70441\r\n",
        "407000\t70566\r\n"
       ]
      },
      {
       "output_type": "stream",
       "stream": "stdout",
       "text": [
        "408000\t70688\r\n",
        "409000\t70804\r\n",
        "410000\t70924\r\n",
        "411000\t71069\r\n"
       ]
      },
      {
       "output_type": "stream",
       "stream": "stdout",
       "text": [
        "412000\t71203\r\n",
        "413000\t71353\r\n",
        "414000\t71476\r\n",
        "415000\t71610\r\n"
       ]
      },
      {
       "output_type": "stream",
       "stream": "stdout",
       "text": [
        "416000\t71722\r\n",
        "417000\t71836\r\n",
        "418000\t71957\r\n",
        "419000\t72091\r\n"
       ]
      },
      {
       "output_type": "stream",
       "stream": "stdout",
       "text": [
        "420000\t72228\r\n",
        "421000\t72383\r\n",
        "422000\t72512\r\n",
        "423000\t72634\r\n"
       ]
      },
      {
       "output_type": "stream",
       "stream": "stdout",
       "text": [
        "424000\t72753\r\n",
        "425000\t72906\r\n",
        "426000\t73051\r\n",
        "427000\t73187\r\n"
       ]
      },
      {
       "output_type": "stream",
       "stream": "stdout",
       "text": [
        "428000\t73326\r\n",
        "429000\t73467\r\n",
        "430000\t73588\r\n",
        "431000\t73704\r\n"
       ]
      },
      {
       "output_type": "stream",
       "stream": "stdout",
       "text": [
        "432000\t73849\r\n",
        "433000\t73971\r\n",
        "434000\t74119\r\n",
        "435000\t74257\r\n"
       ]
      },
      {
       "output_type": "stream",
       "stream": "stdout",
       "text": [
        "436000\t74389\r\n",
        "437000\t74497\r\n",
        "438000\t74625\r\n",
        "439000\t74765\r\n"
       ]
      },
      {
       "output_type": "stream",
       "stream": "stdout",
       "text": [
        "440000\t74894\r\n",
        "441000\t75018\r\n",
        "442000\t75144\r\n",
        "443000\t75280\r\n"
       ]
      },
      {
       "output_type": "stream",
       "stream": "stdout",
       "text": [
        "444000\t75398\r\n",
        "445000\t75522\r\n",
        "446000\t75650\r\n",
        "447000\t75765\r\n"
       ]
      },
      {
       "output_type": "stream",
       "stream": "stdout",
       "text": [
        "448000\t75891\r\n",
        "449000\t76016\r\n",
        "450000\t76157\r\n",
        "451000\t76287\r\n"
       ]
      },
      {
       "output_type": "stream",
       "stream": "stdout",
       "text": [
        "452000\t76429\r\n",
        "453000\t76564\r\n",
        "454000\t76701\r\n",
        "455000\t76826\r\n"
       ]
      },
      {
       "output_type": "stream",
       "stream": "stdout",
       "text": [
        "456000\t76970\r\n",
        "457000\t77106\r\n",
        "458000\t77231\r\n",
        "459000\t77358\r\n"
       ]
      },
      {
       "output_type": "stream",
       "stream": "stdout",
       "text": [
        "460000\t77482\r\n",
        "461000\t77601\r\n",
        "462000\t77719\r\n",
        "463000\t77852\r\n"
       ]
      },
      {
       "output_type": "stream",
       "stream": "stdout",
       "text": [
        "464000\t77975\r\n",
        "465000\t78094\r\n",
        "466000\t78228\r\n",
        "467000\t78364\r\n"
       ]
      },
      {
       "output_type": "stream",
       "stream": "stdout",
       "text": [
        "468000\t78505\r\n",
        "469000\t78625\r\n",
        "470000\t78739\r\n",
        "471000\t78878\r\n"
       ]
      },
      {
       "output_type": "stream",
       "stream": "stdout",
       "text": [
        "472000\t79009\r\n",
        "473000\t79154\r\n",
        "474000\t79276\r\n",
        "475000\t79415\r\n"
       ]
      },
      {
       "output_type": "stream",
       "stream": "stdout",
       "text": [
        "476000\t79534\r\n",
        "477000\t79664\r\n",
        "478000\t79800\r\n",
        "479000\t79930\r\n"
       ]
      },
      {
       "output_type": "stream",
       "stream": "stdout",
       "text": [
        "480000\t80051\r\n",
        "481000\t80181\r\n",
        "482000\t80330\r\n",
        "483000\t80455\r\n"
       ]
      },
      {
       "output_type": "stream",
       "stream": "stdout",
       "text": [
        "484000\t80570\r\n",
        "485000\t80704\r\n",
        "486000\t80835\r\n",
        "487000\t80959\r\n"
       ]
      },
      {
       "output_type": "stream",
       "stream": "stdout",
       "text": [
        "488000\t81092\r\n",
        "489000\t81230\r\n",
        "490000\t81348\r\n",
        "491000\t81479\r\n"
       ]
      },
      {
       "output_type": "stream",
       "stream": "stdout",
       "text": [
        "492000\t81601\r\n",
        "493000\t81728\r\n",
        "494000\t81855\r\n",
        "495000\t81980\r\n"
       ]
      },
      {
       "output_type": "stream",
       "stream": "stdout",
       "text": [
        "496000\t82112\r\n",
        "497000\t82240\r\n",
        "498000\t82386\r\n",
        "499000\t82526\r\n"
       ]
      },
      {
       "output_type": "stream",
       "stream": "stdout",
       "text": [
        "500000\t82645\r\n",
        "501000\t82754\r\n",
        "502000\t82878\r\n",
        "503000\t83006\r\n"
       ]
      },
      {
       "output_type": "stream",
       "stream": "stdout",
       "text": [
        "504000\t83138\r\n",
        "505000\t83271\r\n",
        "506000\t83390\r\n",
        "507000\t83506\r\n"
       ]
      },
      {
       "output_type": "stream",
       "stream": "stdout",
       "text": [
        "508000\t83645\r\n",
        "509000\t83774\r\n",
        "510000\t83893\r\n",
        "511000\t84035\r\n"
       ]
      },
      {
       "output_type": "stream",
       "stream": "stdout",
       "text": [
        "512000\t84176\r\n",
        "513000\t84309\r\n",
        "514000\t84454\r\n",
        "515000\t84581\r\n"
       ]
      },
      {
       "output_type": "stream",
       "stream": "stdout",
       "text": [
        "516000\t84697\r\n",
        "517000\t84820\r\n",
        "518000\t84937\r\n",
        "519000\t85078\r\n"
       ]
      },
      {
       "output_type": "stream",
       "stream": "stdout",
       "text": [
        "520000\t85225\r\n",
        "521000\t85365\r\n",
        "522000\t85498\r\n",
        "523000\t85623\r\n"
       ]
      },
      {
       "output_type": "stream",
       "stream": "stdout",
       "text": [
        "524000\t85745\r\n",
        "525000\t85881\r\n",
        "526000\t86010\r\n",
        "527000\t86124\r\n"
       ]
      },
      {
       "output_type": "stream",
       "stream": "stdout",
       "text": [
        "528000\t86267\r\n",
        "529000\t86410\r\n",
        "530000\t86539\r\n",
        "531000\t86671\r\n"
       ]
      },
      {
       "output_type": "stream",
       "stream": "stdout",
       "text": [
        "532000\t86810\r\n",
        "533000\t86946\r\n",
        "534000\t87096\r\n",
        "535000\t87246\r\n"
       ]
      },
      {
       "output_type": "stream",
       "stream": "stdout",
       "text": [
        "536000\t87372\r\n",
        "537000\t87525\r\n",
        "538000\t87678\r\n",
        "539000\t87818\r\n"
       ]
      },
      {
       "output_type": "stream",
       "stream": "stdout",
       "text": [
        "540000\t87973\r\n",
        "541000\t88134\r\n",
        "542000\t88281\r\n",
        "543000\t88411\r\n"
       ]
      },
      {
       "output_type": "stream",
       "stream": "stdout",
       "text": [
        "544000\t88594\r\n",
        "545000\t88779\r\n",
        "546000\t88986\r\n"
       ]
      },
      {
       "output_type": "stream",
       "stream": "stdout",
       "text": [
        "547000\t89156\r\n",
        "548000\t89310\r\n",
        "549000\t89489\r\n",
        "550000\t89657\r\n"
       ]
      },
      {
       "output_type": "stream",
       "stream": "stdout",
       "text": [
        "551000\t89825\r\n",
        "552000\t89977\r\n",
        "553000\t90135\r\n",
        "554000\t90261\r\n"
       ]
      },
      {
       "output_type": "stream",
       "stream": "stdout",
       "text": [
        "555000\t90414\r\n",
        "556000\t90566\r\n",
        "557000\t90710\r\n",
        "558000\t90837\r\n"
       ]
      },
      {
       "output_type": "stream",
       "stream": "stdout",
       "text": [
        "559000\t90990\r\n",
        "560000\t91123\r\n",
        "561000\t91263\r\n",
        "562000\t91403\r\n"
       ]
      },
      {
       "output_type": "stream",
       "stream": "stdout",
       "text": [
        "563000\t91550\r\n",
        "564000\t91699\r\n",
        "565000\t91850\r\n",
        "566000\t91994\r\n"
       ]
      },
      {
       "output_type": "stream",
       "stream": "stdout",
       "text": [
        "567000\t92134\r\n",
        "568000\t92292\r\n",
        "569000\t92426\r\n",
        "570000\t92550\r\n"
       ]
      },
      {
       "output_type": "stream",
       "stream": "stdout",
       "text": [
        "571000\t92693\r\n",
        "572000\t92819\r\n",
        "573000\t92947\r\n",
        "574000\t93091\r\n"
       ]
      },
      {
       "output_type": "stream",
       "stream": "stdout",
       "text": [
        "575000\t93231\r\n",
        "576000\t93351\r\n",
        "577000\t93496\r\n",
        "578000\t93643\r\n"
       ]
      },
      {
       "output_type": "stream",
       "stream": "stdout",
       "text": [
        "579000\t93781\r\n",
        "580000\t93928\r\n",
        "581000\t94059\r\n",
        "582000\t94178\r\n"
       ]
      },
      {
       "output_type": "stream",
       "stream": "stdout",
       "text": [
        "583000\t94293\r\n",
        "584000\t94419\r\n",
        "585000\t94577\r\n",
        "586000\t94723\r\n"
       ]
      },
      {
       "output_type": "stream",
       "stream": "stdout",
       "text": [
        "587000\t94863\r\n",
        "588000\t95023\r\n",
        "589000\t95163\r\n"
       ]
      },
      {
       "output_type": "stream",
       "stream": "stdout",
       "text": [
        "590000\t95288\r\n",
        "591000\t95439\r\n",
        "592000\t95578\r\n",
        "593000\t95703\r\n"
       ]
      },
      {
       "output_type": "stream",
       "stream": "stdout",
       "text": [
        "594000\t95838\r\n",
        "595000\t95975\r\n",
        "596000\t96118\r\n",
        "597000\t96248\r\n"
       ]
      },
      {
       "output_type": "stream",
       "stream": "stdout",
       "text": [
        "598000\t96386\r\n",
        "599000\t96535\r\n",
        "600000\t96679\r\n",
        "601000\t96807\r\n"
       ]
      },
      {
       "output_type": "stream",
       "stream": "stdout",
       "text": [
        "602000\t96930\r\n",
        "603000\t97086\r\n",
        "604000\t97212\r\n",
        "605000\t97346\r\n"
       ]
      },
      {
       "output_type": "stream",
       "stream": "stdout",
       "text": [
        "606000\t97480\r\n",
        "607000\t97603\r\n",
        "608000\t97731\r\n",
        "609000\t97849\r\n"
       ]
      },
      {
       "output_type": "stream",
       "stream": "stdout",
       "text": [
        "610000\t97985\r\n",
        "611000\t98123\r\n",
        "612000\t98248\r\n",
        "613000\t98373\r\n"
       ]
      },
      {
       "output_type": "stream",
       "stream": "stdout",
       "text": [
        "614000\t98500\r\n",
        "615000\t98648\r\n",
        "616000\t98803\r\n",
        "617000\t98914\r\n"
       ]
      },
      {
       "output_type": "stream",
       "stream": "stdout",
       "text": [
        "618000\t99061\r\n",
        "619000\t99174\r\n",
        "620000\t99294\r\n",
        "621000\t99424\r\n"
       ]
      },
      {
       "output_type": "stream",
       "stream": "stdout",
       "text": [
        "622000\t99540\r\n",
        "623000\t99665\r\n",
        "624000\t99786\r\n",
        "625000\t99929\r\n"
       ]
      },
      {
       "output_type": "stream",
       "stream": "stdout",
       "text": [
        "626000\t100073\r\n",
        "627000\t100200\r\n",
        "628000\t100324\r\n",
        "629000\t100453\r\n"
       ]
      },
      {
       "output_type": "stream",
       "stream": "stdout",
       "text": [
        "630000\t100580\r\n",
        "631000\t100702\r\n",
        "632000\t100828\r\n",
        "633000\t100949\r\n"
       ]
      },
      {
       "output_type": "stream",
       "stream": "stdout",
       "text": [
        "634000\t101072\r\n",
        "635000\t101201\r\n",
        "636000\t101337\r\n"
       ]
      },
      {
       "output_type": "stream",
       "stream": "stdout",
       "text": [
        "637000\t101444\r\n",
        "638000\t101572\r\n",
        "639000\t101710\r\n",
        "640000\t101854\r\n"
       ]
      },
      {
       "output_type": "stream",
       "stream": "stdout",
       "text": [
        "641000\t101986\r\n",
        "642000\t102106\r\n",
        "643000\t102244\r\n",
        "644000\t102363\r\n"
       ]
      },
      {
       "output_type": "stream",
       "stream": "stdout",
       "text": [
        "645000\t102481\r\n",
        "646000\t102617\r\n",
        "647000\t102738\r\n",
        "648000\t102879\r\n"
       ]
      },
      {
       "output_type": "stream",
       "stream": "stdout",
       "text": [
        "649000\t102988\r\n",
        "650000\t103109\r\n",
        "651000\t103229\r\n",
        "652000\t103363\r\n"
       ]
      },
      {
       "output_type": "stream",
       "stream": "stdout",
       "text": [
        "653000\t103492\r\n",
        "654000\t103609\r\n",
        "655000\t103735\r\n",
        "656000\t103873\r\n"
       ]
      },
      {
       "output_type": "stream",
       "stream": "stdout",
       "text": [
        "657000\t103988\r\n",
        "658000\t104124\r\n",
        "659000\t104259\r\n",
        "660000\t104395\r\n"
       ]
      },
      {
       "output_type": "stream",
       "stream": "stdout",
       "text": [
        "661000\t104517\r\n",
        "662000\t104631\r\n",
        "663000\t104763\r\n",
        "664000\t104887\r\n"
       ]
      },
      {
       "output_type": "stream",
       "stream": "stdout",
       "text": [
        "665000\t105014\r\n",
        "666000\t105137\r\n",
        "667000\t105280\r\n",
        "668000\t105401\r\n"
       ]
      },
      {
       "output_type": "stream",
       "stream": "stdout",
       "text": [
        "669000\t105518\r\n",
        "670000\t105657\r\n",
        "671000\t105782\r\n",
        "672000\t105906\r\n"
       ]
      },
      {
       "output_type": "stream",
       "stream": "stdout",
       "text": [
        "673000\t106020\r\n",
        "674000\t106141\r\n",
        "675000\t106271\r\n",
        "676000\t106388\r\n"
       ]
      },
      {
       "output_type": "stream",
       "stream": "stdout",
       "text": [
        "677000\t106515\r\n",
        "678000\t106653\r\n",
        "679000\t106769\r\n",
        "680000\t106892\r\n"
       ]
      },
      {
       "output_type": "stream",
       "stream": "stdout",
       "text": [
        "681000\t107022\r\n",
        "682000\t107142\r\n",
        "683000\t107256\r\n"
       ]
      },
      {
       "output_type": "stream",
       "stream": "stdout",
       "text": [
        "684000\t107372\r\n",
        "685000\t107509\r\n",
        "686000\t107627\r\n",
        "687000\t107751\r\n"
       ]
      },
      {
       "output_type": "stream",
       "stream": "stdout",
       "text": [
        "688000\t107858\r\n",
        "689000\t107964\r\n",
        "690000\t108085\r\n",
        "691000\t108229\r\n"
       ]
      },
      {
       "output_type": "stream",
       "stream": "stdout",
       "text": [
        "692000\t108350\r\n",
        "693000\t108474\r\n",
        "694000\t108589\r\n",
        "695000\t108705\r\n"
       ]
      },
      {
       "output_type": "stream",
       "stream": "stdout",
       "text": [
        "696000\t108831\r\n",
        "697000\t108969\r\n",
        "698000\t109101\r\n",
        "699000\t109214\r\n"
       ]
      },
      {
       "output_type": "stream",
       "stream": "stdout",
       "text": [
        "700000\t109331\r\n",
        "701000\t109446\r\n",
        "702000\t109584\r\n",
        "703000\t109701\r\n"
       ]
      },
      {
       "output_type": "stream",
       "stream": "stdout",
       "text": [
        "704000\t109825\r\n",
        "705000\t109961\r\n",
        "706000\t110114\r\n",
        "707000\t110242\r\n"
       ]
      },
      {
       "output_type": "stream",
       "stream": "stdout",
       "text": [
        "708000\t110373\r\n",
        "709000\t110486\r\n",
        "710000\t110591\r\n",
        "711000\t110708\r\n"
       ]
      },
      {
       "output_type": "stream",
       "stream": "stdout",
       "text": [
        "712000\t110832\r\n",
        "713000\t110940\r\n",
        "714000\t111052\r\n",
        "715000\t111165\r\n"
       ]
      },
      {
       "output_type": "stream",
       "stream": "stdout",
       "text": [
        "716000\t111284\r\n",
        "717000\t111414\r\n",
        "718000\t111547\r\n",
        "719000\t111694\r\n"
       ]
      },
      {
       "output_type": "stream",
       "stream": "stdout",
       "text": [
        "720000\t111808\r\n",
        "721000\t111933\r\n",
        "722000\t112056\r\n",
        "723000\t112170\r\n"
       ]
      },
      {
       "output_type": "stream",
       "stream": "stdout",
       "text": [
        "724000\t112288\r\n",
        "725000\t112404\r\n",
        "726000\t112513\r\n"
       ]
      },
      {
       "output_type": "stream",
       "stream": "stdout",
       "text": [
        "727000\t112637\r\n",
        "728000\t112765\r\n",
        "729000\t112884\r\n",
        "730000\t113021\r\n"
       ]
      },
      {
       "output_type": "stream",
       "stream": "stdout",
       "text": [
        "731000\t113147\r\n",
        "732000\t113272\r\n",
        "733000\t113378\r\n",
        "734000\t113490\r\n"
       ]
      },
      {
       "output_type": "stream",
       "stream": "stdout",
       "text": [
        "735000\t113601\r\n",
        "736000\t113720\r\n",
        "737000\t113845\r\n",
        "738000\t113968\r\n"
       ]
      },
      {
       "output_type": "stream",
       "stream": "stdout",
       "text": [
        "739000\t114110\r\n",
        "740000\t114217\r\n",
        "741000\t114367\r\n",
        "742000\t114492\r\n"
       ]
      },
      {
       "output_type": "stream",
       "stream": "stdout",
       "text": [
        "743000\t114601\r\n",
        "744000\t114714\r\n",
        "745000\t114845\r\n",
        "746000\t114966\r\n"
       ]
      },
      {
       "output_type": "stream",
       "stream": "stdout",
       "text": [
        "747000\t115084\r\n",
        "748000\t115205\r\n",
        "749000\t115335\r\n",
        "750000\t115480\r\n"
       ]
      },
      {
       "output_type": "stream",
       "stream": "stdout",
       "text": [
        "751000\t115599\r\n",
        "752000\t115732\r\n",
        "753000\t115841\r\n",
        "754000\t115962\r\n"
       ]
      },
      {
       "output_type": "stream",
       "stream": "stdout",
       "text": [
        "755000\t116083\r\n",
        "756000\t116174\r\n",
        "757000\t116295\r\n",
        "758000\t116410\r\n"
       ]
      },
      {
       "output_type": "stream",
       "stream": "stdout",
       "text": [
        "759000\t116541\r\n",
        "760000\t116665\r\n",
        "761000\t116791\r\n",
        "762000\t116924\r\n"
       ]
      },
      {
       "output_type": "stream",
       "stream": "stdout",
       "text": [
        "763000\t117057\r\n",
        "764000\t117180\r\n",
        "765000\t117315\r\n"
       ]
      },
      {
       "output_type": "stream",
       "stream": "stdout",
       "text": [
        "766000\t117421\r\n",
        "767000\t117538\r\n",
        "768000\t117650\r\n",
        "769000\t117780\r\n"
       ]
      },
      {
       "output_type": "stream",
       "stream": "stdout",
       "text": [
        "770000\t117914\r\n",
        "771000\t118048\r\n",
        "772000\t118153\r\n",
        "773000\t118294\r\n"
       ]
      },
      {
       "output_type": "stream",
       "stream": "stdout",
       "text": [
        "774000\t118408\r\n",
        "775000\t118529\r\n",
        "776000\t118659\r\n",
        "777000\t118784\r\n"
       ]
      },
      {
       "output_type": "stream",
       "stream": "stdout",
       "text": [
        "778000\t118900\r\n",
        "779000\t119018\r\n",
        "780000\t119163\r\n",
        "781000\t119293\r\n"
       ]
      },
      {
       "output_type": "stream",
       "stream": "stdout",
       "text": [
        "782000\t119397\r\n",
        "783000\t119536\r\n",
        "784000\t119674\r\n",
        "785000\t119796\r\n"
       ]
      },
      {
       "output_type": "stream",
       "stream": "stdout",
       "text": [
        "786000\t119921\r\n",
        "787000\t120071\r\n",
        "788000\t120192\r\n",
        "789000\t120342\r\n"
       ]
      },
      {
       "output_type": "stream",
       "stream": "stdout",
       "text": [
        "790000\t120473\r\n",
        "791000\t120611\r\n",
        "792000\t120730\r\n",
        "793000\t120885\r\n"
       ]
      },
      {
       "output_type": "stream",
       "stream": "stdout",
       "text": [
        "794000\t120998\r\n",
        "795000\t121135\r\n",
        "796000\t121254\r\n",
        "797000\t121388\r\n"
       ]
      },
      {
       "output_type": "stream",
       "stream": "stdout",
       "text": [
        "798000\t121507\r\n",
        "799000\t121629\r\n",
        "800000\t121776\r\n"
       ]
      },
      {
       "output_type": "stream",
       "stream": "stdout",
       "text": [
        "801000\t121916\r\n",
        "802000\t122058\r\n",
        "803000\t122178\r\n",
        "804000\t122331\r\n"
       ]
      },
      {
       "output_type": "stream",
       "stream": "stdout",
       "text": [
        "805000\t122481\r\n",
        "806000\t122626\r\n",
        "807000\t122773\r\n",
        "808000\t122937\r\n"
       ]
      },
      {
       "output_type": "stream",
       "stream": "stdout",
       "text": [
        "809000\t123067\r\n",
        "810000\t123213\r\n",
        "811000\t123350\r\n",
        "812000\t123485\r\n"
       ]
      },
      {
       "output_type": "stream",
       "stream": "stdout",
       "text": [
        "813000\t123631\r\n",
        "814000\t123814\r\n",
        "815000\t124009\r\n",
        "816000\t124180\r\n"
       ]
      },
      {
       "output_type": "stream",
       "stream": "stdout",
       "text": [
        "817000\t124343\r\n",
        "818000\t124503\r\n",
        "819000\t124666\r\n",
        "820000\t124845\r\n"
       ]
      },
      {
       "output_type": "stream",
       "stream": "stdout",
       "text": [
        "821000\t125011\r\n",
        "822000\t125154\r\n",
        "823000\t125306\r\n",
        "824000\t125444\r\n"
       ]
      },
      {
       "output_type": "stream",
       "stream": "stdout",
       "text": [
        "825000\t125592\r\n",
        "826000\t125751\r\n",
        "827000\t125907\r\n"
       ]
      },
      {
       "output_type": "stream",
       "stream": "stdout",
       "text": [
        "828000\t126047\r\n",
        "829000\t126198\r\n",
        "830000\t126323\r\n",
        "831000\t126435\r\n"
       ]
      },
      {
       "output_type": "stream",
       "stream": "stdout",
       "text": [
        "832000\t126568\r\n",
        "833000\t126705\r\n",
        "834000\t126830\r\n",
        "835000\t126953\r\n"
       ]
      },
      {
       "output_type": "stream",
       "stream": "stdout",
       "text": [
        "836000\t127086\r\n",
        "837000\t127219\r\n",
        "838000\t127349\r\n",
        "839000\t127462\r\n"
       ]
      },
      {
       "output_type": "stream",
       "stream": "stdout",
       "text": [
        "840000\t127595\r\n",
        "841000\t127719\r\n",
        "842000\t127857\r\n",
        "843000\t127990\r\n"
       ]
      },
      {
       "output_type": "stream",
       "stream": "stdout",
       "text": [
        "844000\t128128\r\n",
        "845000\t128268\r\n",
        "846000\t128391\r\n",
        "847000\t128513\r\n"
       ]
      },
      {
       "output_type": "stream",
       "stream": "stdout",
       "text": [
        "848000\t128637\r\n",
        "849000\t128776\r\n",
        "850000\t128923\r\n",
        "851000\t129049\r\n"
       ]
      },
      {
       "output_type": "stream",
       "stream": "stdout",
       "text": [
        "852000\t129171\r\n",
        "853000\t129309\r\n",
        "854000\t129455\r\n"
       ]
      },
      {
       "output_type": "stream",
       "stream": "stdout",
       "text": [
        "855000\t129583\r\n",
        "856000\t129717\r\n",
        "857000\t129864\r\n",
        "858000\t129999\r\n"
       ]
      },
      {
       "output_type": "stream",
       "stream": "stdout",
       "text": [
        "859000\t130110\r\n",
        "860000\t130233\r\n",
        "861000\t130363\r\n",
        "862000\t130491\r\n"
       ]
      },
      {
       "output_type": "stream",
       "stream": "stdout",
       "text": [
        "863000\t130597\r\n",
        "864000\t130729\r\n",
        "865000\t130859\r\n",
        "866000\t130993\r\n"
       ]
      },
      {
       "output_type": "stream",
       "stream": "stdout",
       "text": [
        "867000\t131132\r\n",
        "868000\t131246\r\n",
        "869000\t131390\r\n",
        "870000\t131515\r\n"
       ]
      },
      {
       "output_type": "stream",
       "stream": "stdout",
       "text": [
        "871000\t131626\r\n",
        "872000\t131751\r\n",
        "873000\t131880\r\n"
       ]
      },
      {
       "output_type": "stream",
       "stream": "stdout",
       "text": [
        "874000\t132007\r\n",
        "875000\t132137\r\n",
        "876000\t132263\r\n",
        "877000\t132388\r\n"
       ]
      },
      {
       "output_type": "stream",
       "stream": "stdout",
       "text": [
        "878000\t132503\r\n",
        "879000\t132620\r\n",
        "880000\t132738\r\n",
        "881000\t132857\r\n"
       ]
      },
      {
       "output_type": "stream",
       "stream": "stdout",
       "text": [
        "882000\t132981\r\n",
        "883000\t133106\r\n",
        "884000\t133233\r\n",
        "885000\t133345\r\n"
       ]
      },
      {
       "output_type": "stream",
       "stream": "stdout",
       "text": [
        "886000\t133475\r\n",
        "887000\t133596\r\n",
        "888000\t133704\r\n",
        "889000\t133829\r\n"
       ]
      },
      {
       "output_type": "stream",
       "stream": "stdout",
       "text": [
        "890000\t133954\r\n",
        "891000\t134069\r\n",
        "892000\t134183\r\n",
        "893000\t134332\r\n"
       ]
      },
      {
       "output_type": "stream",
       "stream": "stdout",
       "text": [
        "894000\t134443\r\n",
        "895000\t134566\r\n",
        "896000\t134696\r\n"
       ]
      },
      {
       "output_type": "stream",
       "stream": "stdout",
       "text": [
        "897000\t134825\r\n",
        "898000\t134938\r\n",
        "899000\t135050\r\n",
        "900000\t135160\r\n"
       ]
      },
      {
       "output_type": "stream",
       "stream": "stdout",
       "text": [
        "901000\t135268\r\n",
        "902000\t135393\r\n",
        "903000\t135505\r\n",
        "904000\t135630\r\n"
       ]
      },
      {
       "output_type": "stream",
       "stream": "stdout",
       "text": [
        "905000\t135742\r\n",
        "906000\t135859\r\n",
        "907000\t135974\r\n",
        "908000\t136105\r\n"
       ]
      },
      {
       "output_type": "stream",
       "stream": "stdout",
       "text": [
        "909000\t136214\r\n",
        "910000\t136304\r\n",
        "911000\t136428\r\n",
        "912000\t136537\r\n"
       ]
      },
      {
       "output_type": "stream",
       "stream": "stdout",
       "text": [
        "913000\t136665\r\n",
        "914000\t136794\r\n",
        "915000\t136898\r\n",
        "916000\t137006\r\n"
       ]
      },
      {
       "output_type": "stream",
       "stream": "stdout",
       "text": [
        "917000\t137113\r\n",
        "918000\t137220\r\n",
        "919000\t137327\r\n",
        "920000\t137447\r\n"
       ]
      },
      {
       "output_type": "stream",
       "stream": "stdout",
       "text": [
        "921000\t137574\r\n",
        "922000\t137687\r\n",
        "923000\t137815\r\n",
        "924000\t137948\r\n"
       ]
      },
      {
       "output_type": "stream",
       "stream": "stdout",
       "text": [
        "925000\t138043\r\n",
        "926000\t138180\r\n",
        "927000\t138299\r\n"
       ]
      },
      {
       "output_type": "stream",
       "stream": "stdout",
       "text": [
        "928000\t138425\r\n",
        "929000\t138529\r\n",
        "930000\t138650\r\n",
        "931000\t138758\r\n"
       ]
      },
      {
       "output_type": "stream",
       "stream": "stdout",
       "text": [
        "932000\t138883\r\n",
        "933000\t139001\r\n",
        "934000\t139106\r\n",
        "935000\t139203\r\n"
       ]
      },
      {
       "output_type": "stream",
       "stream": "stdout",
       "text": [
        "936000\t139325\r\n",
        "937000\t139446\r\n",
        "938000\t139568\r\n",
        "939000\t139678\r\n"
       ]
      },
      {
       "output_type": "stream",
       "stream": "stdout",
       "text": [
        "940000\t139806\r\n",
        "941000\t139919\r\n",
        "942000\t140048\r\n",
        "943000\t140167\r\n"
       ]
      },
      {
       "output_type": "stream",
       "stream": "stdout",
       "text": [
        "944000\t140281\r\n",
        "945000\t140387\r\n",
        "946000\t140513\r\n",
        "947000\t140632\r\n"
       ]
      },
      {
       "output_type": "stream",
       "stream": "stdout",
       "text": [
        "948000\t140749\r\n",
        "949000\t140856\r\n",
        "950000\t140960\r\n",
        "951000\t141080\r\n"
       ]
      },
      {
       "output_type": "stream",
       "stream": "stdout",
       "text": [
        "952000\t141198\r\n",
        "953000\t141319\r\n",
        "954000\t141432\r\n"
       ]
      },
      {
       "output_type": "stream",
       "stream": "stdout",
       "text": [
        "955000\t141538\r\n",
        "956000\t141649\r\n",
        "957000\t141755\r\n",
        "958000\t141884\r\n"
       ]
      },
      {
       "output_type": "stream",
       "stream": "stdout",
       "text": [
        "959000\t142014\r\n",
        "960000\t142144\r\n",
        "961000\t142253\r\n",
        "962000\t142364\r\n"
       ]
      },
      {
       "output_type": "stream",
       "stream": "stdout",
       "text": [
        "963000\t142464\r\n",
        "964000\t142582\r\n",
        "965000\t142701\r\n",
        "966000\t142811\r\n"
       ]
      },
      {
       "output_type": "stream",
       "stream": "stdout",
       "text": [
        "967000\t142897\r\n",
        "968000\t143030\r\n",
        "969000\t143136\r\n",
        "970000\t143250\r\n"
       ]
      },
      {
       "output_type": "stream",
       "stream": "stdout",
       "text": [
        "971000\t143356\r\n",
        "972000\t143487\r\n",
        "973000\t143610\r\n",
        "974000\t143738\r\n"
       ]
      },
      {
       "output_type": "stream",
       "stream": "stdout",
       "text": [
        "975000\t143832\r\n",
        "976000\t143950\r\n",
        "977000\t144076\r\n",
        "978000\t144181\r\n"
       ]
      },
      {
       "output_type": "stream",
       "stream": "stdout",
       "text": [
        "979000\t144289\r\n",
        "980000\t144394\r\n",
        "981000\t144512\r\n"
       ]
      },
      {
       "output_type": "stream",
       "stream": "stdout",
       "text": [
        "982000\t144635\r\n",
        "983000\t144738\r\n",
        "984000\t144860\r\n",
        "985000\t144986\r\n"
       ]
      },
      {
       "output_type": "stream",
       "stream": "stdout",
       "text": [
        "986000\t145097\r\n",
        "987000\t145209\r\n",
        "988000\t145317\r\n",
        "989000\t145447\r\n"
       ]
      },
      {
       "output_type": "stream",
       "stream": "stdout",
       "text": [
        "990000\t145582\r\n",
        "991000\t145715\r\n",
        "992000\t145827\r\n",
        "993000\t145959\r\n"
       ]
      },
      {
       "output_type": "stream",
       "stream": "stdout",
       "text": [
        "994000\t146074\r\n",
        "995000\t146182\r\n",
        "996000\t146295\r\n",
        "997000\t146411\r\n"
       ]
      },
      {
       "output_type": "stream",
       "stream": "stdout",
       "text": [
        "998000\t146545\r\n",
        "999000\t146659\r\n",
        "1000000\t146780\r\n",
        "1001000\t146884\r\n"
       ]
      },
      {
       "output_type": "stream",
       "stream": "stdout",
       "text": [
        "1002000\t147007\r\n",
        "1003000\t147136\r\n",
        "1004000\t147246\r\n"
       ]
      },
      {
       "output_type": "stream",
       "stream": "stdout",
       "text": [
        "1005000\t147373\r\n",
        "1006000\t147502\r\n",
        "1007000\t147619\r\n",
        "1008000\t147728\r\n"
       ]
      },
      {
       "output_type": "stream",
       "stream": "stdout",
       "text": [
        "1009000\t147844\r\n",
        "1010000\t147971\r\n",
        "1011000\t148083\r\n",
        "1012000\t148198\r\n"
       ]
      },
      {
       "output_type": "stream",
       "stream": "stdout",
       "text": [
        "1013000\t148318\r\n",
        "1014000\t148438\r\n",
        "1015000\t148553\r\n",
        "1016000\t148673\r\n"
       ]
      },
      {
       "output_type": "stream",
       "stream": "stdout",
       "text": [
        "1017000\t148788\r\n",
        "1018000\t148885\r\n",
        "1019000\t148998\r\n",
        "1020000\t149107\r\n"
       ]
      },
      {
       "output_type": "stream",
       "stream": "stdout",
       "text": [
        "1021000\t149229\r\n",
        "1022000\t149326\r\n",
        "1023000\t149443\r\n",
        "1024000\t149545\r\n"
       ]
      },
      {
       "output_type": "stream",
       "stream": "stdout",
       "text": [
        "1025000\t149665\r\n",
        "1026000\t149780\r\n",
        "1027000\t149882\r\n"
       ]
      },
      {
       "output_type": "stream",
       "stream": "stdout",
       "text": [
        "1028000\t149989\r\n",
        "1029000\t150120\r\n",
        "1030000\t150232\r\n",
        "1031000\t150352\r\n"
       ]
      },
      {
       "output_type": "stream",
       "stream": "stdout",
       "text": [
        "1032000\t150473\r\n",
        "1033000\t150589\r\n",
        "1034000\t150711\r\n",
        "1035000\t150841\r\n"
       ]
      },
      {
       "output_type": "stream",
       "stream": "stdout",
       "text": [
        "1036000\t150963\r\n",
        "1037000\t151073\r\n",
        "1038000\t151202\r\n",
        "1039000\t151320\r\n"
       ]
      },
      {
       "output_type": "stream",
       "stream": "stdout",
       "text": [
        "1040000\t151421\r\n",
        "1041000\t151527\r\n",
        "1042000\t151645\r\n",
        "1043000\t151775\r\n"
       ]
      },
      {
       "output_type": "stream",
       "stream": "stdout",
       "text": [
        "1044000\t151905\r\n",
        "1045000\t152022\r\n",
        "1046000\t152148\r\n",
        "1047000\t152260\r\n"
       ]
      },
      {
       "output_type": "stream",
       "stream": "stdout",
       "text": [
        "1048000\t152388\r\n",
        "1049000\t152512\r\n",
        "1050000\t152631\r\n"
       ]
      },
      {
       "output_type": "stream",
       "stream": "stdout",
       "text": [
        "1051000\t152757\r\n",
        "1052000\t152867\r\n",
        "1053000\t152987\r\n",
        "1054000\t153093\r\n"
       ]
      },
      {
       "output_type": "stream",
       "stream": "stdout",
       "text": [
        "1055000\t153206\r\n",
        "1056000\t153332\r\n",
        "1057000\t153464\r\n",
        "1058000\t153592\r\n"
       ]
      },
      {
       "output_type": "stream",
       "stream": "stdout",
       "text": [
        "1059000\t153710\r\n",
        "1060000\t153843\r\n",
        "1061000\t153984\r\n",
        "1062000\t154094\r\n"
       ]
      },
      {
       "output_type": "stream",
       "stream": "stdout",
       "text": [
        "1063000\t154219\r\n",
        "1064000\t154332\r\n",
        "1065000\t154473\r\n",
        "1066000\t154587\r\n"
       ]
      },
      {
       "output_type": "stream",
       "stream": "stdout",
       "text": [
        "1067000\t154719\r\n",
        "1068000\t154849\r\n",
        "1069000\t154956\r\n",
        "1070000\t155097\r\n"
       ]
      },
      {
       "output_type": "stream",
       "stream": "stdout",
       "text": [
        "1071000\t155219\r\n",
        "1072000\t155350\r\n",
        "1073000\t155488\r\n"
       ]
      },
      {
       "output_type": "stream",
       "stream": "stdout",
       "text": [
        "1074000\t155625\r\n",
        "1075000\t155768\r\n",
        "1076000\t155900\r\n",
        "1077000\t156042\r\n"
       ]
      },
      {
       "output_type": "stream",
       "stream": "stdout",
       "text": [
        "1078000\t156171\r\n",
        "1079000\t156317\r\n",
        "1080000\t156468\r\n",
        "1081000\t156625\r\n"
       ]
      },
      {
       "output_type": "stream",
       "stream": "stdout",
       "text": [
        "1082000\t156779\r\n",
        "1083000\t156956\r\n",
        "1084000\t157124\r\n",
        "1085000\t157255\r\n"
       ]
      },
      {
       "output_type": "stream",
       "stream": "stdout",
       "text": [
        "1086000\t157410\r\n",
        "1087000\t157569\r\n",
        "1088000\t157739\r\n"
       ]
      },
      {
       "output_type": "stream",
       "stream": "stdout",
       "text": [
        "1089000\t157880\r\n",
        "1090000\t158034\r\n",
        "1091000\t158154\r\n",
        "1092000\t158287\r\n"
       ]
      },
      {
       "output_type": "stream",
       "stream": "stdout",
       "text": [
        "1093000\t158437\r\n",
        "1094000\t158587\r\n",
        "1095000\t158736\r\n",
        "1096000\t158888\r\n"
       ]
      },
      {
       "output_type": "stream",
       "stream": "stdout",
       "text": [
        "1097000\t159003\r\n",
        "1098000\t159109\r\n",
        "1099000\t159231\r\n",
        "1100000\t159373\r\n"
       ]
      },
      {
       "output_type": "stream",
       "stream": "stdout",
       "text": [
        "1101000\t159480\r\n",
        "1102000\t159597\r\n",
        "1103000\t159721\r\n",
        "1104000\t159834\r\n"
       ]
      },
      {
       "output_type": "stream",
       "stream": "stdout",
       "text": [
        "1105000\t159980\r\n",
        "1106000\t160111\r\n",
        "1107000\t160257\r\n"
       ]
      },
      {
       "output_type": "stream",
       "stream": "stdout",
       "text": [
        "1108000\t160357\r\n",
        "1109000\t160483\r\n",
        "1110000\t160605\r\n",
        "1111000\t160728\r\n"
       ]
      },
      {
       "output_type": "stream",
       "stream": "stdout",
       "text": [
        "1112000\t160853\r\n",
        "1113000\t160962\r\n",
        "1114000\t161065\r\n",
        "1115000\t161189\r\n"
       ]
      },
      {
       "output_type": "stream",
       "stream": "stdout",
       "text": [
        "1116000\t161302\r\n",
        "1117000\t161407\r\n",
        "1118000\t161521\r\n",
        "1119000\t161646\r\n"
       ]
      },
      {
       "output_type": "stream",
       "stream": "stdout",
       "text": [
        "1120000\t161783\r\n",
        "1121000\t161892\r\n",
        "1122000\t162008\r\n",
        "1123000\t162109\r\n"
       ]
      },
      {
       "output_type": "stream",
       "stream": "stdout",
       "text": [
        "1124000\t162237\r\n",
        "1125000\t162355\r\n",
        "1126000\t162463\r\n",
        "1127000\t162586\r\n"
       ]
      },
      {
       "output_type": "stream",
       "stream": "stdout",
       "text": [
        "1128000\t162703\r\n",
        "1129000\t162824\r\n",
        "1130000\t162956\r\n"
       ]
      },
      {
       "output_type": "stream",
       "stream": "stdout",
       "text": [
        "1131000\t163070\r\n",
        "1132000\t163195\r\n",
        "1133000\t163299\r\n",
        "1134000\t163409\r\n"
       ]
      },
      {
       "output_type": "stream",
       "stream": "stdout",
       "text": [
        "1135000\t163538\r\n",
        "1136000\t163659\r\n",
        "1137000\t163767\r\n",
        "1138000\t163870\r\n"
       ]
      },
      {
       "output_type": "stream",
       "stream": "stdout",
       "text": [
        "1139000\t163981\r\n",
        "1140000\t164097\r\n",
        "1141000\t164212\r\n",
        "1142000\t164326\r\n"
       ]
      },
      {
       "output_type": "stream",
       "stream": "stdout",
       "text": [
        "1143000\t164443\r\n",
        "1144000\t164548\r\n",
        "1145000\t164662\r\n",
        "1146000\t164760\r\n"
       ]
      },
      {
       "output_type": "stream",
       "stream": "stdout",
       "text": [
        "1147000\t164884\r\n",
        "1148000\t165013\r\n",
        "1149000\t165145\r\n"
       ]
      },
      {
       "output_type": "stream",
       "stream": "stdout",
       "text": [
        "1150000\t165244\r\n",
        "1151000\t165361\r\n",
        "1152000\t165467\r\n",
        "1153000\t165572\r\n"
       ]
      },
      {
       "output_type": "stream",
       "stream": "stdout",
       "text": [
        "1154000\t165670\r\n",
        "1155000\t165772\r\n",
        "1156000\t165889\r\n",
        "1157000\t166002\r\n"
       ]
      },
      {
       "output_type": "stream",
       "stream": "stdout",
       "text": [
        "1158000\t166130\r\n",
        "1159000\t166245\r\n",
        "1160000\t166366\r\n",
        "1161000\t166485\r\n"
       ]
      },
      {
       "output_type": "stream",
       "stream": "stdout",
       "text": [
        "1162000\t166595\r\n",
        "1163000\t166702\r\n",
        "1164000\t166819\r\n",
        "1165000\t166923\r\n"
       ]
      },
      {
       "output_type": "stream",
       "stream": "stdout",
       "text": [
        "1166000\t167046\r\n",
        "1167000\t167157\r\n",
        "1168000\t167266\r\n",
        "1169000\t167380\r\n"
       ]
      },
      {
       "output_type": "stream",
       "stream": "stdout",
       "text": [
        "1170000\t167504\r\n",
        "1171000\t167618\r\n",
        "1172000\t167746\r\n"
       ]
      },
      {
       "output_type": "stream",
       "stream": "stdout",
       "text": [
        "1173000\t167848\r\n",
        "1174000\t167948\r\n",
        "1175000\t168060\r\n",
        "1176000\t168162\r\n"
       ]
      },
      {
       "output_type": "stream",
       "stream": "stdout",
       "text": [
        "1177000\t168267\r\n",
        "1178000\t168378\r\n",
        "1179000\t168508\r\n",
        "1180000\t168631\r\n"
       ]
      },
      {
       "output_type": "stream",
       "stream": "stdout",
       "text": [
        "1181000\t168740\r\n",
        "1182000\t168855\r\n",
        "1183000\t168964\r\n",
        "1184000\t169067\r\n"
       ]
      },
      {
       "output_type": "stream",
       "stream": "stdout",
       "text": [
        "1185000\t169160\r\n",
        "1186000\t169285\r\n",
        "1187000\t169384\r\n",
        "1188000\t169490\r\n"
       ]
      },
      {
       "output_type": "stream",
       "stream": "stdout",
       "text": [
        "1189000\t169602\r\n",
        "1190000\t169717\r\n",
        "1191000\t169818\r\n"
       ]
      },
      {
       "output_type": "stream",
       "stream": "stdout",
       "text": [
        "1192000\t169925\r\n",
        "1193000\t170053\r\n",
        "1194000\t170153\r\n",
        "1195000\t170244\r\n"
       ]
      },
      {
       "output_type": "stream",
       "stream": "stdout",
       "text": [
        "1196000\t170349\r\n",
        "1197000\t170464\r\n",
        "1198000\t170564\r\n",
        "1199000\t170676\r\n"
       ]
      },
      {
       "output_type": "stream",
       "stream": "stdout",
       "text": [
        "1200000\t170794\r\n",
        "1201000\t170913\r\n",
        "1202000\t171020\r\n",
        "1203000\t171140\r\n"
       ]
      },
      {
       "output_type": "stream",
       "stream": "stdout",
       "text": [
        "1204000\t171239\r\n",
        "1205000\t171347\r\n",
        "1206000\t171444\r\n",
        "1207000\t171568\r\n"
       ]
      },
      {
       "output_type": "stream",
       "stream": "stdout",
       "text": [
        "1208000\t171673\r\n",
        "1209000\t171776\r\n",
        "1210000\t171906\r\n",
        "1211000\t172009\r\n"
       ]
      },
      {
       "output_type": "stream",
       "stream": "stdout",
       "text": [
        "1212000\t172103\r\n",
        "1213000\t172216\r\n",
        "1214000\t172312\r\n"
       ]
      },
      {
       "output_type": "stream",
       "stream": "stdout",
       "text": [
        "1215000\t172422\r\n",
        "1216000\t172531\r\n",
        "1217000\t172647\r\n",
        "1218000\t172762\r\n"
       ]
      },
      {
       "output_type": "stream",
       "stream": "stdout",
       "text": [
        "1219000\t172845\r\n",
        "1220000\t172952\r\n",
        "1221000\t173048\r\n",
        "1222000\t173165\r\n"
       ]
      },
      {
       "output_type": "stream",
       "stream": "stdout",
       "text": [
        "1223000\t173271\r\n",
        "1224000\t173370\r\n",
        "1225000\t173471\r\n",
        "1226000\t173562\r\n"
       ]
      },
      {
       "output_type": "stream",
       "stream": "stdout",
       "text": [
        "1227000\t173655\r\n",
        "1228000\t173763\r\n",
        "1229000\t173871\r\n",
        "1230000\t173979\r\n"
       ]
      },
      {
       "output_type": "stream",
       "stream": "stdout",
       "text": [
        "1231000\t174069\r\n",
        "1232000\t174163\r\n",
        "1233000\t174273\r\n"
       ]
      },
      {
       "output_type": "stream",
       "stream": "stdout",
       "text": [
        "1234000\t174386\r\n",
        "1235000\t174501\r\n",
        "1236000\t174606\r\n",
        "1237000\t174719\r\n"
       ]
      },
      {
       "output_type": "stream",
       "stream": "stdout",
       "text": [
        "1238000\t174824\r\n",
        "1239000\t174938\r\n",
        "1240000\t175054\r\n",
        "1241000\t175178\r\n"
       ]
      },
      {
       "output_type": "stream",
       "stream": "stdout",
       "text": [
        "1242000\t175299\r\n",
        "1243000\t175407\r\n",
        "1244000\t175510\r\n",
        "1245000\t175604\r\n"
       ]
      },
      {
       "output_type": "stream",
       "stream": "stdout",
       "text": [
        "1246000\t175706\r\n",
        "1247000\t175824\r\n",
        "1248000\t175936\r\n",
        "1249000\t176049\r\n"
       ]
      },
      {
       "output_type": "stream",
       "stream": "stdout",
       "text": [
        "1250000\t176160\r\n",
        "1251000\t176254\r\n",
        "1252000\t176364\r\n",
        "1253000\t176477\r\n"
       ]
      },
      {
       "output_type": "stream",
       "stream": "stdout",
       "text": [
        "1254000\t176578\r\n",
        "1255000\t176696\r\n",
        "1256000\t176817\r\n"
       ]
      },
      {
       "output_type": "stream",
       "stream": "stdout",
       "text": [
        "1257000\t176914\r\n",
        "1258000\t177009\r\n",
        "1259000\t177107\r\n",
        "1260000\t177186\r\n"
       ]
      },
      {
       "output_type": "stream",
       "stream": "stdout",
       "text": [
        "1261000\t177289\r\n",
        "1262000\t177411\r\n",
        "1263000\t177521\r\n",
        "1264000\t177633\r\n"
       ]
      },
      {
       "output_type": "stream",
       "stream": "stdout",
       "text": [
        "1265000\t177761\r\n",
        "1266000\t177869\r\n",
        "1267000\t177971\r\n",
        "1268000\t178068\r\n"
       ]
      },
      {
       "output_type": "stream",
       "stream": "stdout",
       "text": [
        "1269000\t178168\r\n",
        "1270000\t178275\r\n",
        "1271000\t178383\r\n",
        "1272000\t178494\r\n"
       ]
      },
      {
       "output_type": "stream",
       "stream": "stdout",
       "text": [
        "1273000\t178593\r\n",
        "1274000\t178698\r\n",
        "1275000\t178804\r\n"
       ]
      },
      {
       "output_type": "stream",
       "stream": "stdout",
       "text": [
        "1276000\t178925\r\n",
        "1277000\t179037\r\n",
        "1278000\t179143\r\n",
        "1279000\t179243\r\n"
       ]
      },
      {
       "output_type": "stream",
       "stream": "stdout",
       "text": [
        "1280000\t179345\r\n",
        "1281000\t179454\r\n",
        "1282000\t179551\r\n",
        "1283000\t179658\r\n"
       ]
      },
      {
       "output_type": "stream",
       "stream": "stdout",
       "text": [
        "1284000\t179772\r\n",
        "1285000\t179869\r\n",
        "1286000\t179982\r\n",
        "1287000\t180087\r\n"
       ]
      },
      {
       "output_type": "stream",
       "stream": "stdout",
       "text": [
        "1288000\t180210\r\n",
        "1289000\t180317\r\n",
        "1290000\t180419\r\n",
        "1291000\t180541\r\n"
       ]
      },
      {
       "output_type": "stream",
       "stream": "stdout",
       "text": [
        "1292000\t180652\r\n",
        "1293000\t180763\r\n",
        "1294000\t180865\r\n"
       ]
      },
      {
       "output_type": "stream",
       "stream": "stdout",
       "text": [
        "1295000\t180979\r\n",
        "1296000\t181084\r\n",
        "1297000\t181195\r\n",
        "1298000\t181307\r\n"
       ]
      },
      {
       "output_type": "stream",
       "stream": "stdout",
       "text": [
        "1299000\t181423\r\n",
        "1300000\t181530\r\n",
        "1301000\t181641\r\n",
        "1302000\t181760\r\n"
       ]
      },
      {
       "output_type": "stream",
       "stream": "stdout",
       "text": [
        "1303000\t181861\r\n",
        "1304000\t181948\r\n",
        "1305000\t182056\r\n",
        "1306000\t182169\r\n"
       ]
      },
      {
       "output_type": "stream",
       "stream": "stdout",
       "text": [
        "1307000\t182283\r\n",
        "1308000\t182383\r\n",
        "1309000\t182485\r\n",
        "1310000\t182604\r\n"
       ]
      },
      {
       "output_type": "stream",
       "stream": "stdout",
       "text": [
        "1311000\t182733\r\n",
        "1312000\t182837\r\n",
        "1313000\t182942\r\n",
        "1314000\t183038\r\n"
       ]
      },
      {
       "output_type": "stream",
       "stream": "stdout",
       "text": [
        "1315000\t183144\r\n",
        "1316000\t183292\r\n",
        "1317000\t183420\r\n"
       ]
      },
      {
       "output_type": "stream",
       "stream": "stdout",
       "text": [
        "1318000\t183529\r\n",
        "1319000\t183658\r\n",
        "1320000\t183758\r\n",
        "1321000\t183853\r\n"
       ]
      },
      {
       "output_type": "stream",
       "stream": "stdout",
       "text": [
        "1322000\t183963\r\n",
        "1323000\t184073\r\n",
        "1324000\t184176\r\n",
        "1325000\t184281\r\n"
       ]
      },
      {
       "output_type": "stream",
       "stream": "stdout",
       "text": [
        "1326000\t184398\r\n",
        "1327000\t184518\r\n",
        "1328000\t184638\r\n",
        "1329000\t184776\r\n"
       ]
      },
      {
       "output_type": "stream",
       "stream": "stdout",
       "text": [
        "1330000\t184899\r\n",
        "1331000\t185012\r\n",
        "1332000\t185130\r\n",
        "1333000\t185257\r\n"
       ]
      },
      {
       "output_type": "stream",
       "stream": "stdout",
       "text": [
        "1334000\t185383\r\n",
        "1335000\t185499\r\n",
        "1336000\t185616\r\n"
       ]
      },
      {
       "output_type": "stream",
       "stream": "stdout",
       "text": [
        "1337000\t185735\r\n",
        "1338000\t185854\r\n",
        "1339000\t185984\r\n",
        "1340000\t186108\r\n"
       ]
      },
      {
       "output_type": "stream",
       "stream": "stdout",
       "text": [
        "1341000\t186222\r\n",
        "1342000\t186334\r\n",
        "1343000\t186475\r\n",
        "1344000\t186591\r\n"
       ]
      },
      {
       "output_type": "stream",
       "stream": "stdout",
       "text": [
        "1345000\t186701\r\n",
        "1346000\t186810\r\n",
        "1347000\t186940\r\n",
        "1348000\t187063\r\n"
       ]
      },
      {
       "output_type": "stream",
       "stream": "stdout",
       "text": [
        "1349000\t187211\r\n",
        "1350000\t187367\r\n",
        "1351000\t187500\r\n"
       ]
      },
      {
       "output_type": "stream",
       "stream": "stdout",
       "text": [
        "1352000\t187653\r\n",
        "1353000\t187791\r\n",
        "1354000\t187945\r\n",
        "1355000\t188067\r\n"
       ]
      },
      {
       "output_type": "stream",
       "stream": "stdout",
       "text": [
        "1356000\t188200\r\n",
        "1357000\t188316\r\n",
        "1358000\t188428\r\n",
        "1359000\t188584\r\n"
       ]
      },
      {
       "output_type": "stream",
       "stream": "stdout",
       "text": [
        "1360000\t188694\r\n",
        "1361000\t188818\r\n",
        "1362000\t188954\r\n",
        "1363000\t189088\r\n"
       ]
      },
      {
       "output_type": "stream",
       "stream": "stdout",
       "text": [
        "1364000\t189206\r\n",
        "1365000\t189311\r\n",
        "1366000\t189441\r\n",
        "1367000\t189564\r\n"
       ]
      },
      {
       "output_type": "stream",
       "stream": "stdout",
       "text": [
        "1368000\t189678\r\n",
        "1369000\t189792\r\n",
        "1370000\t189915\r\n"
       ]
      },
      {
       "output_type": "stream",
       "stream": "stdout",
       "text": [
        "1371000\t190015\r\n",
        "1372000\t190124\r\n",
        "1373000\t190204\r\n",
        "1374000\t190322\r\n"
       ]
      },
      {
       "output_type": "stream",
       "stream": "stdout",
       "text": [
        "1375000\t190434\r\n",
        "1376000\t190530\r\n",
        "1377000\t190658\r\n",
        "1378000\t190761\r\n"
       ]
      },
      {
       "output_type": "stream",
       "stream": "stdout",
       "text": [
        "1379000\t190873\r\n",
        "1380000\t190974\r\n",
        "1381000\t191090\r\n",
        "1382000\t191197\r\n"
       ]
      },
      {
       "output_type": "stream",
       "stream": "stdout",
       "text": [
        "1383000\t191293\r\n",
        "1384000\t191403\r\n",
        "1385000\t191521\r\n",
        "1386000\t191635\r\n"
       ]
      },
      {
       "output_type": "stream",
       "stream": "stdout",
       "text": [
        "1387000\t191780\r\n",
        "1388000\t191888\r\n",
        "1389000\t192019\r\n"
       ]
      },
      {
       "output_type": "stream",
       "stream": "stdout",
       "text": [
        "1390000\t192118\r\n",
        "1391000\t192238\r\n",
        "1392000\t192350\r\n",
        "1393000\t192457\r\n"
       ]
      },
      {
       "output_type": "stream",
       "stream": "stdout",
       "text": [
        "1394000\t192549\r\n",
        "1395000\t192656\r\n",
        "1396000\t192751\r\n",
        "1397000\t192868\r\n"
       ]
      },
      {
       "output_type": "stream",
       "stream": "stdout",
       "text": [
        "1398000\t192970\r\n",
        "1399000\t193083\r\n",
        "1400000\t193193\r\n",
        "1401000\t193302\r\n"
       ]
      },
      {
       "output_type": "stream",
       "stream": "stdout",
       "text": [
        "1402000\t193431\r\n",
        "1403000\t193548\r\n",
        "1404000\t193665\r\n"
       ]
      },
      {
       "output_type": "stream",
       "stream": "stdout",
       "text": [
        "1405000\t193756\r\n",
        "1406000\t193871\r\n",
        "1407000\t193971\r\n",
        "1408000\t194080\r\n"
       ]
      },
      {
       "output_type": "stream",
       "stream": "stdout",
       "text": [
        "1409000\t194197\r\n",
        "1410000\t194286\r\n",
        "1411000\t194382\r\n",
        "1412000\t194479\r\n"
       ]
      },
      {
       "output_type": "stream",
       "stream": "stdout",
       "text": [
        "1413000\t194573\r\n",
        "1414000\t194697\r\n",
        "1415000\t194802\r\n",
        "1416000\t194910\r\n"
       ]
      },
      {
       "output_type": "stream",
       "stream": "stdout",
       "text": [
        "1417000\t195015\r\n",
        "1418000\t195122\r\n",
        "1419000\t195231\r\n",
        "1420000\t195331\r\n"
       ]
      },
      {
       "output_type": "stream",
       "stream": "stdout",
       "text": [
        "1421000\t195435\r\n",
        "1422000\t195549\r\n",
        "1423000\t195658\r\n"
       ]
      },
      {
       "output_type": "stream",
       "stream": "stdout",
       "text": [
        "1424000\t195753\r\n",
        "1425000\t195859\r\n",
        "1426000\t195961\r\n",
        "1427000\t196057\r\n"
       ]
      },
      {
       "output_type": "stream",
       "stream": "stdout",
       "text": [
        "1428000\t196151\r\n",
        "1429000\t196242\r\n",
        "1430000\t196356\r\n",
        "1431000\t196457\r\n"
       ]
      },
      {
       "output_type": "stream",
       "stream": "stdout",
       "text": [
        "1432000\t196559\r\n",
        "1433000\t196666\r\n",
        "1434000\t196750\r\n",
        "1435000\t196826\r\n"
       ]
      },
      {
       "output_type": "stream",
       "stream": "stdout",
       "text": [
        "1436000\t196930\r\n",
        "1437000\t197037\r\n",
        "1438000\t197133\r\n",
        "1439000\t197239\r\n"
       ]
      },
      {
       "output_type": "stream",
       "stream": "stdout",
       "text": [
        "1440000\t197350\r\n",
        "1441000\t197454\r\n",
        "1442000\t197560\r\n"
       ]
      },
      {
       "output_type": "stream",
       "stream": "stdout",
       "text": [
        "1443000\t197672\r\n",
        "1444000\t197777\r\n",
        "1445000\t197890\r\n",
        "1446000\t197979\r\n"
       ]
      },
      {
       "output_type": "stream",
       "stream": "stdout",
       "text": [
        "1447000\t198065\r\n",
        "1448000\t198156\r\n",
        "1449000\t198254\r\n",
        "1450000\t198351\r\n"
       ]
      },
      {
       "output_type": "stream",
       "stream": "stdout",
       "text": [
        "1451000\t198453\r\n",
        "1452000\t198572\r\n",
        "1453000\t198683\r\n",
        "1454000\t198790\r\n"
       ]
      },
      {
       "output_type": "stream",
       "stream": "stdout",
       "text": [
        "1455000\t198886\r\n",
        "1456000\t198991\r\n",
        "1457000\t199082\r\n",
        "1458000\t199180\r\n"
       ]
      },
      {
       "output_type": "stream",
       "stream": "stdout",
       "text": [
        "1459000\t199273\r\n",
        "1460000\t199379\r\n",
        "1461000\t199474\r\n"
       ]
      },
      {
       "output_type": "stream",
       "stream": "stdout",
       "text": [
        "1462000\t199582\r\n",
        "1463000\t199695\r\n",
        "1464000\t199791\r\n",
        "1465000\t199875\r\n"
       ]
      },
      {
       "output_type": "stream",
       "stream": "stdout",
       "text": [
        "1466000\t199989\r\n",
        "1467000\t200085\r\n",
        "1468000\t200186\r\n",
        "1469000\t200295\r\n"
       ]
      },
      {
       "output_type": "stream",
       "stream": "stdout",
       "text": [
        "1470000\t200408\r\n",
        "1471000\t200511\r\n",
        "1472000\t200611\r\n",
        "1473000\t200706\r\n"
       ]
      },
      {
       "output_type": "stream",
       "stream": "stdout",
       "text": [
        "1474000\t200800\r\n",
        "1475000\t200899\r\n",
        "1476000\t200991\r\n",
        "1477000\t201078\r\n"
       ]
      },
      {
       "output_type": "stream",
       "stream": "stdout",
       "text": [
        "1478000\t201177\r\n",
        "1479000\t201284\r\n",
        "1480000\t201374\r\n"
       ]
      },
      {
       "output_type": "stream",
       "stream": "stdout",
       "text": [
        "1481000\t201463\r\n",
        "1482000\t201572\r\n",
        "1483000\t201671\r\n",
        "1484000\t201773\r\n"
       ]
      },
      {
       "output_type": "stream",
       "stream": "stdout",
       "text": [
        "1485000\t201869\r\n",
        "1486000\t201971\r\n",
        "1487000\t202078\r\n",
        "1488000\t202176\r\n"
       ]
      },
      {
       "output_type": "stream",
       "stream": "stdout",
       "text": [
        "1489000\t202264\r\n",
        "1490000\t202365\r\n",
        "1491000\t202474\r\n",
        "1492000\t202577\r\n"
       ]
      },
      {
       "output_type": "stream",
       "stream": "stdout",
       "text": [
        "1493000\t202691\r\n",
        "1494000\t202796\r\n",
        "1495000\t202901\r\n",
        "1496000\t202990\r\n"
       ]
      },
      {
       "output_type": "stream",
       "stream": "stdout",
       "text": [
        "1497000\t203088\r\n",
        "1498000\t203193\r\n",
        "1499000\t203277\r\n"
       ]
      },
      {
       "output_type": "stream",
       "stream": "stdout",
       "text": [
        "1500000\t203371\r\n",
        "1501000\t203461\r\n",
        "1502000\t203544\r\n",
        "1503000\t203643\r\n"
       ]
      },
      {
       "output_type": "stream",
       "stream": "stdout",
       "text": [
        "1504000\t203757\r\n",
        "1505000\t203847\r\n",
        "1506000\t203939\r\n",
        "1507000\t204024\r\n"
       ]
      },
      {
       "output_type": "stream",
       "stream": "stdout",
       "text": [
        "1508000\t204127\r\n",
        "1509000\t204234\r\n",
        "1510000\t204331\r\n",
        "1511000\t204420\r\n"
       ]
      },
      {
       "output_type": "stream",
       "stream": "stdout",
       "text": [
        "1512000\t204524\r\n",
        "1513000\t204639\r\n",
        "1514000\t204760\r\n",
        "1515000\t204885\r\n"
       ]
      },
      {
       "output_type": "stream",
       "stream": "stdout",
       "text": [
        "1516000\t204971\r\n",
        "1517000\t205062\r\n",
        "1518000\t205169\r\n"
       ]
      },
      {
       "output_type": "stream",
       "stream": "stdout",
       "text": [
        "1519000\t205261\r\n",
        "1520000\t205363\r\n",
        "1521000\t205458\r\n",
        "1522000\t205567\r\n"
       ]
      },
      {
       "output_type": "stream",
       "stream": "stdout",
       "text": [
        "1523000\t205667\r\n",
        "1524000\t205774\r\n",
        "1525000\t205852\r\n",
        "1526000\t205949\r\n"
       ]
      },
      {
       "output_type": "stream",
       "stream": "stdout",
       "text": [
        "1527000\t206057\r\n",
        "1528000\t206180\r\n",
        "1529000\t206288\r\n",
        "1530000\t206390\r\n"
       ]
      },
      {
       "output_type": "stream",
       "stream": "stdout",
       "text": [
        "1531000\t206473\r\n",
        "1532000\t206575\r\n",
        "1533000\t206669\r\n",
        "1534000\t206765\r\n"
       ]
      },
      {
       "output_type": "stream",
       "stream": "stdout",
       "text": [
        "1535000\t206858\r\n",
        "1536000\t206952\r\n",
        "1537000\t207039\r\n"
       ]
      },
      {
       "output_type": "stream",
       "stream": "stdout",
       "text": [
        "1538000\t207116\r\n",
        "1539000\t207217\r\n",
        "1540000\t207317\r\n",
        "1541000\t207419\r\n"
       ]
      },
      {
       "output_type": "stream",
       "stream": "stdout",
       "text": [
        "1542000\t207505\r\n",
        "1543000\t207620\r\n",
        "1544000\t207718\r\n",
        "1545000\t207816\r\n"
       ]
      },
      {
       "output_type": "stream",
       "stream": "stdout",
       "text": [
        "1546000\t207930\r\n",
        "1547000\t208038\r\n",
        "1548000\t208145\r\n",
        "1549000\t208251\r\n"
       ]
      },
      {
       "output_type": "stream",
       "stream": "stdout",
       "text": [
        "1550000\t208348\r\n",
        "1551000\t208441\r\n",
        "1552000\t208544\r\n",
        "1553000\t208657\r\n"
       ]
      },
      {
       "output_type": "stream",
       "stream": "stdout",
       "text": [
        "1554000\t208752\r\n",
        "1555000\t208860\r\n",
        "1556000\t208951\r\n"
       ]
      },
      {
       "output_type": "stream",
       "stream": "stdout",
       "text": [
        "1557000\t209061\r\n",
        "1558000\t209159\r\n",
        "1559000\t209260\r\n",
        "1560000\t209355\r\n"
       ]
      },
      {
       "output_type": "stream",
       "stream": "stdout",
       "text": [
        "1561000\t209453\r\n",
        "1562000\t209541\r\n",
        "1563000\t209644\r\n",
        "1564000\t209743\r\n"
       ]
      },
      {
       "output_type": "stream",
       "stream": "stdout",
       "text": [
        "1565000\t209862\r\n",
        "1566000\t209962\r\n",
        "1567000\t210065\r\n",
        "1568000\t210159\r\n"
       ]
      },
      {
       "output_type": "stream",
       "stream": "stdout",
       "text": [
        "1569000\t210267\r\n",
        "1570000\t210382\r\n",
        "1571000\t210460\r\n",
        "1572000\t210574\r\n"
       ]
      },
      {
       "output_type": "stream",
       "stream": "stdout",
       "text": [
        "1573000\t210655\r\n",
        "1574000\t210757\r\n",
        "1575000\t210897\r\n"
       ]
      },
      {
       "output_type": "stream",
       "stream": "stdout",
       "text": [
        "1576000\t211015\r\n",
        "1577000\t211122\r\n",
        "1578000\t211235\r\n",
        "1579000\t211340\r\n"
       ]
      },
      {
       "output_type": "stream",
       "stream": "stdout",
       "text": [
        "1580000\t211445\r\n",
        "1581000\t211543\r\n",
        "1582000\t211664\r\n",
        "1583000\t211762\r\n"
       ]
      },
      {
       "output_type": "stream",
       "stream": "stdout",
       "text": [
        "1584000\t211868\r\n",
        "1585000\t211976\r\n",
        "1586000\t212075\r\n",
        "1587000\t212184\r\n"
       ]
      },
      {
       "output_type": "stream",
       "stream": "stdout",
       "text": [
        "1588000\t212299\r\n",
        "1589000\t212409\r\n",
        "1590000\t212526\r\n"
       ]
      },
      {
       "output_type": "stream",
       "stream": "stdout",
       "text": [
        "1591000\t212634\r\n",
        "1592000\t212722\r\n",
        "1593000\t212835\r\n",
        "1594000\t212946\r\n"
       ]
      },
      {
       "output_type": "stream",
       "stream": "stdout",
       "text": [
        "1595000\t213063\r\n",
        "1596000\t213176\r\n",
        "1597000\t213298\r\n",
        "1598000\t213406\r\n"
       ]
      },
      {
       "output_type": "stream",
       "stream": "stdout",
       "text": [
        "1599000\t213527\r\n",
        "1600000\t213641\r\n",
        "1601000\t213756\r\n",
        "1602000\t213882\r\n"
       ]
      },
      {
       "output_type": "stream",
       "stream": "stdout",
       "text": [
        "1603000\t214034\r\n",
        "1604000\t214144\r\n",
        "1605000\t214269\r\n"
       ]
      },
      {
       "output_type": "stream",
       "stream": "stdout",
       "text": [
        "1606000\t214386\r\n",
        "1607000\t214508\r\n",
        "1608000\t214643\r\n",
        "1609000\t214782\r\n"
       ]
      },
      {
       "output_type": "stream",
       "stream": "stdout",
       "text": [
        "1610000\t214928\r\n",
        "1611000\t215066\r\n",
        "1612000\t215179\r\n",
        "1613000\t215314\r\n"
       ]
      },
      {
       "output_type": "stream",
       "stream": "stdout",
       "text": [
        "1614000\t215436\r\n",
        "1615000\t215566\r\n",
        "1616000\t215666\r\n",
        "1617000\t215797\r\n"
       ]
      },
      {
       "output_type": "stream",
       "stream": "stdout",
       "text": [
        "1618000\t215921\r\n",
        "1619000\t216028\r\n",
        "1620000\t216120\r\n"
       ]
      },
      {
       "output_type": "stream",
       "stream": "stdout",
       "text": [
        "1621000\t216215\r\n",
        "1622000\t216317\r\n",
        "1623000\t216425\r\n",
        "1624000\t216522\r\n"
       ]
      },
      {
       "output_type": "stream",
       "stream": "stdout",
       "text": [
        "1625000\t216622\r\n",
        "1626000\t216749\r\n",
        "1627000\t216854\r\n",
        "1628000\t216951\r\n"
       ]
      },
      {
       "output_type": "stream",
       "stream": "stdout",
       "text": [
        "1629000\t217041\r\n",
        "1630000\t217142\r\n",
        "1631000\t217233\r\n",
        "1632000\t217338\r\n"
       ]
      },
      {
       "output_type": "stream",
       "stream": "stdout",
       "text": [
        "1633000\t217448\r\n",
        "1634000\t217530\r\n",
        "1635000\t217634\r\n",
        "1636000\t217732\r\n"
       ]
      },
      {
       "output_type": "stream",
       "stream": "stdout",
       "text": [
        "1637000\t217826\r\n",
        "1638000\t217929\r\n",
        "1639000\t218028\r\n"
       ]
      },
      {
       "output_type": "stream",
       "stream": "stdout",
       "text": [
        "1640000\t218138\r\n",
        "1641000\t218236\r\n",
        "1642000\t218350\r\n",
        "1643000\t218450\r\n"
       ]
      },
      {
       "output_type": "stream",
       "stream": "stdout",
       "text": [
        "1644000\t218556\r\n",
        "1645000\t218670\r\n",
        "1646000\t218772\r\n",
        "1647000\t218882\r\n"
       ]
      },
      {
       "output_type": "stream",
       "stream": "stdout",
       "text": [
        "1648000\t218985\r\n",
        "1649000\t219085\r\n",
        "1650000\t219179\r\n",
        "1651000\t219295\r\n"
       ]
      },
      {
       "output_type": "stream",
       "stream": "stdout",
       "text": [
        "1652000\t219390\r\n",
        "1653000\t219503\r\n",
        "1654000\t219598\r\n"
       ]
      },
      {
       "output_type": "stream",
       "stream": "stdout",
       "text": [
        "1655000\t219718\r\n",
        "1656000\t219805\r\n",
        "1657000\t219881\r\n",
        "1658000\t219974\r\n"
       ]
      },
      {
       "output_type": "stream",
       "stream": "stdout",
       "text": [
        "1659000\t220060\r\n",
        "1660000\t220167\r\n",
        "1661000\t220281\r\n",
        "1662000\t220401\r\n"
       ]
      },
      {
       "output_type": "stream",
       "stream": "stdout",
       "text": [
        "1663000\t220502\r\n",
        "1664000\t220632\r\n",
        "1665000\t220729\r\n",
        "1666000\t220826\r\n"
       ]
      },
      {
       "output_type": "stream",
       "stream": "stdout",
       "text": [
        "1667000\t220918\r\n",
        "1668000\t221011\r\n",
        "1669000\t221136\r\n"
       ]
      },
      {
       "output_type": "stream",
       "stream": "stdout",
       "text": [
        "1670000\t221239\r\n",
        "1671000\t221350\r\n",
        "1672000\t221450\r\n",
        "1673000\t221554\r\n"
       ]
      },
      {
       "output_type": "stream",
       "stream": "stdout",
       "text": [
        "1674000\t221633\r\n",
        "1675000\t221737\r\n",
        "1676000\t221821\r\n",
        "1677000\t221919\r\n"
       ]
      },
      {
       "output_type": "stream",
       "stream": "stdout",
       "text": [
        "1678000\t222021\r\n",
        "1679000\t222124\r\n",
        "1680000\t222226\r\n",
        "1681000\t222309\r\n"
       ]
      },
      {
       "output_type": "stream",
       "stream": "stdout",
       "text": [
        "1682000\t222395\r\n",
        "1683000\t222495\r\n",
        "1684000\t222600\r\n",
        "1685000\t222703\r\n"
       ]
      },
      {
       "output_type": "stream",
       "stream": "stdout",
       "text": [
        "1686000\t222790\r\n",
        "1687000\t222882\r\n",
        "1688000\t222989\r\n"
       ]
      },
      {
       "output_type": "stream",
       "stream": "stdout",
       "text": [
        "1689000\t223086\r\n",
        "1690000\t223183\r\n",
        "1691000\t223283\r\n",
        "1692000\t223389\r\n"
       ]
      },
      {
       "output_type": "stream",
       "stream": "stdout",
       "text": [
        "1693000\t223492\r\n",
        "1694000\t223563\r\n",
        "1695000\t223659\r\n",
        "1696000\t223756\r\n"
       ]
      },
      {
       "output_type": "stream",
       "stream": "stdout",
       "text": [
        "1697000\t223861\r\n",
        "1698000\t223962\r\n",
        "1699000\t224066\r\n",
        "1700000\t224146\r\n"
       ]
      },
      {
       "output_type": "stream",
       "stream": "stdout",
       "text": [
        "1701000\t224253\r\n",
        "1702000\t224353\r\n",
        "1703000\t224431\r\n"
       ]
      },
      {
       "output_type": "stream",
       "stream": "stdout",
       "text": [
        "1704000\t224521\r\n",
        "1705000\t224618\r\n",
        "1706000\t224738\r\n",
        "1707000\t224853\r\n"
       ]
      },
      {
       "output_type": "stream",
       "stream": "stdout",
       "text": [
        "1708000\t224952\r\n",
        "1709000\t225046\r\n",
        "1710000\t225170\r\n",
        "1711000\t225254\r\n"
       ]
      },
      {
       "output_type": "stream",
       "stream": "stdout",
       "text": [
        "1712000\t225352\r\n",
        "1713000\t225466\r\n",
        "1714000\t225561\r\n",
        "1715000\t225640\r\n"
       ]
      },
      {
       "output_type": "stream",
       "stream": "stdout",
       "text": [
        "1716000\t225746\r\n",
        "1717000\t225847\r\n",
        "1718000\t225947\r\n",
        "1719000\t226047\r\n"
       ]
      },
      {
       "output_type": "stream",
       "stream": "stdout",
       "text": [
        "1720000\t226132\r\n",
        "1721000\t226214\r\n",
        "1722000\t226323\r\n"
       ]
      },
      {
       "output_type": "stream",
       "stream": "stdout",
       "text": [
        "1723000\t226415\r\n",
        "1724000\t226524\r\n",
        "1725000\t226619\r\n",
        "1726000\t226729\r\n"
       ]
      },
      {
       "output_type": "stream",
       "stream": "stdout",
       "text": [
        "1727000\t226823\r\n",
        "1728000\t226918\r\n",
        "1729000\t227009\r\n",
        "1730000\t227106\r\n"
       ]
      },
      {
       "output_type": "stream",
       "stream": "stdout",
       "text": [
        "1731000\t227206\r\n",
        "1732000\t227300\r\n",
        "1733000\t227396\r\n",
        "1734000\t227489\r\n"
       ]
      },
      {
       "output_type": "stream",
       "stream": "stdout",
       "text": [
        "1735000\t227578\r\n",
        "1736000\t227680\r\n",
        "1737000\t227776\r\n"
       ]
      },
      {
       "output_type": "stream",
       "stream": "stdout",
       "text": [
        "1738000\t227882\r\n",
        "1739000\t227990\r\n",
        "1740000\t228082\r\n",
        "1741000\t228157\r\n"
       ]
      },
      {
       "output_type": "stream",
       "stream": "stdout",
       "text": [
        "1742000\t228258\r\n",
        "1743000\t228349\r\n",
        "1744000\t228442\r\n",
        "1745000\t228547\r\n"
       ]
      },
      {
       "output_type": "stream",
       "stream": "stdout",
       "text": [
        "1746000\t228647\r\n",
        "1747000\t228750\r\n",
        "1748000\t228860\r\n",
        "1749000\t228947\r\n"
       ]
      },
      {
       "output_type": "stream",
       "stream": "stdout",
       "text": [
        "1750000\t229024\r\n",
        "1751000\t229119\r\n",
        "1752000\t229222\r\n",
        "1753000\t229320\r\n"
       ]
      },
      {
       "output_type": "stream",
       "stream": "stdout",
       "text": [
        "1754000\t229413\r\n",
        "1755000\t229522\r\n",
        "1756000\t229638\r\n"
       ]
      },
      {
       "output_type": "stream",
       "stream": "stdout",
       "text": [
        "1757000\t229728\r\n",
        "1758000\t229803\r\n",
        "1759000\t229889\r\n",
        "1760000\t229979\r\n"
       ]
      },
      {
       "output_type": "stream",
       "stream": "stdout",
       "text": [
        "1761000\t230063\r\n",
        "1762000\t230157\r\n",
        "1763000\t230258\r\n",
        "1764000\t230345\r\n"
       ]
      },
      {
       "output_type": "stream",
       "stream": "stdout",
       "text": [
        "1765000\t230440\r\n",
        "1766000\t230523\r\n",
        "1767000\t230613\r\n",
        "1768000\t230722\r\n"
       ]
      },
      {
       "output_type": "stream",
       "stream": "stdout",
       "text": [
        "1769000\t230815\r\n",
        "1770000\t230899\r\n",
        "1771000\t231009\r\n"
       ]
      },
      {
       "output_type": "stream",
       "stream": "stdout",
       "text": [
        "1772000\t231122\r\n",
        "1773000\t231224\r\n",
        "1774000\t231337\r\n",
        "1775000\t231437\r\n"
       ]
      },
      {
       "output_type": "stream",
       "stream": "stdout",
       "text": [
        "1776000\t231539\r\n",
        "1777000\t231619\r\n",
        "1778000\t231715\r\n",
        "1779000\t231795\r\n"
       ]
      },
      {
       "output_type": "stream",
       "stream": "stdout",
       "text": [
        "1780000\t231864\r\n",
        "1781000\t231955\r\n",
        "1782000\t232061\r\n",
        "1783000\t232152\r\n"
       ]
      },
      {
       "output_type": "stream",
       "stream": "stdout",
       "text": [
        "1784000\t232232\r\n",
        "1785000\t232332\r\n",
        "1786000\t232423\r\n",
        "1787000\t232504\r\n"
       ]
      },
      {
       "output_type": "stream",
       "stream": "stdout",
       "text": [
        "1788000\t232592\r\n",
        "1789000\t232692\r\n",
        "1790000\t232788\r\n"
       ]
      },
      {
       "output_type": "stream",
       "stream": "stdout",
       "text": [
        "1791000\t232884\r\n",
        "1792000\t232961\r\n",
        "1793000\t233072\r\n",
        "1794000\t233163\r\n"
       ]
      },
      {
       "output_type": "stream",
       "stream": "stdout",
       "text": [
        "1795000\t233268\r\n",
        "1796000\t233352\r\n",
        "1797000\t233446\r\n",
        "1798000\t233550\r\n"
       ]
      },
      {
       "output_type": "stream",
       "stream": "stdout",
       "text": [
        "1799000\t233653\r\n",
        "1800000\t233750\r\n",
        "1801000\t233838\r\n",
        "1802000\t233921\r\n"
       ]
      },
      {
       "output_type": "stream",
       "stream": "stdout",
       "text": [
        "1803000\t234014\r\n",
        "1804000\t234121\r\n",
        "1805000\t234223\r\n"
       ]
      },
      {
       "output_type": "stream",
       "stream": "stdout",
       "text": [
        "1806000\t234311\r\n",
        "1807000\t234410\r\n",
        "1808000\t234513\r\n",
        "1809000\t234599\r\n"
       ]
      },
      {
       "output_type": "stream",
       "stream": "stdout",
       "text": [
        "1810000\t234688\r\n",
        "1811000\t234797\r\n",
        "1812000\t234896\r\n",
        "1813000\t234980\r\n"
       ]
      },
      {
       "output_type": "stream",
       "stream": "stdout",
       "text": [
        "1814000\t235090\r\n",
        "1815000\t235181\r\n",
        "1816000\t235291\r\n",
        "1817000\t235393\r\n"
       ]
      },
      {
       "output_type": "stream",
       "stream": "stdout",
       "text": [
        "1818000\t235499\r\n",
        "1819000\t235606\r\n",
        "1820000\t235691\r\n"
       ]
      },
      {
       "output_type": "stream",
       "stream": "stdout",
       "text": [
        "1821000\t235769\r\n",
        "1822000\t235865\r\n",
        "1823000\t235959\r\n",
        "1824000\t236047\r\n"
       ]
      },
      {
       "output_type": "stream",
       "stream": "stdout",
       "text": [
        "1825000\t236128\r\n",
        "1826000\t236236\r\n",
        "1827000\t236338\r\n",
        "1828000\t236440\r\n"
       ]
      },
      {
       "output_type": "stream",
       "stream": "stdout",
       "text": [
        "1829000\t236537\r\n",
        "1830000\t236638\r\n",
        "1831000\t236728\r\n",
        "1832000\t236848\r\n"
       ]
      },
      {
       "output_type": "stream",
       "stream": "stdout",
       "text": [
        "1833000\t236949\r\n",
        "1834000\t237056\r\n",
        "1835000\t237158\r\n"
       ]
      },
      {
       "output_type": "stream",
       "stream": "stdout",
       "text": [
        "1836000\t237256\r\n",
        "1837000\t237366\r\n",
        "1838000\t237456\r\n",
        "1839000\t237571\r\n"
       ]
      },
      {
       "output_type": "stream",
       "stream": "stdout",
       "text": [
        "1840000\t237670\r\n",
        "1841000\t237764\r\n",
        "1842000\t237874\r\n",
        "1843000\t237984\r\n"
       ]
      },
      {
       "output_type": "stream",
       "stream": "stdout",
       "text": [
        "1844000\t238079\r\n",
        "1845000\t238188\r\n",
        "1846000\t238285\r\n",
        "1847000\t238391\r\n"
       ]
      },
      {
       "output_type": "stream",
       "stream": "stdout",
       "text": [
        "1848000\t238490\r\n",
        "1849000\t238592\r\n",
        "1850000\t238693\r\n",
        "1851000\t238799\r\n"
       ]
      },
      {
       "output_type": "stream",
       "stream": "stdout",
       "text": [
        "1852000\t238914\r\n",
        "1853000\t239028\r\n",
        "1854000\t239140\r\n"
       ]
      },
      {
       "output_type": "stream",
       "stream": "stdout",
       "text": [
        "1855000\t239239\r\n",
        "1856000\t239345\r\n",
        "1857000\t239457\r\n",
        "1858000\t239578\r\n"
       ]
      },
      {
       "output_type": "stream",
       "stream": "stdout",
       "text": [
        "1859000\t239689\r\n",
        "1860000\t239779\r\n",
        "1861000\t239903\r\n",
        "1862000\t240021\r\n"
       ]
      },
      {
       "output_type": "stream",
       "stream": "stdout",
       "text": [
        "1863000\t240145\r\n",
        "1864000\t240248\r\n",
        "1865000\t240384\r\n"
       ]
      },
      {
       "output_type": "stream",
       "stream": "stdout",
       "text": [
        "1866000\t240545\r\n",
        "1867000\t240745\r\n",
        "1868000\t240922\r\n",
        "1869000\t241073\r\n"
       ]
      },
      {
       "output_type": "stream",
       "stream": "stdout",
       "text": [
        "1870000\t241219\r\n",
        "1871000\t241384\r\n",
        "1872000\t241545\r\n",
        "1873000\t241711\r\n"
       ]
      },
      {
       "output_type": "stream",
       "stream": "stdout",
       "text": [
        "1874000\t241880\r\n",
        "1875000\t242020\r\n",
        "1876000\t242172\r\n",
        "1877000\t242326\r\n"
       ]
      },
      {
       "output_type": "stream",
       "stream": "stdout",
       "text": [
        "1878000\t242483\r\n",
        "1879000\t242607\r\n",
        "1880000\t242751\r\n"
       ]
      },
      {
       "output_type": "stream",
       "stream": "stdout",
       "text": [
        "1881000\t242874\r\n",
        "1882000\t243003\r\n",
        "1883000\t243116\r\n",
        "1884000\t243239\r\n"
       ]
      },
      {
       "output_type": "stream",
       "stream": "stdout",
       "text": [
        "1885000\t243371\r\n",
        "1886000\t243492\r\n",
        "1887000\t243611\r\n",
        "1888000\t243739\r\n"
       ]
      },
      {
       "output_type": "stream",
       "stream": "stdout",
       "text": [
        "1889000\t243847\r\n",
        "1890000\t243972\r\n",
        "1891000\t244077\r\n"
       ]
      },
      {
       "output_type": "stream",
       "stream": "stdout",
       "text": [
        "1892000\t244200\r\n",
        "1893000\t244329\r\n",
        "1894000\t244450\r\n",
        "1895000\t244570\r\n"
       ]
      },
      {
       "output_type": "stream",
       "stream": "stdout",
       "text": [
        "1896000\t244688\r\n",
        "1897000\t244803\r\n",
        "1898000\t244916\r\n",
        "1899000\t245041\r\n"
       ]
      },
      {
       "output_type": "stream",
       "stream": "stdout",
       "text": [
        "1900000\t245147\r\n",
        "1901000\t245274\r\n",
        "1902000\t245390\r\n",
        "1903000\t245491\r\n"
       ]
      },
      {
       "output_type": "stream",
       "stream": "stdout",
       "text": [
        "1904000\t245621\r\n",
        "1905000\t245733\r\n",
        "1906000\t245888\r\n"
       ]
      },
      {
       "output_type": "stream",
       "stream": "stdout",
       "text": [
        "1907000\t246010\r\n",
        "1908000\t246122\r\n",
        "1909000\t246231\r\n",
        "1910000\t246340\r\n"
       ]
      },
      {
       "output_type": "stream",
       "stream": "stdout",
       "text": [
        "1911000\t246457\r\n",
        "1912000\t246554\r\n",
        "1913000\t246655\r\n",
        "1914000\t246771\r\n"
       ]
      },
      {
       "output_type": "stream",
       "stream": "stdout",
       "text": [
        "1915000\t246888\r\n",
        "1916000\t246993\r\n",
        "1917000\t247080\r\n",
        "1918000\t247187\r\n"
       ]
      },
      {
       "output_type": "stream",
       "stream": "stdout",
       "text": [
        "1919000\t247297\r\n",
        "1920000\t247409\r\n",
        "1921000\t247519\r\n"
       ]
      },
      {
       "output_type": "stream",
       "stream": "stdout",
       "text": [
        "1922000\t247623\r\n",
        "1923000\t247738\r\n",
        "1924000\t247836\r\n",
        "1925000\t247941\r\n"
       ]
      },
      {
       "output_type": "stream",
       "stream": "stdout",
       "text": [
        "1926000\t248067\r\n",
        "1927000\t248175\r\n",
        "1928000\t248278\r\n",
        "1929000\t248388\r\n"
       ]
      },
      {
       "output_type": "stream",
       "stream": "stdout",
       "text": [
        "1930000\t248487\r\n",
        "1931000\t248600\r\n",
        "1932000\t248712\r\n",
        "1933000\t248826\r\n"
       ]
      },
      {
       "output_type": "stream",
       "stream": "stdout",
       "text": [
        "1934000\t248930\r\n",
        "1935000\t249036\r\n",
        "1936000\t249151\r\n"
       ]
      },
      {
       "output_type": "stream",
       "stream": "stdout",
       "text": [
        "1937000\t249274\r\n",
        "1938000\t249364\r\n",
        "1939000\t249472\r\n",
        "1940000\t249570\r\n"
       ]
      },
      {
       "output_type": "stream",
       "stream": "stdout",
       "text": [
        "1941000\t249675\r\n",
        "1942000\t249776\r\n",
        "1943000\t249876\r\n",
        "1944000\t249978\r\n"
       ]
      },
      {
       "output_type": "stream",
       "stream": "stdout",
       "text": [
        "1945000\t250088\r\n",
        "1946000\t250176\r\n",
        "1947000\t250307\r\n"
       ]
      },
      {
       "output_type": "stream",
       "stream": "stdout",
       "text": [
        "1948000\t250428\r\n",
        "1949000\t250532\r\n",
        "1950000\t250641\r\n",
        "1951000\t250733\r\n"
       ]
      },
      {
       "output_type": "stream",
       "stream": "stdout",
       "text": [
        "1952000\t250836\r\n",
        "1953000\t250932\r\n",
        "1954000\t251054\r\n",
        "1955000\t251140\r\n"
       ]
      },
      {
       "output_type": "stream",
       "stream": "stdout",
       "text": [
        "1956000\t251244\r\n",
        "1957000\t251345\r\n",
        "1958000\t251454\r\n",
        "1959000\t251552\r\n"
       ]
      },
      {
       "output_type": "stream",
       "stream": "stdout",
       "text": [
        "1960000\t251657\r\n",
        "1961000\t251752\r\n",
        "1962000\t251863\r\n"
       ]
      },
      {
       "output_type": "stream",
       "stream": "stdout",
       "text": [
        "1963000\t251953\r\n",
        "1964000\t252051\r\n",
        "1965000\t252142\r\n",
        "1966000\t252242\r\n"
       ]
      },
      {
       "output_type": "stream",
       "stream": "stdout",
       "text": [
        "1967000\t252350\r\n",
        "1968000\t252450\r\n",
        "1969000\t252561\r\n",
        "1970000\t252688\r\n"
       ]
      },
      {
       "output_type": "stream",
       "stream": "stdout",
       "text": [
        "1971000\t252783\r\n",
        "1972000\t252878\r\n",
        "1973000\t252984\r\n"
       ]
      },
      {
       "output_type": "stream",
       "stream": "stdout",
       "text": [
        "1974000\t253072\r\n",
        "1975000\t253169\r\n",
        "1976000\t253268\r\n",
        "1977000\t253372\r\n"
       ]
      },
      {
       "output_type": "stream",
       "stream": "stdout",
       "text": [
        "1978000\t253474\r\n",
        "1979000\t253573\r\n",
        "1980000\t253665\r\n",
        "1981000\t253758\r\n"
       ]
      },
      {
       "output_type": "stream",
       "stream": "stdout",
       "text": [
        "1982000\t253855\r\n",
        "1983000\t253959\r\n",
        "1984000\t254075\r\n",
        "1985000\t254170\r\n"
       ]
      },
      {
       "output_type": "stream",
       "stream": "stdout",
       "text": [
        "1986000\t254271\r\n",
        "1987000\t254360\r\n",
        "1988000\t254458\r\n"
       ]
      },
      {
       "output_type": "stream",
       "stream": "stdout",
       "text": [
        "1989000\t254556\r\n",
        "1990000\t254650\r\n",
        "1991000\t254745\r\n",
        "1992000\t254844\r\n"
       ]
      },
      {
       "output_type": "stream",
       "stream": "stdout",
       "text": [
        "1993000\t254932\r\n",
        "1994000\t255045\r\n",
        "1995000\t255156\r\n",
        "1996000\t255242\r\n"
       ]
      },
      {
       "output_type": "stream",
       "stream": "stdout",
       "text": [
        "1997000\t255346\r\n",
        "1998000\t255442\r\n",
        "1999000\t255545\r\n",
        "2000000\t255641\r\n"
       ]
      },
      {
       "output_type": "stream",
       "stream": "stdout",
       "text": [
        "2001000\t255730\r\n",
        "2002000\t255836\r\n",
        "2003000\t255942\r\n"
       ]
      },
      {
       "output_type": "stream",
       "stream": "stdout",
       "text": [
        "2004000\t256047\r\n",
        "2005000\t256147\r\n",
        "2006000\t256236\r\n",
        "2007000\t256323\r\n"
       ]
      },
      {
       "output_type": "stream",
       "stream": "stdout",
       "text": [
        "2008000\t256421\r\n",
        "2009000\t256511\r\n",
        "2010000\t256600\r\n",
        "2011000\t256693\r\n"
       ]
      },
      {
       "output_type": "stream",
       "stream": "stdout",
       "text": [
        "2012000\t256796\r\n",
        "2013000\t256866\r\n",
        "2014000\t256975\r\n",
        "2015000\t257076\r\n"
       ]
      },
      {
       "output_type": "stream",
       "stream": "stdout",
       "text": [
        "2016000\t257179\r\n",
        "2017000\t257272\r\n",
        "2018000\t257371\r\n"
       ]
      },
      {
       "output_type": "stream",
       "stream": "stdout",
       "text": [
        "2019000\t257459\r\n",
        "2020000\t257562\r\n",
        "2021000\t257639\r\n",
        "2022000\t257738\r\n"
       ]
      },
      {
       "output_type": "stream",
       "stream": "stdout",
       "text": [
        "2023000\t257828\r\n",
        "2024000\t257924\r\n",
        "2025000\t258027\r\n",
        "2026000\t258118\r\n"
       ]
      },
      {
       "output_type": "stream",
       "stream": "stdout",
       "text": [
        "2027000\t258210\r\n",
        "2028000\t258313\r\n",
        "2029000\t258397\r\n",
        "2030000\t258496\r\n"
       ]
      },
      {
       "output_type": "stream",
       "stream": "stdout",
       "text": [
        "2031000\t258577\r\n",
        "2032000\t258691\r\n",
        "2033000\t258788\r\n"
       ]
      },
      {
       "output_type": "stream",
       "stream": "stdout",
       "text": [
        "2034000\t258892\r\n",
        "2035000\t258983\r\n",
        "2036000\t259066\r\n",
        "2037000\t259152\r\n"
       ]
      },
      {
       "output_type": "stream",
       "stream": "stdout",
       "text": [
        "2038000\t259260\r\n",
        "2039000\t259352\r\n",
        "2040000\t259435\r\n",
        "2041000\t259537\r\n"
       ]
      },
      {
       "output_type": "stream",
       "stream": "stdout",
       "text": [
        "2042000\t259644\r\n",
        "2043000\t259748\r\n",
        "2044000\t259845\r\n",
        "2045000\t259946\r\n"
       ]
      },
      {
       "output_type": "stream",
       "stream": "stdout",
       "text": [
        "2046000\t260043\r\n",
        "2047000\t260140\r\n",
        "2048000\t260230\r\n"
       ]
      },
      {
       "output_type": "stream",
       "stream": "stdout",
       "text": [
        "2049000\t260343\r\n",
        "2050000\t260431\r\n",
        "2051000\t260538\r\n",
        "2052000\t260639\r\n"
       ]
      },
      {
       "output_type": "stream",
       "stream": "stdout",
       "text": [
        "2053000\t260741\r\n",
        "2054000\t260833\r\n",
        "2055000\t260936\r\n",
        "2056000\t261032\r\n"
       ]
      },
      {
       "output_type": "stream",
       "stream": "stdout",
       "text": [
        "2057000\t261116\r\n",
        "2058000\t261210\r\n",
        "2059000\t261313\r\n"
       ]
      },
      {
       "output_type": "stream",
       "stream": "stdout",
       "text": [
        "2060000\t261413\r\n",
        "2061000\t261519\r\n",
        "2062000\t261603\r\n",
        "2063000\t261695\r\n"
       ]
      },
      {
       "output_type": "stream",
       "stream": "stdout",
       "text": [
        "2064000\t261785\r\n",
        "2065000\t261871\r\n",
        "2066000\t261974\r\n",
        "2067000\t262075\r\n"
       ]
      },
      {
       "output_type": "stream",
       "stream": "stdout",
       "text": [
        "2068000\t262178\r\n",
        "2069000\t262272\r\n",
        "2070000\t262357\r\n"
       ]
      },
      {
       "output_type": "stream",
       "stream": "stdout",
       "text": [
        "2071000\t262465\r\n",
        "2072000\t262567\r\n",
        "2073000\t262651\r\n",
        "2074000\t262743\r\n"
       ]
      },
      {
       "output_type": "stream",
       "stream": "stdout",
       "text": [
        "2075000\t262831\r\n",
        "2076000\t262898\r\n",
        "2077000\t263001\r\n"
       ]
      },
      {
       "output_type": "stream",
       "stream": "stdout",
       "text": [
        "2078000\t263104\r\n",
        "2079000\t263187\r\n",
        "2080000\t263290\r\n",
        "2081000\t263390\r\n"
       ]
      },
      {
       "output_type": "stream",
       "stream": "stdout",
       "text": [
        "2082000\t263479\r\n",
        "2083000\t263569\r\n",
        "2084000\t263657\r\n",
        "2085000\t263757\r\n"
       ]
      },
      {
       "output_type": "stream",
       "stream": "stdout",
       "text": [
        "2086000\t263837\r\n",
        "2087000\t263939\r\n",
        "2088000\t264054\r\n",
        "2089000\t264152\r\n"
       ]
      },
      {
       "output_type": "stream",
       "stream": "stdout",
       "text": [
        "2090000\t264261\r\n",
        "2091000\t264383\r\n",
        "2092000\t264480\r\n"
       ]
      },
      {
       "output_type": "stream",
       "stream": "stdout",
       "text": [
        "2093000\t264578\r\n",
        "2094000\t264688\r\n",
        "2095000\t264773\r\n",
        "2096000\t264920\r\n"
       ]
      },
      {
       "output_type": "stream",
       "stream": "stdout",
       "text": [
        "2097000\t265033\r\n",
        "2098000\t265107\r\n",
        "2099000\t265211\r\n",
        "2100000\t265308\r\n"
       ]
      },
      {
       "output_type": "stream",
       "stream": "stdout",
       "text": [
        "2101000\t265414\r\n",
        "2102000\t265497\r\n",
        "2103000\t265585\r\n",
        "2104000\t265654\r\n"
       ]
      },
      {
       "output_type": "stream",
       "stream": "stdout",
       "text": [
        "2105000\t265760\r\n",
        "2106000\t265884\r\n",
        "2107000\t265988\r\n"
       ]
      },
      {
       "output_type": "stream",
       "stream": "stdout",
       "text": [
        "2108000\t266090\r\n",
        "2109000\t266177\r\n",
        "2110000\t266285\r\n",
        "2111000\t266390\r\n"
       ]
      },
      {
       "output_type": "stream",
       "stream": "stdout",
       "text": [
        "2112000\t266493\r\n",
        "2113000\t266583\r\n",
        "2114000\t266671\r\n",
        "2115000\t266769\r\n"
       ]
      },
      {
       "output_type": "stream",
       "stream": "stdout",
       "text": [
        "2116000\t266881\r\n",
        "2117000\t266969\r\n",
        "2118000\t267093\r\n"
       ]
      },
      {
       "output_type": "stream",
       "stream": "stdout",
       "text": [
        "2119000\t267209\r\n",
        "2120000\t267304\r\n",
        "2121000\t267435\r\n",
        "2122000\t267547\r\n"
       ]
      },
      {
       "output_type": "stream",
       "stream": "stdout",
       "text": [
        "2123000\t267663\r\n",
        "2124000\t267787\r\n",
        "2125000\t267917\r\n",
        "2126000\t268036\r\n"
       ]
      },
      {
       "output_type": "stream",
       "stream": "stdout",
       "text": [
        "2127000\t268149\r\n",
        "2128000\t268262\r\n",
        "2129000\t268425\r\n"
       ]
      },
      {
       "output_type": "stream",
       "stream": "stdout",
       "text": [
        "2130000\t268634\r\n",
        "2131000\t268845\r\n",
        "2132000\t269045\r\n",
        "2133000\t269239\r\n"
       ]
      },
      {
       "output_type": "stream",
       "stream": "stdout",
       "text": [
        "2134000\t269413\r\n",
        "2135000\t269590\r\n",
        "2136000\t269777\r\n",
        "2137000\t269952\r\n"
       ]
      },
      {
       "output_type": "stream",
       "stream": "stdout",
       "text": [
        "2138000\t270122\r\n",
        "2139000\t270299\r\n",
        "2140000\t270452\r\n"
       ]
      },
      {
       "output_type": "stream",
       "stream": "stdout",
       "text": [
        "2141000\t270602\r\n",
        "2142000\t270757\r\n",
        "2143000\t270900\r\n",
        "2144000\t271056\r\n"
       ]
      },
      {
       "output_type": "stream",
       "stream": "stdout",
       "text": [
        "2145000\t271181\r\n",
        "2146000\t271313\r\n",
        "2147000\t271449\r\n",
        "2148000\t271581\r\n"
       ]
      },
      {
       "output_type": "stream",
       "stream": "stdout",
       "text": [
        "2149000\t271722\r\n",
        "2150000\t271855\r\n",
        "2151000\t271998\r\n"
       ]
      },
      {
       "output_type": "stream",
       "stream": "stdout",
       "text": [
        "2152000\t272136\r\n",
        "2153000\t272241\r\n",
        "2154000\t272372\r\n",
        "2155000\t272485\r\n"
       ]
      },
      {
       "output_type": "stream",
       "stream": "stdout",
       "text": [
        "2156000\t272606\r\n",
        "2157000\t272734\r\n",
        "2158000\t272855\r\n",
        "2159000\t272969\r\n"
       ]
      },
      {
       "output_type": "stream",
       "stream": "stdout",
       "text": [
        "2160000\t273095\r\n",
        "2161000\t273208\r\n",
        "2162000\t273310\r\n"
       ]
      },
      {
       "output_type": "stream",
       "stream": "stdout",
       "text": [
        "2163000\t273423\r\n",
        "2164000\t273546\r\n",
        "2165000\t273667\r\n",
        "2166000\t273797\r\n"
       ]
      },
      {
       "output_type": "stream",
       "stream": "stdout",
       "text": [
        "2167000\t273908\r\n",
        "2168000\t274052\r\n",
        "2169000\t274174\r\n",
        "2170000\t274282\r\n"
       ]
      },
      {
       "output_type": "stream",
       "stream": "stdout",
       "text": [
        "2171000\t274396\r\n",
        "2172000\t274499\r\n",
        "2173000\t274602\r\n"
       ]
      },
      {
       "output_type": "stream",
       "stream": "stdout",
       "text": [
        "2174000\t274719\r\n",
        "2175000\t274816\r\n",
        "2176000\t274956\r\n",
        "2177000\t275075\r\n"
       ]
      },
      {
       "output_type": "stream",
       "stream": "stdout",
       "text": [
        "2178000\t275189\r\n",
        "2179000\t275292\r\n",
        "2180000\t275413\r\n",
        "2181000\t275524\r\n"
       ]
      },
      {
       "output_type": "stream",
       "stream": "stdout",
       "text": [
        "2182000\t275642\r\n",
        "2183000\t275739\r\n",
        "2184000\t275837\r\n"
       ]
      },
      {
       "output_type": "stream",
       "stream": "stdout",
       "text": [
        "2185000\t275945\r\n",
        "2186000\t276058\r\n",
        "2187000\t276166\r\n",
        "2188000\t276277\r\n"
       ]
      },
      {
       "output_type": "stream",
       "stream": "stdout",
       "text": [
        "2189000\t276383\r\n",
        "2190000\t276491\r\n",
        "2191000\t276597\r\n",
        "2192000\t276706\r\n"
       ]
      },
      {
       "output_type": "stream",
       "stream": "stdout",
       "text": [
        "2193000\t276806\r\n",
        "2194000\t276907\r\n",
        "2195000\t277029\r\n",
        "2196000\t277156\r\n"
       ]
      },
      {
       "output_type": "stream",
       "stream": "stdout",
       "text": [
        "2197000\t277273\r\n",
        "2198000\t277369\r\n",
        "2199000\t277471\r\n"
       ]
      },
      {
       "output_type": "stream",
       "stream": "stdout",
       "text": [
        "2200000\t277578\r\n",
        "2201000\t277704\r\n",
        "2202000\t277805\r\n",
        "2203000\t277918\r\n"
       ]
      },
      {
       "output_type": "stream",
       "stream": "stdout",
       "text": [
        "2204000\t278023\r\n",
        "2205000\t278122\r\n",
        "2206000\t278234\r\n",
        "2207000\t278337\r\n"
       ]
      },
      {
       "output_type": "stream",
       "stream": "stdout",
       "text": [
        "2208000\t278451\r\n",
        "2209000\t278558\r\n",
        "2210000\t278657\r\n"
       ]
      },
      {
       "output_type": "stream",
       "stream": "stdout",
       "text": [
        "2211000\t278764\r\n",
        "2212000\t278871\r\n",
        "2213000\t278980\r\n",
        "2214000\t279108\r\n"
       ]
      },
      {
       "output_type": "stream",
       "stream": "stdout",
       "text": [
        "2215000\t279197\r\n",
        "2216000\t279290\r\n",
        "2217000\t279399\r\n",
        "2218000\t279509\r\n"
       ]
      },
      {
       "output_type": "stream",
       "stream": "stdout",
       "text": [
        "2219000\t279610\r\n",
        "2220000\t279715\r\n",
        "2221000\t279821\r\n",
        "2222000\t279913\r\n"
       ]
      },
      {
       "output_type": "stream",
       "stream": "stdout",
       "text": [
        "2223000\t279992\r\n",
        "2224000\t280094\r\n",
        "2225000\t280185\r\n"
       ]
      },
      {
       "output_type": "stream",
       "stream": "stdout",
       "text": [
        "2226000\t280293\r\n",
        "2227000\t280391\r\n",
        "2228000\t280496\r\n",
        "2229000\t280599\r\n"
       ]
      },
      {
       "output_type": "stream",
       "stream": "stdout",
       "text": [
        "2230000\t280704\r\n",
        "2231000\t280820\r\n",
        "2232000\t280926\r\n",
        "2233000\t281028\r\n"
       ]
      },
      {
       "output_type": "stream",
       "stream": "stdout",
       "text": [
        "2234000\t281140\r\n",
        "2235000\t281247\r\n",
        "2236000\t281342\r\n"
       ]
      },
      {
       "output_type": "stream",
       "stream": "stdout",
       "text": [
        "2237000\t281440\r\n",
        "2238000\t281514\r\n",
        "2239000\t281599\r\n",
        "2240000\t281705\r\n"
       ]
      },
      {
       "output_type": "stream",
       "stream": "stdout",
       "text": [
        "2241000\t281790\r\n",
        "2242000\t281872\r\n",
        "2243000\t281974\r\n",
        "2244000\t282084\r\n"
       ]
      },
      {
       "output_type": "stream",
       "stream": "stdout",
       "text": [
        "2245000\t282176\r\n",
        "2246000\t282267\r\n",
        "2247000\t282369\r\n",
        "2248000\t282480\r\n"
       ]
      },
      {
       "output_type": "stream",
       "stream": "stdout",
       "text": [
        "2249000\t282576\r\n",
        "2250000\t282676\r\n",
        "2251000\t282777\r\n"
       ]
      },
      {
       "output_type": "stream",
       "stream": "stdout",
       "text": [
        "2252000\t282864\r\n",
        "2253000\t282973\r\n",
        "2254000\t283073\r\n",
        "2255000\t283170\r\n"
       ]
      },
      {
       "output_type": "stream",
       "stream": "stdout",
       "text": [
        "2256000\t283273\r\n",
        "2257000\t283367\r\n",
        "2258000\t283469\r\n",
        "2259000\t283569\r\n"
       ]
      },
      {
       "output_type": "stream",
       "stream": "stdout",
       "text": [
        "2260000\t283663\r\n",
        "2261000\t283777\r\n",
        "2262000\t283874\r\n"
       ]
      },
      {
       "output_type": "stream",
       "stream": "stdout",
       "text": [
        "2263000\t283958\r\n",
        "2264000\t284044\r\n",
        "2265000\t284137\r\n",
        "2266000\t284242\r\n"
       ]
      },
      {
       "output_type": "stream",
       "stream": "stdout",
       "text": [
        "2267000\t284348\r\n",
        "2268000\t284446\r\n",
        "2269000\t284543\r\n",
        "2270000\t284624\r\n"
       ]
      },
      {
       "output_type": "stream",
       "stream": "stdout",
       "text": [
        "2271000\t284730\r\n",
        "2272000\t284839\r\n",
        "2273000\t284928\r\n",
        "2274000\t285028\r\n"
       ]
      },
      {
       "output_type": "stream",
       "stream": "stdout",
       "text": [
        "2275000\t285133\r\n",
        "2276000\t285211\r\n",
        "2277000\t285304\r\n"
       ]
      },
      {
       "output_type": "stream",
       "stream": "stdout",
       "text": [
        "2278000\t285405\r\n",
        "2279000\t285513\r\n",
        "2280000\t285617\r\n",
        "2281000\t285711\r\n"
       ]
      },
      {
       "output_type": "stream",
       "stream": "stdout",
       "text": [
        "2282000\t285788\r\n",
        "2283000\t285887\r\n",
        "2284000\t285972\r\n",
        "2285000\t286077\r\n"
       ]
      },
      {
       "output_type": "stream",
       "stream": "stdout",
       "text": [
        "2286000\t286159\r\n",
        "2287000\t286249\r\n",
        "2288000\t286329\r\n"
       ]
      },
      {
       "output_type": "stream",
       "stream": "stdout",
       "text": [
        "2289000\t286414\r\n",
        "2290000\t286521\r\n",
        "2291000\t286619\r\n",
        "2292000\t286722\r\n"
       ]
      },
      {
       "output_type": "stream",
       "stream": "stdout",
       "text": [
        "2293000\t286819\r\n",
        "2294000\t286911\r\n",
        "2295000\t287011\r\n",
        "2296000\t287106\r\n"
       ]
      },
      {
       "output_type": "stream",
       "stream": "stdout",
       "text": [
        "2297000\t287194\r\n",
        "2298000\t287284\r\n",
        "2299000\t287373\r\n",
        "2300000\t287463\r\n"
       ]
      },
      {
       "output_type": "stream",
       "stream": "stdout",
       "text": [
        "2301000\t287572\r\n",
        "2302000\t287656\r\n",
        "2303000\t287738\r\n"
       ]
      },
      {
       "output_type": "stream",
       "stream": "stdout",
       "text": [
        "2304000\t287826\r\n",
        "2305000\t287919\r\n",
        "2306000\t288007\r\n",
        "2307000\t288103\r\n"
       ]
      },
      {
       "output_type": "stream",
       "stream": "stdout",
       "text": [
        "2308000\t288191\r\n",
        "2309000\t288292\r\n",
        "2310000\t288385\r\n",
        "2311000\t288469\r\n"
       ]
      },
      {
       "output_type": "stream",
       "stream": "stdout",
       "text": [
        "2312000\t288570\r\n",
        "2313000\t288663\r\n",
        "2314000\t288761\r\n"
       ]
      },
      {
       "output_type": "stream",
       "stream": "stdout",
       "text": [
        "2315000\t288872\r\n",
        "2316000\t288967\r\n",
        "2317000\t289061\r\n",
        "2318000\t289147\r\n"
       ]
      },
      {
       "output_type": "stream",
       "stream": "stdout",
       "text": [
        "2319000\t289227\r\n",
        "2320000\t289327\r\n",
        "2321000\t289429\r\n",
        "2322000\t289521\r\n"
       ]
      },
      {
       "output_type": "stream",
       "stream": "stdout",
       "text": [
        "2323000\t289624\r\n",
        "2324000\t289718\r\n",
        "2325000\t289817\r\n",
        "2326000\t289908\r\n"
       ]
      },
      {
       "output_type": "stream",
       "stream": "stdout",
       "text": [
        "2327000\t290010\r\n",
        "2328000\t290097\r\n",
        "2329000\t290194\r\n"
       ]
      },
      {
       "output_type": "stream",
       "stream": "stdout",
       "text": [
        "2330000\t290292\r\n",
        "2331000\t290386\r\n",
        "2332000\t290491\r\n",
        "2333000\t290576\r\n"
       ]
      },
      {
       "output_type": "stream",
       "stream": "stdout",
       "text": [
        "2334000\t290689\r\n",
        "2335000\t290775\r\n",
        "2336000\t290863\r\n",
        "2337000\t290964\r\n"
       ]
      },
      {
       "output_type": "stream",
       "stream": "stdout",
       "text": [
        "2338000\t291073\r\n",
        "2339000\t291176\r\n",
        "2340000\t291266\r\n"
       ]
      },
      {
       "output_type": "stream",
       "stream": "stdout",
       "text": [
        "2341000\t291365\r\n",
        "2342000\t291439\r\n",
        "2343000\t291523\r\n",
        "2344000\t291613\r\n"
       ]
      },
      {
       "output_type": "stream",
       "stream": "stdout",
       "text": [
        "2345000\t291710\r\n",
        "2346000\t291802\r\n",
        "2347000\t291890\r\n",
        "2348000\t291992\r\n"
       ]
      },
      {
       "output_type": "stream",
       "stream": "stdout",
       "text": [
        "2349000\t292092\r\n",
        "2350000\t292189\r\n",
        "2351000\t292273\r\n"
       ]
      },
      {
       "output_type": "stream",
       "stream": "stdout",
       "text": [
        "2352000\t292366\r\n",
        "2353000\t292463\r\n",
        "2354000\t292577\r\n",
        "2355000\t292699\r\n"
       ]
      },
      {
       "output_type": "stream",
       "stream": "stdout",
       "text": [
        "2356000\t292786\r\n",
        "2357000\t292899\r\n",
        "2358000\t292990\r\n",
        "2359000\t293090\r\n"
       ]
      },
      {
       "output_type": "stream",
       "stream": "stdout",
       "text": [
        "2360000\t293186\r\n",
        "2361000\t293274\r\n",
        "2362000\t293352\r\n"
       ]
      },
      {
       "output_type": "stream",
       "stream": "stdout",
       "text": [
        "2363000\t293465\r\n",
        "2364000\t293567\r\n",
        "2365000\t293662\r\n",
        "2366000\t293751\r\n"
       ]
      },
      {
       "output_type": "stream",
       "stream": "stdout",
       "text": [
        "2367000\t293855\r\n",
        "2368000\t293939\r\n",
        "2369000\t294040\r\n",
        "2370000\t294152\r\n"
       ]
      },
      {
       "output_type": "stream",
       "stream": "stdout",
       "text": [
        "2371000\t294242\r\n",
        "2372000\t294343\r\n",
        "2373000\t294460\r\n",
        "2374000\t294562\r\n"
       ]
      },
      {
       "output_type": "stream",
       "stream": "stdout",
       "text": [
        "2375000\t294670\r\n",
        "2376000\t294781\r\n",
        "2377000\t294883\r\n"
       ]
      },
      {
       "output_type": "stream",
       "stream": "stdout",
       "text": [
        "2378000\t294999\r\n",
        "2379000\t295126\r\n",
        "2380000\t295243\r\n",
        "2381000\t295371\r\n"
       ]
      },
      {
       "output_type": "stream",
       "stream": "stdout",
       "text": [
        "2382000\t295482\r\n",
        "2383000\t295604\r\n",
        "2384000\t295708\r\n",
        "2385000\t295822\r\n"
       ]
      },
      {
       "output_type": "stream",
       "stream": "stdout",
       "text": [
        "2386000\t295945\r\n",
        "2387000\t296072\r\n",
        "2388000\t296268\r\n"
       ]
      },
      {
       "output_type": "stream",
       "stream": "stdout",
       "text": [
        "2389000\t296460\r\n",
        "2390000\t296630\r\n",
        "2391000\t296794\r\n",
        "2392000\t296949\r\n"
       ]
      },
      {
       "output_type": "stream",
       "stream": "stdout",
       "text": [
        "2393000\t297097\r\n",
        "2394000\t297239\r\n",
        "2395000\t297385\r\n"
       ]
      },
      {
       "output_type": "stream",
       "stream": "stdout",
       "text": [
        "2396000\t297544\r\n",
        "2397000\t297689\r\n",
        "2398000\t297815\r\n",
        "2399000\t297955\r\n"
       ]
      },
      {
       "output_type": "stream",
       "stream": "stdout",
       "text": [
        "2400000\t298080\r\n",
        "2401000\t298222\r\n",
        "2402000\t298348\r\n",
        "2403000\t298471\r\n"
       ]
      },
      {
       "output_type": "stream",
       "stream": "stdout",
       "text": [
        "2404000\t298599\r\n",
        "2405000\t298731\r\n",
        "2406000\t298846\r\n"
       ]
      },
      {
       "output_type": "stream",
       "stream": "stdout",
       "text": [
        "2407000\t298961\r\n",
        "2408000\t299092\r\n",
        "2409000\t299206\r\n",
        "2410000\t299306\r\n"
       ]
      },
      {
       "output_type": "stream",
       "stream": "stdout",
       "text": [
        "2411000\t299427\r\n",
        "2412000\t299537\r\n",
        "2413000\t299655\r\n",
        "2414000\t299760\r\n"
       ]
      },
      {
       "output_type": "stream",
       "stream": "stdout",
       "text": [
        "2415000\t299883\r\n",
        "2416000\t299996\r\n",
        "2417000\t300116\r\n",
        "2418000\t300221\r\n"
       ]
      },
      {
       "output_type": "stream",
       "stream": "stdout",
       "text": [
        "2419000\t300319\r\n",
        "2420000\t300435\r\n",
        "2421000\t300544\r\n"
       ]
      },
      {
       "output_type": "stream",
       "stream": "stdout",
       "text": [
        "2422000\t300653\r\n",
        "2423000\t300762\r\n",
        "2424000\t300867\r\n",
        "2425000\t300963\r\n"
       ]
      },
      {
       "output_type": "stream",
       "stream": "stdout",
       "text": [
        "2426000\t301052\r\n",
        "2427000\t301177\r\n",
        "2428000\t301296\r\n",
        "2429000\t301428\r\n"
       ]
      },
      {
       "output_type": "stream",
       "stream": "stdout",
       "text": [
        "2430000\t301562\r\n",
        "2431000\t301663\r\n",
        "2432000\t301765\r\n"
       ]
      },
      {
       "output_type": "stream",
       "stream": "stdout",
       "text": [
        "2433000\t301880\r\n",
        "2434000\t301984\r\n",
        "2435000\t302101\r\n",
        "2436000\t302206\r\n"
       ]
      },
      {
       "output_type": "stream",
       "stream": "stdout",
       "text": [
        "2437000\t302308\r\n",
        "2438000\t302406\r\n",
        "2439000\t302517\r\n",
        "2440000\t302636\r\n"
       ]
      },
      {
       "output_type": "stream",
       "stream": "stdout",
       "text": [
        "2441000\t302733\r\n",
        "2442000\t302833\r\n",
        "2443000\t302947\r\n"
       ]
      },
      {
       "output_type": "stream",
       "stream": "stdout",
       "text": [
        "2444000\t303043\r\n",
        "2445000\t303161\r\n",
        "2446000\t303278\r\n",
        "2447000\t303360\r\n"
       ]
      },
      {
       "output_type": "stream",
       "stream": "stdout",
       "text": [
        "2448000\t303461\r\n",
        "2449000\t303547\r\n",
        "2450000\t303663\r\n",
        "2451000\t303768\r\n"
       ]
      },
      {
       "output_type": "stream",
       "stream": "stdout",
       "text": [
        "2452000\t303879\r\n",
        "2453000\t303983\r\n",
        "2454000\t304088\r\n"
       ]
      },
      {
       "output_type": "stream",
       "stream": "stdout",
       "text": [
        "2455000\t304203\r\n",
        "2456000\t304306\r\n",
        "2457000\t304417\r\n",
        "2458000\t304527\r\n"
       ]
      },
      {
       "output_type": "stream",
       "stream": "stdout",
       "text": [
        "2459000\t304634\r\n",
        "2460000\t304732\r\n",
        "2461000\t304820\r\n",
        "2462000\t304933\r\n"
       ]
      },
      {
       "output_type": "stream",
       "stream": "stdout",
       "text": [
        "2463000\t305020\r\n",
        "2464000\t305122\r\n",
        "2465000\t305216\r\n",
        "2466000\t305329\r\n"
       ]
      },
      {
       "output_type": "stream",
       "stream": "stdout",
       "text": [
        "2467000\t305435\r\n",
        "2468000\t305525\r\n",
        "2469000\t305624\r\n"
       ]
      },
      {
       "output_type": "stream",
       "stream": "stdout",
       "text": [
        "2470000\t305734\r\n",
        "2471000\t305827\r\n",
        "2472000\t305933\r\n",
        "2473000\t306034\r\n"
       ]
      },
      {
       "output_type": "stream",
       "stream": "stdout",
       "text": [
        "2474000\t306132\r\n",
        "2475000\t306239\r\n"
       ]
      },
      {
       "output_type": "stream",
       "stream": "stdout",
       "text": [
        "2476000\t306339\r\n",
        "2477000\t306445\r\n",
        "2478000\t306537\r\n"
       ]
      },
      {
       "output_type": "stream",
       "stream": "stdout",
       "text": [
        "2479000\t306649\r\n",
        "2480000\t306759\r\n",
        "2481000\t306855\r\n"
       ]
      },
      {
       "output_type": "stream",
       "stream": "stdout",
       "text": [
        "2482000\t306940\r\n",
        "2483000\t307050\r\n",
        "2484000\t307156\r\n"
       ]
      },
      {
       "output_type": "stream",
       "stream": "stdout",
       "text": [
        "2485000\t307249\r\n",
        "2486000\t307338\r\n",
        "2487000\t307429\r\n"
       ]
      },
      {
       "output_type": "stream",
       "stream": "stdout",
       "text": [
        "2488000\t307525\r\n",
        "2489000\t307622\r\n",
        "2490000\t307720\r\n"
       ]
      },
      {
       "output_type": "stream",
       "stream": "stdout",
       "text": [
        "2491000\t307826\r\n",
        "2492000\t307931\r\n",
        "2493000\t308012\r\n"
       ]
      },
      {
       "output_type": "stream",
       "stream": "stdout",
       "text": [
        "2494000\t308112\r\n",
        "2495000\t308198\r\n",
        "2496000\t308307\r\n"
       ]
      },
      {
       "output_type": "stream",
       "stream": "stdout",
       "text": [
        "2497000\t308411\r\n",
        "2498000\t308501\r\n",
        "2499000\t308610\r\n"
       ]
      },
      {
       "output_type": "stream",
       "stream": "stdout",
       "text": [
        "2500000\t308703\r\n",
        "2501000\t308788\r\n",
        "2502000\t308871\r\n"
       ]
      },
      {
       "output_type": "stream",
       "stream": "stdout",
       "text": [
        "2503000\t308968\r\n",
        "2504000\t309066\r\n",
        "2505000\t309164\r\n",
        "2506000\t309252\r\n"
       ]
      },
      {
       "output_type": "stream",
       "stream": "stdout",
       "text": [
        "2507000\t309345\r\n",
        "2508000\t309437\r\n",
        "2509000\t309551\r\n"
       ]
      },
      {
       "output_type": "stream",
       "stream": "stdout",
       "text": [
        "2510000\t309652\r\n",
        "2511000\t309739\r\n",
        "2512000\t309829\r\n",
        "2513000\t309929\r\n"
       ]
      },
      {
       "output_type": "stream",
       "stream": "stdout",
       "text": [
        "2514000\t310023\r\n",
        "2515000\t310110\r\n",
        "2516000\t310208\r\n"
       ]
      },
      {
       "output_type": "stream",
       "stream": "stdout",
       "text": [
        "2517000\t310292\r\n",
        "2518000\t310372\r\n",
        "2519000\t310464\r\n",
        "2520000\t310553\r\n"
       ]
      },
      {
       "output_type": "stream",
       "stream": "stdout",
       "text": [
        "2521000\t310651\r\n",
        "2522000\t310748\r\n",
        "2523000\t310826\r\n",
        "2524000\t310925\r\n"
       ]
      },
      {
       "output_type": "stream",
       "stream": "stdout",
       "text": [
        "2525000\t311035\r\n",
        "2526000\t311124\r\n",
        "2527000\t311217\r\n"
       ]
      },
      {
       "output_type": "stream",
       "stream": "stdout",
       "text": [
        "2528000\t311328\r\n",
        "2529000\t311414\r\n",
        "2530000\t311504\r\n",
        "2531000\t311595\r\n"
       ]
      },
      {
       "output_type": "stream",
       "stream": "stdout",
       "text": [
        "2532000\t311666\r\n",
        "2533000\t311760\r\n",
        "2534000\t311850\r\n",
        "2535000\t311956\r\n"
       ]
      },
      {
       "output_type": "stream",
       "stream": "stdout",
       "text": [
        "2536000\t312055\r\n",
        "2537000\t312148\r\n",
        "2538000\t312248\r\n"
       ]
      },
      {
       "output_type": "stream",
       "stream": "stdout",
       "text": [
        "2539000\t312343\r\n",
        "2540000\t312447\r\n",
        "2541000\t312546\r\n",
        "2542000\t312634\r\n"
       ]
      },
      {
       "output_type": "stream",
       "stream": "stdout",
       "text": [
        "2543000\t312718\r\n",
        "2544000\t312808\r\n",
        "2545000\t312902\r\n"
       ]
      },
      {
       "output_type": "stream",
       "stream": "stdout",
       "text": [
        "2546000\t312991\r\n",
        "2547000\t313077\r\n",
        "2548000\t313149\r\n",
        "2549000\t313264\r\n"
       ]
      },
      {
       "output_type": "stream",
       "stream": "stdout",
       "text": [
        "2550000\t313361\r\n",
        "2551000\t313458\r\n",
        "2552000\t313548\r\n"
       ]
      },
      {
       "output_type": "stream",
       "stream": "stdout",
       "text": [
        "2553000\t313630\r\n",
        "2554000\t313728\r\n",
        "2555000\t313844\r\n",
        "2556000\t313942\r\n"
       ]
      },
      {
       "output_type": "stream",
       "stream": "stdout",
       "text": [
        "2557000\t314059\r\n",
        "2558000\t314161\r\n",
        "2559000\t314271\r\n"
       ]
      },
      {
       "output_type": "stream",
       "stream": "stdout",
       "text": [
        "2560000\t314369\r\n",
        "2561000\t314448\r\n",
        "2562000\t314541\r\n",
        "2563000\t314624\r\n"
       ]
      },
      {
       "output_type": "stream",
       "stream": "stdout",
       "text": [
        "2564000\t314706\r\n",
        "2565000\t314806\r\n",
        "2566000\t314893\r\n"
       ]
      },
      {
       "output_type": "stream",
       "stream": "stdout",
       "text": [
        "2567000\t314994\r\n",
        "2568000\t315089\r\n",
        "2569000\t315172\r\n",
        "2570000\t315258\r\n"
       ]
      },
      {
       "output_type": "stream",
       "stream": "stdout",
       "text": [
        "2571000\t315356\r\n",
        "2572000\t315449\r\n",
        "2573000\t315545\r\n",
        "2574000\t315632\r\n"
       ]
      },
      {
       "output_type": "stream",
       "stream": "stdout",
       "text": [
        "2575000\t315718\r\n",
        "2576000\t315797\r\n",
        "2577000\t315879\r\n"
       ]
      },
      {
       "output_type": "stream",
       "stream": "stdout",
       "text": [
        "2578000\t315973\r\n",
        "2579000\t316059\r\n",
        "2580000\t316141\r\n",
        "2581000\t316240\r\n"
       ]
      },
      {
       "output_type": "stream",
       "stream": "stdout",
       "text": [
        "2582000\t316337\r\n",
        "2583000\t316438\r\n",
        "2584000\t316533\r\n"
       ]
      },
      {
       "output_type": "stream",
       "stream": "stdout",
       "text": [
        "2585000\t316641\r\n",
        "2586000\t316746\r\n",
        "2587000\t316822\r\n",
        "2588000\t316919\r\n"
       ]
      },
      {
       "output_type": "stream",
       "stream": "stdout",
       "text": [
        "2589000\t317013\r\n",
        "2590000\t317097\r\n",
        "2591000\t317192\r\n"
       ]
      },
      {
       "output_type": "stream",
       "stream": "stdout",
       "text": [
        "2592000\t317298\r\n",
        "2593000\t317403\r\n",
        "2594000\t317509\r\n",
        "2595000\t317598\r\n"
       ]
      },
      {
       "output_type": "stream",
       "stream": "stdout",
       "text": [
        "2596000\t317691\r\n",
        "2597000\t317786\r\n",
        "2598000\t317882\r\n"
       ]
      },
      {
       "output_type": "stream",
       "stream": "stdout",
       "text": [
        "2599000\t317973\r\n",
        "2600000\t318052\r\n",
        "2601000\t318135\r\n",
        "2602000\t318224\r\n"
       ]
      },
      {
       "output_type": "stream",
       "stream": "stdout",
       "text": [
        "2603000\t318311\r\n",
        "2604000\t318408\r\n",
        "2605000\t318487\r\n"
       ]
      },
      {
       "output_type": "stream",
       "stream": "stdout",
       "text": [
        "2606000\t318571\r\n",
        "2607000\t318657\r\n",
        "2608000\t318740\r\n",
        "2609000\t318836\r\n"
       ]
      },
      {
       "output_type": "stream",
       "stream": "stdout",
       "text": [
        "2610000\t318923\r\n",
        "2611000\t319001\r\n",
        "2612000\t319099\r\n"
       ]
      },
      {
       "output_type": "stream",
       "stream": "stdout",
       "text": [
        "2613000\t319185\r\n",
        "2614000\t319278\r\n",
        "2615000\t319379\r\n",
        "2616000\t319479\r\n"
       ]
      },
      {
       "output_type": "stream",
       "stream": "stdout",
       "text": [
        "2617000\t319566\r\n",
        "2618000\t319653\r\n",
        "2619000\t319758\r\n"
       ]
      },
      {
       "output_type": "stream",
       "stream": "stdout",
       "text": [
        "2620000\t319839\r\n",
        "2621000\t319943\r\n",
        "2622000\t320043\r\n"
       ]
      },
      {
       "output_type": "stream",
       "stream": "stdout",
       "text": [
        "2623000\t320164\r\n",
        "2624000\t320289\r\n",
        "2625000\t320389\r\n"
       ]
      },
      {
       "output_type": "stream",
       "stream": "stdout",
       "text": [
        "2626000\t320478\r\n",
        "2627000\t320557\r\n",
        "2628000\t320644\r\n"
       ]
      },
      {
       "output_type": "stream",
       "stream": "stdout",
       "text": [
        "2629000\t320730\r\n",
        "2630000\t320840\r\n",
        "2631000\t320933\r\n"
       ]
      },
      {
       "output_type": "stream",
       "stream": "stdout",
       "text": [
        "2632000\t321023\r\n",
        "2633000\t321132\r\n",
        "2634000\t321218\r\n"
       ]
      },
      {
       "output_type": "stream",
       "stream": "stdout",
       "text": [
        "2635000\t321304\r\n",
        "2636000\t321396\r\n",
        "2637000\t321512\r\n"
       ]
      },
      {
       "output_type": "stream",
       "stream": "stdout",
       "text": [
        "2638000\t321616\r\n",
        "2639000\t321708\r\n",
        "2640000\t321816\r\n"
       ]
      },
      {
       "output_type": "stream",
       "stream": "stdout",
       "text": [
        "2641000\t321912\r\n",
        "2642000\t321999\r\n",
        "2643000\t322103\r\n"
       ]
      },
      {
       "output_type": "stream",
       "stream": "stdout",
       "text": [
        "2644000\t322212\r\n",
        "2645000\t322337\r\n",
        "2646000\t322426\r\n",
        "2647000\t322520\r\n"
       ]
      },
      {
       "output_type": "stream",
       "stream": "stdout",
       "text": [
        "2648000\t322605\r\n",
        "2649000\t322713\r\n",
        "2650000\t322837\r\n"
       ]
      },
      {
       "output_type": "stream",
       "stream": "stdout",
       "text": [
        "2651000\t322950\r\n",
        "2652000\t323059\r\n",
        "2653000\t323180\r\n"
       ]
      },
      {
       "output_type": "stream",
       "stream": "stdout",
       "text": [
        "2654000\t323286\r\n",
        "2655000\t323399\r\n",
        "2656000\t323526\r\n"
       ]
      },
      {
       "output_type": "stream",
       "stream": "stdout",
       "text": [
        "2657000\t323697\r\n",
        "2658000\t323876\r\n",
        "2659000\t324042\r\n"
       ]
      },
      {
       "output_type": "stream",
       "stream": "stdout",
       "text": [
        "2660000\t324215\r\n",
        "2661000\t324380\r\n",
        "2662000\t324544\r\n"
       ]
      },
      {
       "output_type": "stream",
       "stream": "stdout",
       "text": [
        "2663000\t324691\r\n",
        "2664000\t324826\r\n",
        "2665000\t324971\r\n"
       ]
      },
      {
       "output_type": "stream",
       "stream": "stdout",
       "text": [
        "2666000\t325124\r\n",
        "2667000\t325253\r\n",
        "2668000\t325381\r\n"
       ]
      },
      {
       "output_type": "stream",
       "stream": "stdout",
       "text": [
        "2669000\t325512\r\n",
        "2670000\t325641\r\n",
        "2671000\t325755\r\n"
       ]
      },
      {
       "output_type": "stream",
       "stream": "stdout",
       "text": [
        "2672000\t325877\r\n",
        "2673000\t325991\r\n",
        "2674000\t326106\r\n"
       ]
      },
      {
       "output_type": "stream",
       "stream": "stdout",
       "text": [
        "2675000\t326221\r\n",
        "2676000\t326339\r\n",
        "2677000\t326476\r\n"
       ]
      },
      {
       "output_type": "stream",
       "stream": "stdout",
       "text": [
        "2678000\t326603\r\n",
        "2679000\t326701\r\n",
        "2680000\t326826\r\n"
       ]
      },
      {
       "output_type": "stream",
       "stream": "stdout",
       "text": [
        "2681000\t326934\r\n",
        "2682000\t327052\r\n",
        "2683000\t327163\r\n"
       ]
      },
      {
       "output_type": "stream",
       "stream": "stdout",
       "text": [
        "2684000\t327271\r\n",
        "2685000\t327389\r\n",
        "2686000\t327503\r\n",
        "2687000\t327613\r\n"
       ]
      },
      {
       "output_type": "stream",
       "stream": "stdout",
       "text": [
        "2688000\t327718\r\n",
        "2689000\t327820\r\n",
        "2690000\t327935\r\n",
        "2691000\t328046\r\n"
       ]
      },
      {
       "output_type": "stream",
       "stream": "stdout",
       "text": [
        "2692000\t328141\r\n",
        "2693000\t328236\r\n",
        "2694000\t328336\r\n"
       ]
      },
      {
       "output_type": "stream",
       "stream": "stdout",
       "text": [
        "2695000\t328447\r\n",
        "2696000\t328590\r\n",
        "2697000\t328714\r\n",
        "2698000\t328841\r\n"
       ]
      },
      {
       "output_type": "stream",
       "stream": "stdout",
       "text": [
        "2699000\t328964\r\n",
        "2700000\t329082\r\n",
        "2701000\t329188\r\n",
        "2702000\t329292\r\n"
       ]
      },
      {
       "output_type": "stream",
       "stream": "stdout",
       "text": [
        "2703000\t329396\r\n",
        "2704000\t329510\r\n",
        "2705000\t329616\r\n"
       ]
      },
      {
       "output_type": "stream",
       "stream": "stdout",
       "text": [
        "2706000\t329728\r\n",
        "2707000\t329859\r\n",
        "2708000\t329958\r\n",
        "2709000\t330065\r\n"
       ]
      },
      {
       "output_type": "stream",
       "stream": "stdout",
       "text": [
        "2710000\t330181\r\n",
        "2711000\t330292\r\n",
        "2712000\t330400\r\n",
        "2713000\t330517\r\n"
       ]
      },
      {
       "output_type": "stream",
       "stream": "stdout",
       "text": [
        "2714000\t330625\r\n",
        "2715000\t330740\r\n",
        "2716000\t330858\r\n"
       ]
      },
      {
       "output_type": "stream",
       "stream": "stdout",
       "text": [
        "2717000\t330949\r\n",
        "2718000\t331051\r\n",
        "2719000\t331160\r\n",
        "2720000\t331270\r\n"
       ]
      },
      {
       "output_type": "stream",
       "stream": "stdout",
       "text": [
        "2721000\t331357\r\n",
        "2722000\t331436\r\n",
        "2723000\t331533\r\n",
        "2724000\t331629\r\n"
       ]
      },
      {
       "output_type": "stream",
       "stream": "stdout",
       "text": [
        "2725000\t331737\r\n",
        "2726000\t331840\r\n",
        "2727000\t331928\r\n"
       ]
      },
      {
       "output_type": "stream",
       "stream": "stdout",
       "text": [
        "2728000\t332021\r\n",
        "2729000\t332104\r\n",
        "2730000\t332209\r\n",
        "2731000\t332306\r\n"
       ]
      },
      {
       "output_type": "stream",
       "stream": "stdout",
       "text": [
        "2732000\t332403\r\n",
        "2733000\t332487\r\n",
        "2734000\t332586\r\n",
        "2735000\t332685\r\n"
       ]
      },
      {
       "output_type": "stream",
       "stream": "stdout",
       "text": [
        "2736000\t332781\r\n",
        "2737000\t332865\r\n",
        "2738000\t332950\r\n"
       ]
      },
      {
       "output_type": "stream",
       "stream": "stdout",
       "text": [
        "2739000\t333038\r\n",
        "2740000\t333129\r\n",
        "2741000\t333230\r\n",
        "2742000\t333301\r\n"
       ]
      },
      {
       "output_type": "stream",
       "stream": "stdout",
       "text": [
        "2743000\t333400\r\n",
        "2744000\t333489\r\n",
        "2745000\t333576\r\n",
        "2746000\t333665\r\n"
       ]
      },
      {
       "output_type": "stream",
       "stream": "stdout",
       "text": [
        "2747000\t333759\r\n",
        "2748000\t333849\r\n",
        "2749000\t333948\r\n"
       ]
      },
      {
       "output_type": "stream",
       "stream": "stdout",
       "text": [
        "2750000\t334069\r\n",
        "2751000\t334172\r\n",
        "2752000\t334270\r\n",
        "2753000\t334364\r\n"
       ]
      },
      {
       "output_type": "stream",
       "stream": "stdout",
       "text": [
        "2754000\t334454\r\n",
        "2755000\t334556\r\n",
        "2756000\t334659\r\n"
       ]
      },
      {
       "output_type": "stream",
       "stream": "stdout",
       "text": [
        "2757000\t334746\r\n",
        "2758000\t334837\r\n",
        "2759000\t334932\r\n",
        "2760000\t335035\r\n"
       ]
      },
      {
       "output_type": "stream",
       "stream": "stdout",
       "text": [
        "2761000\t335139\r\n",
        "2762000\t335234\r\n",
        "2763000\t335334\r\n",
        "2764000\t335434\r\n"
       ]
      },
      {
       "output_type": "stream",
       "stream": "stdout",
       "text": [
        "2765000\t335527\r\n",
        "2766000\t335619\r\n",
        "2767000\t335715\r\n"
       ]
      },
      {
       "output_type": "stream",
       "stream": "stdout",
       "text": [
        "2768000\t335808\r\n",
        "2769000\t335899\r\n",
        "2770000\t335990\r\n",
        "2771000\t336089\r\n"
       ]
      },
      {
       "output_type": "stream",
       "stream": "stdout",
       "text": [
        "2772000\t336184\r\n",
        "2773000\t336285\r\n",
        "2774000\t336374\r\n",
        "2775000\t336470\r\n"
       ]
      },
      {
       "output_type": "stream",
       "stream": "stdout",
       "text": [
        "2776000\t336562\r\n",
        "2777000\t336664\r\n",
        "2778000\t336759\r\n"
       ]
      },
      {
       "output_type": "stream",
       "stream": "stdout",
       "text": [
        "2779000\t336842\r\n",
        "2780000\t336947\r\n",
        "2781000\t337048\r\n",
        "2782000\t337151\r\n"
       ]
      },
      {
       "output_type": "stream",
       "stream": "stdout",
       "text": [
        "2783000\t337255\r\n",
        "2784000\t337335\r\n",
        "2785000\t337416\r\n",
        "2786000\t337517\r\n"
       ]
      },
      {
       "output_type": "stream",
       "stream": "stdout",
       "text": [
        "2787000\t337615\r\n",
        "2788000\t337701\r\n",
        "2789000\t337796\r\n"
       ]
      },
      {
       "output_type": "stream",
       "stream": "stdout",
       "text": [
        "2790000\t337889\r\n",
        "2791000\t337986\r\n",
        "2792000\t338094\r\n",
        "2793000\t338179\r\n"
       ]
      },
      {
       "output_type": "stream",
       "stream": "stdout",
       "text": [
        "2794000\t338277\r\n",
        "2795000\t338372\r\n",
        "2796000\t338479\r\n",
        "2797000\t338575\r\n"
       ]
      },
      {
       "output_type": "stream",
       "stream": "stdout",
       "text": [
        "2798000\t338675\r\n",
        "2799000\t338778\r\n",
        "2800000\t338884\r\n"
       ]
      },
      {
       "output_type": "stream",
       "stream": "stdout",
       "text": [
        "2801000\t338967\r\n",
        "2802000\t339064\r\n",
        "2803000\t339161\r\n",
        "2804000\t339238\r\n"
       ]
      },
      {
       "output_type": "stream",
       "stream": "stdout",
       "text": [
        "2805000\t339316\r\n",
        "2806000\t339400\r\n",
        "2807000\t339494\r\n",
        "2808000\t339599\r\n"
       ]
      },
      {
       "output_type": "stream",
       "stream": "stdout",
       "text": [
        "2809000\t339685\r\n",
        "2810000\t339780\r\n",
        "2811000\t339868\r\n"
       ]
      },
      {
       "output_type": "stream",
       "stream": "stdout",
       "text": [
        "2812000\t339956\r\n",
        "2813000\t340064\r\n",
        "2814000\t340148\r\n",
        "2815000\t340239\r\n"
       ]
      },
      {
       "output_type": "stream",
       "stream": "stdout",
       "text": [
        "2816000\t340331\r\n",
        "2817000\t340428\r\n",
        "2818000\t340494\r\n"
       ]
      },
      {
       "output_type": "stream",
       "stream": "stdout",
       "text": [
        "2819000\t340588\r\n",
        "2820000\t340664\r\n",
        "2821000\t340737\r\n",
        "2822000\t340819\r\n"
       ]
      },
      {
       "output_type": "stream",
       "stream": "stdout",
       "text": [
        "2823000\t340905\r\n",
        "2824000\t340995\r\n",
        "2825000\t341084\r\n",
        "2826000\t341182\r\n"
       ]
      },
      {
       "output_type": "stream",
       "stream": "stdout",
       "text": [
        "2827000\t341272\r\n",
        "2828000\t341369\r\n",
        "2829000\t341467\r\n"
       ]
      },
      {
       "output_type": "stream",
       "stream": "stdout",
       "text": [
        "2830000\t341558\r\n",
        "2831000\t341649\r\n",
        "2832000\t341746\r\n",
        "2833000\t341832\r\n"
       ]
      },
      {
       "output_type": "stream",
       "stream": "stdout",
       "text": [
        "2834000\t341930\r\n",
        "2835000\t342021\r\n",
        "2836000\t342117\r\n",
        "2837000\t342201\r\n"
       ]
      },
      {
       "output_type": "stream",
       "stream": "stdout",
       "text": [
        "2838000\t342294\r\n",
        "2839000\t342384\r\n",
        "2840000\t342481\r\n"
       ]
      },
      {
       "output_type": "stream",
       "stream": "stdout",
       "text": [
        "2841000\t342572\r\n",
        "2842000\t342662\r\n",
        "2843000\t342756\r\n",
        "2844000\t342843\r\n"
       ]
      },
      {
       "output_type": "stream",
       "stream": "stdout",
       "text": [
        "2845000\t342932\r\n",
        "2846000\t343029\r\n",
        "2847000\t343122\r\n",
        "2848000\t343210\r\n"
       ]
      },
      {
       "output_type": "stream",
       "stream": "stdout",
       "text": [
        "2849000\t343310\r\n",
        "2850000\t343401\r\n",
        "2851000\t343483\r\n"
       ]
      },
      {
       "output_type": "stream",
       "stream": "stdout",
       "text": [
        "2852000\t343575\r\n",
        "2853000\t343655\r\n",
        "2854000\t343739\r\n",
        "2855000\t343849\r\n"
       ]
      },
      {
       "output_type": "stream",
       "stream": "stdout",
       "text": [
        "2856000\t343931\r\n",
        "2857000\t344032\r\n",
        "2858000\t344119\r\n",
        "2859000\t344214\r\n"
       ]
      },
      {
       "output_type": "stream",
       "stream": "stdout",
       "text": [
        "2860000\t344301\r\n",
        "2861000\t344394\r\n",
        "2862000\t344475\r\n"
       ]
      },
      {
       "output_type": "stream",
       "stream": "stdout",
       "text": [
        "2863000\t344563\r\n",
        "2864000\t344667\r\n",
        "2865000\t344763\r\n",
        "2866000\t344868\r\n"
       ]
      },
      {
       "output_type": "stream",
       "stream": "stdout",
       "text": [
        "2867000\t344954\r\n",
        "2868000\t345047\r\n",
        "2869000\t345143\r\n",
        "2870000\t345250\r\n"
       ]
      },
      {
       "output_type": "stream",
       "stream": "stdout",
       "text": [
        "2871000\t345339\r\n",
        "2872000\t345432\r\n",
        "2873000\t345517\r\n"
       ]
      },
      {
       "output_type": "stream",
       "stream": "stdout",
       "text": [
        "2874000\t345595\r\n",
        "2875000\t345674\r\n",
        "2876000\t345760\r\n",
        "2877000\t345850\r\n"
       ]
      },
      {
       "output_type": "stream",
       "stream": "stdout",
       "text": [
        "2878000\t345929\r\n",
        "2879000\t346013\r\n",
        "2880000\t346091\r\n",
        "2881000\t346187\r\n"
       ]
      },
      {
       "output_type": "stream",
       "stream": "stdout",
       "text": [
        "2882000\t346266\r\n",
        "2883000\t346343\r\n",
        "2884000\t346422\r\n"
       ]
      },
      {
       "output_type": "stream",
       "stream": "stdout",
       "text": [
        "2885000\t346516\r\n",
        "2886000\t346601\r\n",
        "2887000\t346702\r\n",
        "2888000\t346808\r\n"
       ]
      },
      {
       "output_type": "stream",
       "stream": "stdout",
       "text": [
        "2889000\t346900\r\n",
        "2890000\t346993\r\n",
        "2891000\t347075\r\n"
       ]
      },
      {
       "output_type": "stream",
       "stream": "stdout",
       "text": [
        "2892000\t347166\r\n",
        "2893000\t347284\r\n",
        "2894000\t347371\r\n",
        "2895000\t347481\r\n"
       ]
      },
      {
       "output_type": "stream",
       "stream": "stdout",
       "text": [
        "2896000\t347585\r\n",
        "2897000\t347685\r\n",
        "2898000\t347766\r\n",
        "2899000\t347855\r\n"
       ]
      },
      {
       "output_type": "stream",
       "stream": "stdout",
       "text": [
        "2900000\t347961\r\n",
        "2901000\t348062\r\n",
        "2902000\t348162\r\n"
       ]
      },
      {
       "output_type": "stream",
       "stream": "stdout",
       "text": [
        "2903000\t348254\r\n",
        "2904000\t348349\r\n",
        "2905000\t348435\r\n",
        "2906000\t348526\r\n"
       ]
      },
      {
       "output_type": "stream",
       "stream": "stdout",
       "text": [
        "2907000\t348627\r\n",
        "2908000\t348724\r\n",
        "2909000\t348820\r\n",
        "2910000\t348914\r\n"
       ]
      },
      {
       "output_type": "stream",
       "stream": "stdout",
       "text": [
        "2911000\t349009\r\n",
        "2912000\t349119\r\n",
        "2913000\t349215\r\n"
       ]
      },
      {
       "output_type": "stream",
       "stream": "stdout",
       "text": [
        "2914000\t349323\r\n",
        "2915000\t349433\r\n",
        "2916000\t349542\r\n",
        "2917000\t349652\r\n"
       ]
      },
      {
       "output_type": "stream",
       "stream": "stdout",
       "text": [
        "2918000\t349753\r\n",
        "2919000\t349891\r\n",
        "2920000\t350019\r\n",
        "2921000\t350139\r\n"
       ]
      },
      {
       "output_type": "stream",
       "stream": "stdout",
       "text": [
        "2922000\t350260\r\n",
        "2923000\t350375\r\n",
        "2924000\t350487\r\n"
       ]
      },
      {
       "output_type": "stream",
       "stream": "stdout",
       "text": [
        "2925000\t350583\r\n",
        "2926000\t350687\r\n",
        "2927000\t350830\r\n",
        "2928000\t350973\r\n"
       ]
      },
      {
       "output_type": "stream",
       "stream": "stdout",
       "text": [
        "2929000\t351112\r\n",
        "2930000\t351260\r\n",
        "2931000\t351390\r\n"
       ]
      },
      {
       "output_type": "stream",
       "stream": "stdout",
       "text": [
        "2932000\t351514\r\n",
        "2933000\t351655\r\n",
        "2934000\t351797\r\n",
        "2935000\t351920\r\n"
       ]
      },
      {
       "output_type": "stream",
       "stream": "stdout",
       "text": [
        "2936000\t352052\r\n",
        "2937000\t352164\r\n",
        "2938000\t352279\r\n",
        "2939000\t352387\r\n"
       ]
      },
      {
       "output_type": "stream",
       "stream": "stdout",
       "text": [
        "2940000\t352483\r\n",
        "2941000\t352610\r\n",
        "2942000\t352727\r\n"
       ]
      },
      {
       "output_type": "stream",
       "stream": "stdout",
       "text": [
        "2943000\t352824\r\n",
        "2944000\t352927\r\n",
        "2945000\t353027\r\n",
        "2946000\t353134\r\n"
       ]
      },
      {
       "output_type": "stream",
       "stream": "stdout",
       "text": [
        "2947000\t353239\r\n",
        "2948000\t353343\r\n",
        "2949000\t353437\r\n"
       ]
      },
      {
       "output_type": "stream",
       "stream": "stdout",
       "text": [
        "2950000\t353541\r\n",
        "2951000\t353630\r\n",
        "2952000\t353727\r\n",
        "2953000\t353834\r\n"
       ]
      },
      {
       "output_type": "stream",
       "stream": "stdout",
       "text": [
        "2954000\t353919\r\n",
        "2955000\t354038\r\n",
        "2956000\t354136\r\n",
        "2957000\t354232\r\n"
       ]
      },
      {
       "output_type": "stream",
       "stream": "stdout",
       "text": [
        "2958000\t354320\r\n",
        "2959000\t354420\r\n",
        "2960000\t354501\r\n"
       ]
      },
      {
       "output_type": "stream",
       "stream": "stdout",
       "text": [
        "2961000\t354593\r\n",
        "2962000\t354709\r\n",
        "2963000\t354801\r\n",
        "2964000\t354898\r\n"
       ]
      },
      {
       "output_type": "stream",
       "stream": "stdout",
       "text": [
        "2965000\t355013\r\n",
        "2966000\t355129\r\n",
        "2967000\t355238\r\n",
        "2968000\t355336\r\n"
       ]
      },
      {
       "output_type": "stream",
       "stream": "stdout",
       "text": [
        "2969000\t355440\r\n",
        "2970000\t355523\r\n",
        "2971000\t355607\r\n"
       ]
      },
      {
       "output_type": "stream",
       "stream": "stdout",
       "text": [
        "2972000\t355680\r\n",
        "2973000\t355780\r\n",
        "2974000\t355870\r\n",
        "2975000\t355952\r\n"
       ]
      },
      {
       "output_type": "stream",
       "stream": "stdout",
       "text": [
        "2976000\t356052\r\n",
        "2977000\t356139\r\n",
        "2978000\t356225\r\n"
       ]
      },
      {
       "output_type": "stream",
       "stream": "stdout",
       "text": [
        "2979000\t356304\r\n",
        "2980000\t356389\r\n",
        "2981000\t356471\r\n",
        "2982000\t356553\r\n"
       ]
      },
      {
       "output_type": "stream",
       "stream": "stdout",
       "text": [
        "2983000\t356644\r\n",
        "2984000\t356757\r\n",
        "2985000\t356841\r\n",
        "2986000\t356923\r\n"
       ]
      },
      {
       "output_type": "stream",
       "stream": "stdout",
       "text": [
        "2987000\t357013\r\n",
        "2988000\t357105\r\n",
        "2989000\t357198\r\n"
       ]
      },
      {
       "output_type": "stream",
       "stream": "stdout",
       "text": [
        "2990000\t357294\r\n",
        "2991000\t357379\r\n",
        "2992000\t357469\r\n",
        "2993000\t357572\r\n"
       ]
      },
      {
       "output_type": "stream",
       "stream": "stdout",
       "text": [
        "2994000\t357692\r\n",
        "2995000\t357779\r\n",
        "2996000\t357871\r\n",
        "2997000\t357956\r\n"
       ]
      },
      {
       "output_type": "stream",
       "stream": "stdout",
       "text": [
        "2998000\t358041\r\n",
        "2999000\t358124\r\n",
        "3000000\t358209\r\n"
       ]
      },
      {
       "output_type": "stream",
       "stream": "stdout",
       "text": [
        "3001000\t358302\r\n",
        "3002000\t358388\r\n",
        "3003000\t358483\r\n",
        "3004000\t358563\r\n"
       ]
      },
      {
       "output_type": "stream",
       "stream": "stdout",
       "text": [
        "3005000\t358644\r\n",
        "3006000\t358734\r\n",
        "3007000\t358822\r\n",
        "3008000\t358908\r\n"
       ]
      },
      {
       "output_type": "stream",
       "stream": "stdout",
       "text": [
        "3009000\t359000\r\n",
        "3010000\t359100\r\n",
        "3011000\t359178\r\n"
       ]
      },
      {
       "output_type": "stream",
       "stream": "stdout",
       "text": [
        "3012000\t359259\r\n",
        "3013000\t359335\r\n",
        "3014000\t359415\r\n",
        "3015000\t359503\r\n"
       ]
      },
      {
       "output_type": "stream",
       "stream": "stdout",
       "text": [
        "3016000\t359585\r\n",
        "3017000\t359663\r\n",
        "3018000\t359750\r\n",
        "3019000\t359838\r\n"
       ]
      },
      {
       "output_type": "stream",
       "stream": "stdout",
       "text": [
        "3020000\t359921\r\n",
        "3021000\t360002\r\n",
        "3022000\t360099\r\n"
       ]
      },
      {
       "output_type": "stream",
       "stream": "stdout",
       "text": [
        "3023000\t360192\r\n",
        "3024000\t360271\r\n",
        "3025000\t360353\r\n",
        "3026000\t360443\r\n"
       ]
      },
      {
       "output_type": "stream",
       "stream": "stdout",
       "text": [
        "3027000\t360516\r\n",
        "3028000\t360608\r\n",
        "3029000\t360704\r\n",
        "3030000\t360793\r\n"
       ]
      },
      {
       "output_type": "stream",
       "stream": "stdout",
       "text": [
        "3031000\t360873\r\n",
        "3032000\t360962\r\n",
        "3033000\t361049\r\n"
       ]
      },
      {
       "output_type": "stream",
       "stream": "stdout",
       "text": [
        "3034000\t361119\r\n",
        "3035000\t361194\r\n",
        "3036000\t361276\r\n",
        "3037000\t361363\r\n"
       ]
      },
      {
       "output_type": "stream",
       "stream": "stdout",
       "text": [
        "3038000\t361464\r\n",
        "3039000\t361545\r\n",
        "3040000\t361646\r\n"
       ]
      },
      {
       "output_type": "stream",
       "stream": "stdout",
       "text": [
        "3041000\t361729\r\n",
        "3042000\t361827\r\n",
        "3043000\t361911\r\n",
        "3044000\t361996\r\n"
       ]
      },
      {
       "output_type": "stream",
       "stream": "stdout",
       "text": [
        "3045000\t362081\r\n",
        "3046000\t362174\r\n",
        "3047000\t362264\r\n",
        "3048000\t362360\r\n"
       ]
      },
      {
       "output_type": "stream",
       "stream": "stdout",
       "text": [
        "3049000\t362448\r\n",
        "3050000\t362528\r\n",
        "3051000\t362611\r\n"
       ]
      },
      {
       "output_type": "stream",
       "stream": "stdout",
       "text": [
        "3052000\t362708\r\n",
        "3053000\t362796\r\n",
        "3054000\t362882\r\n",
        "3055000\t362962\r\n"
       ]
      },
      {
       "output_type": "stream",
       "stream": "stdout",
       "text": [
        "3056000\t363055\r\n",
        "3057000\t363132\r\n",
        "3058000\t363228\r\n",
        "3059000\t363311\r\n"
       ]
      },
      {
       "output_type": "stream",
       "stream": "stdout",
       "text": [
        "3060000\t363412\r\n",
        "3061000\t363490\r\n",
        "3062000\t363589\r\n"
       ]
      },
      {
       "output_type": "stream",
       "stream": "stdout",
       "text": [
        "3063000\t363671\r\n",
        "3064000\t363744\r\n",
        "3065000\t363840\r\n",
        "3066000\t363922\r\n"
       ]
      },
      {
       "output_type": "stream",
       "stream": "stdout",
       "text": [
        "3067000\t363987\r\n",
        "3068000\t364081\r\n",
        "3069000\t364166\r\n",
        "3070000\t364241\r\n"
       ]
      },
      {
       "output_type": "stream",
       "stream": "stdout",
       "text": [
        "3071000\t364344\r\n",
        "3072000\t364442\r\n",
        "3073000\t364529\r\n"
       ]
      },
      {
       "output_type": "stream",
       "stream": "stdout",
       "text": [
        "3074000\t364596\r\n",
        "3075000\t364677\r\n",
        "3076000\t364759\r\n",
        "3077000\t364845\r\n"
       ]
      },
      {
       "output_type": "stream",
       "stream": "stdout",
       "text": [
        "3078000\t364938\r\n",
        "3079000\t365034\r\n",
        "3080000\t365107\r\n",
        "3081000\t365212\r\n"
       ]
      },
      {
       "output_type": "stream",
       "stream": "stdout",
       "text": [
        "3082000\t365308\r\n",
        "3083000\t365390\r\n",
        "3084000\t365489\r\n"
       ]
      },
      {
       "output_type": "stream",
       "stream": "stdout",
       "text": [
        "3085000\t365584\r\n",
        "3086000\t365677\r\n",
        "3087000\t365755\r\n",
        "3088000\t365840\r\n"
       ]
      },
      {
       "output_type": "stream",
       "stream": "stdout",
       "text": [
        "3089000\t365933\r\n",
        "3090000\t366022\r\n",
        "3091000\t366120\r\n",
        "3092000\t366223\r\n"
       ]
      },
      {
       "output_type": "stream",
       "stream": "stdout",
       "text": [
        "3093000\t366292\r\n",
        "3094000\t366364\r\n",
        "3095000\t366451\r\n"
       ]
      },
      {
       "output_type": "stream",
       "stream": "stdout",
       "text": [
        "3096000\t366549\r\n",
        "3097000\t366648\r\n",
        "3098000\t366730\r\n",
        "3099000\t366806\r\n"
       ]
      },
      {
       "output_type": "stream",
       "stream": "stdout",
       "text": [
        "3100000\t366899\r\n",
        "3101000\t366992\r\n",
        "3102000\t367075\r\n"
       ]
      },
      {
       "output_type": "stream",
       "stream": "stdout",
       "text": [
        "3103000\t367172\r\n",
        "3104000\t367263\r\n",
        "3105000\t367358\r\n",
        "3106000\t367437\r\n"
       ]
      },
      {
       "output_type": "stream",
       "stream": "stdout",
       "text": [
        "3107000\t367530\r\n",
        "3108000\t367615\r\n",
        "3109000\t367709\r\n",
        "3110000\t367788\r\n"
       ]
      },
      {
       "output_type": "stream",
       "stream": "stdout",
       "text": [
        "3111000\t367882\r\n",
        "3112000\t367965\r\n",
        "3113000\t368062\r\n"
       ]
      },
      {
       "output_type": "stream",
       "stream": "stdout",
       "text": [
        "3114000\t368144\r\n",
        "3115000\t368234\r\n",
        "3116000\t368320\r\n",
        "3117000\t368394\r\n"
       ]
      },
      {
       "output_type": "stream",
       "stream": "stdout",
       "text": [
        "3118000\t368480\r\n",
        "3119000\t368565\r\n",
        "3120000\t368658\r\n",
        "3121000\t368748\r\n"
       ]
      },
      {
       "output_type": "stream",
       "stream": "stdout",
       "text": [
        "3122000\t368844\r\n",
        "3123000\t368916\r\n",
        "3124000\t368988\r\n"
       ]
      },
      {
       "output_type": "stream",
       "stream": "stdout",
       "text": [
        "3125000\t369072\r\n",
        "3126000\t369158\r\n",
        "3127000\t369267\r\n",
        "3128000\t369341\r\n"
       ]
      },
      {
       "output_type": "stream",
       "stream": "stdout",
       "text": [
        "3129000\t369423\r\n",
        "3130000\t369516\r\n",
        "3131000\t369614\r\n",
        "3132000\t369705\r\n"
       ]
      },
      {
       "output_type": "stream",
       "stream": "stdout",
       "text": [
        "3133000\t369778\r\n",
        "3134000\t369869\r\n",
        "3135000\t369949\r\n"
       ]
      },
      {
       "output_type": "stream",
       "stream": "stdout",
       "text": [
        "3136000\t370025\r\n",
        "3137000\t370105\r\n",
        "3138000\t370199\r\n",
        "3139000\t370293\r\n"
       ]
      },
      {
       "output_type": "stream",
       "stream": "stdout",
       "text": [
        "3140000\t370373\r\n",
        "3141000\t370450\r\n",
        "3142000\t370535\r\n",
        "3143000\t370613\r\n"
       ]
      },
      {
       "output_type": "stream",
       "stream": "stdout",
       "text": [
        "3144000\t370698\r\n",
        "3145000\t370768\r\n",
        "3146000\t370857\r\n"
       ]
      },
      {
       "output_type": "stream",
       "stream": "stdout",
       "text": [
        "3147000\t370935\r\n",
        "3148000\t371028\r\n",
        "3149000\t371107\r\n",
        "3150000\t371188\r\n"
       ]
      },
      {
       "output_type": "stream",
       "stream": "stdout",
       "text": [
        "3151000\t371265\r\n",
        "3152000\t371343\r\n",
        "3153000\t371427\r\n",
        "3154000\t371506\r\n"
       ]
      },
      {
       "output_type": "stream",
       "stream": "stdout",
       "text": [
        "3155000\t371602\r\n",
        "3156000\t371680\r\n",
        "3157000\t371765\r\n"
       ]
      },
      {
       "output_type": "stream",
       "stream": "stdout",
       "text": [
        "3158000\t371841\r\n",
        "3159000\t371915\r\n",
        "3160000\t371998\r\n",
        "3161000\t372088\r\n"
       ]
      },
      {
       "output_type": "stream",
       "stream": "stdout",
       "text": [
        "3162000\t372186\r\n",
        "3163000\t372286\r\n",
        "3164000\t372398\r\n"
       ]
      },
      {
       "output_type": "stream",
       "stream": "stdout",
       "text": [
        "3165000\t372491\r\n",
        "3166000\t372588\r\n",
        "3167000\t372659\r\n",
        "3168000\t372752\r\n"
       ]
      },
      {
       "output_type": "stream",
       "stream": "stdout",
       "text": [
        "3169000\t372844\r\n",
        "3170000\t372920\r\n",
        "3171000\t373013\r\n",
        "3172000\t373095\r\n"
       ]
      },
      {
       "output_type": "stream",
       "stream": "stdout",
       "text": [
        "3173000\t373180\r\n",
        "3174000\t373270\r\n",
        "3175000\t373348\r\n"
       ]
      },
      {
       "output_type": "stream",
       "stream": "stdout",
       "text": [
        "3176000\t373440\r\n",
        "3177000\t373532\r\n",
        "3178000\t373613\r\n",
        "3179000\t373712\r\n"
       ]
      },
      {
       "output_type": "stream",
       "stream": "stdout",
       "text": [
        "3180000\t373804\r\n",
        "3181000\t373894\r\n",
        "3182000\t373972\r\n",
        "3183000\t374058\r\n"
       ]
      },
      {
       "output_type": "stream",
       "stream": "stdout",
       "text": [
        "3184000\t374149\r\n",
        "3185000\t374243\r\n",
        "3186000\t374345\r\n"
       ]
      },
      {
       "output_type": "stream",
       "stream": "stdout",
       "text": [
        "3187000\t374446\r\n",
        "3188000\t374542\r\n",
        "3189000\t374644\r\n",
        "3190000\t374734\r\n"
       ]
      },
      {
       "output_type": "stream",
       "stream": "stdout",
       "text": [
        "3191000\t374835\r\n",
        "3192000\t374925\r\n",
        "3193000\t375015\r\n",
        "3194000\t375122\r\n"
       ]
      },
      {
       "output_type": "stream",
       "stream": "stdout",
       "text": [
        "3195000\t375223\r\n",
        "3196000\t375331\r\n",
        "3197000\t375436\r\n"
       ]
      },
      {
       "output_type": "stream",
       "stream": "stdout",
       "text": [
        "3198000\t375564\r\n",
        "3199000\t375689\r\n",
        "3200000\t375821\r\n",
        "3201000\t375948\r\n"
       ]
      },
      {
       "output_type": "stream",
       "stream": "stdout",
       "text": [
        "3202000\t376085\r\n",
        "3203000\t376208\r\n",
        "3204000\t376326\r\n"
       ]
      },
      {
       "output_type": "stream",
       "stream": "stdout",
       "text": [
        "3205000\t376462\r\n",
        "3206000\t376571\r\n",
        "3207000\t376695\r\n",
        "3208000\t376801\r\n"
       ]
      },
      {
       "output_type": "stream",
       "stream": "stdout",
       "text": [
        "3209000\t376902\r\n",
        "3210000\t377008\r\n",
        "3211000\t377132\r\n",
        "3212000\t377228\r\n"
       ]
      },
      {
       "output_type": "stream",
       "stream": "stdout",
       "text": [
        "3213000\t377337\r\n",
        "3214000\t377457\r\n",
        "3215000\t377562\r\n"
       ]
      },
      {
       "output_type": "stream",
       "stream": "stdout",
       "text": [
        "3216000\t377667\r\n",
        "3217000\t377762\r\n",
        "3218000\t377857\r\n",
        "3219000\t377953\r\n"
       ]
      },
      {
       "output_type": "stream",
       "stream": "stdout",
       "text": [
        "3220000\t378060\r\n",
        "3221000\t378143\r\n",
        "3222000\t378232\r\n"
       ]
      },
      {
       "output_type": "stream",
       "stream": "stdout",
       "text": [
        "3223000\t378348\r\n",
        "3224000\t378451\r\n",
        "3225000\t378541\r\n",
        "3226000\t378624\r\n"
       ]
      },
      {
       "output_type": "stream",
       "stream": "stdout",
       "text": [
        "3227000\t378713\r\n",
        "3228000\t378818\r\n",
        "3229000\t378921\r\n",
        "3230000\t379001\r\n"
       ]
      },
      {
       "output_type": "stream",
       "stream": "stdout",
       "text": [
        "3231000\t379098\r\n",
        "3232000\t379196\r\n",
        "3233000\t379286\r\n"
       ]
      },
      {
       "output_type": "stream",
       "stream": "stdout",
       "text": [
        "3234000\t379389\r\n",
        "3235000\t379465\r\n",
        "3236000\t379555\r\n",
        "3237000\t379662\r\n"
       ]
      },
      {
       "output_type": "stream",
       "stream": "stdout",
       "text": [
        "3238000\t379742\r\n",
        "3239000\t379841\r\n",
        "3240000\t379938\r\n",
        "3241000\t380023\r\n"
       ]
      },
      {
       "output_type": "stream",
       "stream": "stdout",
       "text": [
        "3242000\t380119\r\n",
        "3243000\t380215\r\n",
        "3244000\t380294\r\n"
       ]
      },
      {
       "output_type": "stream",
       "stream": "stdout",
       "text": [
        "3245000\t380389\r\n",
        "3246000\t380477\r\n",
        "3247000\t380564\r\n",
        "3248000\t380644\r\n"
       ]
      },
      {
       "output_type": "stream",
       "stream": "stdout",
       "text": [
        "3249000\t380722\r\n",
        "3250000\t380800\r\n",
        "3251000\t380879\r\n",
        "3252000\t380978\r\n"
       ]
      },
      {
       "output_type": "stream",
       "stream": "stdout",
       "text": [
        "3253000\t381065\r\n",
        "3254000\t381142\r\n",
        "3255000\t381225\r\n"
       ]
      },
      {
       "output_type": "stream",
       "stream": "stdout",
       "text": [
        "3256000\t381320\r\n",
        "3257000\t381402\r\n",
        "3258000\t381488\r\n",
        "3259000\t381589\r\n"
       ]
      },
      {
       "output_type": "stream",
       "stream": "stdout",
       "text": [
        "3260000\t381678\r\n",
        "3261000\t381761\r\n",
        "3262000\t381834\r\n"
       ]
      },
      {
       "output_type": "stream",
       "stream": "stdout",
       "text": [
        "3263000\t381922\r\n",
        "3264000\t382009\r\n",
        "3265000\t382086\r\n",
        "3266000\t382181\r\n"
       ]
      },
      {
       "output_type": "stream",
       "stream": "stdout",
       "text": [
        "3267000\t382264\r\n",
        "3268000\t382354\r\n",
        "3269000\t382430\r\n",
        "3270000\t382530\r\n"
       ]
      },
      {
       "output_type": "stream",
       "stream": "stdout",
       "text": [
        "3271000\t382607\r\n",
        "3272000\t382681\r\n",
        "3273000\t382765\r\n"
       ]
      },
      {
       "output_type": "stream",
       "stream": "stdout",
       "text": [
        "3274000\t382856\r\n",
        "3275000\t382945\r\n",
        "3276000\t383042\r\n",
        "3277000\t383129\r\n"
       ]
      },
      {
       "output_type": "stream",
       "stream": "stdout",
       "text": [
        "3278000\t383209\r\n",
        "3279000\t383284\r\n",
        "3280000\t383381\r\n",
        "3281000\t383459\r\n"
       ]
      },
      {
       "output_type": "stream",
       "stream": "stdout",
       "text": [
        "3282000\t383546\r\n",
        "3283000\t383618\r\n",
        "3284000\t383736\r\n"
       ]
      },
      {
       "output_type": "stream",
       "stream": "stdout",
       "text": [
        "3285000\t383830\r\n",
        "3286000\t383908\r\n",
        "3287000\t383991\r\n",
        "3288000\t384076\r\n"
       ]
      },
      {
       "output_type": "stream",
       "stream": "stdout",
       "text": [
        "3289000\t384164\r\n",
        "3290000\t384240\r\n",
        "3291000\t384321\r\n",
        "3292000\t384406\r\n"
       ]
      },
      {
       "output_type": "stream",
       "stream": "stdout",
       "text": [
        "3293000\t384481\r\n",
        "3294000\t384568\r\n",
        "3295000\t384652\r\n"
       ]
      },
      {
       "output_type": "stream",
       "stream": "stdout",
       "text": [
        "3296000\t384736\r\n",
        "3297000\t384813\r\n",
        "3298000\t384892\r\n",
        "3299000\t384977\r\n"
       ]
      },
      {
       "output_type": "stream",
       "stream": "stdout",
       "text": [
        "3300000\t385056\r\n",
        "3301000\t385141\r\n",
        "3302000\t385213\r\n",
        "3303000\t385292\r\n"
       ]
      },
      {
       "output_type": "stream",
       "stream": "stdout",
       "text": [
        "3304000\t385380\r\n",
        "3305000\t385457\r\n",
        "3306000\t385537\r\n"
       ]
      },
      {
       "output_type": "stream",
       "stream": "stdout",
       "text": [
        "3307000\t385638\r\n",
        "3308000\t385712\r\n",
        "3309000\t385797\r\n",
        "3310000\t385875\r\n"
       ]
      },
      {
       "output_type": "stream",
       "stream": "stdout",
       "text": [
        "3311000\t385953\r\n",
        "3312000\t386021\r\n",
        "3313000\t386097\r\n"
       ]
      },
      {
       "output_type": "stream",
       "stream": "stdout",
       "text": [
        "3314000\t386192\r\n",
        "3315000\t386273\r\n",
        "3316000\t386355\r\n",
        "3317000\t386443\r\n"
       ]
      },
      {
       "output_type": "stream",
       "stream": "stdout",
       "text": [
        "3318000\t386529\r\n",
        "3319000\t386607\r\n",
        "3320000\t386702\r\n",
        "3321000\t386779\r\n"
       ]
      },
      {
       "output_type": "stream",
       "stream": "stdout",
       "text": [
        "3322000\t386850\r\n",
        "3323000\t386943\r\n",
        "3324000\t387021\r\n"
       ]
      },
      {
       "output_type": "stream",
       "stream": "stdout",
       "text": [
        "3325000\t387098\r\n",
        "3326000\t387181\r\n",
        "3327000\t387273\r\n",
        "3328000\t387355\r\n"
       ]
      },
      {
       "output_type": "stream",
       "stream": "stdout",
       "text": [
        "3329000\t387438\r\n",
        "3330000\t387531\r\n",
        "3331000\t387597\r\n",
        "3332000\t387682\r\n"
       ]
      },
      {
       "output_type": "stream",
       "stream": "stdout",
       "text": [
        "3333000\t387769\r\n",
        "3334000\t387860\r\n",
        "3335000\t387929\r\n"
       ]
      },
      {
       "output_type": "stream",
       "stream": "stdout",
       "text": [
        "3336000\t388009\r\n",
        "3337000\t388087\r\n",
        "3338000\t388175\r\n",
        "3339000\t388269\r\n"
       ]
      },
      {
       "output_type": "stream",
       "stream": "stdout",
       "text": [
        "3340000\t388358\r\n",
        "3341000\t388433\r\n",
        "3342000\t388530\r\n",
        "3343000\t388594\r\n"
       ]
      },
      {
       "output_type": "stream",
       "stream": "stdout",
       "text": [
        "3344000\t388675\r\n",
        "3345000\t388754\r\n",
        "3346000\t388841\r\n"
       ]
      },
      {
       "output_type": "stream",
       "stream": "stdout",
       "text": [
        "3347000\t388928\r\n",
        "3348000\t389004\r\n",
        "3349000\t389094\r\n",
        "3350000\t389179\r\n"
       ]
      },
      {
       "output_type": "stream",
       "stream": "stdout",
       "text": [
        "3351000\t389280\r\n",
        "3352000\t389363\r\n",
        "3353000\t389439\r\n",
        "3354000\t389504\r\n"
       ]
      },
      {
       "output_type": "stream",
       "stream": "stdout",
       "text": [
        "3355000\t389578\r\n",
        "3356000\t389665\r\n",
        "3357000\t389738\r\n"
       ]
      },
      {
       "output_type": "stream",
       "stream": "stdout",
       "text": [
        "3358000\t389816\r\n",
        "3359000\t389897\r\n",
        "3360000\t389988\r\n",
        "3361000\t390052\r\n"
       ]
      },
      {
       "output_type": "stream",
       "stream": "stdout",
       "text": [
        "3362000\t390117\r\n",
        "3363000\t390187\r\n",
        "3364000\t390285\r\n"
       ]
      },
      {
       "output_type": "stream",
       "stream": "stdout",
       "text": [
        "3365000\t390365\r\n",
        "3366000\t390445\r\n",
        "3367000\t390514\r\n",
        "3368000\t390609\r\n"
       ]
      },
      {
       "output_type": "stream",
       "stream": "stdout",
       "text": [
        "3369000\t390690\r\n",
        "3370000\t390785\r\n",
        "3371000\t390883\r\n",
        "3372000\t390963\r\n"
       ]
      },
      {
       "output_type": "stream",
       "stream": "stdout",
       "text": [
        "3373000\t391038\r\n",
        "3374000\t391129\r\n",
        "3375000\t391220\r\n"
       ]
      },
      {
       "output_type": "stream",
       "stream": "stdout",
       "text": [
        "3376000\t391302\r\n",
        "3377000\t391386\r\n",
        "3378000\t391461\r\n",
        "3379000\t391559\r\n"
       ]
      },
      {
       "output_type": "stream",
       "stream": "stdout",
       "text": [
        "3380000\t391644\r\n",
        "3381000\t391719\r\n",
        "3382000\t391786\r\n",
        "3383000\t391858\r\n"
       ]
      },
      {
       "output_type": "stream",
       "stream": "stdout",
       "text": [
        "3384000\t391941\r\n",
        "3385000\t392036\r\n",
        "3386000\t392121\r\n"
       ]
      },
      {
       "output_type": "stream",
       "stream": "stdout",
       "text": [
        "3387000\t392184\r\n",
        "3388000\t392261\r\n",
        "3389000\t392339\r\n",
        "3390000\t392423\r\n"
       ]
      },
      {
       "output_type": "stream",
       "stream": "stdout",
       "text": [
        "3391000\t392503\r\n",
        "3392000\t392577\r\n",
        "3393000\t392658\r\n",
        "3394000\t392732\r\n"
       ]
      },
      {
       "output_type": "stream",
       "stream": "stdout",
       "text": [
        "3395000\t392801\r\n",
        "3396000\t392889\r\n",
        "3397000\t392985\r\n"
       ]
      },
      {
       "output_type": "stream",
       "stream": "stdout",
       "text": [
        "3398000\t393075\r\n",
        "3399000\t393151\r\n",
        "3400000\t393235\r\n",
        "3401000\t393314\r\n"
       ]
      },
      {
       "output_type": "stream",
       "stream": "stdout",
       "text": [
        "3402000\t393386\r\n",
        "3403000\t393466\r\n",
        "3404000\t393560\r\n",
        "3405000\t393637\r\n"
       ]
      },
      {
       "output_type": "stream",
       "stream": "stdout",
       "text": [
        "3406000\t393712\r\n",
        "3407000\t393799\r\n",
        "3408000\t393886\r\n"
       ]
      },
      {
       "output_type": "stream",
       "stream": "stdout",
       "text": [
        "3409000\t393977\r\n",
        "3410000\t394056\r\n",
        "3411000\t394139\r\n",
        "3412000\t394227\r\n"
       ]
      },
      {
       "output_type": "stream",
       "stream": "stdout",
       "text": [
        "3413000\t394316\r\n",
        "3414000\t394383\r\n",
        "3415000\t394468\r\n",
        "3416000\t394535\r\n"
       ]
      },
      {
       "output_type": "stream",
       "stream": "stdout",
       "text": [
        "3417000\t394616\r\n",
        "3418000\t394689\r\n",
        "3419000\t394781\r\n"
       ]
      },
      {
       "output_type": "stream",
       "stream": "stdout",
       "text": [
        "3420000\t394867\r\n",
        "3421000\t394957\r\n",
        "3422000\t395045\r\n",
        "3423000\t395127\r\n"
       ]
      },
      {
       "output_type": "stream",
       "stream": "stdout",
       "text": [
        "3424000\t395206\r\n",
        "3425000\t395274\r\n",
        "3426000\t395345\r\n"
       ]
      },
      {
       "output_type": "stream",
       "stream": "stdout",
       "text": [
        "3427000\t395431\r\n",
        "3428000\t395505\r\n",
        "3429000\t395598\r\n",
        "3430000\t395674\r\n"
       ]
      },
      {
       "output_type": "stream",
       "stream": "stdout",
       "text": [
        "3431000\t395767\r\n",
        "3432000\t395855\r\n",
        "3433000\t395929\r\n",
        "3434000\t396010\r\n"
       ]
      },
      {
       "output_type": "stream",
       "stream": "stdout",
       "text": [
        "3435000\t396109\r\n",
        "3436000\t396207\r\n",
        "3437000\t396285\r\n"
       ]
      },
      {
       "output_type": "stream",
       "stream": "stdout",
       "text": [
        "3438000\t396380\r\n",
        "3439000\t396450\r\n",
        "3440000\t396534\r\n",
        "3441000\t396616\r\n"
       ]
      },
      {
       "output_type": "stream",
       "stream": "stdout",
       "text": [
        "3442000\t396693\r\n",
        "3443000\t396786\r\n",
        "3444000\t396862\r\n",
        "3445000\t396937\r\n"
       ]
      },
      {
       "output_type": "stream",
       "stream": "stdout",
       "text": [
        "3446000\t397023\r\n",
        "3447000\t397116\r\n",
        "3448000\t397203\r\n"
       ]
      },
      {
       "output_type": "stream",
       "stream": "stdout",
       "text": [
        "3449000\t397292\r\n",
        "3450000\t397369\r\n",
        "3451000\t397452\r\n",
        "3452000\t397528\r\n"
       ]
      },
      {
       "output_type": "stream",
       "stream": "stdout",
       "text": [
        "3453000\t397614\r\n",
        "3454000\t397696\r\n",
        "3455000\t397783\r\n",
        "3456000\t397863\r\n"
       ]
      },
      {
       "output_type": "stream",
       "stream": "stdout",
       "text": [
        "3457000\t397948\r\n",
        "3458000\t398053\r\n",
        "3459000\t398131\r\n"
       ]
      },
      {
       "output_type": "stream",
       "stream": "stdout",
       "text": [
        "3460000\t398214\r\n",
        "3461000\t398328\r\n",
        "3462000\t398410\r\n",
        "3463000\t398489\r\n"
       ]
      },
      {
       "output_type": "stream",
       "stream": "stdout",
       "text": [
        "3464000\t398568\r\n",
        "3465000\t398674\r\n",
        "3466000\t398757\r\n",
        "3467000\t398850\r\n"
       ]
      },
      {
       "output_type": "stream",
       "stream": "stdout",
       "text": [
        "3468000\t398944\r\n",
        "3469000\t399033\r\n",
        "3470000\t399169\r\n"
       ]
      },
      {
       "output_type": "stream",
       "stream": "stdout",
       "text": [
        "3471000\t399329\r\n",
        "3472000\t399493\r\n",
        "3473000\t399651\r\n",
        "3474000\t399791\r\n"
       ]
      },
      {
       "output_type": "stream",
       "stream": "stdout",
       "text": [
        "3475000\t399940\r\n",
        "3476000\t400070\r\n",
        "3477000\t400189\r\n"
       ]
      },
      {
       "output_type": "stream",
       "stream": "stdout",
       "text": [
        "3478000\t400341\r\n",
        "3479000\t400462\r\n",
        "3480000\t400598\r\n",
        "3481000\t400707\r\n"
       ]
      },
      {
       "output_type": "stream",
       "stream": "stdout",
       "text": [
        "3482000\t400810\r\n",
        "3483000\t400915\r\n",
        "3484000\t401015\r\n"
       ]
      },
      {
       "output_type": "stream",
       "stream": "stdout",
       "text": [
        "3485000\t401109\r\n",
        "3486000\t401203\r\n",
        "3487000\t401327\r\n",
        "3488000\t401422\r\n"
       ]
      },
      {
       "output_type": "stream",
       "stream": "stdout",
       "text": [
        "3489000\t401516\r\n",
        "3490000\t401618\r\n",
        "3491000\t401750\r\n",
        "3492000\t401867\r\n"
       ]
      },
      {
       "output_type": "stream",
       "stream": "stdout",
       "text": [
        "3493000\t401969\r\n",
        "3494000\t402051\r\n",
        "3495000\t402152\r\n"
       ]
      },
      {
       "output_type": "stream",
       "stream": "stdout",
       "text": [
        "3496000\t402246\r\n",
        "3497000\t402354\r\n",
        "3498000\t402452\r\n",
        "3499000\t402547\r\n"
       ]
      },
      {
       "output_type": "stream",
       "stream": "stdout",
       "text": [
        "3500000\t402650\r\n",
        "3501000\t402740\r\n",
        "3502000\t402837\r\n"
       ]
      },
      {
       "output_type": "stream",
       "stream": "stdout",
       "text": [
        "3503000\t402946\r\n",
        "3504000\t403032\r\n",
        "3505000\t403131\r\n",
        "3506000\t403233\r\n"
       ]
      },
      {
       "output_type": "stream",
       "stream": "stdout",
       "text": [
        "3507000\t403356\r\n",
        "3508000\t403471\r\n",
        "3509000\t403571\r\n",
        "3510000\t403693\r\n"
       ]
      },
      {
       "output_type": "stream",
       "stream": "stdout",
       "text": [
        "3511000\t403789\r\n",
        "3512000\t403893\r\n",
        "3513000\t403989\r\n"
       ]
      },
      {
       "output_type": "stream",
       "stream": "stdout",
       "text": [
        "3514000\t404073\r\n",
        "3515000\t404164\r\n",
        "3516000\t404263\r\n",
        "3517000\t404356\r\n"
       ]
      },
      {
       "output_type": "stream",
       "stream": "stdout",
       "text": [
        "3518000\t404447\r\n",
        "3519000\t404527\r\n",
        "3520000\t404632\r\n",
        "3521000\t404732\r\n"
       ]
      },
      {
       "output_type": "stream",
       "stream": "stdout",
       "text": [
        "3522000\t404814\r\n",
        "3523000\t404909\r\n",
        "3524000\t404993\r\n"
       ]
      },
      {
       "output_type": "stream",
       "stream": "stdout",
       "text": [
        "3525000\t405064\r\n",
        "3526000\t405140\r\n",
        "3527000\t405234\r\n",
        "3528000\t405306\r\n"
       ]
      },
      {
       "output_type": "stream",
       "stream": "stdout",
       "text": [
        "3529000\t405389\r\n",
        "3530000\t405468\r\n",
        "3531000\t405552\r\n"
       ]
      },
      {
       "output_type": "stream",
       "stream": "stdout",
       "text": [
        "3532000\t405640\r\n",
        "3533000\t405726\r\n",
        "3534000\t405801\r\n",
        "3535000\t405891\r\n"
       ]
      },
      {
       "output_type": "stream",
       "stream": "stdout",
       "text": [
        "3536000\t405986\r\n",
        "3537000\t406054\r\n",
        "3538000\t406123\r\n",
        "3539000\t406198\r\n"
       ]
      },
      {
       "output_type": "stream",
       "stream": "stdout",
       "text": [
        "3540000\t406289\r\n",
        "3541000\t406385\r\n",
        "3542000\t406452\r\n"
       ]
      },
      {
       "output_type": "stream",
       "stream": "stdout",
       "text": [
        "3543000\t406552\r\n",
        "3544000\t406629\r\n",
        "3545000\t406712\r\n",
        "3546000\t406796\r\n"
       ]
      },
      {
       "output_type": "stream",
       "stream": "stdout",
       "text": [
        "3547000\t406873\r\n",
        "3548000\t406966\r\n",
        "3549000\t407045\r\n"
       ]
      },
      {
       "output_type": "stream",
       "stream": "stdout",
       "text": [
        "3550000\t407139\r\n",
        "3551000\t407225\r\n",
        "3552000\t407326\r\n",
        "3553000\t407399\r\n"
       ]
      },
      {
       "output_type": "stream",
       "stream": "stdout",
       "text": [
        "3554000\t407479\r\n",
        "3555000\t407574\r\n",
        "3556000\t407673\r\n",
        "3557000\t407759\r\n"
       ]
      },
      {
       "output_type": "stream",
       "stream": "stdout",
       "text": [
        "3558000\t407845\r\n",
        "3559000\t407933\r\n",
        "3560000\t408026\r\n"
       ]
      },
      {
       "output_type": "stream",
       "stream": "stdout",
       "text": [
        "3561000\t408121\r\n",
        "3562000\t408214\r\n",
        "3563000\t408297\r\n",
        "3564000\t408387\r\n"
       ]
      },
      {
       "output_type": "stream",
       "stream": "stdout",
       "text": [
        "3565000\t408464\r\n",
        "3566000\t408566\r\n",
        "3567000\t408652\r\n",
        "3568000\t408739\r\n"
       ]
      },
      {
       "output_type": "stream",
       "stream": "stdout",
       "text": [
        "3569000\t408816\r\n",
        "3570000\t408893\r\n",
        "3571000\t408963\r\n"
       ]
      },
      {
       "output_type": "stream",
       "stream": "stdout",
       "text": [
        "3572000\t409059\r\n",
        "3573000\t409134\r\n",
        "3574000\t409214\r\n",
        "3575000\t409291\r\n"
       ]
      },
      {
       "output_type": "stream",
       "stream": "stdout",
       "text": [
        "3576000\t409370\r\n",
        "3577000\t409461\r\n",
        "3578000\t409540\r\n",
        "3579000\t409612\r\n"
       ]
      },
      {
       "output_type": "stream",
       "stream": "stdout",
       "text": [
        "3580000\t409692\r\n",
        "3581000\t409787\r\n",
        "3582000\t409869\r\n"
       ]
      },
      {
       "output_type": "stream",
       "stream": "stdout",
       "text": [
        "3583000\t409969\r\n",
        "3584000\t410042\r\n",
        "3585000\t410141\r\n",
        "3586000\t410228\r\n"
       ]
      },
      {
       "output_type": "stream",
       "stream": "stdout",
       "text": [
        "3587000\t410308\r\n",
        "3588000\t410386\r\n",
        "3589000\t410467\r\n"
       ]
      },
      {
       "output_type": "stream",
       "stream": "stdout",
       "text": [
        "3590000\t410558\r\n",
        "3591000\t410632\r\n",
        "3592000\t410718\r\n",
        "3593000\t410791\r\n"
       ]
      },
      {
       "output_type": "stream",
       "stream": "stdout",
       "text": [
        "3594000\t410875\r\n",
        "3595000\t410972\r\n",
        "3596000\t411057\r\n",
        "3597000\t411144\r\n"
       ]
      },
      {
       "output_type": "stream",
       "stream": "stdout",
       "text": [
        "3598000\t411226\r\n",
        "3599000\t411307\r\n",
        "3600000\t411397\r\n"
       ]
      },
      {
       "output_type": "stream",
       "stream": "stdout",
       "text": [
        "3601000\t411471\r\n",
        "3602000\t411542\r\n",
        "3603000\t411624\r\n",
        "3604000\t411701\r\n"
       ]
      },
      {
       "output_type": "stream",
       "stream": "stdout",
       "text": [
        "3605000\t411766\r\n",
        "3606000\t411852\r\n",
        "3607000\t411939\r\n",
        "3608000\t412010\r\n"
       ]
      },
      {
       "output_type": "stream",
       "stream": "stdout",
       "text": [
        "3609000\t412093\r\n",
        "3610000\t412168\r\n",
        "3611000\t412257\r\n"
       ]
      },
      {
       "output_type": "stream",
       "stream": "stdout",
       "text": [
        "3612000\t412344\r\n",
        "3613000\t412415\r\n",
        "3614000\t412503\r\n",
        "3615000\t412595\r\n"
       ]
      },
      {
       "output_type": "stream",
       "stream": "stdout",
       "text": [
        "3616000\t412680\r\n",
        "3617000\t412757\r\n",
        "3618000\t412835\r\n",
        "3619000\t412927\r\n"
       ]
      },
      {
       "output_type": "stream",
       "stream": "stdout",
       "text": [
        "3620000\t413021\r\n",
        "3621000\t413088\r\n",
        "3622000\t413156\r\n"
       ]
      },
      {
       "output_type": "stream",
       "stream": "stdout",
       "text": [
        "3623000\t413242\r\n",
        "3624000\t413323\r\n",
        "3625000\t413412\r\n",
        "3626000\t413497\r\n"
       ]
      },
      {
       "output_type": "stream",
       "stream": "stdout",
       "text": [
        "3627000\t413582\r\n",
        "3628000\t413671\r\n",
        "3629000\t413750\r\n"
       ]
      },
      {
       "output_type": "stream",
       "stream": "stdout",
       "text": [
        "3630000\t413836\r\n",
        "3631000\t413921\r\n",
        "3632000\t414001\r\n",
        "3633000\t414081\r\n"
       ]
      },
      {
       "output_type": "stream",
       "stream": "stdout",
       "text": [
        "3634000\t414169\r\n",
        "3635000\t414242\r\n",
        "3636000\t414308\r\n",
        "3637000\t414388\r\n"
       ]
      },
      {
       "output_type": "stream",
       "stream": "stdout",
       "text": [
        "3638000\t414466\r\n",
        "3639000\t414561\r\n",
        "3640000\t414647\r\n"
       ]
      },
      {
       "output_type": "stream",
       "stream": "stdout",
       "text": [
        "3641000\t414735\r\n",
        "3642000\t414806\r\n",
        "3643000\t414871\r\n",
        "3644000\t414957\r\n"
       ]
      },
      {
       "output_type": "stream",
       "stream": "stdout",
       "text": [
        "3645000\t415028\r\n",
        "3646000\t415097\r\n",
        "3647000\t415175\r\n",
        "3648000\t415247\r\n"
       ]
      },
      {
       "output_type": "stream",
       "stream": "stdout",
       "text": [
        "3649000\t415327\r\n",
        "3650000\t415412\r\n",
        "3651000\t415511\r\n"
       ]
      },
      {
       "output_type": "stream",
       "stream": "stdout",
       "text": [
        "3652000\t415600\r\n",
        "3653000\t415674\r\n",
        "3654000\t415746\r\n",
        "3655000\t415831\r\n"
       ]
      },
      {
       "output_type": "stream",
       "stream": "stdout",
       "text": [
        "3656000\t415903\r\n",
        "3657000\t415987\r\n",
        "3658000\t416067\r\n",
        "3659000\t416156\r\n"
       ]
      },
      {
       "output_type": "stream",
       "stream": "stdout",
       "text": [
        "3660000\t416234\r\n",
        "3661000\t416307\r\n",
        "3662000\t416399\r\n"
       ]
      },
      {
       "output_type": "stream",
       "stream": "stdout",
       "text": [
        "3663000\t416490\r\n",
        "3664000\t416574\r\n",
        "3665000\t416651\r\n",
        "3666000\t416728\r\n"
       ]
      },
      {
       "output_type": "stream",
       "stream": "stdout",
       "text": [
        "3667000\t416800\r\n",
        "3668000\t416867\r\n",
        "3669000\t416941\r\n",
        "3670000\t417020\r\n"
       ]
      },
      {
       "output_type": "stream",
       "stream": "stdout",
       "text": [
        "3671000\t417093\r\n",
        "3672000\t417173\r\n",
        "3673000\t417257\r\n"
       ]
      },
      {
       "output_type": "stream",
       "stream": "stdout",
       "text": [
        "3674000\t417331\r\n",
        "3675000\t417409\r\n",
        "3676000\t417490\r\n",
        "3677000\t417574\r\n"
       ]
      },
      {
       "output_type": "stream",
       "stream": "stdout",
       "text": [
        "3678000\t417654\r\n",
        "3679000\t417740\r\n",
        "3680000\t417820\r\n"
       ]
      },
      {
       "output_type": "stream",
       "stream": "stdout",
       "text": [
        "3681000\t417902\r\n",
        "3682000\t417982\r\n",
        "3683000\t418053\r\n",
        "3684000\t418142\r\n"
       ]
      },
      {
       "output_type": "stream",
       "stream": "stdout",
       "text": [
        "3685000\t418216\r\n",
        "3686000\t418295\r\n",
        "3687000\t418377\r\n",
        "3688000\t418459\r\n"
       ]
      },
      {
       "output_type": "stream",
       "stream": "stdout",
       "text": [
        "3689000\t418545\r\n",
        "3690000\t418635\r\n",
        "3691000\t418711\r\n"
       ]
      },
      {
       "output_type": "stream",
       "stream": "stdout",
       "text": [
        "3692000\t418791\r\n",
        "3693000\t418876\r\n",
        "3694000\t418960\r\n",
        "3695000\t419044\r\n"
       ]
      },
      {
       "output_type": "stream",
       "stream": "stdout",
       "text": [
        "3696000\t419119\r\n",
        "3697000\t419199\r\n",
        "3698000\t419272\r\n",
        "3699000\t419340\r\n"
       ]
      },
      {
       "output_type": "stream",
       "stream": "stdout",
       "text": [
        "3700000\t419431\r\n",
        "3701000\t419514\r\n",
        "3702000\t419626\r\n"
       ]
      },
      {
       "output_type": "stream",
       "stream": "stdout",
       "text": [
        "3703000\t419724\r\n",
        "3704000\t419815\r\n",
        "3705000\t419913\r\n",
        "3706000\t420003\r\n"
       ]
      },
      {
       "output_type": "stream",
       "stream": "stdout",
       "text": [
        "3707000\t420077\r\n",
        "3708000\t420169\r\n",
        "3709000\t420245\r\n"
       ]
      },
      {
       "output_type": "stream",
       "stream": "stdout",
       "text": [
        "3710000\t420317\r\n",
        "3711000\t420388\r\n",
        "3712000\t420484\r\n",
        "3713000\t420561\r\n"
       ]
      },
      {
       "output_type": "stream",
       "stream": "stdout",
       "text": [
        "3714000\t420651\r\n",
        "3715000\t420731\r\n",
        "3716000\t420821\r\n",
        "3717000\t420910\r\n"
       ]
      },
      {
       "output_type": "stream",
       "stream": "stdout",
       "text": [
        "3718000\t420993\r\n",
        "3719000\t421080\r\n",
        "3720000\t421167\r\n"
       ]
      },
      {
       "output_type": "stream",
       "stream": "stdout",
       "text": [
        "3721000\t421264\r\n",
        "3722000\t421356\r\n",
        "3723000\t421441\r\n",
        "3724000\t421526\r\n"
       ]
      },
      {
       "output_type": "stream",
       "stream": "stdout",
       "text": [
        "3725000\t421611\r\n",
        "3726000\t421701\r\n",
        "3727000\t421784\r\n",
        "3728000\t421889\r\n"
       ]
      },
      {
       "output_type": "stream",
       "stream": "stdout",
       "text": [
        "3729000\t421986\r\n",
        "3730000\t422105\r\n",
        "3731000\t422190\r\n"
       ]
      },
      {
       "output_type": "stream",
       "stream": "stdout",
       "text": [
        "3732000\t422294\r\n",
        "3733000\t422383\r\n",
        "3734000\t422497\r\n",
        "3735000\t422577\r\n"
       ]
      },
      {
       "output_type": "stream",
       "stream": "stdout",
       "text": [
        "3736000\t422742\r\n",
        "3737000\t422914\r\n",
        "3738000\t423072\r\n"
       ]
      },
      {
       "output_type": "stream",
       "stream": "stdout",
       "text": [
        "3739000\t423233\r\n",
        "3740000\t423389\r\n",
        "3741000\t423543\r\n",
        "3742000\t423684\r\n"
       ]
      },
      {
       "output_type": "stream",
       "stream": "stdout",
       "text": [
        "3743000\t423840\r\n",
        "3744000\t424010\r\n",
        "3745000\t424145\r\n"
       ]
      },
      {
       "output_type": "stream",
       "stream": "stdout",
       "text": [
        "3746000\t424277\r\n",
        "3747000\t424409\r\n",
        "3748000\t424537\r\n",
        "3749000\t424659\r\n"
       ]
      },
      {
       "output_type": "stream",
       "stream": "stdout",
       "text": [
        "3750000\t424777\r\n",
        "3751000\t424918\r\n",
        "3752000\t425046\r\n"
       ]
      },
      {
       "output_type": "stream",
       "stream": "stdout",
       "text": [
        "3753000\t425152\r\n",
        "3754000\t425276\r\n",
        "3755000\t425384\r\n",
        "3756000\t425488\r\n"
       ]
      },
      {
       "output_type": "stream",
       "stream": "stdout",
       "text": [
        "3757000\t425580\r\n",
        "3758000\t425688\r\n",
        "3759000\t425827\r\n",
        "3760000\t425937\r\n"
       ]
      },
      {
       "output_type": "stream",
       "stream": "stdout",
       "text": [
        "3761000\t426044\r\n",
        "3762000\t426162\r\n",
        "3763000\t426259\r\n"
       ]
      },
      {
       "output_type": "stream",
       "stream": "stdout",
       "text": [
        "3764000\t426342\r\n",
        "3765000\t426446\r\n",
        "3766000\t426554\r\n",
        "3767000\t426671\r\n"
       ]
      },
      {
       "output_type": "stream",
       "stream": "stdout",
       "text": [
        "3768000\t426773\r\n",
        "3769000\t426888\r\n",
        "3770000\t426978\r\n"
       ]
      },
      {
       "output_type": "stream",
       "stream": "stdout",
       "text": [
        "3771000\t427067\r\n",
        "3772000\t427167\r\n",
        "3773000\t427254\r\n",
        "3774000\t427346\r\n"
       ]
      },
      {
       "output_type": "stream",
       "stream": "stdout",
       "text": [
        "3775000\t427449\r\n",
        "3776000\t427558\r\n",
        "3777000\t427681\r\n",
        "3778000\t427783\r\n"
       ]
      },
      {
       "output_type": "stream",
       "stream": "stdout",
       "text": [
        "3779000\t427893\r\n",
        "3780000\t427976\r\n",
        "3781000\t428074\r\n"
       ]
      },
      {
       "output_type": "stream",
       "stream": "stdout",
       "text": [
        "3782000\t428169\r\n",
        "3783000\t428264\r\n",
        "3784000\t428340\r\n",
        "3785000\t428436\r\n"
       ]
      },
      {
       "output_type": "stream",
       "stream": "stdout",
       "text": [
        "3786000\t428535\r\n",
        "3787000\t428621\r\n",
        "3788000\t428711\r\n"
       ]
      },
      {
       "output_type": "stream",
       "stream": "stdout",
       "text": [
        "3789000\t428801\r\n",
        "3790000\t428899\r\n",
        "3791000\t428983\r\n",
        "3792000\t429070\r\n"
       ]
      },
      {
       "output_type": "stream",
       "stream": "stdout",
       "text": [
        "3793000\t429160\r\n",
        "3794000\t429245\r\n",
        "3795000\t429322\r\n",
        "3796000\t429417\r\n"
       ]
      },
      {
       "output_type": "stream",
       "stream": "stdout",
       "text": [
        "3797000\t429496\r\n",
        "3798000\t429584\r\n",
        "3799000\t429677\r\n"
       ]
      },
      {
       "output_type": "stream",
       "stream": "stdout",
       "text": [
        "3800000\t429768\r\n",
        "3801000\t429852\r\n",
        "3802000\t429937\r\n",
        "3803000\t430025\r\n"
       ]
      },
      {
       "output_type": "stream",
       "stream": "stdout",
       "text": [
        "3804000\t430116\r\n",
        "3805000\t430197\r\n",
        "3806000\t430295\r\n"
       ]
      },
      {
       "output_type": "stream",
       "stream": "stdout",
       "text": [
        "3807000\t430382\r\n",
        "3808000\t430471\r\n",
        "3809000\t430570\r\n",
        "3810000\t430665\r\n"
       ]
      },
      {
       "output_type": "stream",
       "stream": "stdout",
       "text": [
        "3811000\t430754\r\n",
        "3812000\t430849\r\n",
        "3813000\t430928\r\n",
        "3814000\t431021\r\n"
       ]
      },
      {
       "output_type": "stream",
       "stream": "stdout",
       "text": [
        "3815000\t431110\r\n",
        "3816000\t431189\r\n",
        "3817000\t431259\r\n"
       ]
      },
      {
       "output_type": "stream",
       "stream": "stdout",
       "text": [
        "3818000\t431342\r\n",
        "3819000\t431439\r\n",
        "3820000\t431522\r\n",
        "3821000\t431624\r\n"
       ]
      },
      {
       "output_type": "stream",
       "stream": "stdout",
       "text": [
        "3822000\t431704\r\n",
        "3823000\t431810\r\n",
        "3824000\t431884\r\n"
       ]
      },
      {
       "output_type": "stream",
       "stream": "stdout",
       "text": [
        "3825000\t431967\r\n",
        "3826000\t432068\r\n",
        "3827000\t432162\r\n",
        "3828000\t432252\r\n"
       ]
      },
      {
       "output_type": "stream",
       "stream": "stdout",
       "text": [
        "3829000\t432355\r\n",
        "3830000\t432445\r\n",
        "3831000\t432533\r\n",
        "3832000\t432624\r\n"
       ]
      },
      {
       "output_type": "stream",
       "stream": "stdout",
       "text": [
        "3833000\t432707\r\n",
        "3834000\t432787\r\n",
        "3835000\t432881\r\n"
       ]
      },
      {
       "output_type": "stream",
       "stream": "stdout",
       "text": [
        "3836000\t432973\r\n",
        "3837000\t433054\r\n",
        "3838000\t433137\r\n",
        "3839000\t433225\r\n"
       ]
      },
      {
       "output_type": "stream",
       "stream": "stdout",
       "text": [
        "3840000\t433325\r\n",
        "3841000\t433401\r\n",
        "3842000\t433485\r\n"
       ]
      },
      {
       "output_type": "stream",
       "stream": "stdout",
       "text": [
        "3843000\t433584\r\n",
        "3844000\t433660\r\n",
        "3845000\t433746\r\n",
        "3846000\t433829\r\n"
       ]
      },
      {
       "output_type": "stream",
       "stream": "stdout",
       "text": [
        "3847000\t433919\r\n",
        "3848000\t433993\r\n",
        "3849000\t434072\r\n",
        "3850000\t434151\r\n"
       ]
      },
      {
       "output_type": "stream",
       "stream": "stdout",
       "text": [
        "3851000\t434248\r\n",
        "3852000\t434337\r\n",
        "3853000\t434420\r\n"
       ]
      },
      {
       "output_type": "stream",
       "stream": "stdout",
       "text": [
        "3854000\t434497\r\n",
        "3855000\t434579\r\n",
        "3856000\t434671\r\n",
        "3857000\t434735\r\n"
       ]
      },
      {
       "output_type": "stream",
       "stream": "stdout",
       "text": [
        "3858000\t434816\r\n",
        "3859000\t434901\r\n",
        "3860000\t435002\r\n"
       ]
      },
      {
       "output_type": "stream",
       "stream": "stdout",
       "text": [
        "3861000\t435077\r\n",
        "3862000\t435158\r\n",
        "3863000\t435229\r\n",
        "3864000\t435318\r\n"
       ]
      },
      {
       "output_type": "stream",
       "stream": "stdout",
       "text": [
        "3865000\t435401\r\n",
        "3866000\t435494\r\n",
        "3867000\t435582\r\n",
        "3868000\t435650\r\n"
       ]
      },
      {
       "output_type": "stream",
       "stream": "stdout",
       "text": [
        "3869000\t435725\r\n",
        "3870000\t435805\r\n",
        "3871000\t435895\r\n"
       ]
      },
      {
       "output_type": "stream",
       "stream": "stdout",
       "text": [
        "3872000\t435993\r\n",
        "3873000\t436088\r\n",
        "3874000\t436179\r\n",
        "3875000\t436270\r\n"
       ]
      },
      {
       "output_type": "stream",
       "stream": "stdout",
       "text": [
        "3876000\t436362\r\n",
        "3877000\t436451\r\n",
        "3878000\t436527\r\n",
        "3879000\t436600\r\n"
       ]
      },
      {
       "output_type": "stream",
       "stream": "stdout",
       "text": [
        "3880000\t436658\r\n",
        "3881000\t436749\r\n",
        "3882000\t436825\r\n"
       ]
      },
      {
       "output_type": "stream",
       "stream": "stdout",
       "text": [
        "3883000\t436911\r\n",
        "3884000\t436987\r\n",
        "3885000\t437079\r\n",
        "3886000\t437174\r\n"
       ]
      },
      {
       "output_type": "stream",
       "stream": "stdout",
       "text": [
        "3887000\t437261\r\n",
        "3888000\t437358\r\n",
        "3889000\t437449\r\n"
       ]
      },
      {
       "output_type": "stream",
       "stream": "stdout",
       "text": [
        "3890000\t437532\r\n",
        "3891000\t437628\r\n",
        "3892000\t437709\r\n",
        "3893000\t437792\r\n"
       ]
      },
      {
       "output_type": "stream",
       "stream": "stdout",
       "text": [
        "3894000\t437869\r\n",
        "3895000\t437955\r\n",
        "3896000\t438033\r\n",
        "3897000\t438108\r\n"
       ]
      },
      {
       "output_type": "stream",
       "stream": "stdout",
       "text": [
        "3898000\t438186\r\n",
        "3899000\t438274\r\n",
        "3900000\t438356\r\n"
       ]
      },
      {
       "output_type": "stream",
       "stream": "stdout",
       "text": [
        "3901000\t438441\r\n",
        "3902000\t438535\r\n",
        "3903000\t438622\r\n",
        "3904000\t438696\r\n"
       ]
      },
      {
       "output_type": "stream",
       "stream": "stdout",
       "text": [
        "3905000\t438770\r\n",
        "3906000\t438849\r\n",
        "3907000\t438937\r\n",
        "3908000\t439028\r\n"
       ]
      },
      {
       "output_type": "stream",
       "stream": "stdout",
       "text": [
        "3909000\t439115\r\n",
        "3910000\t439209\r\n",
        "3911000\t439294\r\n"
       ]
      },
      {
       "output_type": "stream",
       "stream": "stdout",
       "text": [
        "3912000\t439353\r\n",
        "3913000\t439429\r\n",
        "3914000\t439504\r\n",
        "3915000\t439600\r\n"
       ]
      },
      {
       "output_type": "stream",
       "stream": "stdout",
       "text": [
        "3916000\t439672\r\n",
        "3917000\t439743\r\n",
        "3918000\t439834\r\n"
       ]
      },
      {
       "output_type": "stream",
       "stream": "stdout",
       "text": [
        "3919000\t439912\r\n",
        "3920000\t439992\r\n",
        "3921000\t440102\r\n",
        "3922000\t440181\r\n"
       ]
      },
      {
       "output_type": "stream",
       "stream": "stdout",
       "text": [
        "3923000\t440256\r\n",
        "3924000\t440339\r\n",
        "3925000\t440407\r\n",
        "3926000\t440480\r\n"
       ]
      },
      {
       "output_type": "stream",
       "stream": "stdout",
       "text": [
        "3927000\t440563\r\n",
        "3928000\t440641\r\n",
        "3929000\t440716\r\n"
       ]
      },
      {
       "output_type": "stream",
       "stream": "stdout",
       "text": [
        "3930000\t440803\r\n",
        "3931000\t440880\r\n",
        "3932000\t440964\r\n",
        "3933000\t441044\r\n"
       ]
      },
      {
       "output_type": "stream",
       "stream": "stdout",
       "text": [
        "3934000\t441117\r\n",
        "3935000\t441198\r\n",
        "3936000\t441292\r\n"
       ]
      },
      {
       "output_type": "stream",
       "stream": "stdout",
       "text": [
        "3937000\t441382\r\n",
        "3938000\t441455\r\n",
        "3939000\t441538\r\n",
        "3940000\t441626\r\n"
       ]
      },
      {
       "output_type": "stream",
       "stream": "stdout",
       "text": [
        "3941000\t441688\r\n",
        "3942000\t441758\r\n",
        "3943000\t441818\r\n",
        "3944000\t441893\r\n"
       ]
      },
      {
       "output_type": "stream",
       "stream": "stdout",
       "text": [
        "3945000\t441959\r\n",
        "3946000\t442035\r\n",
        "3947000\t442121\r\n"
       ]
      },
      {
       "output_type": "stream",
       "stream": "stdout",
       "text": [
        "3948000\t442199\r\n",
        "3949000\t442277\r\n",
        "3950000\t442358\r\n",
        "3951000\t442442\r\n"
       ]
      },
      {
       "output_type": "stream",
       "stream": "stdout",
       "text": [
        "3952000\t442511\r\n",
        "3953000\t442592\r\n",
        "3954000\t442664\r\n",
        "3955000\t442731\r\n"
       ]
      },
      {
       "output_type": "stream",
       "stream": "stdout",
       "text": [
        "3956000\t442804\r\n",
        "3957000\t442878\r\n",
        "3958000\t442956\r\n"
       ]
      },
      {
       "output_type": "stream",
       "stream": "stdout",
       "text": [
        "3959000\t443038\r\n",
        "3960000\t443114\r\n",
        "3961000\t443201\r\n",
        "3962000\t443277\r\n"
       ]
      },
      {
       "output_type": "stream",
       "stream": "stdout",
       "text": [
        "3963000\t443363\r\n",
        "3964000\t443435\r\n",
        "3965000\t443516\r\n",
        "3966000\t443600\r\n"
       ]
      },
      {
       "output_type": "stream",
       "stream": "stdout",
       "text": [
        "3967000\t443690\r\n",
        "3968000\t443747\r\n",
        "3969000\t443808\r\n"
       ]
      },
      {
       "output_type": "stream",
       "stream": "stdout",
       "text": [
        "3970000\t443895\r\n",
        "3971000\t443974\r\n",
        "3972000\t444073\r\n",
        "3973000\t444179\r\n"
       ]
      },
      {
       "output_type": "stream",
       "stream": "stdout",
       "text": [
        "3974000\t444281\r\n",
        "3975000\t444365\r\n",
        "3976000\t444440\r\n"
       ]
      },
      {
       "output_type": "stream",
       "stream": "stdout",
       "text": [
        "3977000\t444519\r\n",
        "3978000\t444605\r\n",
        "3979000\t444692\r\n",
        "3980000\t444767\r\n"
       ]
      },
      {
       "output_type": "stream",
       "stream": "stdout",
       "text": [
        "3981000\t444836\r\n",
        "3982000\t444918\r\n",
        "3983000\t445011\r\n",
        "3984000\t445072\r\n"
       ]
      },
      {
       "output_type": "stream",
       "stream": "stdout",
       "text": [
        "3985000\t445158\r\n",
        "3986000\t445248\r\n",
        "3987000\t445330\r\n"
       ]
      },
      {
       "output_type": "stream",
       "stream": "stdout",
       "text": [
        "3988000\t445416\r\n",
        "3989000\t445496\r\n",
        "3990000\t445584\r\n",
        "3991000\t445668\r\n"
       ]
      },
      {
       "output_type": "stream",
       "stream": "stdout",
       "text": [
        "3992000\t445749\r\n",
        "3993000\t445842\r\n",
        "3994000\t445944\r\n",
        "3995000\t446036\r\n"
       ]
      },
      {
       "output_type": "stream",
       "stream": "stdout",
       "text": [
        "3996000\t446120\r\n",
        "3997000\t446207\r\n",
        "3998000\t446300\r\n"
       ]
      },
      {
       "output_type": "stream",
       "stream": "stdout",
       "text": [
        "3999000\t446397\r\n",
        "4000000\t446477\r\n",
        "4001000\t446590\r\n",
        "4002000\t446674\r\n"
       ]
      },
      {
       "output_type": "stream",
       "stream": "stdout",
       "text": [
        "4003000\t446779\r\n",
        "4004000\t446882\r\n",
        "4005000\t446971\r\n"
       ]
      },
      {
       "output_type": "stream",
       "stream": "stdout",
       "text": [
        "4006000\t447068\r\n",
        "4007000\t447172\r\n",
        "4008000\t447374\r\n",
        "4009000\t447567\r\n"
       ]
      },
      {
       "output_type": "stream",
       "stream": "stdout",
       "text": [
        "4010000\t447739\r\n",
        "4011000\t447931\r\n",
        "4012000\t448120\r\n"
       ]
      },
      {
       "output_type": "stream",
       "stream": "stdout",
       "text": [
        "4013000\t448287\r\n",
        "4014000\t448448\r\n",
        "4015000\t448590\r\n",
        "4016000\t448741\r\n"
       ]
      },
      {
       "output_type": "stream",
       "stream": "stdout",
       "text": [
        "4017000\t448889\r\n",
        "4018000\t449048\r\n",
        "4019000\t449181\r\n"
       ]
      },
      {
       "output_type": "stream",
       "stream": "stdout",
       "text": [
        "4020000\t449313\r\n",
        "4021000\t449439\r\n",
        "4022000\t449574\r\n",
        "4023000\t449692\r\n"
       ]
      },
      {
       "output_type": "stream",
       "stream": "stdout",
       "text": [
        "4024000\t449813\r\n",
        "4025000\t449928\r\n",
        "4026000\t450034\r\n"
       ]
      },
      {
       "output_type": "stream",
       "stream": "stdout",
       "text": [
        "4027000\t450164\r\n",
        "4028000\t450275\r\n",
        "4029000\t450376\r\n",
        "4030000\t450485\r\n"
       ]
      },
      {
       "output_type": "stream",
       "stream": "stdout",
       "text": [
        "4031000\t450606\r\n",
        "4032000\t450713\r\n",
        "4033000\t450825\r\n",
        "4034000\t450922\r\n"
       ]
      },
      {
       "output_type": "stream",
       "stream": "stdout",
       "text": [
        "4035000\t451033\r\n",
        "4036000\t451140\r\n",
        "4037000\t451238\r\n"
       ]
      },
      {
       "output_type": "stream",
       "stream": "stdout",
       "text": [
        "4038000\t451344\r\n",
        "4039000\t451452\r\n",
        "4040000\t451555\r\n",
        "4041000\t451666\r\n"
       ]
      },
      {
       "output_type": "stream",
       "stream": "stdout",
       "text": [
        "4042000\t451778\r\n",
        "4043000\t451864\r\n",
        "4044000\t451962\r\n"
       ]
      },
      {
       "output_type": "stream",
       "stream": "stdout",
       "text": [
        "4045000\t452065\r\n",
        "4046000\t452169\r\n",
        "4047000\t452288\r\n",
        "4048000\t452390\r\n"
       ]
      },
      {
       "output_type": "stream",
       "stream": "stdout",
       "text": [
        "4049000\t452498\r\n",
        "4050000\t452621\r\n",
        "4051000\t452711\r\n",
        "4052000\t452789\r\n"
       ]
      },
      {
       "output_type": "stream",
       "stream": "stdout",
       "text": [
        "4053000\t452888\r\n",
        "4054000\t452978\r\n",
        "4055000\t453059\r\n"
       ]
      },
      {
       "output_type": "stream",
       "stream": "stdout",
       "text": [
        "4056000\t453146\r\n",
        "4057000\t453235\r\n",
        "4058000\t453326\r\n",
        "4059000\t453408\r\n"
       ]
      },
      {
       "output_type": "stream",
       "stream": "stdout",
       "text": [
        "4060000\t453499\r\n",
        "4061000\t453590\r\n",
        "4062000\t453688\r\n"
       ]
      },
      {
       "output_type": "stream",
       "stream": "stdout",
       "text": [
        "4063000\t453790\r\n",
        "4064000\t453877\r\n",
        "4065000\t453987\r\n",
        "4066000\t454076\r\n"
       ]
      },
      {
       "output_type": "stream",
       "stream": "stdout",
       "text": [
        "4067000\t454176\r\n",
        "4068000\t454261\r\n",
        "4069000\t454369\r\n",
        "4070000\t454464\r\n"
       ]
      },
      {
       "output_type": "stream",
       "stream": "stdout",
       "text": [
        "4071000\t454552\r\n",
        "4072000\t454643\r\n",
        "4073000\t454740\r\n"
       ]
      },
      {
       "output_type": "stream",
       "stream": "stdout",
       "text": [
        "4074000\t454827\r\n",
        "4075000\t454914\r\n",
        "4076000\t455000\r\n",
        "4077000\t455085\r\n"
       ]
      },
      {
       "output_type": "stream",
       "stream": "stdout",
       "text": [
        "4078000\t455171\r\n",
        "4079000\t455245\r\n",
        "4080000\t455334\r\n"
       ]
      },
      {
       "output_type": "stream",
       "stream": "stdout",
       "text": [
        "4081000\t455418\r\n",
        "4082000\t455505\r\n",
        "4083000\t455594\r\n",
        "4084000\t455671\r\n"
       ]
      },
      {
       "output_type": "stream",
       "stream": "stdout",
       "text": [
        "4085000\t455756\r\n",
        "4086000\t455860\r\n",
        "4087000\t455951\r\n",
        "4088000\t456060\r\n"
       ]
      },
      {
       "output_type": "stream",
       "stream": "stdout",
       "text": [
        "4089000\t456149\r\n",
        "4090000\t456245\r\n",
        "4091000\t456328\r\n"
       ]
      },
      {
       "output_type": "stream",
       "stream": "stdout",
       "text": [
        "4092000\t456413\r\n",
        "4093000\t456498\r\n",
        "4094000\t456560\r\n",
        "4095000\t456642\r\n"
       ]
      },
      {
       "output_type": "stream",
       "stream": "stdout",
       "text": [
        "4096000\t456734\r\n",
        "4097000\t456826\r\n",
        "4098000\t456913\r\n"
       ]
      },
      {
       "output_type": "stream",
       "stream": "stdout",
       "text": [
        "4099000\t456996\r\n",
        "4100000\t457086\r\n",
        "4101000\t457171\r\n",
        "4102000\t457258\r\n"
       ]
      },
      {
       "output_type": "stream",
       "stream": "stdout",
       "text": [
        "4103000\t457349\r\n",
        "4104000\t457425\r\n",
        "4105000\t457508\r\n",
        "4106000\t457603\r\n"
       ]
      },
      {
       "output_type": "stream",
       "stream": "stdout",
       "text": [
        "4107000\t457684\r\n",
        "4108000\t457771\r\n",
        "4109000\t457851\r\n"
       ]
      },
      {
       "output_type": "stream",
       "stream": "stdout",
       "text": [
        "4110000\t457943\r\n",
        "4111000\t458022\r\n",
        "4112000\t458116\r\n",
        "4113000\t458197\r\n"
       ]
      },
      {
       "output_type": "stream",
       "stream": "stdout",
       "text": [
        "4114000\t458287\r\n",
        "4115000\t458374\r\n",
        "4116000\t458452\r\n"
       ]
      },
      {
       "output_type": "stream",
       "stream": "stdout",
       "text": [
        "4117000\t458551\r\n",
        "4118000\t458651\r\n",
        "4119000\t458743\r\n",
        "4120000\t458836\r\n"
       ]
      },
      {
       "output_type": "stream",
       "stream": "stdout",
       "text": [
        "4121000\t458916\r\n",
        "4122000\t458995\r\n",
        "4123000\t459080\r\n",
        "4124000\t459163\r\n"
       ]
      },
      {
       "output_type": "stream",
       "stream": "stdout",
       "text": [
        "4125000\t459254\r\n",
        "4126000\t459339\r\n",
        "4127000\t459407\r\n"
       ]
      },
      {
       "output_type": "stream",
       "stream": "stdout",
       "text": [
        "4128000\t459490\r\n",
        "4129000\t459579\r\n",
        "4130000\t459667\r\n",
        "4131000\t459754\r\n"
       ]
      },
      {
       "output_type": "stream",
       "stream": "stdout",
       "text": [
        "4132000\t459833\r\n",
        "4133000\t459908\r\n",
        "4134000\t459993\r\n",
        "4135000\t460073\r\n"
       ]
      },
      {
       "output_type": "stream",
       "stream": "stdout",
       "text": [
        "4136000\t460149\r\n",
        "4137000\t460233\r\n",
        "4138000\t460320\r\n"
       ]
      },
      {
       "output_type": "stream",
       "stream": "stdout",
       "text": [
        "4139000\t460410\r\n",
        "4140000\t460495\r\n",
        "4141000\t460554\r\n",
        "4142000\t460645\r\n"
       ]
      },
      {
       "output_type": "stream",
       "stream": "stdout",
       "text": [
        "4143000\t460726\r\n",
        "4144000\t460812\r\n",
        "4145000\t460887\r\n"
       ]
      },
      {
       "output_type": "stream",
       "stream": "stdout",
       "text": [
        "4146000\t460964\r\n",
        "4147000\t461050\r\n",
        "4148000\t461133\r\n",
        "4149000\t461209\r\n"
       ]
      },
      {
       "output_type": "stream",
       "stream": "stdout",
       "text": [
        "4150000\t461309\r\n",
        "4151000\t461384\r\n",
        "4152000\t461472\r\n",
        "4153000\t461546\r\n"
       ]
      },
      {
       "output_type": "stream",
       "stream": "stdout",
       "text": [
        "4154000\t461637\r\n",
        "4155000\t461730\r\n",
        "4156000\t461816\r\n"
       ]
      },
      {
       "output_type": "stream",
       "stream": "stdout",
       "text": [
        "4157000\t461894\r\n",
        "4158000\t461971\r\n",
        "4159000\t462058\r\n",
        "4160000\t462144\r\n"
       ]
      },
      {
       "output_type": "stream",
       "stream": "stdout",
       "text": [
        "4161000\t462230\r\n",
        "4162000\t462318\r\n",
        "4163000\t462400\r\n"
       ]
      },
      {
       "output_type": "stream",
       "stream": "stdout",
       "text": [
        "4164000\t462489\r\n",
        "4165000\t462571\r\n",
        "4166000\t462652\r\n",
        "4167000\t462734\r\n"
       ]
      },
      {
       "output_type": "stream",
       "stream": "stdout",
       "text": [
        "4168000\t462805\r\n",
        "4169000\t462883\r\n",
        "4170000\t462973\r\n",
        "4171000\t463069\r\n"
       ]
      },
      {
       "output_type": "stream",
       "stream": "stdout",
       "text": [
        "4172000\t463159\r\n",
        "4173000\t463243\r\n",
        "4174000\t463322\r\n"
       ]
      },
      {
       "output_type": "stream",
       "stream": "stdout",
       "text": [
        "4175000\t463422\r\n",
        "4176000\t463501\r\n",
        "4177000\t463590\r\n",
        "4178000\t463664\r\n"
       ]
      },
      {
       "output_type": "stream",
       "stream": "stdout",
       "text": [
        "4179000\t463749\r\n",
        "4180000\t463817\r\n",
        "4181000\t463897\r\n",
        "4182000\t463986\r\n"
       ]
      },
      {
       "output_type": "stream",
       "stream": "stdout",
       "text": [
        "4183000\t464053\r\n",
        "4184000\t464139\r\n",
        "4185000\t464212\r\n"
       ]
      },
      {
       "output_type": "stream",
       "stream": "stdout",
       "text": [
        "4186000\t464292\r\n",
        "4187000\t464383\r\n",
        "4188000\t464453\r\n",
        "4189000\t464521\r\n"
       ]
      },
      {
       "output_type": "stream",
       "stream": "stdout",
       "text": [
        "4190000\t464596\r\n",
        "4191000\t464670\r\n",
        "4192000\t464742\r\n"
       ]
      },
      {
       "output_type": "stream",
       "stream": "stdout",
       "text": [
        "4193000\t464823\r\n",
        "4194000\t464894\r\n",
        "4195000\t464980\r\n",
        "4196000\t465075\r\n"
       ]
      },
      {
       "output_type": "stream",
       "stream": "stdout",
       "text": [
        "4197000\t465143\r\n",
        "4198000\t465227\r\n",
        "4199000\t465308\r\n"
       ]
      },
      {
       "output_type": "stream",
       "stream": "stdout",
       "text": [
        "4200000\t465396\r\n",
        "4201000\t465472\r\n",
        "4202000\t465547\r\n",
        "4203000\t465622\r\n"
       ]
      },
      {
       "output_type": "stream",
       "stream": "stdout",
       "text": [
        "4204000\t465710\r\n",
        "4205000\t465798\r\n",
        "4206000\t465880\r\n",
        "4207000\t465952\r\n"
       ]
      },
      {
       "output_type": "stream",
       "stream": "stdout",
       "text": [
        "4208000\t466039\r\n",
        "4209000\t466117\r\n",
        "4210000\t466210\r\n"
       ]
      },
      {
       "output_type": "stream",
       "stream": "stdout",
       "text": [
        "4211000\t466284\r\n",
        "4212000\t466358\r\n",
        "4213000\t466441\r\n",
        "4214000\t466527\r\n"
       ]
      },
      {
       "output_type": "stream",
       "stream": "stdout",
       "text": [
        "4215000\t466615\r\n",
        "4216000\t466686\r\n",
        "4217000\t466779\r\n"
       ]
      },
      {
       "output_type": "stream",
       "stream": "stdout",
       "text": [
        "4218000\t466847\r\n",
        "4219000\t466933\r\n",
        "4220000\t467000\r\n",
        "4221000\t467086\r\n"
       ]
      },
      {
       "output_type": "stream",
       "stream": "stdout",
       "text": [
        "4222000\t467165\r\n",
        "4223000\t467232\r\n",
        "4224000\t467328\r\n",
        "4225000\t467400\r\n"
       ]
      },
      {
       "output_type": "stream",
       "stream": "stdout",
       "text": [
        "4226000\t467474\r\n",
        "4227000\t467534\r\n",
        "4228000\t467611\r\n"
       ]
      },
      {
       "output_type": "stream",
       "stream": "stdout",
       "text": [
        "4229000\t467680\r\n",
        "4230000\t467767\r\n",
        "4231000\t467849\r\n",
        "4232000\t467940\r\n"
       ]
      },
      {
       "output_type": "stream",
       "stream": "stdout",
       "text": [
        "4233000\t468014\r\n",
        "4234000\t468095\r\n",
        "4235000\t468179\r\n",
        "4236000\t468268\r\n"
       ]
      },
      {
       "output_type": "stream",
       "stream": "stdout",
       "text": [
        "4237000\t468340\r\n",
        "4238000\t468431\r\n",
        "4239000\t468515\r\n"
       ]
      },
      {
       "output_type": "stream",
       "stream": "stdout",
       "text": [
        "4240000\t468587\r\n",
        "4241000\t468682\r\n",
        "4242000\t468751\r\n",
        "4243000\t468833\r\n"
       ]
      },
      {
       "output_type": "stream",
       "stream": "stdout",
       "text": [
        "4244000\t468906\r\n",
        "4245000\t468971\r\n",
        "4246000\t469061\r\n"
       ]
      },
      {
       "output_type": "stream",
       "stream": "stdout",
       "text": [
        "4247000\t469141\r\n",
        "4248000\t469221\r\n",
        "4249000\t469311\r\n",
        "4250000\t469394\r\n"
       ]
      },
      {
       "output_type": "stream",
       "stream": "stdout",
       "text": [
        "4251000\t469480\r\n",
        "4252000\t469569\r\n",
        "4253000\t469660\r\n",
        "4254000\t469754\r\n"
       ]
      },
      {
       "output_type": "stream",
       "stream": "stdout",
       "text": [
        "4255000\t469834\r\n",
        "4256000\t469916\r\n",
        "4257000\t470008\r\n"
       ]
      },
      {
       "output_type": "stream",
       "stream": "stdout",
       "text": [
        "4258000\t470086\r\n",
        "4259000\t470178\r\n",
        "4260000\t470254\r\n",
        "4261000\t470347\r\n"
       ]
      },
      {
       "output_type": "stream",
       "stream": "stdout",
       "text": [
        "4262000\t470447\r\n",
        "4263000\t470535\r\n",
        "4264000\t470623\r\n"
       ]
      },
      {
       "output_type": "stream",
       "stream": "stdout",
       "text": [
        "4265000\t470718\r\n",
        "4266000\t470808\r\n",
        "4267000\t470890\r\n",
        "4268000\t470980\r\n"
       ]
      },
      {
       "output_type": "stream",
       "stream": "stdout",
       "text": [
        "4269000\t471081\r\n",
        "4270000\t471178\r\n",
        "4271000\t471260\r\n",
        "4272000\t471348\r\n"
       ]
      },
      {
       "output_type": "stream",
       "stream": "stdout",
       "text": [
        "4273000\t471447\r\n",
        "4274000\t471533\r\n",
        "4275000\t471610\r\n"
       ]
      },
      {
       "output_type": "stream",
       "stream": "stdout",
       "text": [
        "4276000\t471700\r\n",
        "4277000\t471808\r\n",
        "4278000\t471900\r\n",
        "4279000\t471994\r\n"
       ]
      },
      {
       "output_type": "stream",
       "stream": "stdout",
       "text": [
        "4280000\t472094\r\n",
        "4281000\t472179\r\n",
        "4282000\t472276\r\n"
       ]
      },
      {
       "output_type": "stream",
       "stream": "stdout",
       "text": [
        "4283000\t472375\r\n",
        "4284000\t472490\r\n",
        "4285000\t472589\r\n",
        "4286000\t472737\r\n"
       ]
      },
      {
       "output_type": "stream",
       "stream": "stdout",
       "text": [
        "4287000\t472903\r\n",
        "4288000\t473037\r\n",
        "4289000\t473209\r\n"
       ]
      },
      {
       "output_type": "stream",
       "stream": "stdout",
       "text": [
        "4290000\t473337\r\n",
        "4291000\t473465\r\n",
        "4292000\t473609\r\n",
        "4293000\t473707\r\n"
       ]
      },
      {
       "output_type": "stream",
       "stream": "stdout",
       "text": [
        "4294000\t473825\r\n",
        "4295000\t473945\r\n",
        "4296000\t474056\r\n",
        "4297000\t474172\r\n"
       ]
      },
      {
       "output_type": "stream",
       "stream": "stdout",
       "text": [
        "4298000\t474264\r\n",
        "4299000\t474373\r\n",
        "4300000\t474475\r\n"
       ]
      },
      {
       "output_type": "stream",
       "stream": "stdout",
       "text": [
        "4301000\t474563\r\n",
        "4302000\t474649\r\n",
        "4303000\t474766\r\n",
        "4304000\t474873\r\n"
       ]
      },
      {
       "output_type": "stream",
       "stream": "stdout",
       "text": [
        "4305000\t474984\r\n",
        "4306000\t475093\r\n",
        "4307000\t475181\r\n"
       ]
      },
      {
       "output_type": "stream",
       "stream": "stdout",
       "text": [
        "4308000\t475296\r\n",
        "4309000\t475382\r\n",
        "4310000\t475483\r\n",
        "4311000\t475575\r\n"
       ]
      },
      {
       "output_type": "stream",
       "stream": "stdout",
       "text": [
        "4312000\t475656\r\n",
        "4313000\t475738\r\n",
        "4314000\t475839\r\n"
       ]
      },
      {
       "output_type": "stream",
       "stream": "stdout",
       "text": [
        "4315000\t475931\r\n",
        "4316000\t476019\r\n",
        "4317000\t476102\r\n",
        "4318000\t476188\r\n"
       ]
      },
      {
       "output_type": "stream",
       "stream": "stdout",
       "text": [
        "4319000\t476279\r\n",
        "4320000\t476377\r\n",
        "4321000\t476467\r\n",
        "4322000\t476560\r\n"
       ]
      },
      {
       "output_type": "stream",
       "stream": "stdout",
       "text": [
        "4323000\t476655\r\n",
        "4324000\t476732\r\n",
        "4325000\t476832\r\n"
       ]
      },
      {
       "output_type": "stream",
       "stream": "stdout",
       "text": [
        "4326000\t476925\r\n",
        "4327000\t477036\r\n",
        "4328000\t477145\r\n",
        "4329000\t477244\r\n"
       ]
      },
      {
       "output_type": "stream",
       "stream": "stdout",
       "text": [
        "4330000\t477326\r\n",
        "4331000\t477410\r\n",
        "4332000\t477485\r\n"
       ]
      },
      {
       "output_type": "stream",
       "stream": "stdout",
       "text": [
        "4333000\t477580\r\n",
        "4334000\t477658\r\n",
        "4335000\t477741\r\n",
        "4336000\t477823\r\n"
       ]
      },
      {
       "output_type": "stream",
       "stream": "stdout",
       "text": [
        "4337000\t477907\r\n",
        "4338000\t477992\r\n",
        "4339000\t478070\r\n",
        "4340000\t478142\r\n"
       ]
      },
      {
       "output_type": "stream",
       "stream": "stdout",
       "text": [
        "4341000\t478227\r\n",
        "4342000\t478309\r\n",
        "4343000\t478393\r\n"
       ]
      },
      {
       "output_type": "stream",
       "stream": "stdout",
       "text": [
        "4344000\t478487\r\n",
        "4345000\t478555\r\n",
        "4346000\t478649\r\n",
        "4347000\t478712\r\n"
       ]
      },
      {
       "output_type": "stream",
       "stream": "stdout",
       "text": [
        "4348000\t478807\r\n",
        "4349000\t478904\r\n",
        "4350000\t478989\r\n"
       ]
      },
      {
       "output_type": "stream",
       "stream": "stdout",
       "text": [
        "4351000\t479068\r\n",
        "4352000\t479157\r\n",
        "4353000\t479236\r\n",
        "4354000\t479311\r\n"
       ]
      },
      {
       "output_type": "stream",
       "stream": "stdout",
       "text": [
        "4355000\t479397\r\n",
        "4356000\t479484\r\n",
        "4357000\t479562\r\n",
        "4358000\t479636\r\n"
       ]
      },
      {
       "output_type": "stream",
       "stream": "stdout",
       "text": [
        "4359000\t479711\r\n",
        "4360000\t479785\r\n",
        "4361000\t479875\r\n"
       ]
      },
      {
       "output_type": "stream",
       "stream": "stdout",
       "text": [
        "4362000\t479961\r\n",
        "4363000\t480048\r\n",
        "4364000\t480121\r\n",
        "4365000\t480196\r\n"
       ]
      },
      {
       "output_type": "stream",
       "stream": "stdout",
       "text": [
        "4366000\t480268\r\n",
        "4367000\t480356\r\n",
        "4368000\t480455\r\n"
       ]
      },
      {
       "output_type": "stream",
       "stream": "stdout",
       "text": [
        "4369000\t480529\r\n",
        "4370000\t480613\r\n",
        "4371000\t480692\r\n",
        "4372000\t480770\r\n"
       ]
      },
      {
       "output_type": "stream",
       "stream": "stdout",
       "text": [
        "4373000\t480841\r\n",
        "4374000\t480925\r\n",
        "4375000\t481014\r\n",
        "4376000\t481087\r\n"
       ]
      },
      {
       "output_type": "stream",
       "stream": "stdout",
       "text": [
        "4377000\t481174\r\n",
        "4378000\t481258\r\n",
        "4379000\t481336\r\n"
       ]
      },
      {
       "output_type": "stream",
       "stream": "stdout",
       "text": [
        "4380000\t481429\r\n",
        "4381000\t481497\r\n",
        "4382000\t481569\r\n",
        "4383000\t481660\r\n"
       ]
      },
      {
       "output_type": "stream",
       "stream": "stdout",
       "text": [
        "4384000\t481736\r\n",
        "4385000\t481824\r\n",
        "4386000\t481900\r\n"
       ]
      },
      {
       "output_type": "stream",
       "stream": "stdout",
       "text": [
        "4387000\t481974\r\n",
        "4388000\t482061\r\n",
        "4389000\t482143\r\n",
        "4390000\t482235\r\n"
       ]
      },
      {
       "output_type": "stream",
       "stream": "stdout",
       "text": [
        "4391000\t482316\r\n",
        "4392000\t482398\r\n",
        "4393000\t482487\r\n",
        "4394000\t482557\r\n"
       ]
      },
      {
       "output_type": "stream",
       "stream": "stdout",
       "text": [
        "4395000\t482632\r\n",
        "4396000\t482709\r\n",
        "4397000\t482789\r\n"
       ]
      },
      {
       "output_type": "stream",
       "stream": "stdout",
       "text": [
        "4398000\t482873\r\n",
        "4399000\t482956\r\n",
        "4400000\t483028\r\n",
        "4401000\t483123\r\n"
       ]
      },
      {
       "output_type": "stream",
       "stream": "stdout",
       "text": [
        "4402000\t483201\r\n",
        "4403000\t483280\r\n",
        "4404000\t483361\r\n",
        "4405000\t483438\r\n"
       ]
      },
      {
       "output_type": "stream",
       "stream": "stdout",
       "text": [
        "4406000\t483502\r\n",
        "4407000\t483577\r\n",
        "4408000\t483657\r\n"
       ]
      },
      {
       "output_type": "stream",
       "stream": "stdout",
       "text": [
        "4409000\t483731\r\n",
        "4410000\t483806\r\n",
        "4411000\t483894\r\n",
        "4412000\t483975\r\n"
       ]
      },
      {
       "output_type": "stream",
       "stream": "stdout",
       "text": [
        "4413000\t484062\r\n",
        "4414000\t484136\r\n",
        "4415000\t484232\r\n"
       ]
      },
      {
       "output_type": "stream",
       "stream": "stdout",
       "text": [
        "4416000\t484291\r\n",
        "4417000\t484356\r\n",
        "4418000\t484428\r\n",
        "4419000\t484505\r\n"
       ]
      },
      {
       "output_type": "stream",
       "stream": "stdout",
       "text": [
        "4420000\t484566\r\n",
        "4421000\t484652\r\n",
        "4422000\t484746\r\n",
        "4423000\t484829\r\n"
       ]
      },
      {
       "output_type": "stream",
       "stream": "stdout",
       "text": [
        "4424000\t484917\r\n",
        "4425000\t484998\r\n",
        "4426000\t485086\r\n"
       ]
      },
      {
       "output_type": "stream",
       "stream": "stdout",
       "text": [
        "4427000\t485167\r\n",
        "4428000\t485247\r\n",
        "4429000\t485347\r\n",
        "4430000\t485410\r\n"
       ]
      },
      {
       "output_type": "stream",
       "stream": "stdout",
       "text": [
        "4431000\t485485\r\n",
        "4432000\t485560\r\n",
        "4433000\t485640\r\n"
       ]
      },
      {
       "output_type": "stream",
       "stream": "stdout",
       "text": [
        "4434000\t485713\r\n",
        "4435000\t485791\r\n",
        "4436000\t485888\r\n",
        "4437000\t485976\r\n"
       ]
      },
      {
       "output_type": "stream",
       "stream": "stdout",
       "text": [
        "4438000\t486041\r\n",
        "4439000\t486129\r\n",
        "4440000\t486202\r\n"
       ]
      },
      {
       "output_type": "stream",
       "stream": "stdout",
       "text": [
        "4441000\t486272\r\n",
        "4442000\t486333\r\n",
        "4443000\t486409\r\n",
        "4444000\t486483\r\n"
       ]
      },
      {
       "output_type": "stream",
       "stream": "stdout",
       "text": [
        "4445000\t486558\r\n",
        "4446000\t486619\r\n",
        "4447000\t486692\r\n",
        "4448000\t486771\r\n"
       ]
      },
      {
       "output_type": "stream",
       "stream": "stdout",
       "text": [
        "4449000\t486835\r\n",
        "4450000\t486909\r\n",
        "4451000\t486975\r\n"
       ]
      },
      {
       "output_type": "stream",
       "stream": "stdout",
       "text": [
        "4452000\t487072\r\n",
        "4453000\t487142\r\n",
        "4454000\t487217\r\n",
        "4455000\t487288\r\n"
       ]
      },
      {
       "output_type": "stream",
       "stream": "stdout",
       "text": [
        "4456000\t487361\r\n",
        "4457000\t487437\r\n",
        "4458000\t487527\r\n",
        "4459000\t487612\r\n"
       ]
      },
      {
       "output_type": "stream",
       "stream": "stdout",
       "text": [
        "4460000\t487681\r\n",
        "4461000\t487756\r\n",
        "4462000\t487839\r\n"
       ]
      },
      {
       "output_type": "stream",
       "stream": "stdout",
       "text": [
        "4463000\t487912\r\n",
        "4464000\t487979\r\n",
        "4465000\t488049\r\n",
        "4466000\t488112\r\n"
       ]
      },
      {
       "output_type": "stream",
       "stream": "stdout",
       "text": [
        "4467000\t488194\r\n",
        "4468000\t488269\r\n",
        "4469000\t488349\r\n"
       ]
      },
      {
       "output_type": "stream",
       "stream": "stdout",
       "text": [
        "4470000\t488411\r\n",
        "4471000\t488492\r\n",
        "4472000\t488574\r\n",
        "4473000\t488635\r\n"
       ]
      },
      {
       "output_type": "stream",
       "stream": "stdout",
       "text": [
        "4474000\t488734\r\n",
        "4475000\t488798\r\n",
        "4476000\t488874\r\n",
        "4477000\t488951\r\n"
       ]
      },
      {
       "output_type": "stream",
       "stream": "stdout",
       "text": [
        "4478000\t489014\r\n",
        "4479000\t489088\r\n",
        "4480000\t489167\r\n"
       ]
      },
      {
       "output_type": "stream",
       "stream": "stdout",
       "text": [
        "4481000\t489239\r\n",
        "4482000\t489300\r\n",
        "4483000\t489369\r\n",
        "4484000\t489446\r\n"
       ]
      },
      {
       "output_type": "stream",
       "stream": "stdout",
       "text": [
        "4485000\t489519\r\n",
        "4486000\t489592\r\n",
        "4487000\t489670\r\n",
        "4488000\t489732\r\n"
       ]
      },
      {
       "output_type": "stream",
       "stream": "stdout",
       "text": [
        "4489000\t489833\r\n",
        "4490000\t489906\r\n",
        "4491000\t489973\r\n"
       ]
      },
      {
       "output_type": "stream",
       "stream": "stdout",
       "text": [
        "4492000\t490035\r\n",
        "4493000\t490096\r\n",
        "4494000\t490166\r\n",
        "4495000\t490231\r\n"
       ]
      },
      {
       "output_type": "stream",
       "stream": "stdout",
       "text": [
        "4496000\t490302\r\n",
        "4497000\t490374\r\n",
        "4498000\t490436\r\n"
       ]
      },
      {
       "output_type": "stream",
       "stream": "stdout",
       "text": [
        "4499000\t490511\r\n",
        "4500000\t490584\r\n",
        "4501000\t490658\r\n",
        "4502000\t490728\r\n"
       ]
      },
      {
       "output_type": "stream",
       "stream": "stdout",
       "text": [
        "4503000\t490806\r\n",
        "4504000\t490880\r\n",
        "4505000\t490952\r\n",
        "4506000\t491024\r\n"
       ]
      },
      {
       "output_type": "stream",
       "stream": "stdout",
       "text": [
        "4507000\t491094\r\n",
        "4508000\t491168\r\n",
        "4509000\t491241\r\n"
       ]
      },
      {
       "output_type": "stream",
       "stream": "stdout",
       "text": [
        "4510000\t491325\r\n",
        "4511000\t491410\r\n",
        "4512000\t491488\r\n"
       ]
      },
      {
       "output_type": "stream",
       "stream": "stdout",
       "text": [
        "4513000\t491566\r\n",
        "4514000\t491649\r\n",
        "4515000\t491736\r\n",
        "4516000\t491816\r\n"
       ]
      },
      {
       "output_type": "stream",
       "stream": "stdout",
       "text": [
        "4517000\t491890\r\n",
        "4518000\t491968\r\n",
        "4519000\t492029\r\n",
        "4520000\t492108\r\n"
       ]
      },
      {
       "output_type": "stream",
       "stream": "stdout",
       "text": [
        "4521000\t492163\r\n",
        "4522000\t492242\r\n",
        "4523000\t492320\r\n"
       ]
      },
      {
       "output_type": "stream",
       "stream": "stdout",
       "text": [
        "4524000\t492394\r\n",
        "4525000\t492473\r\n",
        "4526000\t492559\r\n",
        "4527000\t492639\r\n"
       ]
      },
      {
       "output_type": "stream",
       "stream": "stdout",
       "text": [
        "4528000\t492732\r\n",
        "4529000\t492822\r\n",
        "4530000\t492904\r\n"
       ]
      },
      {
       "output_type": "stream",
       "stream": "stdout",
       "text": [
        "4531000\t492977\r\n",
        "4532000\t493055\r\n",
        "4533000\t493122\r\n",
        "4534000\t493199\r\n"
       ]
      },
      {
       "output_type": "stream",
       "stream": "stdout",
       "text": [
        "4535000\t493288\r\n",
        "4536000\t493376\r\n",
        "4537000\t493464\r\n",
        "4538000\t493541\r\n"
       ]
      },
      {
       "output_type": "stream",
       "stream": "stdout",
       "text": [
        "4539000\t493621\r\n",
        "4540000\t493702\r\n",
        "4541000\t493774\r\n"
       ]
      },
      {
       "output_type": "stream",
       "stream": "stdout",
       "text": [
        "4542000\t493850\r\n",
        "4543000\t493929\r\n",
        "4544000\t494021\r\n",
        "4545000\t494095\r\n"
       ]
      },
      {
       "output_type": "stream",
       "stream": "stdout",
       "text": [
        "4546000\t494165\r\n",
        "4547000\t494242\r\n",
        "4548000\t494335\r\n"
       ]
      },
      {
       "output_type": "stream",
       "stream": "stdout",
       "text": [
        "4549000\t494424\r\n",
        "4550000\t494502\r\n",
        "4551000\t494579\r\n",
        "4552000\t494662\r\n"
       ]
      },
      {
       "output_type": "stream",
       "stream": "stdout",
       "text": [
        "4553000\t494733\r\n",
        "4554000\t494816\r\n",
        "4555000\t494902\r\n"
       ]
      },
      {
       "output_type": "stream",
       "stream": "stdout",
       "text": [
        "4556000\t494991\r\n",
        "4557000\t495077\r\n",
        "4558000\t495173\r\n",
        "4559000\t495249\r\n"
       ]
      },
      {
       "output_type": "stream",
       "stream": "stdout",
       "text": [
        "4560000\t495330\r\n",
        "4561000\t495419\r\n",
        "4562000\t495507\r\n",
        "4563000\t495590\r\n"
       ]
      },
      {
       "output_type": "stream",
       "stream": "stdout",
       "text": [
        "4564000\t495722\r\n",
        "4565000\t495848\r\n",
        "4566000\t495982\r\n"
       ]
      },
      {
       "output_type": "stream",
       "stream": "stdout",
       "text": [
        "4567000\t496110\r\n",
        "4568000\t496237\r\n",
        "4569000\t496367\r\n",
        "4570000\t496502\r\n"
       ]
      },
      {
       "output_type": "stream",
       "stream": "stdout",
       "text": [
        "4571000\t496621\r\n",
        "4572000\t496738\r\n",
        "4573000\t496865\r\n"
       ]
      },
      {
       "output_type": "stream",
       "stream": "stdout",
       "text": [
        "4574000\t496971\r\n",
        "4575000\t497076\r\n",
        "4576000\t497184\r\n",
        "4577000\t497284\r\n"
       ]
      },
      {
       "output_type": "stream",
       "stream": "stdout",
       "text": [
        "4578000\t497389\r\n",
        "4579000\t497464\r\n",
        "4580000\t497558\r\n"
       ]
      },
      {
       "output_type": "stream",
       "stream": "stdout",
       "text": [
        "4581000\t497644\r\n",
        "4582000\t497743\r\n",
        "4583000\t497838\r\n",
        "4584000\t497920\r\n"
       ]
      },
      {
       "output_type": "stream",
       "stream": "stdout",
       "text": [
        "4585000\t498026\r\n",
        "4586000\t498113\r\n",
        "4587000\t498201\r\n"
       ]
      },
      {
       "output_type": "stream",
       "stream": "stdout",
       "text": [
        "4588000\t498294\r\n",
        "4589000\t498372\r\n",
        "4590000\t498472\r\n",
        "4591000\t498545\r\n"
       ]
      },
      {
       "output_type": "stream",
       "stream": "stdout",
       "text": [
        "4592000\t498609\r\n",
        "4593000\t498696\r\n",
        "4594000\t498801\r\n"
       ]
      },
      {
       "output_type": "stream",
       "stream": "stdout",
       "text": [
        "4595000\t498892\r\n",
        "4596000\t498976\r\n",
        "4597000\t499059\r\n",
        "4598000\t499154\r\n"
       ]
      },
      {
       "output_type": "stream",
       "stream": "stdout",
       "text": [
        "4599000\t499232\r\n",
        "4600000\t499314\r\n",
        "4601000\t499400\r\n"
       ]
      },
      {
       "output_type": "stream",
       "stream": "stdout",
       "text": [
        "4602000\t499500\r\n",
        "4603000\t499592\r\n",
        "4604000\t499688\r\n",
        "4605000\t499783\r\n"
       ]
      },
      {
       "output_type": "stream",
       "stream": "stdout",
       "text": [
        "4606000\t499867\r\n",
        "4607000\t499953\r\n",
        "4608000\t500028\r\n",
        "4609000\t500129\r\n"
       ]
      },
      {
       "output_type": "stream",
       "stream": "stdout",
       "text": [
        "4610000\t500217\r\n"
       ]
      },
      {
       "output_type": "stream",
       "stream": "stdout",
       "text": [
        "4611000\t500304\r\n",
        "4612000\t500390\r\n",
        "4613000\t500477\r\n"
       ]
      },
      {
       "output_type": "stream",
       "stream": "stdout",
       "text": [
        "4614000\t500551\r\n",
        "4615000\t500636\r\n",
        "4616000\t500730\r\n"
       ]
      },
      {
       "output_type": "stream",
       "stream": "stdout",
       "text": [
        "4617000\t500804\r\n",
        "4618000\t500892\r\n",
        "4619000\t500968\r\n"
       ]
      },
      {
       "output_type": "stream",
       "stream": "stdout",
       "text": [
        "4620000\t501060\r\n",
        "4621000\t501137\r\n",
        "4622000\t501231\r\n"
       ]
      },
      {
       "output_type": "stream",
       "stream": "stdout",
       "text": [
        "4623000\t501304\r\n",
        "4624000\t501381\r\n",
        "4625000\t501459\r\n"
       ]
      },
      {
       "output_type": "stream",
       "stream": "stdout",
       "text": [
        "4626000\t501540\r\n",
        "4627000\t501641\r\n",
        "4628000\t501736\r\n"
       ]
      },
      {
       "output_type": "stream",
       "stream": "stdout",
       "text": [
        "4629000\t501810\r\n",
        "4630000\t501892\r\n",
        "4631000\t501968\r\n"
       ]
      },
      {
       "output_type": "stream",
       "stream": "stdout",
       "text": [
        "4632000\t502050\r\n",
        "4633000\t502129\r\n",
        "4634000\t502222\r\n"
       ]
      },
      {
       "output_type": "stream",
       "stream": "stdout",
       "text": [
        "4635000\t502295\r\n",
        "4636000\t502373\r\n",
        "4637000\t502457\r\n"
       ]
      },
      {
       "output_type": "stream",
       "stream": "stdout",
       "text": [
        "4638000\t502544\r\n",
        "4639000\t502621\r\n",
        "4640000\t502699\r\n"
       ]
      },
      {
       "output_type": "stream",
       "stream": "stdout",
       "text": [
        "4641000\t502786\r\n",
        "4642000\t502859\r\n",
        "4643000\t502943\r\n",
        "4644000\t503022\r\n"
       ]
      },
      {
       "output_type": "stream",
       "stream": "stdout",
       "text": [
        "4645000\t503096\r\n",
        "4646000\t503182\r\n",
        "4647000\t503270\r\n",
        "4648000\t503354\r\n"
       ]
      },
      {
       "output_type": "stream",
       "stream": "stdout",
       "text": [
        "4649000\t503430\r\n",
        "4650000\t503539\r\n",
        "4651000\t503614\r\n"
       ]
      },
      {
       "output_type": "stream",
       "stream": "stdout",
       "text": [
        "4652000\t503696\r\n",
        "4653000\t503766\r\n",
        "4654000\t503855\r\n",
        "4655000\t503941\r\n"
       ]
      },
      {
       "output_type": "stream",
       "stream": "stdout",
       "text": [
        "4656000\t504033\r\n",
        "4657000\t504100\r\n",
        "4658000\t504174\r\n"
       ]
      },
      {
       "output_type": "stream",
       "stream": "stdout",
       "text": [
        "4659000\t504261\r\n",
        "4660000\t504330\r\n",
        "4661000\t504413\r\n",
        "4662000\t504491\r\n"
       ]
      },
      {
       "output_type": "stream",
       "stream": "stdout",
       "text": [
        "4663000\t504559\r\n",
        "4664000\t504635\r\n",
        "4665000\t504725\r\n"
       ]
      },
      {
       "output_type": "stream",
       "stream": "stdout",
       "text": [
        "4666000\t504793\r\n",
        "4667000\t504874\r\n",
        "4668000\t504963\r\n",
        "4669000\t505038\r\n"
       ]
      },
      {
       "output_type": "stream",
       "stream": "stdout",
       "text": [
        "4670000\t505117\r\n",
        "4671000\t505202\r\n",
        "4672000\t505277\r\n"
       ]
      },
      {
       "output_type": "stream",
       "stream": "stdout",
       "text": [
        "4673000\t505356\r\n",
        "4674000\t505425\r\n",
        "4675000\t505503\r\n",
        "4676000\t505583\r\n"
       ]
      },
      {
       "output_type": "stream",
       "stream": "stdout",
       "text": [
        "4677000\t505653\r\n",
        "4678000\t505721\r\n",
        "4679000\t505796\r\n"
       ]
      },
      {
       "output_type": "stream",
       "stream": "stdout",
       "text": [
        "4680000\t505884\r\n",
        "4681000\t505975\r\n",
        "4682000\t506064\r\n",
        "4683000\t506143\r\n"
       ]
      },
      {
       "output_type": "stream",
       "stream": "stdout",
       "text": [
        "4684000\t506207\r\n",
        "4685000\t506280\r\n",
        "4686000\t506354\r\n"
       ]
      },
      {
       "output_type": "stream",
       "stream": "stdout",
       "text": [
        "4687000\t506440\r\n",
        "4688000\t506511\r\n",
        "4689000\t506583\r\n",
        "4690000\t506650\r\n"
       ]
      },
      {
       "output_type": "stream",
       "stream": "stdout",
       "text": [
        "4691000\t506736\r\n",
        "4692000\t506809\r\n",
        "4693000\t506873\r\n"
       ]
      },
      {
       "output_type": "stream",
       "stream": "stdout",
       "text": [
        "4694000\t506954\r\n",
        "4695000\t507025\r\n",
        "4696000\t507104\r\n",
        "4697000\t507169\r\n"
       ]
      },
      {
       "output_type": "stream",
       "stream": "stdout",
       "text": [
        "4698000\t507238\r\n",
        "4699000\t507313\r\n",
        "4700000\t507385\r\n"
       ]
      },
      {
       "output_type": "stream",
       "stream": "stdout",
       "text": [
        "4701000\t507452\r\n",
        "4702000\t507513\r\n",
        "4703000\t507594\r\n",
        "4704000\t507674\r\n"
       ]
      },
      {
       "output_type": "stream",
       "stream": "stdout",
       "text": [
        "4705000\t507753\r\n",
        "4706000\t507823\r\n",
        "4707000\t507892\r\n"
       ]
      },
      {
       "output_type": "stream",
       "stream": "stdout",
       "text": [
        "4708000\t507967\r\n",
        "4709000\t508043\r\n",
        "4710000\t508112\r\n",
        "4711000\t508178\r\n"
       ]
      },
      {
       "output_type": "stream",
       "stream": "stdout",
       "text": [
        "4712000\t508255\r\n",
        "4713000\t508328\r\n",
        "4714000\t508398\r\n"
       ]
      },
      {
       "output_type": "stream",
       "stream": "stdout",
       "text": [
        "4715000\t508473\r\n",
        "4716000\t508552\r\n",
        "4717000\t508635\r\n"
       ]
      },
      {
       "output_type": "stream",
       "stream": "stdout",
       "text": [
        "4718000\t508706\r\n",
        "4719000\t508765\r\n",
        "4720000\t508841\r\n",
        "4721000\t508928\r\n"
       ]
      },
      {
       "output_type": "stream",
       "stream": "stdout",
       "text": [
        "4722000\t508995\r\n",
        "4723000\t509082\r\n",
        "4724000\t509164\r\n"
       ]
      },
      {
       "output_type": "stream",
       "stream": "stdout",
       "text": [
        "4725000\t509247\r\n",
        "4726000\t509323\r\n",
        "4727000\t509398\r\n",
        "4728000\t509462\r\n"
       ]
      },
      {
       "output_type": "stream",
       "stream": "stdout",
       "text": [
        "4729000\t509521\r\n",
        "4730000\t509590\r\n",
        "4731000\t509655\r\n"
       ]
      },
      {
       "output_type": "stream",
       "stream": "stdout",
       "text": [
        "4732000\t509738\r\n",
        "4733000\t509813\r\n",
        "4734000\t509883\r\n",
        "4735000\t509954\r\n"
       ]
      },
      {
       "output_type": "stream",
       "stream": "stdout",
       "text": [
        "4736000\t510041\r\n",
        "4737000\t510118\r\n",
        "4738000\t510187\r\n"
       ]
      },
      {
       "output_type": "stream",
       "stream": "stdout",
       "text": [
        "4739000\t510268\r\n",
        "4740000\t510347\r\n",
        "4741000\t510429\r\n",
        "4742000\t510499\r\n"
       ]
      },
      {
       "output_type": "stream",
       "stream": "stdout",
       "text": [
        "4743000\t510577\r\n",
        "4744000\t510651\r\n",
        "4745000\t510727\r\n"
       ]
      },
      {
       "output_type": "stream",
       "stream": "stdout",
       "text": [
        "4746000\t510807\r\n",
        "4747000\t510875\r\n",
        "4748000\t510960\r\n",
        "4749000\t511017\r\n"
       ]
      },
      {
       "output_type": "stream",
       "stream": "stdout",
       "text": [
        "4750000\t511098\r\n",
        "4751000\t511181\r\n",
        "4752000\t511254\r\n"
       ]
      },
      {
       "output_type": "stream",
       "stream": "stdout",
       "text": [
        "4753000\t511326\r\n",
        "4754000\t511399\r\n",
        "4755000\t511484\r\n",
        "4756000\t511558\r\n"
       ]
      },
      {
       "output_type": "stream",
       "stream": "stdout",
       "text": [
        "4757000\t511627\r\n",
        "4758000\t511681\r\n",
        "4759000\t511748\r\n"
       ]
      },
      {
       "output_type": "stream",
       "stream": "stdout",
       "text": [
        "4760000\t511822\r\n",
        "4761000\t511897\r\n",
        "4762000\t511972\r\n"
       ]
      },
      {
       "output_type": "stream",
       "stream": "stdout",
       "text": [
        "4763000\t512073\r\n",
        "4764000\t512146\r\n",
        "4765000\t512225\r\n",
        "4766000\t512304\r\n"
       ]
      },
      {
       "output_type": "stream",
       "stream": "stdout",
       "text": [
        "4767000\t512378\r\n",
        "4768000\t512434\r\n",
        "4769000\t512514\r\n"
       ]
      },
      {
       "output_type": "stream",
       "stream": "stdout",
       "text": [
        "4770000\t512590\r\n",
        "4771000\t512665\r\n",
        "4772000\t512743\r\n",
        "4773000\t512818\r\n"
       ]
      },
      {
       "output_type": "stream",
       "stream": "stdout",
       "text": [
        "4774000\t512901\r\n",
        "4775000\t512976\r\n",
        "4776000\t513048\r\n"
       ]
      },
      {
       "output_type": "stream",
       "stream": "stdout",
       "text": [
        "4777000\t513135\r\n",
        "4778000\t513204\r\n",
        "4779000\t513289\r\n",
        "4780000\t513353\r\n"
       ]
      },
      {
       "output_type": "stream",
       "stream": "stdout",
       "text": [
        "4781000\t513428\r\n",
        "4782000\t513498\r\n",
        "4783000\t513569\r\n"
       ]
      },
      {
       "output_type": "stream",
       "stream": "stdout",
       "text": [
        "4784000\t513644\r\n",
        "4785000\t513724\r\n",
        "4786000\t513809\r\n",
        "4787000\t513876\r\n"
       ]
      },
      {
       "output_type": "stream",
       "stream": "stdout",
       "text": [
        "4788000\t513957\r\n",
        "4789000\t514028\r\n",
        "4790000\t514097\r\n"
       ]
      },
      {
       "output_type": "stream",
       "stream": "stdout",
       "text": [
        "4791000\t514180\r\n",
        "4792000\t514236\r\n",
        "4793000\t514319\r\n",
        "4794000\t514397\r\n"
       ]
      },
      {
       "output_type": "stream",
       "stream": "stdout",
       "text": [
        "4795000\t514471\r\n",
        "4796000\t514540\r\n",
        "4797000\t514614\r\n"
       ]
      },
      {
       "output_type": "stream",
       "stream": "stdout",
       "text": [
        "4798000\t514679\r\n",
        "4799000\t514757\r\n",
        "4800000\t514832\r\n",
        "4801000\t514927\r\n"
       ]
      },
      {
       "output_type": "stream",
       "stream": "stdout",
       "text": [
        "4802000\t515008\r\n",
        "4803000\t515072\r\n",
        "4804000\t515166\r\n"
       ]
      },
      {
       "output_type": "stream",
       "stream": "stdout",
       "text": [
        "4805000\t515238\r\n",
        "4806000\t515304\r\n",
        "4807000\t515380\r\n",
        "4808000\t515458\r\n"
       ]
      },
      {
       "output_type": "stream",
       "stream": "stdout",
       "text": [
        "4809000\t515531\r\n",
        "4810000\t515620\r\n",
        "4811000\t515709\r\n"
       ]
      },
      {
       "output_type": "stream",
       "stream": "stdout",
       "text": [
        "4812000\t515793\r\n",
        "4813000\t515869\r\n",
        "4814000\t515953\r\n"
       ]
      },
      {
       "output_type": "stream",
       "stream": "stdout",
       "text": [
        "4815000\t516038\r\n",
        "4816000\t516099\r\n",
        "4817000\t516181\r\n",
        "4818000\t516269\r\n"
       ]
      },
      {
       "output_type": "stream",
       "stream": "stdout",
       "text": [
        "4819000\t516359\r\n",
        "4820000\t516444\r\n",
        "4821000\t516531\r\n"
       ]
      },
      {
       "output_type": "stream",
       "stream": "stdout",
       "text": [
        "4822000\t516604\r\n",
        "4823000\t516692\r\n",
        "4824000\t516770\r\n",
        "4825000\t516854\r\n"
       ]
      },
      {
       "output_type": "stream",
       "stream": "stdout",
       "text": [
        "4826000\t516947\r\n",
        "4827000\t517032\r\n",
        "4828000\t517112\r\n"
       ]
      },
      {
       "output_type": "stream",
       "stream": "stdout",
       "text": [
        "4829000\t517210\r\n",
        "4830000\t517297\r\n",
        "4831000\t517379\r\n"
       ]
      },
      {
       "output_type": "stream",
       "stream": "stdout",
       "text": [
        "4832000\t517479\r\n",
        "4833000\t517549\r\n",
        "4834000\t517630\r\n",
        "4835000\t517719\r\n"
       ]
      },
      {
       "output_type": "stream",
       "stream": "stdout",
       "text": [
        "4836000\t517820\r\n",
        "4837000\t518012\r\n",
        "4838000\t518187\r\n"
       ]
      },
      {
       "output_type": "stream",
       "stream": "stdout",
       "text": [
        "4839000\t518350\r\n",
        "4840000\t518497\r\n",
        "4841000\t518656\r\n",
        "4842000\t518808\r\n"
       ]
      },
      {
       "output_type": "stream",
       "stream": "stdout",
       "text": [
        "4843000\t518952\r\n",
        "4844000\t519095\r\n",
        "4845000\t519220\r\n"
       ]
      },
      {
       "output_type": "stream",
       "stream": "stdout",
       "text": [
        "4846000\t519351\r\n",
        "4847000\t519469\r\n",
        "4848000\t519575\r\n"
       ]
      },
      {
       "output_type": "stream",
       "stream": "stdout",
       "text": [
        "4849000\t519692\r\n",
        "4850000\t519815\r\n",
        "4851000\t519929\r\n",
        "4852000\t520042\r\n"
       ]
      },
      {
       "output_type": "stream",
       "stream": "stdout",
       "text": [
        "4853000\t520146\r\n",
        "4854000\t520258\r\n",
        "4855000\t520377\r\n"
       ]
      },
      {
       "output_type": "stream",
       "stream": "stdout",
       "text": [
        "4856000\t520492\r\n",
        "4857000\t520607\r\n",
        "4858000\t520708\r\n",
        "4859000\t520827\r\n"
       ]
      },
      {
       "output_type": "stream",
       "stream": "stdout",
       "text": [
        "4860000\t520915\r\n",
        "4861000\t521015\r\n",
        "4862000\t521113\r\n"
       ]
      },
      {
       "output_type": "stream",
       "stream": "stdout",
       "text": [
        "4863000\t521219\r\n",
        "4864000\t521315\r\n",
        "4865000\t521409\r\n"
       ]
      },
      {
       "output_type": "stream",
       "stream": "stdout",
       "text": [
        "4866000\t521512\r\n",
        "4867000\t521607\r\n",
        "4868000\t521700\r\n",
        "4869000\t521793\r\n"
       ]
      },
      {
       "output_type": "stream",
       "stream": "stdout",
       "text": [
        "4870000\t521894\r\n",
        "4871000\t521994\r\n",
        "4872000\t522081\r\n"
       ]
      },
      {
       "output_type": "stream",
       "stream": "stdout",
       "text": [
        "4873000\t522167\r\n",
        "4874000\t522289\r\n",
        "4875000\t522383\r\n",
        "4876000\t522503\r\n"
       ]
      },
      {
       "output_type": "stream",
       "stream": "stdout",
       "text": [
        "4877000\t522610\r\n",
        "4878000\t522693\r\n",
        "4879000\t522794\r\n"
       ]
      },
      {
       "output_type": "stream",
       "stream": "stdout",
       "text": [
        "4880000\t522874\r\n",
        "4881000\t522960\r\n",
        "4882000\t523055\r\n",
        "4883000\t523153\r\n"
       ]
      },
      {
       "output_type": "stream",
       "stream": "stdout",
       "text": [
        "4884000\t523244\r\n",
        "4885000\t523355\r\n",
        "4886000\t523438\r\n"
       ]
      },
      {
       "output_type": "stream",
       "stream": "stdout",
       "text": [
        "4887000\t523528\r\n",
        "4888000\t523625\r\n",
        "4889000\t523733\r\n"
       ]
      },
      {
       "output_type": "stream",
       "stream": "stdout",
       "text": [
        "4890000\t523823\r\n",
        "4891000\t523913\r\n",
        "4892000\t523997\r\n",
        "4893000\t524077\r\n"
       ]
      },
      {
       "output_type": "stream",
       "stream": "stdout",
       "text": [
        "4894000\t524153\r\n",
        "4895000\t524229\r\n"
       ]
      },
      {
       "output_type": "stream",
       "stream": "stdout",
       "text": [
        "4896000\t524295\r\n",
        "4897000\t524383\r\n"
       ]
      },
      {
       "output_type": "stream",
       "stream": "stdout",
       "text": [
        "4898000\t524474\r\n",
        "4899000\t524566\r\n",
        "4900000\t524646\r\n"
       ]
      },
      {
       "output_type": "stream",
       "stream": "stdout",
       "text": [
        "4901000\t524729\r\n",
        "4902000\t524813\r\n",
        "4903000\t524884\r\n"
       ]
      },
      {
       "output_type": "stream",
       "stream": "stdout",
       "text": [
        "4904000\t524970\r\n",
        "4905000\t525062\r\n",
        "4906000\t525153\r\n",
        "4907000\t525237\r\n"
       ]
      },
      {
       "output_type": "stream",
       "stream": "stdout",
       "text": [
        "4908000\t525310\r\n",
        "4909000\t525386\r\n",
        "4910000\t525479\r\n"
       ]
      },
      {
       "output_type": "stream",
       "stream": "stdout",
       "text": [
        "4911000\t525564\r\n",
        "4912000\t525657\r\n",
        "4913000\t525737\r\n",
        "4914000\t525807\r\n"
       ]
      },
      {
       "output_type": "stream",
       "stream": "stdout",
       "text": [
        "4915000\t525884\r\n",
        "4916000\t525963\r\n",
        "4917000\t526052\r\n"
       ]
      },
      {
       "output_type": "stream",
       "stream": "stdout",
       "text": [
        "4918000\t526125\r\n",
        "4919000\t526221\r\n",
        "4920000\t526291\r\n",
        "4921000\t526380\r\n"
       ]
      },
      {
       "output_type": "stream",
       "stream": "stdout",
       "text": [
        "4922000\t526465\r\n",
        "4923000\t526550\r\n",
        "4924000\t526635\r\n"
       ]
      },
      {
       "output_type": "stream",
       "stream": "stdout",
       "text": [
        "4925000\t526713\r\n",
        "4926000\t526778\r\n",
        "4927000\t526852\r\n"
       ]
      },
      {
       "output_type": "stream",
       "stream": "stdout",
       "text": [
        "4928000\t526925\r\n",
        "4929000\t527001\r\n",
        "4930000\t527091\r\n",
        "4931000\t527174\r\n"
       ]
      },
      {
       "output_type": "stream",
       "stream": "stdout",
       "text": [
        "4932000\t527249\r\n",
        "4933000\t527336\r\n",
        "4934000\t527417\r\n"
       ]
      },
      {
       "output_type": "stream",
       "stream": "stdout",
       "text": [
        "4935000\t527497\r\n",
        "4936000\t527565\r\n",
        "4937000\t527641\r\n",
        "4938000\t527727\r\n"
       ]
      },
      {
       "output_type": "stream",
       "stream": "stdout",
       "text": [
        "4939000\t527813\r\n",
        "4940000\t527918\r\n",
        "4941000\t527982\r\n"
       ]
      },
      {
       "output_type": "stream",
       "stream": "stdout",
       "text": [
        "4942000\t528066\r\n",
        "4943000\t528152\r\n",
        "4944000\t528224\r\n",
        "4945000\t528318\r\n"
       ]
      },
      {
       "output_type": "stream",
       "stream": "stdout",
       "text": [
        "4946000\t528408\r\n",
        "4947000\t528491\r\n",
        "4948000\t528581\r\n"
       ]
      },
      {
       "output_type": "stream",
       "stream": "stdout",
       "text": [
        "4949000\t528666\r\n",
        "4950000\t528748\r\n",
        "4951000\t528817\r\n"
       ]
      },
      {
       "output_type": "stream",
       "stream": "stdout",
       "text": [
        "4952000\t528906\r\n",
        "4953000\t528983\r\n",
        "4954000\t529059\r\n",
        "4955000\t529133\r\n"
       ]
      },
      {
       "output_type": "stream",
       "stream": "stdout",
       "text": [
        "4956000\t529213\r\n",
        "4957000\t529279\r\n",
        "4958000\t529361\r\n"
       ]
      },
      {
       "output_type": "stream",
       "stream": "stdout",
       "text": [
        "4959000\t529432\r\n",
        "4960000\t529511\r\n",
        "4961000\t529595\r\n",
        "4962000\t529677\r\n"
       ]
      },
      {
       "output_type": "stream",
       "stream": "stdout",
       "text": [
        "4963000\t529748\r\n",
        "4964000\t529815\r\n",
        "4965000\t529886\r\n"
       ]
      },
      {
       "output_type": "stream",
       "stream": "stdout",
       "text": [
        "4966000\t529982\r\n",
        "4967000\t530059\r\n",
        "4968000\t530132\r\n",
        "4969000\t530221\r\n"
       ]
      },
      {
       "output_type": "stream",
       "stream": "stdout",
       "text": [
        "4970000\t530299\r\n",
        "4971000\t530367\r\n",
        "4972000\t530440\r\n"
       ]
      },
      {
       "output_type": "stream",
       "stream": "stdout",
       "text": [
        "4973000\t530525\r\n",
        "4974000\t530596\r\n",
        "4975000\t530687\r\n",
        "4976000\t530766\r\n"
       ]
      },
      {
       "output_type": "stream",
       "stream": "stdout",
       "text": [
        "4977000\t530841\r\n",
        "4978000\t530935\r\n",
        "4979000\t531001\r\n"
       ]
      },
      {
       "output_type": "stream",
       "stream": "stdout",
       "text": [
        "4980000\t531090\r\n",
        "4981000\t531170\r\n",
        "4982000\t531248\r\n",
        "4983000\t531337\r\n"
       ]
      },
      {
       "output_type": "stream",
       "stream": "stdout",
       "text": [
        "4984000\t531433\r\n",
        "4985000\t531498\r\n",
        "4986000\t531570\r\n"
       ]
      },
      {
       "output_type": "stream",
       "stream": "stdout",
       "text": [
        "4987000\t531650\r\n",
        "4988000\t531738\r\n",
        "4989000\t531808\r\n"
       ]
      },
      {
       "output_type": "stream",
       "stream": "stdout",
       "text": [
        "4990000\t531880\r\n",
        "4991000\t531974\r\n",
        "4992000\t532038\r\n",
        "4993000\t532108\r\n"
       ]
      },
      {
       "output_type": "stream",
       "stream": "stdout",
       "text": [
        "4994000\t532191\r\n",
        "4995000\t532275\r\n",
        "4996000\t532358\r\n"
       ]
      },
      {
       "output_type": "stream",
       "stream": "stdout",
       "text": [
        "4997000\t532425\r\n",
        "4998000\t532502\r\n",
        "4999000\t532592\r\n",
        "5000000\t532669\r\n"
       ]
      },
      {
       "output_type": "stream",
       "stream": "stdout",
       "text": [
        "5001000\t532747\r\n",
        "5002000\t532826\r\n",
        "5003000\t532906\r\n"
       ]
      },
      {
       "output_type": "stream",
       "stream": "stdout",
       "text": [
        "5004000\t532977\r\n",
        "5005000\t533056\r\n",
        "5006000\t533133\r\n",
        "5007000\t533205\r\n"
       ]
      },
      {
       "output_type": "stream",
       "stream": "stdout",
       "text": [
        "5008000\t533304\r\n",
        "5009000\t533371\r\n",
        "5010000\t533442\r\n"
       ]
      },
      {
       "output_type": "stream",
       "stream": "stdout",
       "text": [
        "5011000\t533508\r\n",
        "5012000\t533579\r\n",
        "5013000\t533658\r\n",
        "5014000\t533740\r\n"
       ]
      },
      {
       "output_type": "stream",
       "stream": "stdout",
       "text": [
        "5015000\t533801\r\n",
        "5016000\t533887\r\n",
        "5017000\t533967\r\n"
       ]
      },
      {
       "output_type": "stream",
       "stream": "stdout",
       "text": [
        "5018000\t534029\r\n",
        "5019000\t534098\r\n",
        "5020000\t534179\r\n"
       ]
      },
      {
       "output_type": "stream",
       "stream": "stdout",
       "text": [
        "5021000\t534252\r\n",
        "5022000\t534309\r\n",
        "5023000\t534391\r\n",
        "5024000\t534472\r\n"
       ]
      },
      {
       "output_type": "stream",
       "stream": "stdout",
       "text": [
        "5025000\t534550\r\n",
        "5026000\t534642\r\n",
        "5027000\t534721\r\n"
       ]
      },
      {
       "output_type": "stream",
       "stream": "stdout",
       "text": [
        "5028000\t534802\r\n",
        "5029000\t534880\r\n",
        "5030000\t534950\r\n",
        "5031000\t535013\r\n"
       ]
      },
      {
       "output_type": "stream",
       "stream": "stdout",
       "text": [
        "5032000\t535100\r\n",
        "5033000\t535183\r\n",
        "5034000\t535267\r\n"
       ]
      },
      {
       "output_type": "stream",
       "stream": "stdout",
       "text": [
        "5035000\t535337\r\n",
        "5036000\t535404\r\n",
        "5037000\t535467\r\n",
        "5038000\t535544\r\n"
       ]
      },
      {
       "output_type": "stream",
       "stream": "stdout",
       "text": [
        "5039000\t535623\r\n",
        "5040000\t535692\r\n",
        "5041000\t535770\r\n"
       ]
      },
      {
       "output_type": "stream",
       "stream": "stdout",
       "text": [
        "5042000\t535853\r\n",
        "5043000\t535925\r\n",
        "5044000\t536001\r\n"
       ]
      },
      {
       "output_type": "stream",
       "stream": "stdout",
       "text": [
        "5045000\t536076\r\n",
        "5046000\t536163\r\n",
        "5047000\t536239\r\n",
        "5048000\t536315\r\n"
       ]
      },
      {
       "output_type": "stream",
       "stream": "stdout",
       "text": [
        "5049000\t536385\r\n",
        "5050000\t536467\r\n",
        "5051000\t536529\r\n"
       ]
      },
      {
       "output_type": "stream",
       "stream": "stdout",
       "text": [
        "5052000\t536602\r\n",
        "5053000\t536677\r\n",
        "5054000\t536756\r\n",
        "5055000\t536827\r\n"
       ]
      },
      {
       "output_type": "stream",
       "stream": "stdout",
       "text": [
        "5056000\t536901\r\n",
        "5057000\t536981\r\n",
        "5058000\t537064\r\n"
       ]
      },
      {
       "output_type": "stream",
       "stream": "stdout",
       "text": [
        "5059000\t537133\r\n",
        "5060000\t537216\r\n",
        "5061000\t537303\r\n",
        "5062000\t537382\r\n"
       ]
      },
      {
       "output_type": "stream",
       "stream": "stdout",
       "text": [
        "5063000\t537450\r\n",
        "5064000\t537509\r\n",
        "5065000\t537587\r\n"
       ]
      },
      {
       "output_type": "stream",
       "stream": "stdout",
       "text": [
        "5066000\t537659\r\n",
        "5067000\t537735\r\n",
        "5068000\t537802\r\n",
        "5069000\t537867\r\n"
       ]
      },
      {
       "output_type": "stream",
       "stream": "stdout",
       "text": [
        "5070000\t537939\r\n",
        "5071000\t538021\r\n",
        "5072000\t538100\r\n"
       ]
      },
      {
       "output_type": "stream",
       "stream": "stdout",
       "text": [
        "5073000\t538191\r\n",
        "5074000\t538268\r\n",
        "5075000\t538361\r\n",
        "5076000\t538444\r\n"
       ]
      },
      {
       "output_type": "stream",
       "stream": "stdout",
       "text": [
        "5077000\t538518\r\n",
        "5078000\t538602\r\n",
        "5079000\t538669\r\n"
       ]
      },
      {
       "output_type": "stream",
       "stream": "stdout",
       "text": [
        "5080000\t538751\r\n",
        "5081000\t538816\r\n",
        "5082000\t538889\r\n"
       ]
      },
      {
       "output_type": "stream",
       "stream": "stdout",
       "text": [
        "5083000\t538956\r\n",
        "5084000\t539046\r\n",
        "5085000\t539129\r\n",
        "5086000\t539208\r\n"
       ]
      },
      {
       "output_type": "stream",
       "stream": "stdout",
       "text": [
        "5087000\t539286\r\n",
        "5088000\t539358\r\n",
        "5089000\t539441\r\n"
       ]
      },
      {
       "output_type": "stream",
       "stream": "stdout",
       "text": [
        "5090000\t539512\r\n",
        "5091000\t539593\r\n",
        "5092000\t539662\r\n",
        "5093000\t539775\r\n"
       ]
      },
      {
       "output_type": "stream",
       "stream": "stdout",
       "text": [
        "5094000\t539850\r\n",
        "5095000\t539949\r\n",
        "5096000\t540032\r\n"
       ]
      },
      {
       "output_type": "stream",
       "stream": "stdout",
       "text": [
        "5097000\t540108\r\n",
        "5098000\t540197\r\n",
        "5099000\t540279\r\n",
        "5100000\t540365\r\n"
       ]
      },
      {
       "output_type": "stream",
       "stream": "stdout",
       "text": [
        "5101000\t540438\r\n",
        "5102000\t540497\r\n",
        "5103000\t540584\r\n"
       ]
      },
      {
       "output_type": "stream",
       "stream": "stdout",
       "text": [
        "5104000\t540660\r\n",
        "5105000\t540748\r\n",
        "5106000\t540827\r\n",
        "5107000\t540915\r\n"
       ]
      },
      {
       "output_type": "stream",
       "stream": "stdout",
       "text": [
        "5108000\t541016\r\n",
        "5109000\t541110\r\n",
        "5110000\t541201\r\n"
       ]
      },
      {
       "output_type": "stream",
       "stream": "stdout",
       "text": [
        "5111000\t541303\r\n",
        "5112000\t541383\r\n",
        "5113000\t541463\r\n"
       ]
      },
      {
       "output_type": "stream",
       "stream": "stdout",
       "text": [
        "5114000\t541554\r\n",
        "5115000\t541639\r\n",
        "5116000\t541717\r\n",
        "5117000\t541786\r\n"
       ]
      },
      {
       "output_type": "stream",
       "stream": "stdout",
       "text": [
        "5118000\t541852\r\n",
        "5119000\t541937\r\n",
        "5120000\t542022\r\n"
       ]
      },
      {
       "output_type": "stream",
       "stream": "stdout",
       "text": [
        "5121000\t542100\r\n",
        "5122000\t542166\r\n",
        "5123000\t542238\r\n",
        "5124000\t542312\r\n"
       ]
      },
      {
       "output_type": "stream",
       "stream": "stdout",
       "text": [
        "5125000\t542385\r\n",
        "5126000\t542462\r\n",
        "5127000\t542534\r\n"
       ]
      },
      {
       "output_type": "stream",
       "stream": "stdout",
       "text": [
        "5128000\t542614\r\n",
        "5129000\t542688\r\n",
        "5130000\t542774\r\n",
        "5131000\t542873\r\n"
       ]
      },
      {
       "output_type": "stream",
       "stream": "stdout",
       "text": [
        "5132000\t542952\r\n",
        "5133000\t543045\r\n",
        "5134000\t543127\r\n"
       ]
      },
      {
       "output_type": "stream",
       "stream": "stdout",
       "text": [
        "5135000\t543197\r\n",
        "5136000\t543286\r\n",
        "5137000\t543364\r\n"
       ]
      },
      {
       "output_type": "stream",
       "stream": "stdout",
       "text": [
        "5138000\t543458\r\n",
        "5139000\t543560\r\n",
        "5140000\t543625\r\n",
        "5141000\t543719\r\n"
       ]
      },
      {
       "output_type": "stream",
       "stream": "stdout",
       "text": [
        "5142000\t543787\r\n",
        "5143000\t543852\r\n",
        "5144000\t543915\r\n"
       ]
      },
      {
       "output_type": "stream",
       "stream": "stdout",
       "text": [
        "5145000\t543993\r\n",
        "5146000\t544062\r\n",
        "5147000\t544122\r\n",
        "5148000\t544199\r\n"
       ]
      },
      {
       "output_type": "stream",
       "stream": "stdout",
       "text": [
        "5149000\t544286\r\n",
        "5150000\t544370\r\n",
        "5151000\t544436\r\n"
       ]
      },
      {
       "output_type": "stream",
       "stream": "stdout",
       "text": [
        "5152000\t544504\r\n",
        "5153000\t544584\r\n",
        "5154000\t544652\r\n"
       ]
      },
      {
       "output_type": "stream",
       "stream": "stdout",
       "text": [
        "5155000\t544737\r\n",
        "5156000\t544821\r\n",
        "5157000\t544885\r\n",
        "5158000\t544957\r\n"
       ]
      },
      {
       "output_type": "stream",
       "stream": "stdout",
       "text": [
        "5159000\t545034\r\n",
        "5160000\t545110\r\n",
        "5161000\t545180\r\n"
       ]
      },
      {
       "output_type": "stream",
       "stream": "stdout",
       "text": [
        "5162000\t545264\r\n",
        "5163000\t545333\r\n",
        "5164000\t545412\r\n",
        "5165000\t545486\r\n"
       ]
      },
      {
       "output_type": "stream",
       "stream": "stdout",
       "text": [
        "5166000\t545549\r\n",
        "5167000\t545626\r\n",
        "5168000\t545700\r\n"
       ]
      },
      {
       "output_type": "stream",
       "stream": "stdout",
       "text": [
        "5169000\t545794\r\n",
        "5170000\t545875\r\n",
        "5171000\t545944\r\n",
        "5172000\t546031\r\n"
       ]
      },
      {
       "output_type": "stream",
       "stream": "stdout",
       "text": [
        "5173000\t546123\r\n",
        "5174000\t546212\r\n",
        "5175000\t546295\r\n"
       ]
      },
      {
       "output_type": "stream",
       "stream": "stdout",
       "text": [
        "5176000\t546384\r\n",
        "5177000\t546467\r\n",
        "5178000\t546540\r\n"
       ]
      },
      {
       "output_type": "stream",
       "stream": "stdout",
       "text": [
        "5179000\t546622\r\n",
        "5180000\t546691\r\n",
        "5181000\t546766\r\n",
        "5182000\t546851\r\n"
       ]
      },
      {
       "output_type": "stream",
       "stream": "stdout",
       "text": [
        "5183000\t546930\r\n",
        "5184000\t546992\r\n",
        "5185000\t547068\r\n"
       ]
      },
      {
       "output_type": "stream",
       "stream": "stdout",
       "text": [
        "5186000\t547142\r\n",
        "5187000\t547222\r\n",
        "5188000\t547312\r\n",
        "5189000\t547389\r\n"
       ]
      },
      {
       "output_type": "stream",
       "stream": "stdout",
       "text": [
        "5190000\t547460\r\n",
        "5191000\t547530\r\n",
        "5192000\t547599\r\n"
       ]
      },
      {
       "output_type": "stream",
       "stream": "stdout",
       "text": [
        "5193000\t547673\r\n",
        "5194000\t547762\r\n",
        "5195000\t547848\r\n",
        "5196000\t547904\r\n"
       ]
      },
      {
       "output_type": "stream",
       "stream": "stdout",
       "text": [
        "5197000\t547986\r\n",
        "5198000\t548061\r\n",
        "5199000\t548131\r\n"
       ]
      },
      {
       "output_type": "stream",
       "stream": "stdout",
       "text": [
        "5200000\t548214\r\n",
        "5201000\t548286\r\n",
        "5202000\t548352\r\n",
        "5203000\t548428\r\n"
       ]
      },
      {
       "output_type": "stream",
       "stream": "stdout",
       "text": [
        "5204000\t548491\r\n",
        "5205000\t548557\r\n",
        "5206000\t548630\r\n"
       ]
      },
      {
       "output_type": "stream",
       "stream": "stdout",
       "text": [
        "5207000\t548701\r\n",
        "5208000\t548787\r\n",
        "5209000\t548860\r\n"
       ]
      },
      {
       "output_type": "stream",
       "stream": "stdout",
       "text": [
        "5210000\t548921\r\n",
        "5211000\t548993\r\n",
        "5212000\t549070\r\n",
        "5213000\t549136\r\n"
       ]
      },
      {
       "output_type": "stream",
       "stream": "stdout",
       "text": [
        "5214000\t549192\r\n",
        "5215000\t549259\r\n",
        "5216000\t549348\r\n"
       ]
      },
      {
       "output_type": "stream",
       "stream": "stdout",
       "text": [
        "5217000\t549423\r\n",
        "5218000\t549498\r\n",
        "5219000\t549580\r\n",
        "5220000\t549652\r\n"
       ]
      },
      {
       "output_type": "stream",
       "stream": "stdout",
       "text": [
        "5221000\t549726\r\n",
        "5222000\t549793\r\n",
        "5223000\t549867\r\n"
       ]
      },
      {
       "output_type": "stream",
       "stream": "stdout",
       "text": [
        "5224000\t549944\r\n",
        "5225000\t550019\r\n",
        "5226000\t550076\r\n",
        "5227000\t550148\r\n"
       ]
      },
      {
       "output_type": "stream",
       "stream": "stdout",
       "text": [
        "5228000\t550216\r\n",
        "5229000\t550287\r\n",
        "5230000\t550356\r\n"
       ]
      },
      {
       "output_type": "stream",
       "stream": "stdout",
       "text": [
        "5231000\t550434\r\n",
        "5232000\t550521\r\n",
        "5233000\t550595\r\n"
       ]
      },
      {
       "output_type": "stream",
       "stream": "stdout",
       "text": [
        "5234000\t550668\r\n",
        "5235000\t550733\r\n",
        "5236000\t550799\r\n",
        "5237000\t550875\r\n"
       ]
      },
      {
       "output_type": "stream",
       "stream": "stdout",
       "text": [
        "5238000\t550962\r\n",
        "5239000\t551034\r\n",
        "5240000\t551111\r\n"
       ]
      },
      {
       "output_type": "stream",
       "stream": "stdout",
       "text": [
        "5241000\t551192\r\n",
        "5242000\t551261\r\n",
        "5243000\t551320\r\n",
        "5244000\t551389\r\n"
       ]
      },
      {
       "output_type": "stream",
       "stream": "stdout",
       "text": [
        "5245000\t551455\r\n",
        "5246000\t551532\r\n",
        "5247000\t551603\r\n"
       ]
      },
      {
       "output_type": "stream",
       "stream": "stdout",
       "text": [
        "5248000\t551686\r\n",
        "5249000\t551768\r\n",
        "5250000\t551857\r\n",
        "5251000\t551939\r\n"
       ]
      },
      {
       "output_type": "stream",
       "stream": "stdout",
       "text": [
        "5252000\t552019\r\n",
        "5253000\t552096\r\n",
        "5254000\t552164\r\n"
       ]
      },
      {
       "output_type": "stream",
       "stream": "stdout",
       "text": [
        "5255000\t552242\r\n",
        "5256000\t552320\r\n",
        "5257000\t552389\r\n"
       ]
      },
      {
       "output_type": "stream",
       "stream": "stdout",
       "text": [
        "5258000\t552454\r\n",
        "5259000\t552526\r\n",
        "5260000\t552600\r\n",
        "5261000\t552683\r\n"
       ]
      },
      {
       "output_type": "stream",
       "stream": "stdout",
       "text": [
        "5262000\t552758\r\n",
        "5263000\t552822\r\n",
        "5264000\t552905\r\n"
       ]
      },
      {
       "output_type": "stream",
       "stream": "stdout",
       "text": [
        "5265000\t552970\r\n",
        "5266000\t553041\r\n",
        "5267000\t553116\r\n",
        "5268000\t553177\r\n"
       ]
      },
      {
       "output_type": "stream",
       "stream": "stdout",
       "text": [
        "5269000\t553254\r\n",
        "5270000\t553317\r\n",
        "5271000\t553388\r\n"
       ]
      },
      {
       "output_type": "stream",
       "stream": "stdout",
       "text": [
        "5272000\t553458\r\n",
        "5273000\t553526\r\n",
        "5274000\t553602\r\n",
        "5275000\t553683\r\n"
       ]
      },
      {
       "output_type": "stream",
       "stream": "stdout",
       "text": [
        "5276000\t553761\r\n",
        "5277000\t553844\r\n",
        "5278000\t553923\r\n"
       ]
      },
      {
       "output_type": "stream",
       "stream": "stdout",
       "text": [
        "5279000\t554002\r\n",
        "5280000\t554085\r\n",
        "5281000\t554149\r\n"
       ]
      },
      {
       "output_type": "stream",
       "stream": "stdout",
       "text": [
        "5282000\t554235\r\n",
        "5283000\t554304\r\n",
        "5284000\t554381\r\n",
        "5285000\t554451\r\n"
       ]
      },
      {
       "output_type": "stream",
       "stream": "stdout",
       "text": [
        "5286000\t554518\r\n",
        "5287000\t554593\r\n",
        "5288000\t554687\r\n"
       ]
      },
      {
       "output_type": "stream",
       "stream": "stdout",
       "text": [
        "5289000\t554761\r\n",
        "5290000\t554853\r\n",
        "5291000\t554929\r\n",
        "5292000\t555009\r\n"
       ]
      },
      {
       "output_type": "stream",
       "stream": "stdout",
       "text": [
        "5293000\t555077\r\n",
        "5294000\t555161\r\n",
        "5295000\t555242\r\n"
       ]
      },
      {
       "output_type": "stream",
       "stream": "stdout",
       "text": [
        "5296000\t555325\r\n",
        "5297000\t555400\r\n",
        "5298000\t555484\r\n",
        "5299000\t555564\r\n"
       ]
      },
      {
       "output_type": "stream",
       "stream": "stdout",
       "text": [
        "5300000\t555626\r\n",
        "5301000\t555717\r\n",
        "5302000\t555784\r\n"
       ]
      },
      {
       "output_type": "stream",
       "stream": "stdout",
       "text": [
        "5303000\t555850\r\n",
        "5304000\t555919\r\n",
        "5305000\t556003\r\n"
       ]
      },
      {
       "output_type": "stream",
       "stream": "stdout",
       "text": [
        "5306000\t556087\r\n",
        "5307000\t556176\r\n",
        "5308000\t556252\r\n",
        "5309000\t556325\r\n"
       ]
      },
      {
       "output_type": "stream",
       "stream": "stdout",
       "text": [
        "5310000\t556402\r\n",
        "5311000\t556476\r\n",
        "5312000\t556548\r\n"
       ]
      },
      {
       "output_type": "stream",
       "stream": "stdout",
       "text": [
        "5313000\t556628\r\n",
        "5314000\t556718\r\n",
        "5315000\t556792\r\n",
        "5316000\t556855\r\n"
       ]
      },
      {
       "output_type": "stream",
       "stream": "stdout",
       "text": [
        "5317000\t556931\r\n",
        "5318000\t557009\r\n",
        "5319000\t557085\r\n"
       ]
      },
      {
       "output_type": "stream",
       "stream": "stdout",
       "text": [
        "5320000\t557154\r\n",
        "5321000\t557220\r\n",
        "5322000\t557312\r\n",
        "5323000\t557379\r\n"
       ]
      },
      {
       "output_type": "stream",
       "stream": "stdout",
       "text": [
        "5324000\t557454\r\n",
        "5325000\t557520\r\n",
        "5326000\t557608\r\n"
       ]
      },
      {
       "output_type": "stream",
       "stream": "stdout",
       "text": [
        "5327000\t557698\r\n",
        "5328000\t557776\r\n",
        "5329000\t557851\r\n",
        "5330000\t557949\r\n"
       ]
      },
      {
       "output_type": "stream",
       "stream": "stdout",
       "text": [
        "5331000\t558025\r\n",
        "5332000\t558110\r\n",
        "5333000\t558176\r\n"
       ]
      },
      {
       "output_type": "stream",
       "stream": "stdout",
       "text": [
        "5334000\t558247\r\n",
        "5335000\t558333\r\n",
        "5336000\t558399\r\n"
       ]
      },
      {
       "output_type": "stream",
       "stream": "stdout",
       "text": [
        "5337000\t558478\r\n",
        "5338000\t558563\r\n",
        "5339000\t558643\r\n",
        "5340000\t558727\r\n"
       ]
      },
      {
       "output_type": "stream",
       "stream": "stdout",
       "text": [
        "5341000\t558811\r\n",
        "5342000\t558894\r\n",
        "5343000\t558986\r\n"
       ]
      },
      {
       "output_type": "stream",
       "stream": "stdout",
       "text": [
        "5344000\t559076\r\n",
        "5345000\t559165\r\n",
        "5346000\t559248\r\n"
       ]
      },
      {
       "output_type": "stream",
       "stream": "stdout",
       "text": [
        "5347000\t559335\r\n",
        "5348000\t559432\r\n",
        "5349000\t559546\r\n",
        "5350000\t559634\r\n"
       ]
      },
      {
       "output_type": "stream",
       "stream": "stdout",
       "text": [
        "5351000\t559714\r\n",
        "5352000\t559802\r\n",
        "5353000\t559912\r\n"
       ]
      },
      {
       "output_type": "stream",
       "stream": "stdout",
       "text": [
        "5354000\t560007\r\n",
        "5355000\t560096\r\n",
        "5356000\t560190\r\n",
        "5357000\t560283\r\n"
       ]
      },
      {
       "output_type": "stream",
       "stream": "stdout",
       "text": [
        "5358000\t560396\r\n",
        "5359000\t560497\r\n",
        "5360000\t560603\r\n"
       ]
      },
      {
       "output_type": "stream",
       "stream": "stdout",
       "text": [
        "5361000\t560696\r\n",
        "5362000\t560803\r\n",
        "5363000\t560920\r\n"
       ]
      },
      {
       "output_type": "stream",
       "stream": "stdout",
       "text": [
        "5364000\t561039\r\n",
        "5365000\t561164\r\n",
        "5366000\t561286\r\n",
        "5367000\t561436\r\n"
       ]
      },
      {
       "output_type": "stream",
       "stream": "stdout",
       "text": [
        "5368000\t561560\r\n",
        "5369000\t561703\r\n",
        "5370000\t561834\r\n"
       ]
      },
      {
       "output_type": "stream",
       "stream": "stdout",
       "text": [
        "5371000\t561952\r\n",
        "5372000\t562090\r\n",
        "5373000\t562233\r\n",
        "5374000\t562362\r\n"
       ]
      },
      {
       "output_type": "stream",
       "stream": "stdout",
       "text": [
        "5375000\t562508\r\n",
        "5376000\t562655\r\n",
        "5377000\t562793\r\n"
       ]
      },
      {
       "output_type": "stream",
       "stream": "stdout",
       "text": [
        "5378000\t562922\r\n",
        "5379000\t563042\r\n",
        "5380000\t563148\r\n"
       ]
      },
      {
       "output_type": "stream",
       "stream": "stdout",
       "text": [
        "5381000\t563264\r\n",
        "5382000\t563385\r\n",
        "5383000\t563482\r\n",
        "5384000\t563587\r\n"
       ]
      },
      {
       "output_type": "stream",
       "stream": "stdout",
       "text": [
        "5385000\t563692\r\n",
        "5386000\t563797\r\n",
        "5387000\t563895\r\n"
       ]
      },
      {
       "output_type": "stream",
       "stream": "stdout",
       "text": [
        "5388000\t563988\r\n",
        "5389000\t564076\r\n",
        "5390000\t564162\r\n",
        "5391000\t564266\r\n"
       ]
      },
      {
       "output_type": "stream",
       "stream": "stdout",
       "text": [
        "5392000\t564343\r\n",
        "5393000\t564418\r\n",
        "5394000\t564485\r\n"
       ]
      },
      {
       "output_type": "stream",
       "stream": "stdout",
       "text": [
        "5395000\t564564\r\n",
        "5396000\t564633\r\n",
        "5397000\t564706\r\n"
       ]
      },
      {
       "output_type": "stream",
       "stream": "stdout",
       "text": [
        "5398000\t564779\r\n",
        "5399000\t564858\r\n",
        "5400000\t564945\r\n",
        "5401000\t565013\r\n"
       ]
      },
      {
       "output_type": "stream",
       "stream": "stdout",
       "text": [
        "5402000\t565083\r\n",
        "5403000\t565151\r\n",
        "5404000\t565216\r\n"
       ]
      },
      {
       "output_type": "stream",
       "stream": "stdout",
       "text": [
        "5405000\t565274\r\n",
        "5406000\t565343\r\n",
        "5407000\t565411\r\n",
        "5408000\t565477\r\n"
       ]
      },
      {
       "output_type": "stream",
       "stream": "stdout",
       "text": [
        "5409000\t565550\r\n",
        "5410000\t565620\r\n",
        "5411000\t565706\r\n"
       ]
      },
      {
       "output_type": "stream",
       "stream": "stdout",
       "text": [
        "5412000\t565787\r\n",
        "5413000\t565847\r\n",
        "5414000\t565926\r\n",
        "5415000\t566006\r\n"
       ]
      },
      {
       "output_type": "stream",
       "stream": "stdout",
       "text": [
        "5416000\t566072\r\n",
        "5417000\t566152\r\n",
        "5418000\t566219\r\n"
       ]
      },
      {
       "output_type": "stream",
       "stream": "stdout",
       "text": [
        "5419000\t566282\r\n",
        "5420000\t566348\r\n",
        "5421000\t566437\r\n",
        "5422000\t566511\r\n"
       ]
      },
      {
       "output_type": "stream",
       "stream": "stdout",
       "text": [
        "5423000\t566590\r\n",
        "5424000\t566670\r\n",
        "5425000\t566750\r\n"
       ]
      },
      {
       "output_type": "stream",
       "stream": "stdout",
       "text": [
        "5426000\t566818\r\n",
        "5427000\t566899\r\n",
        "5428000\t566980\r\n"
       ]
      },
      {
       "output_type": "stream",
       "stream": "stdout",
       "text": [
        "5429000\t567037\r\n",
        "5430000\t567103\r\n",
        "5431000\t567177\r\n",
        "5432000\t567264\r\n"
       ]
      },
      {
       "output_type": "stream",
       "stream": "stdout",
       "text": [
        "5433000\t567337\r\n",
        "5434000\t567405\r\n",
        "5435000\t567473\r\n"
       ]
      },
      {
       "output_type": "stream",
       "stream": "stdout",
       "text": [
        "5436000\t567546\r\n",
        "5437000\t567618\r\n",
        "5438000\t567665\r\n",
        "5439000\t567751\r\n"
       ]
      },
      {
       "output_type": "stream",
       "stream": "stdout",
       "text": [
        "5440000\t567815\r\n",
        "5441000\t567882\r\n",
        "5442000\t567947\r\n"
       ]
      },
      {
       "output_type": "stream",
       "stream": "stdout",
       "text": [
        "5443000\t568024\r\n",
        "5444000\t568091\r\n",
        "5445000\t568157\r\n"
       ]
      },
      {
       "output_type": "stream",
       "stream": "stdout",
       "text": [
        "5446000\t568246\r\n",
        "5447000\t568308\r\n",
        "5448000\t568386\r\n",
        "5449000\t568471\r\n"
       ]
      },
      {
       "output_type": "stream",
       "stream": "stdout",
       "text": [
        "5450000\t568552\r\n",
        "5451000\t568620\r\n",
        "5452000\t568684\r\n"
       ]
      },
      {
       "output_type": "stream",
       "stream": "stdout",
       "text": [
        "5453000\t568760\r\n",
        "5454000\t568835\r\n",
        "5455000\t568911\r\n",
        "5456000\t568991\r\n"
       ]
      },
      {
       "output_type": "stream",
       "stream": "stdout",
       "text": [
        "5457000\t569061\r\n",
        "5458000\t569132\r\n",
        "5459000\t569201\r\n"
       ]
      },
      {
       "output_type": "stream",
       "stream": "stdout",
       "text": [
        "5460000\t569281\r\n",
        "5461000\t569356\r\n",
        "5462000\t569434\r\n",
        "5463000\t569514\r\n"
       ]
      },
      {
       "output_type": "stream",
       "stream": "stdout",
       "text": [
        "5464000\t569572\r\n",
        "5465000\t569639\r\n",
        "5466000\t569716\r\n"
       ]
      },
      {
       "output_type": "stream",
       "stream": "stdout",
       "text": [
        "5467000\t569797\r\n",
        "5468000\t569856\r\n",
        "5469000\t569926\r\n",
        "5470000\t569996\r\n"
       ]
      },
      {
       "output_type": "stream",
       "stream": "stdout",
       "text": [
        "5471000\t570063\r\n",
        "5472000\t570146\r\n",
        "5473000\t570217\r\n"
       ]
      },
      {
       "output_type": "stream",
       "stream": "stdout",
       "text": [
        "5474000\t570280\r\n",
        "5475000\t570338\r\n",
        "5476000\t570399\r\n"
       ]
      },
      {
       "output_type": "stream",
       "stream": "stdout",
       "text": [
        "5477000\t570470\r\n",
        "5478000\t570535\r\n",
        "5479000\t570626\r\n",
        "5480000\t570702\r\n"
       ]
      },
      {
       "output_type": "stream",
       "stream": "stdout",
       "text": [
        "5481000\t570773\r\n",
        "5482000\t570843\r\n",
        "5483000\t570911\r\n"
       ]
      },
      {
       "output_type": "stream",
       "stream": "stdout",
       "text": [
        "5484000\t570986\r\n",
        "5485000\t571063\r\n",
        "5486000\t571146\r\n",
        "5487000\t571228\r\n"
       ]
      },
      {
       "output_type": "stream",
       "stream": "stdout",
       "text": [
        "5488000\t571301\r\n",
        "5489000\t571366\r\n",
        "5490000\t571450\r\n"
       ]
      },
      {
       "output_type": "stream",
       "stream": "stdout",
       "text": [
        "5491000\t571523\r\n",
        "5492000\t571606\r\n",
        "5493000\t571659\r\n",
        "5494000\t571726\r\n"
       ]
      },
      {
       "output_type": "stream",
       "stream": "stdout",
       "text": [
        "5495000\t571776\r\n",
        "5496000\t571833\r\n",
        "5497000\t571919\r\n"
       ]
      },
      {
       "output_type": "stream",
       "stream": "stdout",
       "text": [
        "5498000\t572003\r\n",
        "5499000\t572071\r\n",
        "5500000\t572146\r\n"
       ]
      },
      {
       "output_type": "stream",
       "stream": "stdout",
       "text": [
        "5501000\t572215\r\n",
        "5502000\t572290\r\n",
        "5503000\t572362\r\n",
        "5504000\t572439\r\n"
       ]
      },
      {
       "output_type": "stream",
       "stream": "stdout",
       "text": [
        "5505000\t572506\r\n",
        "5506000\t572579\r\n",
        "5507000\t572646\r\n"
       ]
      },
      {
       "output_type": "stream",
       "stream": "stdout",
       "text": [
        "5508000\t572712\r\n",
        "5509000\t572804\r\n",
        "5510000\t572874\r\n",
        "5511000\t572951\r\n"
       ]
      },
      {
       "output_type": "stream",
       "stream": "stdout",
       "text": [
        "5512000\t573035\r\n",
        "5513000\t573103\r\n",
        "5514000\t573176\r\n"
       ]
      },
      {
       "output_type": "stream",
       "stream": "stdout",
       "text": [
        "5515000\t573238\r\n",
        "5516000\t573293\r\n",
        "5517000\t573354\r\n",
        "5518000\t573422\r\n"
       ]
      },
      {
       "output_type": "stream",
       "stream": "stdout",
       "text": [
        "5519000\t573481\r\n",
        "5520000\t573543\r\n",
        "5521000\t573613\r\n"
       ]
      },
      {
       "output_type": "stream",
       "stream": "stdout",
       "text": [
        "5522000\t573683\r\n",
        "5523000\t573754\r\n",
        "5524000\t573825\r\n",
        "5525000\t573911\r\n"
       ]
      },
      {
       "output_type": "stream",
       "stream": "stdout",
       "text": [
        "5526000\t573966\r\n",
        "5527000\t574034\r\n",
        "5528000\t574112\r\n"
       ]
      },
      {
       "output_type": "stream",
       "stream": "stdout",
       "text": [
        "5529000\t574180\r\n",
        "5530000\t574256\r\n",
        "5531000\t574325\r\n"
       ]
      },
      {
       "output_type": "stream",
       "stream": "stdout",
       "text": [
        "5532000\t574403\r\n",
        "5533000\t574464\r\n",
        "5534000\t574529\r\n",
        "5535000\t574611\r\n"
       ]
      },
      {
       "output_type": "stream",
       "stream": "stdout",
       "text": [
        "5536000\t574683\r\n",
        "5537000\t574748\r\n",
        "5538000\t574811\r\n"
       ]
      },
      {
       "output_type": "stream",
       "stream": "stdout",
       "text": [
        "5539000\t574866\r\n",
        "5540000\t574929\r\n",
        "5541000\t574988\r\n",
        "5542000\t575054\r\n"
       ]
      },
      {
       "output_type": "stream",
       "stream": "stdout",
       "text": [
        "5543000\t575127\r\n",
        "5544000\t575199\r\n",
        "5545000\t575282\r\n"
       ]
      },
      {
       "output_type": "stream",
       "stream": "stdout",
       "text": [
        "5546000\t575348\r\n",
        "5547000\t575431\r\n",
        "5548000\t575498\r\n"
       ]
      },
      {
       "output_type": "stream",
       "stream": "stdout",
       "text": [
        "5549000\t575575\r\n",
        "5550000\t575648\r\n",
        "5551000\t575713\r\n",
        "5552000\t575778\r\n"
       ]
      },
      {
       "output_type": "stream",
       "stream": "stdout",
       "text": [
        "5553000\t575857\r\n",
        "5554000\t575931\r\n",
        "5555000\t576006\r\n"
       ]
      },
      {
       "output_type": "stream",
       "stream": "stdout",
       "text": [
        "5556000\t576073\r\n",
        "5557000\t576143\r\n",
        "5558000\t576217\r\n",
        "5559000\t576291\r\n"
       ]
      },
      {
       "output_type": "stream",
       "stream": "stdout",
       "text": [
        "5560000\t576357\r\n",
        "5561000\t576430\r\n",
        "5562000\t576507\r\n"
       ]
      },
      {
       "output_type": "stream",
       "stream": "stdout",
       "text": [
        "5563000\t576576\r\n",
        "5564000\t576644\r\n",
        "5565000\t576709\r\n"
       ]
      },
      {
       "output_type": "stream",
       "stream": "stdout",
       "text": [
        "5566000\t576793\r\n",
        "5567000\t576866\r\n",
        "5568000\t576937\r\n",
        "5569000\t577016\r\n"
       ]
      },
      {
       "output_type": "stream",
       "stream": "stdout",
       "text": [
        "5570000\t577074\r\n",
        "5571000\t577143\r\n",
        "5572000\t577212\r\n"
       ]
      },
      {
       "output_type": "stream",
       "stream": "stdout",
       "text": [
        "5573000\t577285\r\n",
        "5574000\t577356\r\n",
        "5575000\t577417\r\n",
        "5576000\t577494\r\n"
       ]
      },
      {
       "output_type": "stream",
       "stream": "stdout",
       "text": [
        "5577000\t577556\r\n",
        "5578000\t577627\r\n",
        "5579000\t577708\r\n"
       ]
      },
      {
       "output_type": "stream",
       "stream": "stdout",
       "text": [
        "5580000\t577773\r\n",
        "5581000\t577837\r\n",
        "5582000\t577916\r\n",
        "5583000\t577988\r\n"
       ]
      },
      {
       "output_type": "stream",
       "stream": "stdout",
       "text": [
        "5584000\t578065\r\n",
        "5585000\t578149\r\n",
        "5586000\t578229\r\n"
       ]
      },
      {
       "output_type": "stream",
       "stream": "stdout",
       "text": [
        "5587000\t578294\r\n",
        "5588000\t578354\r\n",
        "5589000\t578426\r\n",
        "5590000\t578481\r\n"
       ]
      },
      {
       "output_type": "stream",
       "stream": "stdout",
       "text": [
        "5591000\t578555\r\n",
        "5592000\t578629\r\n",
        "5593000\t578682\r\n"
       ]
      },
      {
       "output_type": "stream",
       "stream": "stdout",
       "text": [
        "5594000\t578760\r\n",
        "5595000\t578825\r\n",
        "5596000\t578895\r\n",
        "5597000\t578972\r\n"
       ]
      },
      {
       "output_type": "stream",
       "stream": "stdout",
       "text": [
        "5598000\t579037\r\n",
        "5599000\t579123\r\n",
        "5600000\t579205\r\n"
       ]
      },
      {
       "output_type": "stream",
       "stream": "stdout",
       "text": [
        "5601000\t579280\r\n",
        "5602000\t579357\r\n",
        "5603000\t579427\r\n"
       ]
      },
      {
       "output_type": "stream",
       "stream": "stdout",
       "text": [
        "5604000\t579509\r\n",
        "5605000\t579583\r\n",
        "5606000\t579663\r\n",
        "5607000\t579750\r\n"
       ]
      },
      {
       "output_type": "stream",
       "stream": "stdout",
       "text": [
        "5608000\t579854\r\n",
        "5609000\t579971\r\n",
        "5610000\t580076\r\n"
       ]
      },
      {
       "output_type": "stream",
       "stream": "stdout",
       "text": [
        "5611000\t580155\r\n",
        "5612000\t580241\r\n",
        "5613000\t580328\r\n",
        "5614000\t580408\r\n"
       ]
      },
      {
       "output_type": "stream",
       "stream": "stdout",
       "text": [
        "5615000\t580483\r\n",
        "5616000\t580570\r\n",
        "5617000\t580679\r\n"
       ]
      },
      {
       "output_type": "stream",
       "stream": "stdout",
       "text": [
        "5618000\t580766\r\n",
        "5619000\t580884\r\n",
        "5620000\t580977\r\n",
        "5621000\t581080\r\n"
       ]
      },
      {
       "output_type": "stream",
       "stream": "stdout",
       "text": [
        "5622000\t581179\r\n",
        "5623000\t581269\r\n",
        "5624000\t581376\r\n"
       ]
      },
      {
       "output_type": "stream",
       "stream": "stdout",
       "text": [
        "5625000\t581490\r\n",
        "5626000\t581590\r\n",
        "5627000\t581690\r\n"
       ]
      },
      {
       "output_type": "stream",
       "stream": "stdout",
       "text": [
        "5628000\t581802\r\n",
        "5629000\t581909\r\n",
        "5630000\t582039\r\n",
        "5631000\t582176\r\n"
       ]
      },
      {
       "output_type": "stream",
       "stream": "stdout",
       "text": [
        "5632000\t582303\r\n",
        "5633000\t582420\r\n",
        "5634000\t582543\r\n"
       ]
      },
      {
       "output_type": "stream",
       "stream": "stdout",
       "text": [
        "5635000\t582675\r\n",
        "5636000\t582822\r\n",
        "5637000\t582939\r\n",
        "5638000\t583051\r\n"
       ]
      },
      {
       "output_type": "stream",
       "stream": "stdout",
       "text": [
        "5639000\t583180\r\n",
        "5640000\t583295\r\n",
        "5641000\t583411\r\n"
       ]
      },
      {
       "output_type": "stream",
       "stream": "stdout",
       "text": [
        "5642000\t583517\r\n",
        "5643000\t583619\r\n",
        "5644000\t583739\r\n"
       ]
      },
      {
       "output_type": "stream",
       "stream": "stdout",
       "text": [
        "5645000\t583851\r\n",
        "5646000\t583967\r\n",
        "5647000\t584086\r\n",
        "5648000\t584180\r\n"
       ]
      },
      {
       "output_type": "stream",
       "stream": "stdout",
       "text": [
        "5649000\t584276\r\n",
        "5650000\t584369\r\n",
        "5651000\t584464\r\n"
       ]
      },
      {
       "output_type": "stream",
       "stream": "stdout",
       "text": [
        "5652000\t584550\r\n",
        "5653000\t584626\r\n",
        "5654000\t584725\r\n",
        "5655000\t584822\r\n"
       ]
      },
      {
       "output_type": "stream",
       "stream": "stdout",
       "text": [
        "5656000\t584896\r\n",
        "5657000\t584985\r\n",
        "5658000\t585068\r\n"
       ]
      },
      {
       "output_type": "stream",
       "stream": "stdout",
       "text": [
        "5659000\t585156\r\n",
        "5660000\t585231\r\n",
        "5661000\t585313\r\n",
        "5662000\t585407\r\n"
       ]
      },
      {
       "output_type": "stream",
       "stream": "stdout",
       "text": [
        "5663000\t585495\r\n",
        "5664000\t585597\r\n",
        "5665000\t585675\r\n"
       ]
      },
      {
       "output_type": "stream",
       "stream": "stdout",
       "text": [
        "5666000\t585755\r\n",
        "5667000\t585837\r\n",
        "5668000\t585908\r\n",
        "5669000\t586010\r\n"
       ]
      },
      {
       "output_type": "stream",
       "stream": "stdout",
       "text": [
        "5670000\t586100\r\n",
        "5671000\t586188\r\n",
        "5672000\t586278\r\n"
       ]
      },
      {
       "output_type": "stream",
       "stream": "stdout",
       "text": [
        "5673000\t586360\r\n",
        "5674000\t586427\r\n",
        "5675000\t586510\r\n",
        "5676000\t586577\r\n"
       ]
      },
      {
       "output_type": "stream",
       "stream": "stdout",
       "text": [
        "5677000\t586666\r\n",
        "5678000\t586755\r\n",
        "5679000\t586844\r\n"
       ]
      },
      {
       "output_type": "stream",
       "stream": "stdout",
       "text": [
        "5680000\t586931\r\n",
        "5681000\t587011\r\n",
        "5682000\t587086\r\n",
        "5683000\t587137\r\n"
       ]
      },
      {
       "output_type": "stream",
       "stream": "stdout",
       "text": [
        "5684000\t587226\r\n",
        "5685000\t587308\r\n",
        "5686000\t587375\r\n"
       ]
      },
      {
       "output_type": "stream",
       "stream": "stdout",
       "text": [
        "5687000\t587440\r\n",
        "5688000\t587513\r\n",
        "5689000\t587578\r\n",
        "5690000\t587640\r\n"
       ]
      },
      {
       "output_type": "stream",
       "stream": "stdout",
       "text": [
        "5691000\t587723\r\n",
        "5692000\t587792\r\n",
        "5693000\t587883\r\n"
       ]
      },
      {
       "output_type": "stream",
       "stream": "stdout",
       "text": [
        "5694000\t587963\r\n",
        "5695000\t588040\r\n",
        "5696000\t588119\r\n",
        "5697000\t588201\r\n"
       ]
      },
      {
       "output_type": "stream",
       "stream": "stdout",
       "text": [
        "5698000\t588269\r\n",
        "5699000\t588338\r\n",
        "5700000\t588405\r\n"
       ]
      },
      {
       "output_type": "stream",
       "stream": "stdout",
       "text": [
        "5701000\t588479\r\n",
        "5702000\t588554\r\n",
        "5703000\t588646\r\n",
        "5704000\t588723\r\n"
       ]
      },
      {
       "output_type": "stream",
       "stream": "stdout",
       "text": [
        "5705000\t588793\r\n",
        "5706000\t588874\r\n",
        "5707000\t588952\r\n"
       ]
      },
      {
       "output_type": "stream",
       "stream": "stdout",
       "text": [
        "5708000\t589014\r\n",
        "5709000\t589091\r\n",
        "5710000\t589161\r\n",
        "5711000\t589252\r\n"
       ]
      },
      {
       "output_type": "stream",
       "stream": "stdout",
       "text": [
        "5712000\t589336\r\n",
        "5713000\t589405\r\n",
        "5714000\t589478\r\n"
       ]
      },
      {
       "output_type": "stream",
       "stream": "stdout",
       "text": [
        "5715000\t589555\r\n",
        "5716000\t589625\r\n",
        "5717000\t589703\r\n",
        "5718000\t589779\r\n"
       ]
      },
      {
       "output_type": "stream",
       "stream": "stdout",
       "text": [
        "5719000\t589852\r\n",
        "5720000\t589935\r\n",
        "5721000\t590006\r\n"
       ]
      },
      {
       "output_type": "stream",
       "stream": "stdout",
       "text": [
        "5722000\t590074\r\n",
        "5723000\t590135\r\n",
        "5724000\t590205\r\n",
        "5725000\t590271\r\n"
       ]
      },
      {
       "output_type": "stream",
       "stream": "stdout",
       "text": [
        "5726000\t590358\r\n",
        "5727000\t590425\r\n",
        "5728000\t590494\r\n",
        "5729000\t590567\r\n"
       ]
      },
      {
       "output_type": "stream",
       "stream": "stdout",
       "text": [
        "5730000\t590631\r\n",
        "5731000\t590699\r\n",
        "5732000\t590773\r\n"
       ]
      },
      {
       "output_type": "stream",
       "stream": "stdout",
       "text": [
        "5733000\t590861\r\n",
        "5734000\t590942\r\n",
        "5735000\t591015\r\n",
        "5736000\t591088\r\n"
       ]
      },
      {
       "output_type": "stream",
       "stream": "stdout",
       "text": [
        "5737000\t591154\r\n",
        "5738000\t591224\r\n",
        "5739000\t591287\r\n"
       ]
      },
      {
       "output_type": "stream",
       "stream": "stdout",
       "text": [
        "5740000\t591361\r\n",
        "5741000\t591442\r\n",
        "5742000\t591516\r\n",
        "5743000\t591596\r\n"
       ]
      },
      {
       "output_type": "stream",
       "stream": "stdout",
       "text": [
        "5744000\t591655\r\n",
        "5745000\t591723\r\n",
        "5746000\t591799\r\n"
       ]
      },
      {
       "output_type": "stream",
       "stream": "stdout",
       "text": [
        "5747000\t591868\r\n",
        "5748000\t591944\r\n",
        "5749000\t592011\r\n",
        "5750000\t592092\r\n"
       ]
      },
      {
       "output_type": "stream",
       "stream": "stdout",
       "text": [
        "5751000\t592167\r\n",
        "5752000\t592230\r\n",
        "5753000\t592298\r\n"
       ]
      },
      {
       "output_type": "stream",
       "stream": "stdout",
       "text": [
        "5754000\t592374\r\n",
        "5755000\t592456\r\n",
        "5756000\t592531\r\n"
       ]
      },
      {
       "output_type": "stream",
       "stream": "stdout",
       "text": [
        "5757000\t592602\r\n",
        "5758000\t592659\r\n",
        "5759000\t592755\r\n",
        "5760000\t592827\r\n"
       ]
      },
      {
       "output_type": "stream",
       "stream": "stdout",
       "text": [
        "5761000\t592893\r\n",
        "5762000\t592958\r\n",
        "5763000\t593027\r\n"
       ]
      },
      {
       "output_type": "stream",
       "stream": "stdout",
       "text": [
        "5764000\t593092\r\n",
        "5765000\t593171\r\n",
        "5766000\t593238\r\n",
        "5767000\t593316\r\n"
       ]
      },
      {
       "output_type": "stream",
       "stream": "stdout",
       "text": [
        "5768000\t593372\r\n",
        "5769000\t593444\r\n",
        "5770000\t593505\r\n"
       ]
      },
      {
       "output_type": "stream",
       "stream": "stdout",
       "text": [
        "5771000\t593586\r\n",
        "5772000\t593648\r\n",
        "5773000\t593735\r\n",
        "5774000\t593819\r\n"
       ]
      },
      {
       "output_type": "stream",
       "stream": "stdout",
       "text": [
        "5775000\t593882\r\n",
        "5776000\t593957\r\n",
        "5777000\t594025\r\n"
       ]
      },
      {
       "output_type": "stream",
       "stream": "stdout",
       "text": [
        "5778000\t594089\r\n",
        "5779000\t594161\r\n",
        "5780000\t594237\r\n",
        "5781000\t594299\r\n"
       ]
      },
      {
       "output_type": "stream",
       "stream": "stdout",
       "text": [
        "5782000\t594371\r\n",
        "5783000\t594442\r\n",
        "5784000\t594522\r\n"
       ]
      },
      {
       "output_type": "stream",
       "stream": "stdout",
       "text": [
        "5785000\t594607\r\n",
        "5786000\t594680\r\n",
        "5787000\t594762\r\n",
        "5788000\t594830\r\n"
       ]
      },
      {
       "output_type": "stream",
       "stream": "stdout",
       "text": [
        "5789000\t594887\r\n",
        "5790000\t594944\r\n",
        "5791000\t595031\r\n"
       ]
      },
      {
       "output_type": "stream",
       "stream": "stdout",
       "text": [
        "5792000\t595101\r\n",
        "5793000\t595180\r\n",
        "5794000\t595265\r\n",
        "5795000\t595338\r\n"
       ]
      },
      {
       "output_type": "stream",
       "stream": "stdout",
       "text": [
        "5796000\t595400\r\n",
        "5797000\t595477\r\n",
        "5798000\t595547\r\n"
       ]
      },
      {
       "output_type": "stream",
       "stream": "stdout",
       "text": [
        "5799000\t595618\r\n",
        "5800000\t595704\r\n",
        "5801000\t595776\r\n",
        "5802000\t595843\r\n"
       ]
      },
      {
       "output_type": "stream",
       "stream": "stdout",
       "text": [
        "5803000\t595914\r\n",
        "5804000\t595981\r\n",
        "5805000\t596044\r\n"
       ]
      },
      {
       "output_type": "stream",
       "stream": "stdout",
       "text": [
        "5806000\t596130\r\n",
        "5807000\t596204\r\n",
        "5808000\t596268\r\n",
        "5809000\t596330\r\n"
       ]
      },
      {
       "output_type": "stream",
       "stream": "stdout",
       "text": [
        "5810000\t596407\r\n",
        "5811000\t596475\r\n",
        "5812000\t596548\r\n"
       ]
      },
      {
       "output_type": "stream",
       "stream": "stdout",
       "text": [
        "5813000\t596618\r\n",
        "5814000\t596689\r\n",
        "5815000\t596753\r\n",
        "5816000\t596828\r\n"
       ]
      },
      {
       "output_type": "stream",
       "stream": "stdout",
       "text": [
        "5817000\t596906\r\n",
        "5818000\t596986\r\n",
        "5819000\t597063\r\n"
       ]
      },
      {
       "output_type": "stream",
       "stream": "stdout",
       "text": [
        "5820000\t597133\r\n",
        "5821000\t597215\r\n",
        "5822000\t597285\r\n",
        "5823000\t597353\r\n"
       ]
      },
      {
       "output_type": "stream",
       "stream": "stdout",
       "text": [
        "5824000\t597433\r\n",
        "5825000\t597518\r\n",
        "5826000\t597594\r\n"
       ]
      },
      {
       "output_type": "stream",
       "stream": "stdout",
       "text": [
        "5827000\t597685\r\n",
        "5828000\t597767\r\n",
        "5829000\t597831\r\n",
        "5830000\t597906\r\n"
       ]
      },
      {
       "output_type": "stream",
       "stream": "stdout",
       "text": [
        "5831000\t597980\r\n",
        "5832000\t598047\r\n",
        "5833000\t598114\r\n"
       ]
      },
      {
       "output_type": "stream",
       "stream": "stdout",
       "text": [
        "5834000\t598187\r\n",
        "5835000\t598270\r\n",
        "5836000\t598351\r\n",
        "5837000\t598425\r\n"
       ]
      },
      {
       "output_type": "stream",
       "stream": "stdout",
       "text": [
        "5838000\t598521\r\n",
        "5839000\t598605\r\n",
        "5840000\t598670\r\n"
       ]
      },
      {
       "output_type": "stream",
       "stream": "stdout",
       "text": [
        "5841000\t598755\r\n",
        "5842000\t598828\r\n",
        "5843000\t598913\r\n",
        "5844000\t598986\r\n"
       ]
      },
      {
       "output_type": "stream",
       "stream": "stdout",
       "text": [
        "5845000\t599057\r\n",
        "5846000\t599143\r\n",
        "5847000\t599208\r\n"
       ]
      },
      {
       "output_type": "stream",
       "stream": "stdout",
       "text": [
        "5848000\t599291\r\n",
        "5849000\t599368\r\n",
        "5850000\t599439\r\n",
        "5851000\t599503\r\n"
       ]
      },
      {
       "output_type": "stream",
       "stream": "stdout",
       "text": [
        "5852000\t599564\r\n",
        "5853000\t599642\r\n",
        "5854000\t599723\r\n"
       ]
      },
      {
       "output_type": "stream",
       "stream": "stdout",
       "text": [
        "5855000\t599801\r\n",
        "5856000\t599871\r\n",
        "5857000\t599954\r\n",
        "5858000\t600037\r\n"
       ]
      },
      {
       "output_type": "stream",
       "stream": "stdout",
       "text": [
        "5859000\t600121\r\n",
        "5860000\t600198\r\n",
        "5861000\t600269\r\n"
       ]
      },
      {
       "output_type": "stream",
       "stream": "stdout",
       "text": [
        "5862000\t600342\r\n",
        "5863000\t600408\r\n",
        "5864000\t600482\r\n",
        "5865000\t600588\r\n"
       ]
      },
      {
       "output_type": "stream",
       "stream": "stdout",
       "text": [
        "5866000\t600682\r\n",
        "5867000\t600779\r\n",
        "5868000\t600858\r\n"
       ]
      },
      {
       "output_type": "stream",
       "stream": "stdout",
       "text": [
        "5869000\t600939\r\n",
        "5870000\t601025\r\n",
        "5871000\t601103\r\n",
        "5872000\t601201\r\n"
       ]
      },
      {
       "output_type": "stream",
       "stream": "stdout",
       "text": [
        "5873000\t601289\r\n",
        "5874000\t601386\r\n",
        "5875000\t601484\r\n"
       ]
      },
      {
       "output_type": "stream",
       "stream": "stdout",
       "text": [
        "5876000\t601562\r\n",
        "5877000\t601667\r\n",
        "5878000\t601760\r\n",
        "5879000\t601862\r\n"
       ]
      },
      {
       "output_type": "stream",
       "stream": "stdout",
       "text": [
        "5880000\t601964\r\n",
        "5881000\t602071\r\n",
        "5882000\t602165\r\n"
       ]
      },
      {
       "output_type": "stream",
       "stream": "stdout",
       "text": [
        "5883000\t602290\r\n",
        "5884000\t602426\r\n",
        "5885000\t602529\r\n",
        "5886000\t602643\r\n"
       ]
      },
      {
       "output_type": "stream",
       "stream": "stdout",
       "text": [
        "5887000\t602760\r\n",
        "5888000\t602882\r\n",
        "5889000\t603006\r\n"
       ]
      },
      {
       "output_type": "stream",
       "stream": "stdout",
       "text": [
        "5890000\t603120\r\n",
        "5891000\t603247\r\n",
        "5892000\t603390\r\n",
        "5893000\t603520\r\n"
       ]
      },
      {
       "output_type": "stream",
       "stream": "stdout",
       "text": [
        "5894000\t603672\r\n",
        "5895000\t603845\r\n",
        "5896000\t603992\r\n"
       ]
      },
      {
       "output_type": "stream",
       "stream": "stdout",
       "text": [
        "5897000\t604140\r\n",
        "5898000\t604303\r\n",
        "5899000\t604444\r\n"
       ]
      },
      {
       "output_type": "stream",
       "stream": "stdout",
       "text": [
        "5900000\t604603\r\n",
        "5901000\t604755\r\n",
        "5902000\t604881\r\n",
        "5903000\t605012\r\n"
       ]
      },
      {
       "output_type": "stream",
       "stream": "stdout",
       "text": [
        "5904000\t605142\r\n",
        "5905000\t605267\r\n",
        "5906000\t605391\r\n"
       ]
      },
      {
       "output_type": "stream",
       "stream": "stdout",
       "text": [
        "5907000\t605505\r\n",
        "5908000\t605620\r\n",
        "5909000\t605733\r\n",
        "5910000\t605835\r\n"
       ]
      },
      {
       "output_type": "stream",
       "stream": "stdout",
       "text": [
        "5911000\t605952\r\n",
        "5912000\t606092\r\n",
        "5913000\t606192\r\n"
       ]
      },
      {
       "output_type": "stream",
       "stream": "stdout",
       "text": [
        "5914000\t606295\r\n",
        "5915000\t606400\r\n",
        "5916000\t606505\r\n",
        "5917000\t606609\r\n"
       ]
      },
      {
       "output_type": "stream",
       "stream": "stdout",
       "text": [
        "5918000\t606705\r\n",
        "5919000\t606810\r\n",
        "5920000\t606921\r\n"
       ]
      },
      {
       "output_type": "stream",
       "stream": "stdout",
       "text": [
        "5921000\t607016\r\n",
        "5922000\t607102\r\n",
        "5923000\t607190\r\n",
        "5924000\t607288\r\n"
       ]
      },
      {
       "output_type": "stream",
       "stream": "stdout",
       "text": [
        "5925000\t607383\r\n",
        "5926000\t607459\r\n",
        "5927000\t607534\r\n"
       ]
      },
      {
       "output_type": "stream",
       "stream": "stdout",
       "text": [
        "5928000\t607641\r\n",
        "5929000\t607729\r\n",
        "5930000\t607826\r\n",
        "5931000\t607916\r\n"
       ]
      },
      {
       "output_type": "stream",
       "stream": "stdout",
       "text": [
        "5932000\t608008\r\n",
        "5933000\t608093\r\n",
        "5934000\t608190\r\n"
       ]
      },
      {
       "output_type": "stream",
       "stream": "stdout",
       "text": [
        "5935000\t608282\r\n",
        "5936000\t608373\r\n",
        "5937000\t608495\r\n"
       ]
      },
      {
       "output_type": "stream",
       "stream": "stdout",
       "text": [
        "5938000\t608611\r\n",
        "5939000\t608694\r\n",
        "5940000\t608768\r\n",
        "5941000\t608861\r\n"
       ]
      },
      {
       "output_type": "stream",
       "stream": "stdout",
       "text": [
        "5942000\t608933\r\n",
        "5943000\t609023\r\n",
        "5944000\t609118\r\n"
       ]
      },
      {
       "output_type": "stream",
       "stream": "stdout",
       "text": [
        "5945000\t609203\r\n",
        "5946000\t609285\r\n",
        "5947000\t609373\r\n",
        "5948000\t609452\r\n"
       ]
      },
      {
       "output_type": "stream",
       "stream": "stdout",
       "text": [
        "5949000\t609538\r\n",
        "5950000\t609635\r\n",
        "5951000\t609712\r\n"
       ]
      },
      {
       "output_type": "stream",
       "stream": "stdout",
       "text": [
        "5952000\t609818\r\n",
        "5953000\t609894\r\n",
        "5954000\t609967\r\n",
        "5955000\t610068\r\n"
       ]
      },
      {
       "output_type": "stream",
       "stream": "stdout",
       "text": [
        "5956000\t610142\r\n",
        "5957000\t610227\r\n",
        "5958000\t610307\r\n"
       ]
      },
      {
       "output_type": "stream",
       "stream": "stdout",
       "text": [
        "5959000\t610395\r\n",
        "5960000\t610473\r\n",
        "5961000\t610556\r\n",
        "5962000\t610657\r\n"
       ]
      },
      {
       "output_type": "stream",
       "stream": "stdout",
       "text": [
        "5963000\t610748\r\n",
        "5964000\t610839\r\n",
        "5965000\t610925\r\n"
       ]
      },
      {
       "output_type": "stream",
       "stream": "stdout",
       "text": [
        "5966000\t611000\r\n",
        "5967000\t611076\r\n",
        "5968000\t611174\r\n",
        "5969000\t611264\r\n"
       ]
      },
      {
       "output_type": "stream",
       "stream": "stdout",
       "text": [
        "5970000\t611353\r\n",
        "5971000\t611432\r\n",
        "5972000\t611524\r\n"
       ]
      },
      {
       "output_type": "stream",
       "stream": "stdout",
       "text": [
        "5973000\t611603\r\n",
        "5974000\t611677\r\n",
        "5975000\t611753\r\n",
        "5976000\t611836\r\n"
       ]
      },
      {
       "output_type": "stream",
       "stream": "stdout",
       "text": [
        "5977000\t611922\r\n",
        "5978000\t611993\r\n",
        "5979000\t612076\r\n"
       ]
      },
      {
       "output_type": "stream",
       "stream": "stdout",
       "text": [
        "5980000\t612158\r\n",
        "5981000\t612250\r\n",
        "5982000\t612341\r\n",
        "5983000\t612415\r\n"
       ]
      },
      {
       "output_type": "stream",
       "stream": "stdout",
       "text": [
        "5984000\t612494\r\n",
        "5985000\t612585\r\n",
        "5986000\t612670\r\n"
       ]
      },
      {
       "output_type": "stream",
       "stream": "stdout",
       "text": [
        "5987000\t612751\r\n",
        "5988000\t612828\r\n",
        "5989000\t612902\r\n",
        "5990000\t612976\r\n"
       ]
      },
      {
       "output_type": "stream",
       "stream": "stdout",
       "text": [
        "5991000\t613065\r\n",
        "5992000\t613130\r\n",
        "5993000\t613213\r\n"
       ]
      },
      {
       "output_type": "stream",
       "stream": "stdout",
       "text": [
        "5994000\t613295\r\n",
        "5995000\t613385\r\n",
        "5996000\t613465\r\n",
        "5997000\t613547\r\n"
       ]
      },
      {
       "output_type": "stream",
       "stream": "stdout",
       "text": [
        "5998000\t613632\r\n",
        "5999000\t613709\r\n",
        "6000000\t613789\r\n"
       ]
      },
      {
       "output_type": "stream",
       "stream": "stdout",
       "text": [
        "6001000\t613872\r\n",
        "6002000\t613944\r\n",
        "6003000\t614026\r\n",
        "6004000\t614092\r\n"
       ]
      },
      {
       "output_type": "stream",
       "stream": "stdout",
       "text": [
        "6005000\t614158\r\n",
        "6006000\t614220\r\n",
        "6007000\t614287\r\n"
       ]
      },
      {
       "output_type": "stream",
       "stream": "stdout",
       "text": [
        "6008000\t614363\r\n",
        "6009000\t614432\r\n",
        "6010000\t614504\r\n",
        "6011000\t614585\r\n"
       ]
      },
      {
       "output_type": "stream",
       "stream": "stdout",
       "text": [
        "6012000\t614652\r\n",
        "6013000\t614738\r\n",
        "6014000\t614828\r\n"
       ]
      },
      {
       "output_type": "stream",
       "stream": "stdout",
       "text": [
        "6015000\t614908\r\n",
        "6016000\t614979\r\n",
        "6017000\t615054\r\n",
        "6018000\t615129\r\n"
       ]
      },
      {
       "output_type": "stream",
       "stream": "stdout",
       "text": [
        "6019000\t615209\r\n",
        "6020000\t615293\r\n",
        "6021000\t615372\r\n"
       ]
      },
      {
       "output_type": "stream",
       "stream": "stdout",
       "text": [
        "6022000\t615445\r\n",
        "6023000\t615527\r\n",
        "6024000\t615606\r\n",
        "6025000\t615693\r\n"
       ]
      },
      {
       "output_type": "stream",
       "stream": "stdout",
       "text": [
        "6026000\t615764\r\n",
        "6027000\t615829\r\n",
        "6028000\t615916\r\n",
        "6029000\t615990\r\n"
       ]
      },
      {
       "output_type": "stream",
       "stream": "stdout",
       "text": [
        "6030000\t616067\r\n",
        "6031000\t616157\r\n",
        "6032000\t616232\r\n"
       ]
      },
      {
       "output_type": "stream",
       "stream": "stdout",
       "text": [
        "6033000\t616310\r\n",
        "6034000\t616373\r\n",
        "6035000\t616453\r\n",
        "6036000\t616526\r\n"
       ]
      },
      {
       "output_type": "stream",
       "stream": "stdout",
       "text": [
        "6037000\t616596\r\n",
        "6038000\t616685\r\n",
        "6039000\t616746\r\n"
       ]
      },
      {
       "output_type": "stream",
       "stream": "stdout",
       "text": [
        "6040000\t616831\r\n",
        "6041000\t616920\r\n",
        "6042000\t616992\r\n",
        "6043000\t617074\r\n"
       ]
      },
      {
       "output_type": "stream",
       "stream": "stdout",
       "text": [
        "6044000\t617159\r\n",
        "6045000\t617249\r\n",
        "6046000\t617333\r\n"
       ]
      },
      {
       "output_type": "stream",
       "stream": "stdout",
       "text": [
        "6047000\t617414\r\n",
        "6048000\t617495\r\n",
        "6049000\t617569\r\n",
        "6050000\t617642\r\n"
       ]
      },
      {
       "output_type": "stream",
       "stream": "stdout",
       "text": [
        "6051000\t617710\r\n",
        "6052000\t617784\r\n",
        "6053000\t617854\r\n"
       ]
      },
      {
       "output_type": "stream",
       "stream": "stdout",
       "text": [
        "6054000\t617929\r\n",
        "6055000\t617996\r\n",
        "6056000\t618069\r\n",
        "6057000\t618157\r\n"
       ]
      },
      {
       "output_type": "stream",
       "stream": "stdout",
       "text": [
        "6058000\t618238\r\n",
        "6059000\t618313\r\n",
        "6060000\t618380\r\n",
        "6061000\t618450\r\n"
       ]
      },
      {
       "output_type": "stream",
       "stream": "stdout",
       "text": [
        "6062000\t618531\r\n",
        "6063000\t618615\r\n",
        "6064000\t618687\r\n"
       ]
      },
      {
       "output_type": "stream",
       "stream": "stdout",
       "text": [
        "6065000\t618768\r\n",
        "6066000\t618835\r\n",
        "6067000\t618901\r\n",
        "6068000\t618980\r\n"
       ]
      },
      {
       "output_type": "stream",
       "stream": "stdout",
       "text": [
        "6069000\t619050\r\n",
        "6070000\t619126\r\n",
        "6071000\t619208\r\n"
       ]
      },
      {
       "output_type": "stream",
       "stream": "stdout",
       "text": [
        "6072000\t619288\r\n",
        "6073000\t619367\r\n",
        "6074000\t619444\r\n",
        "6075000\t619520\r\n"
       ]
      },
      {
       "output_type": "stream",
       "stream": "stdout",
       "text": [
        "6076000\t619588\r\n",
        "6077000\t619666\r\n",
        "6078000\t619759\r\n"
       ]
      },
      {
       "output_type": "stream",
       "stream": "stdout",
       "text": [
        "6079000\t619851\r\n",
        "6080000\t619935\r\n",
        "6081000\t620019\r\n",
        "6082000\t620092\r\n"
       ]
      },
      {
       "output_type": "stream",
       "stream": "stdout",
       "text": [
        "6083000\t620162\r\n",
        "6084000\t620239\r\n",
        "6085000\t620311\r\n"
       ]
      },
      {
       "output_type": "stream",
       "stream": "stdout",
       "text": [
        "6086000\t620396\r\n",
        "6087000\t620470\r\n",
        "6088000\t620551\r\n",
        "6089000\t620640\r\n"
       ]
      },
      {
       "output_type": "stream",
       "stream": "stdout",
       "text": [
        "6090000\t620703\r\n",
        "6091000\t620794\r\n",
        "6092000\t620878\r\n"
       ]
      },
      {
       "output_type": "stream",
       "stream": "stdout",
       "text": [
        "6093000\t620961\r\n",
        "6094000\t621036\r\n",
        "6095000\t621112\r\n",
        "6096000\t621192\r\n"
       ]
      },
      {
       "output_type": "stream",
       "stream": "stdout",
       "text": [
        "6097000\t621276\r\n",
        "6098000\t621350\r\n",
        "6099000\t621414\r\n"
       ]
      },
      {
       "output_type": "stream",
       "stream": "stdout",
       "text": [
        "6100000\t621499\r\n",
        "6101000\t621574\r\n",
        "6102000\t621658\r\n",
        "6103000\t621724\r\n"
       ]
      },
      {
       "output_type": "stream",
       "stream": "stdout",
       "text": [
        "6104000\t621798\r\n",
        "6105000\t621865\r\n",
        "6106000\t621934\r\n",
        "6107000\t622001\r\n"
       ]
      },
      {
       "output_type": "stream",
       "stream": "stdout",
       "text": [
        "6108000\t622077\r\n",
        "6109000\t622156\r\n",
        "6110000\t622235\r\n"
       ]
      },
      {
       "output_type": "stream",
       "stream": "stdout",
       "text": [
        "6111000\t622330\r\n",
        "6112000\t622402\r\n",
        "6113000\t622483\r\n",
        "6114000\t622566\r\n"
       ]
      },
      {
       "output_type": "stream",
       "stream": "stdout",
       "text": [
        "6115000\t622647\r\n",
        "6116000\t622733\r\n",
        "6117000\t622828\r\n"
       ]
      },
      {
       "output_type": "stream",
       "stream": "stdout",
       "text": [
        "6118000\t622905\r\n",
        "6119000\t622982\r\n",
        "6120000\t623056\r\n",
        "6121000\t623136\r\n"
       ]
      },
      {
       "output_type": "stream",
       "stream": "stdout",
       "text": [
        "6122000\t623226\r\n",
        "6123000\t623355\r\n",
        "6124000\t623442\r\n"
       ]
      },
      {
       "output_type": "stream",
       "stream": "stdout",
       "text": [
        "6125000\t623550\r\n",
        "6126000\t623653\r\n",
        "6127000\t623737\r\n",
        "6128000\t623836\r\n"
       ]
      },
      {
       "output_type": "stream",
       "stream": "stdout",
       "text": [
        "6129000\t623931\r\n",
        "6130000\t624034\r\n",
        "6131000\t624115\r\n"
       ]
      },
      {
       "output_type": "stream",
       "stream": "stdout",
       "text": [
        "6132000\t624211\r\n",
        "6133000\t624312\r\n",
        "6134000\t624398\r\n",
        "6135000\t624500\r\n"
       ]
      },
      {
       "output_type": "stream",
       "stream": "stdout",
       "text": [
        "6136000\t624595\r\n",
        "6137000\t624708\r\n",
        "6138000\t624832\r\n"
       ]
      },
      {
       "output_type": "stream",
       "stream": "stdout",
       "text": [
        "6139000\t624949\r\n",
        "6140000\t625067\r\n",
        "6141000\t625195\r\n",
        "6142000\t625326\r\n"
       ]
      },
      {
       "output_type": "stream",
       "stream": "stdout",
       "text": [
        "6143000\t625451\r\n",
        "6144000\t625562\r\n",
        "6145000\t625703\r\n"
       ]
      },
      {
       "output_type": "stream",
       "stream": "stdout",
       "text": [
        "6146000\t625837\r\n",
        "6147000\t625975\r\n",
        "6148000\t626115\r\n",
        "6149000\t626249\r\n"
       ]
      },
      {
       "output_type": "stream",
       "stream": "stdout",
       "text": [
        "6150000\t626390\r\n",
        "6151000\t626543\r\n",
        "6152000\t626685\r\n"
       ]
      },
      {
       "output_type": "stream",
       "stream": "stdout",
       "text": [
        "6153000\t626903\r\n",
        "6154000\t627091\r\n",
        "6155000\t627289\r\n"
       ]
      },
      {
       "output_type": "stream",
       "stream": "stdout",
       "text": [
        "6156000\t627498\r\n",
        "6157000\t627711\r\n",
        "6158000\t627886\r\n",
        "6159000\t628056\r\n"
       ]
      },
      {
       "output_type": "stream",
       "stream": "stdout",
       "text": [
        "6160000\t628229\r\n",
        "6161000\t628409\r\n",
        "6162000\t628604\r\n"
       ]
      },
      {
       "output_type": "stream",
       "stream": "stdout",
       "text": [
        "6163000\t628790\r\n",
        "6164000\t628954\r\n",
        "6165000\t629111\r\n",
        "6166000\t629272\r\n"
       ]
      },
      {
       "output_type": "stream",
       "stream": "stdout",
       "text": [
        "6167000\t629421\r\n",
        "6168000\t629551\r\n",
        "6169000\t629695\r\n"
       ]
      },
      {
       "output_type": "stream",
       "stream": "stdout",
       "text": [
        "6170000\t629826\r\n",
        "6171000\t629945\r\n",
        "6172000\t630069\r\n"
       ]
      },
      {
       "output_type": "stream",
       "stream": "stdout",
       "text": [
        "6173000\t630198\r\n",
        "6174000\t630317\r\n",
        "6175000\t630444\r\n",
        "6176000\t630566\r\n"
       ]
      },
      {
       "output_type": "stream",
       "stream": "stdout",
       "text": [
        "6177000\t630704\r\n",
        "6178000\t630829\r\n",
        "6179000\t630950\r\n"
       ]
      },
      {
       "output_type": "stream",
       "stream": "stdout",
       "text": [
        "6180000\t631074\r\n",
        "6181000\t631199\r\n",
        "6182000\t631314\r\n",
        "6183000\t631429\r\n"
       ]
      },
      {
       "output_type": "stream",
       "stream": "stdout",
       "text": [
        "6184000\t631555\r\n",
        "6185000\t631645\r\n",
        "6186000\t631759\r\n"
       ]
      },
      {
       "output_type": "stream",
       "stream": "stdout",
       "text": [
        "6187000\t631879\r\n",
        "6188000\t631988\r\n",
        "6189000\t632110\r\n",
        "6190000\t632236\r\n"
       ]
      },
      {
       "output_type": "stream",
       "stream": "stdout",
       "text": [
        "6191000\t632342\r\n",
        "6192000\t632458\r\n",
        "6193000\t632563\r\n"
       ]
      },
      {
       "output_type": "stream",
       "stream": "stdout",
       "text": [
        "6194000\t632719\r\n",
        "6195000\t632846\r\n",
        "6196000\t632945\r\n",
        "6197000\t633045\r\n"
       ]
      },
      {
       "output_type": "stream",
       "stream": "stdout",
       "text": [
        "6198000\t633140\r\n",
        "6199000\t633226\r\n",
        "6200000\t633328\r\n"
       ]
      },
      {
       "output_type": "stream",
       "stream": "stdout",
       "text": [
        "6201000\t633423\r\n",
        "6202000\t633522\r\n",
        "6203000\t633613\r\n",
        "6204000\t633709\r\n"
       ]
      },
      {
       "output_type": "stream",
       "stream": "stdout",
       "text": [
        "6205000\t633808\r\n",
        "6206000\t633913\r\n",
        "6207000\t634014\r\n"
       ]
      },
      {
       "output_type": "stream",
       "stream": "stdout",
       "text": [
        "6208000\t634111\r\n",
        "6209000\t634222\r\n",
        "6210000\t634316\r\n",
        "6211000\t634422\r\n"
       ]
      },
      {
       "output_type": "stream",
       "stream": "stdout",
       "text": [
        "6212000\t634518\r\n",
        "6213000\t634609\r\n",
        "6214000\t634710\r\n"
       ]
      },
      {
       "output_type": "stream",
       "stream": "stdout",
       "text": [
        "6215000\t634812\r\n",
        "6216000\t634908\r\n",
        "6217000\t635004\r\n",
        "6218000\t635093\r\n"
       ]
      },
      {
       "output_type": "stream",
       "stream": "stdout",
       "text": [
        "6219000\t635183\r\n",
        "6220000\t635275\r\n",
        "6221000\t635369\r\n",
        "6222000\t635465\r\n"
       ]
      },
      {
       "output_type": "stream",
       "stream": "stdout",
       "text": [
        "6223000\t635564\r\n",
        "6224000\t635649\r\n",
        "6225000\t635754\r\n"
       ]
      },
      {
       "output_type": "stream",
       "stream": "stdout",
       "text": [
        "6226000\t635833\r\n",
        "6227000\t635924\r\n",
        "6228000\t636009\r\n"
       ]
      },
      {
       "output_type": "stream",
       "stream": "stdout",
       "text": [
        "6229000\t636097\r\n",
        "6230000\t636174\r\n",
        "6231000\t636274\r\n",
        "6232000\t636372\r\n"
       ]
      },
      {
       "output_type": "stream",
       "stream": "stdout",
       "text": [
        "6233000\t636471\r\n",
        "6234000\t636557\r\n",
        "6235000\t636652\r\n"
       ]
      },
      {
       "output_type": "stream",
       "stream": "stdout",
       "text": [
        "6236000\t636738\r\n",
        "6237000\t636819\r\n",
        "6238000\t636939\r\n"
       ]
      },
      {
       "output_type": "stream",
       "stream": "stdout",
       "text": [
        "6239000\t637032\r\n",
        "6240000\t637128\r\n",
        "6241000\t637218\r\n",
        "6242000\t637294\r\n"
       ]
      },
      {
       "output_type": "stream",
       "stream": "stdout",
       "text": [
        "6243000\t637386\r\n",
        "6244000\t637465\r\n",
        "6245000\t637548\r\n"
       ]
      },
      {
       "output_type": "stream",
       "stream": "stdout",
       "text": [
        "6246000\t637635\r\n",
        "6247000\t637710\r\n",
        "6248000\t637778\r\n",
        "6249000\t637872\r\n"
       ]
      },
      {
       "output_type": "stream",
       "stream": "stdout",
       "text": [
        "6250000\t637968\r\n",
        "6251000\t638062\r\n",
        "6252000\t638148\r\n"
       ]
      },
      {
       "output_type": "stream",
       "stream": "stdout",
       "text": [
        "6253000\t638236\r\n",
        "6254000\t638324\r\n",
        "6255000\t638407\r\n"
       ]
      },
      {
       "output_type": "stream",
       "stream": "stdout",
       "text": [
        "6256000\t638483\r\n",
        "6257000\t638564\r\n",
        "6258000\t638657\r\n",
        "6259000\t638730\r\n"
       ]
      },
      {
       "output_type": "stream",
       "stream": "stdout",
       "text": [
        "6260000\t638806\r\n",
        "6261000\t638870\r\n",
        "6262000\t638950\r\n"
       ]
      },
      {
       "output_type": "stream",
       "stream": "stdout",
       "text": [
        "6263000\t639040\r\n",
        "6264000\t639129\r\n",
        "6265000\t639215\r\n",
        "6266000\t639292\r\n"
       ]
      },
      {
       "output_type": "stream",
       "stream": "stdout",
       "text": [
        "6267000\t639374\r\n",
        "6268000\t639464\r\n",
        "6269000\t639557\r\n"
       ]
      },
      {
       "output_type": "stream",
       "stream": "stdout",
       "text": [
        "6270000\t639630\r\n",
        "6271000\t639708\r\n",
        "6272000\t639791\r\n"
       ]
      },
      {
       "output_type": "stream",
       "stream": "stdout",
       "text": [
        "6273000\t639887\r\n",
        "6274000\t639966\r\n",
        "6275000\t640050\r\n",
        "6276000\t640134\r\n"
       ]
      },
      {
       "output_type": "stream",
       "stream": "stdout",
       "text": [
        "6277000\t640216\r\n",
        "6278000\t640287\r\n",
        "6279000\t640381\r\n"
       ]
      },
      {
       "output_type": "stream",
       "stream": "stdout",
       "text": [
        "6280000\t640471\r\n",
        "6281000\t640556\r\n",
        "6282000\t640629\r\n",
        "6283000\t640709\r\n"
       ]
      },
      {
       "output_type": "stream",
       "stream": "stdout",
       "text": [
        "6284000\t640791\r\n",
        "6285000\t640876\r\n",
        "6286000\t640969\r\n"
       ]
      },
      {
       "output_type": "stream",
       "stream": "stdout",
       "text": [
        "6287000\t641044\r\n",
        "6288000\t641119\r\n",
        "6289000\t641212\r\n"
       ]
      },
      {
       "output_type": "stream",
       "stream": "stdout",
       "text": [
        "6290000\t641301\r\n",
        "6291000\t641383\r\n",
        "6292000\t641474\r\n",
        "6293000\t641560\r\n"
       ]
      },
      {
       "output_type": "stream",
       "stream": "stdout",
       "text": [
        "6294000\t641643\r\n",
        "6295000\t641718\r\n",
        "6296000\t641802\r\n"
       ]
      },
      {
       "output_type": "stream",
       "stream": "stdout",
       "text": [
        "6297000\t641873\r\n",
        "6298000\t641950\r\n",
        "6299000\t642027\r\n",
        "6300000\t642102\r\n"
       ]
      },
      {
       "output_type": "stream",
       "stream": "stdout",
       "text": [
        "6301000\t642188\r\n",
        "6302000\t642283\r\n",
        "6303000\t642364\r\n"
       ]
      },
      {
       "output_type": "stream",
       "stream": "stdout",
       "text": [
        "6304000\t642454\r\n",
        "6305000\t642526\r\n",
        "6306000\t642606\r\n"
       ]
      },
      {
       "output_type": "stream",
       "stream": "stdout",
       "text": [
        "6307000\t642691\r\n",
        "6308000\t642786\r\n",
        "6309000\t642872\r\n",
        "6310000\t642959\r\n"
       ]
      },
      {
       "output_type": "stream",
       "stream": "stdout",
       "text": [
        "6311000\t643033\r\n",
        "6312000\t643114\r\n",
        "6313000\t643186\r\n"
       ]
      },
      {
       "output_type": "stream",
       "stream": "stdout",
       "text": [
        "6314000\t643274\r\n",
        "6315000\t643340\r\n",
        "6316000\t643432\r\n",
        "6317000\t643509\r\n"
       ]
      },
      {
       "output_type": "stream",
       "stream": "stdout",
       "text": [
        "6318000\t643599\r\n",
        "6319000\t643683\r\n",
        "6320000\t643766\r\n"
       ]
      },
      {
       "output_type": "stream",
       "stream": "stdout",
       "text": [
        "6321000\t643843\r\n",
        "6322000\t643933\r\n",
        "6323000\t644019\r\n",
        "6324000\t644100\r\n"
       ]
      },
      {
       "output_type": "stream",
       "stream": "stdout",
       "text": [
        "6325000\t644189\r\n",
        "6326000\t644278\r\n",
        "6327000\t644365\r\n"
       ]
      },
      {
       "output_type": "stream",
       "stream": "stdout",
       "text": [
        "6328000\t644446\r\n",
        "6329000\t644541\r\n",
        "6330000\t644628\r\n"
       ]
      },
      {
       "output_type": "stream",
       "stream": "stdout",
       "text": [
        "6331000\t644693\r\n",
        "6332000\t644782\r\n",
        "6333000\t644870\r\n",
        "6334000\t644950\r\n"
       ]
      },
      {
       "output_type": "stream",
       "stream": "stdout",
       "text": [
        "6335000\t645039\r\n",
        "6336000\t645126\r\n",
        "6337000\t645212\r\n"
       ]
      },
      {
       "output_type": "stream",
       "stream": "stdout",
       "text": [
        "6338000\t645291\r\n",
        "6339000\t645380\r\n",
        "6340000\t645456\r\n",
        "6341000\t645545\r\n"
       ]
      },
      {
       "output_type": "stream",
       "stream": "stdout",
       "text": [
        "6342000\t645612\r\n",
        "6343000\t645675\r\n",
        "6344000\t645766\r\n"
       ]
      },
      {
       "output_type": "stream",
       "stream": "stdout",
       "text": [
        "6345000\t645845\r\n",
        "6346000\t645935\r\n",
        "6347000\t646026\r\n"
       ]
      },
      {
       "output_type": "stream",
       "stream": "stdout",
       "text": [
        "6348000\t646116\r\n",
        "6349000\t646214\r\n",
        "6350000\t646307\r\n",
        "6351000\t646385\r\n"
       ]
      },
      {
       "output_type": "stream",
       "stream": "stdout",
       "text": [
        "6352000\t646475\r\n",
        "6353000\t646551\r\n",
        "6354000\t646631\r\n"
       ]
      },
      {
       "output_type": "stream",
       "stream": "stdout",
       "text": [
        "6355000\t646727\r\n",
        "6356000\t646811\r\n",
        "6357000\t646912\r\n",
        "6358000\t646998\r\n"
       ]
      },
      {
       "output_type": "stream",
       "stream": "stdout",
       "text": [
        "6359000\t647084\r\n",
        "6360000\t647166\r\n",
        "6361000\t647248\r\n"
       ]
      },
      {
       "output_type": "stream",
       "stream": "stdout",
       "text": [
        "6362000\t647345\r\n",
        "6363000\t647438\r\n",
        "6364000\t647510\r\n"
       ]
      },
      {
       "output_type": "stream",
       "stream": "stdout",
       "text": [
        "6365000\t647592\r\n",
        "6366000\t647678\r\n",
        "6367000\t647759\r\n",
        "6368000\t647845\r\n"
       ]
      },
      {
       "output_type": "stream",
       "stream": "stdout",
       "text": [
        "6369000\t647921\r\n",
        "6370000\t647999\r\n",
        "6371000\t648086\r\n"
       ]
      },
      {
       "output_type": "stream",
       "stream": "stdout",
       "text": [
        "6372000\t648177\r\n",
        "6373000\t648266\r\n",
        "6374000\t648356\r\n"
       ]
      },
      {
       "output_type": "stream",
       "stream": "stdout",
       "text": [
        "6375000\t648448\r\n",
        "6376000\t648542\r\n",
        "6377000\t648641\r\n",
        "6378000\t648742\r\n"
       ]
      },
      {
       "output_type": "stream",
       "stream": "stdout",
       "text": [
        "6379000\t648850\r\n",
        "6380000\t648972\r\n",
        "6381000\t649080\r\n"
       ]
      },
      {
       "output_type": "stream",
       "stream": "stdout",
       "text": [
        "6382000\t649189\r\n",
        "6383000\t649273\r\n",
        "6384000\t649372\r\n",
        "6385000\t649486\r\n"
       ]
      },
      {
       "output_type": "stream",
       "stream": "stdout",
       "text": [
        "6386000\t649582\r\n",
        "6387000\t649679\r\n",
        "6388000\t649786\r\n"
       ]
      },
      {
       "output_type": "stream",
       "stream": "stdout",
       "text": [
        "6389000\t649901\r\n",
        "6390000\t650042\r\n",
        "6391000\t650160\r\n",
        "6392000\t650269\r\n"
       ]
      },
      {
       "output_type": "stream",
       "stream": "stdout",
       "text": [
        "6393000\t650378\r\n",
        "6394000\t650516\r\n",
        "6395000\t650640\r\n"
       ]
      },
      {
       "output_type": "stream",
       "stream": "stdout",
       "text": [
        "6396000\t650775\r\n",
        "6397000\t650913\r\n",
        "6398000\t651040\r\n",
        "6399000\t651196\r\n"
       ]
      },
      {
       "output_type": "stream",
       "stream": "stdout",
       "text": [
        "6400000\t651360\r\n",
        "6401000\t651493\r\n",
        "6402000\t651656\r\n"
       ]
      },
      {
       "output_type": "stream",
       "stream": "stdout",
       "text": [
        "6403000\t651828\r\n",
        "6404000\t652009\r\n",
        "6405000\t652187\r\n"
       ]
      },
      {
       "output_type": "stream",
       "stream": "stdout",
       "text": [
        "6406000\t652383\r\n",
        "6407000\t652554\r\n",
        "6408000\t652762\r\n",
        "6409000\t652911\r\n"
       ]
      },
      {
       "output_type": "stream",
       "stream": "stdout",
       "text": [
        "6410000\t653073\r\n",
        "6411000\t653234\r\n",
        "6412000\t653388\r\n"
       ]
      },
      {
       "output_type": "stream",
       "stream": "stdout",
       "text": [
        "6413000\t653529\r\n",
        "6414000\t653676\r\n",
        "6415000\t653793\r\n"
       ]
      },
      {
       "output_type": "stream",
       "stream": "stdout",
       "text": [
        "6416000\t653936\r\n",
        "6417000\t654081\r\n",
        "6418000\t654205\r\n",
        "6419000\t654333\r\n"
       ]
      },
      {
       "output_type": "stream",
       "stream": "stdout",
       "text": [
        "6420000\t654453\r\n",
        "6421000\t654569\r\n",
        "6422000\t654676\r\n"
       ]
      },
      {
       "output_type": "stream",
       "stream": "stdout",
       "text": [
        "6423000\t654772\r\n",
        "6424000\t654879\r\n",
        "6425000\t654982\r\n"
       ]
      },
      {
       "output_type": "stream",
       "stream": "stdout",
       "text": [
        "6426000\t655107\r\n",
        "6427000\t655204\r\n",
        "6428000\t655317\r\n",
        "6429000\t655401\r\n"
       ]
      },
      {
       "output_type": "stream",
       "stream": "stdout",
       "text": [
        "6430000\t655483\r\n",
        "6431000\t655590\r\n",
        "6432000\t655671\r\n"
       ]
      },
      {
       "output_type": "stream",
       "stream": "stdout",
       "text": [
        "6433000\t655771\r\n",
        "6434000\t655874\r\n",
        "6435000\t655964\r\n"
       ]
      },
      {
       "output_type": "stream",
       "stream": "stdout",
       "text": [
        "6436000\t656074\r\n",
        "6437000\t656158\r\n",
        "6438000\t656247\r\n",
        "6439000\t656339\r\n"
       ]
      },
      {
       "output_type": "stream",
       "stream": "stdout",
       "text": [
        "6440000\t656427\r\n",
        "6441000\t656507\r\n",
        "6442000\t656600\r\n"
       ]
      },
      {
       "output_type": "stream",
       "stream": "stdout",
       "text": [
        "6443000\t656691\r\n",
        "6444000\t656773\r\n",
        "6445000\t656874\r\n",
        "6446000\t656960\r\n"
       ]
      },
      {
       "output_type": "stream",
       "stream": "stdout",
       "text": [
        "6447000\t657046\r\n",
        "6448000\t657154\r\n",
        "6449000\t657242\r\n"
       ]
      },
      {
       "output_type": "stream",
       "stream": "stdout",
       "text": [
        "6450000\t657333\r\n",
        "6451000\t657423\r\n",
        "6452000\t657507\r\n"
       ]
      },
      {
       "output_type": "stream",
       "stream": "stdout",
       "text": [
        "6453000\t657597\r\n",
        "6454000\t657680\r\n",
        "6455000\t657774\r\n",
        "6456000\t657870\r\n"
       ]
      },
      {
       "output_type": "stream",
       "stream": "stdout",
       "text": [
        "6457000\t657941\r\n",
        "6458000\t658024\r\n",
        "6459000\t658111\r\n"
       ]
      },
      {
       "output_type": "stream",
       "stream": "stdout",
       "text": [
        "6460000\t658195\r\n",
        "6461000\t658280\r\n",
        "6462000\t658342\r\n",
        "6463000\t658425\r\n"
       ]
      },
      {
       "output_type": "stream",
       "stream": "stdout",
       "text": [
        "6464000\t658518\r\n",
        "6465000\t658593\r\n",
        "6466000\t658665\r\n"
       ]
      },
      {
       "output_type": "stream",
       "stream": "stdout",
       "text": [
        "6467000\t658742\r\n",
        "6468000\t658826\r\n",
        "6469000\t658918\r\n"
       ]
      },
      {
       "output_type": "stream",
       "stream": "stdout",
       "text": [
        "6470000\t658982\r\n",
        "6471000\t659062\r\n",
        "6472000\t659152\r\n",
        "6473000\t659241\r\n"
       ]
      },
      {
       "output_type": "stream",
       "stream": "stdout",
       "text": [
        "6474000\t659324\r\n",
        "6475000\t659438\r\n",
        "6476000\t659528\r\n"
       ]
      },
      {
       "output_type": "stream",
       "stream": "stdout",
       "text": [
        "6477000\t659610\r\n",
        "6478000\t659691\r\n",
        "6479000\t659762\r\n"
       ]
      },
      {
       "output_type": "stream",
       "stream": "stdout",
       "text": [
        "6480000\t659838\r\n",
        "6481000\t659918\r\n",
        "6482000\t659988\r\n",
        "6483000\t660064\r\n"
       ]
      },
      {
       "output_type": "stream",
       "stream": "stdout",
       "text": [
        "6484000\t660151\r\n",
        "6485000\t660219\r\n",
        "6486000\t660308\r\n"
       ]
      },
      {
       "output_type": "stream",
       "stream": "stdout",
       "text": [
        "6487000\t660370\r\n",
        "6488000\t660463\r\n",
        "6489000\t660553\r\n",
        "6490000\t660635\r\n"
       ]
      },
      {
       "output_type": "stream",
       "stream": "stdout",
       "text": [
        "6491000\t660708\r\n",
        "6492000\t660789\r\n",
        "6493000\t660846\r\n"
       ]
      },
      {
       "output_type": "stream",
       "stream": "stdout",
       "text": [
        "6494000\t660918\r\n",
        "6495000\t661002\r\n",
        "6496000\t661084\r\n",
        "6497000\t661166\r\n"
       ]
      },
      {
       "output_type": "stream",
       "stream": "stdout",
       "text": [
        "6498000\t661258\r\n",
        "6499000\t661331\r\n",
        "6500000\t661407\r\n"
       ]
      },
      {
       "output_type": "stream",
       "stream": "stdout",
       "text": [
        "6501000\t661482\r\n",
        "6502000\t661549\r\n",
        "6503000\t661619\r\n"
       ]
      },
      {
       "output_type": "stream",
       "stream": "stdout",
       "text": [
        "6504000\t661691\r\n",
        "6505000\t661780\r\n",
        "6506000\t661854\r\n",
        "6507000\t661936\r\n"
       ]
      },
      {
       "output_type": "stream",
       "stream": "stdout",
       "text": [
        "6508000\t662003\r\n",
        "6509000\t662080\r\n",
        "6510000\t662154\r\n"
       ]
      },
      {
       "output_type": "stream",
       "stream": "stdout",
       "text": [
        "6511000\t662217\r\n",
        "6512000\t662291\r\n",
        "6513000\t662346\r\n",
        "6514000\t662419\r\n"
       ]
      },
      {
       "output_type": "stream",
       "stream": "stdout",
       "text": [
        "6515000\t662496\r\n",
        "6516000\t662590\r\n",
        "6517000\t662670\r\n"
       ]
      },
      {
       "output_type": "stream",
       "stream": "stdout",
       "text": [
        "6518000\t662742\r\n",
        "6519000\t662816\r\n",
        "6520000\t662894\r\n"
       ]
      },
      {
       "output_type": "stream",
       "stream": "stdout",
       "text": [
        "6521000\t662970\r\n",
        "6522000\t663032\r\n",
        "6523000\t663100\r\n",
        "6524000\t663173\r\n"
       ]
      },
      {
       "output_type": "stream",
       "stream": "stdout",
       "text": [
        "6525000\t663246\r\n",
        "6526000\t663350\r\n",
        "6527000\t663426\r\n"
       ]
      },
      {
       "output_type": "stream",
       "stream": "stdout",
       "text": [
        "6528000\t663509\r\n",
        "6529000\t663592\r\n",
        "6530000\t663656\r\n",
        "6531000\t663719\r\n"
       ]
      },
      {
       "output_type": "stream",
       "stream": "stdout",
       "text": [
        "6532000\t663802\r\n",
        "6533000\t663864\r\n",
        "6534000\t663931\r\n"
       ]
      },
      {
       "output_type": "stream",
       "stream": "stdout",
       "text": [
        "6535000\t664006\r\n",
        "6536000\t664084\r\n",
        "6537000\t664156\r\n"
       ]
      },
      {
       "output_type": "stream",
       "stream": "stdout",
       "text": [
        "6538000\t664222\r\n",
        "6539000\t664288\r\n",
        "6540000\t664371\r\n",
        "6541000\t664444\r\n"
       ]
      },
      {
       "output_type": "stream",
       "stream": "stdout",
       "text": [
        "6542000\t664522\r\n",
        "6543000\t664614\r\n",
        "6544000\t664679\r\n"
       ]
      },
      {
       "output_type": "stream",
       "stream": "stdout",
       "text": [
        "6545000\t664763\r\n",
        "6546000\t664823\r\n",
        "6547000\t664887\r\n",
        "6548000\t664958\r\n"
       ]
      },
      {
       "output_type": "stream",
       "stream": "stdout",
       "text": [
        "6549000\t665047\r\n",
        "6550000\t665121\r\n",
        "6551000\t665199\r\n"
       ]
      },
      {
       "output_type": "stream",
       "stream": "stdout",
       "text": [
        "6552000\t665274\r\n",
        "6553000\t665341\r\n",
        "6554000\t665420\r\n"
       ]
      },
      {
       "output_type": "stream",
       "stream": "stdout",
       "text": [
        "6555000\t665489\r\n",
        "6556000\t665570\r\n",
        "6557000\t665647\r\n",
        "6558000\t665715\r\n"
       ]
      },
      {
       "output_type": "stream",
       "stream": "stdout",
       "text": [
        "6559000\t665785\r\n",
        "6560000\t665865\r\n",
        "6561000\t665932\r\n"
       ]
      },
      {
       "output_type": "stream",
       "stream": "stdout",
       "text": [
        "6562000\t666009\r\n",
        "6563000\t666074\r\n",
        "6564000\t666153\r\n",
        "6565000\t666234\r\n"
       ]
      },
      {
       "output_type": "stream",
       "stream": "stdout",
       "text": [
        "6566000\t666301\r\n",
        "6567000\t666375\r\n",
        "6568000\t666440\r\n"
       ]
      },
      {
       "output_type": "stream",
       "stream": "stdout",
       "text": [
        "6569000\t666520\r\n",
        "6570000\t666589\r\n",
        "6571000\t666658\r\n"
       ]
      },
      {
       "output_type": "stream",
       "stream": "stdout",
       "text": [
        "6572000\t666738\r\n",
        "6573000\t666812\r\n",
        "6574000\t666886\r\n",
        "6575000\t666958\r\n"
       ]
      },
      {
       "output_type": "stream",
       "stream": "stdout",
       "text": [
        "6576000\t667015\r\n",
        "6577000\t667111\r\n",
        "6578000\t667182\r\n"
       ]
      },
      {
       "output_type": "stream",
       "stream": "stdout",
       "text": [
        "6579000\t667273\r\n",
        "6580000\t667346\r\n",
        "6581000\t667414\r\n",
        "6582000\t667476\r\n"
       ]
      },
      {
       "output_type": "stream",
       "stream": "stdout",
       "text": [
        "6583000\t667558\r\n",
        "6584000\t667622\r\n",
        "6585000\t667699\r\n"
       ]
      },
      {
       "output_type": "stream",
       "stream": "stdout",
       "text": [
        "6586000\t667780\r\n",
        "6587000\t667849\r\n",
        "6588000\t667932\r\n"
       ]
      },
      {
       "output_type": "stream",
       "stream": "stdout",
       "text": [
        "6589000\t668008\r\n",
        "6590000\t668095\r\n",
        "6591000\t668164\r\n",
        "6592000\t668250\r\n"
       ]
      },
      {
       "output_type": "stream",
       "stream": "stdout",
       "text": [
        "6593000\t668311\r\n",
        "6594000\t668382\r\n",
        "6595000\t668456\r\n"
       ]
      },
      {
       "output_type": "stream",
       "stream": "stdout",
       "text": [
        "6596000\t668523\r\n",
        "6597000\t668588\r\n",
        "6598000\t668660\r\n",
        "6599000\t668741\r\n"
       ]
      },
      {
       "output_type": "stream",
       "stream": "stdout",
       "text": [
        "6600000\t668812\r\n",
        "6601000\t668893\r\n",
        "6602000\t668956\r\n"
       ]
      },
      {
       "output_type": "stream",
       "stream": "stdout",
       "text": [
        "6603000\t669028\r\n",
        "6604000\t669092\r\n",
        "6605000\t669153\r\n",
        "6606000\t669241\r\n"
       ]
      },
      {
       "output_type": "stream",
       "stream": "stdout",
       "text": [
        "6607000\t669312\r\n",
        "6608000\t669393\r\n",
        "6609000\t669462\r\n"
       ]
      },
      {
       "output_type": "stream",
       "stream": "stdout",
       "text": [
        "6610000\t669549\r\n",
        "6611000\t669610\r\n",
        "6612000\t669678\r\n"
       ]
      },
      {
       "output_type": "stream",
       "stream": "stdout",
       "text": [
        "6613000\t669754\r\n",
        "6614000\t669822\r\n",
        "6615000\t669887\r\n",
        "6616000\t669957\r\n"
       ]
      },
      {
       "output_type": "stream",
       "stream": "stdout",
       "text": [
        "6617000\t670032\r\n",
        "6618000\t670108\r\n",
        "6619000\t670197\r\n"
       ]
      },
      {
       "output_type": "stream",
       "stream": "stdout",
       "text": [
        "6620000\t670280\r\n",
        "6621000\t670369\r\n",
        "6622000\t670445\r\n",
        "6623000\t670516\r\n"
       ]
      },
      {
       "output_type": "stream",
       "stream": "stdout",
       "text": [
        "6624000\t670583\r\n",
        "6625000\t670667\r\n",
        "6626000\t670737\r\n"
       ]
      },
      {
       "output_type": "stream",
       "stream": "stdout",
       "text": [
        "6627000\t670810\r\n",
        "6628000\t670888\r\n",
        "6629000\t670966\r\n"
       ]
      },
      {
       "output_type": "stream",
       "stream": "stdout",
       "text": [
        "6630000\t671051\r\n",
        "6631000\t671129\r\n",
        "6632000\t671205\r\n",
        "6633000\t671326\r\n"
       ]
      },
      {
       "output_type": "stream",
       "stream": "stdout",
       "text": [
        "6634000\t671409\r\n",
        "6635000\t671493\r\n"
       ]
      },
      {
       "output_type": "stream",
       "stream": "stdout",
       "text": [
        "6636000\t671570\r\n",
        "6637000\t671644\r\n",
        "6638000\t671735\r\n"
       ]
      },
      {
       "output_type": "stream",
       "stream": "stdout",
       "text": [
        "6639000\t671803\r\n",
        "6640000\t671892\r\n",
        "6641000\t671970\r\n"
       ]
      },
      {
       "output_type": "stream",
       "stream": "stdout",
       "text": [
        "6642000\t672057\r\n",
        "6643000\t672133\r\n",
        "6644000\t672222\r\n",
        "6645000\t672310\r\n"
       ]
      },
      {
       "output_type": "stream",
       "stream": "stdout",
       "text": [
        "6646000\t672401\r\n",
        "6647000\t672505\r\n",
        "6648000\t672618\r\n"
       ]
      },
      {
       "output_type": "stream",
       "stream": "stdout",
       "text": [
        "6649000\t672743\r\n",
        "6650000\t672852\r\n",
        "6651000\t672963\r\n",
        "6652000\t673071\r\n"
       ]
      },
      {
       "output_type": "stream",
       "stream": "stdout",
       "text": [
        "6653000\t673176\r\n",
        "6654000\t673289\r\n",
        "6655000\t673409\r\n"
       ]
      },
      {
       "output_type": "stream",
       "stream": "stdout",
       "text": [
        "6656000\t673548\r\n",
        "6657000\t673675\r\n",
        "6658000\t673800\r\n"
       ]
      },
      {
       "output_type": "stream",
       "stream": "stdout",
       "text": [
        "6659000\t673927\r\n",
        "6660000\t674069\r\n",
        "6661000\t674198\r\n"
       ]
      },
      {
       "output_type": "stream",
       "stream": "stdout",
       "text": [
        "6662000\t674323\r\n",
        "6663000\t674443\r\n",
        "6664000\t674591\r\n",
        "6665000\t674734\r\n"
       ]
      },
      {
       "output_type": "stream",
       "stream": "stdout",
       "text": [
        "6666000\t674863\r\n",
        "6667000\t674997\r\n",
        "6668000\t675145\r\n"
       ]
      },
      {
       "output_type": "stream",
       "stream": "stdout",
       "text": [
        "6669000\t675281\r\n",
        "6670000\t675398\r\n",
        "6671000\t675529\r\n"
       ]
      },
      {
       "output_type": "stream",
       "stream": "stdout",
       "text": [
        "6672000\t675655\r\n",
        "6673000\t675761\r\n",
        "6674000\t675878\r\n",
        "6675000\t675983\r\n"
       ]
      },
      {
       "output_type": "stream",
       "stream": "stdout",
       "text": [
        "6676000\t676091\r\n",
        "6677000\t676200\r\n",
        "6678000\t676307\r\n"
       ]
      },
      {
       "output_type": "stream",
       "stream": "stdout",
       "text": [
        "6679000\t676391\r\n",
        "6680000\t676481\r\n",
        "6681000\t676580\r\n"
       ]
      },
      {
       "output_type": "stream",
       "stream": "stdout",
       "text": [
        "6682000\t676670\r\n",
        "6683000\t676764\r\n",
        "6684000\t676871\r\n",
        "6685000\t676967\r\n"
       ]
      },
      {
       "output_type": "stream",
       "stream": "stdout",
       "text": [
        "6686000\t677042\r\n",
        "6687000\t677126\r\n",
        "6688000\t677234\r\n"
       ]
      },
      {
       "output_type": "stream",
       "stream": "stdout",
       "text": [
        "6689000\t677339\r\n",
        "6690000\t677430\r\n",
        "6691000\t677537\r\n"
       ]
      },
      {
       "output_type": "stream",
       "stream": "stdout",
       "text": [
        "6692000\t677627\r\n",
        "6693000\t677709\r\n",
        "6694000\t677791\r\n",
        "6695000\t677876\r\n"
       ]
      },
      {
       "output_type": "stream",
       "stream": "stdout",
       "text": [
        "6696000\t677980\r\n",
        "6697000\t678075\r\n",
        "6698000\t678178\r\n"
       ]
      },
      {
       "output_type": "stream",
       "stream": "stdout",
       "text": [
        "6699000\t678262\r\n",
        "6700000\t678354\r\n",
        "6701000\t678444\r\n",
        "6702000\t678532\r\n"
       ]
      },
      {
       "output_type": "stream",
       "stream": "stdout",
       "text": [
        "6703000\t678610\r\n",
        "6704000\t678718\r\n",
        "6705000\t678832\r\n"
       ]
      },
      {
       "output_type": "stream",
       "stream": "stdout",
       "text": [
        "6706000\t678924\r\n",
        "6707000\t678989\r\n",
        "6708000\t679068\r\n"
       ]
      },
      {
       "output_type": "stream",
       "stream": "stdout",
       "text": [
        "6709000\t679145\r\n",
        "6710000\t679233\r\n",
        "6711000\t679309\r\n",
        "6712000\t679368\r\n"
       ]
      },
      {
       "output_type": "stream",
       "stream": "stdout",
       "text": [
        "6713000\t679450\r\n",
        "6714000\t679524\r\n",
        "6715000\t679593\r\n"
       ]
      },
      {
       "output_type": "stream",
       "stream": "stdout",
       "text": [
        "6716000\t679671\r\n",
        "6717000\t679740\r\n",
        "6718000\t679815\r\n",
        "6719000\t679885\r\n"
       ]
      },
      {
       "output_type": "stream",
       "stream": "stdout",
       "text": [
        "6720000\t679971\r\n",
        "6721000\t680040\r\n",
        "6722000\t680111\r\n"
       ]
      },
      {
       "output_type": "stream",
       "stream": "stdout",
       "text": [
        "6723000\t680186\r\n",
        "6724000\t680268\r\n",
        "6725000\t680345\r\n"
       ]
      },
      {
       "output_type": "stream",
       "stream": "stdout",
       "text": [
        "6726000\t680411\r\n",
        "6727000\t680485\r\n",
        "6728000\t680556\r\n",
        "6729000\t680627\r\n"
       ]
      },
      {
       "output_type": "stream",
       "stream": "stdout",
       "text": [
        "6730000\t680711\r\n",
        "6731000\t680781\r\n",
        "6732000\t680846\r\n"
       ]
      },
      {
       "output_type": "stream",
       "stream": "stdout",
       "text": [
        "6733000\t680913\r\n",
        "6734000\t680983\r\n",
        "6735000\t681065\r\n",
        "6736000\t681149\r\n"
       ]
      },
      {
       "output_type": "stream",
       "stream": "stdout",
       "text": [
        "6737000\t681226\r\n",
        "6738000\t681304\r\n",
        "6739000\t681381\r\n"
       ]
      },
      {
       "output_type": "stream",
       "stream": "stdout",
       "text": [
        "6740000\t681453\r\n",
        "6741000\t681520\r\n",
        "6742000\t681584\r\n"
       ]
      },
      {
       "output_type": "stream",
       "stream": "stdout",
       "text": [
        "6743000\t681668\r\n",
        "6744000\t681743\r\n",
        "6745000\t681807\r\n",
        "6746000\t681865\r\n"
       ]
      },
      {
       "output_type": "stream",
       "stream": "stdout",
       "text": [
        "6747000\t681936\r\n",
        "6748000\t682004\r\n",
        "6749000\t682079\r\n"
       ]
      },
      {
       "output_type": "stream",
       "stream": "stdout",
       "text": [
        "6750000\t682148\r\n",
        "6751000\t682210\r\n",
        "6752000\t682279\r\n",
        "6753000\t682346\r\n"
       ]
      },
      {
       "output_type": "stream",
       "stream": "stdout",
       "text": [
        "6754000\t682405\r\n",
        "6755000\t682485\r\n",
        "6756000\t682547\r\n"
       ]
      },
      {
       "output_type": "stream",
       "stream": "stdout",
       "text": [
        "6757000\t682616\r\n",
        "6758000\t682681\r\n",
        "6759000\t682741\r\n"
       ]
      },
      {
       "output_type": "stream",
       "stream": "stdout",
       "text": [
        "6760000\t682823\r\n",
        "6761000\t682892\r\n",
        "6762000\t682951\r\n",
        "6763000\t683018\r\n"
       ]
      },
      {
       "output_type": "stream",
       "stream": "stdout",
       "text": [
        "6764000\t683093\r\n",
        "6765000\t683169\r\n",
        "6766000\t683234\r\n"
       ]
      },
      {
       "output_type": "stream",
       "stream": "stdout",
       "text": [
        "6767000\t683303\r\n",
        "6768000\t683375\r\n",
        "6769000\t683453\r\n",
        "6770000\t683498\r\n"
       ]
      },
      {
       "output_type": "stream",
       "stream": "stdout",
       "text": [
        "6771000\t683564\r\n",
        "6772000\t683643\r\n",
        "6773000\t683711\r\n"
       ]
      },
      {
       "output_type": "stream",
       "stream": "stdout",
       "text": [
        "6774000\t683784\r\n",
        "6775000\t683851\r\n",
        "6776000\t683919\r\n"
       ]
      },
      {
       "output_type": "stream",
       "stream": "stdout",
       "text": [
        "6777000\t683983\r\n",
        "6778000\t684045\r\n",
        "6779000\t684111\r\n",
        "6780000\t684172\r\n"
       ]
      },
      {
       "output_type": "stream",
       "stream": "stdout",
       "text": [
        "6781000\t684245\r\n",
        "6782000\t684312\r\n",
        "6783000\t684380\r\n"
       ]
      },
      {
       "output_type": "stream",
       "stream": "stdout",
       "text": [
        "6784000\t684439\r\n",
        "6785000\t684517\r\n",
        "6786000\t684595\r\n",
        "6787000\t684675\r\n"
       ]
      },
      {
       "output_type": "stream",
       "stream": "stdout",
       "text": [
        "6788000\t684743\r\n",
        "6789000\t684819\r\n",
        "6790000\t684883\r\n"
       ]
      },
      {
       "output_type": "stream",
       "stream": "stdout",
       "text": [
        "6791000\t684952\r\n",
        "6792000\t685015\r\n",
        "6793000\t685081\r\n"
       ]
      },
      {
       "output_type": "stream",
       "stream": "stdout",
       "text": [
        "6794000\t685140\r\n",
        "6795000\t685214\r\n",
        "6796000\t685273\r\n",
        "6797000\t685327\r\n"
       ]
      },
      {
       "output_type": "stream",
       "stream": "stdout",
       "text": [
        "6798000\t685398\r\n",
        "6799000\t685461\r\n",
        "6800000\t685529\r\n"
       ]
      },
      {
       "output_type": "stream",
       "stream": "stdout",
       "text": [
        "6801000\t685592\r\n",
        "6802000\t685650\r\n",
        "6803000\t685708\r\n",
        "6804000\t685779\r\n"
       ]
      },
      {
       "output_type": "stream",
       "stream": "stdout",
       "text": [
        "6805000\t685850\r\n",
        "6806000\t685919\r\n",
        "6807000\t685983\r\n"
       ]
      },
      {
       "output_type": "stream",
       "stream": "stdout",
       "text": [
        "6808000\t686044\r\n",
        "6809000\t686105\r\n",
        "6810000\t686187\r\n",
        "6811000\t686245\r\n"
       ]
      },
      {
       "output_type": "stream",
       "stream": "stdout",
       "text": [
        "6812000\t686310\r\n",
        "6813000\t686390\r\n",
        "6814000\t686465\r\n"
       ]
      },
      {
       "output_type": "stream",
       "stream": "stdout",
       "text": [
        "6815000\t686524\r\n",
        "6816000\t686597\r\n",
        "6817000\t686652\r\n"
       ]
      },
      {
       "output_type": "stream",
       "stream": "stdout",
       "text": [
        "6818000\t686718\r\n",
        "6819000\t686785\r\n",
        "6820000\t686854\r\n",
        "6821000\t686908\r\n"
       ]
      },
      {
       "output_type": "stream",
       "stream": "stdout",
       "text": [
        "6822000\t686974\r\n",
        "6823000\t687048\r\n",
        "6824000\t687116\r\n"
       ]
      },
      {
       "output_type": "stream",
       "stream": "stdout",
       "text": [
        "6825000\t687178\r\n",
        "6826000\t687252\r\n",
        "6827000\t687328\r\n"
       ]
      },
      {
       "output_type": "stream",
       "stream": "stdout",
       "text": [
        "6828000\t687396\r\n",
        "6829000\t687474\r\n",
        "6830000\t687564\r\n",
        "6831000\t687627\r\n"
       ]
      },
      {
       "output_type": "stream",
       "stream": "stdout",
       "text": [
        "6832000\t687686\r\n",
        "6833000\t687759\r\n",
        "6834000\t687833\r\n"
       ]
      },
      {
       "output_type": "stream",
       "stream": "stdout",
       "text": [
        "6835000\t687906\r\n",
        "6836000\t687968\r\n",
        "6837000\t688042\r\n"
       ]
      },
      {
       "output_type": "stream",
       "stream": "stdout",
       "text": [
        "6838000\t688113\r\n",
        "6839000\t688173\r\n",
        "6840000\t688224\r\n",
        "6841000\t688296\r\n"
       ]
      },
      {
       "output_type": "stream",
       "stream": "stdout",
       "text": [
        "6842000\t688360\r\n",
        "6843000\t688425\r\n",
        "6844000\t688482\r\n"
       ]
      },
      {
       "output_type": "stream",
       "stream": "stdout",
       "text": [
        "6845000\t688534\r\n",
        "6846000\t688590\r\n",
        "6847000\t688662\r\n",
        "6848000\t688743\r\n"
       ]
      },
      {
       "output_type": "stream",
       "stream": "stdout",
       "text": [
        "6849000\t688809\r\n",
        "6850000\t688874\r\n",
        "6851000\t688930\r\n"
       ]
      },
      {
       "output_type": "stream",
       "stream": "stdout",
       "text": [
        "6852000\t689001\r\n",
        "6853000\t689073\r\n",
        "6854000\t689129\r\n",
        "6855000\t689206\r\n"
       ]
      },
      {
       "output_type": "stream",
       "stream": "stdout",
       "text": [
        "6856000\t689264\r\n",
        "6857000\t689340\r\n",
        "6858000\t689404\r\n"
       ]
      },
      {
       "output_type": "stream",
       "stream": "stdout",
       "text": [
        "6859000\t689471\r\n",
        "6860000\t689554\r\n",
        "6861000\t689634\r\n"
       ]
      },
      {
       "output_type": "stream",
       "stream": "stdout",
       "text": [
        "6862000\t689688\r\n",
        "6863000\t689757\r\n",
        "6864000\t689832\r\n",
        "6865000\t689903\r\n"
       ]
      },
      {
       "output_type": "stream",
       "stream": "stdout",
       "text": [
        "6866000\t689971\r\n",
        "6867000\t690035\r\n",
        "6868000\t690104\r\n"
       ]
      },
      {
       "output_type": "stream",
       "stream": "stdout",
       "text": [
        "6869000\t690161\r\n",
        "6870000\t690240\r\n",
        "6871000\t690303\r\n",
        "6872000\t690382\r\n"
       ]
      },
      {
       "output_type": "stream",
       "stream": "stdout",
       "text": [
        "6873000\t690442\r\n",
        "6874000\t690507\r\n",
        "6875000\t690566\r\n"
       ]
      },
      {
       "output_type": "stream",
       "stream": "stdout",
       "text": [
        "6876000\t690637\r\n",
        "6877000\t690717\r\n",
        "6878000\t690772\r\n"
       ]
      },
      {
       "output_type": "stream",
       "stream": "stdout",
       "text": [
        "6879000\t690825\r\n",
        "6880000\t690893\r\n",
        "6881000\t690968\r\n",
        "6882000\t691036\r\n"
       ]
      },
      {
       "output_type": "stream",
       "stream": "stdout",
       "text": [
        "6883000\t691102\r\n",
        "6884000\t691173\r\n",
        "6885000\t691239\r\n"
       ]
      },
      {
       "output_type": "stream",
       "stream": "stdout",
       "text": [
        "6886000\t691318\r\n",
        "6887000\t691393\r\n",
        "6888000\t691464\r\n",
        "6889000\t691540\r\n"
       ]
      },
      {
       "output_type": "stream",
       "stream": "stdout",
       "text": [
        "6890000\t691634\r\n",
        "6891000\t691740\r\n",
        "6892000\t691830\r\n"
       ]
      },
      {
       "output_type": "stream",
       "stream": "stdout",
       "text": [
        "6893000\t691911\r\n",
        "6894000\t691983\r\n",
        "6895000\t692090\r\n"
       ]
      },
      {
       "output_type": "stream",
       "stream": "stdout",
       "text": [
        "6896000\t692184\r\n",
        "6897000\t692277\r\n",
        "6898000\t692367\r\n",
        "6899000\t692471\r\n"
       ]
      },
      {
       "output_type": "stream",
       "stream": "stdout",
       "text": [
        "6900000\t692563\r\n",
        "6901000\t692667\r\n",
        "6902000\t692753\r\n"
       ]
      },
      {
       "output_type": "stream",
       "stream": "stdout",
       "text": [
        "6903000\t692840\r\n",
        "6904000\t692929\r\n",
        "6905000\t693013\r\n",
        "6906000\t693091\r\n"
       ]
      },
      {
       "output_type": "stream",
       "stream": "stdout",
       "text": [
        "6907000\t693192\r\n",
        "6908000\t693293\r\n",
        "6909000\t693395\r\n"
       ]
      },
      {
       "output_type": "stream",
       "stream": "stdout",
       "text": [
        "6910000\t693492\r\n",
        "6911000\t693591\r\n",
        "6912000\t693679\r\n"
       ]
      },
      {
       "output_type": "stream",
       "stream": "stdout",
       "text": [
        "6913000\t693773\r\n",
        "6914000\t693875\r\n",
        "6915000\t693976\r\n",
        "6916000\t694067\r\n"
       ]
      },
      {
       "output_type": "stream",
       "stream": "stdout",
       "text": [
        "6917000\t694173\r\n",
        "6918000\t694288\r\n",
        "6919000\t694407\r\n"
       ]
      },
      {
       "output_type": "stream",
       "stream": "stdout",
       "text": [
        "6920000\t694510\r\n",
        "6921000\t694633\r\n",
        "6922000\t694774\r\n"
       ]
      },
      {
       "output_type": "stream",
       "stream": "stdout",
       "text": [
        "6923000\t694923\r\n",
        "6924000\t695067\r\n",
        "6925000\t695220\r\n"
       ]
      },
      {
       "output_type": "stream",
       "stream": "stdout",
       "text": [
        "6926000\t695349\r\n",
        "6927000\t695467\r\n",
        "6928000\t695593\r\n",
        "6929000\t695720\r\n"
       ]
      },
      {
       "output_type": "stream",
       "stream": "stdout",
       "text": [
        "6930000\t695843\r\n",
        "6931000\t695952\r\n",
        "6932000\t696061\r\n"
       ]
      },
      {
       "output_type": "stream",
       "stream": "stdout",
       "text": [
        "6933000\t696156\r\n",
        "6934000\t696273\r\n",
        "6935000\t696365\r\n"
       ]
      },
      {
       "output_type": "stream",
       "stream": "stdout",
       "text": [
        "6936000\t696451\r\n",
        "6937000\t696540\r\n",
        "6938000\t696642\r\n",
        "6939000\t696736\r\n"
       ]
      },
      {
       "output_type": "stream",
       "stream": "stdout",
       "text": [
        "6940000\t696833\r\n",
        "6941000\t696942\r\n",
        "6942000\t697019\r\n"
       ]
      },
      {
       "output_type": "stream",
       "stream": "stdout",
       "text": [
        "6943000\t697111\r\n",
        "6944000\t697202\r\n",
        "6945000\t697295\r\n",
        "6946000\t697366\r\n"
       ]
      },
      {
       "output_type": "stream",
       "stream": "stdout",
       "text": [
        "6947000\t697468\r\n",
        "6948000\t697553\r\n",
        "6949000\t697621\r\n"
       ]
      },
      {
       "output_type": "stream",
       "stream": "stdout",
       "text": [
        "6950000\t697699\r\n",
        "6951000\t697784\r\n",
        "6952000\t697850\r\n"
       ]
      },
      {
       "output_type": "stream",
       "stream": "stdout",
       "text": [
        "6953000\t697929\r\n",
        "6954000\t698025\r\n",
        "6955000\t698100\r\n",
        "6956000\t698185\r\n"
       ]
      },
      {
       "output_type": "stream",
       "stream": "stdout",
       "text": [
        "6957000\t698269\r\n",
        "6958000\t698340\r\n",
        "6959000\t698427\r\n"
       ]
      },
      {
       "output_type": "stream",
       "stream": "stdout",
       "text": [
        "6960000\t698507\r\n",
        "6961000\t698602\r\n",
        "6962000\t698691\r\n"
       ]
      },
      {
       "output_type": "stream",
       "stream": "stdout",
       "text": [
        "6963000\t698790\r\n",
        "6964000\t698860\r\n",
        "6965000\t698932\r\n",
        "6966000\t698995\r\n"
       ]
      },
      {
       "output_type": "stream",
       "stream": "stdout",
       "text": [
        "6967000\t699075\r\n",
        "6968000\t699163\r\n",
        "6969000\t699243\r\n"
       ]
      },
      {
       "output_type": "stream",
       "stream": "stdout",
       "text": [
        "6970000\t699317\r\n",
        "6971000\t699385\r\n",
        "6972000\t699463\r\n",
        "6973000\t699538\r\n"
       ]
      },
      {
       "output_type": "stream",
       "stream": "stdout",
       "text": [
        "6974000\t699621\r\n",
        "6975000\t699698\r\n",
        "6976000\t699781\r\n"
       ]
      },
      {
       "output_type": "stream",
       "stream": "stdout",
       "text": [
        "6977000\t699843\r\n",
        "6978000\t699904\r\n",
        "6979000\t699969\r\n"
       ]
      },
      {
       "output_type": "stream",
       "stream": "stdout",
       "text": [
        "6980000\t700036\r\n",
        "6981000\t700123\r\n",
        "6982000\t700203\r\n",
        "6983000\t700273\r\n"
       ]
      },
      {
       "output_type": "stream",
       "stream": "stdout",
       "text": [
        "6984000\t700333\r\n",
        "6985000\t700408\r\n",
        "6986000\t700496\r\n"
       ]
      },
      {
       "output_type": "stream",
       "stream": "stdout",
       "text": [
        "6987000\t700578\r\n",
        "6988000\t700649\r\n",
        "6989000\t700719\r\n",
        "6990000\t700791\r\n"
       ]
      },
      {
       "output_type": "stream",
       "stream": "stdout",
       "text": [
        "6991000\t700856\r\n",
        "6992000\t700929\r\n",
        "6993000\t700993\r\n"
       ]
      },
      {
       "output_type": "stream",
       "stream": "stdout",
       "text": [
        "6994000\t701074\r\n",
        "6995000\t701140\r\n",
        "6996000\t701219\r\n"
       ]
      },
      {
       "output_type": "stream",
       "stream": "stdout",
       "text": [
        "6997000\t701293\r\n",
        "6998000\t701357\r\n",
        "6999000\t701437\r\n",
        "7000000\t701503\r\n"
       ]
      },
      {
       "output_type": "stream",
       "stream": "stdout",
       "text": [
        "7001000\t701578\r\n",
        "7002000\t701649\r\n",
        "7003000\t701723\r\n"
       ]
      },
      {
       "output_type": "stream",
       "stream": "stdout",
       "text": [
        "7004000\t701794\r\n",
        "7005000\t701868\r\n",
        "7006000\t701936\r\n",
        "7007000\t702014\r\n"
       ]
      },
      {
       "output_type": "stream",
       "stream": "stdout",
       "text": [
        "7008000\t702079\r\n",
        "7009000\t702148\r\n",
        "7010000\t702212\r\n"
       ]
      },
      {
       "output_type": "stream",
       "stream": "stdout",
       "text": [
        "7011000\t702294\r\n",
        "7012000\t702357\r\n",
        "7013000\t702429\r\n"
       ]
      },
      {
       "output_type": "stream",
       "stream": "stdout",
       "text": [
        "7014000\t702492\r\n",
        "7015000\t702553\r\n",
        "7016000\t702623\r\n",
        "7017000\t702696\r\n"
       ]
      },
      {
       "output_type": "stream",
       "stream": "stdout",
       "text": [
        "7018000\t702759\r\n",
        "7019000\t702822\r\n",
        "7020000\t702889\r\n"
       ]
      },
      {
       "output_type": "stream",
       "stream": "stdout",
       "text": [
        "7021000\t702959\r\n",
        "7022000\t703036\r\n",
        "7023000\t703113\r\n",
        "7024000\t703175\r\n"
       ]
      },
      {
       "output_type": "stream",
       "stream": "stdout",
       "text": [
        "7025000\t703252\r\n",
        "7026000\t703319\r\n",
        "7027000\t703389\r\n"
       ]
      },
      {
       "output_type": "stream",
       "stream": "stdout",
       "text": [
        "7028000\t703457\r\n",
        "7029000\t703514\r\n",
        "7030000\t703584\r\n"
       ]
      },
      {
       "output_type": "stream",
       "stream": "stdout",
       "text": [
        "7031000\t703644\r\n",
        "7032000\t703707\r\n",
        "7033000\t703776\r\n",
        "7034000\t703849\r\n"
       ]
      },
      {
       "output_type": "stream",
       "stream": "stdout",
       "text": [
        "7035000\t703920\r\n",
        "7036000\t703998\r\n",
        "7037000\t704057\r\n"
       ]
      },
      {
       "output_type": "stream",
       "stream": "stdout",
       "text": [
        "7038000\t704128\r\n",
        "7039000\t704199\r\n",
        "7040000\t704257\r\n",
        "7041000\t704325\r\n"
       ]
      },
      {
       "output_type": "stream",
       "stream": "stdout",
       "text": [
        "7042000\t704393\r\n",
        "7043000\t704461\r\n",
        "7044000\t704515\r\n"
       ]
      },
      {
       "output_type": "stream",
       "stream": "stdout",
       "text": [
        "7045000\t704584\r\n",
        "7046000\t704652\r\n",
        "7047000\t704727\r\n"
       ]
      },
      {
       "output_type": "stream",
       "stream": "stdout",
       "text": [
        "7048000\t704795\r\n",
        "7049000\t704863\r\n",
        "7050000\t704938\r\n",
        "7051000\t705006\r\n"
       ]
      },
      {
       "output_type": "stream",
       "stream": "stdout",
       "text": [
        "7052000\t705079\r\n",
        "7053000\t705143\r\n",
        "7054000\t705211\r\n"
       ]
      },
      {
       "output_type": "stream",
       "stream": "stdout",
       "text": [
        "7055000\t705276\r\n",
        "7056000\t705339\r\n",
        "7057000\t705404\r\n",
        "7058000\t705489\r\n"
       ]
      },
      {
       "output_type": "stream",
       "stream": "stdout",
       "text": [
        "7059000\t705563\r\n",
        "7060000\t705625\r\n",
        "7061000\t705706\r\n"
       ]
      },
      {
       "output_type": "stream",
       "stream": "stdout",
       "text": [
        "7062000\t705777\r\n",
        "7063000\t705838\r\n",
        "7064000\t705893\r\n"
       ]
      },
      {
       "output_type": "stream",
       "stream": "stdout",
       "text": [
        "7065000\t705955\r\n",
        "7066000\t706016\r\n",
        "7067000\t706081\r\n",
        "7068000\t706152\r\n"
       ]
      },
      {
       "output_type": "stream",
       "stream": "stdout",
       "text": [
        "7069000\t706233\r\n",
        "7070000\t706306\r\n",
        "7071000\t706377\r\n"
       ]
      },
      {
       "output_type": "stream",
       "stream": "stdout",
       "text": [
        "7072000\t706445\r\n",
        "7073000\t706521\r\n",
        "7074000\t706584\r\n"
       ]
      },
      {
       "output_type": "stream",
       "stream": "stdout",
       "text": [
        "7075000\t706654\r\n",
        "7076000\t706714\r\n",
        "7077000\t706765\r\n",
        "7078000\t706841\r\n"
       ]
      },
      {
       "output_type": "stream",
       "stream": "stdout",
       "text": [
        "7079000\t706897\r\n",
        "7080000\t706961\r\n",
        "7081000\t707041\r\n"
       ]
      },
      {
       "output_type": "stream",
       "stream": "stdout",
       "text": [
        "7082000\t707108\r\n",
        "7083000\t707162\r\n",
        "7084000\t707226\r\n",
        "7085000\t707290\r\n"
       ]
      },
      {
       "output_type": "stream",
       "stream": "stdout",
       "text": [
        "7086000\t707344\r\n",
        "7087000\t707417\r\n",
        "7088000\t707485\r\n"
       ]
      },
      {
       "output_type": "stream",
       "stream": "stdout",
       "text": [
        "7089000\t707550\r\n",
        "7090000\t707613\r\n",
        "7091000\t707679\r\n"
       ]
      },
      {
       "output_type": "stream",
       "stream": "stdout",
       "text": [
        "7092000\t707750\r\n",
        "7093000\t707821\r\n",
        "7094000\t707887\r\n",
        "7095000\t707956\r\n"
       ]
      },
      {
       "output_type": "stream",
       "stream": "stdout",
       "text": [
        "7096000\t708043\r\n",
        "7097000\t708123\r\n",
        "7098000\t708181\r\n"
       ]
      },
      {
       "output_type": "stream",
       "stream": "stdout",
       "text": [
        "7099000\t708241\r\n",
        "7100000\t708306\r\n",
        "7101000\t708364\r\n",
        "7102000\t708445\r\n"
       ]
      },
      {
       "output_type": "stream",
       "stream": "stdout",
       "text": [
        "7103000\t708504\r\n",
        "7104000\t708574\r\n",
        "7105000\t708641\r\n"
       ]
      },
      {
       "output_type": "stream",
       "stream": "stdout",
       "text": [
        "7106000\t708722\r\n",
        "7107000\t708818\r\n",
        "7108000\t708896\r\n",
        "7109000\t708973\r\n"
       ]
      },
      {
       "output_type": "stream",
       "stream": "stdout",
       "text": [
        "7110000\t709042\r\n",
        "7111000\t709113\r\n",
        "7112000\t709170\r\n"
       ]
      },
      {
       "output_type": "stream",
       "stream": "stdout",
       "text": [
        "7113000\t709233\r\n",
        "7114000\t709291\r\n",
        "7115000\t709346\r\n"
       ]
      },
      {
       "output_type": "stream",
       "stream": "stdout",
       "text": [
        "7116000\t709387\r\n",
        "7117000\t709458\r\n",
        "7118000\t709528\r\n",
        "7119000\t709608\r\n"
       ]
      },
      {
       "output_type": "stream",
       "stream": "stdout",
       "text": [
        "7120000\t709681\r\n",
        "7121000\t709764\r\n",
        "7122000\t709818\r\n"
       ]
      },
      {
       "output_type": "stream",
       "stream": "stdout",
       "text": [
        "7123000\t709898\r\n",
        "7124000\t709974\r\n",
        "7125000\t710043\r\n",
        "7126000\t710114\r\n"
       ]
      },
      {
       "output_type": "stream",
       "stream": "stdout",
       "text": [
        "7127000\t710171\r\n",
        "7128000\t710235\r\n",
        "7129000\t710294\r\n"
       ]
      },
      {
       "output_type": "stream",
       "stream": "stdout",
       "text": [
        "7130000\t710368\r\n",
        "7131000\t710437\r\n",
        "7132000\t710509\r\n"
       ]
      },
      {
       "output_type": "stream",
       "stream": "stdout",
       "text": [
        "7133000\t710592\r\n",
        "7134000\t710662\r\n",
        "7135000\t710744\r\n",
        "7136000\t710809\r\n"
       ]
      },
      {
       "output_type": "stream",
       "stream": "stdout",
       "text": [
        "7137000\t710882\r\n",
        "7138000\t710962\r\n",
        "7139000\t711035\r\n"
       ]
      },
      {
       "output_type": "stream",
       "stream": "stdout",
       "text": [
        "7140000\t711104\r\n",
        "7141000\t711173\r\n",
        "7142000\t711242\r\n",
        "7143000\t711306\r\n"
       ]
      },
      {
       "output_type": "stream",
       "stream": "stdout",
       "text": [
        "7144000\t711377\r\n",
        "7145000\t711443\r\n",
        "7146000\t711510\r\n"
       ]
      },
      {
       "output_type": "stream",
       "stream": "stdout",
       "text": [
        "7147000\t711586\r\n",
        "7148000\t711654\r\n",
        "7149000\t711735\r\n"
       ]
      },
      {
       "output_type": "stream",
       "stream": "stdout",
       "text": [
        "7150000\t711822\r\n",
        "7151000\t711900\r\n",
        "7152000\t711983\r\n",
        "7153000\t712073\r\n"
       ]
      },
      {
       "output_type": "stream",
       "stream": "stdout",
       "text": [
        "7154000\t712157\r\n",
        "7155000\t712226\r\n",
        "7156000\t712297\r\n"
       ]
      },
      {
       "output_type": "stream",
       "stream": "stdout",
       "text": [
        "7157000\t712386\r\n",
        "7158000\t712478\r\n",
        "7159000\t712555\r\n"
       ]
      },
      {
       "output_type": "stream",
       "stream": "stdout",
       "text": [
        "7160000\t712640\r\n",
        "7161000\t712725\r\n",
        "7162000\t712789\r\n",
        "7163000\t712872\r\n"
       ]
      },
      {
       "output_type": "stream",
       "stream": "stdout",
       "text": [
        "7164000\t712962\r\n",
        "7165000\t713045\r\n",
        "7166000\t713118\r\n"
       ]
      },
      {
       "output_type": "stream",
       "stream": "stdout",
       "text": [
        "7167000\t713209\r\n",
        "7168000\t713306\r\n",
        "7169000\t713377\r\n",
        "7170000\t713483\r\n"
       ]
      },
      {
       "output_type": "stream",
       "stream": "stdout",
       "text": [
        "7171000\t713568\r\n",
        "7172000\t713681\r\n",
        "7173000\t713793\r\n"
       ]
      },
      {
       "output_type": "stream",
       "stream": "stdout",
       "text": [
        "7174000\t713886\r\n",
        "7175000\t713989\r\n",
        "7176000\t714076\r\n"
       ]
      },
      {
       "output_type": "stream",
       "stream": "stdout",
       "text": [
        "7177000\t714180\r\n",
        "7178000\t714292\r\n",
        "7179000\t714396\r\n",
        "7180000\t714510\r\n"
       ]
      },
      {
       "output_type": "stream",
       "stream": "stdout",
       "text": [
        "7181000\t714680\r\n",
        "7182000\t714811\r\n",
        "7183000\t714959\r\n"
       ]
      },
      {
       "output_type": "stream",
       "stream": "stdout",
       "text": [
        "7184000\t715099\r\n",
        "7185000\t715231\r\n",
        "7186000\t715347\r\n"
       ]
      },
      {
       "output_type": "stream",
       "stream": "stdout",
       "text": [
        "7187000\t715486\r\n",
        "7188000\t715616\r\n",
        "7189000\t715734\r\n",
        "7190000\t715858\r\n"
       ]
      },
      {
       "output_type": "stream",
       "stream": "stdout",
       "text": [
        "7191000\t715979\r\n",
        "7192000\t716085\r\n",
        "7193000\t716201\r\n"
       ]
      },
      {
       "output_type": "stream",
       "stream": "stdout",
       "text": [
        "7194000\t716320\r\n",
        "7195000\t716414\r\n",
        "7196000\t716518\r\n"
       ]
      },
      {
       "output_type": "stream",
       "stream": "stdout",
       "text": [
        "7197000\t716611\r\n",
        "7198000\t716706\r\n",
        "7199000\t716793\r\n",
        "7200000\t716871\r\n"
       ]
      },
      {
       "output_type": "stream",
       "stream": "stdout",
       "text": [
        "7201000\t716978\r\n",
        "7202000\t717054\r\n",
        "7203000\t717155\r\n"
       ]
      },
      {
       "output_type": "stream",
       "stream": "stdout",
       "text": [
        "7204000\t717250\r\n",
        "7205000\t717333\r\n",
        "7206000\t717432\r\n"
       ]
      },
      {
       "output_type": "stream",
       "stream": "stdout",
       "text": [
        "7207000\t717523\r\n",
        "7208000\t717615\r\n",
        "7209000\t717713\r\n",
        "7210000\t717791\r\n"
       ]
      },
      {
       "output_type": "stream",
       "stream": "stdout",
       "text": [
        "7211000\t717900\r\n",
        "7212000\t718005\r\n",
        "7213000\t718104\r\n"
       ]
      },
      {
       "output_type": "stream",
       "stream": "stdout",
       "text": [
        "7214000\t718199\r\n",
        "7215000\t718293\r\n",
        "7216000\t718389\r\n"
       ]
      },
      {
       "output_type": "stream",
       "stream": "stdout",
       "text": [
        "7217000\t718484\r\n",
        "7218000\t718588\r\n",
        "7219000\t718691\r\n",
        "7220000\t718782\r\n"
       ]
      },
      {
       "output_type": "stream",
       "stream": "stdout",
       "text": [
        "7221000\t718844\r\n",
        "7222000\t718951\r\n",
        "7223000\t719039\r\n"
       ]
      },
      {
       "output_type": "stream",
       "stream": "stdout",
       "text": [
        "7224000\t719128\r\n",
        "7225000\t719203\r\n",
        "7226000\t719291\r\n",
        "7227000\t719353\r\n"
       ]
      },
      {
       "output_type": "stream",
       "stream": "stdout",
       "text": [
        "7228000\t719424\r\n",
        "7229000\t719508\r\n",
        "7230000\t719586\r\n"
       ]
      },
      {
       "output_type": "stream",
       "stream": "stdout",
       "text": [
        "7231000\t719671\r\n",
        "7232000\t719753\r\n",
        "7233000\t719829\r\n"
       ]
      },
      {
       "output_type": "stream",
       "stream": "stdout",
       "text": [
        "7234000\t719902\r\n",
        "7235000\t719985\r\n",
        "7236000\t720059\r\n",
        "7237000\t720139\r\n"
       ]
      },
      {
       "output_type": "stream",
       "stream": "stdout",
       "text": [
        "7238000\t720217\r\n",
        "7239000\t720288\r\n",
        "7240000\t720363\r\n"
       ]
      },
      {
       "output_type": "stream",
       "stream": "stdout",
       "text": [
        "7241000\t720439\r\n",
        "7242000\t720523\r\n",
        "7243000\t720596\r\n"
       ]
      },
      {
       "output_type": "stream",
       "stream": "stdout",
       "text": [
        "7244000\t720667\r\n",
        "7245000\t720735\r\n",
        "7246000\t720812\r\n",
        "7247000\t720891\r\n"
       ]
      },
      {
       "output_type": "stream",
       "stream": "stdout",
       "text": [
        "7248000\t720957\r\n",
        "7249000\t721045\r\n",
        "7250000\t721118\r\n"
       ]
      },
      {
       "output_type": "stream",
       "stream": "stdout",
       "text": [
        "7251000\t721177\r\n",
        "7252000\t721247\r\n",
        "7253000\t721320\r\n"
       ]
      },
      {
       "output_type": "stream",
       "stream": "stdout",
       "text": [
        "7254000\t721401\r\n",
        "7255000\t721477\r\n",
        "7256000\t721540\r\n",
        "7257000\t721617\r\n"
       ]
      },
      {
       "output_type": "stream",
       "stream": "stdout",
       "text": [
        "7258000\t721692\r\n",
        "7259000\t721769\r\n",
        "7260000\t721842\r\n"
       ]
      },
      {
       "output_type": "stream",
       "stream": "stdout",
       "text": [
        "7261000\t721915\r\n",
        "7262000\t721989\r\n",
        "7263000\t722060\r\n",
        "7264000\t722134\r\n"
       ]
      },
      {
       "output_type": "stream",
       "stream": "stdout",
       "text": [
        "7265000\t722213\r\n",
        "7266000\t722284\r\n",
        "7267000\t722352\r\n"
       ]
      },
      {
       "output_type": "stream",
       "stream": "stdout",
       "text": [
        "7268000\t722425\r\n",
        "7269000\t722487\r\n",
        "7270000\t722562\r\n"
       ]
      },
      {
       "output_type": "stream",
       "stream": "stdout",
       "text": [
        "7271000\t722621\r\n",
        "7272000\t722697\r\n",
        "7273000\t722759\r\n",
        "7274000\t722813\r\n"
       ]
      },
      {
       "output_type": "stream",
       "stream": "stdout",
       "text": [
        "7275000\t722863\r\n",
        "7276000\t722934\r\n",
        "7277000\t723016\r\n"
       ]
      },
      {
       "output_type": "stream",
       "stream": "stdout",
       "text": [
        "7278000\t723092\r\n",
        "7279000\t723166\r\n",
        "7280000\t723241\r\n",
        "7281000\t723300\r\n"
       ]
      },
      {
       "output_type": "stream",
       "stream": "stdout",
       "text": [
        "7282000\t723371\r\n",
        "7283000\t723435\r\n",
        "7284000\t723508\r\n"
       ]
      },
      {
       "output_type": "stream",
       "stream": "stdout",
       "text": [
        "7285000\t723570\r\n",
        "7286000\t723638\r\n",
        "7287000\t723695\r\n"
       ]
      },
      {
       "output_type": "stream",
       "stream": "stdout",
       "text": [
        "7288000\t723759\r\n",
        "7289000\t723837\r\n",
        "7290000\t723910\r\n",
        "7291000\t723992\r\n"
       ]
      },
      {
       "output_type": "stream",
       "stream": "stdout",
       "text": [
        "7292000\t724064\r\n",
        "7293000\t724133\r\n",
        "7294000\t724198\r\n"
       ]
      },
      {
       "output_type": "stream",
       "stream": "stdout",
       "text": [
        "7295000\t724257\r\n",
        "7296000\t724326\r\n",
        "7297000\t724383\r\n"
       ]
      },
      {
       "output_type": "stream",
       "stream": "stdout",
       "text": [
        "7298000\t724456\r\n",
        "7299000\t724525\r\n",
        "7300000\t724594\r\n",
        "7301000\t724673\r\n"
       ]
      },
      {
       "output_type": "stream",
       "stream": "stdout",
       "text": [
        "7302000\t724744\r\n",
        "7303000\t724804\r\n",
        "7304000\t724870\r\n"
       ]
      },
      {
       "output_type": "stream",
       "stream": "stdout",
       "text": [
        "7305000\t724950\r\n",
        "7306000\t725021\r\n",
        "7307000\t725089\r\n",
        "7308000\t725176\r\n"
       ]
      },
      {
       "output_type": "stream",
       "stream": "stdout",
       "text": [
        "7309000\t725252\r\n",
        "7310000\t725338\r\n",
        "7311000\t725399\r\n"
       ]
      },
      {
       "output_type": "stream",
       "stream": "stdout",
       "text": [
        "7312000\t725471\r\n",
        "7313000\t725545\r\n",
        "7314000\t725614\r\n"
       ]
      },
      {
       "output_type": "stream",
       "stream": "stdout",
       "text": [
        "7315000\t725675\r\n",
        "7316000\t725744\r\n",
        "7317000\t725814\r\n",
        "7318000\t725899\r\n"
       ]
      },
      {
       "output_type": "stream",
       "stream": "stdout",
       "text": [
        "7319000\t725957\r\n",
        "7320000\t726034\r\n",
        "7321000\t726106\r\n"
       ]
      },
      {
       "output_type": "stream",
       "stream": "stdout",
       "text": [
        "7322000\t726173\r\n",
        "7323000\t726231\r\n",
        "7324000\t726284\r\n",
        "7325000\t726354\r\n"
       ]
      },
      {
       "output_type": "stream",
       "stream": "stdout",
       "text": [
        "7326000\t726413\r\n",
        "7327000\t726491\r\n",
        "7328000\t726559\r\n"
       ]
      },
      {
       "output_type": "stream",
       "stream": "stdout",
       "text": [
        "7329000\t726610\r\n",
        "7330000\t726674\r\n",
        "7331000\t726732\r\n"
       ]
      },
      {
       "output_type": "stream",
       "stream": "stdout",
       "text": [
        "7332000\t726795\r\n",
        "7333000\t726849\r\n",
        "7334000\t726926\r\n",
        "7335000\t726991\r\n"
       ]
      },
      {
       "output_type": "stream",
       "stream": "stdout",
       "text": [
        "7336000\t727048\r\n",
        "7337000\t727118\r\n",
        "7338000\t727180\r\n"
       ]
      },
      {
       "output_type": "stream",
       "stream": "stdout",
       "text": [
        "7339000\t727234\r\n",
        "7340000\t727291\r\n",
        "7341000\t727355\r\n"
       ]
      },
      {
       "output_type": "stream",
       "stream": "stdout",
       "text": [
        "7342000\t727415\r\n",
        "7343000\t727492\r\n",
        "7344000\t727553\r\n",
        "7345000\t727619\r\n"
       ]
      },
      {
       "output_type": "stream",
       "stream": "stdout",
       "text": [
        "7346000\t727700\r\n",
        "7347000\t727770\r\n",
        "7348000\t727840\r\n"
       ]
      },
      {
       "output_type": "stream",
       "stream": "stdout",
       "text": [
        "7349000\t727912\r\n",
        "7350000\t727985\r\n",
        "7351000\t728050\r\n",
        "7352000\t728122\r\n"
       ]
      },
      {
       "output_type": "stream",
       "stream": "stdout",
       "text": [
        "7353000\t728193\r\n",
        "7354000\t728256\r\n",
        "7355000\t728334\r\n"
       ]
      },
      {
       "output_type": "stream",
       "stream": "stdout",
       "text": [
        "7356000\t728388\r\n",
        "7357000\t728468\r\n",
        "7358000\t728539\r\n"
       ]
      },
      {
       "output_type": "stream",
       "stream": "stdout",
       "text": [
        "7359000\t728606\r\n",
        "7360000\t728656\r\n",
        "7361000\t728716\r\n",
        "7362000\t728781\r\n"
       ]
      },
      {
       "output_type": "stream",
       "stream": "stdout",
       "text": [
        "7363000\t728845\r\n",
        "7364000\t728909\r\n",
        "7365000\t728987\r\n"
       ]
      },
      {
       "output_type": "stream",
       "stream": "stdout",
       "text": [
        "7366000\t729048\r\n",
        "7367000\t729108\r\n",
        "7368000\t729183\r\n",
        "7369000\t729265\r\n"
       ]
      },
      {
       "output_type": "stream",
       "stream": "stdout",
       "text": [
        "7370000\t729335\r\n",
        "7371000\t729397\r\n",
        "7372000\t729454\r\n"
       ]
      },
      {
       "output_type": "stream",
       "stream": "stdout",
       "text": [
        "7373000\t729518\r\n",
        "7374000\t729594\r\n",
        "7375000\t729670\r\n"
       ]
      },
      {
       "output_type": "stream",
       "stream": "stdout",
       "text": [
        "7376000\t729731\r\n",
        "7377000\t729811\r\n",
        "7378000\t729881\r\n",
        "7379000\t729941\r\n"
       ]
      },
      {
       "output_type": "stream",
       "stream": "stdout",
       "text": [
        "7380000\t729997\r\n",
        "7381000\t730066\r\n",
        "7382000\t730131\r\n"
       ]
      },
      {
       "output_type": "stream",
       "stream": "stdout",
       "text": [
        "7383000\t730182\r\n",
        "7384000\t730251\r\n",
        "7385000\t730307\r\n",
        "7386000\t730379\r\n"
       ]
      },
      {
       "output_type": "stream",
       "stream": "stdout",
       "text": [
        "7387000\t730436\r\n",
        "7388000\t730496\r\n",
        "7389000\t730563\r\n"
       ]
      },
      {
       "output_type": "stream",
       "stream": "stdout",
       "text": [
        "7390000\t730619\r\n",
        "7391000\t730683\r\n",
        "7392000\t730770\r\n"
       ]
      },
      {
       "output_type": "stream",
       "stream": "stdout",
       "text": [
        "7393000\t730836\r\n",
        "7394000\t730899\r\n",
        "7395000\t730975\r\n",
        "7396000\t731030\r\n"
       ]
      },
      {
       "output_type": "stream",
       "stream": "stdout",
       "text": [
        "7397000\t731094\r\n",
        "7398000\t731163\r\n",
        "7399000\t731235\r\n"
       ]
      },
      {
       "output_type": "stream",
       "stream": "stdout",
       "text": [
        "7400000\t731299\r\n",
        "7401000\t731363\r\n",
        "7402000\t731441\r\n",
        "7403000\t731496\r\n"
       ]
      },
      {
       "output_type": "stream",
       "stream": "stdout",
       "text": [
        "7404000\t731552\r\n",
        "7405000\t731621\r\n",
        "7406000\t731692\r\n"
       ]
      },
      {
       "output_type": "stream",
       "stream": "stdout",
       "text": [
        "7407000\t731757\r\n",
        "7408000\t731831\r\n",
        "7409000\t731928\r\n"
       ]
      },
      {
       "output_type": "stream",
       "stream": "stdout",
       "text": [
        "7410000\t732007\r\n",
        "7411000\t732084\r\n",
        "7412000\t732163\r\n",
        "7413000\t732244\r\n"
       ]
      },
      {
       "output_type": "stream",
       "stream": "stdout",
       "text": [
        "7414000\t732337\r\n",
        "7415000\t732427\r\n",
        "7416000\t732508\r\n"
       ]
      },
      {
       "output_type": "stream",
       "stream": "stdout",
       "text": [
        "7417000\t732590\r\n",
        "7418000\t732671\r\n",
        "7419000\t732744\r\n",
        "7420000\t732823\r\n"
       ]
      },
      {
       "output_type": "stream",
       "stream": "stdout",
       "text": [
        "7421000\t732896\r\n",
        "7422000\t732982\r\n",
        "7423000\t733068\r\n"
       ]
      },
      {
       "output_type": "stream",
       "stream": "stdout",
       "text": [
        "7424000\t733149\r\n",
        "7425000\t733236\r\n",
        "7426000\t733330\r\n"
       ]
      },
      {
       "output_type": "stream",
       "stream": "stdout",
       "text": [
        "7427000\t733413\r\n",
        "7428000\t733493\r\n",
        "7429000\t733585\r\n",
        "7430000\t733707\r\n"
       ]
      },
      {
       "output_type": "stream",
       "stream": "stdout",
       "text": [
        "7431000\t733805\r\n",
        "7432000\t733899\r\n",
        "7433000\t734010\r\n"
       ]
      },
      {
       "output_type": "stream",
       "stream": "stdout",
       "text": [
        "7434000\t734109\r\n",
        "7435000\t734208\r\n",
        "7436000\t734309\r\n"
       ]
      },
      {
       "output_type": "stream",
       "stream": "stdout",
       "text": [
        "7437000\t734413\r\n",
        "7438000\t734511\r\n",
        "7439000\t734627\r\n",
        "7440000\t734801\r\n"
       ]
      },
      {
       "output_type": "stream",
       "stream": "stdout",
       "text": [
        "7441000\t735016\r\n",
        "7442000\t735232\r\n",
        "7443000\t735417\r\n"
       ]
      },
      {
       "output_type": "stream",
       "stream": "stdout",
       "text": [
        "7444000\t735602\r\n",
        "7445000\t735761\r\n",
        "7446000\t735935\r\n"
       ]
      },
      {
       "output_type": "stream",
       "stream": "stdout",
       "text": [
        "7447000\t736108\r\n",
        "7448000\t736251\r\n",
        "7449000\t736414\r\n"
       ]
      },
      {
       "output_type": "stream",
       "stream": "stdout",
       "text": [
        "7450000\t736557\r\n",
        "7451000\t736705\r\n",
        "7452000\t736847\r\n",
        "7453000\t736964\r\n"
       ]
      },
      {
       "output_type": "stream",
       "stream": "stdout",
       "text": [
        "7454000\t737073\r\n",
        "7455000\t737192\r\n",
        "7456000\t737322\r\n"
       ]
      },
      {
       "output_type": "stream",
       "stream": "stdout",
       "text": [
        "7457000\t737427\r\n",
        "7458000\t737558\r\n",
        "7459000\t737665\r\n"
       ]
      },
      {
       "output_type": "stream",
       "stream": "stdout",
       "text": [
        "7460000\t737786\r\n",
        "7461000\t737890\r\n",
        "7462000\t738007\r\n",
        "7463000\t738101\r\n"
       ]
      },
      {
       "output_type": "stream",
       "stream": "stdout",
       "text": [
        "7464000\t738207\r\n",
        "7465000\t738313\r\n",
        "7466000\t738429\r\n"
       ]
      },
      {
       "output_type": "stream",
       "stream": "stdout",
       "text": [
        "7467000\t738548\r\n",
        "7468000\t738650\r\n",
        "7469000\t738761\r\n"
       ]
      },
      {
       "output_type": "stream",
       "stream": "stdout",
       "text": [
        "7470000\t738879\r\n",
        "7471000\t738978\r\n",
        "7472000\t739092\r\n",
        "7473000\t739228\r\n"
       ]
      },
      {
       "output_type": "stream",
       "stream": "stdout",
       "text": [
        "7474000\t739338\r\n",
        "7475000\t739432\r\n",
        "7476000\t739562\r\n"
       ]
      },
      {
       "output_type": "stream",
       "stream": "stdout",
       "text": [
        "7477000\t739669\r\n",
        "7478000\t739771\r\n",
        "7479000\t739890\r\n"
       ]
      },
      {
       "output_type": "stream",
       "stream": "stdout",
       "text": [
        "7480000\t739983\r\n",
        "7481000\t740082\r\n",
        "7482000\t740176\r\n",
        "7483000\t740267\r\n"
       ]
      },
      {
       "output_type": "stream",
       "stream": "stdout",
       "text": [
        "7484000\t740360\r\n",
        "7485000\t740443\r\n",
        "7486000\t740546\r\n"
       ]
      },
      {
       "output_type": "stream",
       "stream": "stdout",
       "text": [
        "7487000\t740642\r\n",
        "7488000\t740722\r\n",
        "7489000\t740806\r\n"
       ]
      },
      {
       "output_type": "stream",
       "stream": "stdout",
       "text": [
        "7490000\t740892\r\n",
        "7491000\t740975\r\n",
        "7492000\t741067\r\n",
        "7493000\t741146\r\n"
       ]
      },
      {
       "output_type": "stream",
       "stream": "stdout",
       "text": [
        "7494000\t741221\r\n",
        "7495000\t741295\r\n",
        "7496000\t741379\r\n"
       ]
      },
      {
       "output_type": "stream",
       "stream": "stdout",
       "text": [
        "7497000\t741472\r\n",
        "7498000\t741543\r\n",
        "7499000\t741617\r\n"
       ]
      },
      {
       "output_type": "stream",
       "stream": "stdout",
       "text": [
        "7500000\t741702\r\n",
        "7501000\t741777\r\n",
        "7502000\t741869\r\n",
        "7503000\t741945\r\n"
       ]
      },
      {
       "output_type": "stream",
       "stream": "stdout",
       "text": [
        "7504000\t742016\r\n",
        "7505000\t742097\r\n",
        "7506000\t742192\r\n"
       ]
      },
      {
       "output_type": "stream",
       "stream": "stdout",
       "text": [
        "7507000\t742291\r\n",
        "7508000\t742382\r\n",
        "7509000\t742470\r\n"
       ]
      },
      {
       "output_type": "stream",
       "stream": "stdout",
       "text": [
        "7510000\t742558\r\n",
        "7511000\t742626\r\n",
        "7512000\t742699\r\n",
        "7513000\t742775\r\n"
       ]
      },
      {
       "output_type": "stream",
       "stream": "stdout",
       "text": [
        "7514000\t742855\r\n",
        "7515000\t742944\r\n",
        "7516000\t743015\r\n"
       ]
      },
      {
       "output_type": "stream",
       "stream": "stdout",
       "text": [
        "7517000\t743115\r\n",
        "7518000\t743169\r\n",
        "7519000\t743251\r\n",
        "7520000\t743323\r\n"
       ]
      },
      {
       "output_type": "stream",
       "stream": "stdout",
       "text": [
        "7521000\t743390\r\n",
        "7522000\t743487\r\n",
        "7523000\t743572\r\n"
       ]
      },
      {
       "output_type": "stream",
       "stream": "stdout",
       "text": [
        "7524000\t743641\r\n",
        "7525000\t743722\r\n",
        "7526000\t743804\r\n"
       ]
      },
      {
       "output_type": "stream",
       "stream": "stdout",
       "text": [
        "7527000\t743870\r\n",
        "7528000\t743930\r\n",
        "7529000\t744005\r\n",
        "7530000\t744084\r\n"
       ]
      },
      {
       "output_type": "stream",
       "stream": "stdout",
       "text": [
        "7531000\t744152\r\n",
        "7532000\t744230\r\n",
        "7533000\t744321\r\n"
       ]
      },
      {
       "output_type": "stream",
       "stream": "stdout",
       "text": [
        "7534000\t744402\r\n",
        "7535000\t744477\r\n",
        "7536000\t744547\r\n"
       ]
      },
      {
       "output_type": "stream",
       "stream": "stdout",
       "text": [
        "7537000\t744626\r\n",
        "7538000\t744703\r\n",
        "7539000\t744783\r\n",
        "7540000\t744844\r\n"
       ]
      },
      {
       "output_type": "stream",
       "stream": "stdout",
       "text": [
        "7541000\t744928\r\n",
        "7542000\t745004\r\n",
        "7543000\t745099\r\n"
       ]
      },
      {
       "output_type": "stream",
       "stream": "stdout",
       "text": [
        "7544000\t745172\r\n",
        "7545000\t745246\r\n",
        "7546000\t745313\r\n",
        "7547000\t745397\r\n"
       ]
      },
      {
       "output_type": "stream",
       "stream": "stdout",
       "text": [
        "7548000\t745482\r\n",
        "7549000\t745570\r\n",
        "7550000\t745646\r\n"
       ]
      },
      {
       "output_type": "stream",
       "stream": "stdout",
       "text": [
        "7551000\t745716\r\n",
        "7552000\t745803\r\n",
        "7553000\t745890\r\n"
       ]
      },
      {
       "output_type": "stream",
       "stream": "stdout",
       "text": [
        "7554000\t745970\r\n",
        "7555000\t746050\r\n",
        "7556000\t746118\r\n"
       ]
      },
      {
       "output_type": "stream",
       "stream": "stdout",
       "text": [
        "7557000\t746179\r\n",
        "7558000\t746265\r\n",
        "7559000\t746328\r\n",
        "7560000\t746397\r\n"
       ]
      },
      {
       "output_type": "stream",
       "stream": "stdout",
       "text": [
        "7561000\t746466\r\n",
        "7562000\t746528\r\n",
        "7563000\t746600\r\n"
       ]
      },
      {
       "output_type": "stream",
       "stream": "stdout",
       "text": [
        "7564000\t746670\r\n",
        "7565000\t746741\r\n",
        "7566000\t746816\r\n"
       ]
      },
      {
       "output_type": "stream",
       "stream": "stdout",
       "text": [
        "7567000\t746887\r\n",
        "7568000\t746960\r\n",
        "7569000\t747026\r\n",
        "7570000\t747095\r\n"
       ]
      },
      {
       "output_type": "stream",
       "stream": "stdout",
       "text": [
        "7571000\t747156\r\n",
        "7572000\t747228\r\n",
        "7573000\t747306\r\n"
       ]
      },
      {
       "output_type": "stream",
       "stream": "stdout",
       "text": [
        "7574000\t747396\r\n",
        "7575000\t747469\r\n",
        "7576000\t747538\r\n",
        "7577000\t747608\r\n"
       ]
      },
      {
       "output_type": "stream",
       "stream": "stdout",
       "text": [
        "7578000\t747689\r\n",
        "7579000\t747750\r\n"
       ]
      },
      {
       "output_type": "stream",
       "stream": "stdout",
       "text": [
        "7580000\t747834\r\n",
        "7581000\t747912\r\n",
        "7582000\t747983\r\n",
        "7583000\t748061\r\n"
       ]
      },
      {
       "output_type": "stream",
       "stream": "stdout",
       "text": [
        "7584000\t748139\r\n",
        "7585000\t748194\r\n",
        "7586000\t748267\r\n"
       ]
      },
      {
       "output_type": "stream",
       "stream": "stdout",
       "text": [
        "7587000\t748340\r\n",
        "7588000\t748411\r\n",
        "7589000\t748479\r\n",
        "7590000\t748523\r\n"
       ]
      },
      {
       "output_type": "stream",
       "stream": "stdout",
       "text": [
        "7591000\t748603\r\n",
        "7592000\t748677\r\n",
        "7593000\t748748\r\n"
       ]
      },
      {
       "output_type": "stream",
       "stream": "stdout",
       "text": [
        "7594000\t748824\r\n",
        "7595000\t748918\r\n",
        "7596000\t748989\r\n"
       ]
      },
      {
       "output_type": "stream",
       "stream": "stdout",
       "text": [
        "7597000\t749060\r\n",
        "7598000\t749125\r\n",
        "7599000\t749196\r\n",
        "7600000\t749275\r\n"
       ]
      },
      {
       "output_type": "stream",
       "stream": "stdout",
       "text": [
        "7601000\t749350\r\n",
        "7602000\t749418\r\n",
        "7603000\t749501\r\n"
       ]
      },
      {
       "output_type": "stream",
       "stream": "stdout",
       "text": [
        "7604000\t749584\r\n",
        "7605000\t749658\r\n",
        "7606000\t749733\r\n"
       ]
      },
      {
       "output_type": "stream",
       "stream": "stdout",
       "text": [
        "7607000\t749796\r\n",
        "7608000\t749867\r\n",
        "7609000\t749931\r\n",
        "7610000\t749997\r\n"
       ]
      },
      {
       "output_type": "stream",
       "stream": "stdout",
       "text": [
        "7611000\t750077\r\n",
        "7612000\t750149\r\n",
        "7613000\t750227\r\n"
       ]
      },
      {
       "output_type": "stream",
       "stream": "stdout",
       "text": [
        "7614000\t750313\r\n",
        "7615000\t750383\r\n",
        "7616000\t750459\r\n",
        "7617000\t750531\r\n"
       ]
      },
      {
       "output_type": "stream",
       "stream": "stdout",
       "text": [
        "7618000\t750599\r\n",
        "7619000\t750660\r\n",
        "7620000\t750732\r\n"
       ]
      },
      {
       "output_type": "stream",
       "stream": "stdout",
       "text": [
        "7621000\t750796\r\n",
        "7622000\t750876\r\n",
        "7623000\t750937\r\n"
       ]
      },
      {
       "output_type": "stream",
       "stream": "stdout",
       "text": [
        "7624000\t751002\r\n",
        "7625000\t751071\r\n",
        "7626000\t751147\r\n",
        "7627000\t751210\r\n"
       ]
      },
      {
       "output_type": "stream",
       "stream": "stdout",
       "text": [
        "7628000\t751282\r\n",
        "7629000\t751364\r\n",
        "7630000\t751440\r\n"
       ]
      },
      {
       "output_type": "stream",
       "stream": "stdout",
       "text": [
        "7631000\t751510\r\n",
        "7632000\t751595\r\n",
        "7633000\t751652\r\n",
        "7634000\t751743\r\n"
       ]
      },
      {
       "output_type": "stream",
       "stream": "stdout",
       "text": [
        "7635000\t751820\r\n",
        "7636000\t751902\r\n",
        "7637000\t751975\r\n"
       ]
      },
      {
       "output_type": "stream",
       "stream": "stdout",
       "text": [
        "7638000\t752054\r\n",
        "7639000\t752125\r\n",
        "7640000\t752214\r\n"
       ]
      },
      {
       "output_type": "stream",
       "stream": "stdout",
       "text": [
        "7641000\t752284\r\n",
        "7642000\t752347\r\n",
        "7643000\t752425\r\n",
        "7644000\t752490\r\n"
       ]
      },
      {
       "output_type": "stream",
       "stream": "stdout",
       "text": [
        "7645000\t752565\r\n",
        "7646000\t752648\r\n",
        "7647000\t752711\r\n"
       ]
      },
      {
       "output_type": "stream",
       "stream": "stdout",
       "text": [
        "7648000\t752786\r\n",
        "7649000\t752865\r\n",
        "7650000\t752929\r\n"
       ]
      },
      {
       "output_type": "stream",
       "stream": "stdout",
       "text": [
        "7651000\t753004\r\n",
        "7652000\t753081\r\n",
        "7653000\t753149\r\n",
        "7654000\t753228\r\n"
       ]
      },
      {
       "output_type": "stream",
       "stream": "stdout",
       "text": [
        "7655000\t753286\r\n",
        "7656000\t753355\r\n",
        "7657000\t753428\r\n"
       ]
      },
      {
       "output_type": "stream",
       "stream": "stdout",
       "text": [
        "7658000\t753498\r\n",
        "7659000\t753574\r\n",
        "7660000\t753646\r\n",
        "7661000\t753716\r\n"
       ]
      },
      {
       "output_type": "stream",
       "stream": "stdout",
       "text": [
        "7662000\t753790\r\n",
        "7663000\t753856\r\n",
        "7664000\t753927\r\n"
       ]
      },
      {
       "output_type": "stream",
       "stream": "stdout",
       "text": [
        "7665000\t754003\r\n",
        "7666000\t754092\r\n",
        "7667000\t754187\r\n"
       ]
      },
      {
       "output_type": "stream",
       "stream": "stdout",
       "text": [
        "7668000\t754273\r\n",
        "7669000\t754365\r\n",
        "7670000\t754452\r\n",
        "7671000\t754540\r\n"
       ]
      },
      {
       "output_type": "stream",
       "stream": "stdout",
       "text": [
        "7672000\t754618\r\n",
        "7673000\t754689\r\n",
        "7674000\t754785\r\n"
       ]
      },
      {
       "output_type": "stream",
       "stream": "stdout",
       "text": [
        "7675000\t754865\r\n",
        "7676000\t754946\r\n",
        "7677000\t755037\r\n"
       ]
      },
      {
       "output_type": "stream",
       "stream": "stdout",
       "text": [
        "7678000\t755116\r\n",
        "7679000\t755198\r\n",
        "7680000\t755283\r\n",
        "7681000\t755378\r\n"
       ]
      },
      {
       "output_type": "stream",
       "stream": "stdout",
       "text": [
        "7682000\t755459\r\n",
        "7683000\t755553\r\n",
        "7684000\t755660\r\n"
       ]
      },
      {
       "output_type": "stream",
       "stream": "stdout",
       "text": [
        "7685000\t755753\r\n",
        "7686000\t755871\r\n",
        "7687000\t755966\r\n"
       ]
      },
      {
       "output_type": "stream",
       "stream": "stdout",
       "text": [
        "7688000\t756089\r\n",
        "7689000\t756205\r\n",
        "7690000\t756289\r\n",
        "7691000\t756377\r\n"
       ]
      },
      {
       "output_type": "stream",
       "stream": "stdout",
       "text": [
        "7692000\t756491\r\n",
        "7693000\t756587\r\n",
        "7694000\t756691\r\n"
       ]
      },
      {
       "output_type": "stream",
       "stream": "stdout",
       "text": [
        "7695000\t756803\r\n",
        "7696000\t756904\r\n",
        "7697000\t757006\r\n"
       ]
      },
      {
       "output_type": "stream",
       "stream": "stdout",
       "text": [
        "7698000\t757126\r\n",
        "7699000\t757254\r\n",
        "7700000\t757449\r\n"
       ]
      },
      {
       "output_type": "stream",
       "stream": "stdout",
       "text": [
        "7701000\t757613\r\n",
        "7702000\t757779\r\n",
        "7703000\t757936\r\n",
        "7704000\t758101\r\n"
       ]
      },
      {
       "output_type": "stream",
       "stream": "stdout",
       "text": [
        "7705000\t758246\r\n",
        "7706000\t758413\r\n",
        "7707000\t758569\r\n"
       ]
      },
      {
       "output_type": "stream",
       "stream": "stdout",
       "text": [
        "7708000\t758701\r\n",
        "7709000\t758838\r\n",
        "7710000\t758969\r\n"
       ]
      },
      {
       "output_type": "stream",
       "stream": "stdout",
       "text": [
        "7711000\t759089\r\n",
        "7712000\t759220\r\n",
        "7713000\t759356\r\n",
        "7714000\t759455\r\n"
       ]
      },
      {
       "output_type": "stream",
       "stream": "stdout",
       "text": [
        "7715000\t759571\r\n",
        "7716000\t759699\r\n",
        "7717000\t759816\r\n"
       ]
      },
      {
       "output_type": "stream",
       "stream": "stdout",
       "text": [
        "7718000\t759925\r\n",
        "7719000\t760026\r\n",
        "7720000\t760123\r\n"
       ]
      },
      {
       "output_type": "stream",
       "stream": "stdout",
       "text": [
        "7721000\t760222\r\n",
        "7722000\t760329\r\n",
        "7723000\t760427\r\n",
        "7724000\t760521\r\n"
       ]
      },
      {
       "output_type": "stream",
       "stream": "stdout",
       "text": [
        "7725000\t760615\r\n",
        "7726000\t760704\r\n",
        "7727000\t760794\r\n"
       ]
      },
      {
       "output_type": "stream",
       "stream": "stdout",
       "text": [
        "7728000\t760873\r\n",
        "7729000\t760973\r\n",
        "7730000\t761065\r\n"
       ]
      },
      {
       "output_type": "stream",
       "stream": "stdout",
       "text": [
        "7731000\t761142\r\n",
        "7732000\t761217\r\n",
        "7733000\t761312\r\n",
        "7734000\t761401\r\n"
       ]
      },
      {
       "output_type": "stream",
       "stream": "stdout",
       "text": [
        "7735000\t761461\r\n",
        "7736000\t761557\r\n",
        "7737000\t761657\r\n"
       ]
      },
      {
       "output_type": "stream",
       "stream": "stdout",
       "text": [
        "7738000\t761744\r\n",
        "7739000\t761863\r\n",
        "7740000\t761954\r\n"
       ]
      },
      {
       "output_type": "stream",
       "stream": "stdout",
       "text": [
        "7741000\t762035\r\n",
        "7742000\t762121\r\n",
        "7743000\t762202\r\n",
        "7744000\t762299\r\n"
       ]
      },
      {
       "output_type": "stream",
       "stream": "stdout",
       "text": [
        "7745000\t762384\r\n",
        "7746000\t762469\r\n",
        "7747000\t762559\r\n"
       ]
      },
      {
       "output_type": "stream",
       "stream": "stdout",
       "text": [
        "7748000\t762637\r\n",
        "7749000\t762722\r\n",
        "7750000\t762819\r\n",
        "7751000\t762892\r\n"
       ]
      },
      {
       "output_type": "stream",
       "stream": "stdout",
       "text": [
        "7752000\t762982\r\n",
        "7753000\t763059\r\n",
        "7754000\t763142\r\n"
       ]
      },
      {
       "output_type": "stream",
       "stream": "stdout",
       "text": [
        "7755000\t763215\r\n",
        "7756000\t763304\r\n",
        "7757000\t763383\r\n"
       ]
      },
      {
       "output_type": "stream",
       "stream": "stdout",
       "text": [
        "7758000\t763449\r\n",
        "7759000\t763533\r\n",
        "7760000\t763611\r\n",
        "7761000\t763684\r\n"
       ]
      },
      {
       "output_type": "stream",
       "stream": "stdout",
       "text": [
        "7762000\t763781\r\n",
        "7763000\t763859\r\n",
        "7764000\t763935\r\n"
       ]
      },
      {
       "output_type": "stream",
       "stream": "stdout",
       "text": [
        "7765000\t764020\r\n",
        "7766000\t764092\r\n",
        "7767000\t764165\r\n"
       ]
      },
      {
       "output_type": "stream",
       "stream": "stdout",
       "text": [
        "7768000\t764237\r\n",
        "7769000\t764309\r\n",
        "7770000\t764382\r\n",
        "7771000\t764453\r\n"
       ]
      },
      {
       "output_type": "stream",
       "stream": "stdout",
       "text": [
        "7772000\t764537\r\n",
        "7773000\t764596\r\n",
        "7774000\t764674\r\n"
       ]
      },
      {
       "output_type": "stream",
       "stream": "stdout",
       "text": [
        "7775000\t764748\r\n",
        "7776000\t764825\r\n",
        "7777000\t764907\r\n"
       ]
      },
      {
       "output_type": "stream",
       "stream": "stdout",
       "text": [
        "7778000\t764968\r\n",
        "7779000\t765038\r\n",
        "7780000\t765110\r\n",
        "7781000\t765175\r\n"
       ]
      },
      {
       "output_type": "stream",
       "stream": "stdout",
       "text": [
        "7782000\t765256\r\n",
        "7783000\t765341\r\n",
        "7784000\t765415\r\n"
       ]
      },
      {
       "output_type": "stream",
       "stream": "stdout",
       "text": [
        "7785000\t765485\r\n",
        "7786000\t765554\r\n",
        "7787000\t765620\r\n",
        "7788000\t765719\r\n"
       ]
      },
      {
       "output_type": "stream",
       "stream": "stdout",
       "text": [
        "7789000\t765794\r\n",
        "7790000\t765855\r\n",
        "7791000\t765930\r\n"
       ]
      },
      {
       "output_type": "stream",
       "stream": "stdout",
       "text": [
        "7792000\t766007\r\n",
        "7793000\t766070\r\n",
        "7794000\t766144\r\n"
       ]
      },
      {
       "output_type": "stream",
       "stream": "stdout",
       "text": [
        "7795000\t766220\r\n",
        "7796000\t766295\r\n",
        "7797000\t766372\r\n",
        "7798000\t766445\r\n"
       ]
      },
      {
       "output_type": "stream",
       "stream": "stdout",
       "text": [
        "7799000\t766498\r\n",
        "7800000\t766561\r\n",
        "7801000\t766618\r\n"
       ]
      },
      {
       "output_type": "stream",
       "stream": "stdout",
       "text": [
        "7802000\t766695\r\n",
        "7803000\t766759\r\n",
        "7804000\t766839\r\n"
       ]
      },
      {
       "output_type": "stream",
       "stream": "stdout",
       "text": [
        "7805000\t766924\r\n",
        "7806000\t767004\r\n",
        "7807000\t767080\r\n",
        "7808000\t767155\r\n"
       ]
      },
      {
       "output_type": "stream",
       "stream": "stdout",
       "text": [
        "7809000\t767214\r\n",
        "7810000\t767283\r\n",
        "7811000\t767347\r\n"
       ]
      },
      {
       "output_type": "stream",
       "stream": "stdout",
       "text": [
        "7812000\t767427\r\n",
        "7813000\t767501\r\n",
        "7814000\t767555\r\n"
       ]
      },
      {
       "output_type": "stream",
       "stream": "stdout",
       "text": [
        "7815000\t767630\r\n",
        "7816000\t767689\r\n",
        "7817000\t767763\r\n",
        "7818000\t767824\r\n"
       ]
      },
      {
       "output_type": "stream",
       "stream": "stdout",
       "text": [
        "7819000\t767899\r\n",
        "7820000\t767973\r\n",
        "7821000\t768035\r\n"
       ]
      },
      {
       "output_type": "stream",
       "stream": "stdout",
       "text": [
        "7822000\t768095\r\n",
        "7823000\t768153\r\n",
        "7824000\t768216\r\n",
        "7825000\t768290\r\n"
       ]
      },
      {
       "output_type": "stream",
       "stream": "stdout",
       "text": [
        "7826000\t768352\r\n",
        "7827000\t768419\r\n",
        "7828000\t768472\r\n"
       ]
      },
      {
       "output_type": "stream",
       "stream": "stdout",
       "text": [
        "7829000\t768541\r\n",
        "7830000\t768596\r\n",
        "7831000\t768659\r\n"
       ]
      },
      {
       "output_type": "stream",
       "stream": "stdout",
       "text": [
        "7832000\t768732\r\n",
        "7833000\t768805\r\n",
        "7834000\t768872\r\n",
        "7835000\t768927\r\n"
       ]
      },
      {
       "output_type": "stream",
       "stream": "stdout",
       "text": [
        "7836000\t768999\r\n",
        "7837000\t769065\r\n",
        "7838000\t769134\r\n"
       ]
      },
      {
       "output_type": "stream",
       "stream": "stdout",
       "text": [
        "7839000\t769215\r\n",
        "7840000\t769275\r\n",
        "7841000\t769326\r\n",
        "7842000\t769382\r\n"
       ]
      },
      {
       "output_type": "stream",
       "stream": "stdout",
       "text": [
        "7843000\t769458\r\n",
        "7844000\t769530\r\n",
        "7845000\t769587\r\n"
       ]
      },
      {
       "output_type": "stream",
       "stream": "stdout",
       "text": [
        "7846000\t769659\r\n",
        "7847000\t769725\r\n",
        "7848000\t769794\r\n"
       ]
      },
      {
       "output_type": "stream",
       "stream": "stdout",
       "text": [
        "7849000\t769862\r\n",
        "7850000\t769935\r\n",
        "7851000\t770010\r\n",
        "7852000\t770075\r\n"
       ]
      },
      {
       "output_type": "stream",
       "stream": "stdout",
       "text": [
        "7853000\t770150\r\n",
        "7854000\t770233\r\n",
        "7855000\t770298\r\n"
       ]
      },
      {
       "output_type": "stream",
       "stream": "stdout",
       "text": [
        "7856000\t770360\r\n",
        "7857000\t770432\r\n",
        "7858000\t770504\r\n",
        "7859000\t770571\r\n"
       ]
      },
      {
       "output_type": "stream",
       "stream": "stdout",
       "text": [
        "7860000\t770637\r\n",
        "7861000\t770704\r\n",
        "7862000\t770768\r\n"
       ]
      },
      {
       "output_type": "stream",
       "stream": "stdout",
       "text": [
        "7863000\t770837\r\n",
        "7864000\t770904\r\n",
        "7865000\t770975\r\n"
       ]
      },
      {
       "output_type": "stream",
       "stream": "stdout",
       "text": [
        "7866000\t771061\r\n",
        "7867000\t771133\r\n",
        "7868000\t771199\r\n",
        "7869000\t771272\r\n"
       ]
      },
      {
       "output_type": "stream",
       "stream": "stdout",
       "text": [
        "7870000\t771326\r\n",
        "7871000\t771396\r\n",
        "7872000\t771467\r\n"
       ]
      },
      {
       "output_type": "stream",
       "stream": "stdout",
       "text": [
        "7873000\t771555\r\n",
        "7874000\t771625\r\n",
        "7875000\t771688\r\n"
       ]
      },
      {
       "output_type": "stream",
       "stream": "stdout",
       "text": [
        "7876000\t771755\r\n",
        "7877000\t771829\r\n",
        "7878000\t771902\r\n",
        "7879000\t771974\r\n"
       ]
      },
      {
       "output_type": "stream",
       "stream": "stdout",
       "text": [
        "7880000\t772037\r\n",
        "7881000\t772084\r\n",
        "7882000\t772169\r\n"
       ]
      },
      {
       "output_type": "stream",
       "stream": "stdout",
       "text": [
        "7883000\t772226\r\n",
        "7884000\t772299\r\n",
        "7885000\t772370\r\n",
        "7886000\t772449\r\n"
       ]
      },
      {
       "output_type": "stream",
       "stream": "stdout",
       "text": [
        "7887000\t772515\r\n",
        "7888000\t772574\r\n",
        "7889000\t772641\r\n"
       ]
      },
      {
       "output_type": "stream",
       "stream": "stdout",
       "text": [
        "7890000\t772703\r\n",
        "7891000\t772785\r\n",
        "7892000\t772852\r\n"
       ]
      },
      {
       "output_type": "stream",
       "stream": "stdout",
       "text": [
        "7893000\t772909\r\n",
        "7894000\t772978\r\n",
        "7895000\t773052\r\n",
        "7896000\t773117\r\n"
       ]
      },
      {
       "output_type": "stream",
       "stream": "stdout",
       "text": [
        "7897000\t773172\r\n",
        "7898000\t773233\r\n",
        "7899000\t773303\r\n"
       ]
      },
      {
       "output_type": "stream",
       "stream": "stdout",
       "text": [
        "7900000\t773377\r\n",
        "7901000\t773451\r\n",
        "7902000\t773508\r\n",
        "7903000\t773590\r\n"
       ]
      },
      {
       "output_type": "stream",
       "stream": "stdout",
       "text": [
        "7904000\t773660\r\n",
        "7905000\t773722\r\n",
        "7906000\t773791\r\n"
       ]
      },
      {
       "output_type": "stream",
       "stream": "stdout",
       "text": [
        "7907000\t773860\r\n",
        "7908000\t773935\r\n",
        "7909000\t774003\r\n"
       ]
      },
      {
       "output_type": "stream",
       "stream": "stdout",
       "text": [
        "7910000\t774065\r\n",
        "7911000\t774140\r\n",
        "7912000\t774203\r\n",
        "7913000\t774272\r\n"
       ]
      },
      {
       "output_type": "stream",
       "stream": "stdout",
       "text": [
        "7914000\t774344\r\n",
        "7915000\t774409\r\n",
        "7916000\t774472\r\n"
       ]
      },
      {
       "output_type": "stream",
       "stream": "stdout",
       "text": [
        "7917000\t774538\r\n",
        "7918000\t774608\r\n",
        "7919000\t774673\r\n"
       ]
      },
      {
       "output_type": "stream",
       "stream": "stdout",
       "text": [
        "7920000\t774737\r\n",
        "7921000\t774804\r\n",
        "7922000\t774870\r\n",
        "7923000\t774945\r\n"
       ]
      },
      {
       "output_type": "stream",
       "stream": "stdout",
       "text": [
        "7924000\t775017\r\n",
        "7925000\t775120\r\n",
        "7926000\t775204\r\n"
       ]
      },
      {
       "output_type": "stream",
       "stream": "stdout",
       "text": [
        "7927000\t775299\r\n",
        "7928000\t775400\r\n",
        "7929000\t775490\r\n",
        "7930000\t775571\r\n"
       ]
      },
      {
       "output_type": "stream",
       "stream": "stdout",
       "text": [
        "7931000\t775646\r\n",
        "7932000\t775708\r\n",
        "7933000\t775799\r\n"
       ]
      },
      {
       "output_type": "stream",
       "stream": "stdout",
       "text": [
        "7934000\t775880\r\n",
        "7935000\t775960\r\n",
        "7936000\t776064\r\n"
       ]
      },
      {
       "output_type": "stream",
       "stream": "stdout",
       "text": [
        "7937000\t776146\r\n",
        "7938000\t776229\r\n",
        "7939000\t776325\r\n",
        "7940000\t776426\r\n"
       ]
      },
      {
       "output_type": "stream",
       "stream": "stdout",
       "text": [
        "7941000\t776529\r\n",
        "7942000\t776626\r\n",
        "7943000\t776723\r\n"
       ]
      },
      {
       "output_type": "stream",
       "stream": "stdout",
       "text": [
        "7944000\t776824\r\n",
        "7945000\t776902\r\n",
        "7946000\t777008\r\n"
       ]
      },
      {
       "output_type": "stream",
       "stream": "stdout",
       "text": [
        "7947000\t777107\r\n",
        "7948000\t777210\r\n",
        "7949000\t777324\r\n",
        "7950000\t777419\r\n"
       ]
      },
      {
       "output_type": "stream",
       "stream": "stdout",
       "text": [
        "7951000\t777519\r\n",
        "7952000\t777617\r\n",
        "7953000\t777713\r\n"
       ]
      },
      {
       "output_type": "stream",
       "stream": "stdout",
       "text": [
        "7954000\t777821\r\n",
        "7955000\t777920\r\n",
        "7956000\t778051\r\n"
       ]
      },
      {
       "output_type": "stream",
       "stream": "stdout",
       "text": [
        "7957000\t778206\r\n",
        "7958000\t778366\r\n",
        "7959000\t778540\r\n",
        "7960000\t778699\r\n"
       ]
      },
      {
       "output_type": "stream",
       "stream": "stdout",
       "text": [
        "7961000\t778830\r\n",
        "7962000\t778966\r\n",
        "7963000\t779124\r\n"
       ]
      },
      {
       "output_type": "stream",
       "stream": "stdout",
       "text": [
        "7964000\t779264\r\n",
        "7965000\t779406\r\n",
        "7966000\t779544\r\n"
       ]
      },
      {
       "output_type": "stream",
       "stream": "stdout",
       "text": [
        "7967000\t779660\r\n",
        "7968000\t779783\r\n",
        "7969000\t779904\r\n"
       ]
      },
      {
       "output_type": "stream",
       "stream": "stdout",
       "text": [
        "7970000\t780002\r\n",
        "7971000\t780130\r\n",
        "7972000\t780232\r\n",
        "7973000\t780331\r\n"
       ]
      },
      {
       "output_type": "stream",
       "stream": "stdout",
       "text": [
        "7974000\t780417\r\n",
        "7975000\t780533\r\n",
        "7976000\t780641\r\n"
       ]
      },
      {
       "output_type": "stream",
       "stream": "stdout",
       "text": [
        "7977000\t780755\r\n",
        "7978000\t780847\r\n",
        "7979000\t780952\r\n"
       ]
      },
      {
       "output_type": "stream",
       "stream": "stdout",
       "text": [
        "7980000\t781045\r\n",
        "7981000\t781153\r\n",
        "7982000\t781254\r\n",
        "7983000\t781346\r\n"
       ]
      },
      {
       "output_type": "stream",
       "stream": "stdout",
       "text": [
        "7984000\t781434\r\n",
        "7985000\t781522\r\n",
        "7986000\t781629\r\n"
       ]
      },
      {
       "output_type": "stream",
       "stream": "stdout",
       "text": [
        "7987000\t781722\r\n",
        "7988000\t781793\r\n",
        "7989000\t781874\r\n"
       ]
      },
      {
       "output_type": "stream",
       "stream": "stdout",
       "text": [
        "7990000\t781947\r\n",
        "7991000\t782025\r\n",
        "7992000\t782108\r\n",
        "7993000\t782183\r\n"
       ]
      },
      {
       "output_type": "stream",
       "stream": "stdout",
       "text": [
        "7994000\t782272\r\n",
        "7995000\t782347\r\n",
        "7996000\t782442\r\n"
       ]
      },
      {
       "output_type": "stream",
       "stream": "stdout",
       "text": [
        "7997000\t782524\r\n",
        "7998000\t782603\r\n",
        "7999000\t782684\r\n"
       ]
      },
      {
       "output_type": "stream",
       "stream": "stdout",
       "text": [
        "8000000\t782764\r\n",
        "8001000\t782845\r\n",
        "8002000\t782918\r\n",
        "8003000\t783003\r\n"
       ]
      },
      {
       "output_type": "stream",
       "stream": "stdout",
       "text": [
        "8004000\t783086\r\n",
        "8005000\t783162\r\n",
        "8006000\t783243\r\n"
       ]
      },
      {
       "output_type": "stream",
       "stream": "stdout",
       "text": [
        "8007000\t783323\r\n",
        "8008000\t783385\r\n",
        "8009000\t783455\r\n",
        "8010000\t783524\r\n"
       ]
      },
      {
       "output_type": "stream",
       "stream": "stdout",
       "text": [
        "8011000\t783607\r\n",
        "8012000\t783679\r\n",
        "8013000\t783752\r\n"
       ]
      },
      {
       "output_type": "stream",
       "stream": "stdout",
       "text": [
        "8014000\t783828\r\n",
        "8015000\t783909\r\n",
        "8016000\t783990\r\n"
       ]
      },
      {
       "output_type": "stream",
       "stream": "stdout",
       "text": [
        "8017000\t784050\r\n",
        "8018000\t784131\r\n",
        "8019000\t784202\r\n",
        "8020000\t784267\r\n"
       ]
      },
      {
       "output_type": "stream",
       "stream": "stdout",
       "text": [
        "8021000\t784345\r\n",
        "8022000\t784421\r\n",
        "8023000\t784503\r\n"
       ]
      },
      {
       "output_type": "stream",
       "stream": "stdout",
       "text": [
        "8024000\t784598\r\n",
        "8025000\t784673\r\n",
        "8026000\t784745\r\n"
       ]
      },
      {
       "output_type": "stream",
       "stream": "stdout",
       "text": [
        "8027000\t784824\r\n",
        "8028000\t784893\r\n",
        "8029000\t784970\r\n",
        "8030000\t785043\r\n"
       ]
      },
      {
       "output_type": "stream",
       "stream": "stdout",
       "text": [
        "8031000\t785115\r\n",
        "8032000\t785195\r\n",
        "8033000\t785256\r\n"
       ]
      },
      {
       "output_type": "stream",
       "stream": "stdout",
       "text": [
        "8034000\t785343\r\n",
        "8035000\t785416\r\n",
        "8036000\t785488\r\n",
        "8037000\t785568\r\n"
       ]
      },
      {
       "output_type": "stream",
       "stream": "stdout",
       "text": [
        "8038000\t785642\r\n",
        "8039000\t785705\r\n",
        "8040000\t785770\r\n"
       ]
      },
      {
       "output_type": "stream",
       "stream": "stdout",
       "text": [
        "8041000\t785854\r\n",
        "8042000\t785935\r\n",
        "8043000\t786008\r\n"
       ]
      },
      {
       "output_type": "stream",
       "stream": "stdout",
       "text": [
        "8044000\t786070\r\n",
        "8045000\t786148\r\n",
        "8046000\t786217\r\n",
        "8047000\t786284\r\n"
       ]
      },
      {
       "output_type": "stream",
       "stream": "stdout",
       "text": [
        "8048000\t786358\r\n",
        "8049000\t786424\r\n",
        "8050000\t786488\r\n"
       ]
      },
      {
       "output_type": "stream",
       "stream": "stdout",
       "text": [
        "8051000\t786543\r\n",
        "8052000\t786600\r\n",
        "8053000\t786663\r\n",
        "8054000\t786726\r\n"
       ]
      },
      {
       "output_type": "stream",
       "stream": "stdout",
       "text": [
        "8055000\t786796\r\n",
        "8056000\t786866\r\n",
        "8057000\t786941\r\n"
       ]
      },
      {
       "output_type": "stream",
       "stream": "stdout",
       "text": [
        "8058000\t787005\r\n",
        "8059000\t787057\r\n",
        "8060000\t787120\r\n"
       ]
      },
      {
       "output_type": "stream",
       "stream": "stdout",
       "text": [
        "8061000\t787186\r\n",
        "8062000\t787248\r\n",
        "8063000\t787322\r\n",
        "8064000\t787388\r\n"
       ]
      },
      {
       "output_type": "stream",
       "stream": "stdout",
       "text": [
        "8065000\t787450\r\n",
        "8066000\t787504\r\n",
        "8067000\t787575\r\n"
       ]
      },
      {
       "output_type": "stream",
       "stream": "stdout",
       "text": [
        "8068000\t787635\r\n",
        "8069000\t787701\r\n",
        "8070000\t787774\r\n",
        "8071000\t787836\r\n"
       ]
      },
      {
       "output_type": "stream",
       "stream": "stdout",
       "text": [
        "8072000\t787898\r\n",
        "8073000\t787976\r\n",
        "8074000\t788031\r\n"
       ]
      },
      {
       "output_type": "stream",
       "stream": "stdout",
       "text": [
        "8075000\t788099\r\n",
        "8076000\t788164\r\n",
        "8077000\t788247\r\n"
       ]
      },
      {
       "output_type": "stream",
       "stream": "stdout",
       "text": [
        "8078000\t788321\r\n",
        "8079000\t788392\r\n",
        "8080000\t788450\r\n",
        "8081000\t788531\r\n"
       ]
      },
      {
       "output_type": "stream",
       "stream": "stdout",
       "text": [
        "8082000\t788594\r\n",
        "8083000\t788672\r\n",
        "8084000\t788759\r\n"
       ]
      },
      {
       "output_type": "stream",
       "stream": "stdout",
       "text": [
        "8085000\t788828\r\n",
        "8086000\t788878\r\n",
        "8087000\t788925\r\n"
       ]
      },
      {
       "output_type": "stream",
       "stream": "stdout",
       "text": [
        "8088000\t789008\r\n",
        "8089000\t789068\r\n",
        "8090000\t789130\r\n",
        "8091000\t789195\r\n"
       ]
      },
      {
       "output_type": "stream",
       "stream": "stdout",
       "text": [
        "8092000\t789262\r\n",
        "8093000\t789333\r\n",
        "8094000\t789407\r\n"
       ]
      },
      {
       "output_type": "stream",
       "stream": "stdout",
       "text": [
        "8095000\t789466\r\n",
        "8096000\t789531\r\n",
        "8097000\t789582\r\n",
        "8098000\t789651\r\n"
       ]
      },
      {
       "output_type": "stream",
       "stream": "stdout",
       "text": [
        "8099000\t789723\r\n",
        "8100000\t789780\r\n",
        "8101000\t789841\r\n"
       ]
      },
      {
       "output_type": "stream",
       "stream": "stdout",
       "text": [
        "8102000\t789908\r\n",
        "8103000\t789959\r\n",
        "8104000\t790045\r\n"
       ]
      },
      {
       "output_type": "stream",
       "stream": "stdout",
       "text": [
        "8105000\t790110\r\n",
        "8106000\t790172\r\n",
        "8107000\t790237\r\n",
        "8108000\t790301\r\n"
       ]
      },
      {
       "output_type": "stream",
       "stream": "stdout",
       "text": [
        "8109000\t790360\r\n",
        "8110000\t790428\r\n",
        "8111000\t790481\r\n"
       ]
      },
      {
       "output_type": "stream",
       "stream": "stdout",
       "text": [
        "8112000\t790553\r\n",
        "8113000\t790614\r\n",
        "8114000\t790696\r\n"
       ]
      },
      {
       "output_type": "stream",
       "stream": "stdout",
       "text": [
        "8115000\t790760\r\n",
        "8116000\t790821\r\n",
        "8117000\t790883\r\n",
        "8118000\t790943\r\n"
       ]
      },
      {
       "output_type": "stream",
       "stream": "stdout",
       "text": [
        "8119000\t791003\r\n",
        "8120000\t791069\r\n",
        "8121000\t791141\r\n"
       ]
      },
      {
       "output_type": "stream",
       "stream": "stdout",
       "text": [
        "8122000\t791198\r\n",
        "8123000\t791261\r\n",
        "8124000\t791333\r\n",
        "8125000\t791401\r\n"
       ]
      },
      {
       "output_type": "stream",
       "stream": "stdout",
       "text": [
        "8126000\t791464\r\n",
        "8127000\t791531\r\n",
        "8128000\t791604\r\n"
       ]
      },
      {
       "output_type": "stream",
       "stream": "stdout",
       "text": [
        "8129000\t791676\r\n",
        "8130000\t791750\r\n",
        "8131000\t791832\r\n"
       ]
      },
      {
       "output_type": "stream",
       "stream": "stdout",
       "text": [
        "8132000\t791894\r\n",
        "8133000\t791951\r\n",
        "8134000\t792021\r\n",
        "8135000\t792087\r\n"
       ]
      },
      {
       "output_type": "stream",
       "stream": "stdout",
       "text": [
        "8136000\t792150\r\n",
        "8137000\t792224\r\n",
        "8138000\t792282\r\n"
       ]
      },
      {
       "output_type": "stream",
       "stream": "stdout",
       "text": [
        "8139000\t792349\r\n",
        "8140000\t792406\r\n",
        "8141000\t792461\r\n",
        "8142000\t792519\r\n"
       ]
      },
      {
       "output_type": "stream",
       "stream": "stdout",
       "text": [
        "8143000\t792591\r\n",
        "8144000\t792650\r\n",
        "8145000\t792715\r\n"
       ]
      },
      {
       "output_type": "stream",
       "stream": "stdout",
       "text": [
        "8146000\t792781\r\n",
        "8147000\t792842\r\n",
        "8148000\t792901\r\n"
       ]
      },
      {
       "output_type": "stream",
       "stream": "stdout",
       "text": [
        "8149000\t792962\r\n",
        "8150000\t793018\r\n",
        "8151000\t793092\r\n",
        "8152000\t793168\r\n"
       ]
      },
      {
       "output_type": "stream",
       "stream": "stdout",
       "text": [
        "8153000\t793234\r\n",
        "8154000\t793294\r\n",
        "8155000\t793365\r\n"
       ]
      },
      {
       "output_type": "stream",
       "stream": "stdout",
       "text": [
        "8156000\t793441\r\n",
        "8157000\t793498\r\n",
        "8158000\t793579\r\n"
       ]
      },
      {
       "output_type": "stream",
       "stream": "stdout",
       "text": [
        "8159000\t793634\r\n",
        "8160000\t793701\r\n",
        "8161000\t793773\r\n",
        "8162000\t793843\r\n"
       ]
      },
      {
       "output_type": "stream",
       "stream": "stdout",
       "text": [
        "8163000\t793928\r\n",
        "8164000\t794001\r\n",
        "8165000\t794067\r\n"
       ]
      },
      {
       "output_type": "stream",
       "stream": "stdout",
       "text": [
        "8166000\t794123\r\n",
        "8167000\t794189\r\n",
        "8168000\t794259\r\n",
        "8169000\t794328\r\n"
       ]
      },
      {
       "output_type": "stream",
       "stream": "stdout",
       "text": [
        "8170000\t794396\r\n",
        "8171000\t794470\r\n",
        "8172000\t794538\r\n"
       ]
      },
      {
       "output_type": "stream",
       "stream": "stdout",
       "text": [
        "8173000\t794621\r\n",
        "8174000\t794688\r\n",
        "8175000\t794757\r\n"
       ]
      },
      {
       "output_type": "stream",
       "stream": "stdout",
       "text": [
        "8176000\t794815\r\n",
        "8177000\t794868\r\n",
        "8178000\t794939\r\n",
        "8179000\t795001\r\n"
       ]
      },
      {
       "output_type": "stream",
       "stream": "stdout",
       "text": [
        "8180000\t795076\r\n",
        "8181000\t795140\r\n",
        "8182000\t795201\r\n"
       ]
      },
      {
       "output_type": "stream",
       "stream": "stdout",
       "text": [
        "8183000\t795269\r\n",
        "8184000\t795366\r\n",
        "8185000\t795446\r\n",
        "8186000\t795516\r\n"
       ]
      },
      {
       "output_type": "stream",
       "stream": "stdout",
       "text": [
        "8187000\t795586\r\n",
        "8188000\t795662\r\n",
        "8189000\t795716\r\n"
       ]
      },
      {
       "output_type": "stream",
       "stream": "stdout",
       "text": [
        "8190000\t795784\r\n",
        "8191000\t795854\r\n",
        "8192000\t795920\r\n"
       ]
      },
      {
       "output_type": "stream",
       "stream": "stdout",
       "text": [
        "8193000\t795973\r\n",
        "8194000\t796060\r\n",
        "8195000\t796149\r\n",
        "8196000\t796234\r\n"
       ]
      },
      {
       "output_type": "stream",
       "stream": "stdout",
       "text": [
        "8197000\t796311\r\n",
        "8198000\t796378\r\n",
        "8199000\t796463\r\n"
       ]
      },
      {
       "output_type": "stream",
       "stream": "stdout",
       "text": [
        "8200000\t796539\r\n",
        "8201000\t796603\r\n",
        "8202000\t796678\r\n"
       ]
      },
      {
       "output_type": "stream",
       "stream": "stdout",
       "text": [
        "8203000\t796760\r\n",
        "8204000\t796842\r\n",
        "8205000\t796930\r\n",
        "8206000\t797020\r\n"
       ]
      },
      {
       "output_type": "stream",
       "stream": "stdout",
       "text": [
        "8207000\t797105\r\n",
        "8208000\t797190\r\n",
        "8209000\t797286\r\n"
       ]
      },
      {
       "output_type": "stream",
       "stream": "stdout",
       "text": [
        "8210000\t797391\r\n",
        "8211000\t797479\r\n",
        "8212000\t797569\r\n"
       ]
      },
      {
       "output_type": "stream",
       "stream": "stdout",
       "text": [
        "8213000\t797688\r\n",
        "8214000\t797800\r\n",
        "8215000\t797902\r\n",
        "8216000\t798030\r\n"
       ]
      },
      {
       "output_type": "stream",
       "stream": "stdout",
       "text": [
        "8217000\t798163\r\n",
        "8218000\t798314\r\n",
        "8219000\t798475\r\n"
       ]
      },
      {
       "output_type": "stream",
       "stream": "stdout",
       "text": [
        "8220000\t798608\r\n",
        "8221000\t798738\r\n",
        "8222000\t798873\r\n"
       ]
      },
      {
       "output_type": "stream",
       "stream": "stdout",
       "text": [
        "8223000\t798997\r\n",
        "8224000\t799106\r\n",
        "8225000\t799215\r\n",
        "8226000\t799334\r\n"
       ]
      },
      {
       "output_type": "stream",
       "stream": "stdout",
       "text": [
        "8227000\t799432\r\n",
        "8228000\t799525\r\n",
        "8229000\t799615\r\n"
       ]
      },
      {
       "output_type": "stream",
       "stream": "stdout",
       "text": [
        "8230000\t799712\r\n",
        "8231000\t799809\r\n",
        "8232000\t799903\r\n"
       ]
      },
      {
       "output_type": "stream",
       "stream": "stdout",
       "text": [
        "8233000\t800001\r\n",
        "8234000\t800095\r\n",
        "8235000\t800186\r\n",
        "8236000\t800272\r\n"
       ]
      },
      {
       "output_type": "stream",
       "stream": "stdout",
       "text": [
        "8237000\t800364\r\n",
        "8238000\t800430\r\n",
        "8239000\t800536\r\n"
       ]
      },
      {
       "output_type": "stream",
       "stream": "stdout",
       "text": [
        "8240000\t800630\r\n",
        "8241000\t800705\r\n",
        "8242000\t800787\r\n"
       ]
      },
      {
       "output_type": "stream",
       "stream": "stdout",
       "text": [
        "8243000\t800870\r\n",
        "8244000\t800969\r\n",
        "8245000\t801051\r\n",
        "8246000\t801126\r\n"
       ]
      },
      {
       "output_type": "stream",
       "stream": "stdout",
       "text": [
        "8247000\t801217\r\n",
        "8248000\t801294\r\n",
        "8249000\t801367\r\n"
       ]
      },
      {
       "output_type": "stream",
       "stream": "stdout",
       "text": [
        "8250000\t801446\r\n",
        "8251000\t801551\r\n",
        "8252000\t801610\r\n"
       ]
      },
      {
       "output_type": "stream",
       "stream": "stdout",
       "text": [
        "8253000\t801678\r\n",
        "8254000\t801752\r\n",
        "8255000\t801855\r\n",
        "8256000\t801934\r\n"
       ]
      },
      {
       "output_type": "stream",
       "stream": "stdout",
       "text": [
        "8257000\t802037\r\n",
        "8258000\t802115\r\n",
        "8259000\t802198\r\n"
       ]
      },
      {
       "output_type": "stream",
       "stream": "stdout",
       "text": [
        "8260000\t802265\r\n",
        "8261000\t802346\r\n",
        "8262000\t802433\r\n"
       ]
      },
      {
       "output_type": "stream",
       "stream": "stdout",
       "text": [
        "8263000\t802509\r\n",
        "8264000\t802574\r\n",
        "8265000\t802649\r\n",
        "8266000\t802730\r\n"
       ]
      },
      {
       "output_type": "stream",
       "stream": "stdout",
       "text": [
        "8267000\t802795\r\n",
        "8268000\t802865\r\n",
        "8269000\t802946\r\n"
       ]
      },
      {
       "output_type": "stream",
       "stream": "stdout",
       "text": [
        "8270000\t803011\r\n",
        "8271000\t803088\r\n",
        "8272000\t803171\r\n"
       ]
      },
      {
       "output_type": "stream",
       "stream": "stdout",
       "text": [
        "8273000\t803224\r\n",
        "8274000\t803293\r\n",
        "8275000\t803369\r\n",
        "8276000\t803429\r\n"
       ]
      },
      {
       "output_type": "stream",
       "stream": "stdout",
       "text": [
        "8277000\t803519\r\n",
        "8278000\t803588\r\n",
        "8279000\t803655\r\n"
       ]
      },
      {
       "output_type": "stream",
       "stream": "stdout",
       "text": [
        "8280000\t803722\r\n",
        "8281000\t803791\r\n",
        "8282000\t803868\r\n"
       ]
      },
      {
       "output_type": "stream",
       "stream": "stdout",
       "text": [
        "8283000\t803943\r\n",
        "8284000\t804010\r\n",
        "8285000\t804071\r\n",
        "8286000\t804150\r\n"
       ]
      },
      {
       "output_type": "stream",
       "stream": "stdout",
       "text": [
        "8287000\t804219\r\n",
        "8288000\t804286\r\n",
        "8289000\t804374\r\n"
       ]
      },
      {
       "output_type": "stream",
       "stream": "stdout",
       "text": [
        "8290000\t804446\r\n",
        "8291000\t804515\r\n",
        "8292000\t804568\r\n",
        "8293000\t804650\r\n"
       ]
      },
      {
       "output_type": "stream",
       "stream": "stdout",
       "text": [
        "8294000\t804717\r\n",
        "8295000\t804778\r\n",
        "8296000\t804849\r\n"
       ]
      },
      {
       "output_type": "stream",
       "stream": "stdout",
       "text": [
        "8297000\t804921\r\n",
        "8298000\t804984\r\n",
        "8299000\t805049\r\n"
       ]
      },
      {
       "output_type": "stream",
       "stream": "stdout",
       "text": [
        "8300000\t805110\r\n",
        "8301000\t805163\r\n",
        "8302000\t805239\r\n",
        "8303000\t805290\r\n"
       ]
      },
      {
       "output_type": "stream",
       "stream": "stdout",
       "text": [
        "8304000\t805353\r\n",
        "8305000\t805410\r\n",
        "8306000\t805477\r\n"
       ]
      },
      {
       "output_type": "stream",
       "stream": "stdout",
       "text": [
        "8307000\t805554\r\n",
        "8308000\t805616\r\n",
        "8309000\t805702\r\n",
        "8310000\t805765\r\n"
       ]
      },
      {
       "output_type": "stream",
       "stream": "stdout",
       "text": [
        "8311000\t805846\r\n",
        "8312000\t805908\r\n",
        "8313000\t805982\r\n"
       ]
      },
      {
       "output_type": "stream",
       "stream": "stdout",
       "text": [
        "8314000\t806056\r\n",
        "8315000\t806123\r\n",
        "8316000\t806185\r\n"
       ]
      },
      {
       "output_type": "stream",
       "stream": "stdout",
       "text": [
        "8317000\t806260\r\n",
        "8318000\t806329\r\n",
        "8319000\t806395\r\n",
        "8320000\t806454\r\n"
       ]
      },
      {
       "output_type": "stream",
       "stream": "stdout",
       "text": [
        "8321000\t806517\r\n",
        "8322000\t806590\r\n",
        "8323000\t806655\r\n"
       ]
      },
      {
       "output_type": "stream",
       "stream": "stdout",
       "text": [
        "8324000\t806722\r\n",
        "8325000\t806792\r\n",
        "8326000\t806856\r\n",
        "8327000\t806920\r\n"
       ]
      },
      {
       "output_type": "stream",
       "stream": "stdout",
       "text": [
        "8328000\t806985\r\n",
        "8329000\t807058\r\n",
        "8330000\t807134\r\n"
       ]
      },
      {
       "output_type": "stream",
       "stream": "stdout",
       "text": [
        "8331000\t807201\r\n",
        "8332000\t807271\r\n",
        "8333000\t807344\r\n"
       ]
      },
      {
       "output_type": "stream",
       "stream": "stdout",
       "text": [
        "8334000\t807410\r\n",
        "8335000\t807476\r\n",
        "8336000\t807550\r\n",
        "8337000\t807612\r\n"
       ]
      },
      {
       "output_type": "stream",
       "stream": "stdout",
       "text": [
        "8338000\t807689\r\n",
        "8339000\t807748\r\n",
        "8340000\t807805\r\n"
       ]
      },
      {
       "output_type": "stream",
       "stream": "stdout",
       "text": [
        "8341000\t807868\r\n",
        "8342000\t807931\r\n",
        "8343000\t807975\r\n",
        "8344000\t808030\r\n"
       ]
      },
      {
       "output_type": "stream",
       "stream": "stdout",
       "text": [
        "8345000\t808099\r\n",
        "8346000\t808164\r\n",
        "8347000\t808227\r\n"
       ]
      },
      {
       "output_type": "stream",
       "stream": "stdout",
       "text": [
        "8348000\t808279\r\n",
        "8349000\t808341\r\n",
        "8350000\t808400\r\n"
       ]
      },
      {
       "output_type": "stream",
       "stream": "stdout",
       "text": [
        "8351000\t808476\r\n",
        "8352000\t808539\r\n",
        "8353000\t808606\r\n",
        "8354000\t808671\r\n"
       ]
      },
      {
       "output_type": "stream",
       "stream": "stdout",
       "text": [
        "8355000\t808738\r\n",
        "8356000\t808823\r\n",
        "8357000\t808889\r\n"
       ]
      },
      {
       "output_type": "stream",
       "stream": "stdout",
       "text": [
        "8358000\t808939\r\n",
        "8359000\t808995\r\n",
        "8360000\t809055\r\n"
       ]
      },
      {
       "output_type": "stream",
       "stream": "stdout",
       "text": [
        "8361000\t809101\r\n",
        "8362000\t809162\r\n",
        "8363000\t809221\r\n",
        "8364000\t809287\r\n"
       ]
      },
      {
       "output_type": "stream",
       "stream": "stdout",
       "text": [
        "8365000\t809342\r\n",
        "8366000\t809405\r\n",
        "8367000\t809460\r\n"
       ]
      },
      {
       "output_type": "stream",
       "stream": "stdout",
       "text": [
        "8368000\t809508\r\n",
        "8369000\t809558\r\n",
        "8370000\t809622\r\n",
        "8371000\t809676\r\n"
       ]
      },
      {
       "output_type": "stream",
       "stream": "stdout",
       "text": [
        "8372000\t809742\r\n",
        "8373000\t809799\r\n",
        "8374000\t809864\r\n"
       ]
      },
      {
       "output_type": "stream",
       "stream": "stdout",
       "text": [
        "8375000\t809919\r\n",
        "8376000\t809985\r\n",
        "8377000\t810043\r\n"
       ]
      },
      {
       "output_type": "stream",
       "stream": "stdout",
       "text": [
        "8378000\t810112\r\n",
        "8379000\t810183\r\n",
        "8380000\t810235\r\n",
        "8381000\t810306\r\n"
       ]
      },
      {
       "output_type": "stream",
       "stream": "stdout",
       "text": [
        "8382000\t810373\r\n",
        "8383000\t810436\r\n",
        "8384000\t810496\r\n"
       ]
      },
      {
       "output_type": "stream",
       "stream": "stdout",
       "text": [
        "8385000\t810549\r\n",
        "8386000\t810611\r\n",
        "8387000\t810671\r\n"
       ]
      },
      {
       "output_type": "stream",
       "stream": "stdout",
       "text": [
        "8388000\t810732\r\n",
        "8389000\t810789\r\n",
        "8390000\t810849\r\n",
        "8391000\t810915\r\n"
       ]
      },
      {
       "output_type": "stream",
       "stream": "stdout",
       "text": [
        "8392000\t810984\r\n",
        "8393000\t811054\r\n",
        "8394000\t811115\r\n"
       ]
      },
      {
       "output_type": "stream",
       "stream": "stdout",
       "text": [
        "8395000\t811184\r\n",
        "8396000\t811252\r\n",
        "8397000\t811323\r\n"
       ]
      },
      {
       "output_type": "stream",
       "stream": "stdout",
       "text": [
        "8398000\t811403\r\n",
        "8399000\t811454\r\n",
        "8400000\t811513\r\n",
        "8401000\t811591\r\n"
       ]
      },
      {
       "output_type": "stream",
       "stream": "stdout",
       "text": [
        "8402000\t811642\r\n",
        "8403000\t811704\r\n",
        "8404000\t811752\r\n"
       ]
      },
      {
       "output_type": "stream",
       "stream": "stdout",
       "text": [
        "8405000\t811816\r\n",
        "8406000\t811867\r\n",
        "8407000\t811949\r\n"
       ]
      },
      {
       "output_type": "stream",
       "stream": "stdout",
       "text": [
        "8408000\t812021\r\n",
        "8409000\t812079\r\n",
        "8410000\t812147\r\n",
        "8411000\t812206\r\n"
       ]
      },
      {
       "output_type": "stream",
       "stream": "stdout",
       "text": [
        "8412000\t812270\r\n",
        "8413000\t812332\r\n",
        "8414000\t812397\r\n"
       ]
      },
      {
       "output_type": "stream",
       "stream": "stdout",
       "text": [
        "8415000\t812479\r\n",
        "8416000\t812549\r\n",
        "8417000\t812609\r\n",
        "8418000\t812667\r\n"
       ]
      },
      {
       "output_type": "stream",
       "stream": "stdout",
       "text": [
        "8419000\t812724\r\n",
        "8420000\t812782\r\n",
        "8421000\t812852\r\n"
       ]
      },
      {
       "output_type": "stream",
       "stream": "stdout",
       "text": [
        "8422000\t812906\r\n",
        "8423000\t812972\r\n",
        "8424000\t813036\r\n"
       ]
      },
      {
       "output_type": "stream",
       "stream": "stdout",
       "text": [
        "8425000\t813102\r\n",
        "8426000\t813172\r\n",
        "8427000\t813234\r\n",
        "8428000\t813301\r\n"
       ]
      },
      {
       "output_type": "stream",
       "stream": "stdout",
       "text": [
        "8429000\t813352\r\n",
        "8430000\t813413\r\n",
        "8431000\t813471\r\n"
       ]
      },
      {
       "output_type": "stream",
       "stream": "stdout",
       "text": [
        "8432000\t813529\r\n",
        "8433000\t813595\r\n",
        "8434000\t813665\r\n",
        "8435000\t813728\r\n"
       ]
      },
      {
       "output_type": "stream",
       "stream": "stdout",
       "text": [
        "8436000\t813787\r\n",
        "8437000\t813857\r\n",
        "8438000\t813929\r\n"
       ]
      },
      {
       "output_type": "stream",
       "stream": "stdout",
       "text": [
        "8439000\t813993\r\n",
        "8440000\t814054\r\n",
        "8441000\t814120\r\n"
       ]
      },
      {
       "output_type": "stream",
       "stream": "stdout",
       "text": [
        "8442000\t814180\r\n",
        "8443000\t814240\r\n",
        "8444000\t814303\r\n",
        "8445000\t814359\r\n"
       ]
      },
      {
       "output_type": "stream",
       "stream": "stdout",
       "text": [
        "8446000\t814426\r\n",
        "8447000\t814501\r\n",
        "8448000\t814589\r\n"
       ]
      },
      {
       "output_type": "stream",
       "stream": "stdout",
       "text": [
        "8449000\t814689\r\n",
        "8450000\t814760\r\n",
        "8451000\t814844\r\n"
       ]
      },
      {
       "output_type": "stream",
       "stream": "stdout",
       "text": [
        "8452000\t814910\r\n",
        "8453000\t814984\r\n",
        "8454000\t815052\r\n",
        "8455000\t815112\r\n"
       ]
      },
      {
       "output_type": "stream",
       "stream": "stdout",
       "text": [
        "8456000\t815200\r\n",
        "8457000\t815270\r\n",
        "8458000\t815346\r\n"
       ]
      },
      {
       "output_type": "stream",
       "stream": "stdout",
       "text": [
        "8459000\t815433\r\n",
        "8460000\t815516\r\n",
        "8461000\t815572\r\n"
       ]
      },
      {
       "output_type": "stream",
       "stream": "stdout",
       "text": [
        "8462000\t815649\r\n",
        "8463000\t815726\r\n",
        "8464000\t815802\r\n",
        "8465000\t815875\r\n"
       ]
      },
      {
       "output_type": "stream",
       "stream": "stdout",
       "text": [
        "8466000\t815952\r\n",
        "8467000\t816029\r\n",
        "8468000\t816113\r\n"
       ]
      },
      {
       "output_type": "stream",
       "stream": "stdout",
       "text": [
        "8469000\t816199\r\n",
        "8470000\t816273\r\n",
        "8471000\t816348\r\n"
       ]
      },
      {
       "output_type": "stream",
       "stream": "stdout",
       "text": [
        "8472000\t816430\r\n",
        "8473000\t816526\r\n",
        "8474000\t816598\r\n",
        "8475000\t816691\r\n"
       ]
      },
      {
       "output_type": "stream",
       "stream": "stdout",
       "text": [
        "8476000\t816791\r\n",
        "8477000\t816888\r\n",
        "8478000\t816976\r\n"
       ]
      },
      {
       "output_type": "stream",
       "stream": "stdout",
       "text": [
        "8479000\t817089\r\n",
        "8480000\t817179\r\n",
        "8481000\t817330\r\n"
       ]
      },
      {
       "output_type": "stream",
       "stream": "stdout",
       "text": [
        "8482000\t817489\r\n",
        "8483000\t817649\r\n",
        "8484000\t817826\r\n",
        "8485000\t817968\r\n"
       ]
      },
      {
       "output_type": "stream",
       "stream": "stdout",
       "text": [
        "8486000\t818138\r\n",
        "8487000\t818280\r\n",
        "8488000\t818406\r\n"
       ]
      },
      {
       "output_type": "stream",
       "stream": "stdout",
       "text": [
        "8489000\t818527\r\n",
        "8490000\t818653\r\n",
        "8491000\t818770\r\n"
       ]
      },
      {
       "output_type": "stream",
       "stream": "stdout",
       "text": [
        "8492000\t818885\r\n",
        "8493000\t818992\r\n",
        "8494000\t819122\r\n"
       ]
      },
      {
       "output_type": "stream",
       "stream": "stdout",
       "text": [
        "8495000\t819234\r\n",
        "8496000\t819333\r\n",
        "8497000\t819430\r\n",
        "8498000\t819525\r\n"
       ]
      },
      {
       "output_type": "stream",
       "stream": "stdout",
       "text": [
        "8499000\t819635\r\n",
        "8500000\t819719\r\n",
        "8501000\t819818\r\n"
       ]
      },
      {
       "output_type": "stream",
       "stream": "stdout",
       "text": [
        "8502000\t819912\r\n",
        "8503000\t820002\r\n",
        "8504000\t820097\r\n"
       ]
      },
      {
       "output_type": "stream",
       "stream": "stdout",
       "text": [
        "8505000\t820195\r\n",
        "8506000\t820290\r\n",
        "8507000\t820394\r\n",
        "8508000\t820500\r\n"
       ]
      },
      {
       "output_type": "stream",
       "stream": "stdout",
       "text": [
        "8509000\t820595\r\n",
        "8510000\t820700\r\n",
        "8511000\t820786\r\n"
       ]
      },
      {
       "output_type": "stream",
       "stream": "stdout",
       "text": [
        "8512000\t820868\r\n",
        "8513000\t820972\r\n",
        "8514000\t821077\r\n"
       ]
      },
      {
       "output_type": "stream",
       "stream": "stdout",
       "text": [
        "8515000\t821157\r\n",
        "8516000\t821259\r\n",
        "8517000\t821351\r\n",
        "8518000\t821450\r\n"
       ]
      },
      {
       "output_type": "stream",
       "stream": "stdout",
       "text": [
        "8519000\t821566\r\n",
        "8520000\t821640\r\n",
        "8521000\t821756\r\n"
       ]
      },
      {
       "output_type": "stream",
       "stream": "stdout",
       "text": [
        "8522000\t821841\r\n",
        "8523000\t821930\r\n",
        "8524000\t822000\r\n",
        "8525000\t822084\r\n"
       ]
      },
      {
       "output_type": "stream",
       "stream": "stdout",
       "text": [
        "8526000\t822163\r\n",
        "8527000\t822236\r\n",
        "8528000\t822299\r\n"
       ]
      },
      {
       "output_type": "stream",
       "stream": "stdout",
       "text": [
        "8529000\t822371\r\n",
        "8530000\t822446\r\n",
        "8531000\t822507\r\n"
       ]
      },
      {
       "output_type": "stream",
       "stream": "stdout",
       "text": [
        "8532000\t822585\r\n",
        "8533000\t822656\r\n",
        "8534000\t822728\r\n",
        "8535000\t822790\r\n"
       ]
      },
      {
       "output_type": "stream",
       "stream": "stdout",
       "text": [
        "8536000\t822850\r\n",
        "8537000\t822919\r\n",
        "8538000\t822991\r\n"
       ]
      },
      {
       "output_type": "stream",
       "stream": "stdout",
       "text": [
        "8539000\t823062\r\n",
        "8540000\t823138\r\n",
        "8541000\t823217\r\n",
        "8542000\t823294\r\n"
       ]
      },
      {
       "output_type": "stream",
       "stream": "stdout",
       "text": [
        "8543000\t823381\r\n",
        "8544000\t823459\r\n",
        "8545000\t823531\r\n"
       ]
      },
      {
       "output_type": "stream",
       "stream": "stdout",
       "text": [
        "8546000\t823605\r\n",
        "8547000\t823669\r\n",
        "8548000\t823733\r\n"
       ]
      },
      {
       "output_type": "stream",
       "stream": "stdout",
       "text": [
        "8549000\t823825\r\n",
        "8550000\t823902\r\n",
        "8551000\t823971\r\n",
        "8552000\t824033\r\n"
       ]
      },
      {
       "output_type": "stream",
       "stream": "stdout",
       "text": [
        "8553000\t824103\r\n",
        "8554000\t824184\r\n",
        "8555000\t824251\r\n"
       ]
      },
      {
       "output_type": "stream",
       "stream": "stdout",
       "text": [
        "8556000\t824319\r\n",
        "8557000\t824391\r\n",
        "8558000\t824462\r\n"
       ]
      },
      {
       "output_type": "stream",
       "stream": "stdout",
       "text": [
        "8559000\t824526\r\n",
        "8560000\t824613\r\n",
        "8561000\t824681\r\n",
        "8562000\t824768\r\n"
       ]
      },
      {
       "output_type": "stream",
       "stream": "stdout",
       "text": [
        "8563000\t824839\r\n",
        "8564000\t824912\r\n",
        "8565000\t824987\r\n"
       ]
      },
      {
       "output_type": "stream",
       "stream": "stdout",
       "text": [
        "8566000\t825047\r\n",
        "8567000\t825109\r\n",
        "8568000\t825182\r\n"
       ]
      },
      {
       "output_type": "stream",
       "stream": "stdout",
       "text": [
        "8569000\t825251\r\n",
        "8570000\t825312\r\n",
        "8571000\t825378\r\n",
        "8572000\t825439\r\n"
       ]
      },
      {
       "output_type": "stream",
       "stream": "stdout",
       "text": [
        "8573000\t825509\r\n",
        "8574000\t825584\r\n",
        "8575000\t825644\r\n"
       ]
      },
      {
       "output_type": "stream",
       "stream": "stdout",
       "text": [
        "8576000\t825705\r\n",
        "8577000\t825776\r\n",
        "8578000\t825856\r\n",
        "8579000\t825939\r\n"
       ]
      },
      {
       "output_type": "stream",
       "stream": "stdout",
       "text": [
        "8580000\t826008\r\n",
        "8581000\t826074\r\n",
        "8582000\t826140\r\n"
       ]
      },
      {
       "output_type": "stream",
       "stream": "stdout",
       "text": [
        "8583000\t826189\r\n",
        "8584000\t826256\r\n",
        "8585000\t826319\r\n"
       ]
      },
      {
       "output_type": "stream",
       "stream": "stdout",
       "text": [
        "8586000\t826376\r\n",
        "8587000\t826436\r\n",
        "8588000\t826491\r\n",
        "8589000\t826552\r\n"
       ]
      },
      {
       "output_type": "stream",
       "stream": "stdout",
       "text": [
        "8590000\t826616\r\n",
        "8591000\t826681\r\n",
        "8592000\t826760\r\n"
       ]
      },
      {
       "output_type": "stream",
       "stream": "stdout",
       "text": [
        "8593000\t826828\r\n",
        "8594000\t826899\r\n",
        "8595000\t826982\r\n"
       ]
      },
      {
       "output_type": "stream",
       "stream": "stdout",
       "text": [
        "8596000\t827052\r\n",
        "8597000\t827113\r\n",
        "8598000\t827181\r\n",
        "8599000\t827255\r\n"
       ]
      },
      {
       "output_type": "stream",
       "stream": "stdout",
       "text": [
        "8600000\t827312\r\n",
        "8601000\t827376\r\n",
        "8602000\t827430\r\n"
       ]
      },
      {
       "output_type": "stream",
       "stream": "stdout",
       "text": [
        "8603000\t827485\r\n",
        "8604000\t827558\r\n",
        "8605000\t827628\r\n"
       ]
      },
      {
       "output_type": "stream",
       "stream": "stdout",
       "text": [
        "8606000\t827693\r\n",
        "8607000\t827748\r\n",
        "8608000\t827802\r\n",
        "8609000\t827867\r\n"
       ]
      },
      {
       "output_type": "stream",
       "stream": "stdout",
       "text": [
        "8610000\t827923\r\n",
        "8611000\t827996\r\n",
        "8612000\t828061\r\n"
       ]
      },
      {
       "output_type": "stream",
       "stream": "stdout",
       "text": [
        "8613000\t828114\r\n",
        "8614000\t828164\r\n",
        "8615000\t828223\r\n"
       ]
      },
      {
       "output_type": "stream",
       "stream": "stdout",
       "text": [
        "8616000\t828283\r\n",
        "8617000\t828349\r\n",
        "8618000\t828407\r\n",
        "8619000\t828463\r\n"
       ]
      },
      {
       "output_type": "stream",
       "stream": "stdout",
       "text": [
        "8620000\t828519\r\n"
       ]
      },
      {
       "output_type": "stream",
       "stream": "stdout",
       "text": [
        "8621000\t828578\r\n",
        "8622000\t828644\r\n",
        "8623000\t828709\r\n",
        "8624000\t828774\r\n"
       ]
      },
      {
       "output_type": "stream",
       "stream": "stdout",
       "text": [
        "8625000\t828841\r\n",
        "8626000\t828901\r\n",
        "8627000\t828974\r\n"
       ]
      },
      {
       "output_type": "stream",
       "stream": "stdout",
       "text": [
        "8628000\t829028\r\n",
        "8629000\t829082\r\n",
        "8630000\t829138\r\n"
       ]
      },
      {
       "output_type": "stream",
       "stream": "stdout",
       "text": [
        "8631000\t829198\r\n",
        "8632000\t829260\r\n",
        "8633000\t829339\r\n",
        "8634000\t829399\r\n"
       ]
      },
      {
       "output_type": "stream",
       "stream": "stdout",
       "text": [
        "8635000\t829465\r\n",
        "8636000\t829536\r\n",
        "8637000\t829611\r\n"
       ]
      },
      {
       "output_type": "stream",
       "stream": "stdout",
       "text": [
        "8638000\t829666\r\n",
        "8639000\t829732\r\n",
        "8640000\t829805\r\n",
        "8641000\t829871\r\n"
       ]
      },
      {
       "output_type": "stream",
       "stream": "stdout",
       "text": [
        "8642000\t829930\r\n",
        "8643000\t829987\r\n",
        "8644000\t830063\r\n"
       ]
      },
      {
       "output_type": "stream",
       "stream": "stdout",
       "text": [
        "8645000\t830133\r\n",
        "8646000\t830200\r\n",
        "8647000\t830262\r\n"
       ]
      },
      {
       "output_type": "stream",
       "stream": "stdout",
       "text": [
        "8648000\t830333\r\n",
        "8649000\t830407\r\n",
        "8650000\t830479\r\n",
        "8651000\t830544\r\n"
       ]
      },
      {
       "output_type": "stream",
       "stream": "stdout",
       "text": [
        "8652000\t830613\r\n",
        "8653000\t830673\r\n",
        "8654000\t830737\r\n"
       ]
      },
      {
       "output_type": "stream",
       "stream": "stdout",
       "text": [
        "8655000\t830796\r\n",
        "8656000\t830864\r\n",
        "8657000\t830928\r\n",
        "8658000\t830980\r\n"
       ]
      },
      {
       "output_type": "stream",
       "stream": "stdout",
       "text": [
        "8659000\t831035\r\n",
        "8660000\t831095\r\n",
        "8661000\t831162\r\n"
       ]
      },
      {
       "output_type": "stream",
       "stream": "stdout",
       "text": [
        "8662000\t831208\r\n",
        "8663000\t831258\r\n",
        "8664000\t831322\r\n"
       ]
      },
      {
       "output_type": "stream",
       "stream": "stdout",
       "text": [
        "8665000\t831389\r\n",
        "8666000\t831458\r\n",
        "8667000\t831516\r\n",
        "8668000\t831593\r\n"
       ]
      },
      {
       "output_type": "stream",
       "stream": "stdout",
       "text": [
        "8669000\t831649\r\n",
        "8670000\t831709\r\n",
        "8671000\t831773\r\n"
       ]
      },
      {
       "output_type": "stream",
       "stream": "stdout",
       "text": [
        "8672000\t831846\r\n",
        "8673000\t831907\r\n",
        "8674000\t831976\r\n"
       ]
      },
      {
       "output_type": "stream",
       "stream": "stdout",
       "text": [
        "8675000\t832035\r\n",
        "8676000\t832094\r\n",
        "8677000\t832156\r\n",
        "8678000\t832222\r\n"
       ]
      },
      {
       "output_type": "stream",
       "stream": "stdout",
       "text": [
        "8679000\t832272\r\n",
        "8680000\t832336\r\n",
        "8681000\t832385\r\n"
       ]
      },
      {
       "output_type": "stream",
       "stream": "stdout",
       "text": [
        "8682000\t832463\r\n",
        "8683000\t832526\r\n",
        "8684000\t832594\r\n"
       ]
      },
      {
       "output_type": "stream",
       "stream": "stdout",
       "text": [
        "8685000\t832654\r\n",
        "8686000\t832708\r\n",
        "8687000\t832775\r\n",
        "8688000\t832838\r\n"
       ]
      },
      {
       "output_type": "stream",
       "stream": "stdout",
       "text": [
        "8689000\t832919\r\n",
        "8690000\t832989\r\n",
        "8691000\t833047\r\n"
       ]
      },
      {
       "output_type": "stream",
       "stream": "stdout",
       "text": [
        "8692000\t833111\r\n",
        "8693000\t833174\r\n",
        "8694000\t833238\r\n",
        "8695000\t833302\r\n"
       ]
      },
      {
       "output_type": "stream",
       "stream": "stdout",
       "text": [
        "8696000\t833359\r\n",
        "8697000\t833420\r\n",
        "8698000\t833478\r\n"
       ]
      },
      {
       "output_type": "stream",
       "stream": "stdout",
       "text": [
        "8699000\t833539\r\n",
        "8700000\t833588\r\n",
        "8701000\t833651\r\n"
       ]
      },
      {
       "output_type": "stream",
       "stream": "stdout",
       "text": [
        "8702000\t833716\r\n",
        "8703000\t833772\r\n",
        "8704000\t833828\r\n",
        "8705000\t833899\r\n"
       ]
      },
      {
       "output_type": "stream",
       "stream": "stdout",
       "text": [
        "8706000\t833974\r\n",
        "8707000\t834035\r\n",
        "8708000\t834096\r\n"
       ]
      },
      {
       "output_type": "stream",
       "stream": "stdout",
       "text": [
        "8709000\t834168\r\n",
        "8710000\t834233\r\n",
        "8711000\t834319\r\n"
       ]
      },
      {
       "output_type": "stream",
       "stream": "stdout",
       "text": [
        "8712000\t834407\r\n",
        "8713000\t834493\r\n",
        "8714000\t834570\r\n",
        "8715000\t834640\r\n"
       ]
      },
      {
       "output_type": "stream",
       "stream": "stdout",
       "text": [
        "8716000\t834713\r\n",
        "8717000\t834793\r\n",
        "8718000\t834878\r\n"
       ]
      },
      {
       "output_type": "stream",
       "stream": "stdout",
       "text": [
        "8719000\t834970\r\n",
        "8720000\t835047\r\n",
        "8721000\t835115\r\n",
        "8722000\t835182\r\n"
       ]
      },
      {
       "output_type": "stream",
       "stream": "stdout",
       "text": [
        "8723000\t835277\r\n",
        "8724000\t835360\r\n",
        "8725000\t835432\r\n"
       ]
      },
      {
       "output_type": "stream",
       "stream": "stdout",
       "text": [
        "8726000\t835507\r\n",
        "8727000\t835580\r\n",
        "8728000\t835661\r\n"
       ]
      },
      {
       "output_type": "stream",
       "stream": "stdout",
       "text": [
        "8729000\t835727\r\n",
        "8730000\t835813\r\n",
        "8731000\t835897\r\n",
        "8732000\t835998\r\n"
       ]
      },
      {
       "output_type": "stream",
       "stream": "stdout",
       "text": [
        "8733000\t836079\r\n",
        "8734000\t836176\r\n",
        "8735000\t836265\r\n"
       ]
      },
      {
       "output_type": "stream",
       "stream": "stdout",
       "text": [
        "8736000\t836353\r\n",
        "8737000\t836450\r\n",
        "8738000\t836548\r\n"
       ]
      },
      {
       "output_type": "stream",
       "stream": "stdout",
       "text": [
        "8739000\t836638\r\n",
        "8740000\t836734\r\n",
        "8741000\t836849\r\n",
        "8742000\t836942\r\n"
       ]
      },
      {
       "output_type": "stream",
       "stream": "stdout",
       "text": [
        "8743000\t837037\r\n",
        "8744000\t837209\r\n",
        "8745000\t837389\r\n"
       ]
      },
      {
       "output_type": "stream",
       "stream": "stdout",
       "text": [
        "8746000\t837572\r\n",
        "8747000\t837767\r\n",
        "8748000\t837942\r\n"
       ]
      },
      {
       "output_type": "stream",
       "stream": "stdout",
       "text": [
        "8749000\t838103\r\n",
        "8750000\t838236\r\n",
        "8751000\t838406\r\n"
       ]
      },
      {
       "output_type": "stream",
       "stream": "stdout",
       "text": [
        "8752000\t838543\r\n",
        "8753000\t838657\r\n",
        "8754000\t838802\r\n"
       ]
      },
      {
       "output_type": "stream",
       "stream": "stdout",
       "text": [
        "8755000\t838917\r\n",
        "8756000\t839048\r\n",
        "8757000\t839174\r\n",
        "8758000\t839306\r\n"
       ]
      },
      {
       "output_type": "stream",
       "stream": "stdout",
       "text": [
        "8759000\t839423\r\n",
        "8760000\t839536\r\n",
        "8761000\t839651\r\n"
       ]
      },
      {
       "output_type": "stream",
       "stream": "stdout",
       "text": [
        "8762000\t839784\r\n",
        "8763000\t839888\r\n",
        "8764000\t839993\r\n"
       ]
      },
      {
       "output_type": "stream",
       "stream": "stdout",
       "text": [
        "8765000\t840106\r\n",
        "8766000\t840219\r\n",
        "8767000\t840307\r\n",
        "8768000\t840415\r\n"
       ]
      },
      {
       "output_type": "stream",
       "stream": "stdout",
       "text": [
        "8769000\t840511\r\n",
        "8770000\t840604\r\n",
        "8771000\t840698\r\n"
       ]
      },
      {
       "output_type": "stream",
       "stream": "stdout",
       "text": [
        "8772000\t840807\r\n",
        "8773000\t840888\r\n",
        "8774000\t840982\r\n"
       ]
      },
      {
       "output_type": "stream",
       "stream": "stdout",
       "text": [
        "8775000\t841079\r\n",
        "8776000\t841158\r\n",
        "8777000\t841233\r\n",
        "8778000\t841318\r\n"
       ]
      },
      {
       "output_type": "stream",
       "stream": "stdout",
       "text": [
        "8779000\t841402\r\n",
        "8780000\t841505\r\n",
        "8781000\t841587\r\n"
       ]
      },
      {
       "output_type": "stream",
       "stream": "stdout",
       "text": [
        "8782000\t841694\r\n",
        "8783000\t841773\r\n",
        "8784000\t841844\r\n"
       ]
      },
      {
       "output_type": "stream",
       "stream": "stdout",
       "text": [
        "8785000\t841945\r\n",
        "8786000\t842025\r\n",
        "8787000\t842103\r\n",
        "8788000\t842186\r\n"
       ]
      },
      {
       "output_type": "stream",
       "stream": "stdout",
       "text": [
        "8789000\t842269\r\n",
        "8790000\t842360\r\n",
        "8791000\t842453\r\n"
       ]
      },
      {
       "output_type": "stream",
       "stream": "stdout",
       "text": [
        "8792000\t842536\r\n",
        "8793000\t842622\r\n",
        "8794000\t842710\r\n"
       ]
      },
      {
       "output_type": "stream",
       "stream": "stdout",
       "text": [
        "8795000\t842795\r\n",
        "8796000\t842895\r\n",
        "8797000\t842967\r\n",
        "8798000\t843051\r\n"
       ]
      },
      {
       "output_type": "stream",
       "stream": "stdout",
       "text": [
        "8799000\t843134\r\n",
        "8800000\t843205\r\n",
        "8801000\t843281\r\n"
       ]
      },
      {
       "output_type": "stream",
       "stream": "stdout",
       "text": [
        "8802000\t843364\r\n",
        "8803000\t843438\r\n",
        "8804000\t843525\r\n"
       ]
      },
      {
       "output_type": "stream",
       "stream": "stdout",
       "text": [
        "8805000\t843596\r\n",
        "8806000\t843674\r\n",
        "8807000\t843750\r\n",
        "8808000\t843836\r\n"
       ]
      },
      {
       "output_type": "stream",
       "stream": "stdout",
       "text": [
        "8809000\t843921\r\n",
        "8810000\t843997\r\n",
        "8811000\t844074\r\n"
       ]
      },
      {
       "output_type": "stream",
       "stream": "stdout",
       "text": [
        "8812000\t844143\r\n",
        "8813000\t844222\r\n",
        "8814000\t844287\r\n"
       ]
      },
      {
       "output_type": "stream",
       "stream": "stdout",
       "text": [
        "8815000\t844349\r\n",
        "8816000\t844419\r\n",
        "8817000\t844506\r\n",
        "8818000\t844575\r\n"
       ]
      },
      {
       "output_type": "stream",
       "stream": "stdout",
       "text": [
        "8819000\t844636\r\n",
        "8820000\t844710\r\n",
        "8821000\t844787\r\n"
       ]
      },
      {
       "output_type": "stream",
       "stream": "stdout",
       "text": [
        "8822000\t844857\r\n",
        "8823000\t844940\r\n",
        "8824000\t845022\r\n"
       ]
      },
      {
       "output_type": "stream",
       "stream": "stdout",
       "text": [
        "8825000\t845085\r\n",
        "8826000\t845147\r\n",
        "8827000\t845213\r\n",
        "8828000\t845292\r\n"
       ]
      },
      {
       "output_type": "stream",
       "stream": "stdout",
       "text": [
        "8829000\t845386\r\n",
        "8830000\t845461\r\n",
        "8831000\t845516\r\n"
       ]
      },
      {
       "output_type": "stream",
       "stream": "stdout",
       "text": [
        "8832000\t845596\r\n",
        "8833000\t845660\r\n",
        "8834000\t845731\r\n",
        "8835000\t845805\r\n"
       ]
      },
      {
       "output_type": "stream",
       "stream": "stdout",
       "text": [
        "8836000\t845876\r\n",
        "8837000\t845964\r\n",
        "8838000\t846034\r\n"
       ]
      },
      {
       "output_type": "stream",
       "stream": "stdout",
       "text": [
        "8839000\t846100\r\n",
        "8840000\t846157\r\n",
        "8841000\t846221\r\n"
       ]
      },
      {
       "output_type": "stream",
       "stream": "stdout",
       "text": [
        "8842000\t846289\r\n",
        "8843000\t846359\r\n",
        "8844000\t846427\r\n",
        "8845000\t846479\r\n"
       ]
      },
      {
       "output_type": "stream",
       "stream": "stdout",
       "text": [
        "8846000\t846549\r\n",
        "8847000\t846623\r\n",
        "8848000\t846684\r\n"
       ]
      },
      {
       "output_type": "stream",
       "stream": "stdout",
       "text": [
        "8849000\t846758\r\n",
        "8850000\t846826\r\n",
        "8851000\t846894\r\n"
       ]
      },
      {
       "output_type": "stream",
       "stream": "stdout",
       "text": [
        "8852000\t846965\r\n",
        "8853000\t847030\r\n",
        "8854000\t847104\r\n",
        "8855000\t847156\r\n"
       ]
      },
      {
       "output_type": "stream",
       "stream": "stdout",
       "text": [
        "8856000\t847209\r\n",
        "8857000\t847269\r\n",
        "8858000\t847336\r\n"
       ]
      },
      {
       "output_type": "stream",
       "stream": "stdout",
       "text": [
        "8859000\t847405\r\n",
        "8860000\t847465\r\n",
        "8861000\t847525\r\n",
        "8862000\t847586\r\n"
       ]
      },
      {
       "output_type": "stream",
       "stream": "stdout",
       "text": [
        "8863000\t847661\r\n",
        "8864000\t847741\r\n",
        "8865000\t847805\r\n"
       ]
      },
      {
       "output_type": "stream",
       "stream": "stdout",
       "text": [
        "8866000\t847873\r\n",
        "8867000\t847950\r\n",
        "8868000\t848009\r\n"
       ]
      },
      {
       "output_type": "stream",
       "stream": "stdout",
       "text": [
        "8869000\t848088\r\n",
        "8870000\t848150\r\n",
        "8871000\t848222\r\n"
       ]
      },
      {
       "output_type": "stream",
       "stream": "stdout",
       "text": [
        "8872000\t848287\r\n",
        "8873000\t848358\r\n",
        "8874000\t848430\r\n",
        "8875000\t848508\r\n"
       ]
      },
      {
       "output_type": "stream",
       "stream": "stdout",
       "text": [
        "8876000\t848581\r\n",
        "8877000\t848648\r\n",
        "8878000\t848717\r\n"
       ]
      },
      {
       "output_type": "stream",
       "stream": "stdout",
       "text": [
        "8879000\t848780\r\n",
        "8880000\t848852\r\n",
        "8881000\t848915\r\n"
       ]
      },
      {
       "output_type": "stream",
       "stream": "stdout",
       "text": [
        "8882000\t848995\r\n",
        "8883000\t849072\r\n",
        "8884000\t849146\r\n",
        "8885000\t849219\r\n"
       ]
      },
      {
       "output_type": "stream",
       "stream": "stdout",
       "text": [
        "8886000\t849305\r\n",
        "8887000\t849365\r\n",
        "8888000\t849428\r\n"
       ]
      },
      {
       "output_type": "stream",
       "stream": "stdout",
       "text": [
        "8889000\t849472\r\n",
        "8890000\t849543\r\n",
        "8891000\t849621\r\n"
       ]
      },
      {
       "output_type": "stream",
       "stream": "stdout",
       "text": [
        "8892000\t849692\r\n",
        "8893000\t849749\r\n",
        "8894000\t849823\r\n",
        "8895000\t849888\r\n"
       ]
      },
      {
       "output_type": "stream",
       "stream": "stdout",
       "text": [
        "8896000\t849949\r\n",
        "8897000\t850022\r\n",
        "8898000\t850086\r\n"
       ]
      },
      {
       "output_type": "stream",
       "stream": "stdout",
       "text": [
        "8899000\t850167\r\n",
        "8900000\t850242\r\n",
        "8901000\t850306\r\n"
       ]
      },
      {
       "output_type": "stream",
       "stream": "stdout",
       "text": [
        "8902000\t850370\r\n",
        "8903000\t850434\r\n",
        "8904000\t850508\r\n",
        "8905000\t850575\r\n"
       ]
      },
      {
       "output_type": "stream",
       "stream": "stdout",
       "text": [
        "8906000\t850638\r\n",
        "8907000\t850702\r\n",
        "8908000\t850772\r\n"
       ]
      },
      {
       "output_type": "stream",
       "stream": "stdout",
       "text": [
        "8909000\t850843\r\n",
        "8910000\t850912\r\n",
        "8911000\t850985\r\n",
        "8912000\t851046\r\n"
       ]
      },
      {
       "output_type": "stream",
       "stream": "stdout",
       "text": [
        "8913000\t851119\r\n",
        "8914000\t851181\r\n",
        "8915000\t851254\r\n"
       ]
      },
      {
       "output_type": "stream",
       "stream": "stdout",
       "text": [
        "8916000\t851317\r\n",
        "8917000\t851398\r\n",
        "8918000\t851457\r\n"
       ]
      },
      {
       "output_type": "stream",
       "stream": "stdout",
       "text": [
        "8919000\t851509\r\n",
        "8920000\t851564\r\n",
        "8921000\t851622\r\n",
        "8922000\t851686\r\n"
       ]
      },
      {
       "output_type": "stream",
       "stream": "stdout",
       "text": [
        "8923000\t851771\r\n",
        "8924000\t851845\r\n",
        "8925000\t851905\r\n"
       ]
      },
      {
       "output_type": "stream",
       "stream": "stdout",
       "text": [
        "8926000\t851971\r\n",
        "8927000\t852042\r\n",
        "8928000\t852109\r\n"
       ]
      },
      {
       "output_type": "stream",
       "stream": "stdout",
       "text": [
        "8929000\t852180\r\n",
        "8930000\t852241\r\n",
        "8931000\t852308\r\n",
        "8932000\t852381\r\n"
       ]
      },
      {
       "output_type": "stream",
       "stream": "stdout",
       "text": [
        "8933000\t852438\r\n",
        "8934000\t852500\r\n",
        "8935000\t852563\r\n"
       ]
      },
      {
       "output_type": "stream",
       "stream": "stdout",
       "text": [
        "8936000\t852601\r\n",
        "8937000\t852670\r\n",
        "8938000\t852722\r\n",
        "8939000\t852796\r\n"
       ]
      },
      {
       "output_type": "stream",
       "stream": "stdout",
       "text": [
        "8940000\t852860\r\n",
        "8941000\t852911\r\n",
        "8942000\t852987\r\n"
       ]
      },
      {
       "output_type": "stream",
       "stream": "stdout",
       "text": [
        "8943000\t853045\r\n",
        "8944000\t853103\r\n",
        "8945000\t853169\r\n"
       ]
      },
      {
       "output_type": "stream",
       "stream": "stdout",
       "text": [
        "8946000\t853234\r\n",
        "8947000\t853293\r\n",
        "8948000\t853373\r\n",
        "8949000\t853439\r\n"
       ]
      },
      {
       "output_type": "stream",
       "stream": "stdout",
       "text": [
        "8950000\t853501\r\n",
        "8951000\t853566\r\n",
        "8952000\t853628\r\n"
       ]
      },
      {
       "output_type": "stream",
       "stream": "stdout",
       "text": [
        "8953000\t853692\r\n",
        "8954000\t853757\r\n",
        "8955000\t853827\r\n"
       ]
      },
      {
       "output_type": "stream",
       "stream": "stdout",
       "text": [
        "8956000\t853893\r\n",
        "8957000\t853963\r\n",
        "8958000\t854035\r\n",
        "8959000\t854089\r\n"
       ]
      },
      {
       "output_type": "stream",
       "stream": "stdout",
       "text": [
        "8960000\t854143\r\n",
        "8961000\t854212\r\n",
        "8962000\t854272\r\n"
       ]
      },
      {
       "output_type": "stream",
       "stream": "stdout",
       "text": [
        "8963000\t854345\r\n",
        "8964000\t854419\r\n",
        "8965000\t854480\r\n",
        "8966000\t854537\r\n"
       ]
      },
      {
       "output_type": "stream",
       "stream": "stdout",
       "text": [
        "8967000\t854615\r\n",
        "8968000\t854678\r\n",
        "8969000\t854733\r\n"
       ]
      },
      {
       "output_type": "stream",
       "stream": "stdout",
       "text": [
        "8970000\t854802\r\n",
        "8971000\t854885\r\n",
        "8972000\t854952\r\n"
       ]
      },
      {
       "output_type": "stream",
       "stream": "stdout",
       "text": [
        "8973000\t855015\r\n",
        "8974000\t855079\r\n",
        "8975000\t855145\r\n",
        "8976000\t855211\r\n"
       ]
      },
      {
       "output_type": "stream",
       "stream": "stdout",
       "text": [
        "8977000\t855278\r\n",
        "8978000\t855355\r\n",
        "8979000\t855436\r\n"
       ]
      },
      {
       "output_type": "stream",
       "stream": "stdout",
       "text": [
        "8980000\t855517\r\n",
        "8981000\t855597\r\n",
        "8982000\t855667\r\n"
       ]
      },
      {
       "output_type": "stream",
       "stream": "stdout",
       "text": [
        "8983000\t855736\r\n",
        "8984000\t855819\r\n",
        "8985000\t855899\r\n",
        "8986000\t855987\r\n"
       ]
      },
      {
       "output_type": "stream",
       "stream": "stdout",
       "text": [
        "8987000\t856061\r\n",
        "8988000\t856123\r\n",
        "8989000\t856201\r\n"
       ]
      },
      {
       "output_type": "stream",
       "stream": "stdout",
       "text": [
        "8990000\t856262\r\n",
        "8991000\t856348\r\n",
        "8992000\t856447\r\n"
       ]
      },
      {
       "output_type": "stream",
       "stream": "stdout",
       "text": [
        "8993000\t856529\r\n",
        "8994000\t856614\r\n",
        "8995000\t856698\r\n",
        "8996000\t856775\r\n"
       ]
      },
      {
       "output_type": "stream",
       "stream": "stdout",
       "text": [
        "8997000\t856867\r\n",
        "8998000\t856957\r\n",
        "8999000\t857034\r\n"
       ]
      },
      {
       "output_type": "stream",
       "stream": "stdout",
       "text": [
        "9000000\t857119\r\n",
        "9001000\t857222\r\n",
        "9002000\t857304\r\n"
       ]
      },
      {
       "output_type": "stream",
       "stream": "stdout",
       "text": [
        "9003000\t857406\r\n",
        "9004000\t857480\r\n",
        "9005000\t857594\r\n",
        "9006000\t857692\r\n"
       ]
      },
      {
       "output_type": "stream",
       "stream": "stdout",
       "text": [
        "9007000\t857785\r\n",
        "9008000\t857880\r\n",
        "9009000\t857977\r\n"
       ]
      },
      {
       "output_type": "stream",
       "stream": "stdout",
       "text": [
        "9010000\t858093\r\n",
        "9011000\t858196\r\n",
        "9012000\t858339\r\n"
       ]
      },
      {
       "output_type": "stream",
       "stream": "stdout",
       "text": [
        "9013000\t858534\r\n",
        "9014000\t858706\r\n",
        "9015000\t858874\r\n"
       ]
      },
      {
       "output_type": "stream",
       "stream": "stdout",
       "text": [
        "9016000\t859023\r\n",
        "9017000\t859173\r\n",
        "9018000\t859308\r\n",
        "9019000\t859445\r\n"
       ]
      },
      {
       "output_type": "stream",
       "stream": "stdout",
       "text": [
        "9020000\t859560\r\n",
        "9021000\t859698\r\n",
        "9022000\t859817\r\n"
       ]
      },
      {
       "output_type": "stream",
       "stream": "stdout",
       "text": [
        "9023000\t859953\r\n",
        "9024000\t860074\r\n",
        "9025000\t860178\r\n"
       ]
      },
      {
       "output_type": "stream",
       "stream": "stdout",
       "text": [
        "9026000\t860292\r\n",
        "9027000\t860374\r\n",
        "9028000\t860488\r\n"
       ]
      },
      {
       "output_type": "stream",
       "stream": "stdout",
       "text": [
        "9029000\t860599\r\n",
        "9030000\t860707\r\n",
        "9031000\t860801\r\n"
       ]
      },
      {
       "output_type": "stream",
       "stream": "stdout",
       "text": [
        "9032000\t860881\r\n",
        "9033000\t860986\r\n",
        "9034000\t861079\r\n",
        "9035000\t861169\r\n"
       ]
      },
      {
       "output_type": "stream",
       "stream": "stdout",
       "text": [
        "9036000\t861261\r\n",
        "9037000\t861349\r\n",
        "9038000\t861437\r\n"
       ]
      },
      {
       "output_type": "stream",
       "stream": "stdout",
       "text": [
        "9039000\t861514\r\n",
        "9040000\t861595\r\n",
        "9041000\t861683\r\n"
       ]
      },
      {
       "output_type": "stream",
       "stream": "stdout",
       "text": [
        "9042000\t861776\r\n",
        "9043000\t861874\r\n",
        "9044000\t861946\r\n",
        "9045000\t862039\r\n"
       ]
      },
      {
       "output_type": "stream",
       "stream": "stdout",
       "text": [
        "9046000\t862131\r\n",
        "9047000\t862224\r\n",
        "9048000\t862310\r\n"
       ]
      },
      {
       "output_type": "stream",
       "stream": "stdout",
       "text": [
        "9049000\t862394\r\n",
        "9050000\t862466\r\n",
        "9051000\t862552\r\n"
       ]
      },
      {
       "output_type": "stream",
       "stream": "stdout",
       "text": [
        "9052000\t862638\r\n",
        "9053000\t862718\r\n",
        "9054000\t862821\r\n",
        "9055000\t862948\r\n"
       ]
      },
      {
       "output_type": "stream",
       "stream": "stdout",
       "text": [
        "9056000\t863024\r\n",
        "9057000\t863106\r\n",
        "9058000\t863179\r\n"
       ]
      },
      {
       "output_type": "stream",
       "stream": "stdout",
       "text": [
        "9059000\t863256\r\n",
        "9060000\t863326\r\n",
        "9061000\t863406\r\n"
       ]
      },
      {
       "output_type": "stream",
       "stream": "stdout",
       "text": [
        "9062000\t863494\r\n",
        "9063000\t863567\r\n",
        "9064000\t863641\r\n",
        "9065000\t863717\r\n"
       ]
      },
      {
       "output_type": "stream",
       "stream": "stdout",
       "text": [
        "9066000\t863803\r\n",
        "9067000\t863880\r\n",
        "9068000\t863967\r\n"
       ]
      },
      {
       "output_type": "stream",
       "stream": "stdout",
       "text": [
        "9069000\t864051\r\n",
        "9070000\t864117\r\n",
        "9071000\t864212\r\n"
       ]
      },
      {
       "output_type": "stream",
       "stream": "stdout",
       "text": [
        "9072000\t864284\r\n",
        "9073000\t864352\r\n",
        "9074000\t864425\r\n",
        "9075000\t864499\r\n"
       ]
      },
      {
       "output_type": "stream",
       "stream": "stdout",
       "text": [
        "9076000\t864566\r\n",
        "9077000\t864643\r\n",
        "9078000\t864704\r\n"
       ]
      },
      {
       "output_type": "stream",
       "stream": "stdout",
       "text": [
        "9079000\t864771\r\n",
        "9080000\t864858\r\n",
        "9081000\t864942\r\n",
        "9082000\t865003\r\n"
       ]
      },
      {
       "output_type": "stream",
       "stream": "stdout",
       "text": [
        "9083000\t865074\r\n",
        "9084000\t865151\r\n",
        "9085000\t865218\r\n"
       ]
      },
      {
       "output_type": "stream",
       "stream": "stdout",
       "text": [
        "9086000\t865286\r\n",
        "9087000\t865367\r\n",
        "9088000\t865431\r\n"
       ]
      },
      {
       "output_type": "stream",
       "stream": "stdout",
       "text": [
        "9089000\t865514\r\n",
        "9090000\t865577\r\n",
        "9091000\t865664\r\n",
        "9092000\t865741\r\n"
       ]
      },
      {
       "output_type": "stream",
       "stream": "stdout",
       "text": [
        "9093000\t865812\r\n",
        "9094000\t865887\r\n",
        "9095000\t865955\r\n"
       ]
      },
      {
       "output_type": "stream",
       "stream": "stdout",
       "text": [
        "9096000\t866031\r\n",
        "9097000\t866113\r\n",
        "9098000\t866180\r\n"
       ]
      },
      {
       "output_type": "stream",
       "stream": "stdout",
       "text": [
        "9099000\t866249\r\n",
        "9100000\t866313\r\n",
        "9101000\t866388\r\n",
        "9102000\t866453\r\n"
       ]
      },
      {
       "output_type": "stream",
       "stream": "stdout",
       "text": [
        "9103000\t866513\r\n",
        "9104000\t866565\r\n",
        "9105000\t866625\r\n"
       ]
      },
      {
       "output_type": "stream",
       "stream": "stdout",
       "text": [
        "9106000\t866710\r\n",
        "9107000\t866769\r\n",
        "9108000\t866839\r\n"
       ]
      },
      {
       "output_type": "stream",
       "stream": "stdout",
       "text": [
        "9109000\t866904\r\n",
        "9110000\t866974\r\n",
        "9111000\t867034\r\n",
        "9112000\t867110\r\n"
       ]
      },
      {
       "output_type": "stream",
       "stream": "stdout",
       "text": [
        "9113000\t867173\r\n",
        "9114000\t867248\r\n",
        "9115000\t867316\r\n"
       ]
      },
      {
       "output_type": "stream",
       "stream": "stdout",
       "text": [
        "9116000\t867370\r\n",
        "9117000\t867449\r\n",
        "9118000\t867529\r\n",
        "9119000\t867603\r\n"
       ]
      },
      {
       "output_type": "stream",
       "stream": "stdout",
       "text": [
        "9120000\t867670\r\n",
        "9121000\t867730\r\n",
        "9122000\t867785\r\n"
       ]
      },
      {
       "output_type": "stream",
       "stream": "stdout",
       "text": [
        "9123000\t867851\r\n",
        "9124000\t867920\r\n",
        "9125000\t867997\r\n"
       ]
      },
      {
       "output_type": "stream",
       "stream": "stdout",
       "text": [
        "9126000\t868056\r\n",
        "9127000\t868118\r\n",
        "9128000\t868169\r\n",
        "9129000\t868238\r\n"
       ]
      },
      {
       "output_type": "stream",
       "stream": "stdout",
       "text": [
        "9130000\t868298\r\n",
        "9131000\t868363\r\n",
        "9132000\t868425\r\n"
       ]
      },
      {
       "output_type": "stream",
       "stream": "stdout",
       "text": [
        "9133000\t868498\r\n",
        "9134000\t868563\r\n",
        "9135000\t868630\r\n"
       ]
      },
      {
       "output_type": "stream",
       "stream": "stdout",
       "text": [
        "9136000\t868692\r\n",
        "9137000\t868744\r\n",
        "9138000\t868803\r\n",
        "9139000\t868858\r\n"
       ]
      },
      {
       "output_type": "stream",
       "stream": "stdout",
       "text": [
        "9140000\t868919\r\n",
        "9141000\t868985\r\n",
        "9142000\t869056\r\n"
       ]
      },
      {
       "output_type": "stream",
       "stream": "stdout",
       "text": [
        "9143000\t869116\r\n",
        "9144000\t869194\r\n",
        "9145000\t869268\r\n"
       ]
      },
      {
       "output_type": "stream",
       "stream": "stdout",
       "text": [
        "9146000\t869333\r\n",
        "9147000\t869405\r\n",
        "9148000\t869471\r\n",
        "9149000\t869535\r\n"
       ]
      },
      {
       "output_type": "stream",
       "stream": "stdout",
       "text": [
        "9150000\t869599\r\n",
        "9151000\t869669\r\n",
        "9152000\t869738\r\n"
       ]
      },
      {
       "output_type": "stream",
       "stream": "stdout",
       "text": [
        "9153000\t869800\r\n",
        "9154000\t869856\r\n",
        "9155000\t869918\r\n"
       ]
      },
      {
       "output_type": "stream",
       "stream": "stdout",
       "text": [
        "9156000\t869976\r\n",
        "9157000\t870029\r\n",
        "9158000\t870091\r\n",
        "9159000\t870155\r\n"
       ]
      },
      {
       "output_type": "stream",
       "stream": "stdout",
       "text": [
        "9160000\t870217\r\n",
        "9161000\t870270\r\n",
        "9162000\t870333\r\n"
       ]
      },
      {
       "output_type": "stream",
       "stream": "stdout",
       "text": [
        "9163000\t870403\r\n",
        "9164000\t870461\r\n",
        "9165000\t870517\r\n",
        "9166000\t870587\r\n"
       ]
      },
      {
       "output_type": "stream",
       "stream": "stdout",
       "text": [
        "9167000\t870652\r\n",
        "9168000\t870712\r\n",
        "9169000\t870792\r\n"
       ]
      },
      {
       "output_type": "stream",
       "stream": "stdout",
       "text": [
        "9170000\t870846\r\n",
        "9171000\t870914\r\n",
        "9172000\t870985\r\n"
       ]
      },
      {
       "output_type": "stream",
       "stream": "stdout",
       "text": [
        "9173000\t871048\r\n",
        "9174000\t871108\r\n",
        "9175000\t871169\r\n",
        "9176000\t871218\r\n"
       ]
      },
      {
       "output_type": "stream",
       "stream": "stdout",
       "text": [
        "9177000\t871262\r\n",
        "9178000\t871330\r\n",
        "9179000\t871388\r\n"
       ]
      },
      {
       "output_type": "stream",
       "stream": "stdout",
       "text": [
        "9180000\t871440\r\n",
        "9181000\t871502\r\n",
        "9182000\t871572\r\n"
       ]
      },
      {
       "output_type": "stream",
       "stream": "stdout",
       "text": [
        "9183000\t871643\r\n",
        "9184000\t871692\r\n",
        "9185000\t871753\r\n",
        "9186000\t871817\r\n"
       ]
      },
      {
       "output_type": "stream",
       "stream": "stdout",
       "text": [
        "9187000\t871884\r\n",
        "9188000\t871957\r\n",
        "9189000\t872027\r\n"
       ]
      },
      {
       "output_type": "stream",
       "stream": "stdout",
       "text": [
        "9190000\t872074\r\n",
        "9191000\t872135\r\n",
        "9192000\t872193\r\n",
        "9193000\t872255\r\n"
       ]
      },
      {
       "output_type": "stream",
       "stream": "stdout",
       "text": [
        "9194000\t872308\r\n",
        "9195000\t872370\r\n",
        "9196000\t872454\r\n"
       ]
      },
      {
       "output_type": "stream",
       "stream": "stdout",
       "text": [
        "9197000\t872523\r\n",
        "9198000\t872575\r\n",
        "9199000\t872646\r\n"
       ]
      },
      {
       "output_type": "stream",
       "stream": "stdout",
       "text": [
        "9200000\t872708\r\n",
        "9201000\t872785\r\n",
        "9202000\t872843\r\n",
        "9203000\t872904\r\n"
       ]
      },
      {
       "output_type": "stream",
       "stream": "stdout",
       "text": [
        "9204000\t872962\r\n",
        "9205000\t873035\r\n",
        "9206000\t873096\r\n"
       ]
      },
      {
       "output_type": "stream",
       "stream": "stdout",
       "text": [
        "9207000\t873162\r\n",
        "9208000\t873227\r\n",
        "9209000\t873288\r\n"
       ]
      },
      {
       "output_type": "stream",
       "stream": "stdout",
       "text": [
        "9210000\t873349\r\n",
        "9211000\t873410\r\n",
        "9212000\t873468\r\n",
        "9213000\t873532\r\n"
       ]
      },
      {
       "output_type": "stream",
       "stream": "stdout",
       "text": [
        "9214000\t873592\r\n",
        "9215000\t873652\r\n",
        "9216000\t873729\r\n"
       ]
      },
      {
       "output_type": "stream",
       "stream": "stdout",
       "text": [
        "9217000\t873794\r\n",
        "9218000\t873854\r\n",
        "9219000\t873923\r\n",
        "9220000\t873996\r\n"
       ]
      },
      {
       "output_type": "stream",
       "stream": "stdout",
       "text": [
        "9221000\t874061\r\n",
        "9222000\t874139\r\n",
        "9223000\t874206\r\n"
       ]
      },
      {
       "output_type": "stream",
       "stream": "stdout",
       "text": [
        "9224000\t874274\r\n",
        "9225000\t874329\r\n",
        "9226000\t874400\r\n"
       ]
      },
      {
       "output_type": "stream",
       "stream": "stdout",
       "text": [
        "9227000\t874453\r\n",
        "9228000\t874526\r\n",
        "9229000\t874589\r\n",
        "9230000\t874651\r\n"
       ]
      },
      {
       "output_type": "stream",
       "stream": "stdout",
       "text": [
        "9231000\t874720\r\n",
        "9232000\t874787\r\n",
        "9233000\t874841\r\n"
       ]
      },
      {
       "output_type": "stream",
       "stream": "stdout",
       "text": [
        "9234000\t874906\r\n",
        "9235000\t874970\r\n",
        "9236000\t875038\r\n"
       ]
      },
      {
       "output_type": "stream",
       "stream": "stdout",
       "text": [
        "9237000\t875097\r\n",
        "9238000\t875150\r\n",
        "9239000\t875214\r\n",
        "9240000\t875275\r\n"
       ]
      },
      {
       "output_type": "stream",
       "stream": "stdout",
       "text": [
        "9241000\t875344\r\n",
        "9242000\t875399\r\n",
        "9243000\t875472\r\n"
       ]
      },
      {
       "output_type": "stream",
       "stream": "stdout",
       "text": [
        "9244000\t875521\r\n",
        "9245000\t875579\r\n",
        "9246000\t875652\r\n",
        "9247000\t875715\r\n"
       ]
      },
      {
       "output_type": "stream",
       "stream": "stdout",
       "text": [
        "9248000\t875776\r\n",
        "9249000\t875850\r\n",
        "9250000\t875919\r\n"
       ]
      },
      {
       "output_type": "stream",
       "stream": "stdout",
       "text": [
        "9251000\t876007\r\n",
        "9252000\t876075\r\n",
        "9253000\t876150\r\n"
       ]
      },
      {
       "output_type": "stream",
       "stream": "stdout",
       "text": [
        "9254000\t876229\r\n",
        "9255000\t876303\r\n",
        "9256000\t876387\r\n",
        "9257000\t876465\r\n"
       ]
      },
      {
       "output_type": "stream",
       "stream": "stdout",
       "text": [
        "9258000\t876551\r\n",
        "9259000\t876630\r\n",
        "9260000\t876712\r\n"
       ]
      },
      {
       "output_type": "stream",
       "stream": "stdout",
       "text": [
        "9261000\t876786\r\n",
        "9262000\t876857\r\n",
        "9263000\t876931\r\n"
       ]
      },
      {
       "output_type": "stream",
       "stream": "stdout",
       "text": [
        "9264000\t876995\r\n",
        "9265000\t877074\r\n",
        "9266000\t877145\r\n",
        "9267000\t877236\r\n"
       ]
      },
      {
       "output_type": "stream",
       "stream": "stdout",
       "text": [
        "9268000\t877317\r\n",
        "9269000\t877392\r\n",
        "9270000\t877474\r\n"
       ]
      },
      {
       "output_type": "stream",
       "stream": "stdout",
       "text": [
        "9271000\t877551\r\n",
        "9272000\t877626\r\n",
        "9273000\t877688\r\n"
       ]
      },
      {
       "output_type": "stream",
       "stream": "stdout",
       "text": [
        "9274000\t877773\r\n",
        "9275000\t877864\r\n",
        "9276000\t877935\r\n",
        "9277000\t878015\r\n"
       ]
      },
      {
       "output_type": "stream",
       "stream": "stdout",
       "text": [
        "9278000\t878100\r\n",
        "9279000\t878188\r\n",
        "9280000\t878278\r\n"
       ]
      },
      {
       "output_type": "stream",
       "stream": "stdout",
       "text": [
        "9281000\t878365\r\n",
        "9282000\t878458\r\n",
        "9283000\t878547\r\n"
       ]
      },
      {
       "output_type": "stream",
       "stream": "stdout",
       "text": [
        "9284000\t878673\r\n",
        "9285000\t878809\r\n",
        "9286000\t878948\r\n",
        "9287000\t879095\r\n"
       ]
      },
      {
       "output_type": "stream",
       "stream": "stdout",
       "text": [
        "9288000\t879216\r\n",
        "9289000\t879344\r\n",
        "9290000\t879472\r\n"
       ]
      },
      {
       "output_type": "stream",
       "stream": "stdout",
       "text": [
        "9291000\t879593\r\n",
        "9292000\t879719\r\n",
        "9293000\t879803\r\n"
       ]
      },
      {
       "output_type": "stream",
       "stream": "stdout",
       "text": [
        "9294000\t879910\r\n",
        "9295000\t880008\r\n",
        "9296000\t880108\r\n",
        "9297000\t880207\r\n"
       ]
      },
      {
       "output_type": "stream",
       "stream": "stdout",
       "text": [
        "9298000\t880318\r\n",
        "9299000\t880406\r\n",
        "9300000\t880507\r\n"
       ]
      },
      {
       "output_type": "stream",
       "stream": "stdout",
       "text": [
        "9301000\t880586\r\n",
        "9302000\t880679\r\n",
        "9303000\t880780\r\n"
       ]
      },
      {
       "output_type": "stream",
       "stream": "stdout",
       "text": [
        "9304000\t880867\r\n",
        "9305000\t880943\r\n",
        "9306000\t881030\r\n",
        "9307000\t881102\r\n"
       ]
      },
      {
       "output_type": "stream",
       "stream": "stdout",
       "text": [
        "9308000\t881195\r\n",
        "9309000\t881277\r\n",
        "9310000\t881352\r\n"
       ]
      },
      {
       "output_type": "stream",
       "stream": "stdout",
       "text": [
        "9311000\t881448\r\n",
        "9312000\t881529\r\n",
        "9313000\t881597\r\n"
       ]
      },
      {
       "output_type": "stream",
       "stream": "stdout",
       "text": [
        "9314000\t881660\r\n",
        "9315000\t881727\r\n",
        "9316000\t881798\r\n",
        "9317000\t881876\r\n"
       ]
      },
      {
       "output_type": "stream",
       "stream": "stdout",
       "text": [
        "9318000\t881937\r\n",
        "9319000\t882014\r\n",
        "9320000\t882096\r\n"
       ]
      },
      {
       "output_type": "stream",
       "stream": "stdout",
       "text": [
        "9321000\t882169\r\n",
        "9322000\t882240\r\n",
        "9323000\t882328\r\n"
       ]
      },
      {
       "output_type": "stream",
       "stream": "stdout",
       "text": [
        "9324000\t882404\r\n",
        "9325000\t882469\r\n",
        "9326000\t882555\r\n",
        "9327000\t882632\r\n"
       ]
      },
      {
       "output_type": "stream",
       "stream": "stdout",
       "text": [
        "9328000\t882700\r\n",
        "9329000\t882780\r\n",
        "9330000\t882859\r\n"
       ]
      },
      {
       "output_type": "stream",
       "stream": "stdout",
       "text": [
        "9331000\t882929\r\n",
        "9332000\t883000\r\n",
        "9333000\t883067\r\n"
       ]
      },
      {
       "output_type": "stream",
       "stream": "stdout",
       "text": [
        "9334000\t883137\r\n",
        "9335000\t883206\r\n",
        "9336000\t883266\r\n",
        "9337000\t883340\r\n"
       ]
      },
      {
       "output_type": "stream",
       "stream": "stdout",
       "text": [
        "9338000\t883415\r\n",
        "9339000\t883481\r\n",
        "9340000\t883560\r\n"
       ]
      },
      {
       "output_type": "stream",
       "stream": "stdout",
       "text": [
        "9341000\t883627\r\n",
        "9342000\t883698\r\n",
        "9343000\t883758\r\n"
       ]
      },
      {
       "output_type": "stream",
       "stream": "stdout",
       "text": [
        "9344000\t883817\r\n",
        "9345000\t883887\r\n",
        "9346000\t883949\r\n",
        "9347000\t884013\r\n"
       ]
      },
      {
       "output_type": "stream",
       "stream": "stdout",
       "text": [
        "9348000\t884091\r\n",
        "9349000\t884142\r\n",
        "9350000\t884199\r\n"
       ]
      },
      {
       "output_type": "stream",
       "stream": "stdout",
       "text": [
        "9351000\t884262\r\n",
        "9352000\t884322\r\n",
        "9353000\t884382\r\n",
        "9354000\t884445\r\n"
       ]
      },
      {
       "output_type": "stream",
       "stream": "stdout",
       "text": [
        "9355000\t884502\r\n",
        "9356000\t884570\r\n",
        "9357000\t884627\r\n"
       ]
      },
      {
       "output_type": "stream",
       "stream": "stdout",
       "text": [
        "9358000\t884699\r\n",
        "9359000\t884755\r\n",
        "9360000\t884832\r\n"
       ]
      },
      {
       "output_type": "stream",
       "stream": "stdout",
       "text": [
        "9361000\t884896\r\n",
        "9362000\t884968\r\n",
        "9363000\t885048\r\n",
        "9364000\t885127\r\n"
       ]
      },
      {
       "output_type": "stream",
       "stream": "stdout",
       "text": [
        "9365000\t885189\r\n",
        "9366000\t885258\r\n",
        "9367000\t885322\r\n"
       ]
      },
      {
       "output_type": "stream",
       "stream": "stdout",
       "text": [
        "9368000\t885399\r\n",
        "9369000\t885467\r\n",
        "9370000\t885535\r\n"
       ]
      },
      {
       "output_type": "stream",
       "stream": "stdout",
       "text": [
        "9371000\t885591\r\n",
        "9372000\t885644\r\n",
        "9373000\t885705\r\n",
        "9374000\t885773\r\n"
       ]
      },
      {
       "output_type": "stream",
       "stream": "stdout",
       "text": [
        "9375000\t885838\r\n",
        "9376000\t885890\r\n",
        "9377000\t885964\r\n"
       ]
      },
      {
       "output_type": "stream",
       "stream": "stdout",
       "text": [
        "9378000\t886028\r\n",
        "9379000\t886105\r\n",
        "9380000\t886173\r\n",
        "9381000\t886233\r\n"
       ]
      },
      {
       "output_type": "stream",
       "stream": "stdout",
       "text": [
        "9382000\t886291\r\n",
        "9383000\t886350\r\n",
        "9384000\t886408\r\n"
       ]
      },
      {
       "output_type": "stream",
       "stream": "stdout",
       "text": [
        "9385000\t886462\r\n",
        "9386000\t886511\r\n",
        "9387000\t886576\r\n"
       ]
      },
      {
       "output_type": "stream",
       "stream": "stdout",
       "text": [
        "9388000\t886647\r\n",
        "9389000\t886712\r\n",
        "9390000\t886790\r\n",
        "9391000\t886872\r\n"
       ]
      },
      {
       "output_type": "stream",
       "stream": "stdout",
       "text": [
        "9392000\t886922\r\n",
        "9393000\t886984\r\n",
        "9394000\t887050\r\n"
       ]
      },
      {
       "output_type": "stream",
       "stream": "stdout",
       "text": [
        "9395000\t887112\r\n",
        "9396000\t887173\r\n",
        "9397000\t887242\r\n"
       ]
      },
      {
       "output_type": "stream",
       "stream": "stdout",
       "text": [
        "9398000\t887303\r\n",
        "9399000\t887364\r\n",
        "9400000\t887420\r\n",
        "9401000\t887487\r\n"
       ]
      },
      {
       "output_type": "stream",
       "stream": "stdout",
       "text": [
        "9402000\t887545\r\n",
        "9403000\t887599\r\n",
        "9404000\t887666\r\n"
       ]
      },
      {
       "output_type": "stream",
       "stream": "stdout",
       "text": [
        "9405000\t887721\r\n",
        "9406000\t887770\r\n",
        "9407000\t887825\r\n",
        "9408000\t887882\r\n"
       ]
      },
      {
       "output_type": "stream",
       "stream": "stdout",
       "text": [
        "9409000\t887942\r\n",
        "9410000\t888001\r\n",
        "9411000\t888070\r\n"
       ]
      },
      {
       "output_type": "stream",
       "stream": "stdout",
       "text": [
        "9412000\t888119\r\n",
        "9413000\t888187\r\n",
        "9414000\t888262\r\n"
       ]
      },
      {
       "output_type": "stream",
       "stream": "stdout",
       "text": [
        "9415000\t888325\r\n",
        "9416000\t888383\r\n",
        "9417000\t888435\r\n",
        "9418000\t888496\r\n"
       ]
      },
      {
       "output_type": "stream",
       "stream": "stdout",
       "text": [
        "9419000\t888548\r\n",
        "9420000\t888610\r\n",
        "9421000\t888669\r\n"
       ]
      },
      {
       "output_type": "stream",
       "stream": "stdout",
       "text": [
        "9422000\t888735\r\n",
        "9423000\t888797\r\n",
        "9424000\t888858\r\n",
        "9425000\t888904\r\n"
       ]
      },
      {
       "output_type": "stream",
       "stream": "stdout",
       "text": [
        "9426000\t888965\r\n",
        "9427000\t889029\r\n",
        "9428000\t889075\r\n"
       ]
      },
      {
       "output_type": "stream",
       "stream": "stdout",
       "text": [
        "9429000\t889143\r\n",
        "9430000\t889207\r\n",
        "9431000\t889268\r\n"
       ]
      },
      {
       "output_type": "stream",
       "stream": "stdout",
       "text": [
        "9432000\t889316\r\n",
        "9433000\t889386\r\n",
        "9434000\t889437\r\n",
        "9435000\t889494\r\n"
       ]
      },
      {
       "output_type": "stream",
       "stream": "stdout",
       "text": [
        "9436000\t889546\r\n",
        "9437000\t889616\r\n",
        "9438000\t889690\r\n"
       ]
      },
      {
       "output_type": "stream",
       "stream": "stdout",
       "text": [
        "9439000\t889754\r\n",
        "9440000\t889814\r\n",
        "9441000\t889870\r\n"
       ]
      },
      {
       "output_type": "stream",
       "stream": "stdout",
       "text": [
        "9442000\t889922\r\n",
        "9443000\t889976\r\n",
        "9444000\t890031\r\n",
        "9445000\t890087\r\n"
       ]
      },
      {
       "output_type": "stream",
       "stream": "stdout",
       "text": [
        "9446000\t890150\r\n",
        "9447000\t890208\r\n",
        "9448000\t890276\r\n"
       ]
      },
      {
       "output_type": "stream",
       "stream": "stdout",
       "text": [
        "9449000\t890347\r\n",
        "9450000\t890412\r\n",
        "9451000\t890474\r\n"
       ]
      },
      {
       "output_type": "stream",
       "stream": "stdout",
       "text": [
        "9452000\t890539\r\n",
        "9453000\t890591\r\n",
        "9454000\t890650\r\n",
        "9455000\t890710\r\n"
       ]
      },
      {
       "output_type": "stream",
       "stream": "stdout",
       "text": [
        "9456000\t890771\r\n",
        "9457000\t890840\r\n",
        "9458000\t890892\r\n"
       ]
      },
      {
       "output_type": "stream",
       "stream": "stdout",
       "text": [
        "9459000\t890960\r\n",
        "9460000\t891015\r\n",
        "9461000\t891082\r\n",
        "9462000\t891137\r\n"
       ]
      },
      {
       "output_type": "stream",
       "stream": "stdout",
       "text": [
        "9463000\t891194\r\n",
        "9464000\t891255\r\n",
        "9465000\t891322\r\n"
       ]
      },
      {
       "output_type": "stream",
       "stream": "stdout",
       "text": [
        "9466000\t891381\r\n",
        "9467000\t891441\r\n",
        "9468000\t891497\r\n"
       ]
      },
      {
       "output_type": "stream",
       "stream": "stdout",
       "text": [
        "9469000\t891548\r\n",
        "9470000\t891610\r\n",
        "9471000\t891678\r\n",
        "9472000\t891741\r\n"
       ]
      },
      {
       "output_type": "stream",
       "stream": "stdout",
       "text": [
        "9473000\t891793\r\n",
        "9474000\t891858\r\n",
        "9475000\t891918\r\n"
       ]
      },
      {
       "output_type": "stream",
       "stream": "stdout",
       "text": [
        "9476000\t891976\r\n",
        "9477000\t892036\r\n",
        "9478000\t892093\r\n",
        "9479000\t892159\r\n"
       ]
      },
      {
       "output_type": "stream",
       "stream": "stdout",
       "text": [
        "9480000\t892213\r\n",
        "9481000\t892268\r\n",
        "9482000\t892330\r\n"
       ]
      },
      {
       "output_type": "stream",
       "stream": "stdout",
       "text": [
        "9483000\t892388\r\n",
        "9484000\t892443\r\n",
        "9485000\t892493\r\n"
       ]
      },
      {
       "output_type": "stream",
       "stream": "stdout",
       "text": [
        "9486000\t892554\r\n",
        "9487000\t892593\r\n",
        "9488000\t892657\r\n",
        "9489000\t892720\r\n"
       ]
      },
      {
       "output_type": "stream",
       "stream": "stdout",
       "text": [
        "9490000\t892776\r\n",
        "9491000\t892842\r\n",
        "9492000\t892905\r\n"
       ]
      },
      {
       "output_type": "stream",
       "stream": "stdout",
       "text": [
        "9493000\t892968\r\n",
        "9494000\t893038\r\n",
        "9495000\t893094\r\n",
        "9496000\t893156\r\n"
       ]
      },
      {
       "output_type": "stream",
       "stream": "stdout",
       "text": [
        "9497000\t893215\r\n",
        "9498000\t893288\r\n",
        "9499000\t893346\r\n"
       ]
      },
      {
       "output_type": "stream",
       "stream": "stdout",
       "text": [
        "9500000\t893423\r\n",
        "9501000\t893486\r\n",
        "9502000\t893552\r\n"
       ]
      },
      {
       "output_type": "stream",
       "stream": "stdout",
       "text": [
        "9503000\t893617\r\n",
        "9504000\t893669\r\n",
        "9505000\t893725\r\n",
        "9506000\t893791\r\n"
       ]
      },
      {
       "output_type": "stream",
       "stream": "stdout",
       "text": [
        "9507000\t893860\r\n",
        "9508000\t893921\r\n",
        "9509000\t893977\r\n"
       ]
      },
      {
       "output_type": "stream",
       "stream": "stdout",
       "text": [
        "9510000\t894042\r\n",
        "9511000\t894105\r\n",
        "9512000\t894160\r\n"
       ]
      },
      {
       "output_type": "stream",
       "stream": "stdout",
       "text": [
        "9513000\t894218\r\n",
        "9514000\t894274\r\n",
        "9515000\t894342\r\n",
        "9516000\t894404\r\n"
       ]
      },
      {
       "output_type": "stream",
       "stream": "stdout",
       "text": [
        "9517000\t894464\r\n",
        "9518000\t894521\r\n",
        "9519000\t894582\r\n"
       ]
      },
      {
       "output_type": "stream",
       "stream": "stdout",
       "text": [
        "9520000\t894644\r\n",
        "9521000\t894700\r\n",
        "9522000\t894759\r\n",
        "9523000\t894843\r\n"
       ]
      },
      {
       "output_type": "stream",
       "stream": "stdout",
       "text": [
        "9524000\t894926\r\n",
        "9525000\t895004\r\n",
        "9526000\t895074\r\n"
       ]
      },
      {
       "output_type": "stream",
       "stream": "stdout",
       "text": [
        "9527000\t895152\r\n",
        "9528000\t895232\r\n",
        "9529000\t895301\r\n"
       ]
      },
      {
       "output_type": "stream",
       "stream": "stdout",
       "text": [
        "9530000\t895387\r\n",
        "9531000\t895456\r\n",
        "9532000\t895529\r\n",
        "9533000\t895607\r\n"
       ]
      },
      {
       "output_type": "stream",
       "stream": "stdout",
       "text": [
        "9534000\t895691\r\n",
        "9535000\t895759\r\n",
        "9536000\t895832\r\n"
       ]
      },
      {
       "output_type": "stream",
       "stream": "stdout",
       "text": [
        "9537000\t895920\r\n",
        "9538000\t895986\r\n",
        "9539000\t896066\r\n"
       ]
      },
      {
       "output_type": "stream",
       "stream": "stdout",
       "text": [
        "9540000\t896153\r\n",
        "9541000\t896223\r\n",
        "9542000\t896304\r\n",
        "9543000\t896384\r\n"
       ]
      },
      {
       "output_type": "stream",
       "stream": "stdout",
       "text": [
        "9544000\t896470\r\n",
        "9545000\t896550\r\n",
        "9546000\t896624\r\n"
       ]
      },
      {
       "output_type": "stream",
       "stream": "stdout",
       "text": [
        "9547000\t896703\r\n",
        "9548000\t896784\r\n",
        "9549000\t896850\r\n"
       ]
      },
      {
       "output_type": "stream",
       "stream": "stdout",
       "text": [
        "9550000\t896934\r\n",
        "9551000\t897011\r\n",
        "9552000\t897103\r\n",
        "9553000\t897188\r\n"
       ]
      },
      {
       "output_type": "stream",
       "stream": "stdout",
       "text": [
        "9554000\t897299\r\n",
        "9555000\t897396\r\n",
        "9556000\t897479\r\n"
       ]
      },
      {
       "output_type": "stream",
       "stream": "stdout",
       "text": [
        "9557000\t897628\r\n",
        "9558000\t897784\r\n",
        "9559000\t897941\r\n"
       ]
      },
      {
       "output_type": "stream",
       "stream": "stdout",
       "text": [
        "9560000\t898101\r\n",
        "9561000\t898277\r\n",
        "9562000\t898422\r\n",
        "9563000\t898555\r\n"
       ]
      },
      {
       "output_type": "stream",
       "stream": "stdout",
       "text": [
        "9564000\t898696\r\n",
        "9565000\t898836\r\n",
        "9566000\t898968\r\n"
       ]
      },
      {
       "output_type": "stream",
       "stream": "stdout",
       "text": [
        "9567000\t899111\r\n",
        "9568000\t899237\r\n",
        "9569000\t899350\r\n"
       ]
      },
      {
       "output_type": "stream",
       "stream": "stdout",
       "text": [
        "9570000\t899468\r\n",
        "9571000\t899581\r\n",
        "9572000\t899685\r\n"
       ]
      },
      {
       "output_type": "stream",
       "stream": "stdout",
       "text": [
        "9573000\t899786\r\n",
        "9574000\t899882\r\n",
        "9575000\t899984\r\n",
        "9576000\t900070\r\n"
       ]
      },
      {
       "output_type": "stream",
       "stream": "stdout",
       "text": [
        "9577000\t900164\r\n",
        "9578000\t900260\r\n",
        "9579000\t900339\r\n"
       ]
      },
      {
       "output_type": "stream",
       "stream": "stdout",
       "text": [
        "9580000\t900419\r\n",
        "9581000\t900519\r\n",
        "9582000\t900606\r\n"
       ]
      },
      {
       "output_type": "stream",
       "stream": "stdout",
       "text": [
        "9583000\t900706\r\n",
        "9584000\t900806\r\n",
        "9585000\t900900\r\n",
        "9586000\t900979\r\n"
       ]
      },
      {
       "output_type": "stream",
       "stream": "stdout",
       "text": [
        "9587000\t901064\r\n",
        "9588000\t901123\r\n",
        "9589000\t901202\r\n"
       ]
      },
      {
       "output_type": "stream",
       "stream": "stdout",
       "text": [
        "9590000\t901286\r\n",
        "9591000\t901375\r\n",
        "9592000\t901457\r\n"
       ]
      },
      {
       "output_type": "stream",
       "stream": "stdout",
       "text": [
        "9593000\t901539\r\n",
        "9594000\t901625\r\n",
        "9595000\t901706\r\n",
        "9596000\t901811\r\n"
       ]
      },
      {
       "output_type": "stream",
       "stream": "stdout",
       "text": [
        "9597000\t901894\r\n",
        "9598000\t901980\r\n",
        "9599000\t902080\r\n"
       ]
      },
      {
       "output_type": "stream",
       "stream": "stdout",
       "text": [
        "9600000\t902156\r\n",
        "9601000\t902249\r\n",
        "9602000\t902331\r\n"
       ]
      },
      {
       "output_type": "stream",
       "stream": "stdout",
       "text": [
        "9603000\t902429\r\n",
        "9604000\t902492\r\n",
        "9605000\t902581\r\n",
        "9606000\t902663\r\n"
       ]
      },
      {
       "output_type": "stream",
       "stream": "stdout",
       "text": [
        "9607000\t902742\r\n",
        "9608000\t902821\r\n",
        "9609000\t902904\r\n"
       ]
      },
      {
       "output_type": "stream",
       "stream": "stdout",
       "text": [
        "9610000\t902981\r\n",
        "9611000\t903076\r\n",
        "9612000\t903146\r\n"
       ]
      },
      {
       "output_type": "stream",
       "stream": "stdout",
       "text": [
        "9613000\t903220\r\n",
        "9614000\t903292\r\n",
        "9615000\t903383\r\n",
        "9616000\t903458\r\n"
       ]
      },
      {
       "output_type": "stream",
       "stream": "stdout",
       "text": [
        "9617000\t903537\r\n",
        "9618000\t903613\r\n",
        "9619000\t903689\r\n"
       ]
      },
      {
       "output_type": "stream",
       "stream": "stdout",
       "text": [
        "9620000\t903759\r\n",
        "9621000\t903824\r\n",
        "9622000\t903900\r\n"
       ]
      },
      {
       "output_type": "stream",
       "stream": "stdout",
       "text": [
        "9623000\t903970\r\n",
        "9624000\t904045\r\n",
        "9625000\t904115\r\n",
        "9626000\t904173\r\n"
       ]
      },
      {
       "output_type": "stream",
       "stream": "stdout",
       "text": [
        "9627000\t904238\r\n",
        "9628000\t904323\r\n",
        "9629000\t904395\r\n"
       ]
      },
      {
       "output_type": "stream",
       "stream": "stdout",
       "text": [
        "9630000\t904472\r\n",
        "9631000\t904547\r\n",
        "9632000\t904617\r\n"
       ]
      },
      {
       "output_type": "stream",
       "stream": "stdout",
       "text": [
        "9633000\t904684\r\n",
        "9634000\t904766\r\n",
        "9635000\t904846\r\n",
        "9636000\t904923\r\n"
       ]
      },
      {
       "output_type": "stream",
       "stream": "stdout",
       "text": [
        "9637000\t904986\r\n",
        "9638000\t905058\r\n",
        "9639000\t905125\r\n"
       ]
      },
      {
       "output_type": "stream",
       "stream": "stdout",
       "text": [
        "9640000\t905186\r\n",
        "9641000\t905251\r\n",
        "9642000\t905324\r\n"
       ]
      },
      {
       "output_type": "stream",
       "stream": "stdout",
       "text": [
        "9643000\t905388\r\n",
        "9644000\t905469\r\n",
        "9645000\t905543\r\n",
        "9646000\t905618\r\n"
       ]
      },
      {
       "output_type": "stream",
       "stream": "stdout",
       "text": [
        "9647000\t905681\r\n",
        "9648000\t905748\r\n",
        "9649000\t905816\r\n"
       ]
      },
      {
       "output_type": "stream",
       "stream": "stdout",
       "text": [
        "9650000\t905879\r\n",
        "9651000\t905945\r\n",
        "9652000\t906013\r\n"
       ]
      },
      {
       "output_type": "stream",
       "stream": "stdout",
       "text": [
        "9653000\t906084\r\n",
        "9654000\t906150\r\n",
        "9655000\t906216\r\n",
        "9656000\t906280\r\n"
       ]
      },
      {
       "output_type": "stream",
       "stream": "stdout",
       "text": [
        "9657000\t906337\r\n",
        "9658000\t906407\r\n",
        "9659000\t906472\r\n"
       ]
      },
      {
       "output_type": "stream",
       "stream": "stdout",
       "text": [
        "9660000\t906533\r\n",
        "9661000\t906596\r\n",
        "9662000\t906658\r\n",
        "9663000\t906733\r\n"
       ]
      },
      {
       "output_type": "stream",
       "stream": "stdout",
       "text": [
        "9664000\t906797\r\n",
        "9665000\t906853\r\n",
        "9666000\t906915\r\n"
       ]
      },
      {
       "output_type": "stream",
       "stream": "stdout",
       "text": [
        "9667000\t906976\r\n",
        "9668000\t907042\r\n",
        "9669000\t907102\r\n"
       ]
      },
      {
       "output_type": "stream",
       "stream": "stdout",
       "text": [
        "9670000\t907164\r\n",
        "9671000\t907214\r\n",
        "9672000\t907277\r\n",
        "9673000\t907332\r\n"
       ]
      },
      {
       "output_type": "stream",
       "stream": "stdout",
       "text": [
        "9674000\t907396\r\n",
        "9675000\t907456\r\n",
        "9676000\t907526\r\n"
       ]
      },
      {
       "output_type": "stream",
       "stream": "stdout",
       "text": [
        "9677000\t907614\r\n",
        "9678000\t907671\r\n",
        "9679000\t907732\r\n"
       ]
      },
      {
       "output_type": "stream",
       "stream": "stdout",
       "text": [
        "9680000\t907805\r\n",
        "9681000\t907857\r\n",
        "9682000\t907928\r\n",
        "9683000\t907985\r\n"
       ]
      },
      {
       "output_type": "stream",
       "stream": "stdout",
       "text": [
        "9684000\t908041\r\n",
        "9685000\t908104\r\n",
        "9686000\t908164\r\n"
       ]
      },
      {
       "output_type": "stream",
       "stream": "stdout",
       "text": [
        "9687000\t908237\r\n",
        "9688000\t908305\r\n",
        "9689000\t908381\r\n"
       ]
      },
      {
       "output_type": "stream",
       "stream": "stdout",
       "text": [
        "9690000\t908450\r\n",
        "9691000\t908500\r\n",
        "9692000\t908566\r\n",
        "9693000\t908625\r\n"
       ]
      },
      {
       "output_type": "stream",
       "stream": "stdout",
       "text": [
        "9694000\t908699\r\n",
        "9695000\t908758\r\n",
        "9696000\t908820\r\n"
       ]
      },
      {
       "output_type": "stream",
       "stream": "stdout",
       "text": [
        "9697000\t908874\r\n",
        "9698000\t908940\r\n",
        "9699000\t909005\r\n"
       ]
      },
      {
       "output_type": "stream",
       "stream": "stdout",
       "text": [
        "9700000\t909061\r\n",
        "9701000\t909113\r\n",
        "9702000\t909190\r\n",
        "9703000\t909240\r\n"
       ]
      },
      {
       "output_type": "stream",
       "stream": "stdout",
       "text": [
        "9704000\t909305\r\n",
        "9705000\t909373\r\n",
        "9706000\t909441\r\n"
       ]
      },
      {
       "output_type": "stream",
       "stream": "stdout",
       "text": [
        "9707000\t909512\r\n",
        "9708000\t909571\r\n",
        "9709000\t909627\r\n",
        "9710000\t909707\r\n"
       ]
      },
      {
       "output_type": "stream",
       "stream": "stdout",
       "text": [
        "9711000\t909788\r\n",
        "9712000\t909856\r\n",
        "9713000\t909908\r\n"
       ]
      },
      {
       "output_type": "stream",
       "stream": "stdout",
       "text": [
        "9714000\t909961\r\n",
        "9715000\t910015\r\n",
        "9716000\t910074\r\n"
       ]
      },
      {
       "output_type": "stream",
       "stream": "stdout",
       "text": [
        "9717000\t910137\r\n",
        "9718000\t910190\r\n",
        "9719000\t910262\r\n",
        "9720000\t910322\r\n"
       ]
      },
      {
       "output_type": "stream",
       "stream": "stdout",
       "text": [
        "9721000\t910376\r\n",
        "9722000\t910431\r\n",
        "9723000\t910494\r\n"
       ]
      },
      {
       "output_type": "stream",
       "stream": "stdout",
       "text": [
        "9724000\t910551\r\n",
        "9725000\t910617\r\n",
        "9726000\t910689\r\n"
       ]
      },
      {
       "output_type": "stream",
       "stream": "stdout",
       "text": [
        "9727000\t910755\r\n",
        "9728000\t910822\r\n",
        "9729000\t910880\r\n",
        "9730000\t910940\r\n"
       ]
      },
      {
       "output_type": "stream",
       "stream": "stdout",
       "text": [
        "9731000\t910998\r\n",
        "9732000\t911070\r\n",
        "9733000\t911139\r\n"
       ]
      },
      {
       "output_type": "stream",
       "stream": "stdout",
       "text": [
        "9734000\t911195\r\n",
        "9735000\t911261\r\n",
        "9736000\t911322\r\n"
       ]
      },
      {
       "output_type": "stream",
       "stream": "stdout",
       "text": [
        "9737000\t911384\r\n",
        "9738000\t911437\r\n",
        "9739000\t911505\r\n",
        "9740000\t911563\r\n"
       ]
      },
      {
       "output_type": "stream",
       "stream": "stdout",
       "text": [
        "9741000\t911628\r\n",
        "9742000\t911690\r\n",
        "9743000\t911760\r\n"
       ]
      },
      {
       "output_type": "stream",
       "stream": "stdout",
       "text": [
        "9744000\t911829\r\n",
        "9745000\t911894\r\n",
        "9746000\t911953\r\n",
        "9747000\t912011\r\n"
       ]
      },
      {
       "output_type": "stream",
       "stream": "stdout",
       "text": [
        "9748000\t912072\r\n",
        "9749000\t912131\r\n",
        "9750000\t912205\r\n"
       ]
      },
      {
       "output_type": "stream",
       "stream": "stdout",
       "text": [
        "9751000\t912258\r\n",
        "9752000\t912323\r\n",
        "9753000\t912389\r\n"
       ]
      },
      {
       "output_type": "stream",
       "stream": "stdout",
       "text": [
        "9754000\t912453\r\n",
        "9755000\t912516\r\n",
        "9756000\t912585\r\n",
        "9757000\t912653\r\n"
       ]
      },
      {
       "output_type": "stream",
       "stream": "stdout",
       "text": [
        "9758000\t912712\r\n",
        "9759000\t912795\r\n",
        "9760000\t912862\r\n"
       ]
      },
      {
       "output_type": "stream",
       "stream": "stdout",
       "text": [
        "9761000\t912919\r\n",
        "9762000\t912969\r\n",
        "9763000\t913036\r\n",
        "9764000\t913100\r\n"
       ]
      },
      {
       "output_type": "stream",
       "stream": "stdout",
       "text": [
        "9765000\t913155\r\n",
        "9766000\t913233\r\n",
        "9767000\t913286\r\n"
       ]
      },
      {
       "output_type": "stream",
       "stream": "stdout",
       "text": [
        "9768000\t913354\r\n",
        "9769000\t913413\r\n",
        "9770000\t913467\r\n"
       ]
      },
      {
       "output_type": "stream",
       "stream": "stdout",
       "text": [
        "9771000\t913529\r\n",
        "9772000\t913599\r\n",
        "9773000\t913664\r\n",
        "9774000\t913718\r\n"
       ]
      },
      {
       "output_type": "stream",
       "stream": "stdout",
       "text": [
        "9775000\t913791\r\n",
        "9776000\t913849\r\n",
        "9777000\t913909\r\n"
       ]
      },
      {
       "output_type": "stream",
       "stream": "stdout",
       "text": [
        "9778000\t913959\r\n",
        "9779000\t914029\r\n",
        "9780000\t914082\r\n"
       ]
      },
      {
       "output_type": "stream",
       "stream": "stdout",
       "text": [
        "9781000\t914148\r\n",
        "9782000\t914208\r\n",
        "9783000\t914282\r\n",
        "9784000\t914354\r\n"
       ]
      },
      {
       "output_type": "stream",
       "stream": "stdout",
       "text": [
        "9785000\t914423\r\n",
        "9786000\t914495\r\n",
        "9787000\t914565\r\n"
       ]
      },
      {
       "output_type": "stream",
       "stream": "stdout",
       "text": [
        "9788000\t914632\r\n",
        "9789000\t914698\r\n",
        "9790000\t914760\r\n"
       ]
      },
      {
       "output_type": "stream",
       "stream": "stdout",
       "text": [
        "9791000\t914826\r\n",
        "9792000\t914899\r\n",
        "9793000\t914971\r\n",
        "9794000\t915043\r\n"
       ]
      },
      {
       "output_type": "stream",
       "stream": "stdout",
       "text": [
        "9795000\t915120\r\n",
        "9796000\t915213\r\n",
        "9797000\t915322\r\n"
       ]
      },
      {
       "output_type": "stream",
       "stream": "stdout",
       "text": [
        "9798000\t915399\r\n",
        "9799000\t915491\r\n",
        "9800000\t915589\r\n"
       ]
      },
      {
       "output_type": "stream",
       "stream": "stdout",
       "text": [
        "9801000\t915665\r\n",
        "9802000\t915748\r\n",
        "9803000\t915834\r\n",
        "9804000\t915933\r\n"
       ]
      },
      {
       "output_type": "stream",
       "stream": "stdout",
       "text": [
        "9805000\t916001\r\n",
        "9806000\t916085\r\n",
        "9807000\t916176\r\n"
       ]
      },
      {
       "output_type": "stream",
       "stream": "stdout",
       "text": [
        "9808000\t916254\r\n",
        "9809000\t916329\r\n",
        "9810000\t916418\r\n"
       ]
      },
      {
       "output_type": "stream",
       "stream": "stdout",
       "text": [
        "9811000\t916490\r\n",
        "9812000\t916571\r\n",
        "9813000\t916646\r\n",
        "9814000\t916726\r\n"
       ]
      },
      {
       "output_type": "stream",
       "stream": "stdout",
       "text": [
        "9815000\t916792\r\n",
        "9816000\t916880\r\n",
        "9817000\t916968\r\n"
       ]
      },
      {
       "output_type": "stream",
       "stream": "stdout",
       "text": [
        "9818000\t917045\r\n",
        "9819000\t917133\r\n",
        "9820000\t917219\r\n"
       ]
      },
      {
       "output_type": "stream",
       "stream": "stdout",
       "text": [
        "9821000\t917311\r\n",
        "9822000\t917401\r\n",
        "9823000\t917482\r\n",
        "9824000\t917582\r\n"
       ]
      },
      {
       "output_type": "stream",
       "stream": "stdout",
       "text": [
        "9825000\t917686\r\n",
        "9826000\t917766\r\n",
        "9827000\t917863\r\n"
       ]
      },
      {
       "output_type": "stream",
       "stream": "stdout",
       "text": [
        "9828000\t917962\r\n",
        "9829000\t918080\r\n",
        "9830000\t918347\r\n"
       ]
      },
      {
       "output_type": "stream",
       "stream": "stdout",
       "text": [
        "9831000\t918603\r\n",
        "9832000\t918834\r\n",
        "9833000\t919035\r\n"
       ]
      },
      {
       "output_type": "stream",
       "stream": "stdout",
       "text": [
        "9834000\t919224\r\n",
        "9835000\t919441\r\n",
        "9836000\t919626\r\n",
        "9837000\t919810\r\n"
       ]
      },
      {
       "output_type": "stream",
       "stream": "stdout",
       "text": [
        "9838000\t919976\r\n",
        "9839000\t920125\r\n",
        "9840000\t920286\r\n"
       ]
      },
      {
       "output_type": "stream",
       "stream": "stdout",
       "text": [
        "9841000\t920451\r\n",
        "9842000\t920611\r\n",
        "9843000\t920764\r\n"
       ]
      },
      {
       "output_type": "stream",
       "stream": "stdout",
       "text": [
        "9844000\t920901\r\n",
        "9845000\t921050\r\n",
        "9846000\t921197\r\n"
       ]
      },
      {
       "output_type": "stream",
       "stream": "stdout",
       "text": [
        "9847000\t921334\r\n",
        "9848000\t921451\r\n",
        "9849000\t921579\r\n",
        "9850000\t921711\r\n"
       ]
      },
      {
       "output_type": "stream",
       "stream": "stdout",
       "text": [
        "9851000\t921829\r\n",
        "9852000\t921942\r\n",
        "9853000\t922067\r\n"
       ]
      },
      {
       "output_type": "stream",
       "stream": "stdout",
       "text": [
        "9854000\t922190\r\n",
        "9855000\t922300\r\n",
        "9856000\t922411\r\n"
       ]
      },
      {
       "output_type": "stream",
       "stream": "stdout",
       "text": [
        "9857000\t922536\r\n",
        "9858000\t922662\r\n",
        "9859000\t922763\r\n"
       ]
      },
      {
       "output_type": "stream",
       "stream": "stdout",
       "text": [
        "9860000\t922872\r\n",
        "9861000\t922984\r\n",
        "9862000\t923093\r\n",
        "9863000\t923209\r\n"
       ]
      },
      {
       "output_type": "stream",
       "stream": "stdout",
       "text": [
        "9864000\t923306\r\n",
        "9865000\t923437\r\n",
        "9866000\t923532\r\n"
       ]
      },
      {
       "output_type": "stream",
       "stream": "stdout",
       "text": [
        "9867000\t923652\r\n",
        "9868000\t923747\r\n",
        "9869000\t923858\r\n"
       ]
      },
      {
       "output_type": "stream",
       "stream": "stdout",
       "text": [
        "9870000\t923982\r\n",
        "9871000\t924094\r\n",
        "9872000\t924195\r\n",
        "9873000\t924282\r\n"
       ]
      },
      {
       "output_type": "stream",
       "stream": "stdout",
       "text": [
        "9874000\t924385\r\n",
        "9875000\t924492\r\n",
        "9876000\t924598\r\n"
       ]
      },
      {
       "output_type": "stream",
       "stream": "stdout",
       "text": [
        "9877000\t924704\r\n",
        "9878000\t924795\r\n",
        "9879000\t924874\r\n"
       ]
      },
      {
       "output_type": "stream",
       "stream": "stdout",
       "text": [
        "9880000\t924971\r\n",
        "9881000\t925059\r\n",
        "9882000\t925154\r\n",
        "9883000\t925241\r\n"
       ]
      },
      {
       "output_type": "stream",
       "stream": "stdout",
       "text": [
        "9884000\t925351\r\n",
        "9885000\t925446\r\n",
        "9886000\t925535\r\n"
       ]
      },
      {
       "output_type": "stream",
       "stream": "stdout",
       "text": [
        "9887000\t925633\r\n",
        "9888000\t925722\r\n",
        "9889000\t925808\r\n"
       ]
      },
      {
       "output_type": "stream",
       "stream": "stdout",
       "text": [
        "9890000\t925880\r\n",
        "9891000\t925988\r\n",
        "9892000\t926087\r\n"
       ]
      },
      {
       "output_type": "stream",
       "stream": "stdout",
       "text": [
        "9893000\t926173\r\n",
        "9894000\t926268\r\n",
        "9895000\t926353\r\n",
        "9896000\t926435\r\n"
       ]
      },
      {
       "output_type": "stream",
       "stream": "stdout",
       "text": [
        "9897000\t926513\r\n",
        "9898000\t926610\r\n",
        "9899000\t926711\r\n"
       ]
      },
      {
       "output_type": "stream",
       "stream": "stdout",
       "text": [
        "9900000\t926806\r\n",
        "9901000\t926895\r\n",
        "9902000\t926983\r\n"
       ]
      },
      {
       "output_type": "stream",
       "stream": "stdout",
       "text": [
        "9903000\t927071\r\n",
        "9904000\t927159\r\n",
        "9905000\t927234\r\n",
        "9906000\t927322\r\n"
       ]
      },
      {
       "output_type": "stream",
       "stream": "stdout",
       "text": [
        "9907000\t927395\r\n",
        "9908000\t927480\r\n",
        "9909000\t927571\r\n"
       ]
      },
      {
       "output_type": "stream",
       "stream": "stdout",
       "text": [
        "9910000\t927662\r\n",
        "9911000\t927755\r\n",
        "9912000\t927839\r\n"
       ]
      },
      {
       "output_type": "stream",
       "stream": "stdout",
       "text": [
        "9913000\t927921\r\n",
        "9914000\t927999\r\n",
        "9915000\t928089\r\n",
        "9916000\t928161\r\n"
       ]
      },
      {
       "output_type": "stream",
       "stream": "stdout",
       "text": [
        "9917000\t928246\r\n",
        "9918000\t928324\r\n",
        "9919000\t928391\r\n"
       ]
      },
      {
       "output_type": "stream",
       "stream": "stdout",
       "text": [
        "9920000\t928470\r\n",
        "9921000\t928545\r\n",
        "9922000\t928627\r\n"
       ]
      },
      {
       "output_type": "stream",
       "stream": "stdout",
       "text": [
        "9923000\t928704\r\n",
        "9924000\t928794\r\n",
        "9925000\t928865\r\n",
        "9926000\t928965\r\n"
       ]
      },
      {
       "output_type": "stream",
       "stream": "stdout",
       "text": [
        "9927000\t929043\r\n",
        "9928000\t929121\r\n",
        "9929000\t929201\r\n"
       ]
      },
      {
       "output_type": "stream",
       "stream": "stdout",
       "text": [
        "9930000\t929288\r\n",
        "9931000\t929381\r\n",
        "9932000\t929462\r\n"
       ]
      },
      {
       "output_type": "stream",
       "stream": "stdout",
       "text": [
        "9933000\t929536\r\n",
        "9934000\t929635\r\n",
        "9935000\t929703\r\n",
        "9936000\t929783\r\n"
       ]
      },
      {
       "output_type": "stream",
       "stream": "stdout",
       "text": [
        "9937000\t929862\r\n",
        "9938000\t929947\r\n",
        "9939000\t930038\r\n"
       ]
      },
      {
       "output_type": "stream",
       "stream": "stdout",
       "text": [
        "9940000\t930128\r\n",
        "9941000\t930209\r\n",
        "9942000\t930272\r\n"
       ]
      },
      {
       "output_type": "stream",
       "stream": "stdout",
       "text": [
        "9943000\t930354\r\n",
        "9944000\t930443\r\n",
        "9945000\t930526\r\n",
        "9946000\t930605\r\n"
       ]
      },
      {
       "output_type": "stream",
       "stream": "stdout",
       "text": [
        "9947000\t930681\r\n",
        "9948000\t930743\r\n",
        "9949000\t930817\r\n"
       ]
      },
      {
       "output_type": "stream",
       "stream": "stdout",
       "text": [
        "9950000\t930898\r\n",
        "9951000\t930979\r\n",
        "9952000\t931049\r\n"
       ]
      },
      {
       "output_type": "stream",
       "stream": "stdout",
       "text": [
        "9953000\t931123\r\n",
        "9954000\t931200\r\n",
        "9955000\t931267\r\n",
        "9956000\t931334\r\n"
       ]
      },
      {
       "output_type": "stream",
       "stream": "stdout",
       "text": [
        "9957000\t931418\r\n",
        "9958000\t931483\r\n",
        "9959000\t931546\r\n"
       ]
      },
      {
       "output_type": "stream",
       "stream": "stdout",
       "text": [
        "9960000\t931621\r\n",
        "9961000\t931708\r\n",
        "9962000\t931795\r\n"
       ]
      },
      {
       "output_type": "stream",
       "stream": "stdout",
       "text": [
        "9963000\t931865\r\n",
        "9964000\t931943\r\n",
        "9965000\t932022\r\n",
        "9966000\t932089\r\n"
       ]
      },
      {
       "output_type": "stream",
       "stream": "stdout",
       "text": [
        "9967000\t932167\r\n",
        "9968000\t932230\r\n",
        "9969000\t932302\r\n"
       ]
      },
      {
       "output_type": "stream",
       "stream": "stdout",
       "text": [
        "9970000\t932384\r\n",
        "9971000\t932464\r\n",
        "9972000\t932557\r\n"
       ]
      },
      {
       "output_type": "stream",
       "stream": "stdout",
       "text": [
        "9973000\t932654\r\n",
        "9974000\t932745\r\n",
        "9975000\t932828\r\n",
        "9976000\t932890\r\n"
       ]
      },
      {
       "output_type": "stream",
       "stream": "stdout",
       "text": [
        "9977000\t932954\r\n",
        "9978000\t933039\r\n",
        "9979000\t933116\r\n"
       ]
      },
      {
       "output_type": "stream",
       "stream": "stdout",
       "text": [
        "9980000\t933193\r\n",
        "9981000\t933281\r\n",
        "9982000\t933361\r\n"
       ]
      },
      {
       "output_type": "stream",
       "stream": "stdout",
       "text": [
        "9983000\t933447\r\n",
        "9984000\t933515\r\n",
        "9985000\t933593\r\n",
        "9986000\t933657\r\n"
       ]
      },
      {
       "output_type": "stream",
       "stream": "stdout",
       "text": [
        "9987000\t933732\r\n",
        "9988000\t933802\r\n",
        "9989000\t933881\r\n"
       ]
      },
      {
       "output_type": "stream",
       "stream": "stdout",
       "text": [
        "9990000\t933949\r\n",
        "9991000\t934018\r\n",
        "9992000\t934070\r\n",
        "9993000\t934134\r\n"
       ]
      },
      {
       "output_type": "stream",
       "stream": "stdout",
       "text": [
        "9994000\t934214\r\n",
        "9995000\t934292\r\n",
        "9996000\t934372\r\n"
       ]
      },
      {
       "output_type": "stream",
       "stream": "stdout",
       "text": [
        "9997000\t934440\r\n",
        "9998000\t934508\r\n",
        "9999000\t934575\r\n"
       ]
      },
      {
       "output_type": "stream",
       "stream": "stdout",
       "text": [
        "10000000\t934664\r\n",
        "10001000\t934742\r\n",
        "10002000\t934810\r\n"
       ]
      },
      {
       "output_type": "stream",
       "stream": "stdout",
       "text": [
        "10003000\t934882\r\n",
        "10004000\t934949\r\n",
        "10005000\t935000\r\n",
        "10006000\t935074\r\n"
       ]
      },
      {
       "output_type": "stream",
       "stream": "stdout",
       "text": [
        "10007000\t935139\r\n",
        "10008000\t935211\r\n",
        "10009000\t935273\r\n"
       ]
      },
      {
       "output_type": "stream",
       "stream": "stdout",
       "text": [
        "10010000\t935353\r\n",
        "10011000\t935424\r\n",
        "10012000\t935508\r\n",
        "10013000\t935597\r\n"
       ]
      },
      {
       "output_type": "stream",
       "stream": "stdout",
       "text": [
        "10014000\t935658\r\n",
        "10015000\t935729\r\n",
        "10016000\t935800\r\n"
       ]
      },
      {
       "output_type": "stream",
       "stream": "stdout",
       "text": [
        "10017000\t935867\r\n",
        "10018000\t935935\r\n",
        "10019000\t936005\r\n"
       ]
      },
      {
       "output_type": "stream",
       "stream": "stdout",
       "text": [
        "10020000\t936076\r\n",
        "10021000\t936151\r\n",
        "10022000\t936217\r\n",
        "10023000\t936294\r\n"
       ]
      },
      {
       "output_type": "stream",
       "stream": "stdout",
       "text": [
        "10024000\t936376\r\n",
        "10025000\t936443\r\n",
        "10026000\t936504\r\n"
       ]
      },
      {
       "output_type": "stream",
       "stream": "stdout",
       "text": [
        "10027000\t936576\r\n",
        "10028000\t936640\r\n",
        "10029000\t936705\r\n"
       ]
      },
      {
       "output_type": "stream",
       "stream": "stdout",
       "text": [
        "10030000\t936784\r\n",
        "10031000\t936855\r\n",
        "10032000\t936935\r\n",
        "10033000\t937000\r\n"
       ]
      },
      {
       "output_type": "stream",
       "stream": "stdout",
       "text": [
        "10034000\t937067\r\n",
        "10035000\t937137\r\n",
        "10036000\t937218\r\n"
       ]
      },
      {
       "output_type": "stream",
       "stream": "stdout",
       "text": [
        "10037000\t937275\r\n",
        "10038000\t937343\r\n",
        "10039000\t937423\r\n"
       ]
      },
      {
       "output_type": "stream",
       "stream": "stdout",
       "text": [
        "10040000\t937496\r\n",
        "10041000\t937568\r\n",
        "10042000\t937632\r\n",
        "10043000\t937702\r\n"
       ]
      },
      {
       "output_type": "stream",
       "stream": "stdout",
       "text": [
        "10044000\t937769\r\n",
        "10045000\t937845\r\n",
        "10046000\t937908\r\n"
       ]
      },
      {
       "output_type": "stream",
       "stream": "stdout",
       "text": [
        "10047000\t937976\r\n",
        "10048000\t938046\r\n",
        "10049000\t938117\r\n"
       ]
      },
      {
       "output_type": "stream",
       "stream": "stdout",
       "text": [
        "10050000\t938189\r\n",
        "10051000\t938268\r\n",
        "10052000\t938338\r\n",
        "10053000\t938427\r\n"
       ]
      },
      {
       "output_type": "stream",
       "stream": "stdout",
       "text": [
        "10054000\t938490\r\n",
        "10055000\t938560\r\n",
        "10056000\t938644\r\n"
       ]
      },
      {
       "output_type": "stream",
       "stream": "stdout",
       "text": [
        "10057000\t938705\r\n",
        "10058000\t938777\r\n",
        "10059000\t938848\r\n"
       ]
      },
      {
       "output_type": "stream",
       "stream": "stdout",
       "text": [
        "10060000\t938926\r\n",
        "10061000\t939004\r\n",
        "10062000\t939084\r\n",
        "10063000\t939166\r\n"
       ]
      },
      {
       "output_type": "stream",
       "stream": "stdout",
       "text": [
        "10064000\t939252\r\n",
        "10065000\t939330\r\n",
        "10066000\t939442\r\n"
       ]
      },
      {
       "output_type": "stream",
       "stream": "stdout",
       "text": [
        "10067000\t939508\r\n",
        "10068000\t939583\r\n",
        "10069000\t939673\r\n"
       ]
      },
      {
       "output_type": "stream",
       "stream": "stdout",
       "text": [
        "10070000\t939746\r\n",
        "10071000\t939813\r\n",
        "10072000\t939889\r\n",
        "10073000\t939975\r\n"
       ]
      },
      {
       "output_type": "stream",
       "stream": "stdout",
       "text": [
        "10074000\t940073\r\n",
        "10075000\t940161\r\n",
        "10076000\t940229\r\n"
       ]
      },
      {
       "output_type": "stream",
       "stream": "stdout",
       "text": [
        "10077000\t940299\r\n",
        "10078000\t940369\r\n",
        "10079000\t940458\r\n"
       ]
      },
      {
       "output_type": "stream",
       "stream": "stdout",
       "text": [
        "10080000\t940552\r\n",
        "10081000\t940631\r\n",
        "10082000\t940718\r\n",
        "10083000\t940795\r\n"
       ]
      },
      {
       "output_type": "stream",
       "stream": "stdout",
       "text": [
        "10084000\t940894\r\n",
        "10085000\t940993\r\n",
        "10086000\t941082\r\n"
       ]
      },
      {
       "output_type": "stream",
       "stream": "stdout",
       "text": [
        "10087000\t941168\r\n",
        "10088000\t941262\r\n",
        "10089000\t941326\r\n"
       ]
      },
      {
       "output_type": "stream",
       "stream": "stdout",
       "text": [
        "10090000\t941419\r\n",
        "10091000\t941513\r\n",
        "10092000\t941607\r\n",
        "10093000\t941692\r\n"
       ]
      },
      {
       "output_type": "stream",
       "stream": "stdout",
       "text": [
        "10094000\t941796\r\n",
        "10095000\t941880\r\n",
        "10096000\t941990\r\n"
       ]
      },
      {
       "output_type": "stream",
       "stream": "stdout",
       "text": [
        "10097000\t942076\r\n",
        "10097048\t942081\r\n"
       ]
      },
      {
       "output_type": "stream",
       "stream": "stdout",
       "text": [
        "\r\n",
        "Output File Names: \r\n",
        "data/tmp/maxee1.0.noN.names\r\n",
        "data/tmp/maxee1.0.noN.unique.fasta\r\n",
        "\r\n"
       ]
      },
      {
       "output_type": "stream",
       "stream": "stdout",
       "text": [
        "\r\n",
        "mothur > quit()\r\n"
       ]
      }
     ],
     "prompt_number": 5
    },
    {
     "cell_type": "code",
     "collapsed": false,
     "input": [
      "!grep -c \">\" data/tmp/maxee1.0.noN.fasta\n",
      "!grep -c \">\" data/tmp/maxee1.0.noN.unique.fasta"
     ],
     "language": "python",
     "metadata": {},
     "outputs": [
      {
       "output_type": "stream",
       "stream": "stdout",
       "text": [
        "10097048\r\n"
       ]
      },
      {
       "output_type": "stream",
       "stream": "stdout",
       "text": [
        "942081\r\n"
       ]
      }
     ],
     "prompt_number": 7
    },
    {
     "cell_type": "code",
     "collapsed": false,
     "input": [
      "%%bash\n",
      "mothur \"#summary.seqs(fasta=data/tmp/maxee1.0.noN.unique.fasta, \\\n",
      "processors=20)\""
     ],
     "language": "python",
     "metadata": {},
     "outputs": [
      {
       "output_type": "stream",
       "stream": "stdout",
       "text": [
        "\u001b[H\u001b[2J\n",
        "\n",
        "\n",
        "\n",
        "\n",
        "\n",
        "mothur v.1.32.1\n",
        "Last updated: 10/16/2013\n",
        "\n",
        "by\n",
        "Patrick D. Schloss\n",
        "\n",
        "Department of Microbiology & Immunology\n",
        "University of Michigan\n",
        "pschloss@umich.edu\n",
        "http://www.mothur.org\n",
        "\n",
        "When using, please cite:\n",
        "Schloss, P.D., et al., Introducing mothur: Open-source, platform-independent, community-supported software for describing and comparing microbial communities. Appl Environ Microbiol, 2009. 75(23):7537-41.\n",
        "\n",
        "Distributed under the GNU General Public License\n",
        "\n",
        "Type 'help()' for information on the commands that are available\n",
        "\n",
        "Type 'quit()' to exit program\n",
        "\n",
        "\n",
        "\n",
        "mothur > summary.seqs(fasta=data/tmp/maxee1.0.noN.unique.fasta, processors=20)\n",
        "\n",
        "Using 20 processors.\n",
        "\n",
        "Using 20 processors.\n",
        "\n",
        "Using 20 processors.\n",
        "\n",
        "Using 20 processors.\n",
        "\n",
        "Using 20 processors.\n",
        "\n",
        "Using 20 processors.\n",
        "\n",
        "Using 20 processors.\n",
        "\n",
        "Using 20 processors.\n",
        "\n",
        "Using 20 processors.\n",
        "\n",
        "Using 20 processors.\n",
        "\n",
        "Using 20 processors.\n",
        "\n",
        "Using 20 processors.\n",
        "\n",
        "Using 20 processors.\n",
        "\n",
        "Using 20 processors.\n",
        "\n",
        "Using 20 processors.\n",
        "\n",
        "Using 20 processors.\n",
        "\n",
        "Using 20 processors.\n",
        "\n",
        "Using 20 processors.\n",
        "\n",
        "Using 20 processors.\n",
        "\n",
        "Using 20 processors.\n",
        "\n",
        "\t\tStart\tEnd\tNBases\tAmbigs\tPolymer\tNumSeqs\n",
        "Minimum:\t1\t50\t50\t0\t2\t1\n",
        "2.5%-tile:\t1\t67\t67\t0\t3\t23553\n",
        "25%-tile:\t1\t175\t175\t0\t4\t235521\n",
        "Median: \t1\t208\t208\t0\t5\t471041\n",
        "75%-tile:\t1\t261\t261\t0\t6\t706561\n",
        "97.5%-tile:\t1\t379\t379\t0\t8\t918529\n",
        "Maximum:\t1\t541\t541\t0\t96\t942081\n",
        "Mean:\t1\t216.423\t216.423\t0\t5.03977\n",
        "# of Seqs:\t942081\n",
        "\n",
        "Output File Names: \n",
        "data/tmp/maxee1.0.noN.unique.summary\n",
        "\n",
        "\n",
        "mothur > quit()\n"
       ]
      }
     ],
     "prompt_number": 12
    },
    {
     "cell_type": "code",
     "collapsed": false,
     "input": [
      "%%bash\n",
      "\n",
      "mothur \"#screen.seqs(fasta=data/tmp/maxee1.0.noN.fasta, \\\n",
      "processors=10, maxhomop=8)\" > /dev/null"
     ],
     "language": "python",
     "metadata": {},
     "outputs": [],
     "prompt_number": 14
    },
    {
     "cell_type": "code",
     "collapsed": false,
     "input": [
      "%%bash\n",
      "\n",
      "mothur \"#summary.seqs(fasta=data/tmp/maxee1.0.noN.good.fasta)\""
     ],
     "language": "python",
     "metadata": {},
     "outputs": [
      {
       "output_type": "stream",
       "stream": "stdout",
       "text": [
        "\u001b[H\u001b[2J\n",
        "\n",
        "\n",
        "\n",
        "\n",
        "\n",
        "mothur v.1.32.1\n",
        "Last updated: 10/16/2013\n",
        "\n",
        "by\n",
        "Patrick D. Schloss\n",
        "\n",
        "Department of Microbiology & Immunology\n",
        "University of Michigan\n",
        "pschloss@umich.edu\n",
        "http://www.mothur.org\n",
        "\n",
        "When using, please cite:\n",
        "Schloss, P.D., et al., Introducing mothur: Open-source, platform-independent, community-supported software for describing and comparing microbial communities. Appl Environ Microbiol, 2009. 75(23):7537-41.\n",
        "\n",
        "Distributed under the GNU General Public License\n",
        "\n",
        "Type 'help()' for information on the commands that are available\n",
        "\n",
        "Type 'quit()' to exit program\n",
        "\n",
        "\n",
        "\n",
        "mothur > summary.seqs(fasta=data/tmp/maxee1.0.noN.good.fasta)\n",
        "\n",
        "Using 1 processors.\n",
        "\n",
        "\t\tStart\tEnd\tNBases\tAmbigs\tPolymer\tNumSeqs\n",
        "Minimum:\t1\t50\t50\t0\t2\t1\n",
        "2.5%-tile:\t1\t86\t86\t0\t3\t249225\n",
        "25%-tile:\t1\t180\t180\t0\t4\t2492249\n",
        "Median: \t1\t201\t201\t0\t5\t4984497\n",
        "75%-tile:\t1\t210\t210\t0\t6\t7476745\n",
        "97.5%-tile:\t1\t303\t303\t0\t7\t9719768\n",
        "Maximum:\t1\t541\t541\t0\t8\t9968992\n",
        "Mean:\t1\t200.236\t200.236\t0\t5.10823\n",
        "# of Seqs:\t9968992\n",
        "\n",
        "Output File Names: \n",
        "data/tmp/maxee1.0.noN.good.summary\n",
        "\n",
        "\n",
        "mothur > quit()\n"
       ]
      }
     ],
     "prompt_number": 18
    },
    {
     "cell_type": "code",
     "collapsed": false,
     "input": [
      "!sed '/>/! s/-//g;/>/! s/\\.//g' data/tmp/maxee1.0.noN.good.fasta > data/finalQC.fasta"
     ],
     "language": "python",
     "metadata": {},
     "outputs": [],
     "prompt_number": 19
    },
    {
     "cell_type": "code",
     "collapsed": false,
     "input": [
      "!head data/finalQC.fasta"
     ],
     "language": "python",
     "metadata": {},
     "outputs": [
      {
       "output_type": "stream",
       "stream": "stdout",
       "text": [
        ">D3013.24_0\r\n",
        "TTCATAATCAAAGTGTTTTTATGGCACTTTTAAAAAAATCCATATCCACCTTGTGTGCAATGTCATCTCACTGGAGGCCAGCTGGCTGTCAAAAGCCCGTTTGGTCACCTTTGGGATTTATATCTACTCAGAACTTTAGTGATTTTGTCTGAAAAATATTATGAATAACTTAATTCAAAATACAACTTTCAACAACGGATCTCTTGGCTCTCGC\r\n",
        ">D1412.20_1\r\n",
        "TTAACACTAATCCACACACTACTCAACCTAGCCTTTAGTTGCAGCCGAGGTGTTCGCCGTCAGGCAGCGCCGCAGCAGCAACCACAACAAACCTAATCTCAAAGGACTTTAACTAAGCCTTACCACAAAACCAAATTCTCAACGATGGATATCTTGGTTCCCAT\r\n",
        ">D1412.18_2\r\n",
        "TTACCGAGTTTACACCTCCCAAACCCCTGTGAACATACCTTAATGTTGCCTCGGCGGATCAGCCCGCGCCCCGTAAAACGGGACGGCCCGCCAGAGGACCCAAACTCTAATGTTTCTTATTGTAACTTCTGAGTAAAACAAACAAATAAATCAAAACTTTCAACAACGGATCTCTTGGTTCTGGC\r\n",
        ">D3012.10_3\r\n",
        "TTACAGAGTTGCAAAACTCCCTAAACCATTGTGAACGTTACCTAAACCGTTGCTTCGGCGGGCGGCCCCGGGGTTCTCCCCGGGAGCCCCCGGGCCCCATCCCGGGCGCCCGCCGGAGTTCACCAAACTATTGATAATTTAGGGCCTCTCTGAGTCTTCTGTACCGAATAAGTCAAAACTTTCAACAACGGATCTCTTGGTTCTGGC\r\n",
        ">D713.15_4\r\n",
        "TTACAGAGTTGCAAAACTCCCTAAACCATTGTGAACGTTACCTAAACCGTTGCTTCGGCGGGCGGCCCCGGGGTTTACCCCCCGGGCGCCCCTGGGCCCCACCGCGGGCGCCCGCCGGAGGTCACCAAACTCTTGATAATTTATGGCCTCTCTGAGTCTTCTGTACTGAATAAGTCAAAACTTTCAACAACGGATCTCTTGGTTCTGGC\r\n"
       ]
      }
     ],
     "prompt_number": 20
    },
    {
     "cell_type": "heading",
     "level": 4,
     "metadata": {},
     "source": [
      "Total Number of QC'd sequences"
     ]
    },
    {
     "cell_type": "code",
     "collapsed": false,
     "input": [
      "!grep -c \">\" data/finalQC.fasta"
     ],
     "language": "python",
     "metadata": {},
     "outputs": [
      {
       "output_type": "stream",
       "stream": "stdout",
       "text": [
        "9968992\r\n"
       ]
      }
     ],
     "prompt_number": 21
    }
   ],
   "metadata": {}
  }
 ]
}