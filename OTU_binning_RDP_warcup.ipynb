{
 "metadata": {
  "name": "",
  "signature": "sha256:6a1d346ab4a7eacc1507262ebc96dded7ded135b592ebc0dc4966070c446cd7e"
 },
 "nbformat": 3,
 "nbformat_minor": 0,
 "worksheets": [
  {
   "cells": [
    {
     "cell_type": "code",
     "collapsed": false,
     "input": [
      "# Imports a parser from cogent\n",
      "from cogent.parse.fasta import MinimalFastaParser as parse"
     ],
     "language": "python",
     "metadata": {},
     "outputs": [],
     "prompt_number": 1
    },
    {
     "cell_type": "code",
     "collapsed": false,
     "input": [
      "# applies for the whole segment\n",
      "nprocs = 10"
     ],
     "language": "python",
     "metadata": {},
     "outputs": [],
     "prompt_number": 2
    },
    {
     "cell_type": "markdown",
     "metadata": {},
     "source": [
      "### Formatting taxonomy file"
     ]
    },
    {
     "cell_type": "code",
     "collapsed": false,
     "input": [
      "! grep \">\" /var/seq_data/RDP_warcup_ITS_db/Warcup.fungalITS.fasta | sed \"s/>//\" > \\\n",
      " /var/seq_data/RDP_warcup_ITS_db/Warcup.fungalITS.uclustFMT.tax.txt"
     ],
     "language": "python",
     "metadata": {},
     "outputs": [],
     "prompt_number": 4
    },
    {
     "cell_type": "code",
     "collapsed": false,
     "input": [
      "! head /var/seq_data/RDP_warcup_ITS_db/Warcup.fungalITS.uclustFMT.tax.txt"
     ],
     "language": "python",
     "metadata": {},
     "outputs": [
      {
       "output_type": "stream",
       "stream": "stdout",
       "text": [
        "JX090119\tRoot;Fungi;Basidiomycota;Agaricomycotina;Agaricomycetes;Agaricomycetes_Incertae sedis;Polyporales;Polyporaceae;Ryvardenia;Ryvardenia campyla\r\n",
        "HQ446352\tRoot;Fungi;Ascomycota;Pezizomycotina;Sordariomycetes;Sordariomycetidae;Sordariomycetidae_Incertae sedis;Sordariomycetidae_Incertae sedis_Incertae sedis;Savoryella;Savoryella verrucosa\r\n",
        "FN435791\tRoot;Fungi;Ascomycota;Pezizomycotina;Sordariomycetes;Xylariomycetidae;Xylariales;Xylariaceae;Xylaria;Xylaria hypoxylon\r\n",
        "EU231949\tRoot;Fungi;Basidiomycota;Agaricomycotina;Agaricomycetes;Agaricomycetidae;Boletales;Boletaceae;Boletus;Boletus nobilissimus\r\n",
        "AB180321\tRoot;Fungi;Basidiomycota;Ustilaginomycotina;Exobasidiomycetes;Exobasidiomycetes_Incertae sedis;Exobasidiales;Exobasidiaceae;Exobasidium;Exobasidium gracile\r\n",
        "AB180323\tRoot;Fungi;Basidiomycota;Ustilaginomycotina;Exobasidiomycetes;Exobasidiomycetes_Incertae sedis;Exobasidiales;Exobasidiaceae;Exobasidium;Exobasidium japonicum\r\n",
        "HQ446355\tRoot;Fungi;Ascomycota;Pezizomycotina;Sordariomycetes;Sordariomycetidae;Sordariomycetidae_Incertae sedis;Sordariomycetidae_Incertae sedis_Incertae sedis;Savoryella;Savoryella verrucosa\r\n",
        "HQ446354\tRoot;Fungi;Ascomycota;Pezizomycotina;Sordariomycetes;Sordariomycetidae;Sordariomycetidae_Incertae sedis;Sordariomycetidae_Incertae sedis_Incertae sedis;Savoryella;Savoryella verrucosa\r\n",
        "JN943727\tRoot;Fungi;Ascomycota;Pezizomycotina;Lecanoromycetes;Lecanoromycetidae;Lecanorales;Lecanoraceae;Lecanora;Lecanora caesiorubella\r\n",
        "DQ835406\tRoot;Fungi;Ascomycota;Pezizomycotina;Sordariomycetes;Hypocreomycetidae;Hypocreales;Hypocreaceae;Hypocrea;Hypocrea protopulvinata\r\n"
       ]
      }
     ],
     "prompt_number": 13
    },
    {
     "cell_type": "heading",
     "level": 3,
     "metadata": {},
     "source": [
      "Removing Chloroplast, Bacterial, and Archaeal sequences"
     ]
    },
    {
     "cell_type": "code",
     "collapsed": false,
     "input": [
      "# You do need to assign taxonomy in order to pull out the Euks., etc.\n",
      "# I could cp these files from the server to wherever I need them.\n",
      "# Input is your fasta file\n",
      "# Output is a fasta with taxonomy assinged (still working with unique seqs)\n",
      "# This didn't work first, because Chuck had to delete a \"jobs\" folder in the tmp directory.\n",
      "\n",
      "!parallel_assign_taxonomy_uclust.py \\\n",
      "-r /var/seq_data/RDP_warcup_ITS_db/Warcup.fungalITS.fasta \\\n",
      "-t /var/seq_data/RDP_warcup_ITS_db/Warcup.fungalITS.uclustFMT.tax.txt \\\n",
      "-O 10 \\\n",
      "-i data/otusn.fasta \\\n",
      "-o data/otusn_RDP_warcup_tax"
     ],
     "language": "python",
     "metadata": {},
     "outputs": [],
     "prompt_number": 5
    },
    {
     "cell_type": "code",
     "collapsed": false,
     "input": [
      "# This makes a file of what we want to remove\n",
      "# Could change this to pull out different groups.\n",
      "# These primers actually had good Archaeal targets - so, it would be okay to include them.\n",
      "!egrep \"Chloroplast|Bacteria|Archaea|Unassigned\" \\\n",
      "data/otusn_RDP_warcup_tax/otusn_tax_assignments.txt \\\n",
      "| awk '{print $1}' > data/to_remove_tax_warcup.accnos"
     ],
     "language": "python",
     "metadata": {},
     "outputs": [],
     "prompt_number": 7
    },
    {
     "cell_type": "code",
     "collapsed": false,
     "input": [
      "# wc is number of lines of the taxa that will be removed\n",
      "!wc -l data/to_remove_tax_warcup.accnos"
     ],
     "language": "python",
     "metadata": {},
     "outputs": [
      {
       "output_type": "stream",
       "stream": "stdout",
       "text": [
        "37720 data/to_remove_tax_warcup.accnos\r\n"
       ]
      }
     ],
     "prompt_number": 8
    },
    {
     "cell_type": "code",
     "collapsed": false,
     "input": [
      "# Looking at what you're removing\n",
      "!head data/to_remove_tax_warcup.accnos"
     ],
     "language": "python",
     "metadata": {},
     "outputs": [
      {
       "output_type": "stream",
       "stream": "stdout",
       "text": [
        "OTU.759\r\n",
        "OTU.753\r\n",
        "OTU.752\r\n",
        "OTU.751\r\n",
        "OTU.750\r\n",
        "OTU.757\r\n",
        "OTU.756\r\n",
        "OTU.755\r\n",
        "OTU.754\r\n",
        "OTU.2323\r\n"
       ]
      }
     ],
     "prompt_number": 10
    },
    {
     "cell_type": "code",
     "collapsed": false,
     "input": [
      "%%bash\n",
      "# Remove.seqs command will actually remove these taxa\n",
      "mothur \"#remove.seqs(fasta=data/otusn.fasta, \\\n",
      "accnos=data/to_remove_tax_warcup.accnos)\" #> /dev/null"
     ],
     "language": "python",
     "metadata": {},
     "outputs": [
      {
       "output_type": "stream",
       "stream": "stdout",
       "text": [
        "\u001b[H\u001b[2J\n",
        "\n",
        "\n",
        "\n",
        "\n",
        "\n",
        "mothur v.1.32.1\n",
        "Last updated: 10/16/2013\n",
        "\n",
        "by\n",
        "Patrick D. Schloss\n",
        "\n",
        "Department of Microbiology & Immunology\n",
        "University of Michigan\n",
        "pschloss@umich.edu\n",
        "http://www.mothur.org\n",
        "\n",
        "When using, please cite:\n",
        "Schloss, P.D., et al., Introducing mothur: Open-source, platform-independent, community-supported software for describing and comparing microbial communities. Appl Environ Microbiol, 2009. 75(23):7537-41.\n",
        "\n",
        "Distributed under the GNU General Public License\n",
        "\n",
        "Type 'help()' for information on the commands that are available\n",
        "\n",
        "Type 'quit()' to exit program\n",
        "\n",
        "\n",
        "\n",
        "mothur > remove.seqs(fasta=data/otusn.fasta, accnos=data/to_remove_tax_warcup.accnos)\n",
        "Removed 37720 sequences from your fasta file.\n",
        "\n",
        "Output File Names: \n",
        "data/otusn.pick.fasta\n",
        "\n",
        "\n",
        "mothur > quit()\n"
       ]
      }
     ],
     "prompt_number": 15
    },
    {
     "cell_type": "heading",
     "level": 3,
     "metadata": {},
     "source": [
      "Mapping Reads"
     ]
    },
    {
     "cell_type": "code",
     "collapsed": false,
     "input": [
      "# Pulling out the sample identifier.\n",
      "# It is adding a portion to the finalQC file that has the barcode label.\n",
      "# Then we can use this later\n",
      "# Now we will see how these reads map to the defined centroids (after removing EuK, etc.)\n",
      "# Basically, we cut, cut, refined our fasta to make our OTU centroids.\n",
      "# THEN, we went back to our original QC'd total fasta file and will throw it all against these nicely defined seeds.\n",
      "# Anything that doesn't match, we won't keep.\n",
      "!awk -F\"_\" \\\n",
      "'BEGIN{OFS=\";\"}{ if ( substr($1,0,1) == \">\"){ print $0,\"barcodelabel=\",$1 } else { print $0 } }' \\\n",
      "data/finalQC_war.fasta | \\\n",
      "sed 's/;>//' > data/finalQC_war_usearchfmt.fasta"
     ],
     "language": "python",
     "metadata": {},
     "outputs": [],
     "prompt_number": 16
    },
    {
     "cell_type": "code",
     "collapsed": false,
     "input": [
      "!head data/finalQC_war_usearchfmt.fasta"
     ],
     "language": "python",
     "metadata": {},
     "outputs": [
      {
       "output_type": "stream",
       "stream": "stdout",
       "text": [
        ">D3013.24_0;barcodelabel=D3013.24\r\n",
        "TTCATAATCAAAGTGTTTTTATGGCACTTTTAAAAAAATCCATATCCACCTTGTGTGCAATGTCATCTCACTGGAGGCCAGCTGGCTGTCAAAAGCCCGTTTGGTCACCTTTGGGATTTATATCTACTCAGAACTTTAGTGATTTTGTCTGAAAAATATTATGAATAACTTAATTCAAAATACAACTTTCAACAACGGATCTCTTGGCTCTCGC\r\n",
        ">D1412.20_1;barcodelabel=D1412.20\r\n",
        "TTAACACTAATCCACACACTACTCAACCTAGCCTTTAGTTGCAGCCGAGGTGTTCGCCGTCAGGCAGCGCCGCAGCAGCAACCACAACAAACCTAATCTCAAAGGACTTTAACTAAGCCTTACCACAAAACCAAATTCTCAACGATGGATATCTTGGTTCCCAT\r\n",
        ">D1412.18_2;barcodelabel=D1412.18\r\n",
        "TTACCGAGTTTACACCTCCCAAACCCCTGTGAACATACCTTAATGTTGCCTCGGCGGATCAGCCCGCGCCCCGTAAAACGGGACGGCCCGCCAGAGGACCCAAACTCTAATGTTTCTTATTGTAACTTCTGAGTAAAACAAACAAATAAATCAAAACTTTCAACAACGGATCTCTTGGTTCTGGC\r\n",
        ">D3012.10_3;barcodelabel=D3012.10\r\n",
        "TTACAGAGTTGCAAAACTCCCTAAACCATTGTGAACGTTACCTAAACCGTTGCTTCGGCGGGCGGCCCCGGGGTTCTCCCCGGGAGCCCCCGGGCCCCATCCCGGGCGCCCGCCGGAGTTCACCAAACTATTGATAATTTAGGGCCTCTCTGAGTCTTCTGTACCGAATAAGTCAAAACTTTCAACAACGGATCTCTTGGTTCTGGC\r\n",
        ">D713.15_4;barcodelabel=D713.15\r\n",
        "TTACAGAGTTGCAAAACTCCCTAAACCATTGTGAACGTTACCTAAACCGTTGCTTCGGCGGGCGGCCCCGGGGTTTACCCCCCGGGCGCCCCTGGGCCCCACCGCGGGCGCCCGCCGGAGGTCACCAAACTCTTGATAATTTATGGCCTCTCTGAGTCTTCTGTACTGAATAAGTCAAAACTTTCAACAACGGATCTCTTGGTTCTGGC\r\n"
       ]
      }
     ],
     "prompt_number": 17
    },
    {
     "cell_type": "code",
     "collapsed": false,
     "input": [
      "# This is where the actual OTUs are being assigned. We choose 97% sequence ID threshold here.\n",
      "# This might take a while - like 5 minutes\n",
      "# Depending ont he clustering algorithm, like pairwise... it would take, like, days on the same number of processors.\n",
      "# This is why usearch (centroid-based) is so much better\n",
      "# But is it more biologically relevant? ... maybe, maybe not.\n",
      "# Edgar is showing it's not that bad.\n",
      "\n",
      "# We take our total QC data (modified above to have the sample ID extracted)\n",
      "# We compare it to the otusn.pick.fasta database we made above\n",
      "# We produce a readmap.uc file which tells us how the reads from our finalQC file map to the otusn seed database.\n",
      "\n",
      "!usearch -usearch_global data/finalQC_war_usearchfmt.fasta \\\n",
      "-db data/otusn.pick.fasta \\\n",
      "-strand plus -id 0.97 \\\n",
      "-uc data/readmap_war.uc \\\n",
      "-threads 15"
     ],
     "language": "python",
     "metadata": {},
     "outputs": [
      {
       "output_type": "stream",
       "stream": "stdout",
       "text": [
        "usearch v7.0.1090_i86linux32, 4.0Gb RAM (132Gb total), 40 cores\r\n",
        "(C) Copyright 2013 Robert C. Edgar, all rights reserved.\r\n",
        "http://drive5.com/usearch\r\n",
        "\r\n",
        "Licensed to: chuck.peperanney@gmail.com\r\n",
        "\r\n",
        "00:00  19Mb Reading data/otusn.pick.fasta, 251.8kb\r\n",
        "00:00  19Mb 1160 seqs, min 50, avg 206, max 371nt\r\n",
        "00:00  19Mb    0.1% Masking\r",
        "00:00  19Mb  100.0% Masking\r",
        "\r\n",
        "00:00  19Mb    0.1% Word stats\r",
        "00:00  19Mb  100.0% Word stats\r",
        "\r\n",
        "00:00  20Mb    0.0% Building slots\r"
       ]
      },
      {
       "output_type": "stream",
       "stream": "stdout",
       "text": [
        "00:00  21Mb  100.0% Building slots\r",
        "\r\n",
        "00:00  21Mb    0.1% Build index   \r",
        "00:00  21Mb  100.0% Build index\r",
        "\r\n",
        "00:00 142Mb    0.1% Searching, 0.0% matched\r"
       ]
      },
      {
       "output_type": "stream",
       "stream": "stdout",
       "text": [
        "00:01 167Mb    0.6% Searching, 59.8% matched\r"
       ]
      },
      {
       "output_type": "stream",
       "stream": "stdout",
       "text": [
        "00:02 168Mb    1.4% Searching, 59.6% matched\r"
       ]
      },
      {
       "output_type": "stream",
       "stream": "stdout",
       "text": [
        "00:03 168Mb    2.2% Searching, 59.6% matched\r"
       ]
      },
      {
       "output_type": "stream",
       "stream": "stdout",
       "text": [
        "00:04 168Mb    2.9% Searching, 59.8% matched\r"
       ]
      },
      {
       "output_type": "stream",
       "stream": "stdout",
       "text": [
        "00:05 168Mb    3.7% Searching, 59.9% matched\r"
       ]
      },
      {
       "output_type": "stream",
       "stream": "stdout",
       "text": [
        "00:06 168Mb    4.5% Searching, 59.9% matched\r"
       ]
      },
      {
       "output_type": "stream",
       "stream": "stdout",
       "text": [
        "00:07 168Mb    5.3% Searching, 59.9% matched\r"
       ]
      },
      {
       "output_type": "stream",
       "stream": "stdout",
       "text": [
        "00:08 167Mb    6.1% Searching, 60.1% matched\r"
       ]
      },
      {
       "output_type": "stream",
       "stream": "stdout",
       "text": [
        "00:09 168Mb    6.9% Searching, 60.1% matched\r"
       ]
      },
      {
       "output_type": "stream",
       "stream": "stdout",
       "text": [
        "00:10 169Mb    7.7% Searching, 60.1% matched\r"
       ]
      },
      {
       "output_type": "stream",
       "stream": "stdout",
       "text": [
        "00:11 169Mb    8.4% Searching, 60.2% matched\r"
       ]
      },
      {
       "output_type": "stream",
       "stream": "stdout",
       "text": [
        "00:12 169Mb    9.2% Searching, 60.2% matched\r"
       ]
      },
      {
       "output_type": "stream",
       "stream": "stdout",
       "text": [
        "00:13 169Mb   10.0% Searching, 60.2% matched\r"
       ]
      },
      {
       "output_type": "stream",
       "stream": "stdout",
       "text": [
        "00:14 169Mb   10.8% Searching, 60.2% matched\r"
       ]
      },
      {
       "output_type": "stream",
       "stream": "stdout",
       "text": [
        "00:15 169Mb   11.6% Searching, 60.2% matched\r"
       ]
      },
      {
       "output_type": "stream",
       "stream": "stdout",
       "text": [
        "00:16 169Mb   12.4% Searching, 60.2% matched\r"
       ]
      },
      {
       "output_type": "stream",
       "stream": "stdout",
       "text": [
        "00:17 169Mb   13.1% Searching, 60.2% matched\r"
       ]
      },
      {
       "output_type": "stream",
       "stream": "stdout",
       "text": [
        "00:18 169Mb   13.9% Searching, 60.3% matched\r"
       ]
      },
      {
       "output_type": "stream",
       "stream": "stdout",
       "text": [
        "00:19 169Mb   14.7% Searching, 60.3% matched\r"
       ]
      },
      {
       "output_type": "stream",
       "stream": "stdout",
       "text": [
        "00:20 169Mb   15.5% Searching, 60.3% matched\r"
       ]
      },
      {
       "output_type": "stream",
       "stream": "stdout",
       "text": [
        "00:21 169Mb   16.3% Searching, 60.3% matched\r"
       ]
      },
      {
       "output_type": "stream",
       "stream": "stdout",
       "text": [
        "00:22 169Mb   17.1% Searching, 60.3% matched\r"
       ]
      },
      {
       "output_type": "stream",
       "stream": "stdout",
       "text": [
        "00:23 169Mb   17.9% Searching, 60.3% matched\r"
       ]
      },
      {
       "output_type": "stream",
       "stream": "stdout",
       "text": [
        "00:24 169Mb   18.7% Searching, 60.3% matched\r"
       ]
      },
      {
       "output_type": "stream",
       "stream": "stdout",
       "text": [
        "00:25 169Mb   19.5% Searching, 60.3% matched\r"
       ]
      },
      {
       "output_type": "stream",
       "stream": "stdout",
       "text": [
        "00:26 169Mb   20.3% Searching, 60.3% matched\r"
       ]
      },
      {
       "output_type": "stream",
       "stream": "stdout",
       "text": [
        "00:27 169Mb   21.0% Searching, 60.3% matched\r"
       ]
      },
      {
       "output_type": "stream",
       "stream": "stdout",
       "text": [
        "00:28 169Mb   21.8% Searching, 60.4% matched\r"
       ]
      },
      {
       "output_type": "stream",
       "stream": "stdout",
       "text": [
        "00:29 169Mb   22.6% Searching, 60.4% matched\r"
       ]
      },
      {
       "output_type": "stream",
       "stream": "stdout",
       "text": [
        "00:30 169Mb   23.4% Searching, 60.4% matched\r"
       ]
      },
      {
       "output_type": "stream",
       "stream": "stdout",
       "text": [
        "00:31 169Mb   24.2% Searching, 60.4% matched\r"
       ]
      },
      {
       "output_type": "stream",
       "stream": "stdout",
       "text": [
        "00:32 169Mb   25.0% Searching, 60.4% matched\r"
       ]
      },
      {
       "output_type": "stream",
       "stream": "stdout",
       "text": [
        "00:33 169Mb   25.7% Searching, 60.4% matched\r"
       ]
      },
      {
       "output_type": "stream",
       "stream": "stdout",
       "text": [
        "00:34 169Mb   26.4% Searching, 60.4% matched\r"
       ]
      },
      {
       "output_type": "stream",
       "stream": "stdout",
       "text": [
        "00:35 169Mb   27.2% Searching, 60.4% matched\r"
       ]
      },
      {
       "output_type": "stream",
       "stream": "stdout",
       "text": [
        "00:36 169Mb   28.0% Searching, 60.4% matched\r"
       ]
      },
      {
       "output_type": "stream",
       "stream": "stdout",
       "text": [
        "00:37 169Mb   28.8% Searching, 60.4% matched\r"
       ]
      },
      {
       "output_type": "stream",
       "stream": "stdout",
       "text": [
        "00:38 169Mb   29.6% Searching, 60.4% matched\r"
       ]
      },
      {
       "output_type": "stream",
       "stream": "stdout",
       "text": [
        "00:39 169Mb   30.4% Searching, 60.4% matched\r"
       ]
      },
      {
       "output_type": "stream",
       "stream": "stdout",
       "text": [
        "00:40 169Mb   31.1% Searching, 60.3% matched\r"
       ]
      },
      {
       "output_type": "stream",
       "stream": "stdout",
       "text": [
        "00:41 169Mb   31.9% Searching, 60.3% matched\r"
       ]
      },
      {
       "output_type": "stream",
       "stream": "stdout",
       "text": [
        "00:42 169Mb   32.7% Searching, 60.3% matched\r"
       ]
      },
      {
       "output_type": "stream",
       "stream": "stdout",
       "text": [
        "00:43 169Mb   33.5% Searching, 60.3% matched\r"
       ]
      },
      {
       "output_type": "stream",
       "stream": "stdout",
       "text": [
        "00:44 169Mb   34.3% Searching, 60.3% matched\r"
       ]
      },
      {
       "output_type": "stream",
       "stream": "stdout",
       "text": [
        "00:45 169Mb   35.1% Searching, 60.3% matched\r"
       ]
      },
      {
       "output_type": "stream",
       "stream": "stdout",
       "text": [
        "00:46 169Mb   35.9% Searching, 60.3% matched\r"
       ]
      },
      {
       "output_type": "stream",
       "stream": "stdout",
       "text": [
        "00:47 169Mb   36.7% Searching, 60.3% matched\r"
       ]
      },
      {
       "output_type": "stream",
       "stream": "stdout",
       "text": [
        "00:48 169Mb   37.5% Searching, 60.3% matched\r"
       ]
      },
      {
       "output_type": "stream",
       "stream": "stdout",
       "text": [
        "00:49 169Mb   38.3% Searching, 60.3% matched\r"
       ]
      },
      {
       "output_type": "stream",
       "stream": "stdout",
       "text": [
        "00:50 169Mb   39.0% Searching, 60.3% matched\r"
       ]
      },
      {
       "output_type": "stream",
       "stream": "stdout",
       "text": [
        "00:51 169Mb   39.8% Searching, 60.2% matched\r"
       ]
      },
      {
       "output_type": "stream",
       "stream": "stdout",
       "text": [
        "00:52 169Mb   40.6% Searching, 60.2% matched\r"
       ]
      },
      {
       "output_type": "stream",
       "stream": "stdout",
       "text": [
        "00:53 169Mb   41.4% Searching, 60.2% matched\r"
       ]
      },
      {
       "output_type": "stream",
       "stream": "stdout",
       "text": [
        "00:54 169Mb   42.2% Searching, 60.2% matched\r"
       ]
      },
      {
       "output_type": "stream",
       "stream": "stdout",
       "text": [
        "00:55 169Mb   43.0% Searching, 60.2% matched\r"
       ]
      },
      {
       "output_type": "stream",
       "stream": "stdout",
       "text": [
        "00:56 169Mb   43.8% Searching, 60.2% matched\r"
       ]
      },
      {
       "output_type": "stream",
       "stream": "stdout",
       "text": [
        "00:57 169Mb   44.6% Searching, 60.2% matched\r"
       ]
      },
      {
       "output_type": "stream",
       "stream": "stdout",
       "text": [
        "00:58 169Mb   45.3% Searching, 60.2% matched\r"
       ]
      },
      {
       "output_type": "stream",
       "stream": "stdout",
       "text": [
        "00:59 169Mb   46.1% Searching, 60.2% matched\r"
       ]
      },
      {
       "output_type": "stream",
       "stream": "stdout",
       "text": [
        "01:00 169Mb   46.9% Searching, 60.1% matched\r"
       ]
      },
      {
       "output_type": "stream",
       "stream": "stdout",
       "text": [
        "01:01 169Mb   47.7% Searching, 60.1% matched\r"
       ]
      },
      {
       "output_type": "stream",
       "stream": "stdout",
       "text": [
        "01:02 169Mb   48.5% Searching, 60.1% matched\r"
       ]
      },
      {
       "output_type": "stream",
       "stream": "stdout",
       "text": [
        "01:03 169Mb   49.3% Searching, 60.1% matched\r"
       ]
      },
      {
       "output_type": "stream",
       "stream": "stdout",
       "text": [
        "01:04 169Mb   50.1% Searching, 60.1% matched\r"
       ]
      },
      {
       "output_type": "stream",
       "stream": "stdout",
       "text": [
        "01:05 169Mb   50.8% Searching, 60.1% matched\r"
       ]
      },
      {
       "output_type": "stream",
       "stream": "stdout",
       "text": [
        "01:06 169Mb   51.6% Searching, 60.1% matched\r"
       ]
      },
      {
       "output_type": "stream",
       "stream": "stdout",
       "text": [
        "01:07 169Mb   52.4% Searching, 60.1% matched\r"
       ]
      },
      {
       "output_type": "stream",
       "stream": "stdout",
       "text": [
        "01:08 169Mb   53.2% Searching, 60.1% matched\r"
       ]
      },
      {
       "output_type": "stream",
       "stream": "stdout",
       "text": [
        "01:09 169Mb   54.0% Searching, 60.1% matched\r"
       ]
      },
      {
       "output_type": "stream",
       "stream": "stdout",
       "text": [
        "01:10 169Mb   54.8% Searching, 60.1% matched\r"
       ]
      },
      {
       "output_type": "stream",
       "stream": "stdout",
       "text": [
        "01:11 169Mb   55.6% Searching, 60.1% matched\r"
       ]
      },
      {
       "output_type": "stream",
       "stream": "stdout",
       "text": [
        "01:12 169Mb   56.4% Searching, 60.2% matched\r"
       ]
      },
      {
       "output_type": "stream",
       "stream": "stdout",
       "text": [
        "01:13 169Mb   57.2% Searching, 60.2% matched\r"
       ]
      },
      {
       "output_type": "stream",
       "stream": "stdout",
       "text": [
        "01:14 169Mb   58.0% Searching, 60.2% matched\r"
       ]
      },
      {
       "output_type": "stream",
       "stream": "stdout",
       "text": [
        "01:15 169Mb   58.7% Searching, 60.2% matched\r"
       ]
      },
      {
       "output_type": "stream",
       "stream": "stdout",
       "text": [
        "01:16 169Mb   59.5% Searching, 60.2% matched\r"
       ]
      },
      {
       "output_type": "stream",
       "stream": "stdout",
       "text": [
        "01:17 169Mb   60.3% Searching, 60.3% matched\r"
       ]
      },
      {
       "output_type": "stream",
       "stream": "stdout",
       "text": [
        "01:18 169Mb   61.1% Searching, 60.3% matched\r"
       ]
      },
      {
       "output_type": "stream",
       "stream": "stdout",
       "text": [
        "01:19 169Mb   61.9% Searching, 60.3% matched\r"
       ]
      },
      {
       "output_type": "stream",
       "stream": "stdout",
       "text": [
        "01:20 169Mb   62.7% Searching, 60.3% matched\r"
       ]
      },
      {
       "output_type": "stream",
       "stream": "stdout",
       "text": [
        "01:21 169Mb   63.4% Searching, 60.3% matched\r"
       ]
      },
      {
       "output_type": "stream",
       "stream": "stdout",
       "text": [
        "01:22 169Mb   64.2% Searching, 60.4% matched\r"
       ]
      },
      {
       "output_type": "stream",
       "stream": "stdout",
       "text": [
        "01:23 170Mb   65.0% Searching, 60.4% matched\r"
       ]
      },
      {
       "output_type": "stream",
       "stream": "stdout",
       "text": [
        "01:24 170Mb   65.8% Searching, 60.4% matched\r"
       ]
      },
      {
       "output_type": "stream",
       "stream": "stdout",
       "text": [
        "01:25 170Mb   66.6% Searching, 60.4% matched\r"
       ]
      },
      {
       "output_type": "stream",
       "stream": "stdout",
       "text": [
        "01:26 170Mb   67.4% Searching, 60.4% matched\r"
       ]
      },
      {
       "output_type": "stream",
       "stream": "stdout",
       "text": [
        "01:27 170Mb   68.2% Searching, 60.4% matched\r"
       ]
      },
      {
       "output_type": "stream",
       "stream": "stdout",
       "text": [
        "01:28 170Mb   69.0% Searching, 60.5% matched\r"
       ]
      },
      {
       "output_type": "stream",
       "stream": "stdout",
       "text": [
        "01:29 170Mb   69.8% Searching, 60.5% matched\r"
       ]
      },
      {
       "output_type": "stream",
       "stream": "stdout",
       "text": [
        "01:30 170Mb   70.6% Searching, 60.5% matched\r"
       ]
      },
      {
       "output_type": "stream",
       "stream": "stdout",
       "text": [
        "01:31 170Mb   71.4% Searching, 60.5% matched\r"
       ]
      },
      {
       "output_type": "stream",
       "stream": "stdout",
       "text": [
        "01:32 170Mb   72.2% Searching, 60.5% matched\r"
       ]
      },
      {
       "output_type": "stream",
       "stream": "stdout",
       "text": [
        "01:33 170Mb   72.9% Searching, 60.5% matched\r"
       ]
      },
      {
       "output_type": "stream",
       "stream": "stdout",
       "text": [
        "01:34 170Mb   73.7% Searching, 60.5% matched\r"
       ]
      },
      {
       "output_type": "stream",
       "stream": "stdout",
       "text": [
        "01:35 170Mb   74.5% Searching, 60.5% matched\r"
       ]
      },
      {
       "output_type": "stream",
       "stream": "stdout",
       "text": [
        "01:36 170Mb   75.2% Searching, 60.5% matched\r"
       ]
      },
      {
       "output_type": "stream",
       "stream": "stdout",
       "text": [
        "01:37 170Mb   76.0% Searching, 60.6% matched\r"
       ]
      },
      {
       "output_type": "stream",
       "stream": "stdout",
       "text": [
        "01:38 170Mb   76.8% Searching, 60.6% matched\r"
       ]
      },
      {
       "output_type": "stream",
       "stream": "stdout",
       "text": [
        "01:39 170Mb   77.6% Searching, 60.6% matched\r"
       ]
      },
      {
       "output_type": "stream",
       "stream": "stdout",
       "text": [
        "01:40 170Mb   78.4% Searching, 60.6% matched\r"
       ]
      },
      {
       "output_type": "stream",
       "stream": "stdout",
       "text": [
        "01:41 170Mb   79.1% Searching, 60.6% matched\r"
       ]
      },
      {
       "output_type": "stream",
       "stream": "stdout",
       "text": [
        "01:42 170Mb   79.9% Searching, 60.6% matched\r"
       ]
      },
      {
       "output_type": "stream",
       "stream": "stdout",
       "text": [
        "01:43 170Mb   80.7% Searching, 60.6% matched\r"
       ]
      },
      {
       "output_type": "stream",
       "stream": "stdout",
       "text": [
        "01:44 170Mb   81.5% Searching, 60.6% matched\r"
       ]
      },
      {
       "output_type": "stream",
       "stream": "stdout",
       "text": [
        "01:45 170Mb   82.3% Searching, 60.6% matched\r"
       ]
      },
      {
       "output_type": "stream",
       "stream": "stdout",
       "text": [
        "01:46 170Mb   83.1% Searching, 60.6% matched\r"
       ]
      },
      {
       "output_type": "stream",
       "stream": "stdout",
       "text": [
        "01:47 170Mb   83.9% Searching, 60.6% matched\r"
       ]
      },
      {
       "output_type": "stream",
       "stream": "stdout",
       "text": [
        "01:48 170Mb   84.6% Searching, 60.6% matched\r"
       ]
      },
      {
       "output_type": "stream",
       "stream": "stdout",
       "text": [
        "01:49 170Mb   85.4% Searching, 60.7% matched\r"
       ]
      },
      {
       "output_type": "stream",
       "stream": "stdout",
       "text": [
        "01:50 170Mb   86.2% Searching, 60.7% matched\r"
       ]
      },
      {
       "output_type": "stream",
       "stream": "stdout",
       "text": [
        "01:51 170Mb   87.0% Searching, 60.7% matched\r"
       ]
      },
      {
       "output_type": "stream",
       "stream": "stdout",
       "text": [
        "01:52 170Mb   87.8% Searching, 60.7% matched\r"
       ]
      },
      {
       "output_type": "stream",
       "stream": "stdout",
       "text": [
        "01:53 170Mb   88.6% Searching, 60.7% matched\r"
       ]
      },
      {
       "output_type": "stream",
       "stream": "stdout",
       "text": [
        "01:54 170Mb   89.4% Searching, 60.7% matched\r"
       ]
      },
      {
       "output_type": "stream",
       "stream": "stdout",
       "text": [
        "01:55 170Mb   90.1% Searching, 60.7% matched\r"
       ]
      },
      {
       "output_type": "stream",
       "stream": "stdout",
       "text": [
        "01:56 170Mb   90.9% Searching, 60.7% matched\r"
       ]
      },
      {
       "output_type": "stream",
       "stream": "stdout",
       "text": [
        "01:57 170Mb   91.7% Searching, 60.6% matched\r"
       ]
      },
      {
       "output_type": "stream",
       "stream": "stdout",
       "text": [
        "01:58 170Mb   92.5% Searching, 60.7% matched\r"
       ]
      },
      {
       "output_type": "stream",
       "stream": "stdout",
       "text": [
        "01:59 170Mb   93.3% Searching, 60.7% matched\r"
       ]
      },
      {
       "output_type": "stream",
       "stream": "stdout",
       "text": [
        "02:00 170Mb   94.1% Searching, 60.6% matched\r"
       ]
      },
      {
       "output_type": "stream",
       "stream": "stdout",
       "text": [
        "02:01 170Mb   94.9% Searching, 60.7% matched\r"
       ]
      },
      {
       "output_type": "stream",
       "stream": "stdout",
       "text": [
        "02:02 170Mb   95.6% Searching, 60.6% matched\r"
       ]
      },
      {
       "output_type": "stream",
       "stream": "stdout",
       "text": [
        "02:03 170Mb   96.4% Searching, 60.6% matched\r"
       ]
      },
      {
       "output_type": "stream",
       "stream": "stdout",
       "text": [
        "02:04 170Mb   97.2% Searching, 60.6% matched\r"
       ]
      },
      {
       "output_type": "stream",
       "stream": "stdout",
       "text": [
        "02:05 170Mb   98.0% Searching, 60.6% matched\r"
       ]
      },
      {
       "output_type": "stream",
       "stream": "stdout",
       "text": [
        "02:06 170Mb   98.8% Searching, 60.6% matched\r"
       ]
      },
      {
       "output_type": "stream",
       "stream": "stdout",
       "text": [
        "02:07 170Mb   99.6% Searching, 60.6% matched\r"
       ]
      },
      {
       "output_type": "stream",
       "stream": "stdout",
       "text": [
        "02:07 170Mb  100.0% Searching, 60.6% matched\r",
        "\r\n"
       ]
      }
     ],
     "prompt_number": 19
    },
    {
     "cell_type": "code",
     "collapsed": false,
     "input": [
      "# Makes an OTU table\n",
      "# It will tell me the OTU ID, and then for all the samples, which OTUs it has sequences from.\n",
      "!python /opt/bioinfo/edgar_python_scripts/uc2otutab.py data/readmap_war.uc > data/otu_table_war.txt"
     ],
     "language": "python",
     "metadata": {},
     "outputs": [
      {
       "output_type": "stream",
       "stream": "stdout",
       "text": [
        "data/readmap_war.uc   0.0%   \r"
       ]
      },
      {
       "output_type": "stream",
       "stream": "stdout",
       "text": [
        "data/readmap_war.uc   0.6%   \r"
       ]
      },
      {
       "output_type": "stream",
       "stream": "stdout",
       "text": [
        "data/readmap_war.uc   1.3%   \r"
       ]
      },
      {
       "output_type": "stream",
       "stream": "stdout",
       "text": [
        "data/readmap_war.uc   2.0%   \r"
       ]
      },
      {
       "output_type": "stream",
       "stream": "stdout",
       "text": [
        "data/readmap_war.uc   2.7%   \r"
       ]
      },
      {
       "output_type": "stream",
       "stream": "stdout",
       "text": [
        "data/readmap_war.uc   3.4%   \r"
       ]
      },
      {
       "output_type": "stream",
       "stream": "stdout",
       "text": [
        "data/readmap_war.uc   4.1%   \r"
       ]
      },
      {
       "output_type": "stream",
       "stream": "stdout",
       "text": [
        "data/readmap_war.uc   4.8%   \r"
       ]
      },
      {
       "output_type": "stream",
       "stream": "stdout",
       "text": [
        "data/readmap_war.uc   5.5%   \r"
       ]
      },
      {
       "output_type": "stream",
       "stream": "stdout",
       "text": [
        "data/readmap_war.uc   6.2%   \r"
       ]
      },
      {
       "output_type": "stream",
       "stream": "stdout",
       "text": [
        "data/readmap_war.uc   6.9%   \r"
       ]
      },
      {
       "output_type": "stream",
       "stream": "stdout",
       "text": [
        "data/readmap_war.uc   7.6%   \r"
       ]
      },
      {
       "output_type": "stream",
       "stream": "stdout",
       "text": [
        "data/readmap_war.uc   8.4%   \r"
       ]
      },
      {
       "output_type": "stream",
       "stream": "stdout",
       "text": [
        "data/readmap_war.uc   9.1%   \r"
       ]
      },
      {
       "output_type": "stream",
       "stream": "stdout",
       "text": [
        "data/readmap_war.uc   9.8%   \r"
       ]
      },
      {
       "output_type": "stream",
       "stream": "stdout",
       "text": [
        "data/readmap_war.uc  10.5%   \r"
       ]
      },
      {
       "output_type": "stream",
       "stream": "stdout",
       "text": [
        "data/readmap_war.uc  11.2%   \r"
       ]
      },
      {
       "output_type": "stream",
       "stream": "stdout",
       "text": [
        "data/readmap_war.uc  11.9%   \r"
       ]
      },
      {
       "output_type": "stream",
       "stream": "stdout",
       "text": [
        "data/readmap_war.uc  12.6%   \r"
       ]
      },
      {
       "output_type": "stream",
       "stream": "stdout",
       "text": [
        "data/readmap_war.uc  13.3%   \r"
       ]
      },
      {
       "output_type": "stream",
       "stream": "stdout",
       "text": [
        "data/readmap_war.uc  14.0%   \r"
       ]
      },
      {
       "output_type": "stream",
       "stream": "stdout",
       "text": [
        "data/readmap_war.uc  14.7%   \r"
       ]
      },
      {
       "output_type": "stream",
       "stream": "stdout",
       "text": [
        "data/readmap_war.uc  15.4%   \r"
       ]
      },
      {
       "output_type": "stream",
       "stream": "stdout",
       "text": [
        "data/readmap_war.uc  16.1%   \r"
       ]
      },
      {
       "output_type": "stream",
       "stream": "stdout",
       "text": [
        "data/readmap_war.uc  16.9%   \r"
       ]
      },
      {
       "output_type": "stream",
       "stream": "stdout",
       "text": [
        "data/readmap_war.uc  17.6%   \r"
       ]
      },
      {
       "output_type": "stream",
       "stream": "stdout",
       "text": [
        "data/readmap_war.uc  18.3%   \r"
       ]
      },
      {
       "output_type": "stream",
       "stream": "stdout",
       "text": [
        "data/readmap_war.uc  19.0%   \r"
       ]
      },
      {
       "output_type": "stream",
       "stream": "stdout",
       "text": [
        "data/readmap_war.uc  19.7%   \r"
       ]
      },
      {
       "output_type": "stream",
       "stream": "stdout",
       "text": [
        "data/readmap_war.uc  20.4%   \r"
       ]
      },
      {
       "output_type": "stream",
       "stream": "stdout",
       "text": [
        "data/readmap_war.uc  21.1%   \r"
       ]
      },
      {
       "output_type": "stream",
       "stream": "stdout",
       "text": [
        "data/readmap_war.uc  21.9%   \r"
       ]
      },
      {
       "output_type": "stream",
       "stream": "stdout",
       "text": [
        "data/readmap_war.uc  22.5%   \r"
       ]
      },
      {
       "output_type": "stream",
       "stream": "stdout",
       "text": [
        "data/readmap_war.uc  23.2%   \r"
       ]
      },
      {
       "output_type": "stream",
       "stream": "stdout",
       "text": [
        "data/readmap_war.uc  23.9%   \r"
       ]
      },
      {
       "output_type": "stream",
       "stream": "stdout",
       "text": [
        "data/readmap_war.uc  24.7%   \r"
       ]
      },
      {
       "output_type": "stream",
       "stream": "stdout",
       "text": [
        "data/readmap_war.uc  25.4%   \r"
       ]
      },
      {
       "output_type": "stream",
       "stream": "stdout",
       "text": [
        "data/readmap_war.uc  26.1%   \r"
       ]
      },
      {
       "output_type": "stream",
       "stream": "stdout",
       "text": [
        "data/readmap_war.uc  26.8%   \r"
       ]
      },
      {
       "output_type": "stream",
       "stream": "stdout",
       "text": [
        "data/readmap_war.uc  27.5%   \r"
       ]
      },
      {
       "output_type": "stream",
       "stream": "stdout",
       "text": [
        "data/readmap_war.uc  28.2%   \r"
       ]
      },
      {
       "output_type": "stream",
       "stream": "stdout",
       "text": [
        "data/readmap_war.uc  28.9%   \r"
       ]
      },
      {
       "output_type": "stream",
       "stream": "stdout",
       "text": [
        "data/readmap_war.uc  29.6%   \r"
       ]
      },
      {
       "output_type": "stream",
       "stream": "stdout",
       "text": [
        "data/readmap_war.uc  30.4%   \r"
       ]
      },
      {
       "output_type": "stream",
       "stream": "stdout",
       "text": [
        "data/readmap_war.uc  31.1%   \r"
       ]
      },
      {
       "output_type": "stream",
       "stream": "stdout",
       "text": [
        "data/readmap_war.uc  31.8%   \r"
       ]
      },
      {
       "output_type": "stream",
       "stream": "stdout",
       "text": [
        "data/readmap_war.uc  32.5%   \r"
       ]
      },
      {
       "output_type": "stream",
       "stream": "stdout",
       "text": [
        "data/readmap_war.uc  33.2%   \r"
       ]
      },
      {
       "output_type": "stream",
       "stream": "stdout",
       "text": [
        "data/readmap_war.uc  33.9%   \r"
       ]
      },
      {
       "output_type": "stream",
       "stream": "stdout",
       "text": [
        "data/readmap_war.uc  34.6%   \r"
       ]
      },
      {
       "output_type": "stream",
       "stream": "stdout",
       "text": [
        "data/readmap_war.uc  35.3%   \r"
       ]
      },
      {
       "output_type": "stream",
       "stream": "stdout",
       "text": [
        "data/readmap_war.uc  36.0%   \r"
       ]
      },
      {
       "output_type": "stream",
       "stream": "stdout",
       "text": [
        "data/readmap_war.uc  36.7%   \r"
       ]
      },
      {
       "output_type": "stream",
       "stream": "stdout",
       "text": [
        "data/readmap_war.uc  37.3%   \r"
       ]
      },
      {
       "output_type": "stream",
       "stream": "stdout",
       "text": [
        "data/readmap_war.uc  38.0%   \r"
       ]
      },
      {
       "output_type": "stream",
       "stream": "stdout",
       "text": [
        "data/readmap_war.uc  38.8%   \r"
       ]
      },
      {
       "output_type": "stream",
       "stream": "stdout",
       "text": [
        "data/readmap_war.uc  39.5%   \r"
       ]
      },
      {
       "output_type": "stream",
       "stream": "stdout",
       "text": [
        "data/readmap_war.uc  40.2%   \r"
       ]
      },
      {
       "output_type": "stream",
       "stream": "stdout",
       "text": [
        "data/readmap_war.uc  40.9%   \r"
       ]
      },
      {
       "output_type": "stream",
       "stream": "stdout",
       "text": [
        "data/readmap_war.uc  41.6%   \r"
       ]
      },
      {
       "output_type": "stream",
       "stream": "stdout",
       "text": [
        "data/readmap_war.uc  42.3%   \r"
       ]
      },
      {
       "output_type": "stream",
       "stream": "stdout",
       "text": [
        "data/readmap_war.uc  43.0%   \r"
       ]
      },
      {
       "output_type": "stream",
       "stream": "stdout",
       "text": [
        "data/readmap_war.uc  43.7%   \r"
       ]
      },
      {
       "output_type": "stream",
       "stream": "stdout",
       "text": [
        "data/readmap_war.uc  44.4%   \r"
       ]
      },
      {
       "output_type": "stream",
       "stream": "stdout",
       "text": [
        "data/readmap_war.uc  45.1%   \r"
       ]
      },
      {
       "output_type": "stream",
       "stream": "stdout",
       "text": [
        "data/readmap_war.uc  45.8%   \r"
       ]
      },
      {
       "output_type": "stream",
       "stream": "stdout",
       "text": [
        "data/readmap_war.uc  46.6%   \r"
       ]
      },
      {
       "output_type": "stream",
       "stream": "stdout",
       "text": [
        "data/readmap_war.uc  47.3%   \r"
       ]
      },
      {
       "output_type": "stream",
       "stream": "stdout",
       "text": [
        "data/readmap_war.uc  48.0%   \r"
       ]
      },
      {
       "output_type": "stream",
       "stream": "stdout",
       "text": [
        "data/readmap_war.uc  48.7%   \r"
       ]
      },
      {
       "output_type": "stream",
       "stream": "stdout",
       "text": [
        "data/readmap_war.uc  49.4%   \r"
       ]
      },
      {
       "output_type": "stream",
       "stream": "stdout",
       "text": [
        "data/readmap_war.uc  50.1%   \r"
       ]
      },
      {
       "output_type": "stream",
       "stream": "stdout",
       "text": [
        "data/readmap_war.uc  50.8%   \r"
       ]
      },
      {
       "output_type": "stream",
       "stream": "stdout",
       "text": [
        "data/readmap_war.uc  51.5%   \r"
       ]
      },
      {
       "output_type": "stream",
       "stream": "stdout",
       "text": [
        "data/readmap_war.uc  52.2%   \r"
       ]
      },
      {
       "output_type": "stream",
       "stream": "stdout",
       "text": [
        "data/readmap_war.uc  53.0%   \r"
       ]
      },
      {
       "output_type": "stream",
       "stream": "stdout",
       "text": [
        "data/readmap_war.uc  53.7%   \r"
       ]
      },
      {
       "output_type": "stream",
       "stream": "stdout",
       "text": [
        "data/readmap_war.uc  54.4%   \r"
       ]
      },
      {
       "output_type": "stream",
       "stream": "stdout",
       "text": [
        "data/readmap_war.uc  55.1%   \r"
       ]
      },
      {
       "output_type": "stream",
       "stream": "stdout",
       "text": [
        "data/readmap_war.uc  55.8%   \r"
       ]
      },
      {
       "output_type": "stream",
       "stream": "stdout",
       "text": [
        "data/readmap_war.uc  56.5%   \r"
       ]
      },
      {
       "output_type": "stream",
       "stream": "stdout",
       "text": [
        "data/readmap_war.uc  57.2%   \r"
       ]
      },
      {
       "output_type": "stream",
       "stream": "stdout",
       "text": [
        "data/readmap_war.uc  58.0%   \r"
       ]
      },
      {
       "output_type": "stream",
       "stream": "stdout",
       "text": [
        "data/readmap_war.uc  58.7%   \r"
       ]
      },
      {
       "output_type": "stream",
       "stream": "stdout",
       "text": [
        "data/readmap_war.uc  59.4%   \r"
       ]
      },
      {
       "output_type": "stream",
       "stream": "stdout",
       "text": [
        "data/readmap_war.uc  60.1%   \r"
       ]
      },
      {
       "output_type": "stream",
       "stream": "stdout",
       "text": [
        "data/readmap_war.uc  60.8%   \r"
       ]
      },
      {
       "output_type": "stream",
       "stream": "stdout",
       "text": [
        "data/readmap_war.uc  61.5%   \r"
       ]
      },
      {
       "output_type": "stream",
       "stream": "stdout",
       "text": [
        "data/readmap_war.uc  62.2%   \r"
       ]
      },
      {
       "output_type": "stream",
       "stream": "stdout",
       "text": [
        "data/readmap_war.uc  63.0%   \r"
       ]
      },
      {
       "output_type": "stream",
       "stream": "stdout",
       "text": [
        "data/readmap_war.uc  63.6%   \r"
       ]
      },
      {
       "output_type": "stream",
       "stream": "stdout",
       "text": [
        "data/readmap_war.uc  64.1%   \r"
       ]
      },
      {
       "output_type": "stream",
       "stream": "stdout",
       "text": [
        "data/readmap_war.uc  64.8%   \r"
       ]
      },
      {
       "output_type": "stream",
       "stream": "stdout",
       "text": [
        "data/readmap_war.uc  65.6%   \r"
       ]
      },
      {
       "output_type": "stream",
       "stream": "stdout",
       "text": [
        "data/readmap_war.uc  66.3%   \r"
       ]
      },
      {
       "output_type": "stream",
       "stream": "stdout",
       "text": [
        "data/readmap_war.uc  67.0%   \r"
       ]
      },
      {
       "output_type": "stream",
       "stream": "stdout",
       "text": [
        "data/readmap_war.uc  67.7%   \r"
       ]
      },
      {
       "output_type": "stream",
       "stream": "stdout",
       "text": [
        "data/readmap_war.uc  68.4%   \r"
       ]
      },
      {
       "output_type": "stream",
       "stream": "stdout",
       "text": [
        "data/readmap_war.uc  69.1%   \r"
       ]
      },
      {
       "output_type": "stream",
       "stream": "stdout",
       "text": [
        "data/readmap_war.uc  69.9%   \r"
       ]
      },
      {
       "output_type": "stream",
       "stream": "stdout",
       "text": [
        "data/readmap_war.uc  70.6%   \r"
       ]
      },
      {
       "output_type": "stream",
       "stream": "stdout",
       "text": [
        "data/readmap_war.uc  71.3%   \r"
       ]
      },
      {
       "output_type": "stream",
       "stream": "stdout",
       "text": [
        "data/readmap_war.uc  72.0%   \r"
       ]
      },
      {
       "output_type": "stream",
       "stream": "stdout",
       "text": [
        "data/readmap_war.uc  72.7%   \r"
       ]
      },
      {
       "output_type": "stream",
       "stream": "stdout",
       "text": [
        "data/readmap_war.uc  73.4%   \r"
       ]
      },
      {
       "output_type": "stream",
       "stream": "stdout",
       "text": [
        "data/readmap_war.uc  74.1%   \r"
       ]
      },
      {
       "output_type": "stream",
       "stream": "stdout",
       "text": [
        "data/readmap_war.uc  74.9%   \r"
       ]
      },
      {
       "output_type": "stream",
       "stream": "stdout",
       "text": [
        "data/readmap_war.uc  75.6%   \r"
       ]
      },
      {
       "output_type": "stream",
       "stream": "stdout",
       "text": [
        "data/readmap_war.uc  76.3%   \r"
       ]
      },
      {
       "output_type": "stream",
       "stream": "stdout",
       "text": [
        "data/readmap_war.uc  77.0%   \r"
       ]
      },
      {
       "output_type": "stream",
       "stream": "stdout",
       "text": [
        "data/readmap_war.uc  77.7%   \r"
       ]
      },
      {
       "output_type": "stream",
       "stream": "stdout",
       "text": [
        "data/readmap_war.uc  78.4%   \r"
       ]
      },
      {
       "output_type": "stream",
       "stream": "stdout",
       "text": [
        "data/readmap_war.uc  79.1%   \r"
       ]
      },
      {
       "output_type": "stream",
       "stream": "stdout",
       "text": [
        "data/readmap_war.uc  79.9%   \r"
       ]
      },
      {
       "output_type": "stream",
       "stream": "stdout",
       "text": [
        "data/readmap_war.uc  80.6%   \r"
       ]
      },
      {
       "output_type": "stream",
       "stream": "stdout",
       "text": [
        "data/readmap_war.uc  81.3%   \r"
       ]
      },
      {
       "output_type": "stream",
       "stream": "stdout",
       "text": [
        "data/readmap_war.uc  82.0%   \r"
       ]
      },
      {
       "output_type": "stream",
       "stream": "stdout",
       "text": [
        "data/readmap_war.uc  82.7%   \r"
       ]
      },
      {
       "output_type": "stream",
       "stream": "stdout",
       "text": [
        "data/readmap_war.uc  83.4%   \r"
       ]
      },
      {
       "output_type": "stream",
       "stream": "stdout",
       "text": [
        "data/readmap_war.uc  84.2%   \r"
       ]
      },
      {
       "output_type": "stream",
       "stream": "stdout",
       "text": [
        "data/readmap_war.uc  84.9%   \r"
       ]
      },
      {
       "output_type": "stream",
       "stream": "stdout",
       "text": [
        "data/readmap_war.uc  85.6%   \r"
       ]
      },
      {
       "output_type": "stream",
       "stream": "stdout",
       "text": [
        "data/readmap_war.uc  86.3%   \r"
       ]
      },
      {
       "output_type": "stream",
       "stream": "stdout",
       "text": [
        "data/readmap_war.uc  87.0%   \r"
       ]
      },
      {
       "output_type": "stream",
       "stream": "stdout",
       "text": [
        "data/readmap_war.uc  87.7%   \r"
       ]
      },
      {
       "output_type": "stream",
       "stream": "stdout",
       "text": [
        "data/readmap_war.uc  88.4%   \r"
       ]
      },
      {
       "output_type": "stream",
       "stream": "stdout",
       "text": [
        "data/readmap_war.uc  89.2%   \r"
       ]
      },
      {
       "output_type": "stream",
       "stream": "stdout",
       "text": [
        "data/readmap_war.uc  89.9%   \r"
       ]
      },
      {
       "output_type": "stream",
       "stream": "stdout",
       "text": [
        "data/readmap_war.uc  90.6%   \r"
       ]
      },
      {
       "output_type": "stream",
       "stream": "stdout",
       "text": [
        "data/readmap_war.uc  91.3%   \r"
       ]
      },
      {
       "output_type": "stream",
       "stream": "stdout",
       "text": [
        "data/readmap_war.uc  92.0%   \r"
       ]
      },
      {
       "output_type": "stream",
       "stream": "stdout",
       "text": [
        "data/readmap_war.uc  92.7%   \r"
       ]
      },
      {
       "output_type": "stream",
       "stream": "stdout",
       "text": [
        "data/readmap_war.uc  93.4%   \r"
       ]
      },
      {
       "output_type": "stream",
       "stream": "stdout",
       "text": [
        "data/readmap_war.uc  94.1%   \r"
       ]
      },
      {
       "output_type": "stream",
       "stream": "stdout",
       "text": [
        "data/readmap_war.uc  94.8%   \r"
       ]
      },
      {
       "output_type": "stream",
       "stream": "stdout",
       "text": [
        "data/readmap_war.uc  95.6%   \r"
       ]
      },
      {
       "output_type": "stream",
       "stream": "stdout",
       "text": [
        "data/readmap_war.uc  96.3%   \r"
       ]
      },
      {
       "output_type": "stream",
       "stream": "stdout",
       "text": [
        "data/readmap_war.uc  97.0%   \r"
       ]
      },
      {
       "output_type": "stream",
       "stream": "stdout",
       "text": [
        "data/readmap_war.uc  97.7%   \r"
       ]
      },
      {
       "output_type": "stream",
       "stream": "stdout",
       "text": [
        "data/readmap_war.uc  98.4%   \r"
       ]
      },
      {
       "output_type": "stream",
       "stream": "stdout",
       "text": [
        "data/readmap_war.uc  99.1%   \r"
       ]
      },
      {
       "output_type": "stream",
       "stream": "stdout",
       "text": [
        "data/readmap_war.uc  99.8%   \r"
       ]
      },
      {
       "output_type": "stream",
       "stream": "stdout",
       "text": [
        "data/readmap_war.uc 100.0%   \r\n"
       ]
      }
     ],
     "prompt_number": 20
    },
    {
     "cell_type": "code",
     "collapsed": false,
     "input": [
      "# Issues with biom table formatting\n",
      "!if [ -f data/otu_table_war.biom ]; then rm data/otu_table_war.biom; fi #This is to mitigate a biom bug\n",
      "!biom convert -i data/otu_table_war.txt -o data/otu_table_war.biom --table-type \"otu table\""
     ],
     "language": "python",
     "metadata": {},
     "outputs": [],
     "prompt_number": 21
    },
    {
     "cell_type": "code",
     "collapsed": false,
     "input": [
      "# Issues with biom table formatting\n",
      "!if [ -f data/otu_table_war_summary.txt ]; then rm data/otu_table_war_summary.txt; fi #This is to mitigate a biom bug\n",
      "!biom summarize-table -i data/otu_table_war.biom -o data/otu_table_war_summary.txt"
     ],
     "language": "python",
     "metadata": {},
     "outputs": [],
     "prompt_number": 22
    },
    {
     "cell_type": "code",
     "collapsed": false,
     "input": [
      "# This tells us the overall data info\n",
      "# Num obs = OTUs\n",
      "# total count = total seqs\n",
      "# Chantal had 50% reduction after QC.\n",
      "\n",
      "!cat data/otu_table_war_summary.txt\n",
      "\n",
      "# Sample 211 was just bad 8 sequesce. Final day, plot 11, \n",
      "# Other samples have 8,000 while biggest one has 194,000 sequences.\n",
      "# 8M total sequences"
     ],
     "language": "python",
     "metadata": {},
     "outputs": [
      {
       "output_type": "stream",
       "stream": "stdout",
       "text": [
        "Num samples: 173\r\n",
        "Num observations: 1160\r\n",
        "Total count: 6044461\r\n",
        "Table density (fraction of non-zero values): 0.246\r\n",
        "Table md5 (unzipped): 78573cf27547c04d4cc0016af7cfe971\r\n",
        "\r\n",
        "Counts/sample summary:\r\n",
        " Min: 1958.0\r\n",
        " Max: 103424.0\r\n",
        " Median: 35153.000\r\n",
        " Mean: 34939.081\r\n",
        " Std. dev.: 19793.307\r\n",
        " Sample Metadata Categories: None provided\r\n",
        " Observation Metadata Categories: None provided\r\n",
        "\r\n",
        "Counts/sample detail:\r\n",
        " D312.14: 1958.0\r\n",
        " D3013.14: 3342.0\r\n",
        " D312.11: 3452.0\r\n",
        " D1412.13: 3573.0\r\n",
        " D312.9: 3637.0\r\n",
        " D312.15: 4033.0\r\n",
        " D3013.15: 4169.0\r\n",
        " D1412.12: 4748.0\r\n",
        " D3013.13: 4941.0\r\n",
        " D1412.14: 5237.0\r\n",
        " D312.10: 5968.0\r\n",
        " D1413.15: 6287.0\r\n",
        " D713.17: 6292.0\r\n",
        " D312.12: 6438.0\r\n",
        " D312.13: 6596.0\r\n",
        " D312.23: 7465.0\r\n",
        " D712.16: 7591.0\r\n",
        " D312.24: 7632.0\r\n",
        " D3013.16: 7886.0\r\n",
        " D713.16: 8299.0\r\n",
        " D3012.16: 8516.0\r\n",
        " D1413.16: 8752.0\r\n",
        " D312.8: 10283.0\r\n",
        " D313.22: 10498.0\r\n",
        " D313.23: 10616.0\r\n",
        " D312.17: 10877.0\r\n",
        " D313.21: 13350.0\r\n",
        " D3012.15: 13592.0\r\n",
        " D3013.12: 13836.0\r\n",
        " D3012.13: 14732.0\r\n",
        " D3012.14: 14865.0\r\n",
        " D312.6: 15441.0\r\n",
        " D313.24: 15983.0\r\n",
        " D313.20: 16821.0\r\n",
        " D312.22: 18261.0\r\n",
        " D713.18: 18531.0\r\n",
        " D1413.17: 18826.0\r\n",
        " D712.29: 19091.0\r\n",
        " D3012.24: 19252.0\r\n",
        " D1412.25: 20106.0\r\n",
        " D1412.21: 20290.0\r\n",
        " D1412.30: 20447.0\r\n",
        " D3012.17: 20613.0\r\n",
        " D1412.15: 20665.0\r\n",
        " D1413.14: 20772.0\r\n",
        " D313.19: 21306.0\r\n",
        " D1412.29: 21904.0\r\n",
        " D1412.10: 22426.0\r\n",
        " D312.5: 22670.0\r\n",
        " D3012.25: 23290.0\r\n",
        " D712.14: 24537.0\r\n",
        " D1412.2: 25192.0\r\n",
        " D1412.3: 26018.0\r\n",
        " D1412.7: 26022.0\r\n",
        " D1412.8: 26071.0\r\n",
        " D312.21: 26135.0\r\n",
        " D3012.21: 28603.0\r\n",
        " D1413.13: 28803.0\r\n",
        " D1412.26: 28878.0\r\n",
        " D313.26: 28927.0\r\n",
        " D1413.20: 28990.0\r\n",
        " D1412.22: 29257.0\r\n",
        " D3012.18: 29633.0\r\n",
        " D1412.6: 29784.0\r\n",
        " D3012.22: 30204.0\r\n",
        " D1412.23: 30255.0\r\n",
        " D712.24: 30274.0\r\n",
        " D713.25: 31009.0\r\n",
        " D712.13: 31045.0\r\n",
        " D3013.22: 31294.0\r\n",
        " D1412.24: 31486.0\r\n",
        " D1413.23: 32113.0\r\n",
        " D1412.16: 32257.0\r\n",
        " D3012.23: 32272.0\r\n",
        " D713.26: 32731.0\r\n",
        " D1413.24: 33060.0\r\n",
        " D3013.23: 33113.0\r\n",
        " D712.27: 33323.0\r\n",
        " D1412.20: 33487.0\r\n",
        " D3013.20: 33510.0\r\n",
        " D1413.22: 33823.0\r\n",
        " D712.25: 33837.0\r\n",
        " D1412.28: 34127.0\r\n",
        " D1412.5: 34342.0\r\n",
        " D3013.21: 34925.0\r\n",
        " D313.25: 35006.0\r\n",
        " D713.20: 35153.0\r\n",
        " D313.27: 35695.0\r\n",
        " D3013.24: 35906.0\r\n",
        " D713.30: 36099.0\r\n",
        " D713.19: 36638.0\r\n",
        " D3012.8: 36716.0\r\n",
        " D713.27: 36916.0\r\n",
        " D713.24: 36971.0\r\n",
        " D712.23: 37387.0\r\n",
        " D1413.19: 37432.0\r\n",
        " D713.22: 37499.0\r\n",
        " D1413.18: 37580.0\r\n",
        " D713.15: 37861.0\r\n",
        " D713.21: 38092.0\r\n",
        " D712.18: 38116.0\r\n",
        " D712.26: 38546.0\r\n",
        " D713.14: 38777.0\r\n",
        " D712.22: 38779.0\r\n",
        " D712.21: 39003.0\r\n",
        " D313.29: 39407.0\r\n",
        " D3012.12: 39518.0\r\n",
        " D1412.17: 39528.0\r\n",
        " D713.23: 39594.0\r\n",
        " D1412.19: 39609.0\r\n",
        " D313.34: 39982.0\r\n",
        " D313.31: 40113.0\r\n",
        " D1413.21: 40262.0\r\n",
        " D312.20: 40662.0\r\n",
        " D712.31: 40944.0\r\n",
        " D713.28: 40999.0\r\n",
        " D3013.19: 41183.0\r\n",
        " D3013.5: 41255.0\r\n",
        " D313.14: 41303.0\r\n",
        " D713.8: 41830.0\r\n",
        " D713.31: 41837.0\r\n",
        " D3013.11: 41927.0\r\n",
        " D313.13: 41996.0\r\n",
        " D313.16: 42355.0\r\n",
        " D312.25: 42669.0\r\n",
        " D313.17: 42718.0\r\n",
        " D713.29: 43093.0\r\n",
        " D712.8: 43512.0\r\n",
        " D3013.17: 43677.0\r\n",
        " D712.9: 43761.0\r\n",
        " D1412.4: 43774.0\r\n",
        " D312.19: 43852.0\r\n",
        " D1413.12: 43855.0\r\n",
        " D313.28: 44229.0\r\n",
        " D3012.10: 44550.0\r\n",
        " D712.12: 45199.0\r\n",
        " D313.15: 45955.0\r\n",
        " D712.30: 46536.0\r\n",
        " D3012.6: 47663.0\r\n",
        " D712.20: 47791.0\r\n",
        " D713.7: 48008.0\r\n",
        " D3013.6: 48055.0\r\n",
        " D313.33: 48407.0\r\n",
        " D712.7: 49072.0\r\n",
        " D313.32: 49152.0\r\n",
        " D1413.7: 49254.0\r\n",
        " D1412.18: 52053.0\r\n",
        " D312.18: 52963.0\r\n",
        " D3012.9: 53831.0\r\n",
        " D3013.18: 54807.0\r\n",
        " D1413.6: 56100.0\r\n",
        " D1413.5: 56114.0\r\n",
        " D712.11: 56148.0\r\n",
        " D313.12: 56495.0\r\n",
        " D712.19: 56732.0\r\n",
        " D3012.20: 56979.0\r\n",
        " D3012.11: 59411.0\r\n",
        " D3013.8: 60935.0\r\n",
        " D713.10: 61194.0\r\n",
        " D1413.8: 61758.0\r\n",
        " D3012.7: 62267.0\r\n",
        " D3013.9: 67099.0\r\n",
        " D3013.7: 67930.0\r\n",
        " D713.13: 68074.0\r\n",
        " D1413.11: 70747.0\r\n",
        " D713.12: 71584.0\r\n",
        " D3012.19: 76140.0\r\n",
        " D713.9: 77334.0\r\n",
        " D713.11: 89684.0\r\n",
        " D1413.10: 91626.0\r\n",
        " D1413.9: 92457.0\r\n",
        " D3013.10: 101824.0\r\n",
        " Mock.Comm: 103424.0\r\n"
       ]
      }
     ],
     "prompt_number": 23
    },
    {
     "cell_type": "code",
     "collapsed": false,
     "input": [
      "%%bash \n",
      "assign_taxonomy.py -i data/otusn.pick.fasta \\\n",
      "-r /var/seq_data/RDP_warcup_ITS_db/Warcup.fungalITS.fasta \\\n",
      "-t /var/seq_data/RDP_warcup_ITS_db/Warcup.fungalITS.uclustFMT.tax.txt \\\n",
      "-o warcup_assigned_taxonomy_removed \n"
     ],
     "language": "python",
     "metadata": {},
     "outputs": [],
     "prompt_number": 26
    },
    {
     "cell_type": "code",
     "collapsed": false,
     "input": [
      "!biom add-metadata -i data/otu_table_war.biom \\\n",
      "-o data/otu_table_war_wtax.biom \\\n",
      "--observation-metadata-fp warcup_assigned_taxonomy_removed/otusn.pick_tax_assignments.txt \\\n",
      "--sc-separated taxonomy \\\n",
      "--float-fields consensus \\\n",
      "--int-fields numhits \\\n",
      "--observation-header OTUID,taxonomy,consensus,numhits"
     ],
     "language": "python",
     "metadata": {},
     "outputs": [],
     "prompt_number": 27
    }
   ],
   "metadata": {}
  }
 ]
}