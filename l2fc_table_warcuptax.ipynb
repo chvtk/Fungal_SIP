{
 "metadata": {
  "name": "",
  "signature": "sha256:fee8f1bb608cd82c682ff87336345e532c3dba716ab723ae44c8eb97640197e5"
 },
 "nbformat": 3,
 "nbformat_minor": 0,
 "worksheets": [
  {
   "cells": [
    {
     "cell_type": "code",
     "collapsed": false,
     "input": [
      "%load_ext rpy2.ipython"
     ],
     "language": "python",
     "metadata": {},
     "outputs": [
      {
       "output_type": "stream",
       "stream": "stderr",
       "text": [
        "/opt/anaconda/lib/python2.7/site-packages/pytz/__init__.py:29: UserWarning: Module argparse was already imported from /opt/anaconda/lib/python2.7/argparse.pyc, but /opt/anaconda/lib/python2.7/site-packages is being added to sys.path\n",
        "  from pkg_resources import resource_stream\n"
       ]
      }
     ],
     "prompt_number": 1
    },
    {
     "cell_type": "code",
     "collapsed": false,
     "input": [
      "%%R\n",
      "library(phyloseq)\n",
      "library(plyr); library(dplyr)\n",
      "library(DESeq2)\n",
      "library(foreach)\n",
      "library(doParallel)\n",
      "library(ggplot2)\n",
      "library(gridExtra)\n",
      "library(reshape2)\n",
      "library(RColorBrewer)"
     ],
     "language": "python",
     "metadata": {},
     "outputs": [
      {
       "metadata": {},
       "output_type": "display_data",
       "text": [
        "\n",
        "Attaching package: \u2018dplyr\u2019\n",
        "\n",
        "The following objects are masked from \u2018package:plyr\u2019:\n",
        "\n",
        "    arrange, count, desc, failwith, id, mutate, rename, summarise,\n",
        "    summarize\n",
        "\n",
        "The following object is masked from \u2018package:stats\u2019:\n",
        "\n",
        "    filter\n",
        "\n",
        "The following objects are masked from \u2018package:base\u2019:\n",
        "\n",
        "    intersect, setdiff, setequal, union\n",
        "\n",
        "Loading required package: S4Vectors\n",
        "Loading required package: stats4\n",
        "Loading required package: BiocGenerics\n",
        "Loading required package: parallel\n",
        "\n",
        "Attaching package: \u2018BiocGenerics\u2019\n",
        "\n",
        "The following objects are masked from \u2018package:parallel\u2019:\n",
        "\n",
        "    clusterApply, clusterApplyLB, clusterCall, clusterEvalQ,\n",
        "    clusterExport, clusterMap, parApply, parCapply, parLapply,\n",
        "    parLapplyLB, parRapply, parSapply, parSapplyLB\n",
        "\n",
        "The following objects are masked from \u2018package:dplyr\u2019:\n",
        "\n",
        "    intersect, setdiff, union\n",
        "\n",
        "The following object is masked from \u2018package:stats\u2019:\n",
        "\n",
        "    xtabs\n",
        "\n",
        "The following objects are masked from \u2018package:base\u2019:\n",
        "\n",
        "    anyDuplicated, append, as.data.frame, as.vector, cbind, colnames,\n",
        "    do.call, duplicated, eval, evalq, Filter, Find, get, intersect,\n",
        "    is.unsorted, lapply, Map, mapply, match, mget, order, paste, pmax,\n",
        "    pmax.int, pmin, pmin.int, Position, rank, rbind, Reduce, rep.int,\n",
        "    rownames, sapply, setdiff, sort, table, tapply, union, unique,\n",
        "    unlist, unsplit\n",
        "\n",
        "\n",
        "Attaching package: \u2018S4Vectors\u2019\n",
        "\n",
        "The following object is masked from \u2018package:dplyr\u2019:\n",
        "\n",
        "    rename\n",
        "\n",
        "The following object is masked from \u2018package:plyr\u2019:\n",
        "\n",
        "    rename\n",
        "\n",
        "Loading required package: IRanges\n",
        "\n",
        "Attaching package: \u2018IRanges\u2019\n",
        "\n",
        "The following objects are masked from \u2018package:dplyr\u2019:\n",
        "\n",
        "    collapse, desc, slice\n",
        "\n",
        "The following object is masked from \u2018package:plyr\u2019:\n",
        "\n",
        "    desc\n",
        "\n",
        "The following object is masked from \u2018package:phyloseq\u2019:\n",
        "\n",
        "    distance\n",
        "\n",
        "Loading required package: GenomicRanges\n",
        "Loading required package: GenomeInfoDb\n",
        "Loading required package: Rcpp\n",
        "Loading required package: RcppArmadillo\n",
        "foreach: simple, scalable parallel programming from Revolution Analytics\n",
        "Use Revolution R for scalability, fault tolerance and more.\n",
        "http://www.revolutionanalytics.com\n",
        "Loading required package: iterators\n",
        "Loading required package: grid\n"
       ]
      }
     ],
     "prompt_number": 2
    },
    {
     "cell_type": "markdown",
     "metadata": {},
     "source": [
      "####Read in sample metadata"
     ]
    },
    {
     "cell_type": "code",
     "collapsed": false,
     "input": [
      "%%R\n",
      "sample.md = read.table(\"data/Metadata_fungi.txt\", \n",
      "                comment.char = \"\",\n",
      "                header = TRUE,\n",
      "                colClasses = c(\"Density\" = \"numeric\"))\n",
      "rownames(sample.md) = as.character(sample.md[, 1])\n",
      "\n",
      "sample.md = sample_data(sample.md)"
     ],
     "language": "python",
     "metadata": {},
     "outputs": [],
     "prompt_number": 4
    },
    {
     "cell_type": "markdown",
     "metadata": {},
     "source": [
      "####Read in OTU table"
     ]
    },
    {
     "cell_type": "code",
     "collapsed": false,
     "input": [
      "%%R\n",
      "physeq = import_biom(\"data/otu_table_war_wtax.biom\") "
     ],
     "language": "python",
     "metadata": {},
     "outputs": [],
     "prompt_number": 7
    },
    {
     "cell_type": "markdown",
     "metadata": {},
     "source": [
      "####Add sample metadata to phyloseq object"
     ]
    },
    {
     "cell_type": "code",
     "collapsed": false,
     "input": [
      "%%R\n",
      "sample_data(physeq) = sample.md\n",
      "physeq"
     ],
     "language": "python",
     "metadata": {},
     "outputs": [
      {
       "metadata": {},
       "output_type": "display_data",
       "text": [
        "phyloseq-class experiment-level object\n",
        "otu_table()   OTU Table:         [ 1160 taxa and 173 samples ]\n",
        "sample_data() Sample Data:       [ 173 samples by 9 sample variables ]\n",
        "tax_table()   Taxonomy Table:    [ 1160 taxa by 10 taxonomic ranks ]\n"
       ]
      }
     ],
     "prompt_number": 8
    },
    {
     "cell_type": "markdown",
     "metadata": {},
     "source": [
      "####Get heavy fractions from physeq object"
     ]
    },
    {
     "cell_type": "code",
     "collapsed": false,
     "input": [
      "%%R\n",
      "dna.density.min = 1.7125\n",
      "#rna.density.min = 1.825\n",
      "\n",
      "md = sample_data(physeq)\n",
      "criterion = md$Density >= with(md, dna.density.min)\n",
      "\n",
      "physeq.heavy = prune_samples(criterion, physeq)"
     ],
     "language": "python",
     "metadata": {},
     "outputs": [],
     "prompt_number": 11
    },
    {
     "cell_type": "markdown",
     "metadata": {},
     "source": [
      "####Function for estimating fold change and standard error with DESeq2"
     ]
    },
    {
     "cell_type": "code",
     "collapsed": false,
     "input": [
      "%%R\n",
      "get_l2fc = function(physeq.obj, Day) {\n",
      "    physeq.md = sample_data(physeq.obj)\n",
      "    p = prune_samples(#physeq.md$RNA_DNA == RNA_DNA)&\n",
      "                      (physeq.md$Day == Day), physeq.obj)\n",
      "    dds = phyloseq_to_deseq2(p, ~Treatment)\n",
      "    dds = DESeq(dds, quiet = TRUE, fitType = \"local\")\n",
      "    r = results(dds, independentFiltering = FALSE)\n",
      "    r$OTU = rownames(r)\n",
      "    d = data.frame(r[, c(\"OTU\",\"log2FoldChange\", \"lfcSE\")])\n",
      "    TT = data.frame(tax_table(p))\n",
      "    TT$OTU = rownames(TT)\n",
      "    d = left_join(d, TT)\n",
      "    d\n",
      "}"
     ],
     "language": "python",
     "metadata": {},
     "outputs": [],
     "prompt_number": 16
    },
    {
     "cell_type": "markdown",
     "metadata": {},
     "source": [
      "####Function arguments"
     ]
    },
    {
     "cell_type": "code",
     "collapsed": false,
     "input": [
      "%%R\n",
      "m = expand.grid(Day = c(3, 7, 14, 30))\n",
      "m"
     ],
     "language": "python",
     "metadata": {},
     "outputs": [
      {
       "metadata": {},
       "output_type": "display_data",
       "text": [
        "  Day\n",
        "1   3\n",
        "2   7\n",
        "3  14\n",
        "4  30\n"
       ]
      }
     ],
     "prompt_number": 17
    },
    {
     "cell_type": "markdown",
     "metadata": {},
     "source": [
      "####mdply call with function arguments"
     ]
    },
    {
     "cell_type": "code",
     "collapsed": false,
     "input": [
      "%%R\n",
      "registerDoParallel(8)\n",
      "\n",
      "df.l2fc = tbl_df(mdply(m, \n",
      "                       get_l2fc, \n",
      "                       .parallel = TRUE, \n",
      "                       physeq.obj = physeq.heavy))\n",
      "df.l2fc"
     ],
     "language": "python",
     "metadata": {},
     "outputs": [
      {
       "metadata": {},
       "output_type": "display_data",
       "text": [
        "Source: local data frame [4,640 x 14]\n",
        "\n",
        "   Day    OTU log2FoldChange     lfcSE Rank1 Rank2      Rank3          Rank4\n",
        "1    3 OTU.33      0.2200029 0.5147938  Root Fungi Zygomycota Mucoromycotina\n",
        "2    3 OTU.57      0.1871753 1.7363765  Root Fungi Ascomycota Pezizomycotina\n",
        "3    3  OTU.2      1.2427068 0.3516070  Root Fungi Ascomycota Pezizomycotina\n",
        "4    3 OTU.40     -1.6628734 0.3508260  Root Fungi Ascomycota Pezizomycotina\n",
        "5    3  OTU.5     -0.1814598 0.5007064  Root Fungi Ascomycota Pezizomycotina\n",
        "6    3 OTU.80     -0.9462401 0.4268439  Root Fungi Ascomycota Pezizomycotina\n",
        "7    3  OTU.7      2.8379201 0.4067251  Root Fungi Ascomycota Pezizomycotina\n",
        "8    3  OTU.3     -0.2292293 0.3024772  Root Fungi Ascomycota Pezizomycotina\n",
        "9    3  OTU.4      1.6729646 0.5405250  Root Fungi Ascomycota Pezizomycotina\n",
        "10   3 OTU.10     -0.8701737 0.2785215  Root Fungi Ascomycota Pezizomycotina\n",
        ".. ...    ...            ...       ...   ...   ...        ...            ...\n",
        "Variables not shown: Rank5 (fctr), Rank6 (fctr), Rank7 (fctr), Rank8 (fctr),\n",
        "  Rank9 (fctr), Rank10 (fctr)\n"
       ]
      }
     ],
     "prompt_number": 18
    },
    {
     "cell_type": "markdown",
     "metadata": {},
     "source": [
      "#### Finding l2fc threshold as defined by 1 sd away from the mean l2fc for RNA/DNA combined"
     ]
    },
    {
     "cell_type": "code",
     "collapsed": false,
     "input": [
      "%%R\n",
      "summarise(ungroup(df.l2fc),\n",
      "  meanl2fc = mean(log2FoldChange, na.rm = TRUE))"
     ],
     "language": "python",
     "metadata": {},
     "outputs": [
      {
       "metadata": {},
       "output_type": "display_data",
       "text": [
        "Source: local data frame [1 x 1]\n",
        "\n",
        "   meanl2fc\n",
        "1 0.2676969\n"
       ]
      }
     ],
     "prompt_number": 19
    },
    {
     "cell_type": "code",
     "collapsed": false,
     "input": [
      "%%R\n",
      "summarise(ungroup(df.l2fc),\n",
      "  sdl2fc = sd(log2FoldChange, na.rm = TRUE))"
     ],
     "language": "python",
     "metadata": {},
     "outputs": [
      {
       "metadata": {},
       "output_type": "display_data",
       "text": [
        "Source: local data frame [1 x 1]\n",
        "\n",
        "    sdl2fc\n",
        "1 2.207385\n"
       ]
      }
     ],
     "prompt_number": 20
    },
    {
     "cell_type": "markdown",
     "metadata": {},
     "source": [
      "#### log2fold change threshold set at 2.5"
     ]
    },
    {
     "cell_type": "markdown",
     "metadata": {},
     "source": [
      "####Now get sparsity info for each OTU"
     ]
    },
    {
     "cell_type": "code",
     "collapsed": false,
     "input": [
      "%%R\n",
      "mdf.heavy = tbl_df(psmelt(physeq.heavy))"
     ],
     "language": "python",
     "metadata": {},
     "outputs": [],
     "prompt_number": 21
    },
    {
     "cell_type": "code",
     "collapsed": false,
     "input": [
      "%%R\n",
      "sparsity.df = mdf.heavy %>%\n",
      "    group_by(OTU, Day, RNA_DNA) %>%\n",
      "    summarize(sparsity = sum(Abundance > 0) / length(Abundance)) %>%\n",
      "    #filter(Treatment == \"13CCPS\") %>%\n",
      "    select(OTU, Day, RNA_DNA, sparsity)\n",
      "\n",
      "sparsity.df"
     ],
     "language": "python",
     "metadata": {},
     "outputs": [
      {
       "metadata": {},
       "output_type": "display_data",
       "text": [
        "Source: local data frame [4,640 x 4]\n",
        "Groups: OTU, Day\n",
        "\n",
        "         OTU Day RNA_DNA   sparsity\n",
        "1      OTU.1   3     DNA 1.00000000\n",
        "2      OTU.1   7     DNA 1.00000000\n",
        "3      OTU.1  14     DNA 1.00000000\n",
        "4      OTU.1  30     DNA 1.00000000\n",
        "5     OTU.10   3     DNA 1.00000000\n",
        "6     OTU.10   7     DNA 1.00000000\n",
        "7     OTU.10  14     DNA 1.00000000\n",
        "8     OTU.10  30     DNA 1.00000000\n",
        "9  OTU.10011   3     DNA 0.05263158\n",
        "10 OTU.10011   7     DNA 0.00000000\n",
        "..       ... ...     ...        ...\n"
       ]
      }
     ],
     "prompt_number": 22
    },
    {
     "cell_type": "markdown",
     "metadata": {},
     "source": [
      "####Add sparsity information to l2fc table"
     ]
    },
    {
     "cell_type": "code",
     "collapsed": false,
     "input": [
      "%%R\n",
      "df.l2fc = left_join(df.l2fc, sparsity.df)"
     ],
     "language": "python",
     "metadata": {},
     "outputs": [
      {
       "metadata": {},
       "output_type": "display_data",
       "text": [
        "Joining by: c(\"Day\", \"OTU\")\n"
       ]
      }
     ],
     "prompt_number": 23
    },
    {
     "cell_type": "markdown",
     "metadata": {},
     "source": [
      "####Add p-values to l2fc table"
     ]
    },
    {
     "cell_type": "code",
     "collapsed": false,
     "input": [
      "%%R\n",
      "l2fc.threshold = 2.5\n",
      "df.l2fc$p = with(df.l2fc, pnorm(log2FoldChange, l2fc.threshold, lfcSE, lower.tail = FALSE))"
     ],
     "language": "python",
     "metadata": {},
     "outputs": [],
     "prompt_number": 24
    },
    {
     "cell_type": "markdown",
     "metadata": {},
     "source": [
      "####Plot sparsity threshold versus number of adjusted p-values less than FDR"
     ]
    },
    {
     "cell_type": "code",
     "collapsed": false,
     "input": [
      "%%R -w 350 -h 500\n",
      "FDR = 0.10\n",
      "\n",
      "count_sig = function(df, sparsity.threshold) {\n",
      "    d = df %>%\n",
      "            filter(sparsity >= sparsity.threshold) %>%\n",
      "            mutate(padj = p.adjust(p, method = \"BH\"))%>% \n",
      "            summarize(sum_pass_FDR = sum(padj <= FDR))\n",
      "    d\n",
      "}\n",
      "\n",
      "thresh = seq(0.05, 0.95, 0.05)\n",
      "names(thresh) = thresh\n",
      "\n",
      "d.sparsity = ldply(thresh, count_sig, .id = \"sparsity.threshold\", df = df.l2fc)\n",
      "d.sparsity$sparsity.threshold = as.numeric(as.character(d.sparsity$sparsity.threshold))\n",
      "\n",
      "p = ggplot(d.sparsity, aes(x = sparsity.threshold, y = sum_pass_FDR))\n",
      "\n",
      "#p = p + facet_wrap(~RNA_DNA, ncol = 1, scales = \"free_y\")\n",
      "\n",
      "p = p + geom_point(size = 4, shape = 21, color = \"blue\")\n",
      "\n",
      "p = p + geom_vline(x = 0.35)\n",
      "\n",
      "p = p + theme_bw()\n",
      "    \n",
      "p = p + theme(axis.text = element_text(size = 14),\n",
      "              axis.title = element_text(size = 14),\n",
      "              strip.text = element_text(size = 14),\n",
      "              strip.background = element_blank())\n",
      "\n",
      "p"
     ],
     "language": "python",
     "metadata": {},
     "outputs": [
      {
       "metadata": {},
       "output_type": "display_data",
       "png": "[encoded data removed]"
      }
     ],
     "prompt_number": 26
    },
    {
     "cell_type": "markdown",
     "metadata": {},
     "source": [
      "####Remove OTU/Day/RNA_DNA rows below sparsity threshold and add adjusted p-value to l2fc table "
     ]
    },
    {
     "cell_type": "code",
     "collapsed": false,
     "input": [
      "%%R\n",
      "sparsity.threshold = 0.35\n",
      "df.l2fc = df.l2fc %>% \n",
      "    filter(sparsity >= sparsity.threshold) %>%\n",
      "    mutate(padj = p.adjust(p, method = \"BH\"))\n",
      "df.l2fc"
     ],
     "language": "python",
     "metadata": {},
     "outputs": [
      {
       "metadata": {},
       "output_type": "display_data",
       "text": [
        "Source: local data frame [1,066 x 18]\n",
        "\n",
        "   Day    OTU log2FoldChange     lfcSE Rank1 Rank2      Rank3          Rank4\n",
        "1    3 OTU.33      0.2200029 0.5147938  Root Fungi Zygomycota Mucoromycotina\n",
        "2    3  OTU.2      1.2427068 0.3516070  Root Fungi Ascomycota Pezizomycotina\n",
        "3    3 OTU.40     -1.6628734 0.3508260  Root Fungi Ascomycota Pezizomycotina\n",
        "4    3  OTU.5     -0.1814598 0.5007064  Root Fungi Ascomycota Pezizomycotina\n",
        "5    3 OTU.80     -0.9462401 0.4268439  Root Fungi Ascomycota Pezizomycotina\n",
        "6    3  OTU.7      2.8379201 0.4067251  Root Fungi Ascomycota Pezizomycotina\n",
        "7    3  OTU.3     -0.2292293 0.3024772  Root Fungi Ascomycota Pezizomycotina\n",
        "8    3  OTU.4      1.6729646 0.5405250  Root Fungi Ascomycota Pezizomycotina\n",
        "9    3 OTU.10     -0.8701737 0.2785215  Root Fungi Ascomycota Pezizomycotina\n",
        "10   3 OTU.16      0.5731812 0.2262407  Root Fungi Ascomycota Pezizomycotina\n",
        ".. ...    ...            ...       ...   ...   ...        ...            ...\n",
        "Variables not shown: Rank5 (fctr), Rank6 (fctr), Rank7 (fctr), Rank8 (fctr),\n",
        "  Rank9 (fctr), Rank10 (fctr), RNA_DNA (fctr), sparsity (dbl), p (dbl), padj\n",
        "  (dbl)\n"
       ]
      }
     ],
     "prompt_number": 27
    },
    {
     "cell_type": "code",
     "collapsed": false,
     "input": [
      "%%R\n",
      "write.table(df.l2fc, \"data/l2fc_new.csv\", row.names = FALSE, sep = \",\")\n",
      "df.l2fc"
     ],
     "language": "python",
     "metadata": {},
     "outputs": [
      {
       "metadata": {},
       "output_type": "display_data",
       "text": [
        "Source: local data frame [1,066 x 18]\n",
        "\n",
        "   Day    OTU log2FoldChange     lfcSE Rank1 Rank2      Rank3          Rank4\n",
        "1    3 OTU.33      0.2200029 0.5147938  Root Fungi Zygomycota Mucoromycotina\n",
        "2    3  OTU.2      1.2427068 0.3516070  Root Fungi Ascomycota Pezizomycotina\n",
        "3    3 OTU.40     -1.6628734 0.3508260  Root Fungi Ascomycota Pezizomycotina\n",
        "4    3  OTU.5     -0.1814598 0.5007064  Root Fungi Ascomycota Pezizomycotina\n",
        "5    3 OTU.80     -0.9462401 0.4268439  Root Fungi Ascomycota Pezizomycotina\n",
        "6    3  OTU.7      2.8379201 0.4067251  Root Fungi Ascomycota Pezizomycotina\n",
        "7    3  OTU.3     -0.2292293 0.3024772  Root Fungi Ascomycota Pezizomycotina\n",
        "8    3  OTU.4      1.6729646 0.5405250  Root Fungi Ascomycota Pezizomycotina\n",
        "9    3 OTU.10     -0.8701737 0.2785215  Root Fungi Ascomycota Pezizomycotina\n",
        "10   3 OTU.16      0.5731812 0.2262407  Root Fungi Ascomycota Pezizomycotina\n",
        ".. ...    ...            ...       ...   ...   ...        ...            ...\n",
        "Variables not shown: Rank5 (fctr), Rank6 (fctr), Rank7 (fctr), Rank8 (fctr),\n",
        "  Rank9 (fctr), Rank10 (fctr), RNA_DNA (fctr), sparsity (dbl), p (dbl), padj\n",
        "  (dbl)\n"
       ]
      }
     ],
     "prompt_number": 29
    },
    {
     "cell_type": "code",
     "collapsed": false,
     "input": [
      "%%R -w 1200 -h 600\n",
      "d = df.l2fc\n",
      "FDR = 0.10\n",
      "\n",
      "d$Rank2 = as.character(d$Rank3)\n",
      "d$Rank2[is.na(d$Rank3)] = \"unclassified\"\n",
      "d$Rank2 = factor(d$Rank3)\n",
      "\n",
      "max.l2fc = ddply(d, .(Rank3), summarize, M = max(log2FoldChange))\n",
      "d$Rank2 = factor(d$Rank2, max.l2fc[order(-max.l2fc$M),]$Rank3)\n",
      "\n",
      "M = max(as.numeric(d$Rank3), na.rm = TRUE) + 1\n",
      "d$x = as.numeric(d$Rank3)\n",
      "d$x[is.na(d$x)] = M\n",
      "d$x.jitter = d$x + runif(length(d$x), -1, 1) * 0.2\n",
      "\n",
      "colourCount = length(unique(d$Rank3)) + 1\n",
      "getPalette = colorRampPalette(brewer.pal(10, \"Dark2\"))\n",
      "\n",
      "p = ggplot(d, aes(x = x.jitter, y = log2FoldChange, color = Rank3))\n",
      "p = p + facet_wrap(~Day, nrow=1, ncol=4)\n",
      "\n",
      "p = p + geom_point(alpha = 1.00, shape = 21, size = 1.5)\n",
      "\n",
      "p = p + scale_color_manual(values = getPalette(colourCount))\n",
      "\n",
      "p = p + geom_point(data = subset(d, padj <= FDR), color = \"black\", shape = 4, size = 2)\n",
      "\n",
      "p = p + geom_hline(y = l2fc.threshold)\n",
      "\n",
      "p = p + theme_bw()\n",
      "\n",
      "p = p + theme(axis.text.x = element_blank())\n",
      "\n",
      "p = p + labs(x = \"Phylum\", color = \"Phylum\")\n",
      "\n",
      "p = p + guides(col = guide_legend(ncol = 2))\n",
      "\n",
      "p = p + labs(y = expression(paste(\"\", log[2],\" Fold Change\",sep=\"\")))\n",
      "\n",
      "p = p + guides(colour = guide_legend(override.aes = list(size=4)))\n",
      "\n",
      "p"
     ],
     "language": "python",
     "metadata": {},
     "outputs": [
      {
       "metadata": {},
       "output_type": "display_data",
       "png": "[encoded data removed]"
      }
     ],
     "prompt_number": 37
    },
    {
     "cell_type": "code",
     "collapsed": false,
     "input": [
      "%%R\n",
      "\n",
      "#OTUS that are responders by day\n",
      "Day3 = filter(df.l2fc, Day == 3, padj <=0.10)\n",
      "Day7 = filter(df.l2fc, Day == 7, padj <=0.10)\n",
      "Day14 = filter(df.l2fc, Day == 14, padj <=0.10)\n",
      "Day30 = filter(df.l2fc, Day == 30, padj <=0.10)\n",
      "\n",
      "print(length(Day3$OTU))\n",
      "print(length(Day7$OTU))\n",
      "print(length(Day14$OTU))\n",
      "print(length(Day30$OTU))\n"
     ],
     "language": "python",
     "metadata": {},
     "outputs": [
      {
       "metadata": {},
       "output_type": "display_data",
       "text": [
        "[1] 3\n",
        "[1] 21\n",
        "[1] 38\n",
        "[1] 32\n"
       ]
      }
     ],
     "prompt_number": 30
    },
    {
     "cell_type": "code",
     "collapsed": false,
     "input": [
      "%%R\n",
      "d = df.l2fc %>%\n",
      "          group_by(Day) %>%\n",
      "          summarize(responders = sum(padj <= 0.10))\n",
      "\n",
      "px = ggplot(d, aes(x = factor(Day), y = responders, fill = factor(Day)))\n",
      "\n",
      "px = px + geom_bar(stat = \"identity\", position = \"dodge\")\n",
      "\n",
      "px = px + theme_bw()\n",
      "\n",
      "px = px + xlab(\"Day\") + ylab(\"Responders\")\n",
      "\n",
      "\n",
      "px"
     ],
     "language": "python",
     "metadata": {},
     "outputs": [
      {
       "metadata": {},
       "output_type": "display_data",
       "png": "[encoded data removed]"
      }
     ],
     "prompt_number": 35
    },
    {
     "cell_type": "code",
     "collapsed": false,
     "input": [
      "%%R\n",
      "ggsave(filename = \"data/figs/l2fc_histogram\", plot = px, width = 12, height = 7)"
     ],
     "language": "python",
     "metadata": {},
     "outputs": [],
     "prompt_number": 77
    },
    {
     "cell_type": "code",
     "collapsed": false,
     "input": [
      "%%R -w 300 -h 200\n",
      "FDR = 0.10\n",
      "DNAresp = df.l2fc %.% \n",
      "                filter(RNA_DNA == \"DNA\", padj <= FDR) %>% \n",
      "                select(log2FoldChange, Day, padj, OTU, Rank2)%>%\n",
      "                ungroup()\n",
      "colnames(DNAresp)[2] = \"DNA_l2fc\"\n",
      "colnames(DNAresp)[4] = \"DNA_padj\"  \n",
      "\n",
      "RNAnonresp = df.l2fc %.% \n",
      "                filter(RNA_DNA == \"RNA\", padj >= FDR) %>% \n",
      "                select(log2FoldChange, Day, padj, OTU)%>%\n",
      "                ungroup()\n",
      "colnames(RNAnonresp)[2] = \"RNA_l2fc\"  \n",
      "colnames(RNAnonresp)[4] = \"RNA_padj\"  \n",
      "\n",
      "d.DNAresp = left_join(DNAresp, RNAnonresp, by = c(\"OTU\", \"Day\")) %>% filter(!is.na(RNA_l2fc))"
     ],
     "language": "python",
     "metadata": {},
     "outputs": []
    },
    {
     "cell_type": "code",
     "collapsed": false,
     "input": [
      "%%R\n",
      "print(length(unique(d.DNAresp$OTU)))"
     ],
     "language": "python",
     "metadata": {},
     "outputs": []
    },
    {
     "cell_type": "code",
     "collapsed": false,
     "input": [
      "%%R -w 300 -h 200\n",
      "FDR = 0.10\n",
      "DNAnonresp = df.l2fc %.% \n",
      "                filter(RNA_DNA == \"DNA\", padj >= FDR) %>% \n",
      "                select(log2FoldChange, Day, padj, OTU, Rank2)%>%\n",
      "                ungroup()\n",
      "colnames(DNAnonresp)[2] = \"DNA_l2fc\"\n",
      "colnames(DNAnonresp)[4] = \"DNA_padj\"  \n",
      "\n",
      "RNAnonresp = df.l2fc %.% \n",
      "                filter(RNA_DNA == \"RNA\", padj >= FDR) %>% \n",
      "                select(log2FoldChange, Day, padj, OTU)%>%\n",
      "                ungroup()\n",
      "colnames(RNAnonresp)[2] = \"RNA_l2fc\"  \n",
      "colnames(RNAnonresp)[4] = \"RNA_padj\"  \n",
      "\n",
      "nonresp = left_join(DNAnonresp, RNAnonresp, by = c(\"OTU\", \"Day\")) %>% filter(!is.na(RNA_l2fc), !is.na(DNA_l2fc))"
     ],
     "language": "python",
     "metadata": {},
     "outputs": []
    },
    {
     "cell_type": "code",
     "collapsed": false,
     "input": [
      "%%R\n",
      "print(length(unique(nonresp$OTU)))\n"
     ],
     "language": "python",
     "metadata": {},
     "outputs": []
    },
    {
     "cell_type": "code",
     "collapsed": false,
     "input": [
      "%%R -w 300 -h 200\n",
      "FDR = 0.10\n",
      "DNAresp = df.l2fc %.% \n",
      "                filter(RNA_DNA == \"DNA\", padj <= FDR) %>% \n",
      "                select(log2FoldChange, Day, padj, OTU, Rank2)%>%\n",
      "                ungroup()\n",
      "colnames(DNAresp)[2] = \"DNA_l2fc\"\n",
      "colnames(DNAresp)[4] = \"DNA_padj\"  \n",
      "\n",
      "RNAresp = df.l2fc %.% \n",
      "                filter(RNA_DNA == \"RNA\", padj <= FDR) %>% \n",
      "                select(log2FoldChange, Day, padj, OTU)%>%\n",
      "                ungroup()\n",
      "colnames(RNAresp)[2] = \"RNA_l2fc\"  \n",
      "colnames(RNAresp)[4] = \"RNA_padj\"  \n",
      "\n",
      "resp = left_join(DNAresp, RNAresp, by = c(\"OTU\", \"Day\")) %>% filter(!is.na(RNA_l2fc), !is.na(DNA_l2fc))"
     ],
     "language": "python",
     "metadata": {},
     "outputs": []
    },
    {
     "cell_type": "code",
     "collapsed": false,
     "input": [
      "%%R\n",
      "print(length(unique(resp$OTU)))"
     ],
     "language": "python",
     "metadata": {},
     "outputs": []
    },
    {
     "cell_type": "code",
     "collapsed": false,
     "input": [
      "%%R\n",
      "mult_OTUs = group_by(resp, OTU)\n",
      "mult_OTUs = summarise(mult_OTUs,\n",
      "  count = n())\n",
      "mult_OTUs = filter(mult_OTUs, count >1)\n",
      "\n",
      "mult_OTUs = mult_OTUs$OTU\n",
      "\n",
      "mult = resp %>%\n",
      "                    filter(OTU %in% mult_OTUs) %>%\n",
      "                    arrange(OTU)\n",
      "\n",
      "mult"
     ],
     "language": "python",
     "metadata": {},
     "outputs": []
    },
    {
     "cell_type": "markdown",
     "metadata": {},
     "source": [
      "## Blasting against Living Tree Project db"
     ]
    },
    {
     "cell_type": "code",
     "collapsed": false,
     "input": [
      "from Bio.Blast.Applications import NcbiblastnCommandline as blast"
     ],
     "language": "python",
     "metadata": {},
     "outputs": []
    },
    {
     "cell_type": "code",
     "collapsed": false,
     "input": [
      "from cogent import LoadSeqs, DNA\n"
     ],
     "language": "python",
     "metadata": {},
     "outputs": []
    },
    {
     "cell_type": "code",
     "collapsed": false,
     "input": [
      "OTU_ids = [\"OTU.162\", \"OTU.239\", \"OTU.2456\", \"OTU.256\", \"OTU.3194\", \"OTU.80\"]\n",
      "seqs = LoadSeqs(\"/home/chantal/RNASIP/data/totalRNA.otusn.fasta\", moltype=DNA, aligned=False)\n",
      "seqs = seqs.takeSeqs(OTU_ids).toFasta()\n",
      "print seqs"
     ],
     "language": "python",
     "metadata": {},
     "outputs": []
    },
    {
     "cell_type": "code",
     "collapsed": false,
     "input": [
      "my_file = open(\"seqs.fasta\", \"w\")\n",
      "my_file.write(seqs)\n",
      "my_file.close()"
     ],
     "language": "python",
     "metadata": {},
     "outputs": []
    },
    {
     "cell_type": "code",
     "collapsed": false,
     "input": [
      "cline = blast(query = \"seqs.fasta\",\n",
      "              db = \"/var/seq_data/silva/silva_blastdb/silva_RefNR_115\",\n",
      "              outfmt = 6,\n",
      "              out = \"otusn_silvaRefNR115.m6\",\n",
      "              num_threads = 5)\n",
      "print cline\n",
      "cline()"
     ],
     "language": "python",
     "metadata": {},
     "outputs": []
    },
    {
     "cell_type": "code",
     "collapsed": false,
     "input": [
      "!head -n1 otusn_silvaRefNR115.m6\n",
      "!wc -l otusn_silvaRefNR115.m6\n",
      "! grep -c \"OTU.80\" otusn_silvaRefNR115.m6"
     ],
     "language": "python",
     "metadata": {},
     "outputs": []
    },
    {
     "cell_type": "code",
     "collapsed": false,
     "input": [
      "from IPython.display import Image\n",
      "import pandas.rpy.common as com"
     ],
     "language": "python",
     "metadata": {},
     "outputs": []
    },
    {
     "cell_type": "code",
     "collapsed": false,
     "input": [
      "%%R\n",
      "library(data.table)\n",
      "library(dplyr)"
     ],
     "language": "python",
     "metadata": {},
     "outputs": []
    },
    {
     "cell_type": "code",
     "collapsed": false,
     "input": [
      "%%R\n",
      "blastout_dt = fread(\"otusn_silvaRefNR115.m6\")\n",
      "blastout_df = tbl_df(blastout_dt)\n",
      "colnames(blastout_df) = c(\"OTU\",\n",
      "                        \"acc\",\n",
      "                        \"pid\",\n",
      "                        \"aln.length\",\n",
      "                        \"mismatches\",\n",
      "                        \"gapOpenCount\",\n",
      "                        \"qstart\",\n",
      "                        \"qend\",\n",
      "                        \"sstart\",\n",
      "                        \"send\",\n",
      "                        \"e.value\",\n",
      "                        \"bit.score\")\n",
      "\n",
      "top_hits_df_LTP = blastout_df %>% \n",
      "                          group_by(OTU) %>% \n",
      "                          mutate(Rank = rank(desc(bit.score), ties.method = \"min\")) %>% \n",
      "                          filter(pid > 97.0) %>%\n",
      "                          filter(e.value < 5.0e-180) %>%\n",
      "                          filter(acc %in% c('AM286414', 'AB428568', 'EU877263', 'EF575565', 'EF494193', 'X82449'))"
     ],
     "language": "python",
     "metadata": {},
     "outputs": []
    },
    {
     "cell_type": "code",
     "collapsed": false,
     "input": [
      "%%R\n",
      "print(head(top_hits_df_LTP))\n",
      "str(top_hits_df_LTP$OTU)"
     ],
     "language": "python",
     "metadata": {},
     "outputs": []
    },
    {
     "cell_type": "code",
     "collapsed": false,
     "input": [
      "%%R\n",
      "dt = fread(\"/var/seq_data/LTP115_db/LTPs115_SSU.csv\", sep = \";\")\n",
      "colnames(dt) = c(\"acc\",\"start\",\"end\",\"DB.version\",\"name\",\"unknown1\",\"family\",\"unknown2\",\"url\",\"full_tax\")\n",
      "LTP_seq_data = tbl_df(dt)"
     ],
     "language": "python",
     "metadata": {},
     "outputs": []
    },
    {
     "cell_type": "code",
     "collapsed": false,
     "input": [
      "%%R\n",
      "joined_df = left_join(top_hits_df_LTP, LTP_seq_data)"
     ],
     "language": "python",
     "metadata": {},
     "outputs": []
    },
    {
     "cell_type": "code",
     "collapsed": false,
     "input": [
      "%%R\n",
      "joined_df = filter(joined_df, name != \"NA\")"
     ],
     "language": "python",
     "metadata": {},
     "outputs": []
    },
    {
     "cell_type": "code",
     "collapsed": false,
     "input": [
      "%%R\n",
      "dim(joined_df)"
     ],
     "language": "python",
     "metadata": {},
     "outputs": []
    },
    {
     "cell_type": "code",
     "collapsed": false,
     "input": [
      "df = com.load_data(\"joined_df\")"
     ],
     "language": "python",
     "metadata": {},
     "outputs": []
    },
    {
     "cell_type": "code",
     "collapsed": false,
     "input": [
      "def get_latex(df):\n",
      "    latex = \"\"\n",
      "    prefix = r\"\\multirow{%s}{*}{%s}\"%(len(df.index), df.OTU.iloc[0])\n",
      "    for i, r in df[[\"name\",\"pid\",\"acc\"]].iterrows():\n",
      "        latex += \" & \" + \" & \".join([str(i) for i in r.values]) + r\" \\\\ \"\n",
      "    return prefix + latex + r\"\\midrule\" + \"\\n\""
     ],
     "language": "python",
     "metadata": {},
     "outputs": []
    },
    {
     "cell_type": "code",
     "collapsed": false,
     "input": [
      "s = df.groupby(\"OTU\").apply(get_latex)\n",
      "\n",
      "table_framework = r\"\"\"\n",
      "\\documentclass[11pt]{article}\n",
      "\\usepackage{multirow, array, booktabs}\n",
      "\\begin{document}\n",
      "\n",
      "\\thispagestyle{empty}\n",
      " \n",
      "\\begin{table}[ht]\n",
      "\\caption{$^{13}$C RNA responders BLAST against Living Tree Project}\n",
      "\\begin{center}\n",
      "\\begin{tabular}{l>{\\itshape}lrl}\n",
      "    \\toprule \\\\\n",
      "    \\textbf{OTU ID} & \\textbf{Species Name} & \\textbf{BLAST percent identity} & \\textbf{accession} \\\\\n",
      "    \\midrule\n",
      "    %s\n",
      "    \\bottomrule\n",
      "\\end{tabular}\n",
      "\\end{center}\n",
      "\\label{tab:multicol}\n",
      "\\end{table}\n",
      " \n",
      "\\end{document}\"\"\"%\"\".join(s.values)\n",
      "\n",
      "with open(\"../data/tmp/table.tex\", \"w\") as out:\n",
      "    out.write(table_framework)"
     ],
     "language": "python",
     "metadata": {},
     "outputs": []
    },
    {
     "cell_type": "code",
     "collapsed": false,
     "input": [
      "!latex -output-directory=\"../data/tmp\" ../data/tmp/table.tex >/dev/null 2>&1 && \\\n",
      "dvipng -o ../data/table.png ../data/tmp/table.dvi >/dev/null 2>&1\n",
      "Image(\"../data/table.png\")"
     ],
     "language": "python",
     "metadata": {},
     "outputs": []
    }
   ],
   "metadata": {}
  }
 ]
}