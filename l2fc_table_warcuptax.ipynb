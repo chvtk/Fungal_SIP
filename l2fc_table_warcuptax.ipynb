{
 "cells": [
  {
   "cell_type": "code",
   "execution_count": 1,
   "metadata": {
    "collapsed": false
   },
   "outputs": [],
   "source": [
    "%load_ext rpy2.ipython"
   ]
  },
  {
   "cell_type": "code",
   "execution_count": 2,
   "metadata": {
    "collapsed": false
   },
   "outputs": [
    {
     "name": "stderr",
     "output_type": "stream",
     "text": [
      "/opt/anaconda/lib/python2.7/site-packages/rpy2/robjects/functions.py:106: UserWarning: \n",
      "Attaching package: ‘dplyr’\n",
      "\n",
      "\n",
      "  res = super(Function, self).__call__(*new_args, **new_kwargs)\n",
      "/opt/anaconda/lib/python2.7/site-packages/rpy2/robjects/functions.py:106: UserWarning: The following objects are masked from ‘package:plyr’:\n",
      "\n",
      "    arrange, count, desc, failwith, id, mutate, rename, summarise,\n",
      "    summarize\n",
      "\n",
      "\n",
      "  res = super(Function, self).__call__(*new_args, **new_kwargs)\n",
      "/opt/anaconda/lib/python2.7/site-packages/rpy2/robjects/functions.py:106: UserWarning: The following objects are masked from ‘package:stats’:\n",
      "\n",
      "    filter, lag\n",
      "\n",
      "\n",
      "  res = super(Function, self).__call__(*new_args, **new_kwargs)\n",
      "/opt/anaconda/lib/python2.7/site-packages/rpy2/robjects/functions.py:106: UserWarning: The following objects are masked from ‘package:base’:\n",
      "\n",
      "    intersect, setdiff, setequal, union\n",
      "\n",
      "\n",
      "  res = super(Function, self).__call__(*new_args, **new_kwargs)\n",
      "/opt/anaconda/lib/python2.7/site-packages/rpy2/robjects/functions.py:106: UserWarning: Loading required package: S4Vectors\n",
      "\n",
      "  res = super(Function, self).__call__(*new_args, **new_kwargs)\n",
      "/opt/anaconda/lib/python2.7/site-packages/rpy2/robjects/functions.py:106: UserWarning: Loading required package: stats4\n",
      "\n",
      "  res = super(Function, self).__call__(*new_args, **new_kwargs)\n",
      "/opt/anaconda/lib/python2.7/site-packages/rpy2/robjects/functions.py:106: UserWarning: Loading required package: BiocGenerics\n",
      "\n",
      "  res = super(Function, self).__call__(*new_args, **new_kwargs)\n",
      "/opt/anaconda/lib/python2.7/site-packages/rpy2/robjects/functions.py:106: UserWarning: Loading required package: parallel\n",
      "\n",
      "  res = super(Function, self).__call__(*new_args, **new_kwargs)\n",
      "/opt/anaconda/lib/python2.7/site-packages/rpy2/robjects/functions.py:106: UserWarning: \n",
      "Attaching package: ‘BiocGenerics’\n",
      "\n",
      "\n",
      "  res = super(Function, self).__call__(*new_args, **new_kwargs)\n",
      "/opt/anaconda/lib/python2.7/site-packages/rpy2/robjects/functions.py:106: UserWarning: The following objects are masked from ‘package:parallel’:\n",
      "\n",
      "    clusterApply, clusterApplyLB, clusterCall, clusterEvalQ,\n",
      "    clusterExport, clusterMap, parApply, parCapply, parLapply,\n",
      "    parLapplyLB, parRapply, parSapply, parSapplyLB\n",
      "\n",
      "\n",
      "  res = super(Function, self).__call__(*new_args, **new_kwargs)\n",
      "/opt/anaconda/lib/python2.7/site-packages/rpy2/robjects/functions.py:106: UserWarning: The following objects are masked from ‘package:dplyr’:\n",
      "\n",
      "    combine, intersect, setdiff, union\n",
      "\n",
      "\n",
      "  res = super(Function, self).__call__(*new_args, **new_kwargs)\n",
      "/opt/anaconda/lib/python2.7/site-packages/rpy2/robjects/functions.py:106: UserWarning: The following object is masked from ‘package:stats’:\n",
      "\n",
      "    xtabs\n",
      "\n",
      "\n",
      "  res = super(Function, self).__call__(*new_args, **new_kwargs)\n",
      "/opt/anaconda/lib/python2.7/site-packages/rpy2/robjects/functions.py:106: UserWarning: The following objects are masked from ‘package:base’:\n",
      "\n",
      "    anyDuplicated, append, as.data.frame, as.vector, cbind, colnames,\n",
      "    do.call, duplicated, eval, evalq, Filter, Find, get, intersect,\n",
      "    is.unsorted, lapply, Map, mapply, match, mget, order, paste, pmax,\n",
      "    pmax.int, pmin, pmin.int, Position, rank, rbind, Reduce, rep.int,\n",
      "    rownames, sapply, setdiff, sort, table, tapply, union, unique,\n",
      "    unlist, unsplit\n",
      "\n",
      "\n",
      "  res = super(Function, self).__call__(*new_args, **new_kwargs)\n",
      "/opt/anaconda/lib/python2.7/site-packages/rpy2/robjects/functions.py:106: UserWarning: \n",
      "Attaching package: ‘S4Vectors’\n",
      "\n",
      "\n",
      "  res = super(Function, self).__call__(*new_args, **new_kwargs)\n",
      "/opt/anaconda/lib/python2.7/site-packages/rpy2/robjects/functions.py:106: UserWarning: The following object is masked from ‘package:dplyr’:\n",
      "\n",
      "    rename\n",
      "\n",
      "\n",
      "  res = super(Function, self).__call__(*new_args, **new_kwargs)\n",
      "/opt/anaconda/lib/python2.7/site-packages/rpy2/robjects/functions.py:106: UserWarning: The following object is masked from ‘package:plyr’:\n",
      "\n",
      "    rename\n",
      "\n",
      "\n",
      "  res = super(Function, self).__call__(*new_args, **new_kwargs)\n",
      "/opt/anaconda/lib/python2.7/site-packages/rpy2/robjects/functions.py:106: UserWarning: Loading required package: IRanges\n",
      "\n",
      "  res = super(Function, self).__call__(*new_args, **new_kwargs)\n",
      "/opt/anaconda/lib/python2.7/site-packages/rpy2/robjects/functions.py:106: UserWarning: \n",
      "Attaching package: ‘IRanges’\n",
      "\n",
      "\n",
      "  res = super(Function, self).__call__(*new_args, **new_kwargs)\n",
      "/opt/anaconda/lib/python2.7/site-packages/rpy2/robjects/functions.py:106: UserWarning: The following objects are masked from ‘package:dplyr’:\n",
      "\n",
      "    collapse, desc, slice\n",
      "\n",
      "\n",
      "  res = super(Function, self).__call__(*new_args, **new_kwargs)\n",
      "/opt/anaconda/lib/python2.7/site-packages/rpy2/robjects/functions.py:106: UserWarning: The following object is masked from ‘package:plyr’:\n",
      "\n",
      "    desc\n",
      "\n",
      "\n",
      "  res = super(Function, self).__call__(*new_args, **new_kwargs)\n",
      "/opt/anaconda/lib/python2.7/site-packages/rpy2/robjects/functions.py:106: UserWarning: The following object is masked from ‘package:phyloseq’:\n",
      "\n",
      "    distance\n",
      "\n",
      "\n",
      "  res = super(Function, self).__call__(*new_args, **new_kwargs)\n",
      "/opt/anaconda/lib/python2.7/site-packages/rpy2/robjects/functions.py:106: UserWarning: Loading required package: GenomicRanges\n",
      "\n",
      "  res = super(Function, self).__call__(*new_args, **new_kwargs)\n",
      "/opt/anaconda/lib/python2.7/site-packages/rpy2/robjects/functions.py:106: UserWarning: Loading required package: GenomeInfoDb\n",
      "\n",
      "  res = super(Function, self).__call__(*new_args, **new_kwargs)\n",
      "/opt/anaconda/lib/python2.7/site-packages/rpy2/robjects/functions.py:106: UserWarning: Loading required package: Rcpp\n",
      "\n",
      "  res = super(Function, self).__call__(*new_args, **new_kwargs)\n",
      "/opt/anaconda/lib/python2.7/site-packages/rpy2/robjects/functions.py:106: UserWarning: Loading required package: RcppArmadillo\n",
      "\n",
      "  res = super(Function, self).__call__(*new_args, **new_kwargs)\n",
      "/opt/anaconda/lib/python2.7/site-packages/rpy2/robjects/functions.py:106: UserWarning: foreach: simple, scalable parallel programming from Revolution Analytics\n",
      "Use Revolution R for scalability, fault tolerance and more.\n",
      "http://www.revolutionanalytics.com\n",
      "\n",
      "  res = super(Function, self).__call__(*new_args, **new_kwargs)\n",
      "/opt/anaconda/lib/python2.7/site-packages/rpy2/robjects/functions.py:106: UserWarning: Loading required package: iterators\n",
      "\n",
      "  res = super(Function, self).__call__(*new_args, **new_kwargs)\n"
     ]
    }
   ],
   "source": [
    "%%R\n",
    "library(phyloseq)\n",
    "library(plyr); library(dplyr)\n",
    "library(DESeq2)\n",
    "library(foreach)\n",
    "library(doParallel)\n",
    "library(ggplot2)\n",
    "library(gridExtra)\n",
    "library(reshape2)\n",
    "library(RColorBrewer)"
   ]
  },
  {
   "cell_type": "markdown",
   "metadata": {},
   "source": [
    "####Read in sample metadata"
   ]
  },
  {
   "cell_type": "code",
   "execution_count": 3,
   "metadata": {
    "collapsed": false
   },
   "outputs": [],
   "source": [
    "%%R\n",
    "sample.md = read.table(\"data/Metadata_fungi.txt\", \n",
    "                comment.char = \"\",\n",
    "                header = TRUE,\n",
    "                colClasses = c(\"Density\" = \"numeric\"))\n",
    "rownames(sample.md) = as.character(sample.md[, 1])\n",
    "\n",
    "sample.md = sample_data(sample.md)"
   ]
  },
  {
   "cell_type": "markdown",
   "metadata": {},
   "source": [
    "####Read in OTU table"
   ]
  },
  {
   "cell_type": "code",
   "execution_count": 4,
   "metadata": {
    "collapsed": false
   },
   "outputs": [],
   "source": [
    "%%R\n",
    "physeq = import_biom(\"data/otu_table_war_wtax.biom\") "
   ]
  },
  {
   "cell_type": "markdown",
   "metadata": {},
   "source": [
    "####Add sample metadata to phyloseq object"
   ]
  },
  {
   "cell_type": "code",
   "execution_count": 5,
   "metadata": {
    "collapsed": false
   },
   "outputs": [
    {
     "data": {
      "text/plain": [
       "phyloseq-class experiment-level object\n",
       "otu_table()   OTU Table:         [ 1160 taxa and 173 samples ]\n",
       "sample_data() Sample Data:       [ 173 samples by 9 sample variables ]\n",
       "tax_table()   Taxonomy Table:    [ 1160 taxa by 10 taxonomic ranks ]\n"
      ]
     },
     "metadata": {},
     "output_type": "display_data"
    }
   ],
   "source": [
    "%%R\n",
    "sample_data(physeq) = sample.md\n",
    "physeq"
   ]
  },
  {
   "cell_type": "markdown",
   "metadata": {},
   "source": [
    "####Get heavy fractions from physeq object"
   ]
  },
  {
   "cell_type": "code",
   "execution_count": 6,
   "metadata": {
    "collapsed": false
   },
   "outputs": [],
   "source": [
    "%%R\n",
    "dna.density.min = 1.7125\n",
    "#rna.density.min = 1.825\n",
    "\n",
    "md = sample_data(physeq)\n",
    "criterion = md$Density >= with(md, dna.density.min)\n",
    "\n",
    "physeq.heavy = prune_samples(criterion, physeq)"
   ]
  },
  {
   "cell_type": "markdown",
   "metadata": {},
   "source": [
    "####Function for estimating fold change and standard error with DESeq2"
   ]
  },
  {
   "cell_type": "code",
   "execution_count": 7,
   "metadata": {
    "collapsed": false
   },
   "outputs": [],
   "source": [
    "%%R\n",
    "get_l2fc = function(physeq.obj, Day) {\n",
    "    physeq.md = sample_data(physeq.obj)\n",
    "    p = prune_samples(#physeq.md$RNA_DNA == RNA_DNA)&\n",
    "                      (physeq.md$Day == Day), physeq.obj)\n",
    "    dds = phyloseq_to_deseq2(p, ~Treatment)\n",
    "    dds = DESeq(dds, quiet = TRUE, fitType = \"local\")\n",
    "    r = results(dds, independentFiltering = FALSE)\n",
    "    r$OTU = rownames(r)\n",
    "    d = data.frame(r[, c(\"OTU\",\"log2FoldChange\", \"lfcSE\")])\n",
    "    TT = data.frame(tax_table(p))\n",
    "    TT$OTU = rownames(TT)\n",
    "    d = left_join(d, TT)\n",
    "    d\n",
    "}"
   ]
  },
  {
   "cell_type": "markdown",
   "metadata": {},
   "source": [
    "####Function arguments"
   ]
  },
  {
   "cell_type": "code",
   "execution_count": 8,
   "metadata": {
    "collapsed": false
   },
   "outputs": [
    {
     "data": {
      "text/plain": [
       "  Day\n",
       "1   3\n",
       "2   7\n",
       "3  14\n",
       "4  30\n"
      ]
     },
     "metadata": {},
     "output_type": "display_data"
    }
   ],
   "source": [
    "%%R\n",
    "m = expand.grid(Day = c(3, 7, 14, 30))\n",
    "m"
   ]
  },
  {
   "cell_type": "markdown",
   "metadata": {},
   "source": [
    "####mdply call with function arguments"
   ]
  },
  {
   "cell_type": "code",
   "execution_count": 9,
   "metadata": {
    "collapsed": false
   },
   "outputs": [
    {
     "name": "stderr",
     "output_type": "stream",
     "text": [
      "/opt/anaconda/lib/python2.7/site-packages/rpy2/robjects/functions.py:106: UserWarning: converting counts to integer mode\n",
      "\n",
      "  res = super(Function, self).__call__(*new_args, **new_kwargs)\n",
      "/opt/anaconda/lib/python2.7/site-packages/rpy2/robjects/functions.py:106: UserWarning: converting counts to integer mode\n",
      "\n",
      "  res = super(Function, self).__call__(*new_args, **new_kwargs)\n",
      "/opt/anaconda/lib/python2.7/site-packages/rpy2/robjects/functions.py:106: UserWarning: converting counts to integer mode\n",
      "\n",
      "  res = super(Function, self).__call__(*new_args, **new_kwargs)\n",
      "/opt/anaconda/lib/python2.7/site-packages/rpy2/robjects/functions.py:106: UserWarning: converting counts to integer mode\n",
      "\n",
      "  res = super(Function, self).__call__(*new_args, **new_kwargs)\n",
      "/opt/anaconda/lib/python2.7/site-packages/rpy2/robjects/functions.py:106: UserWarning: Joining by: \"OTU\"\n",
      "\n",
      "  res = super(Function, self).__call__(*new_args, **new_kwargs)\n",
      "/opt/anaconda/lib/python2.7/site-packages/rpy2/robjects/functions.py:106: UserWarning: Joining by: \"OTU\"\n",
      "\n",
      "  res = super(Function, self).__call__(*new_args, **new_kwargs)\n",
      "/opt/anaconda/lib/python2.7/site-packages/rpy2/robjects/functions.py:106: UserWarning: Joining by: \"OTU\"\n",
      "\n",
      "  res = super(Function, self).__call__(*new_args, **new_kwargs)\n",
      "/opt/anaconda/lib/python2.7/site-packages/rpy2/robjects/functions.py:106: UserWarning: Joining by: \"OTU\"\n",
      "\n",
      "  res = super(Function, self).__call__(*new_args, **new_kwargs)\n"
     ]
    },
    {
     "data": {
      "text/plain": [
       "Source: local data frame [4,640 x 14]\n",
       "\n",
       "     Day    OTU log2FoldChange     lfcSE  Rank1  Rank2      Rank3\n",
       "   (dbl)  (chr)          (dbl)     (dbl) (fctr) (fctr)     (fctr)\n",
       "1      3 OTU.33      0.2200029 0.5147938   Root  Fungi Zygomycota\n",
       "2      3 OTU.57      0.1871753 1.7363765   Root  Fungi Ascomycota\n",
       "3      3  OTU.2      1.2427068 0.3516070   Root  Fungi Ascomycota\n",
       "4      3 OTU.40     -1.6628734 0.3508260   Root  Fungi Ascomycota\n",
       "5      3  OTU.5     -0.1814598 0.5007064   Root  Fungi Ascomycota\n",
       "6      3 OTU.80     -0.9462401 0.4268439   Root  Fungi Ascomycota\n",
       "7      3  OTU.7      2.8379201 0.4067251   Root  Fungi Ascomycota\n",
       "8      3  OTU.3     -0.2292293 0.3024772   Root  Fungi Ascomycota\n",
       "9      3  OTU.4      1.6729646 0.5405250   Root  Fungi Ascomycota\n",
       "10     3 OTU.10     -0.8701737 0.2785215   Root  Fungi Ascomycota\n",
       "..   ...    ...            ...       ...    ...    ...        ...\n",
       "Variables not shown: Rank4 (fctr), Rank5 (fctr), Rank6 (fctr), Rank7 (fctr),\n",
       "  Rank8 (fctr), Rank9 (fctr), Rank10 (fctr)\n"
      ]
     },
     "metadata": {},
     "output_type": "display_data"
    }
   ],
   "source": [
    "%%R\n",
    "registerDoParallel(8)\n",
    "\n",
    "df.l2fc = tbl_df(mdply(m, \n",
    "                       get_l2fc, \n",
    "                       .parallel = TRUE, \n",
    "                       physeq.obj = physeq.heavy))\n",
    "df.l2fc"
   ]
  },
  {
   "cell_type": "markdown",
   "metadata": {},
   "source": [
    "#### Finding l2fc threshold as defined by 1 sd away from the mean l2fc for RNA/DNA combined"
   ]
  },
  {
   "cell_type": "code",
   "execution_count": 10,
   "metadata": {
    "collapsed": false
   },
   "outputs": [
    {
     "data": {
      "text/plain": [
       "Source: local data frame [1 x 1]\n",
       "\n",
       "   meanl2fc\n",
       "      (dbl)\n",
       "1 0.2676969\n"
      ]
     },
     "metadata": {},
     "output_type": "display_data"
    }
   ],
   "source": [
    "%%R\n",
    "summarise(ungroup(df.l2fc),\n",
    "  meanl2fc = mean(log2FoldChange, na.rm = TRUE))"
   ]
  },
  {
   "cell_type": "code",
   "execution_count": 11,
   "metadata": {
    "collapsed": false
   },
   "outputs": [
    {
     "data": {
      "text/plain": [
       "Source: local data frame [1 x 1]\n",
       "\n",
       "    sdl2fc\n",
       "     (dbl)\n",
       "1 2.207385\n"
      ]
     },
     "metadata": {},
     "output_type": "display_data"
    }
   ],
   "source": [
    "%%R\n",
    "summarise(ungroup(df.l2fc),\n",
    "  sdl2fc = sd(log2FoldChange, na.rm = TRUE))"
   ]
  },
  {
   "cell_type": "markdown",
   "metadata": {},
   "source": [
    "#### log2fold change threshold set at 2.5"
   ]
  },
  {
   "cell_type": "markdown",
   "metadata": {},
   "source": [
    "####Now get sparsity info for each OTU"
   ]
  },
  {
   "cell_type": "code",
   "execution_count": 12,
   "metadata": {
    "collapsed": false
   },
   "outputs": [],
   "source": [
    "%%R\n",
    "mdf.heavy = tbl_df(psmelt(physeq.heavy))"
   ]
  },
  {
   "cell_type": "code",
   "execution_count": 13,
   "metadata": {
    "collapsed": false
   },
   "outputs": [
    {
     "data": {
      "text/plain": [
       "Source: local data frame [4,640 x 4]\n",
       "Groups: OTU, Day [4640]\n",
       "\n",
       "         OTU   Day RNA_DNA   sparsity\n",
       "       (chr) (int)  (fctr)      (dbl)\n",
       "1      OTU.1     3     DNA 1.00000000\n",
       "2      OTU.1     7     DNA 1.00000000\n",
       "3      OTU.1    14     DNA 1.00000000\n",
       "4      OTU.1    30     DNA 1.00000000\n",
       "5     OTU.10     3     DNA 1.00000000\n",
       "6     OTU.10     7     DNA 1.00000000\n",
       "7     OTU.10    14     DNA 1.00000000\n",
       "8     OTU.10    30     DNA 1.00000000\n",
       "9  OTU.10011     3     DNA 0.05263158\n",
       "10 OTU.10011     7     DNA 0.00000000\n",
       "..       ...   ...     ...        ...\n"
      ]
     },
     "metadata": {},
     "output_type": "display_data"
    }
   ],
   "source": [
    "%%R\n",
    "sparsity.df = mdf.heavy %>%\n",
    "    group_by(OTU, Day, RNA_DNA) %>%\n",
    "    summarize(sparsity = sum(Abundance > 0) / length(Abundance)) %>%\n",
    "    #filter(Treatment == \"13CCPS\") %>%\n",
    "    select(OTU, Day, RNA_DNA, sparsity)\n",
    "\n",
    "sparsity.df"
   ]
  },
  {
   "cell_type": "markdown",
   "metadata": {},
   "source": [
    "####Add sparsity information to l2fc table"
   ]
  },
  {
   "cell_type": "code",
   "execution_count": 14,
   "metadata": {
    "collapsed": false
   },
   "outputs": [
    {
     "name": "stderr",
     "output_type": "stream",
     "text": [
      "/opt/anaconda/lib/python2.7/site-packages/rpy2/robjects/functions.py:106: UserWarning: Joining by: c(\"Day\", \"OTU\")\n",
      "\n",
      "  res = super(Function, self).__call__(*new_args, **new_kwargs)\n"
     ]
    }
   ],
   "source": [
    "%%R\n",
    "df.l2fc = left_join(df.l2fc, sparsity.df)"
   ]
  },
  {
   "cell_type": "markdown",
   "metadata": {},
   "source": [
    "####Add p-values to l2fc table"
   ]
  },
  {
   "cell_type": "code",
   "execution_count": 15,
   "metadata": {
    "collapsed": false
   },
   "outputs": [],
   "source": [
    "%%R\n",
    "l2fc.threshold = 2.5\n",
    "df.l2fc$p = with(df.l2fc, pnorm(log2FoldChange, l2fc.threshold, lfcSE, lower.tail = FALSE))"
   ]
  },
  {
   "cell_type": "markdown",
   "metadata": {},
   "source": [
    "####Plot sparsity threshold versus number of adjusted p-values less than FDR"
   ]
  },
  {
   "cell_type": "code",
   "execution_count": 16,
   "metadata": {
    "collapsed": false
   },
   "outputs": [
    {
     "data": {
      "image/png": "[encoded data removed]"
     },
     "metadata": {},
     "output_type": "display_data"
    }
   ],
   "source": [
    "%%R -w 350 -h 500\n",
    "FDR = 0.10\n",
    "\n",
    "count_sig = function(df, sparsity.threshold) {\n",
    "    d = df %>%\n",
    "            filter(sparsity >= sparsity.threshold) %>%\n",
    "            mutate(padj = p.adjust(p, method = \"BH\"))%>% \n",
    "            summarize(sum_pass_FDR = sum(padj <= FDR))\n",
    "    d\n",
    "}\n",
    "\n",
    "thresh = seq(0.05, 0.95, 0.05)\n",
    "names(thresh) = thresh\n",
    "\n",
    "d.sparsity = ldply(thresh, count_sig, .id = \"sparsity.threshold\", df = df.l2fc)\n",
    "d.sparsity$sparsity.threshold = as.numeric(as.character(d.sparsity$sparsity.threshold))\n",
    "\n",
    "p = ggplot(d.sparsity, aes(x = sparsity.threshold, y = sum_pass_FDR))\n",
    "\n",
    "#p = p + facet_wrap(~RNA_DNA, ncol = 1, scales = \"free_y\")\n",
    "\n",
    "p = p + geom_point(size = 4, shape = 21, color = \"blue\")\n",
    "\n",
    "p = p + geom_vline(x = 0.35)\n",
    "\n",
    "p = p + theme_bw()\n",
    "    \n",
    "p = p + theme(axis.text = element_text(size = 14),\n",
    "              axis.title = element_text(size = 14),\n",
    "              strip.text = element_text(size = 14),\n",
    "              strip.background = element_blank())\n",
    "\n",
    "p"
   ]
  },
  {
   "cell_type": "markdown",
   "metadata": {},
   "source": [
    "####Remove OTU/Day/RNA_DNA rows below sparsity threshold and add adjusted p-value to l2fc table "
   ]
  },
  {
   "cell_type": "code",
   "execution_count": 17,
   "metadata": {
    "collapsed": false
   },
   "outputs": [
    {
     "data": {
      "text/plain": [
       "Source: local data frame [1,066 x 18]\n",
       "\n",
       "     Day    OTU log2FoldChange     lfcSE  Rank1  Rank2      Rank3\n",
       "   (dbl)  (chr)          (dbl)     (dbl) (fctr) (fctr)     (fctr)\n",
       "1      3 OTU.33      0.2200029 0.5147938   Root  Fungi Zygomycota\n",
       "2      3  OTU.2      1.2427068 0.3516070   Root  Fungi Ascomycota\n",
       "3      3 OTU.40     -1.6628734 0.3508260   Root  Fungi Ascomycota\n",
       "4      3  OTU.5     -0.1814598 0.5007064   Root  Fungi Ascomycota\n",
       "5      3 OTU.80     -0.9462401 0.4268439   Root  Fungi Ascomycota\n",
       "6      3  OTU.7      2.8379201 0.4067251   Root  Fungi Ascomycota\n",
       "7      3  OTU.3     -0.2292293 0.3024772   Root  Fungi Ascomycota\n",
       "8      3  OTU.4      1.6729646 0.5405250   Root  Fungi Ascomycota\n",
       "9      3 OTU.10     -0.8701737 0.2785215   Root  Fungi Ascomycota\n",
       "10     3 OTU.16      0.5731812 0.2262407   Root  Fungi Ascomycota\n",
       "..   ...    ...            ...       ...    ...    ...        ...\n",
       "Variables not shown: Rank4 (fctr), Rank5 (fctr), Rank6 (fctr), Rank7 (fctr),\n",
       "  Rank8 (fctr), Rank9 (fctr), Rank10 (fctr), RNA_DNA (fctr), sparsity (dbl), p\n",
       "  (dbl), padj (dbl)\n"
      ]
     },
     "metadata": {},
     "output_type": "display_data"
    }
   ],
   "source": [
    "%%R\n",
    "sparsity.threshold = 0.35\n",
    "df.l2fc = df.l2fc %>% \n",
    "    filter(sparsity >= sparsity.threshold) %>%\n",
    "    mutate(padj = p.adjust(p, method = \"BH\"))\n",
    "df.l2fc"
   ]
  },
  {
   "cell_type": "code",
   "execution_count": 18,
   "metadata": {
    "collapsed": false
   },
   "outputs": [
    {
     "data": {
      "text/plain": [
       "Source: local data frame [1,066 x 18]\n",
       "\n",
       "     Day    OTU log2FoldChange     lfcSE  Rank1  Rank2      Rank3\n",
       "   (dbl)  (chr)          (dbl)     (dbl) (fctr) (fctr)     (fctr)\n",
       "1      3 OTU.33      0.2200029 0.5147938   Root  Fungi Zygomycota\n",
       "2      3  OTU.2      1.2427068 0.3516070   Root  Fungi Ascomycota\n",
       "3      3 OTU.40     -1.6628734 0.3508260   Root  Fungi Ascomycota\n",
       "4      3  OTU.5     -0.1814598 0.5007064   Root  Fungi Ascomycota\n",
       "5      3 OTU.80     -0.9462401 0.4268439   Root  Fungi Ascomycota\n",
       "6      3  OTU.7      2.8379201 0.4067251   Root  Fungi Ascomycota\n",
       "7      3  OTU.3     -0.2292293 0.3024772   Root  Fungi Ascomycota\n",
       "8      3  OTU.4      1.6729646 0.5405250   Root  Fungi Ascomycota\n",
       "9      3 OTU.10     -0.8701737 0.2785215   Root  Fungi Ascomycota\n",
       "10     3 OTU.16      0.5731812 0.2262407   Root  Fungi Ascomycota\n",
       "..   ...    ...            ...       ...    ...    ...        ...\n",
       "Variables not shown: Rank4 (fctr), Rank5 (fctr), Rank6 (fctr), Rank7 (fctr),\n",
       "  Rank8 (fctr), Rank9 (fctr), Rank10 (fctr), RNA_DNA (fctr), sparsity (dbl), p\n",
       "  (dbl), padj (dbl)\n"
      ]
     },
     "metadata": {},
     "output_type": "display_data"
    }
   ],
   "source": [
    "%%R\n",
    "write.table(df.l2fc, \"data/l2fc_warcup.csv\", row.names = FALSE, sep = \",\")\n",
    "df.l2fc"
   ]
  },
  {
   "cell_type": "code",
   "execution_count": 19,
   "metadata": {
    "collapsed": false
   },
   "outputs": [
    {
     "data": {
      "image/png": "[encoded data removed]"
     },
     "metadata": {},
     "output_type": "display_data"
    }
   ],
   "source": [
    "%%R -w 1200 -h 600\n",
    "d = df.l2fc\n",
    "FDR = 0.10\n",
    "\n",
    "d$Rank2 = as.character(d$Rank3)\n",
    "d$Rank2[is.na(d$Rank3)] = \"unclassified\"\n",
    "d$Rank2 = factor(d$Rank3)\n",
    "\n",
    "max.l2fc = ddply(d, .(Rank3), summarize, M = max(log2FoldChange))\n",
    "d$Rank2 = factor(d$Rank2, max.l2fc[order(-max.l2fc$M),]$Rank3)\n",
    "\n",
    "M = max(as.numeric(d$Rank3), na.rm = TRUE) + 1\n",
    "d$x = as.numeric(d$Rank3)\n",
    "d$x[is.na(d$x)] = M\n",
    "d$x.jitter = d$x + runif(length(d$x), -1, 1) * 0.2\n",
    "\n",
    "colourCount = length(unique(d$Rank3)) + 1\n",
    "getPalette = colorRampPalette(brewer.pal(10, \"Dark2\"))\n",
    "\n",
    "p = ggplot(d, aes(x = x.jitter, y = log2FoldChange, color = Rank3))\n",
    "p = p + facet_wrap(~Day, nrow=1, ncol=4)\n",
    "\n",
    "p = p + geom_point(alpha = 1.00, shape = 21, size = 1.5)\n",
    "\n",
    "p = p + scale_color_manual(values = getPalette(colourCount))\n",
    "\n",
    "p = p + geom_point(data = subset(d, padj <= FDR), color = \"black\", shape = 4, size = 2)\n",
    "\n",
    "p = p + geom_hline(y = l2fc.threshold)\n",
    "\n",
    "p = p + theme_bw()\n",
    "\n",
    "p = p + theme(axis.text.x = element_blank())\n",
    "\n",
    "p = p + labs(x = \"Phylum\", color = \"Phylum\")\n",
    "\n",
    "p = p + guides(col = guide_legend(ncol = 2))\n",
    "\n",
    "p = p + labs(y = expression(paste(\"\", log[2],\" Fold Change\",sep=\"\")))\n",
    "\n",
    "p = p + guides(colour = guide_legend(override.aes = list(size=4)))\n",
    "\n",
    "p"
   ]
  },
  {
   "cell_type": "code",
   "execution_count": 20,
   "metadata": {
    "collapsed": false
   },
   "outputs": [
    {
     "data": {
      "text/plain": [
       "[1] 3\n",
       "[1] 21\n",
       "[1] 38\n",
       "[1] 32\n"
      ]
     },
     "metadata": {},
     "output_type": "display_data"
    }
   ],
   "source": [
    "%%R\n",
    "\n",
    "#OTUS that are responders by day\n",
    "Day3 = filter(df.l2fc, Day == 3, padj <=0.10)\n",
    "Day7 = filter(df.l2fc, Day == 7, padj <=0.10)\n",
    "Day14 = filter(df.l2fc, Day == 14, padj <=0.10)\n",
    "Day30 = filter(df.l2fc, Day == 30, padj <=0.10)\n",
    "\n",
    "print(length(Day3$OTU))\n",
    "print(length(Day7$OTU))\n",
    "print(length(Day14$OTU))\n",
    "print(length(Day30$OTU))\n"
   ]
  },
  {
   "cell_type": "code",
   "execution_count": 21,
   "metadata": {
    "collapsed": false
   },
   "outputs": [
    {
     "data": {
      "image/png": "[encoded data removed]"
     },
     "metadata": {},
     "output_type": "display_data"
    }
   ],
   "source": [
    "%%R\n",
    "d = df.l2fc %>%\n",
    "          group_by(Day) %>%\n",
    "          summarize(responders = sum(padj <= 0.10))\n",
    "\n",
    "px = ggplot(d, aes(x = factor(Day), y = responders, fill = factor(Day)))\n",
    "\n",
    "px = px + geom_bar(stat = \"identity\", position = \"dodge\")\n",
    "\n",
    "px = px + theme_bw()\n",
    "\n",
    "px = px + xlab(\"Day\") + ylab(\"Responders\")\n",
    "\n",
    "\n",
    "px"
   ]
  },
  {
   "cell_type": "code",
   "execution_count": 22,
   "metadata": {
    "collapsed": false
   },
   "outputs": [
    {
     "name": "stdout",
     "output_type": "stream",
     "text": [
      "\n",
      "Error in get(as.character(FUN), mode = \"function\", envir = envir) : \n",
      "  object 'data/figs/l2fc_histogram' of mode 'function' was not found\n"
     ]
    },
    {
     "name": "stderr",
     "output_type": "stream",
     "text": [
      "/opt/anaconda/lib/python2.7/site-packages/rpy2/robjects/functions.py:106: UserWarning: Error in get(as.character(FUN), mode = \"function\", envir = envir) : \n",
      "  object 'data/figs/l2fc_histogram' of mode 'function' was not found\n",
      "\n",
      "  res = super(Function, self).__call__(*new_args, **new_kwargs)\n",
      "/opt/anaconda/lib/python2.7/site-packages/rpy2/robjects/functions.py:106: UserWarning: In addition: \n",
      "  res = super(Function, self).__call__(*new_args, **new_kwargs)\n",
      "/opt/anaconda/lib/python2.7/site-packages/rpy2/robjects/functions.py:106: UserWarning: Warning message:\n",
      "\n",
      "  res = super(Function, self).__call__(*new_args, **new_kwargs)\n",
      "/opt/anaconda/lib/python2.7/site-packages/rpy2/robjects/functions.py:106: UserWarning: In brewer.pal(10, \"Dark2\") :\n",
      "  res = super(Function, self).__call__(*new_args, **new_kwargs)\n",
      "/opt/anaconda/lib/python2.7/site-packages/rpy2/robjects/functions.py:106: UserWarning: \n",
      " \n",
      "  res = super(Function, self).__call__(*new_args, **new_kwargs)\n",
      "/opt/anaconda/lib/python2.7/site-packages/rpy2/robjects/functions.py:106: UserWarning:  n too large, allowed maximum for palette Dark2 is 8\n",
      "Returning the palette you asked for with that many colors\n",
      "\n",
      "\n",
      "  res = super(Function, self).__call__(*new_args, **new_kwargs)\n"
     ]
    }
   ],
   "source": [
    "%%R\n",
    "ggsave(filename = \"data/figs/l2fc_histogram\", plot = px, width = 12, height = 7)"
   ]
  },
  {
   "cell_type": "code",
   "execution_count": 23,
   "metadata": {
    "collapsed": false
   },
   "outputs": [],
   "source": [
    "%%R\n",
    " new_df.l2fc = df.l2fc %>% \n",
    "filter(!is.na(log2FoldChange)) %>% \n",
    "filter(!is.na(padj)) %>%\n",
    "select(log2FoldChange, padj, OTU, Rank5) "
   ]
  },
  {
   "cell_type": "code",
   "execution_count": 24,
   "metadata": {
    "collapsed": true
   },
   "outputs": [],
   "source": [
    "%%R\n",
    "new_df.l2fc$Resp_status[new_df.l2fc$padj > 0.10] = \"non-responder/unknown\"\n",
    "new_df.l2fc$Resp_status[new_df.l2fc$padj <= 0.10 & new_df.l2fc$log2FoldChange > 0] = \"Responder\""
   ]
  },
  {
   "cell_type": "code",
   "execution_count": 25,
   "metadata": {
    "collapsed": false
   },
   "outputs": [
    {
     "data": {
      "image/png": "[encoded data removed]"
     },
     "metadata": {},
     "output_type": "display_data"
    }
   ],
   "source": [
    "%%R -w 700 -h 700\n",
    "p = ggplot(new_df.l2fc, aes(log2FoldChange, Rank5))\n",
    "p = p + geom_point(aes(color = Resp_status))\n",
    "#p = p + xlab(\"RNA log2-fold change\") + ylab(\"DNA log2-fold change\")\n",
    "#p = p + scale_colour_discrete((name=\"Responder Status\"),\n",
    " #                        labels =c(\"Nonresponder/Unknown\", \"DNA and RNA Responder\"))\n",
    "p"
   ]
  },
  {
   "cell_type": "markdown",
   "metadata": {},
   "source": [
    "## Blasting against Living Tree Project db"
   ]
  },
  {
   "cell_type": "code",
   "execution_count": 26,
   "metadata": {
    "collapsed": false
   },
   "outputs": [],
   "source": [
    "from Bio.Blast.Applications import NcbiblastnCommandline as blast"
   ]
  },
  {
   "cell_type": "code",
   "execution_count": 27,
   "metadata": {
    "collapsed": false
   },
   "outputs": [],
   "source": [
    "from cogent import LoadSeqs, DNA\n"
   ]
  },
  {
   "cell_type": "code",
   "execution_count": 28,
   "metadata": {
    "collapsed": false
   },
   "outputs": [
    {
     "name": "stdout",
     "output_type": "stream",
     "text": [
      ">OTU.162\n",
      "TACGTAGGGTGCAAGCGTTGTCCGGAATTATTGGGCGTAAAGAGCTCGTAGGCGGTTTGTCGCGTCTGCTGTGAAATCTGGGGGCTCAACCCCCAGCCTGCAGTGGGTACGGGCAGACTAGAGTGCGGTAGGGGAGATTGGAATTCCTGGTGTAGCGGTGGAATGCGCAGATATCAGGAGGAACACCGATGGCGAAGGCAGATCTCTGGGCCGTAACTGACGCTGAGGAGCGAAAGCATGGGGAGCGAACAGGATTAGATACCCTGGTAGTCCATGCCGTAAACGTTGGGAACTAGATGTGGGGACCATTCCACGGTCTCCGTGTCGCAGCTAACGCATTAAGTTCCCCGCCTGGGGAGTACGGCCGCAAGGCTA\n",
      ">OTU.239\n",
      "TACGGAGGGAGCTAGCGTTATTCGGAATTACTGGGCGTAAAGCGCACGTAGGCGGCTTTGTAAGTTAGAGGTGAAAGCCCAGAGCTCAACTCTGGAATAGCCTTTAAGACTGCATCGCTTGAATCCAGGAGAGGTGAGTGGAATTCCGAGTGTAGAGGTGAAATTCGTAGATATTCGGAAGAACACCAGTGGCGAAGGCGGCTCACTGGACTGGTATTGACGCTGAGGTGCGAAAGCGTGGGGAGCAAACAGGATTAGATACCCTGGTAGTCCACGCCGTAAACGATGATAACTAGCTGTCTGGGTGCTTGGCACTTAGGTGGCGCAGCTAACGCATTAAGTTATCCGCCTGGGGAGTACGGTCGCAAGATTA\n",
      ">OTU.2456\n",
      "TACGGAGGGTGCAAGCGTTATCCGGATTCACTGGGTTTAAAGGGTGCGTAGGCGGGCATATAAGTCAGTGGTGAAATCCCCGAGCTTAACTTGGGAACTGCCATTGATACTATGTGTCTTGAATATCGCGGAGGTAAGCGGAATATGTCATGTAGCGGTGAAATGCATAGATATGACATAGAACACCGATTGCGAAGGCAGCTTACTACACGATCATTGACGCTGAGGCACGAAAGCGTGGGGAGCAAACAGGATTAGATACCCTGGTAGTCCACGCCCTAAACGATGGATACTCGACATACGCGATATACTGTGTGTGTCTGAGCGAAAGCATTAAGTATCCCACCTGGGAAGTACGACCGCAAGGTTG\n",
      ">OTU.256\n",
      "TACAGAGGGTGCAAGCGTTAATCGGAATTACTGGGCGTAAAGCGCACGTAGGCGGTTAGTTAAGTTGGATGTGAAAGCCCCGGGCTCAACCTGGGAATTGCATTCAAAACTGGCTAACTAGAATACGGGAGAGGGGGGTAGAATTCCAAGTGTAGCGGTGAAATGCGTAGAGATTTGGAGGAATACCAGTGGCGAAGGCGGCCCCCTGGCCCGATATTGACGCTGAGGTGCGAAAGCGTGGGGAGCAAACAGGATTAGATACCCTGGTAGTCCACGCCGTAAACGATGTCTACTAGCTGTTCGTGGTCTTGTACTGTGAGTAGCGCAGCTAACGCACTAAGTAGACCGCCTGGGGAGTACGGTCGCAAGATTA\n",
      ">OTU.3194\n",
      "TACGGAGGGAGCTAGCGTTGTTCGGAATTACTGGGCGTAAAGCGCGCGTAGGCGGTTTTTTAAGTCAGAGGTGAAAGCCCGGGGCTCAACCCCGGAATAGCCTTTGAAACTGGAAAACTTGAATCTTGGAGAGGTCAGTGGAATTCCGAGTGTAGAGGTGAAATTCGTAGATATTCGGAAGAACACCAGTGGCGAAGGCGACTGACTGGACAAGTATTGACGCTGAGGTGCGAAAGCGTGGGGAGCAAACAGGATTAGATACCCTGGTAGTCCACGCCGTAAACGATGATAACTAGCTGTCCGGGTTCATAGAACTTGGGTGGCGCAGCTAACGCATTAAGTTGACCGCCTGGGGAGTACGGCCGCAAGGTTA\n",
      ">OTU.80\n",
      "TACGTAGGGCGCAAGCGTTGTCCGGAATTATTGGGCGTAAAGAGCTCGTAGGCGGTTTGTCGCGTCTGCTGTGAAAACCTAAGGCTCAACCTTGGGCTTGCAGTGGGTACGGGCAGACTAGAGTGCGGTAGGGGTGACTGGAATTCCTGGTGTAGCGGTGGAATGCGCAGATATCAGGAGGAACACCGATGGCGAAGGCAGGTCACTGGGCCGCAACTGACGCTGAGGAGCGAAAGCATGGGGAGCGAACAGGATTAGATACCCTGGTAGTCCATGCCGTAAACGTTGGGCACTAGGTGTGGGGCTCATTCCACGAGTTCCGTGCCGCAGCAAACGCATTAAGTGCCCCGCCTGGGGAGTACGGCCGCAAGGCTA\n"
     ]
    }
   ],
   "source": [
    "OTU_ids = [\"OTU.162\", \"OTU.239\", \"OTU.2456\", \"OTU.256\", \"OTU.3194\", \"OTU.80\"]\n",
    "seqs = LoadSeqs(\"/home/chantal/RNASIP/data/totalRNA.otusn.fasta\", moltype=DNA, aligned=False)\n",
    "seqs = seqs.takeSeqs(OTU_ids).toFasta()\n",
    "print seqs"
   ]
  },
  {
   "cell_type": "code",
   "execution_count": 29,
   "metadata": {
    "collapsed": false
   },
   "outputs": [],
   "source": [
    "my_file = open(\"seqs.fasta\", \"w\")\n",
    "my_file.write(seqs)\n",
    "my_file.close()"
   ]
  },
  {
   "cell_type": "code",
   "execution_count": 30,
   "metadata": {
    "collapsed": false
   },
   "outputs": [
    {
     "name": "stdout",
     "output_type": "stream",
     "text": [
      "blastn -out otusn_silvaRefNR115.m6 -outfmt 6 -query seqs.fasta -db /var/seq_data/silva/silva_blastdb/silva_RefNR_115 -num_threads 5\n"
     ]
    },
    {
     "data": {
      "text/plain": [
       "('', '')"
      ]
     },
     "execution_count": 30,
     "metadata": {},
     "output_type": "execute_result"
    }
   ],
   "source": [
    "cline = blast(query = \"seqs.fasta\",\n",
    "              db = \"/var/seq_data/silva/silva_blastdb/silva_RefNR_115\",\n",
    "              outfmt = 6,\n",
    "              out = \"otusn_silvaRefNR115.m6\",\n",
    "              num_threads = 5)\n",
    "print cline\n",
    "cline()"
   ]
  },
  {
   "cell_type": "code",
   "execution_count": 31,
   "metadata": {
    "collapsed": false
   },
   "outputs": [
    {
     "name": "stdout",
     "output_type": "stream",
     "text": [
      "OTU.162\tHQ256829\t100.00\t375\t0\t0\t1\t375\t445\t819\t0.0\t  693\n",
      "3000 otusn_silvaRefNR115.m6\n",
      "500\n"
     ]
    }
   ],
   "source": [
    "!head -n1 otusn_silvaRefNR115.m6\n",
    "!wc -l otusn_silvaRefNR115.m6\n",
    "! grep -c \"OTU.80\" otusn_silvaRefNR115.m6"
   ]
  },
  {
   "cell_type": "code",
   "execution_count": 32,
   "metadata": {
    "collapsed": false
   },
   "outputs": [
    {
     "name": "stderr",
     "output_type": "stream",
     "text": [
      "/opt/anaconda/lib/python2.7/site-packages/pandas/rpy/__init__.py:11: FutureWarning: The pandas.rpy module is deprecated and will be removed in a future version. We refer to external packages like rpy2. \n",
      "See here for a guide on how to port your code to rpy2: http://pandas.pydata.org/pandas-docs/stable/r_interface.html\n",
      "  FutureWarning)\n"
     ]
    }
   ],
   "source": [
    "from IPython.display import Image\n",
    "import pandas.rpy.common as com"
   ]
  },
  {
   "cell_type": "code",
   "execution_count": 33,
   "metadata": {
    "collapsed": false
   },
   "outputs": [
    {
     "name": "stderr",
     "output_type": "stream",
     "text": [
      "/opt/anaconda/lib/python2.7/site-packages/rpy2/robjects/functions.py:106: UserWarning: data.table 1.9.4  For help type: ?data.table\n",
      "\n",
      "  res = super(Function, self).__call__(*new_args, **new_kwargs)\n",
      "/opt/anaconda/lib/python2.7/site-packages/rpy2/robjects/functions.py:106: UserWarning: *** NB: by=.EACHI is now explicit. See README to restore previous behaviour.\n",
      "\n",
      "  res = super(Function, self).__call__(*new_args, **new_kwargs)\n",
      "/opt/anaconda/lib/python2.7/site-packages/rpy2/robjects/functions.py:106: UserWarning: \n",
      "Attaching package: ‘data.table’\n",
      "\n",
      "\n",
      "  res = super(Function, self).__call__(*new_args, **new_kwargs)\n",
      "/opt/anaconda/lib/python2.7/site-packages/rpy2/robjects/functions.py:106: UserWarning: The following objects are masked from ‘package:dplyr’:\n",
      "\n",
      "    between, last\n",
      "\n",
      "\n",
      "  res = super(Function, self).__call__(*new_args, **new_kwargs)\n"
     ]
    }
   ],
   "source": [
    "%%R\n",
    "library(data.table)\n",
    "library(dplyr)"
   ]
  },
  {
   "cell_type": "code",
   "execution_count": 34,
   "metadata": {
    "collapsed": false
   },
   "outputs": [
    {
     "name": "stdout",
     "output_type": "stream",
     "text": [
      "\n",
      "Error in eval(expr, envir, enclos) : \n",
      "  error in evaluating the argument 'x' in selecting a method for function 'rank': Error in (function (classes, fdef, mtable)  : \n",
      "  unable to find an inherited method for function ‘desc’ for signature ‘\"integer\"’\n"
     ]
    },
    {
     "name": "stderr",
     "output_type": "stream",
     "text": [
      "/opt/anaconda/lib/python2.7/site-packages/rpy2/robjects/functions.py:106: UserWarning: Error in eval(expr, envir, enclos) : \n",
      "  error in evaluating the argument 'x' in selecting a method for function 'rank': Error in (function (classes, fdef, mtable)  : \n",
      "  unable to find an inherited method for function ‘desc’ for signature ‘\"integer\"’\n",
      "\n",
      "  res = super(Function, self).__call__(*new_args, **new_kwargs)\n"
     ]
    }
   ],
   "source": [
    "%%R\n",
    "blastout_dt = fread(\"otusn_silvaRefNR115.m6\")\n",
    "blastout_df = tbl_df(blastout_dt)\n",
    "colnames(blastout_df) = c(\"OTU\",\n",
    "                        \"acc\",\n",
    "                        \"pid\",\n",
    "                        \"aln.length\",\n",
    "                        \"mismatches\",\n",
    "                        \"gapOpenCount\",\n",
    "                        \"qstart\",\n",
    "                        \"qend\",\n",
    "                        \"sstart\",\n",
    "                        \"send\",\n",
    "                        \"e.value\",\n",
    "                        \"bit.score\")\n",
    "\n",
    "top_hits_df_LTP = blastout_df %>% \n",
    "                          group_by(OTU) %>% \n",
    "                          mutate(Rank = rank(desc(bit.score), ties.method = \"min\")) %>% \n",
    "                          filter(pid > 97.0) %>%\n",
    "                          filter(e.value < 5.0e-180) %>%\n",
    "                          filter(acc %in% c('AM286414', 'AB428568', 'EU877263', 'EF575565', 'EF494193', 'X82449'))"
   ]
  },
  {
   "cell_type": "code",
   "execution_count": 35,
   "metadata": {
    "collapsed": false
   },
   "outputs": [
    {
     "name": "stdout",
     "output_type": "stream",
     "text": [
      "\n",
      "Error in head(top_hits_df_LTP) : \n",
      "  error in evaluating the argument 'x' in selecting a method for function 'head': Error: object 'top_hits_df_LTP' not found\n"
     ]
    },
    {
     "name": "stderr",
     "output_type": "stream",
     "text": [
      "/opt/anaconda/lib/python2.7/site-packages/rpy2/robjects/functions.py:106: UserWarning: Error in head(top_hits_df_LTP) : \n",
      "  error in evaluating the argument 'x' in selecting a method for function 'head': Error: object 'top_hits_df_LTP' not found\n",
      "\n",
      "  res = super(Function, self).__call__(*new_args, **new_kwargs)\n"
     ]
    }
   ],
   "source": [
    "%%R\n",
    "print(head(top_hits_df_LTP))\n",
    "str(top_hits_df_LTP$OTU)"
   ]
  },
  {
   "cell_type": "code",
   "execution_count": 36,
   "metadata": {
    "collapsed": false
   },
   "outputs": [],
   "source": [
    "%%R\n",
    "dt = fread(\"/var/seq_data/LTP115_db/LTPs115_SSU.csv\", sep = \";\")\n",
    "colnames(dt) = c(\"acc\",\"start\",\"end\",\"DB.version\",\"name\",\"unknown1\",\"family\",\"unknown2\",\"url\",\"full_tax\")\n",
    "LTP_seq_data = tbl_df(dt)"
   ]
  },
  {
   "cell_type": "code",
   "execution_count": 37,
   "metadata": {
    "collapsed": false
   },
   "outputs": [
    {
     "name": "stdout",
     "output_type": "stream",
     "text": [
      "\n",
      "Error in left_join(top_hits_df_LTP, LTP_seq_data) : \n",
      "  object 'top_hits_df_LTP' not found\n"
     ]
    },
    {
     "name": "stderr",
     "output_type": "stream",
     "text": [
      "/opt/anaconda/lib/python2.7/site-packages/rpy2/robjects/functions.py:106: UserWarning: Error in left_join(top_hits_df_LTP, LTP_seq_data) : \n",
      "  object 'top_hits_df_LTP' not found\n",
      "\n",
      "  res = super(Function, self).__call__(*new_args, **new_kwargs)\n",
      "/opt/anaconda/lib/python2.7/site-packages/rpy2/robjects/functions.py:106: UserWarning: In `names<-.data.table`(`*tmp*`, value = value) :\n",
      "  res = super(Function, self).__call__(*new_args, **new_kwargs)\n",
      "/opt/anaconda/lib/python2.7/site-packages/rpy2/robjects/functions.py:106: UserWarning:  The colnames(x)<-value syntax copies the whole table. This is due to <- in R itself. Please change to setnames(x,old,new) which does not copy and is faster. See help('setnames'). You can safely ignore this warning if it is inconvenient to change right now. Setting options(warn=2) turns this warning into an error, so you can then use traceback() to find and change your colnames<- calls.\n",
      "\n",
      "  res = super(Function, self).__call__(*new_args, **new_kwargs)\n"
     ]
    }
   ],
   "source": [
    "%%R\n",
    "joined_df = left_join(top_hits_df_LTP, LTP_seq_data)"
   ]
  },
  {
   "cell_type": "code",
   "execution_count": 38,
   "metadata": {
    "collapsed": false
   },
   "outputs": [
    {
     "name": "stdout",
     "output_type": "stream",
     "text": [
      "\n",
      "Error in filter_(.data, .dots = lazyeval::lazy_dots(...)) : \n",
      "  object 'joined_df' not found\n"
     ]
    },
    {
     "name": "stderr",
     "output_type": "stream",
     "text": [
      "/opt/anaconda/lib/python2.7/site-packages/rpy2/robjects/functions.py:106: UserWarning: Error in filter_(.data, .dots = lazyeval::lazy_dots(...)) : \n",
      "  object 'joined_df' not found\n",
      "\n",
      "  res = super(Function, self).__call__(*new_args, **new_kwargs)\n"
     ]
    }
   ],
   "source": [
    "%%R\n",
    "joined_df = filter(joined_df, name != \"NA\")"
   ]
  },
  {
   "cell_type": "code",
   "execution_count": 39,
   "metadata": {
    "collapsed": false
   },
   "outputs": [
    {
     "name": "stdout",
     "output_type": "stream",
     "text": [
      "\n",
      "Error in withVisible({ : object 'joined_df' not found\n"
     ]
    },
    {
     "name": "stderr",
     "output_type": "stream",
     "text": [
      "/opt/anaconda/lib/python2.7/site-packages/rpy2/robjects/functions.py:106: UserWarning: Error in withVisible({ : object 'joined_df' not found\n",
      "\n",
      "  res = super(Function, self).__call__(*new_args, **new_kwargs)\n"
     ]
    }
   ],
   "source": [
    "%%R\n",
    "dim(joined_df)"
   ]
  },
  {
   "cell_type": "code",
   "execution_count": 40,
   "metadata": {
    "collapsed": false
   },
   "outputs": [
    {
     "ename": "LookupError",
     "evalue": "'joined_df' not found",
     "output_type": "error",
     "traceback": [
      "\u001b[1;31m---------------------------------------------------------------------------\u001b[0m",
      "\u001b[1;31mLookupError\u001b[0m                               Traceback (most recent call last)",
      "\u001b[1;32m<ipython-input-40-da1edb0cd019>\u001b[0m in \u001b[0;36m<module>\u001b[1;34m()\u001b[0m\n\u001b[1;32m----> 1\u001b[1;33m \u001b[0mdf\u001b[0m \u001b[1;33m=\u001b[0m \u001b[0mcom\u001b[0m\u001b[1;33m.\u001b[0m\u001b[0mload_data\u001b[0m\u001b[1;33m(\u001b[0m\u001b[1;34m\"joined_df\"\u001b[0m\u001b[1;33m)\u001b[0m\u001b[1;33m\u001b[0m\u001b[0m\n\u001b[0m",
      "\u001b[1;32m/opt/anaconda/lib/python2.7/site-packages/pandas/rpy/common.pyc\u001b[0m in \u001b[0;36mload_data\u001b[1;34m(name, package, convert)\u001b[0m\n\u001b[0;32m     30\u001b[0m     \u001b[0mr\u001b[0m\u001b[1;33m.\u001b[0m\u001b[0mdata\u001b[0m\u001b[1;33m(\u001b[0m\u001b[0mname\u001b[0m\u001b[1;33m)\u001b[0m\u001b[1;33m\u001b[0m\u001b[0m\n\u001b[0;32m     31\u001b[0m \u001b[1;33m\u001b[0m\u001b[0m\n\u001b[1;32m---> 32\u001b[1;33m     \u001b[0mrobj\u001b[0m \u001b[1;33m=\u001b[0m \u001b[0mr\u001b[0m\u001b[1;33m[\u001b[0m\u001b[0mname\u001b[0m\u001b[1;33m]\u001b[0m\u001b[1;33m\u001b[0m\u001b[0m\n\u001b[0m\u001b[0;32m     33\u001b[0m \u001b[1;33m\u001b[0m\u001b[0m\n\u001b[0;32m     34\u001b[0m     \u001b[1;32mif\u001b[0m \u001b[0mconvert\u001b[0m\u001b[1;33m:\u001b[0m\u001b[1;33m\u001b[0m\u001b[0m\n",
      "\u001b[1;32m/opt/anaconda/lib/python2.7/site-packages/rpy2/robjects/__init__.pyc\u001b[0m in \u001b[0;36m__getitem__\u001b[1;34m(self, item)\u001b[0m\n\u001b[0;32m    294\u001b[0m \u001b[1;33m\u001b[0m\u001b[0m\n\u001b[0;32m    295\u001b[0m     \u001b[1;32mdef\u001b[0m \u001b[0m__getitem__\u001b[0m\u001b[1;33m(\u001b[0m\u001b[0mself\u001b[0m\u001b[1;33m,\u001b[0m \u001b[0mitem\u001b[0m\u001b[1;33m)\u001b[0m\u001b[1;33m:\u001b[0m\u001b[1;33m\u001b[0m\u001b[0m\n\u001b[1;32m--> 296\u001b[1;33m         \u001b[0mres\u001b[0m \u001b[1;33m=\u001b[0m \u001b[0m_globalenv\u001b[0m\u001b[1;33m.\u001b[0m\u001b[0mget\u001b[0m\u001b[1;33m(\u001b[0m\u001b[0mitem\u001b[0m\u001b[1;33m)\u001b[0m\u001b[1;33m\u001b[0m\u001b[0m\n\u001b[0m\u001b[0;32m    297\u001b[0m         \u001b[0mres\u001b[0m \u001b[1;33m=\u001b[0m \u001b[0mconversion\u001b[0m\u001b[1;33m.\u001b[0m\u001b[0mri2ro\u001b[0m\u001b[1;33m(\u001b[0m\u001b[0mres\u001b[0m\u001b[1;33m)\u001b[0m\u001b[1;33m\u001b[0m\u001b[0m\n\u001b[0;32m    298\u001b[0m         \u001b[1;32mif\u001b[0m \u001b[0mhasattr\u001b[0m\u001b[1;33m(\u001b[0m\u001b[0mres\u001b[0m\u001b[1;33m,\u001b[0m \u001b[1;34m'__rname__'\u001b[0m\u001b[1;33m)\u001b[0m\u001b[1;33m:\u001b[0m\u001b[1;33m\u001b[0m\u001b[0m\n",
      "\u001b[1;31mLookupError\u001b[0m: 'joined_df' not found"
     ]
    }
   ],
   "source": [
    "df = com.load_data(\"joined_df\")"
   ]
  },
  {
   "cell_type": "code",
   "execution_count": null,
   "metadata": {
    "collapsed": false
   },
   "outputs": [],
   "source": [
    "def get_latex(df):\n",
    "    latex = \"\"\n",
    "    prefix = r\"\\multirow{%s}{*}{%s}\"%(len(df.index), df.OTU.iloc[0])\n",
    "    for i, r in df[[\"name\",\"pid\",\"acc\"]].iterrows():\n",
    "        latex += \" & \" + \" & \".join([str(i) for i in r.values]) + r\" \\\\ \"\n",
    "    return prefix + latex + r\"\\midrule\" + \"\\n\""
   ]
  },
  {
   "cell_type": "code",
   "execution_count": null,
   "metadata": {
    "collapsed": false
   },
   "outputs": [],
   "source": [
    "s = df.groupby(\"OTU\").apply(get_latex)\n",
    "\n",
    "table_framework = r\"\"\"\n",
    "\\documentclass[11pt]{article}\n",
    "\\usepackage{multirow, array, booktabs}\n",
    "\\begin{document}\n",
    "\n",
    "\\thispagestyle{empty}\n",
    " \n",
    "\\begin{table}[ht]\n",
    "\\caption{$^{13}$C RNA responders BLAST against Living Tree Project}\n",
    "\\begin{center}\n",
    "\\begin{tabular}{l>{\\itshape}lrl}\n",
    "    \\toprule \\\\\n",
    "    \\textbf{OTU ID} & \\textbf{Species Name} & \\textbf{BLAST percent identity} & \\textbf{accession} \\\\\n",
    "    \\midrule\n",
    "    %s\n",
    "    \\bottomrule\n",
    "\\end{tabular}\n",
    "\\end{center}\n",
    "\\label{tab:multicol}\n",
    "\\end{table}\n",
    " \n",
    "\\end{document}\"\"\"%\"\".join(s.values)\n",
    "\n",
    "with open(\"../data/tmp/table.tex\", \"w\") as out:\n",
    "    out.write(table_framework)"
   ]
  },
  {
   "cell_type": "code",
   "execution_count": null,
   "metadata": {
    "collapsed": false
   },
   "outputs": [],
   "source": [
    "!latex -output-directory=\"../data/tmp\" ../data/tmp/table.tex >/dev/null 2>&1 && \\\n",
    "dvipng -o ../data/table.png ../data/tmp/table.dvi >/dev/null 2>&1\n",
    "Image(\"../data/table.png\")"
   ]
  }
 ],
 "metadata": {
  "kernelspec": {
   "display_name": "Python 2",
   "language": "python",
   "name": "python2"
  },
  "language_info": {
   "codemirror_mode": {
    "name": "ipython",
    "version": 2
   },
   "file_extension": ".py",
   "mimetype": "text/x-python",
   "name": "python",
   "nbconvert_exporter": "python",
   "pygments_lexer": "ipython2",
   "version": "2.7.10"
  }
 },
 "nbformat": 4,
 "nbformat_minor": 0
}
