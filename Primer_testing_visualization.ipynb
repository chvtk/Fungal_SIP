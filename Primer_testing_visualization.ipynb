{
 "cells": [
  {
   "cell_type": "code",
   "execution_count": 1,
   "metadata": {
    "collapsed": true
   },
   "outputs": [],
   "source": [
    "%load_ext rpy2.ipython"
   ]
  },
  {
   "cell_type": "code",
   "execution_count": 114,
   "metadata": {
    "collapsed": false
   },
   "outputs": [
    {
     "name": "stderr",
     "output_type": "stream",
     "text": [
      "/opt/anaconda/lib/python2.7/site-packages/rpy2/robjects/functions.py:106: UserWarning: Loading required package: grid\n",
      "\n",
      "  res = super(Function, self).__call__(*new_args, **new_kwargs)\n",
      "/opt/anaconda/lib/python2.7/site-packages/rpy2/robjects/functions.py:106: UserWarning: Loading required package: lattice\n",
      "\n",
      "  res = super(Function, self).__call__(*new_args, **new_kwargs)\n",
      "/opt/anaconda/lib/python2.7/site-packages/rpy2/robjects/functions.py:106: UserWarning: Loading required package: survival\n",
      "\n",
      "  res = super(Function, self).__call__(*new_args, **new_kwargs)\n",
      "/opt/anaconda/lib/python2.7/site-packages/rpy2/robjects/functions.py:106: UserWarning: Loading required package: Formula\n",
      "\n",
      "  res = super(Function, self).__call__(*new_args, **new_kwargs)\n",
      "/opt/anaconda/lib/python2.7/site-packages/rpy2/robjects/functions.py:106: UserWarning: \n",
      "Attaching package: ‘Hmisc’\n",
      "\n",
      "\n",
      "  res = super(Function, self).__call__(*new_args, **new_kwargs)\n",
      "/opt/anaconda/lib/python2.7/site-packages/rpy2/robjects/functions.py:106: UserWarning: The following objects are masked from ‘package:dplyr’:\n",
      "\n",
      "    combine, src, summarize\n",
      "\n",
      "\n",
      "  res = super(Function, self).__call__(*new_args, **new_kwargs)\n",
      "/opt/anaconda/lib/python2.7/site-packages/rpy2/robjects/functions.py:106: UserWarning: The following objects are masked from ‘package:base’:\n",
      "\n",
      "    format.pval, round.POSIXt, trunc.POSIXt, units\n",
      "\n",
      "\n",
      "  res = super(Function, self).__call__(*new_args, **new_kwargs)\n"
     ]
    }
   ],
   "source": [
    "%%R\n",
    "library(ggplot2)\n",
    "library(dplyr)\n",
    "library(gridExtra)\n",
    "library(base)\n",
    "library(stringr)\n",
    "library(Hmisc)"
   ]
  },
  {
   "cell_type": "code",
   "execution_count": 122,
   "metadata": {
    "collapsed": false
   },
   "outputs": [],
   "source": [
    "%%R\n",
    "PR = read.table(\"data/58A2r_97_otus_new_filtered_hits_coverage.txt\", header = FALSE)\n",
    "PF = read.table(\"data/nBITS2f_97_otus_new_filtered_hits_coverage.txt\", header = FALSE)"
   ]
  },
  {
   "cell_type": "code",
   "execution_count": 123,
   "metadata": {
    "collapsed": false
   },
   "outputs": [
    {
     "data": {
      "text/plain": [
       "                                           V1\n",
       "1              0,\"k__fungi,\"k__fungi,9,0.7778\n",
       "2            0,K__fungi,K__fungi,55382,0.8618\n",
       "3 0,K__unidentified,K__unidentified,13,0.7692\n",
       "4       1,\"k__fungi,P__basidiomycota,1,1.0000\n",
       "5          1,\"k__fungi,P__ascomycota,6,1.0000\n",
       "6        1,\"k__fungi,P__unidentified,2,0.0000\n"
      ]
     },
     "metadata": {},
     "output_type": "display_data"
    }
   ],
   "source": [
    "%%R\n",
    "head(PR)"
   ]
  },
  {
   "cell_type": "code",
   "execution_count": 124,
   "metadata": {
    "collapsed": false
   },
   "outputs": [
    {
     "data": {
      "text/plain": [
       "  V1              V2               V3    V4     V5\n",
       "1  0       \"k__fungi        \"k__fungi     9 0.7778\n",
       "2  0        K__fungi         K__fungi 55382 0.8618\n",
       "3  0 K__unidentified  K__unidentified    13 0.7692\n",
       "4  1       \"k__fungi P__basidiomycota     1 1.0000\n",
       "5  1       \"k__fungi    P__ascomycota     6 1.0000\n",
       "6  1       \"k__fungi  P__unidentified     2 0.0000\n"
      ]
     },
     "metadata": {},
     "output_type": "display_data"
    }
   ],
   "source": [
    "%%R\n",
    "PR$V1 = as.character(PR$V1)\n",
    "PR2 = str_split_fixed(PR$V1, \",\", 5)\n",
    "PR2 = as.data.frame(PR2)\n",
    "head(PR2)"
   ]
  },
  {
   "cell_type": "code",
   "execution_count": 126,
   "metadata": {
    "collapsed": false
   },
   "outputs": [
    {
     "data": {
      "text/plain": [
       "  tax_level       first_tax          tax_rep seq_num percent\n",
       "1         0       \"k__fungi        \"k__fungi       9  0.7778\n",
       "2         0        K__fungi         K__fungi   55382  0.8618\n",
       "3         0 K__unidentified  K__unidentified      13  0.7692\n",
       "4         1       \"k__fungi P__basidiomycota       1  1.0000\n",
       "5         1       \"k__fungi    P__ascomycota       6  1.0000\n",
       "6         1       \"k__fungi  P__unidentified       2  0.0000\n"
      ]
     },
     "metadata": {},
     "output_type": "display_data"
    }
   ],
   "source": [
    "%%R\n",
    "colnames(PR2) = c(\"tax_level\", \"first_tax\", \"tax_rep\", \"seq_num\", \"percent\")\n",
    "head(PR2)\n",
    "PR2$tax_level = as.numeric(as.character(PR2$tax_level))\n",
    "PR2$seq_num = as.numeric(as.character(PR2$seq_num))\n",
    "PR2$percent = as.numeric(as.character(PR2$percent))\n",
    "head(PR2)"
   ]
  },
  {
   "cell_type": "code",
   "execution_count": 128,
   "metadata": {
    "collapsed": false
   },
   "outputs": [
    {
     "data": {
      "text/plain": [
       "  tax_level       first_tax          tax_rep seq_num percent             tax\n",
       "1         0       \"k__fungi        \"k__fungi       9  0.7778       \"k__fungi\n",
       "2         0        K__fungi         K__fungi   55382  0.8618        K__fungi\n",
       "3         0 K__unidentified  K__unidentified      13  0.7692 K__unidentified\n",
       "4         1       \"k__fungi P__basidiomycota       1  1.0000   basidiomycota\n",
       "5         1       \"k__fungi    P__ascomycota       6  1.0000      ascomycota\n",
       "6         1       \"k__fungi  P__unidentified       2  0.0000    unidentified\n"
      ]
     },
     "metadata": {},
     "output_type": "display_data"
    }
   ],
   "source": [
    "%%R\n",
    "PR2$tax = gsub(\"k__\", \"\", PR2$tax_rep)\n",
    "PR2$tax = gsub(\"K__\", \"\", PR2$tax_rep)\n",
    "PR2$tax = gsub(\"P__\", \"\", PR2$tax_rep)\n",
    "PR2$tax = as.character(PR2$tax)\n",
    "head(PR2)"
   ]
  },
  {
   "cell_type": "code",
   "execution_count": 129,
   "metadata": {
    "collapsed": false
   },
   "outputs": [
    {
     "data": {
      "text/plain": [
       "'data.frame':\t60 obs. of  6 variables:\n",
       " $ tax_level: num  0 0 0 1 1 1 1 1 1 1 ...\n",
       " $ first_tax: Factor w/ 3 levels \"\\\"k__fungi\",\"K__fungi\",..: 1 2 3 1 1 1 2 2 2 2 ...\n",
       " $ tax_rep  : Factor w/ 51 levels \"C__agaricomycetes\",..: 38 39 40 42 41 50 41 42 51 44 ...\n",
       " $ seq_num  : num  9 55382 13 1 6 ...\n",
       " $ percent  : num  0.778 0.862 0.769 1 1 ...\n",
       " $ tax      : chr  \"\\\"k__fungi\" \"K__fungi\" \"K__unidentified\" \"basidiomycota\" ...\n"
      ]
     },
     "metadata": {},
     "output_type": "display_data"
    }
   ],
   "source": [
    "%%R\n",
    "str(PR2)"
   ]
  },
  {
   "cell_type": "code",
   "execution_count": 130,
   "metadata": {
    "collapsed": false
   },
   "outputs": [],
   "source": [
    "%%R\n",
    "PR3 = filter(PR2, tax_level == 1)\n",
    "PR3 = filter(PR3, seq_num > 13) "
   ]
  },
  {
   "cell_type": "code",
   "execution_count": 132,
   "metadata": {
    "collapsed": false
   },
   "outputs": [],
   "source": [
    "%%R\n",
    "PR3$realper = PR3$percent *100\n",
    "PR3$tax = capitalize(PR3$tax)"
   ]
  },
  {
   "cell_type": "code",
   "execution_count": 230,
   "metadata": {
    "collapsed": false
   },
   "outputs": [
    {
     "data": {
      "image/png": "[encoded data removed]"
     },
     "metadata": {},
     "output_type": "display_data"
    }
   ],
   "source": [
    "%%R\n",
    "PR3$tax <- factor(PR3$tax, levels = PR3$tax[order(-PR3$percent)])\n",
    "p = ggplot(PR3, aes(x = tax, y = as.numeric(as.character(realper)))) +\n",
    "geom_histogram(stat= \"identity\")\n",
    "\n",
    "p = p + theme(axis.title.x = element_text(size=16), axis.title.y = element_text(size = 14),\n",
    "           axis.text.x  = element_text(angle=45, vjust=1, hjust =1, size=12))\n",
    "\n",
    "p = p +  geom_text(aes(label=seq_num, vjust=-0.3), color = \"dark green\")\n",
    "\n",
    "p = p + xlab(\"Phylum\") + ylab(\"Percent Coverage\") + ggtitle(\"58A2r\")\n",
    "\n",
    "p "
   ]
  },
  {
   "cell_type": "code",
   "execution_count": 231,
   "metadata": {
    "collapsed": true
   },
   "outputs": [],
   "source": [
    "%%R\n",
    "ggsave(filename = \"data/figs/58A2r.pdf\", plot = p, width = 7, height = 7)"
   ]
  },
  {
   "cell_type": "code",
   "execution_count": 150,
   "metadata": {
    "collapsed": false
   },
   "outputs": [
    {
     "data": {
      "text/plain": [
       "  V1              V2               V3    V4     V5\n",
       "1  0       \"k__fungi        \"k__fungi     9 0.2222\n",
       "2  0        K__fungi         K__fungi 55382 0.5221\n",
       "3  0 K__unidentified  K__unidentified    13 0.2308\n",
       "4  1       \"k__fungi P__basidiomycota     1 0.0000\n",
       "5  1       \"k__fungi    P__ascomycota     6 0.3333\n",
       "6  1       \"k__fungi  P__unidentified     2 0.0000\n"
      ]
     },
     "metadata": {},
     "output_type": "display_data"
    }
   ],
   "source": [
    "%%R\n",
    "PF$V1 = as.character(PF$V1)\n",
    "PF2 = str_split_fixed(PF$V1, \",\", 5)\n",
    "PF2 = as.data.frame(PF2)\n",
    "head(PF2)"
   ]
  },
  {
   "cell_type": "code",
   "execution_count": 151,
   "metadata": {
    "collapsed": false
   },
   "outputs": [
    {
     "data": {
      "text/plain": [
       "  tax_level       first_tax          tax_rep seq_num percent\n",
       "1         0       \"k__fungi        \"k__fungi       9  0.2222\n",
       "2         0        K__fungi         K__fungi   55382  0.5221\n",
       "3         0 K__unidentified  K__unidentified      13  0.2308\n",
       "4         1       \"k__fungi P__basidiomycota       1  0.0000\n",
       "5         1       \"k__fungi    P__ascomycota       6  0.3333\n",
       "6         1       \"k__fungi  P__unidentified       2  0.0000\n"
      ]
     },
     "metadata": {},
     "output_type": "display_data"
    }
   ],
   "source": [
    "%%R\n",
    "colnames(PF2) = c(\"tax_level\", \"first_tax\", \"tax_rep\", \"seq_num\", \"percent\")\n",
    "head(PF2)\n",
    "PF2$tax_level = as.numeric(as.character(PF2$tax_level))\n",
    "PF2$seq_num = as.numeric(as.character(PF2$seq_num))\n",
    "PF2$percent = as.numeric(as.character(PF2$percent))\n",
    "head(PF2)"
   ]
  },
  {
   "cell_type": "code",
   "execution_count": 152,
   "metadata": {
    "collapsed": false
   },
   "outputs": [
    {
     "data": {
      "text/plain": [
       "  tax_level       first_tax          tax_rep seq_num percent             tax\n",
       "1         0       \"k__fungi        \"k__fungi       9  0.2222       \"k__fungi\n",
       "2         0        K__fungi         K__fungi   55382  0.5221        K__fungi\n",
       "3         0 K__unidentified  K__unidentified      13  0.2308 K__unidentified\n",
       "4         1       \"k__fungi P__basidiomycota       1  0.0000   basidiomycota\n",
       "5         1       \"k__fungi    P__ascomycota       6  0.3333      ascomycota\n",
       "6         1       \"k__fungi  P__unidentified       2  0.0000    unidentified\n"
      ]
     },
     "metadata": {},
     "output_type": "display_data"
    }
   ],
   "source": [
    "%%R\n",
    "PF2$tax = gsub(\"k__\", \"\", PF2$tax_rep)\n",
    "PF2$tax = gsub(\"K__\", \"\", PF2$tax_rep)\n",
    "PF2$tax = gsub(\"P__\", \"\", PF2$tax_rep)\n",
    "PF2$tax = as.character(PF2$tax)\n",
    "head(PF2)"
   ]
  },
  {
   "cell_type": "code",
   "execution_count": 153,
   "metadata": {
    "collapsed": true
   },
   "outputs": [],
   "source": [
    "%%R\n",
    "PF3 = filter(PF2, tax_level == 1)\n",
    "PF3 = filter(PF3, seq_num > 13) "
   ]
  },
  {
   "cell_type": "code",
   "execution_count": 154,
   "metadata": {
    "collapsed": true
   },
   "outputs": [],
   "source": [
    "%%R\n",
    "PF3$realper = PF3$percent *100\n",
    "PF3$tax = capitalize(PF3$tax)"
   ]
  },
  {
   "cell_type": "code",
   "execution_count": 232,
   "metadata": {
    "collapsed": false
   },
   "outputs": [
    {
     "data": {
      "image/png": "[encoded data removed]"
     },
     "metadata": {},
     "output_type": "display_data"
    }
   ],
   "source": [
    "%%R\n",
    "PF3$tax <- factor(PF3$tax, levels = PF3$tax[order(-PF3$percent)])\n",
    "p = ggplot(PF3, aes(x = tax, y = as.numeric(as.character(realper)))) +\n",
    "geom_histogram(stat= \"identity\")\n",
    "\n",
    "p = p + theme(axis.title.x = element_text(size=16), axis.title.y = element_text(size = 14),\n",
    "           axis.text.x  = element_text(angle=45, vjust=1, hjust =1, size=12))\n",
    "\n",
    "p = p +  geom_text(aes(label=seq_num, vjust=-0.3), color = \"dark green\")\n",
    "\n",
    "p = p + xlab(\"Phylum\") + ylab(\"Percent Coverage\") + ggtitle(\"nBITSf\")\n",
    "\n",
    "p = p + expand_limits(y=c(0,100))\n",
    "\n",
    "p "
   ]
  },
  {
   "cell_type": "code",
   "execution_count": 233,
   "metadata": {
    "collapsed": true
   },
   "outputs": [],
   "source": [
    "%%R\n",
    "ggsave(filename = \"data/figs/nBITSf.pdf\", plot = p, width = 7, height = 7)"
   ]
  },
  {
   "cell_type": "code",
   "execution_count": 205,
   "metadata": {
    "collapsed": false
   },
   "outputs": [],
   "source": [
    "%%R\n",
    "PF3$primer = \"nBITSf\"\n",
    "PR3$primer = \"58A2r\"\n",
    "total = rbind(PF3, PR3)"
   ]
  },
  {
   "cell_type": "code",
   "execution_count": 206,
   "metadata": {
    "collapsed": false
   },
   "outputs": [
    {
     "data": {
      "text/plain": [
       "   tax_level first_tax                  tax_rep seq_num percent\n",
       "1          1  K__fungi            P__ascomycota   20308  0.4559\n",
       "2          1  K__fungi         P__basidiomycota   15862  0.4869\n",
       "3          1  K__fungi            P__zygomycota     571  0.4834\n",
       "4          1  K__fungi       P__chytridiomycota     275  0.3055\n",
       "5          1  K__fungi            P__microspora     121  0.3471\n",
       "6          1  K__fungi    P__blastocladiomycota      30  0.5667\n",
       "7          1  K__fungi         P__glomeromycota    1322  0.7716\n",
       "8          1  K__fungi        P__incertae_sedis      14  0.5714\n",
       "9          1  K__fungi          P__unidentified   16696  0.6224\n",
       "10         1  K__fungi P__neocallimastigomycota     177  0.5198\n",
       "11         1  K__fungi            P__ascomycota   20308  0.9261\n",
       "12         1  K__fungi         P__basidiomycota   15862  0.8732\n",
       "13         1  K__fungi            P__zygomycota     571  0.8336\n",
       "14         1  K__fungi       P__chytridiomycota     275  0.6582\n",
       "15         1  K__fungi            P__microspora     121  0.0413\n",
       "16         1  K__fungi    P__blastocladiomycota      30  0.9667\n",
       "17         1  K__fungi         P__glomeromycota    1322  0.8661\n",
       "18         1  K__fungi        P__incertae_sedis      14  1.0000\n",
       "19         1  K__fungi          P__unidentified   16696  0.7867\n",
       "20         1  K__fungi P__neocallimastigomycota     177  0.4915\n",
       "                     tax realper primer\n",
       "1             Ascomycota   45.59 nBITSf\n",
       "2          Basidiomycota   48.69 nBITSf\n",
       "3             Zygomycota   48.34 nBITSf\n",
       "4        Chytridiomycota   30.55 nBITSf\n",
       "5             Microspora   34.71 nBITSf\n",
       "6     Blastocladiomycota   56.67 nBITSf\n",
       "7          Glomeromycota   77.16 nBITSf\n",
       "8         Incertae_sedis   57.14 nBITSf\n",
       "9           Unidentified   62.24 nBITSf\n",
       "10 Neocallimastigomycota   51.98 nBITSf\n",
       "11            Ascomycota   92.61  58A2r\n",
       "12         Basidiomycota   87.32  58A2r\n",
       "13            Zygomycota   83.36  58A2r\n",
       "14       Chytridiomycota   65.82  58A2r\n",
       "15            Microspora    4.13  58A2r\n",
       "16    Blastocladiomycota   96.67  58A2r\n",
       "17         Glomeromycota   86.61  58A2r\n",
       "18        Incertae_sedis  100.00  58A2r\n",
       "19          Unidentified   78.67  58A2r\n",
       "20 Neocallimastigomycota   49.15  58A2r\n"
      ]
     },
     "metadata": {},
     "output_type": "display_data"
    }
   ],
   "source": [
    "%%R\n",
    "total"
   ]
  },
  {
   "cell_type": "code",
   "execution_count": 221,
   "metadata": {
    "collapsed": false
   },
   "outputs": [],
   "source": [
    "%%R\n",
    "total$newpercent = ((total$seq_num * total$percent)  / sum((total$seq_num)/ 2) *100)"
   ]
  },
  {
   "cell_type": "code",
   "execution_count": 236,
   "metadata": {
    "collapsed": false
   },
   "outputs": [
    {
     "data": {
      "image/png": "[encoded data removed]"
     },
     "metadata": {},
     "output_type": "display_data"
    }
   ],
   "source": [
    "%%R\n",
    "p = ggplot(total, aes(x= primer, y = newpercent, fill=tax)) + geom_bar(stat= \"identity\")\n",
    "\n",
    "p = p + xlab(\"Primer\") + ylab(\"Percent Coverage\") + ggtitle(\"Primer Coverage\")\n",
    "\n",
    "p = p + expand_limits(y=c(0,100)) + scale_fill_discrete(name = \"Phylum\") + theme(text = element_text(size=16)) \n",
    "\n",
    "\n",
    "p"
   ]
  },
  {
   "cell_type": "code",
   "execution_count": 237,
   "metadata": {
    "collapsed": true
   },
   "outputs": [],
   "source": [
    "%%R\n",
    "ggsave(filename = \"data/figs/Primer_coverage.pdf\", plot = p, width = 7, height = 7)"
   ]
  }
 ],
 "metadata": {
  "kernelspec": {
   "display_name": "Python 2",
   "language": "python",
   "name": "python2"
  },
  "language_info": {
   "codemirror_mode": {
    "name": "ipython",
    "version": 2
   },
   "file_extension": ".py",
   "mimetype": "text/x-python",
   "name": "python",
   "nbconvert_exporter": "python",
   "pygments_lexer": "ipython2",
   "version": "2.7.10"
  }
 },
 "nbformat": 4,
 "nbformat_minor": 0
}
