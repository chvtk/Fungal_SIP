{
 "metadata": {
  "name": "",
  "signature": "sha256:dea7004c3bcdd5b4e435b6563ff696d6babe6773e754aafae025495eaab69028"
 },
 "nbformat": 3,
 "nbformat_minor": 0,
 "worksheets": [
  {
   "cells": [
    {
     "cell_type": "code",
     "collapsed": false,
     "input": [
      "import screed\n",
      "import pandas as pd\n",
      "from collections import Counter\n",
      "import matplotlib.pyplot as plt\n",
      "import numpy as np\n",
      "from mpltools import style\n",
      "import mpld3\n",
      "#from mpld3 import plugins\n",
      "#import jinja2\n",
      "#from mpld3._objects import D3Line2D, D3Collection\n",
      "#mpld3.disable_notebook()"
     ],
     "language": "python",
     "metadata": {},
     "outputs": [],
     "prompt_number": 24
    },
    {
     "cell_type": "code",
     "collapsed": false,
     "input": [
      "style.use(\"ggplot\")"
     ],
     "language": "python",
     "metadata": {},
     "outputs": [],
     "prompt_number": 25
    },
    {
     "cell_type": "code",
     "collapsed": false,
     "input": [
      "%matplotlib inline"
     ],
     "language": "python",
     "metadata": {},
     "outputs": [],
     "prompt_number": 26
    },
    {
     "cell_type": "code",
     "collapsed": false,
     "input": [
      "ir1 = \"/var/seq_data/FungalSIP/Undetermined_S0_L001_I1_001.fastq.gz\"\n",
      "ir2 = \"/var/seq_data/FungalSIP/Undetermined_S0_L001_I2_001.fastq.gz\""
     ],
     "language": "python",
     "metadata": {},
     "outputs": [],
     "prompt_number": 27
    },
    {
     "cell_type": "code",
     "collapsed": false,
     "input": [
      "screed.read_fastq_sequences(ir1)\n",
      "screed.read_fastq_sequences(ir2)"
     ],
     "language": "python",
     "metadata": {},
     "outputs": []
    },
    {
     "cell_type": "code",
     "collapsed": false,
     "input": [
      "ir1db = screed.ScreedDB(ir1)\n",
      "ir2db = screed.ScreedDB(ir2)"
     ],
     "language": "python",
     "metadata": {},
     "outputs": [],
     "prompt_number": 28
    },
    {
     "cell_type": "code",
     "collapsed": false,
     "input": [
      "df_map = pd.read_csv(\"data/Metadata_fungi.txt\", delimiter=\"\\t\", usecols=[0,2,3])\n",
      "df_map.head()"
     ],
     "language": "python",
     "metadata": {},
     "outputs": [
      {
       "html": [
        "<div style=\"max-height:1000px;max-width:1500px;overflow:auto;\">\n",
        "<table border=\"1\" class=\"dataframe\">\n",
        "  <thead>\n",
        "    <tr style=\"text-align: right;\">\n",
        "      <th></th>\n",
        "      <th>SampleID</th>\n",
        "      <th>i2</th>\n",
        "      <th>i1</th>\n",
        "    </tr>\n",
        "  </thead>\n",
        "  <tbody>\n",
        "    <tr>\n",
        "      <th>0</th>\n",
        "      <td> D1412.3</td>\n",
        "      <td> atcgtacg</td>\n",
        "      <td> cgagagtt</td>\n",
        "    </tr>\n",
        "    <tr>\n",
        "      <th>1</th>\n",
        "      <td> D1412.4</td>\n",
        "      <td> actatctg</td>\n",
        "      <td> cgagagtt</td>\n",
        "    </tr>\n",
        "    <tr>\n",
        "      <th>2</th>\n",
        "      <td> D1412.5</td>\n",
        "      <td> tagcgagt</td>\n",
        "      <td> cgagagtt</td>\n",
        "    </tr>\n",
        "    <tr>\n",
        "      <th>3</th>\n",
        "      <td> D1412.6</td>\n",
        "      <td> ctgcgtgt</td>\n",
        "      <td> cgagagtt</td>\n",
        "    </tr>\n",
        "    <tr>\n",
        "      <th>4</th>\n",
        "      <td> D1412.7</td>\n",
        "      <td> tcatcgag</td>\n",
        "      <td> cgagagtt</td>\n",
        "    </tr>\n",
        "  </tbody>\n",
        "</table>\n",
        "<p>5 rows \u00d7 3 columns</p>\n",
        "</div>"
       ],
       "metadata": {},
       "output_type": "pyout",
       "prompt_number": 29,
       "text": [
        "  SampleID        i2        i1\n",
        "0  D1412.3  atcgtacg  cgagagtt\n",
        "1  D1412.4  actatctg  cgagagtt\n",
        "2  D1412.5  tagcgagt  cgagagtt\n",
        "3  D1412.6  ctgcgtgt  cgagagtt\n",
        "4  D1412.7  tcatcgag  cgagagtt\n",
        "\n",
        "[5 rows x 3 columns]"
       ]
      }
     ],
     "prompt_number": 29
    },
    {
     "cell_type": "code",
     "collapsed": false,
     "input": [
      "map_d = dict(map(lambda x: (x[0] + x[1], x[2]), zip(df_map.i1, df_map.i2, df_map.SampleID)))\n",
      "print map_d.keys()[0], map_d[map_d.keys()[0]]"
     ],
     "language": "python",
     "metadata": {},
     "outputs": [
      {
       "output_type": "stream",
       "stream": "stdout",
       "text": [
        "tgagtacgactatctg D1413.13\n"
       ]
      }
     ],
     "prompt_number": 31
    },
    {
     "cell_type": "code",
     "collapsed": false,
     "input": [
      "screed.read_fastq_sequences(\"/var/seq_data/FungalSIP/pear_merged_raw-2014-04-24.assembled.fastq\")"
     ],
     "language": "python",
     "metadata": {},
     "outputs": [
      {
       "metadata": {},
       "output_type": "pyout",
       "prompt_number": 11,
       "text": [
        "<ScreedDB, '/var/seq_data/FungalSIP/pear_merged_raw-2014-04-24.assembled.fastq_screed'>"
       ]
      }
     ],
     "prompt_number": 11
    },
    {
     "cell_type": "code",
     "collapsed": false,
     "input": [
      "db = screed.ScreedDB(\"/var/seq_data/FungalSIP/pear_merged_raw-2014-04-24.assembled.fastq_screed\")"
     ],
     "language": "python",
     "metadata": {},
     "outputs": [],
     "prompt_number": 32
    },
    {
     "cell_type": "code",
     "collapsed": false,
     "input": [
      "counter = 0\n",
      "unassigned = 0\n",
      "cnt = Counter()\n",
      "fn = \"/var/seq_data/FungalSIP/pear_merged_raw-2014-04-24.assembled.dmult.fastq\"\n",
      "with open(fn, \"w\") as out:\n",
      "    for rec in db.itervalues():\n",
      "        index_concat = ir1db[rec[\"name\"]][\"sequence\"] + ir2db[rec[\"name\"]][\"sequence\"]\n",
      "        try:\n",
      "            new_name = map_d[index_concat.lower()] + \"_\" + str(counter) #case sensitive\n",
      "        except KeyError:\n",
      "            unassigned += 1\n",
      "            continue\n",
      "        counter += 1\n",
      "        cnt[map_d[index_concat.lower()]] += 1 #case sensitive\n",
      "        s, q = rec[\"sequence\"], rec[\"accuracy\"]\n",
      "        out.write(\"@%s orig_name=%s\\n%s\\n+\\n%s\\n\"%(new_name,rec[\"name\"],s,q))\n",
      "print \"Unable to assign %s reads to samples\"%unassigned"
     ],
     "language": "python",
     "metadata": {},
     "outputs": [
      {
       "output_type": "stream",
       "stream": "stdout",
       "text": [
        "Unable to assign 1586681 reads to samples\n"
       ]
      }
     ],
     "prompt_number": 33
    },
    {
     "cell_type": "code",
     "collapsed": false,
     "input": [
      "X = np.arange(len(cnt.keys()))\n",
      "Y = [v for k, v in cnt.most_common()]\n",
      "fig = plt.figure()\n",
      "fig.set_size_inches((18,8))\n",
      "ax = fig.add_subplot(111)\n",
      "bars = ax.bar(X, Y, width=0.50)\n",
      "xlims = ax.set_xlim((X.min(), X.max()))\n",
      "xt = ax.set_xticks(X)\n",
      "xtl = ax.set_xticklabels([k for k, v in cnt.most_common()], rotation=90, ha=\"center\", size=6)"
     ],
     "language": "python",
     "metadata": {},
     "outputs": [
      {
       "metadata": {},
       "output_type": "display_data",
       "png": "[encoded data removed]",
       "text": [
        "<matplotlib.figure.Figure at 0x41c2bd0>"
       ]
      }
     ],
     "prompt_number": 34
    }
   ],
   "metadata": {}
  }
 ]
}