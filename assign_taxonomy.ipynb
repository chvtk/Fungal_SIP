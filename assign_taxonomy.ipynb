{
 "metadata": {
  "name": "",
  "signature": "sha256:3405ac3e3ad87a388ecd9cef30077ab2dd0850851e8462d1a64026b3524195c2"
 },
 "nbformat": 3,
 "nbformat_minor": 0,
 "worksheets": [
  {
   "cells": [
    {
     "cell_type": "markdown",
     "metadata": {},
     "source": [
      "###Just assign to centroids for now. Could do consensus OTU taxonomy with Mothur..."
     ]
    },
    {
     "cell_type": "heading",
     "level": 3,
     "metadata": {},
     "source": [
      "Assigning taxonomy and adding metadata "
     ]
    },
    {
     "cell_type": "code",
     "collapsed": false,
     "input": [
      "%%bash \n",
      "assign_taxonomy.py -i data/otusn.pick.fasta -m uclust -r data/tmp/db/its_12_11_otus/rep_set/97_otus.fasta -t data/tmp/db/its_12_11_otus/taxonomy/97_otu_taxonomy.txt -o uclust_assigned_taxonomy_removed \n"
     ],
     "language": "python",
     "metadata": {},
     "outputs": [],
     "prompt_number": 1
    },
    {
     "cell_type": "code",
     "collapsed": false,
     "input": [
      "!biom add-metadata -i data/otu_table.biom \\\n",
      "-o data/otu_table_wtax.biom \\\n",
      "--observation-metadata-fp uclust_assigned_taxonomy_removed/otusn.pick_tax_assignments.txt \\\n",
      "--sc-separated taxonomy \\\n",
      "--float-fields consensus \\\n",
      "--int-fields numhits \\\n",
      "--observation-header OTUID,taxonomy,consensus,numhits"
     ],
     "language": "python",
     "metadata": {},
     "outputs": [],
     "prompt_number": 2
    }
   ],
   "metadata": {}
  }
 ]
}