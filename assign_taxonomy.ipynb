{
 "cells": [
  {
   "cell_type": "markdown",
   "metadata": {},
   "source": [
    "###Just assign to centroids for now. Could do consensus OTU taxonomy with Mothur..."
   ]
  },
  {
   "cell_type": "markdown",
   "metadata": {},
   "source": [
    "### Assigning taxonomy and adding metadata "
   ]
  },
  {
   "cell_type": "code",
   "execution_count": 3,
   "metadata": {
    "collapsed": false
   },
   "outputs": [],
   "source": [
    "%%bash \n",
    "assign_taxonomy.py -i data/otusn.pick.fasta -m uclust -r /home/seq_data/UNITE/31_01_16_s/sh_refs_qiime_ver7_97_s_31.01.2016.fasta -t /home/seq_data/UNITE/31_01_16_s/sh_taxonomy_qiime_ver7_97_s_31.01.2016.txt  -o data/otusn_tax/"
   ]
  },
  {
   "cell_type": "code",
   "execution_count": 4,
   "metadata": {
    "collapsed": false
   },
   "outputs": [],
   "source": [
    "!biom add-metadata -i data/otu_table.biom \\\n",
    "-o data/otu_table_wtax.biom \\\n",
    "--observation-metadata-fp data/otusn_tax/otusn_tax_assignments.txt  \\\n",
    "--sc-separated taxonomy \\\n",
    "--float-fields consensus \\\n",
    "--int-fields numhits \\\n",
    "--observation-header OTUID,taxonomy,consensus,numhits"
   ]
  }
 ],
 "metadata": {
  "kernelspec": {
   "display_name": "Python 2",
   "language": "python",
   "name": "python2"
  },
  "language_info": {
   "codemirror_mode": {
    "name": "ipython",
    "version": 2
   },
   "file_extension": ".py",
   "mimetype": "text/x-python",
   "name": "python",
   "nbconvert_exporter": "python",
   "pygments_lexer": "ipython2",
   "version": "2.7.13"
  }
 },
 "nbformat": 4,
 "nbformat_minor": 0
}
