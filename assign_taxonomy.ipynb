{
 "cells": [
  {
   "cell_type": "markdown",
   "metadata": {},
   "source": [
    "###Just assign to centroids for now. Could do consensus OTU taxonomy with Mothur..."
   ]
  },
  {
   "cell_type": "markdown",
   "metadata": {},
   "source": [
    "### Assigning taxonomy and adding metadata "
   ]
  },
  {
   "cell_type": "code",
   "execution_count": 5,
   "metadata": {
    "collapsed": false
   },
   "outputs": [],
   "source": [
    "%%bash \n",
    "assign_taxonomy.py -i data/otusn.fasta -m uclust -r data/tmp/db/its_12_11_otus/rep_set/97_otus.fasta -t data/tmp/db/its_12_11_otus/taxonomy/97_otu_taxonomy.txt -o data/otusn_tax/otusn_tax_assignments.txt "
   ]
  },
  {
   "cell_type": "code",
   "execution_count": 2,
   "metadata": {
    "collapsed": false
   },
   "outputs": [],
   "source": [
    "!biom add-metadata -i data/otu_table.biom \\\n",
    "-o data/otu_table_wtax.biom \\\n",
    "--observation-metadata-fp data/otusn_tax/otusn_tax_assignments.txt  \\\n",
    "--sc-separated taxonomy \\\n",
    "--float-fields consensus \\\n",
    "--int-fields numhits \\\n",
    "--observation-header OTUID,taxonomy,consensus,numhits"
   ]
  }
 ],
 "metadata": {
  "kernelspec": {
   "display_name": "Python 2",
   "language": "python",
   "name": "python2"
  },
  "language_info": {
   "codemirror_mode": {
    "name": "ipython",
    "version": 2
   },
   "file_extension": ".py",
   "mimetype": "text/x-python",
   "name": "python",
   "nbconvert_exporter": "python",
   "pygments_lexer": "ipython2",
   "version": "2.7.10"
  }
 },
 "nbformat": 4,
 "nbformat_minor": 0
}
