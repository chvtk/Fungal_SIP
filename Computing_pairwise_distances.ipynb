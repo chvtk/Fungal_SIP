{
 "cells": [
  {
   "cell_type": "code",
   "execution_count": 2,
   "metadata": {
    "collapsed": true
   },
   "outputs": [],
   "source": [
    "%load_ext rpy2.ipython"
   ]
  },
  {
   "cell_type": "code",
   "execution_count": 3,
   "metadata": {
    "collapsed": false
   },
   "outputs": [
    {
     "name": "stderr",
     "output_type": "stream",
     "text": [
      "/opt/anaconda/lib/python2.7/site-packages/rpy2/robjects/functions.py:106: UserWarning: foreach: simple, scalable parallel programming from Revolution Analytics\n",
      "Use Revolution R for scalability, fault tolerance and more.\n",
      "http://www.revolutionanalytics.com\n",
      "\n",
      "  res = super(Function, self).__call__(*new_args, **new_kwargs)\n",
      "/opt/anaconda/lib/python2.7/site-packages/rpy2/robjects/functions.py:106: UserWarning: Loading required package: iterators\n",
      "\n",
      "  res = super(Function, self).__call__(*new_args, **new_kwargs)\n",
      "/opt/anaconda/lib/python2.7/site-packages/rpy2/robjects/functions.py:106: UserWarning: Loading required package: parallel\n",
      "\n",
      "  res = super(Function, self).__call__(*new_args, **new_kwargs)\n",
      "/opt/anaconda/lib/python2.7/site-packages/rpy2/robjects/functions.py:106: UserWarning: Loading required package: permute\n",
      "\n",
      "  res = super(Function, self).__call__(*new_args, **new_kwargs)\n",
      "/opt/anaconda/lib/python2.7/site-packages/rpy2/robjects/functions.py:106: UserWarning: Loading required package: lattice\n",
      "\n",
      "  res = super(Function, self).__call__(*new_args, **new_kwargs)\n",
      "/opt/anaconda/lib/python2.7/site-packages/rpy2/robjects/functions.py:106: UserWarning: This is vegan 2.3-2\n",
      "\n",
      "  res = super(Function, self).__call__(*new_args, **new_kwargs)\n",
      "/opt/anaconda/lib/python2.7/site-packages/rpy2/robjects/functions.py:106: UserWarning: \n",
      "Attaching package: ‘dplyr’\n",
      "\n",
      "\n",
      "  res = super(Function, self).__call__(*new_args, **new_kwargs)\n",
      "/opt/anaconda/lib/python2.7/site-packages/rpy2/robjects/functions.py:106: UserWarning: The following objects are masked from ‘package:plyr’:\n",
      "\n",
      "    arrange, count, desc, failwith, id, mutate, rename, summarise,\n",
      "    summarize\n",
      "\n",
      "\n",
      "  res = super(Function, self).__call__(*new_args, **new_kwargs)\n",
      "/opt/anaconda/lib/python2.7/site-packages/rpy2/robjects/functions.py:106: UserWarning: The following objects are masked from ‘package:stats’:\n",
      "\n",
      "    filter, lag\n",
      "\n",
      "\n",
      "  res = super(Function, self).__call__(*new_args, **new_kwargs)\n",
      "/opt/anaconda/lib/python2.7/site-packages/rpy2/robjects/functions.py:106: UserWarning: The following objects are masked from ‘package:base’:\n",
      "\n",
      "    intersect, setdiff, setequal, union\n",
      "\n",
      "\n",
      "  res = super(Function, self).__call__(*new_args, **new_kwargs)\n"
     ]
    }
   ],
   "source": [
    "%%R\n",
    "library(phyloseq)\n",
    "library(ggplot2)\n",
    "library(foreach)\n",
    "library(doParallel)\n",
    "library(gridExtra)\n",
    "library(vegan)\n",
    "library(plyr); library(dplyr)\n",
    "library(RColorBrewer)\n",
    "library(stats)\n",
    "library(reshape2)"
   ]
  },
  {
   "cell_type": "markdown",
   "metadata": {},
   "source": [
    "## Filtering fasta file used as OTU seeds by OTUs that are in the final l2fc dataset"
   ]
  },
  {
   "cell_type": "code",
   "execution_count": 4,
   "metadata": {
    "collapsed": false
   },
   "outputs": [],
   "source": [
    "%%R\n",
    "l2fc = read.csv(\"data/l2fc_UNITE.csv\", header = TRUE, sep = \",\")"
   ]
  },
  {
   "cell_type": "code",
   "execution_count": 5,
   "metadata": {
    "collapsed": false
   },
   "outputs": [
    {
     "data": {
      "text/plain": [
       "     [,1]     \n",
       "[1,] \"OTU.2\"  \n",
       "[2,] \"OTU.22\" \n",
       "[3,] \"OTU.19\" \n",
       "[4,] \"OTU.5\"  \n",
       "[5,] \"OTU.308\"\n",
       "[6,] \"OTU.3\"  \n"
      ]
     },
     "metadata": {},
     "output_type": "display_data"
    }
   ],
   "source": [
    "%%R\n",
    "head((unique(l2fc$OTU)))\n",
    "a = as.matrix((unique(l2fc$OTU)))\n",
    "head(a)"
   ]
  },
  {
   "cell_type": "code",
   "execution_count": 8,
   "metadata": {
    "collapsed": false
   },
   "outputs": [],
   "source": [
    "%%R\n",
    "write(a, file = \"data/l2fc_OTUs.txt\",\n",
    "      ncolumns = 1,\n",
    "      append = FALSE, sep = \" \")"
   ]
  },
  {
   "cell_type": "code",
   "execution_count": 9,
   "metadata": {
    "collapsed": false
   },
   "outputs": [
    {
     "name": "stdout",
     "output_type": "stream",
     "text": [
      "OTU.2\r\n",
      "OTU.22\r\n",
      "OTU.19\r\n",
      "OTU.5\r\n",
      "OTU.308\r\n",
      "OTU.3\r\n",
      "OTU.151\r\n",
      "OTU.7\r\n",
      "OTU.1081\r\n",
      "OTU.8\r\n"
     ]
    }
   ],
   "source": [
    "! head data/l2fc_OTUs.txt "
   ]
  },
  {
   "cell_type": "code",
   "execution_count": 11,
   "metadata": {
    "collapsed": false
   },
   "outputs": [
    {
     "name": "stdout",
     "output_type": "stream",
     "text": [
      ">OTU.1\r\n",
      "TTACAGAGTCGCAATACTCCGTAAACCATTGTGAACGTTACCTAACCGTTGCTTCGGCGGGCGGCGCCCGGGCCCTCGCGGCCCGCGGCGCCccccGGCCCCTGCGGGCGCCCGCCGGAGGTAGACCAAACTCTTGAATTACATGGCCTctctGAGTCTTCTGTACTGAATAAGTCAAAACTTTCAACAACGGATCTCTTGGTTCTGGC\r\n",
      ">OTU.2\r\n",
      "TTACAGAGTTGCAAAACTCCCTAAACCATTGTGAACGTTACCTTCAAACCGTTGCTTCGGCGGGCGGCCCGGGTCCGCCCGGTGCCcccTGGCCcccTAGCGGGGCGCCCGCCGGAGGAAACCCAACTCTTGATTATTATGGCCTctctGAGTCTTCTGTACTGAATAAGTCAAAACTTTCAACAACGGATCTCTTGGTTCTGGC\r\n",
      ">OTU.3\r\n",
      "TTACTGAGTACTACACTctctACCCTTTGTGAACTATTATACCTGTTGCTTCGGCGGCGCCCGCGAGGGTGCCCGCCGGTCTCATCAGAATCTCTGTTTTCGAACCCGACGATACTTCTGAGTGTTCTTAGCGAACTGTCAAAACTTTTAACAACGGATCTCTTGGCTCCAGC\r\n",
      ">OTU.4\r\n",
      "TTACAGAGTCGCAACACTCCGTAAACCATTGTGAACGTTACCTTAACCGTTGCTTCGGCGGGCGGCGCCCGGGCCTCACCGCCCGCGGCGCCccccGGCCccccGTGGGCGCCCGCCGGAGGTACACCAAACTCTTGCATTGTATGGCCTctctGAGTATTCTGTACTGAATAAGTCAAAACTTTCAACAACGGATCTCTTGGTTCTGGC\r\n",
      ">OTU.5\r\n",
      "TTACAGAGTTGCAAAACTCCCTAAACCATTGTGAACGTTACCAAAACCGTTGCTTCGGCGGGCGGCCCGGGTCCTTCCCGGCGCCccccGGCCCTCGCGGGCGCCCGCCGGAGGTAAACCAAACTATTGCATTAATGGCCTctctGAGTCTTCTGTACTGAATAAGTCAAAACTTTCAACAACGGATCTCTTGGTTCTGGC\r\n"
     ]
    }
   ],
   "source": [
    "! head SIP_Bulk_otusn_soft.fasta"
   ]
  },
  {
   "cell_type": "code",
   "execution_count": null,
   "metadata": {
    "collapsed": false
   },
   "outputs": [],
   "source": [
    "! grep -A 1 -wf data/l2fc_OTUs.txt SIP_Bulk_otusn_soft.fasta > data/SIP_Bulk_otusn_l2fc.fasta #or reg exp ...doing partial match"
   ]
  },
  {
   "cell_type": "code",
   "execution_count": null,
   "metadata": {
    "collapsed": true
   },
   "outputs": [],
   "source": [
    "##invert grep for lines with --"
   ]
  },
  {
   "cell_type": "code",
   "execution_count": null,
   "metadata": {
    "collapsed": false
   },
   "outputs": [],
   "source": [
    "! head data/SIP_Bulk_otusn_l2fc.fasta\n"
   ]
  },
  {
   "cell_type": "code",
   "execution_count": null,
   "metadata": {
    "collapsed": false
   },
   "outputs": [],
   "source": [
    "! grep -c \"OTU\" data/SIP_Bulk_otusn_l2fc.fasta\n"
   ]
  },
  {
   "cell_type": "code",
   "execution_count": null,
   "metadata": {
    "collapsed": false
   },
   "outputs": [],
   "source": [
    "! grep -c \"OTU\" data/l2fc_OTUs.txt\n"
   ]
  },
  {
   "cell_type": "markdown",
   "metadata": {},
   "source": [
    "## Running Pairwise Comparisons on Filtered fasta file"
   ]
  },
  {
   "cell_type": "code",
   "execution_count": null,
   "metadata": {
    "collapsed": false
   },
   "outputs": [],
   "source": [
    "%%bash\n",
    "ionice -c2 -n3 \\\n",
    "mothur \"#pairwise.seqs(fasta=data/SIP_Bulk_otusn_l2fc.fasta, calc=onegap, countends=false, \\\n",
    "processors=10, output=square)\" #> /dev/null\n"
   ]
  },
  {
   "cell_type": "code",
   "execution_count": null,
   "metadata": {
    "collapsed": false
   },
   "outputs": [],
   "source": [
    "!tail data/SIP_Bulk_otusn_l2fc.square.dist | cut -c1-80"
   ]
  },
  {
   "cell_type": "code",
   "execution_count": null,
   "metadata": {
    "collapsed": false
   },
   "outputs": [],
   "source": [
    "! grep -c \"OTU\" data/SIP_Bulk_otusn_l2fc.square.dist"
   ]
  },
  {
   "cell_type": "markdown",
   "metadata": {},
   "source": [
    "## Running t-SNE analysis on pairwise distance matrix"
   ]
  },
  {
   "cell_type": "code",
   "execution_count": null,
   "metadata": {
    "collapsed": false
   },
   "outputs": [],
   "source": [
    "import numpy as np\n",
    "import matplotlib as mp\n",
    "import matplotlib.pyplot as plt\n",
    "from sklearn.manifold import TSNE\n",
    "from math import log"
   ]
  },
  {
   "cell_type": "code",
   "execution_count": null,
   "metadata": {
    "collapsed": false
   },
   "outputs": [],
   "source": [
    "%matplotlib inline"
   ]
  },
  {
   "cell_type": "code",
   "execution_count": null,
   "metadata": {
    "collapsed": false
   },
   "outputs": [],
   "source": [
    "dist_lines = open(\"data/SIP_Bulk_otusn_l2fc.square.dist\").readlines()\n",
    "def line2array(line):\n",
    "    line = line.rstrip()\n",
    "    return np.array(map(float, line.split(\"\\t\")[1:]))\n",
    "distmat = np.vstack([line2array(line) for line in dist_lines[1:]])"
   ]
  },
  {
   "cell_type": "code",
   "execution_count": null,
   "metadata": {
    "collapsed": false
   },
   "outputs": [],
   "source": [
    "def getOTU(line):\n",
    "    line = line.rstrip()\n",
    "    return np.array(line.split(\"\\t\")[0:1])\n",
    "OTU= np.vstack(getOTU(line) for line in dist_lines[1:])"
   ]
  },
  {
   "cell_type": "code",
   "execution_count": null,
   "metadata": {
    "collapsed": false
   },
   "outputs": [],
   "source": [
    "print OTU"
   ]
  },
  {
   "cell_type": "code",
   "execution_count": null,
   "metadata": {
    "collapsed": false
   },
   "outputs": [],
   "source": [
    "print distmat"
   ]
  },
  {
   "cell_type": "code",
   "execution_count": null,
   "metadata": {
    "collapsed": true
   },
   "outputs": [],
   "source": [
    "def corr(a):\n",
    "    if (a >= 0.75): return a\n",
    "    else: return (-3/4*(log(1-(4/3*a))))"
   ]
  },
  {
   "cell_type": "code",
   "execution_count": null,
   "metadata": {
    "collapsed": false
   },
   "outputs": [],
   "source": [
    "vecfunc = np.vectorize(corr)\n",
    "result=vecfunc(distmat)"
   ]
  },
  {
   "cell_type": "code",
   "execution_count": null,
   "metadata": {
    "collapsed": false
   },
   "outputs": [],
   "source": [
    "print result"
   ]
  },
  {
   "cell_type": "code",
   "execution_count": null,
   "metadata": {
    "collapsed": false
   },
   "outputs": [],
   "source": [
    "model = TSNE(n_components=2, random_state=0)\n",
    "tsne_coords = model.fit_transform(result) "
   ]
  },
  {
   "cell_type": "code",
   "execution_count": null,
   "metadata": {
    "collapsed": false
   },
   "outputs": [],
   "source": [
    "tsne_coords"
   ]
  },
  {
   "cell_type": "code",
   "execution_count": null,
   "metadata": {
    "collapsed": false
   },
   "outputs": [],
   "source": [
    "combo = np.concatenate((tsne_coords, OTU), axis = 1)"
   ]
  },
  {
   "cell_type": "code",
   "execution_count": null,
   "metadata": {
    "collapsed": false
   },
   "outputs": [],
   "source": [
    "combo"
   ]
  },
  {
   "cell_type": "markdown",
   "metadata": {},
   "source": [
    "## Visualizing t-SNE coordinates"
   ]
  },
  {
   "cell_type": "code",
   "execution_count": null,
   "metadata": {
    "collapsed": false
   },
   "outputs": [],
   "source": [
    "fig = plt.figure(figsize=(10, 10))\n",
    "ax = plt.axes(frameon=False)\n",
    "plt.setp(ax, xticks=(), yticks=())\n",
    "plt.subplots_adjust(left=0.0, bottom=0.0, right=1.0, top=0.9,\n",
    "                wspace=0.0, hspace=0.0)\n",
    "plt.scatter(combo[:, 0], combo[:, 1])"
   ]
  },
  {
   "cell_type": "markdown",
   "metadata": {},
   "source": [
    "## Importing python variables of t-SNE coordinates into R"
   ]
  },
  {
   "cell_type": "code",
   "execution_count": null,
   "metadata": {
    "collapsed": true
   },
   "outputs": [],
   "source": [
    "%Rpush combo"
   ]
  },
  {
   "cell_type": "code",
   "execution_count": null,
   "metadata": {
    "collapsed": false
   },
   "outputs": [],
   "source": [
    "%%R\n",
    "colnames(combo) = c(\"tsne_1\", \"tsne_2\", \"OTU\")"
   ]
  },
  {
   "cell_type": "code",
   "execution_count": null,
   "metadata": {
    "collapsed": false
   },
   "outputs": [],
   "source": [
    "%%R\n",
    "combo = as.data.frame(combo)"
   ]
  },
  {
   "cell_type": "code",
   "execution_count": null,
   "metadata": {
    "collapsed": false
   },
   "outputs": [],
   "source": [
    "%%R\n",
    "head(combo)"
   ]
  },
  {
   "cell_type": "code",
   "execution_count": null,
   "metadata": {
    "collapsed": false
   },
   "outputs": [],
   "source": [
    "%%R\n",
    "combo$OTU = gsub(\" \", \"\", combo$OTU, fixed = TRUE)"
   ]
  },
  {
   "cell_type": "code",
   "execution_count": null,
   "metadata": {
    "collapsed": false
   },
   "outputs": [],
   "source": [
    "%%R\n",
    "head(combo)"
   ]
  },
  {
   "cell_type": "markdown",
   "metadata": {},
   "source": [
    "## Creating csv with t-SNE information"
   ]
  },
  {
   "cell_type": "code",
   "execution_count": null,
   "metadata": {
    "collapsed": true
   },
   "outputs": [],
   "source": [
    "%%R\n",
    "write.table(combo, \"data/tSNE.csv\", row.names = FALSE, sep = \",\")"
   ]
  },
  {
   "cell_type": "markdown",
   "metadata": {},
   "source": [
    "# Start notebook here if just visualizing t-SNE"
   ]
  },
  {
   "cell_type": "code",
   "execution_count": null,
   "metadata": {
    "collapsed": true
   },
   "outputs": [],
   "source": [
    "%%R\n",
    "combo = read.csv(\"data/tSNE.csv\")"
   ]
  },
  {
   "cell_type": "markdown",
   "metadata": {},
   "source": [
    "## Adding Metadata to t-SNE coordinates"
   ]
  },
  {
   "cell_type": "code",
   "execution_count": null,
   "metadata": {
    "collapsed": false
   },
   "outputs": [],
   "source": [
    "%%R\n",
    "sample.md = read.table(\"data/Metadata_fungi.txt\", \n",
    "                comment.char = \"\",\n",
    "                header = TRUE,\n",
    "                colClasses = c(\"Density\" = \"numeric\"))\n",
    "rownames(sample.md) = as.character(sample.md[, 1])\n",
    "\n",
    "sample.md = sample_data(sample.md)"
   ]
  },
  {
   "cell_type": "code",
   "execution_count": null,
   "metadata": {
    "collapsed": false
   },
   "outputs": [],
   "source": [
    "%%R\n",
    "physeq = import_biom(\"data/otu_table_wtax.biom\")\n",
    "print(physeq)\n",
    "sample.data = import_qiime_sample_data(\"data/Metadata_fungi.txt\")\n",
    "physeq = merge_phyloseq(physeq,sample.data)\n",
    "print(physeq)\n",
    "physeq.md = sample_data(physeq)\n",
    "physeq.fungi = prune_samples((physeq.md$Treatment %in% c(\"12CCPS\",\"13CCPS\"))& \n",
    "                             (physeq.md$SampleID != c(\"D312.6\")),  physeq)\n",
    "physeq.fungi.prune = prune_samples(sample_sums(physeq.fungi) > 5360, physeq.fungi)\n",
    "print (physeq.fungi.prune)\n",
    "physeq.fungi.snorm = transform_sample_counts(physeq.fungi.prune, function(x) x/sum(x))\n",
    "#physeq.fungi.thresh = filter_taxa(physeq.fungi.snorm, function(x) sum(x > 0) / length(x) > (0.25), TRUE)\n",
    "#physeq.fungi.thresh.min = filter_taxa(physeq.fungi.thresh, function(x) sum(x) > 5000, TRUE)\n",
    "#physeq.fungi.thresh = filter_taxa(physeq.SIP.snorm, function(x) sum(x > 0) > (0.25 * length(x)), TRUE)\n",
    "#print(physeq.fungi.thresh)"
   ]
  },
  {
   "cell_type": "code",
   "execution_count": null,
   "metadata": {
    "collapsed": false
   },
   "outputs": [],
   "source": [
    "%%R\n",
    "mdf= tbl_df(psmelt(physeq.fungi.prune))"
   ]
  },
  {
   "cell_type": "code",
   "execution_count": null,
   "metadata": {
    "collapsed": false
   },
   "outputs": [],
   "source": [
    "%%R\n",
    "d = left_join(combo, mdf)"
   ]
  },
  {
   "cell_type": "code",
   "execution_count": null,
   "metadata": {
    "collapsed": false
   },
   "outputs": [],
   "source": [
    "%%R\n",
    "d$Rank2 = gsub(\"p__\", \"\", d$Rank2)\n",
    "d$Rank3 = gsub(\"c__\", \"\", d$Rank3)\n",
    "d$Rank4 = gsub(\"o__\", \"\", d$Rank4)"
   ]
  },
  {
   "cell_type": "code",
   "execution_count": null,
   "metadata": {
    "collapsed": false
   },
   "outputs": [],
   "source": [
    "%%R\n",
    "head(d$Rank1)"
   ]
  },
  {
   "cell_type": "code",
   "execution_count": null,
   "metadata": {
    "collapsed": false
   },
   "outputs": [],
   "source": [
    "%%R\n",
    "d_sub = select(d, OTU, Sample, Day, tsne_1, tsne_2, Density, Rank1, Rank2, Rank3, Treatment)"
   ]
  },
  {
   "cell_type": "code",
   "execution_count": null,
   "metadata": {
    "collapsed": false
   },
   "outputs": [],
   "source": [
    "%%R -w 800 -h 800\n",
    "\n",
    "asNumeric = function(x) { as.numeric(as.character(x)) }\n",
    "p = ggplot(d_sub, aes(x = asNumeric(tsne_1), y = asNumeric(tsne_2)))+\n",
    "    geom_point(aes(fill = as.factor(Day), color = as.factor(Day), alpha = 0.85), pch = 21) +\n",
    "    guides(alpha = FALSE, fill=guide_legend(override.aes=list(size=6)))\n",
    "\n",
    "\n",
    "p      "
   ]
  },
  {
   "cell_type": "code",
   "execution_count": null,
   "metadata": {
    "collapsed": false
   },
   "outputs": [],
   "source": [
    "%%R\n",
    "l2fc = read.csv(\"data/l2fc_UNITE.csv\", header = TRUE, sep = \",\")"
   ]
  },
  {
   "cell_type": "code",
   "execution_count": null,
   "metadata": {
    "collapsed": false
   },
   "outputs": [],
   "source": [
    "%%R\n",
    "d2 = left_join(combo, l2fc)"
   ]
  },
  {
   "cell_type": "code",
   "execution_count": null,
   "metadata": {
    "collapsed": false
   },
   "outputs": [],
   "source": [
    "%%R -w 800 -h 800\n",
    "\n",
    "my_palette <- colorRampPalette(c(\"red\", \"yellow\", \"green\"))(n = 299)\n",
    "\n",
    "\n",
    "asNumeric = function(x) { as.numeric(as.character(x)) }\n",
    "p = ggplot(d2, aes(x = asNumeric(tsne_1), y = asNumeric(tsne_2)))+\n",
    "    geom_point(aes(fill = log2FoldChange, color = log2FoldChange, alpha = 0.85), pch = 21) +\n",
    "    guides(alpha = FALSE, fill=guide_legend(override.aes=list(size=6))) + labs(size = \"Density\")+\n",
    "    scale_fill_gradient(low=\"blue\",high=\"green\") + scale_colour_gradient(low=\"blue\",high=\"green\") \n",
    "\n",
    "\n",
    "p     "
   ]
  },
  {
   "cell_type": "code",
   "execution_count": null,
   "metadata": {
    "collapsed": false
   },
   "outputs": [],
   "source": [
    "%%R\n",
    "head(d2)\n",
    "d2$logp = -log10(d2$padj)"
   ]
  },
  {
   "cell_type": "code",
   "execution_count": null,
   "metadata": {
    "collapsed": false
   },
   "outputs": [],
   "source": [
    "%%R\n",
    "d2$Resp_status[d2$padj > 0.10] = \"Non-responder\"\n",
    "d2$Resp_status[d2$padj <= 0.10] = \"Responder\"\n",
    "d2$Resp_status[is.na(d2$padj)] = \"Non-responder\""
   ]
  },
  {
   "cell_type": "markdown",
   "metadata": {},
   "source": [
    "## Visualizing t-SNE Coordinates with Metadata painted on"
   ]
  },
  {
   "cell_type": "code",
   "execution_count": null,
   "metadata": {
    "collapsed": false
   },
   "outputs": [],
   "source": [
    "%%R -w 800 -h 600\n",
    "\n",
    "my_palette <- colorRampPalette(c(\"red\", \"yellow\", \"green\"))(n = 299)\n",
    "\n",
    "\n",
    "asNumeric = function(x) { as.numeric(as.character(x)) }\n",
    "p = ggplot(d2, aes(x = asNumeric(tsne_1), y = asNumeric(tsne_2)))+\n",
    "    geom_point(fill = \"blue\", color = \"blue\", size = 2, pch = 21) +\n",
    "    guides(alpha = FALSE, fill=guide_legend(override.aes=list(size=6)))  + \n",
    "    #scale_colour_gradient(limits = c(0, 1), low=\"red\", high=\"blue\", name = \"Adjusted p-value\") +\n",
    "    guides(color=FALSE) + theme(text = element_text(size=18)) \n",
    "\n",
    "\n",
    "p = p + xlab(\"tsne1\") + ylab(\"tsne2\")\n",
    "\n",
    "\n",
    "p   "
   ]
  },
  {
   "cell_type": "code",
   "execution_count": null,
   "metadata": {
    "collapsed": false
   },
   "outputs": [],
   "source": [
    "%%R\n",
    "ggsave(\"data/figs/tnseFig_nolabels.png\", p, height = 7, width = 7)"
   ]
  },
  {
   "cell_type": "code",
   "execution_count": null,
   "metadata": {
    "collapsed": false
   },
   "outputs": [],
   "source": [
    "%%R -w 800 -h 600\n",
    "\n",
    "my_palette <- c(\"blue\", \"red\", \"grey\")\n",
    "\n",
    "\n",
    "asNumeric = function(x) { as.numeric(as.character(x)) }\n",
    "p = ggplot(d2, aes(x = asNumeric(tsne_1), y = asNumeric(tsne_2)))+\n",
    "    geom_point(aes(fill = Resp_status, color = Resp_status, alpha = 0.85), size = 2.5, pch = 21) +\n",
    "    guides(alpha = FALSE, fill=guide_legend(override.aes=list(size=5))) +\n",
    "    scale_shape_discrete(name = \"Responder Status\") + \n",
    "    scale_colour_manual(values = my_palette) +\n",
    "    scale_fill_manual(values = my_palette, name = \"Responder Status\")+\n",
    "    guides(color=FALSE) + theme(text = element_text(size=18)) \n",
    "\n",
    "p = p + geom_point(data = subset(d2, padj <= 0.10), shape = 20, size = 3, color = \"red\")\n",
    "\n",
    "p = p + theme(legend.position =\"bottom\")\n",
    "\n",
    "p = p + xlab(\"tsne1\") + ylab(\"tsne2\")\n",
    "\n",
    "p = p + guides(fill = FALSE)\n",
    "\n",
    "\n",
    "p     "
   ]
  },
  {
   "cell_type": "code",
   "execution_count": null,
   "metadata": {
    "collapsed": false
   },
   "outputs": [],
   "source": [
    "%%R\n",
    "ggsave(\"data/figs/tnseFig.png\", p, height = 8, width = 8)"
   ]
  },
  {
   "cell_type": "code",
   "execution_count": null,
   "metadata": {
    "collapsed": false
   },
   "outputs": [],
   "source": [
    "%%R\n",
    "d3 = d2 %>% group_by(tsne_1, tsne_2, padj, OTU) %>%\n",
    "    summarise(LFC = mean(log2FoldChange))"
   ]
  },
  {
   "cell_type": "code",
   "execution_count": null,
   "metadata": {
    "collapsed": false
   },
   "outputs": [],
   "source": [
    "%%R\n",
    "points.dist = dist(cbind(d3$tsne_1, d3$tsne_2))\n",
    "pval.dist = dist(d3$padj)"
   ]
  },
  {
   "cell_type": "code",
   "execution_count": null,
   "metadata": {
    "collapsed": false
   },
   "outputs": [],
   "source": [
    "%%R\n",
    "points2.dist = as.matrix(points.dist)\n",
    "pval2.dist = as.matrix(pval.dist)"
   ]
  },
  {
   "cell_type": "code",
   "execution_count": null,
   "metadata": {
    "collapsed": false
   },
   "outputs": [],
   "source": [
    "%%R\n",
    "library(ape)"
   ]
  },
  {
   "cell_type": "code",
   "execution_count": null,
   "metadata": {
    "collapsed": false
   },
   "outputs": [],
   "source": [
    "%%R\n",
    "\n",
    "na = filter(d2, is.na(Rank3))\n",
    "rest = filter(d2, !is.na(Rank3))\n",
    "na$group = \"Unclassified\"\n",
    "rest$group = rest$Rank3\n",
    "g = rbind(na, rest)"
   ]
  },
  {
   "cell_type": "code",
   "execution_count": null,
   "metadata": {
    "collapsed": false
   },
   "outputs": [],
   "source": [
    "%%R\n",
    "head(g)"
   ]
  },
  {
   "cell_type": "code",
   "execution_count": null,
   "metadata": {
    "collapsed": false
   },
   "outputs": [],
   "source": [
    "%%R -w 800 -h 600\n",
    "\n",
    "#my_palette <- colorRampPalette(c(\"red\", \"yellow\", \"green\"))(n = 299)\n",
    "\n",
    "\n",
    "asNumeric = function(x) { as.numeric(as.character(x)) }\n",
    "p2 = ggplot(g, aes(x = asNumeric(tsne_1), y = asNumeric(tsne_2)))\n",
    "#p = p + geom_point(data = subset(d2, padj <= 0.10), shape = 20, size = 6)\n",
    "p2 = p2 + geom_point(aes(fill = group, color = group, alpha = 0.85), pch = 21, size = 2.5) +\n",
    "    guides(alpha = FALSE, fill=guide_legend(override.aes=list(size=5))) +\n",
    "    guides(colour=FALSE)\n",
    "\n",
    "colourCount = length(unique(g$group)) + 1\n",
    "getPalette = colorRampPalette(brewer.pal(10, \"Set1\"))\n",
    "p2 = p2 + scale_color_manual(values = getPalette(colourCount))\n",
    "p2 = p2 + scale_fill_manual(values = getPalette(colourCount), name = \"Class\")+ theme(text = element_text(size=18)) \n",
    "\n",
    "#p = p  + geom_point(data = subset(d2, Rank3 %in% c('unclassified', 'unidentified')), color = \"black\", size = 2)\n",
    "p2 = p2 + theme(legend.position= \"bottom\") + guides(fill=guide_legend(ncol=6))\n",
    "#p2 = p2 + guides(fill = FALSE)\n",
    "\n",
    "\n",
    "\n",
    "\n",
    "p2 = p2 + xlab(\"tsne1\") + ylab(\"tsne2\") +  guides(color=FALSE) \n",
    "\n",
    "\n",
    "p2   "
   ]
  },
  {
   "cell_type": "code",
   "execution_count": null,
   "metadata": {
    "collapsed": false
   },
   "outputs": [],
   "source": [
    "%%R\n",
    "tiff(\"data/figs/tnse.combo.tiff\", res = 75, )\n",
    "grid.arrange(p, p2, ncol=2)\n",
    "dev.off()"
   ]
  },
  {
   "cell_type": "code",
   "execution_count": null,
   "metadata": {
    "collapsed": false
   },
   "outputs": [],
   "source": [
    "%%R -w 800 -h 600\n",
    "\n",
    "#my_palette <- colorRampPalette(c(\"red\", \"yellow\", \"green\"))(n = 299)\n",
    "\n",
    "\n",
    "asNumeric = function(x) { as.numeric(as.character(x)) }\n",
    "p = ggplot(g, aes(x = asNumeric(tsne_1), y = asNumeric(tsne_2)))\n",
    "p = p + geom_point(data = subset(d2, padj <= 0.10), shape = 20, size = 7)\n",
    "p = p + geom_point(aes(fill = group, color = group), pch = 21, size = 2.5) +\n",
    "    guides(alpha = FALSE, fill=guide_legend(override.aes=list(size=6))) +\n",
    "    #scale_fill_gradient(limits = c(0, 1), low=\"blue\",high=\"green\") + \n",
    "    #scale_colour_gradient(limits = c(0, 1), low=\"blue\", high=\"green\", name = \"adjusted p-value\") +\n",
    "    guides(colour=FALSE)\n",
    "\n",
    "colourCount = length(unique(d2$Rank3)) + 1\n",
    "getPalette = colorRampPalette(brewer.pal(10, \"Set1\"))\n",
    "p = p + scale_color_manual(values = getPalette(colourCount))\n",
    "p = p + scale_fill_manual(values = getPalette(colourCount), name = \"Class\")+ theme(text = element_text(size=18)) \n",
    "\n",
    "#p = p  + geom_point(data = subset(d2, Rank3 %in% c('unclassified', 'unidentified')), color = \"black\", size = 2)\n",
    "\n",
    "\n",
    "\n",
    "\n",
    "p = p + xlab(\"tsne1\") + ylab(\"tsne2\") +  guides(color=FALSE) \n",
    "\n",
    "\n",
    "p     "
   ]
  },
  {
   "cell_type": "code",
   "execution_count": null,
   "metadata": {
    "collapsed": false
   },
   "outputs": [],
   "source": [
    "%%R -w 800 -h 600\n",
    "resp = filter(d2, padj <= 0.10)\n",
    "\n",
    "asNumeric = function(x) { as.numeric(as.character(x)) }\n",
    "p = ggplot(resp, aes(x = asNumeric(tsne_1), y = asNumeric(tsne_2)))+\n",
    "    geom_point(aes(fill = as.factor(Day), color = as.factor(Day), alpha = 0.85), pch = 21) +\n",
    "    guides(alpha = FALSE, fill=guide_legend(override.aes=list(size=6))) +\n",
    "    #scale_fill_gradient(limits = c(0, 1), low=\"blue\",high=\"green\") + \n",
    "    #scale_colour_gradient(limits = c(0, 1), low=\"blue\", high=\"green\", name = \"adjusted p-value\") +\n",
    "    guides(fill=FALSE)\n",
    "\n",
    "p = p + xlab(\"tsne1\") + ylab(\"tsne2\")\n",
    "\n",
    "\n",
    "p     \n"
   ]
  },
  {
   "cell_type": "code",
   "execution_count": null,
   "metadata": {
    "collapsed": false
   },
   "outputs": [],
   "source": [
    "%%R\n",
    "ggsave(\"data/figs/tnseFig.jpg\", p, height = 5, width = 7)"
   ]
  },
  {
   "cell_type": "code",
   "execution_count": null,
   "metadata": {
    "collapsed": false
   },
   "outputs": [],
   "source": [
    "%%R -w 800 -h 300\n",
    "\n",
    "dcounts = d2 %>%\n",
    "          group_by(Day,Rank2) %>%\n",
    "          summarize(responders = sum(padj<= 0.10)) \n",
    "\n",
    "dcounts = filter(dcounts, responders !=0)          \n",
    "dcounts$Rank2[is.na(dcounts$Rank2)] = \"p__unidentified\"\n",
    "\n",
    "p2 = ggplot(dcounts, aes(x = Rank2 , y = responders, fill = Rank2)) +\n",
    "    facet_grid(. ~ Day, scales = \"free_x\", space = \"free\") +\n",
    "    geom_bar(stat = \"identity\") +\n",
    "    xlab(\"Phyla\") + ylab(\"responder count\") +\n",
    "    scale_x_discrete(breaks=NULL) +\n",
    "    scale_fill_discrete(name = \"Phyla\", labels = c(\"Ascomycota\", \"Basidiomycota\", \"Unidentified\"))\n",
    "                        \n",
    "\n",
    "p2"
   ]
  },
  {
   "cell_type": "code",
   "execution_count": null,
   "metadata": {
    "collapsed": false
   },
   "outputs": [],
   "source": [
    "%%R\n",
    "ggsave(\"data/figs/responderCounts.jpg\", p2, height = 3, width = 8)"
   ]
  },
  {
   "cell_type": "code",
   "execution_count": null,
   "metadata": {
    "collapsed": false
   },
   "outputs": [],
   "source": [
    "%%R\n",
    "tail(filter(d2, Rank2 == \"p__unidentified\"))"
   ]
  },
  {
   "cell_type": "code",
   "execution_count": null,
   "metadata": {
    "collapsed": false
   },
   "outputs": [],
   "source": [
    "%%R -w 1000 -h 300\n",
    "\n",
    "dcounts = d2 %>%\n",
    "          group_by(Day,Rank3) %>%\n",
    "          summarize(responders = sum(padj<= 0.10)) \n",
    "\n",
    "dcounts = filter(dcounts, responders !=0)          \n",
    "\n",
    "\n",
    "p = ggplot(dcounts, aes(x = Rank3 , y = responders, fill = Rank3)) +\n",
    "    facet_grid(. ~ Day, scales = \"free_x\", space = \"free\") +\n",
    "    geom_bar(stat = \"identity\")\n",
    "\n",
    "p"
   ]
  },
  {
   "cell_type": "code",
   "execution_count": null,
   "metadata": {
    "collapsed": false
   },
   "outputs": [],
   "source": [
    "%%R\n",
    "head(dcounts)"
   ]
  },
  {
   "cell_type": "code",
   "execution_count": null,
   "metadata": {
    "collapsed": false
   },
   "outputs": [],
   "source": [
    "%%R\n",
    "d3 = filter(d2, padj <=0.10)\n",
    "d3$tsne_1 = asNumeric(d3$tsne_1)\n",
    "d3$tsne_2 = asNumeric(d3$tsne_2)\n",
    "d3 = filter(d3, tsne_1 > 19)\n",
    "d3 = filter(d3, tsne_2 > 7)\n",
    "d3 = filter(d3, tsne_2 <13)"
   ]
  },
  {
   "cell_type": "code",
   "execution_count": null,
   "metadata": {
    "collapsed": false
   },
   "outputs": [],
   "source": [
    "%%R\n",
    "length(d3$OTU)"
   ]
  },
  {
   "cell_type": "code",
   "execution_count": null,
   "metadata": {
    "collapsed": false
   },
   "outputs": [],
   "source": [
    "%%R -w 600 -h 600\n",
    "\n",
    "my_palette <- colorRampPalette(c(\"red\", \"yellow\", \"green\"))(n =299)\n",
    "\n",
    "\n",
    "asNumeric = function(x) { as.numeric(as.character(x)) }\n",
    "p = ggplot(d3, aes(x = asNumeric(tsne_1), y = asNumeric(tsne_2)))+\n",
    "    geom_point(aes(fill = padj, color = padj, alpha = 0.85), pch = 21) +\n",
    "    guides(alpha = FALSE, fill=guide_legend(override.aes=list(size=6))) +\n",
    "    scale_fill_gradient(low=\"red\",high=\"yellow\") + scale_colour_gradient(low=\"red\",high=\"yellow\") +\n",
    "    guides(fill=FALSE)\n",
    "\n",
    "\n",
    "p     "
   ]
  },
  {
   "cell_type": "code",
   "execution_count": null,
   "metadata": {
    "collapsed": false
   },
   "outputs": [],
   "source": [
    "%%R\n",
    "OTUs = d3$OTU "
   ]
  },
  {
   "cell_type": "code",
   "execution_count": null,
   "metadata": {
    "collapsed": false
   },
   "outputs": [],
   "source": [
    "%%R\n",
    "counts = filter(d, OTU %in% OTUs)"
   ]
  },
  {
   "cell_type": "code",
   "execution_count": null,
   "metadata": {
    "collapsed": false
   },
   "outputs": [],
   "source": [
    "%%R\n",
    "head(dcounts)"
   ]
  },
  {
   "cell_type": "code",
   "execution_count": null,
   "metadata": {
    "collapsed": false
   },
   "outputs": [],
   "source": [
    "%%R\n",
    "\n",
    "dcounts = d3 %>%\n",
    "          group_by(Day,Rank6) %>%\n",
    "          summarize(responders = sum(padj<= 0.10))\n",
    "\n",
    "p = ggplot(dcounts, aes(x = Rank6 , y = responders, fill = Rank6)) +\n",
    "    facet_grid(. ~ Day, scales = \"free_x\", space = \"free\") +\n",
    "    geom_bar(stat = \"identity\")\n",
    "\n",
    "\n",
    "#px = ggplot(d, aes(x = factor(Day), y = responders, fill = RNA_DNA))\n",
    "\n",
    "#px = px + facet_grid(. ~ Day, scales = \"free_x\", space = \"free\")\n",
    "\n",
    "#px = px + geom_bar(stat = \"identity\", position = \"dodge\")\n",
    "\n",
    "    #geom_point(aes(fill = padj, color = padj, alpha = 0.85), pch = 21) +\n",
    "    #uides(alpha = FALSE, fill=guide_legend(override.aes=list(size=6))) +\n",
    "    #scale_fill_gradient(low=\"red\",high=\"yellow\") + scale_colour_gradient(low=\"red\",high=\"yellow\") +\n",
    "    #guides(fill=FALSE)\n",
    "p"
   ]
  },
  {
   "cell_type": "code",
   "execution_count": null,
   "metadata": {
    "collapsed": false
   },
   "outputs": [],
   "source": [
    "%%R\n",
    "head(d3)"
   ]
  },
  {
   "cell_type": "markdown",
   "metadata": {},
   "source": [
    "###Blasting vs. Living Tree Project for Responders"
   ]
  },
  {
   "cell_type": "code",
   "execution_count": null,
   "metadata": {
    "collapsed": false
   },
   "outputs": [],
   "source": [
    "%%R\n",
    "resp = filter(d2, padj<=0.10)"
   ]
  },
  {
   "cell_type": "code",
   "execution_count": null,
   "metadata": {
    "collapsed": false
   },
   "outputs": [],
   "source": [
    "%%R\n",
    "q = arrange(resp, padj)\n",
    "OTU = unique(q$OTU)\n",
    "length(OTU)"
   ]
  },
  {
   "cell_type": "code",
   "execution_count": null,
   "metadata": {
    "collapsed": false
   },
   "outputs": [],
   "source": [
    "%%R\n",
    "head(OTU, n = 10)"
   ]
  },
  {
   "cell_type": "code",
   "execution_count": null,
   "metadata": {
    "collapsed": true
   },
   "outputs": [],
   "source": [
    "from Bio.Blast.Applications import NcbiblastnCommandline as blast"
   ]
  },
  {
   "cell_type": "code",
   "execution_count": null,
   "metadata": {
    "collapsed": true
   },
   "outputs": [],
   "source": [
    "from cogent import LoadSeqs, DNA"
   ]
  },
  {
   "cell_type": "code",
   "execution_count": null,
   "metadata": {
    "collapsed": true
   },
   "outputs": [],
   "source": [
    "%%bash\n",
    "formatdb -i /home/chantal/FungalSIP/data/tmp/db/its_12_11_otus/rep_set/97_otus.fasta -p F"
   ]
  },
  {
   "cell_type": "code",
   "execution_count": null,
   "metadata": {
    "collapsed": false
   },
   "outputs": [],
   "source": [
    "OTU_ids = [\"OTU.98\", \"OTU.49\", \"OTU.53\", \"OTU.90\", \"OTU.279\", \"OTU.6893\", \"OTU.460\", \"OTU.6893\"]\n",
    "seqs = LoadSeqs(\"/home/chantal/FungalSIP/data/otusn.fasta\", moltype=DNA, aligned=False)\n",
    "seqs = seqs.takeSeqs(OTU_ids).toFasta()\n",
    "print seqs"
   ]
  },
  {
   "cell_type": "code",
   "execution_count": null,
   "metadata": {
    "collapsed": true
   },
   "outputs": [],
   "source": [
    "my_file = open(\"seqs.fasta\", \"w\")\n",
    "my_file.write(seqs)\n",
    "my_file.close()"
   ]
  },
  {
   "cell_type": "code",
   "execution_count": null,
   "metadata": {
    "collapsed": false
   },
   "outputs": [],
   "source": [
    "cline = blast(query = \"seqs.fasta\",\n",
    "              db = \"/home/chantal/FungalSIP/data/tmp/db/its_12_11_otus/rep_set/97_otus.fasta\",\n",
    "              outfmt = 6,\n",
    "              out = \"otusn_silvaRefNR115.m6\",\n",
    "              num_threads = 5)\n",
    "print cline\n",
    "cline()"
   ]
  },
  {
   "cell_type": "code",
   "execution_count": null,
   "metadata": {
    "collapsed": false
   },
   "outputs": [],
   "source": [
    "!head -n1 otusn_silvaRefNR115.m6\n",
    "!wc -l otusn_silvaRefNR115.m6\n",
    "! grep -c \"OTU.279\" otusn_silvaRefNR115.m6"
   ]
  },
  {
   "cell_type": "code",
   "execution_count": null,
   "metadata": {
    "collapsed": false
   },
   "outputs": [],
   "source": [
    "from IPython.display import Image\n",
    "import pandas.rpy.common as com"
   ]
  },
  {
   "cell_type": "code",
   "execution_count": null,
   "metadata": {
    "collapsed": false
   },
   "outputs": [],
   "source": [
    "%%R\n",
    "library(data.table)\n",
    "library(dplyr)"
   ]
  },
  {
   "cell_type": "code",
   "execution_count": null,
   "metadata": {
    "collapsed": true
   },
   "outputs": [],
   "source": [
    "%%R\n",
    "blastout_dt = fread(\"otusn_silvaRefNR115.m6\")\n",
    "blastout_df = tbl_df(blastout_dt)\n",
    "colnames(blastout_df) = c(\"OTU\",\n",
    "                        \"acc\",\n",
    "                        \"pid\",\n",
    "                        \"aln.length\",\n",
    "                        \"mismatches\",\n",
    "                        \"gapOpenCount\",\n",
    "                        \"qstart\",\n",
    "                        \"qend\",\n",
    "                        \"sstart\",\n",
    "                        \"send\",\n",
    "                        \"e.value\",\n",
    "                        \"bit.score\")\n",
    "\n",
    "top_hits_df_LTP = blastout_df %>% \n",
    "                          group_by(OTU) %>% \n",
    "                          mutate(Rank = rank(desc(bit.score), ties.method = \"min\")) #%>% \n",
    "                          #filter(pid > 97.0) %>%\n",
    "                          #filter(e.value < 5.0e-180) %>%\n",
    "                          #filter(acc %in% c('AM286414', 'AB428568', 'EU877263', 'EF575565', 'EF494193', 'X82449'))"
   ]
  },
  {
   "cell_type": "code",
   "execution_count": null,
   "metadata": {
    "collapsed": false
   },
   "outputs": [],
   "source": [
    "%%R\n",
    "print(head(top_hits_df_LTP))\n",
    "str(top_hits_df_LTP$OTU)"
   ]
  },
  {
   "cell_type": "code",
   "execution_count": null,
   "metadata": {
    "collapsed": false
   },
   "outputs": [],
   "source": [
    "! head data/tmp/db/its_12_11_otus/taxonomy/otu_taxonomy.txt"
   ]
  },
  {
   "cell_type": "code",
   "execution_count": null,
   "metadata": {
    "collapsed": false
   },
   "outputs": [],
   "source": [
    "%%R\n",
    "dt = fread(\"data/tmp/db/its_12_11_otus/taxonomy/97_otu_taxonomy.txt\", sep = \";\", header = FALSE)\n",
    "dat1 <- data.frame(do.call(rbind, strsplit(as.vector(dt$V1), split = \"\\t\")))\n",
    "dt <- cbind(dat1, dt)\n",
    "dt$V1 = NULL\n",
    "colnames(dt) = c(\"acc\",\"Kingdom\",\"Phylum\",\"Class\",\"Order\",\"Family\",\"Genus\", \"Species\")\n",
    "ITS_seq_data = tbl_df(dt)\n",
    "head(dt)"
   ]
  },
  {
   "cell_type": "code",
   "execution_count": null,
   "metadata": {
    "collapsed": false
   },
   "outputs": [],
   "source": [
    "%%R\n",
    "joined_df = left_join(top_hits_df_LTP, ITS_seq_data)"
   ]
  },
  {
   "cell_type": "code",
   "execution_count": null,
   "metadata": {
    "collapsed": false
   },
   "outputs": [],
   "source": [
    "%%R\n",
    "head(joined_df)"
   ]
  },
  {
   "cell_type": "code",
   "execution_count": null,
   "metadata": {
    "collapsed": false
   },
   "outputs": [],
   "source": [
    "%%R\n",
    "joined_df = filter(joined_df, name != \"NA\")"
   ]
  },
  {
   "cell_type": "code",
   "execution_count": null,
   "metadata": {
    "collapsed": false
   },
   "outputs": [],
   "source": [
    "%%R\n",
    "dim(joined_df)"
   ]
  },
  {
   "cell_type": "code",
   "execution_count": null,
   "metadata": {
    "collapsed": false
   },
   "outputs": [],
   "source": [
    "%%R\n",
    "head(joined_df)"
   ]
  },
  {
   "cell_type": "code",
   "execution_count": null,
   "metadata": {
    "collapsed": true
   },
   "outputs": [],
   "source": [
    "df = com.load_data(\"joined_df\")"
   ]
  },
  {
   "cell_type": "code",
   "execution_count": null,
   "metadata": {
    "collapsed": true
   },
   "outputs": [],
   "source": [
    "def get_latex(df):\n",
    "    latex = \"\"\n",
    "    prefix = r\"\\multirow{%s}{*}{%s}\"%(len(df.index), df.OTU.iloc[0])\n",
    "    for i, r in df[[\"Genus\", \"Species\",\"pid\",\"acc\"]].iterrows():\n",
    "        latex += \" & \" + \" & \".join([str(i) for i in r.values]) + r\" \\\\ \"\n",
    "    return prefix + latex + r\"\\midrule\" + \"\\n\""
   ]
  },
  {
   "cell_type": "code",
   "execution_count": null,
   "metadata": {
    "collapsed": false
   },
   "outputs": [],
   "source": [
    "s = df.groupby(\"OTU\").apply(get_latex)\n",
    "\n",
    "table_framework = r\"\"\"\n",
    "\\documentclass[11pt]{article}\n",
    "\\usepackage{multirow, array, booktabs}\n",
    "\\begin{document}\n",
    "\n",
    "\\thispagestyle{empty}\n",
    " \n",
    "\\begin{table}[ht]\n",
    "\\caption{$^{13}$C RNA responders BLAST against Living Tree Project}\n",
    "\\begin{center}\n",
    "\\begin{tabular}{l>{\\itshape}lrl}\n",
    "    \\toprule \\\\\n",
    "    \\textbf{OTU ID} & \\textbf{Species Name} & \\textbf{BLAST percent identity} & \\textbf{accession} \\\\\n",
    "    \\midrule\n",
    "    %s\n",
    "    \\bottomrule\n",
    "\\end{tabular}\n",
    "\\end{center}\n",
    "\\label{tab:multicol}\n",
    "\\end{table}\n",
    " \n",
    "\\end{document}\"\"\"%\"\".join(s.values)\n",
    "\n",
    "with open(\"data/table.tex\", \"w\") as out:\n",
    "    out.write(table_framework)"
   ]
  },
  {
   "cell_type": "code",
   "execution_count": null,
   "metadata": {
    "collapsed": false
   },
   "outputs": [],
   "source": [
    "!latex -output-directory=\"data/tmp\" data/tmp/table.tex >/dev/null 2>&1 && \\\n",
    "dvipng -o data/table.png data/tmp/table.dvi >/dev/null 2>&1\n",
    "Image(\"data/table.png\")"
   ]
  }
 ],
 "metadata": {
  "kernelspec": {
   "display_name": "Python 2",
   "language": "python",
   "name": "python2"
  },
  "language_info": {
   "codemirror_mode": {
    "name": "ipython",
    "version": 2
   },
   "file_extension": ".py",
   "mimetype": "text/x-python",
   "name": "python",
   "nbconvert_exporter": "python",
   "pygments_lexer": "ipython2",
   "version": "2.7.10"
  }
 },
 "nbformat": 4,
 "nbformat_minor": 0
}
